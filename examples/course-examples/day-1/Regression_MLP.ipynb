{
  "cells": [
    {
      "cell_type": "markdown",
      "metadata": {
        "colab_type": "text",
        "id": "view-in-github"
      },
      "source": [
        "<!--<badge>--><a href=\"https://colab.research.google.com/github/softmatterlab/DeepTrack-2.0/blob/develop/examples/paper-examples/1-MNIST.ipynb\" target=\"_parent\"><img src=\"https://colab.research.google.com/assets/colab-badge.svg\" alt=\"Open In Colab\"/></a><!--</badge>-->"
      ]
    },
    {
      "cell_type": "code",
      "execution_count": 1,
      "metadata": {
        "colab": {
          "base_uri": "https://localhost:8080/",
          "height": 726
        },
        "execution": {
          "iopub.execute_input": "2022-04-01T16:23:15.611783Z",
          "iopub.status.busy": "2022-04-01T16:23:15.611283Z",
          "iopub.status.idle": "2022-04-01T16:23:15.865781Z",
          "shell.execute_reply": "2022-04-01T16:23:15.866282Z"
        },
        "id": "JyKWxC2dwBwx",
        "outputId": "9c1872fe-807a-42ce-e213-2cc4373cc946"
      },
      "outputs": [
        {
          "name": "stdout",
          "output_type": "stream",
          "text": [
            "Requirement already satisfied: deeptrack in c:\\users\\gu\\appdata\\local\\programs\\python\\python310\\lib\\site-packages (1.3.3)\n",
            "Requirement already satisfied: tensorflow-probability in c:\\users\\gu\\appdata\\local\\programs\\python\\python310\\lib\\site-packages (from deeptrack) (0.17.0)\n",
            "Requirement already satisfied: pydeepimagej in c:\\users\\gu\\appdata\\local\\programs\\python\\python310\\lib\\site-packages (from deeptrack) (1.1.0)\n",
            "Requirement already satisfied: tensorflow in c:\\users\\gu\\appdata\\local\\programs\\python\\python310\\lib\\site-packages (from deeptrack) (2.10.0)\n",
            "Requirement already satisfied: numpy in c:\\users\\gu\\appdata\\local\\programs\\python\\python310\\lib\\site-packages (from deeptrack) (1.23.0)\n",
            "Requirement already satisfied: scipy in c:\\users\\gu\\appdata\\local\\programs\\python\\python310\\lib\\site-packages (from deeptrack) (1.8.1)\n",
            "Requirement already satisfied: pint in c:\\users\\gu\\appdata\\local\\programs\\python\\python310\\lib\\site-packages (from deeptrack) (0.19.2)\n",
            "Requirement already satisfied: scikit-image>=0.18.0 in c:\\users\\gu\\appdata\\local\\programs\\python\\python310\\lib\\site-packages (from deeptrack) (0.19.3)\n",
            "Requirement already satisfied: more-itertools in c:\\users\\gu\\appdata\\local\\programs\\python\\python310\\lib\\site-packages (from deeptrack) (8.13.0)\n",
            "Requirement already satisfied: tqdm in c:\\users\\gu\\appdata\\local\\programs\\python\\python310\\lib\\site-packages (from deeptrack) (4.64.0)\n",
            "Requirement already satisfied: tensorflow-addons in c:\\users\\gu\\appdata\\local\\programs\\python\\python310\\lib\\site-packages (from deeptrack) (0.17.1)\n",
            "Requirement already satisfied: pandas in c:\\users\\gu\\appdata\\local\\programs\\python\\python310\\lib\\site-packages (from deeptrack) (1.4.3)\n",
            "Requirement already satisfied: PyWavelets>=1.1.1 in c:\\users\\gu\\appdata\\local\\programs\\python\\python310\\lib\\site-packages (from scikit-image>=0.18.0->deeptrack) (1.3.0)\n",
            "Requirement already satisfied: tifffile>=2019.7.26 in c:\\users\\gu\\appdata\\local\\programs\\python\\python310\\lib\\site-packages (from scikit-image>=0.18.0->deeptrack) (2022.5.4)\n",
            "Requirement already satisfied: networkx>=2.2 in c:\\users\\gu\\appdata\\local\\programs\\python\\python310\\lib\\site-packages (from scikit-image>=0.18.0->deeptrack) (2.8.4)\n",
            "Requirement already satisfied: packaging>=20.0 in c:\\users\\gu\\appdata\\local\\programs\\python\\python310\\lib\\site-packages (from scikit-image>=0.18.0->deeptrack) (21.3)\n",
            "Requirement already satisfied: imageio>=2.4.1 in c:\\users\\gu\\appdata\\local\\programs\\python\\python310\\lib\\site-packages (from scikit-image>=0.18.0->deeptrack) (2.19.3)\n",
            "Requirement already satisfied: pillow!=7.1.0,!=7.1.1,!=8.3.0,>=6.1.0 in c:\\users\\gu\\appdata\\local\\programs\\python\\python310\\lib\\site-packages (from scikit-image>=0.18.0->deeptrack) (9.1.1)\n",
            "Requirement already satisfied: pytz>=2020.1 in c:\\users\\gu\\appdata\\local\\programs\\python\\python310\\lib\\site-packages (from pandas->deeptrack) (2022.1)\n",
            "Requirement already satisfied: python-dateutil>=2.8.1 in c:\\users\\gu\\appdata\\local\\programs\\python\\python310\\lib\\site-packages (from pandas->deeptrack) (2.8.2)\n",
            "Requirement already satisfied: absl-py>=1.0.0 in c:\\users\\gu\\appdata\\local\\programs\\python\\python310\\lib\\site-packages (from tensorflow->deeptrack) (1.1.0)\n",
            "Requirement already satisfied: keras-preprocessing>=1.1.1 in c:\\users\\gu\\appdata\\local\\programs\\python\\python310\\lib\\site-packages (from tensorflow->deeptrack) (1.1.2)\n",
            "Requirement already satisfied: tensorflow-io-gcs-filesystem>=0.23.1 in c:\\users\\gu\\appdata\\local\\programs\\python\\python310\\lib\\site-packages (from tensorflow->deeptrack) (0.26.0)\n",
            "Requirement already satisfied: flatbuffers>=2.0 in c:\\users\\gu\\appdata\\local\\programs\\python\\python310\\lib\\site-packages (from tensorflow->deeptrack) (2.0.7)\n",
            "Requirement already satisfied: h5py>=2.9.0 in c:\\users\\gu\\appdata\\local\\programs\\python\\python310\\lib\\site-packages (from tensorflow->deeptrack) (3.7.0)\n",
            "Requirement already satisfied: grpcio<2.0,>=1.24.3 in c:\\users\\gu\\appdata\\local\\programs\\python\\python310\\lib\\site-packages (from tensorflow->deeptrack) (1.47.0)\n",
            "Requirement already satisfied: gast<=0.4.0,>=0.2.1 in c:\\users\\gu\\appdata\\local\\programs\\python\\python310\\lib\\site-packages (from tensorflow->deeptrack) (0.4.0)\n",
            "Requirement already satisfied: tensorflow-estimator<2.11,>=2.10.0 in c:\\users\\gu\\appdata\\local\\programs\\python\\python310\\lib\\site-packages (from tensorflow->deeptrack) (2.10.0)\n",
            "Requirement already satisfied: opt-einsum>=2.3.2 in c:\\users\\gu\\appdata\\local\\programs\\python\\python310\\lib\\site-packages (from tensorflow->deeptrack) (3.3.0)\n",
            "Requirement already satisfied: google-pasta>=0.1.1 in c:\\users\\gu\\appdata\\local\\programs\\python\\python310\\lib\\site-packages (from tensorflow->deeptrack) (0.2.0)\n",
            "Requirement already satisfied: six>=1.12.0 in c:\\users\\gu\\appdata\\local\\programs\\python\\python310\\lib\\site-packages (from tensorflow->deeptrack) (1.16.0)\n",
            "Requirement already satisfied: protobuf<3.20,>=3.9.2 in c:\\users\\gu\\appdata\\local\\programs\\python\\python310\\lib\\site-packages (from tensorflow->deeptrack) (3.19.4)\n",
            "Requirement already satisfied: wrapt>=1.11.0 in c:\\users\\gu\\appdata\\local\\programs\\python\\python310\\lib\\site-packages (from tensorflow->deeptrack) (1.14.1)\n",
            "Requirement already satisfied: tensorboard<2.11,>=2.10 in c:\\users\\gu\\appdata\\local\\programs\\python\\python310\\lib\\site-packages (from tensorflow->deeptrack) (2.10.0)\n",
            "Requirement already satisfied: astunparse>=1.6.0 in c:\\users\\gu\\appdata\\local\\programs\\python\\python310\\lib\\site-packages (from tensorflow->deeptrack) (1.6.3)\n",
            "Requirement already satisfied: termcolor>=1.1.0 in c:\\users\\gu\\appdata\\local\\programs\\python\\python310\\lib\\site-packages (from tensorflow->deeptrack) (1.1.0)\n",
            "Requirement already satisfied: typing-extensions>=3.6.6 in c:\\users\\gu\\appdata\\local\\programs\\python\\python310\\lib\\site-packages (from tensorflow->deeptrack) (4.2.0)\n",
            "Requirement already satisfied: setuptools in c:\\users\\gu\\appdata\\local\\programs\\python\\python310\\lib\\site-packages (from tensorflow->deeptrack) (65.2.0)\n",
            "Requirement already satisfied: libclang>=13.0.0 in c:\\users\\gu\\appdata\\local\\programs\\python\\python310\\lib\\site-packages (from tensorflow->deeptrack) (14.0.1)\n",
            "Requirement already satisfied: keras<2.11,>=2.10.0 in c:\\users\\gu\\appdata\\local\\programs\\python\\python310\\lib\\site-packages (from tensorflow->deeptrack) (2.10.0)\n",
            "Requirement already satisfied: typeguard>=2.7 in c:\\users\\gu\\appdata\\local\\programs\\python\\python310\\lib\\site-packages (from tensorflow-addons->deeptrack) (2.13.3)\n",
            "Requirement already satisfied: cloudpickle>=1.3 in c:\\users\\gu\\appdata\\local\\programs\\python\\python310\\lib\\site-packages (from tensorflow-probability->deeptrack) (2.1.0)\n",
            "Requirement already satisfied: decorator in c:\\users\\gu\\appdata\\local\\programs\\python\\python310\\lib\\site-packages (from tensorflow-probability->deeptrack) (5.1.1)\n",
            "Requirement already satisfied: dm-tree in c:\\users\\gu\\appdata\\local\\programs\\python\\python310\\lib\\site-packages (from tensorflow-probability->deeptrack) (0.1.7)\n",
            "Requirement already satisfied: colorama in c:\\users\\gu\\appdata\\local\\programs\\python\\python310\\lib\\site-packages (from tqdm->deeptrack) (0.4.5)\n",
            "Requirement already satisfied: wheel<1.0,>=0.23.0 in c:\\users\\gu\\appdata\\local\\programs\\python\\python310\\lib\\site-packages (from astunparse>=1.6.0->tensorflow->deeptrack) (0.37.1)\n",
            "Requirement already satisfied: pyparsing!=3.0.5,>=2.0.2 in c:\\users\\gu\\appdata\\local\\programs\\python\\python310\\lib\\site-packages (from packaging>=20.0->scikit-image>=0.18.0->deeptrack) (3.0.9)\n",
            "Requirement already satisfied: google-auth-oauthlib<0.5,>=0.4.1 in c:\\users\\gu\\appdata\\local\\programs\\python\\python310\\lib\\site-packages (from tensorboard<2.11,>=2.10->tensorflow->deeptrack) (0.4.6)\n",
            "Requirement already satisfied: werkzeug>=1.0.1 in c:\\users\\gu\\appdata\\local\\programs\\python\\python310\\lib\\site-packages (from tensorboard<2.11,>=2.10->tensorflow->deeptrack) (2.1.2)\n",
            "Requirement already satisfied: requests<3,>=2.21.0 in c:\\users\\gu\\appdata\\local\\programs\\python\\python310\\lib\\site-packages (from tensorboard<2.11,>=2.10->tensorflow->deeptrack) (2.28.0)\n",
            "Requirement already satisfied: tensorboard-data-server<0.7.0,>=0.6.0 in c:\\users\\gu\\appdata\\local\\programs\\python\\python310\\lib\\site-packages (from tensorboard<2.11,>=2.10->tensorflow->deeptrack) (0.6.1)\n",
            "Requirement already satisfied: tensorboard-plugin-wit>=1.6.0 in c:\\users\\gu\\appdata\\local\\programs\\python\\python310\\lib\\site-packages (from tensorboard<2.11,>=2.10->tensorflow->deeptrack) (1.8.1)\n",
            "Requirement already satisfied: google-auth<3,>=1.6.3 in c:\\users\\gu\\appdata\\local\\programs\\python\\python310\\lib\\site-packages (from tensorboard<2.11,>=2.10->tensorflow->deeptrack) (2.9.0)\n",
            "Requirement already satisfied: markdown>=2.6.8 in c:\\users\\gu\\appdata\\local\\programs\\python\\python310\\lib\\site-packages (from tensorboard<2.11,>=2.10->tensorflow->deeptrack) (3.3.7)\n",
            "Requirement already satisfied: cachetools<6.0,>=2.0.0 in c:\\users\\gu\\appdata\\local\\programs\\python\\python310\\lib\\site-packages (from google-auth<3,>=1.6.3->tensorboard<2.11,>=2.10->tensorflow->deeptrack) (5.2.0)\n",
            "Requirement already satisfied: rsa<5,>=3.1.4 in c:\\users\\gu\\appdata\\local\\programs\\python\\python310\\lib\\site-packages (from google-auth<3,>=1.6.3->tensorboard<2.11,>=2.10->tensorflow->deeptrack) (4.8)\n",
            "Requirement already satisfied: pyasn1-modules>=0.2.1 in c:\\users\\gu\\appdata\\local\\programs\\python\\python310\\lib\\site-packages (from google-auth<3,>=1.6.3->tensorboard<2.11,>=2.10->tensorflow->deeptrack) (0.2.8)\n",
            "Requirement already satisfied: requests-oauthlib>=0.7.0 in c:\\users\\gu\\appdata\\local\\programs\\python\\python310\\lib\\site-packages (from google-auth-oauthlib<0.5,>=0.4.1->tensorboard<2.11,>=2.10->tensorflow->deeptrack) (1.3.1)\n",
            "Requirement already satisfied: urllib3<1.27,>=1.21.1 in c:\\users\\gu\\appdata\\local\\programs\\python\\python310\\lib\\site-packages (from requests<3,>=2.21.0->tensorboard<2.11,>=2.10->tensorflow->deeptrack) (1.26.9)\n",
            "Requirement already satisfied: charset-normalizer~=2.0.0 in c:\\users\\gu\\appdata\\local\\programs\\python\\python310\\lib\\site-packages (from requests<3,>=2.21.0->tensorboard<2.11,>=2.10->tensorflow->deeptrack) (2.0.12)\n",
            "Requirement already satisfied: certifi>=2017.4.17 in c:\\users\\gu\\appdata\\local\\programs\\python\\python310\\lib\\site-packages (from requests<3,>=2.21.0->tensorboard<2.11,>=2.10->tensorflow->deeptrack) (2022.6.15)\n",
            "Requirement already satisfied: idna<4,>=2.5 in c:\\users\\gu\\appdata\\local\\programs\\python\\python310\\lib\\site-packages (from requests<3,>=2.21.0->tensorboard<2.11,>=2.10->tensorflow->deeptrack) (3.3)\n",
            "Requirement already satisfied: pyasn1<0.5.0,>=0.4.6 in c:\\users\\gu\\appdata\\local\\programs\\python\\python310\\lib\\site-packages (from pyasn1-modules>=0.2.1->google-auth<3,>=1.6.3->tensorboard<2.11,>=2.10->tensorflow->deeptrack) (0.4.8)\n",
            "Requirement already satisfied: oauthlib>=3.0.0 in c:\\users\\gu\\appdata\\local\\programs\\python\\python310\\lib\\site-packages (from requests-oauthlib>=0.7.0->google-auth-oauthlib<0.5,>=0.4.1->tensorboard<2.11,>=2.10->tensorflow->deeptrack) (3.2.0)\n"
          ]
        }
      ],
      "source": [
        "%matplotlib inline\n",
        "\n",
        "!pip install deeptrack"
      ]
    },
    {
      "cell_type": "code",
      "execution_count": 2,
      "metadata": {
        "colab": {
          "base_uri": "https://localhost:8080/"
        },
        "execution": {
          "iopub.execute_input": "2022-04-01T16:23:15.869781Z",
          "iopub.status.busy": "2022-04-01T16:23:15.869282Z",
          "iopub.status.idle": "2022-04-01T16:23:44.747286Z",
          "shell.execute_reply": "2022-04-01T16:23:44.747286Z"
        },
        "id": "PruubFzTwBw1",
        "outputId": "b5d6e3a3-e6e0-4899-b156-8bfcfaceb854"
      },
      "outputs": [
        {
          "name": "stderr",
          "output_type": "stream",
          "text": [
            "c:\\Users\\GU\\AppData\\Local\\Programs\\Python\\Python310\\lib\\site-packages\\tensorflow_addons\\utils\\ensure_tf_install.py:53: UserWarning: Tensorflow Addons supports using Python ops for all Tensorflow versions above or equal to 2.7.0 and strictly below 2.10.0 (nightly versions are not supported). \n",
            " The versions of TensorFlow you are currently using is 2.10.0 and is not supported. \n",
            "Some things might work, some things might not.\n",
            "If you were to encounter a bug, do not file an issue.\n",
            "If you want to make sure you're using a tested and supported configuration, either change the TensorFlow version or the TensorFlow Addons's version. \n",
            "You can find the compatibility matrix in TensorFlow Addon's readme:\n",
            "https://github.com/tensorflow/addons\n",
            "  warnings.warn(\n"
          ]
        }
      ],
      "source": [
        "import os\n",
        "import numpy as np\n",
        "import matplotlib.pyplot as plt\n",
        "import itertools\n",
        "import deeptrack as dt"
      ]
    },
    {
      "cell_type": "code",
      "execution_count": 3,
      "metadata": {},
      "outputs": [],
      "source": [
        "IMAGE_SIZE = 32\n",
        "RADIUS_MIN = 5\n",
        "RADIUS_MAX = 10"
      ]
    },
    {
      "cell_type": "code",
      "execution_count": 4,
      "metadata": {
        "execution": {
          "iopub.execute_input": "2022-04-01T16:23:44.752317Z",
          "iopub.status.busy": "2022-04-01T16:23:44.751788Z",
          "iopub.status.idle": "2022-04-01T16:23:44.754788Z",
          "shell.execute_reply": "2022-04-01T16:23:44.755288Z"
        },
        "id": "cDhx4-MfwBw5"
      },
      "outputs": [],
      "source": [
        "# Define the object \n",
        "disk = dt.Ellipse(\n",
        "    position=(IMAGE_SIZE / 2, IMAGE_SIZE / 2),\n",
        "    radius=lambda: np.random.uniform(RADIUS_MIN, RADIUS_MAX) * dt.units.px,\n",
        ")"
      ]
    },
    {
      "cell_type": "code",
      "execution_count": 5,
      "metadata": {},
      "outputs": [],
      "source": [
        "# Define the microscope\n",
        "optics = dt.Fluorescence(\n",
        "    magnification=5,\n",
        "    NA=0.9,\n",
        "    output_region=(0, 0, IMAGE_SIZE, IMAGE_SIZE),\n",
        ")"
      ]
    },
    {
      "cell_type": "code",
      "execution_count": 6,
      "metadata": {},
      "outputs": [],
      "source": [
        "# Define noise\n",
        "poisson_noise = dt.Poisson(snr=5)"
      ]
    },
    {
      "cell_type": "code",
      "execution_count": 7,
      "metadata": {},
      "outputs": [],
      "source": [
        "# Define normalization\n",
        "normalization = dt.NormalizeMinMax(0, 1)"
      ]
    },
    {
      "cell_type": "code",
      "execution_count": 8,
      "metadata": {},
      "outputs": [],
      "source": [
        "# Define pipeline\n",
        "simulation_pipeline = optics(disk) >> poisson_noise >> normalization"
      ]
    },
    {
      "cell_type": "code",
      "execution_count": 9,
      "metadata": {},
      "outputs": [
        {
          "data": {
            "text/plain": [
              "<AxesSubplot:>"
            ]
          },
          "execution_count": 9,
          "metadata": {},
          "output_type": "execute_result"
        },
        {
          "data": {
            "image/png": "[encoded data removed]",
            "text/plain": [
              "<Figure size 432x288 with 1 Axes>"
            ]
          },
          "metadata": {
            "needs_background": "light"
          },
          "output_type": "display_data"
        }
      ],
      "source": [
        "simulation_pipeline.update().plot(cmap=\"gray\")"
      ]
    },
    {
      "cell_type": "code",
      "execution_count": 10,
      "metadata": {},
      "outputs": [],
      "source": [
        "# Define label. Normalize to [0, 1] to make it easier for the network to learn\n",
        "label_pipeline = disk.radius"
      ]
    },
    {
      "cell_type": "code",
      "execution_count": 11,
      "metadata": {},
      "outputs": [],
      "source": [
        "# Combine pipeline and label\n",
        "dataset = simulation_pipeline & label_pipeline"
      ]
    },
    {
      "cell_type": "code",
      "execution_count": 12,
      "metadata": {
        "execution": {
          "iopub.execute_input": "2022-04-01T16:23:44.765286Z",
          "iopub.status.busy": "2022-04-01T16:23:44.764787Z",
          "iopub.status.idle": "2022-04-01T16:23:45.747786Z",
          "shell.execute_reply": "2022-04-01T16:23:45.748287Z"
        },
        "id": "RVHrnAIVwBxA"
      },
      "outputs": [
        {
          "name": "stdout",
          "output_type": "stream",
          "text": [
            "Label:  Image(array(5.10665067))\n"
          ]
        },
        {
          "data": {
            "image/png": "[encoded data removed]",
            "text/plain": [
              "<Figure size 432x288 with 1 Axes>"
            ]
          },
          "metadata": {
            "needs_background": "light"
          },
          "output_type": "display_data"
        }
      ],
      "source": [
        "# show examples\n",
        "dataset.update()\n",
        "image, label = dataset()\n",
        "\n",
        "print(\"Label: \", label)\n",
        "plt.imshow(image, cmap=\"gray\")\n",
        "plt.show()"
      ]
    },
    {
      "cell_type": "code",
      "execution_count": 13,
      "metadata": {},
      "outputs": [
        {
          "name": "stdout",
          "output_type": "stream",
          "text": [
            "Validation data shape:  (256, 32, 32, 1)\n",
            "Validation labels shape:  (256, 1)\n"
          ]
        }
      ],
      "source": [
        "# Create validation set\n",
        "validation_set_size = 256\n",
        "validation_data, validation_labels = zip(*[dataset.update()() for _ in range(validation_set_size)])\n",
        "\n",
        "validation_data = np.array(validation_data)\n",
        "validation_labels = np.array(validation_labels)[..., np.newaxis]\n",
        "\n",
        "print(\"Validation data shape: \", validation_data.shape)\n",
        "print(\"Validation labels shape: \", validation_labels.shape)"
      ]
    },
    {
      "cell_type": "markdown",
      "metadata": {
        "id": "VZ_HouVVwBxU"
      },
      "source": [
        "## 3. Defining the network\n",
        "\n",
        "The network used is a fully connected neural network. Here we define the network architecture, loss function and the optimizer."
      ]
    },
    {
      "cell_type": "code",
      "execution_count": 14,
      "metadata": {
        "execution": {
          "iopub.execute_input": "2022-04-01T16:23:45.828286Z",
          "iopub.status.busy": "2022-04-01T16:23:45.826787Z",
          "iopub.status.idle": "2022-04-01T16:23:46.449287Z",
          "shell.execute_reply": "2022-04-01T16:23:46.449287Z"
        },
        "id": "gW51WHQWwBxV"
      },
      "outputs": [],
      "source": [
        "model = dt.models.FullyConnected(\n",
        "    input_shape=(IMAGE_SIZE, IMAGE_SIZE, 1),\n",
        "    dense_layers_dimensions=(500, 500, 500),\n",
        "    number_of_outputs=1,\n",
        "    output_activation=\"linear\",\n",
        "    loss=\"mae\",\n",
        "    metrics=[\"mse\"],\n",
        "    optimizer=\"rmsprop\"\n",
        ")"
      ]
    },
    {
      "cell_type": "markdown",
      "metadata": {
        "id": "S8CAMVa9wBxX"
      },
      "source": [
        "## 4. Training the network"
      ]
    },
    {
      "cell_type": "code",
      "execution_count": 15,
      "metadata": {
        "colab": {
          "base_uri": "https://localhost:8080/"
        },
        "execution": {
          "iopub.execute_input": "2022-04-01T16:23:46.453787Z",
          "iopub.status.busy": "2022-04-01T16:23:46.453286Z",
          "iopub.status.idle": "2022-04-01T16:23:46.466786Z",
          "shell.execute_reply": "2022-04-01T16:23:46.466287Z"
        },
        "id": "E6AMOz11wBxX",
        "outputId": "7591bde6-0956-4386-c58c-83bc813c9805",
        "scrolled": true
      },
      "outputs": [
        {
          "name": "stdout",
          "output_type": "stream",
          "text": [
            "Generating 1001 / 1000 samples before starting training\n",
            "Epoch 1/200\n",
            "31/31 [==============================] - 2s 16ms/step - loss: 2.1682 - mse: 9.4094 - val_loss: 0.4444 - val_mse: 0.2896\n",
            "Epoch 2/200\n",
            "31/31 [==============================] - 0s 10ms/step - loss: 1.1816 - mse: 2.1098 - val_loss: 0.8230 - val_mse: 0.8478\n",
            "Epoch 3/200\n",
            "31/31 [==============================] - 0s 10ms/step - loss: 1.0735 - mse: 1.6660 - val_loss: 0.2481 - val_mse: 0.1068\n",
            "Epoch 4/200\n",
            "31/31 [==============================] - 0s 9ms/step - loss: 0.9165 - mse: 1.2130 - val_loss: 1.1999 - val_mse: 1.5552\n",
            "Epoch 5/200\n",
            "31/31 [==============================] - 0s 9ms/step - loss: 0.9191 - mse: 1.1994 - val_loss: 0.8896 - val_mse: 0.9141\n",
            "Epoch 6/200\n",
            "31/31 [==============================] - 0s 10ms/step - loss: 0.8527 - mse: 0.9694 - val_loss: 0.9519 - val_mse: 0.9891\n",
            "Epoch 7/200\n",
            "31/31 [==============================] - 0s 9ms/step - loss: 0.8173 - mse: 0.8623 - val_loss: 0.6445 - val_mse: 0.5314\n",
            "Epoch 8/200\n",
            "31/31 [==============================] - 0s 10ms/step - loss: 0.7622 - mse: 0.7655 - val_loss: 0.8395 - val_mse: 0.7868\n",
            "Epoch 9/200\n",
            "31/31 [==============================] - 0s 9ms/step - loss: 0.7208 - mse: 0.6807 - val_loss: 1.0288 - val_mse: 1.1862\n",
            "Epoch 10/200\n",
            "31/31 [==============================] - 0s 10ms/step - loss: 0.7144 - mse: 0.6690 - val_loss: 0.8217 - val_mse: 0.7479\n",
            "Epoch 11/200\n",
            "31/31 [==============================] - 0s 11ms/step - loss: 0.6923 - mse: 0.6266 - val_loss: 0.3536 - val_mse: 0.1850\n",
            "Epoch 12/200\n",
            "31/31 [==============================] - 0s 12ms/step - loss: 0.6556 - mse: 0.5604 - val_loss: 0.9774 - val_mse: 1.0587\n",
            "Epoch 13/200\n",
            "31/31 [==============================] - 0s 11ms/step - loss: 0.6462 - mse: 0.5261 - val_loss: 0.6957 - val_mse: 0.6091\n",
            "Epoch 14/200\n",
            "31/31 [==============================] - 0s 11ms/step - loss: 0.6283 - mse: 0.5048 - val_loss: 0.7976 - val_mse: 0.7006\n",
            "Epoch 15/200\n",
            "31/31 [==============================] - 0s 11ms/step - loss: 0.6106 - mse: 0.4788 - val_loss: 0.6072 - val_mse: 0.4410\n",
            "Epoch 16/200\n",
            "31/31 [==============================] - 0s 11ms/step - loss: 0.5981 - mse: 0.4758 - val_loss: 0.7253 - val_mse: 0.6140\n",
            "Epoch 17/200\n",
            "31/31 [==============================] - 0s 12ms/step - loss: 0.5913 - mse: 0.4516 - val_loss: 0.4101 - val_mse: 0.2336\n",
            "Epoch 18/200\n",
            "31/31 [==============================] - 0s 12ms/step - loss: 0.5770 - mse: 0.4288 - val_loss: 0.5552 - val_mse: 0.3627\n",
            "Epoch 19/200\n",
            "31/31 [==============================] - 0s 11ms/step - loss: 0.5559 - mse: 0.3982 - val_loss: 0.4180 - val_mse: 0.2493\n",
            "Epoch 20/200\n",
            "31/31 [==============================] - 0s 11ms/step - loss: 0.5425 - mse: 0.3842 - val_loss: 0.5109 - val_mse: 0.3142\n",
            "Epoch 21/200\n",
            "31/31 [==============================] - 0s 11ms/step - loss: 0.5247 - mse: 0.3630 - val_loss: 0.6309 - val_mse: 0.5117\n",
            "Epoch 22/200\n",
            "31/31 [==============================] - 0s 12ms/step - loss: 0.5430 - mse: 0.3793 - val_loss: 0.6847 - val_mse: 0.5317\n",
            "Epoch 23/200\n",
            "31/31 [==============================] - 0s 12ms/step - loss: 0.5028 - mse: 0.3338 - val_loss: 0.3948 - val_mse: 0.2213\n",
            "Epoch 24/200\n",
            "31/31 [==============================] - 0s 11ms/step - loss: 0.5287 - mse: 0.3593 - val_loss: 0.6366 - val_mse: 0.4703\n",
            "Epoch 25/200\n",
            "31/31 [==============================] - 0s 13ms/step - loss: 0.4979 - mse: 0.3260 - val_loss: 0.4492 - val_mse: 0.2564\n",
            "Epoch 26/200\n",
            "31/31 [==============================] - 0s 12ms/step - loss: 0.4886 - mse: 0.3248 - val_loss: 0.5256 - val_mse: 0.3490\n",
            "Epoch 27/200\n",
            "31/31 [==============================] - 0s 12ms/step - loss: 0.4952 - mse: 0.3244 - val_loss: 0.4599 - val_mse: 0.2757\n",
            "Epoch 28/200\n",
            "31/31 [==============================] - 0s 11ms/step - loss: 0.4701 - mse: 0.3015 - val_loss: 0.4503 - val_mse: 0.2599\n",
            "Epoch 29/200\n",
            "31/31 [==============================] - 0s 11ms/step - loss: 0.4659 - mse: 0.2933 - val_loss: 0.4984 - val_mse: 0.3179\n",
            "Epoch 30/200\n",
            "31/31 [==============================] - 0s 12ms/step - loss: 0.4666 - mse: 0.2891 - val_loss: 0.6503 - val_mse: 0.4866\n",
            "Epoch 31/200\n",
            "31/31 [==============================] - 0s 12ms/step - loss: 0.4621 - mse: 0.2908 - val_loss: 0.3789 - val_mse: 0.2057\n",
            "Epoch 32/200\n",
            "31/31 [==============================] - 0s 12ms/step - loss: 0.4549 - mse: 0.2790 - val_loss: 0.6143 - val_mse: 0.4506\n",
            "Epoch 33/200\n",
            "31/31 [==============================] - 0s 12ms/step - loss: 0.4416 - mse: 0.2702 - val_loss: 0.3768 - val_mse: 0.1897\n",
            "Epoch 34/200\n",
            "31/31 [==============================] - 0s 11ms/step - loss: 0.4345 - mse: 0.2638 - val_loss: 0.3698 - val_mse: 0.1897\n",
            "Epoch 35/200\n",
            "31/31 [==============================] - 0s 13ms/step - loss: 0.4301 - mse: 0.2495 - val_loss: 0.5478 - val_mse: 0.3760\n",
            "Epoch 36/200\n",
            "31/31 [==============================] - 0s 12ms/step - loss: 0.4302 - mse: 0.2537 - val_loss: 0.5394 - val_mse: 0.3568\n",
            "Epoch 37/200\n",
            "31/31 [==============================] - 0s 11ms/step - loss: 0.4395 - mse: 0.2611 - val_loss: 0.3716 - val_mse: 0.2047\n",
            "Epoch 38/200\n",
            "31/31 [==============================] - 0s 11ms/step - loss: 0.4386 - mse: 0.2692 - val_loss: 0.4027 - val_mse: 0.2143\n",
            "Epoch 39/200\n",
            "31/31 [==============================] - 0s 11ms/step - loss: 0.4295 - mse: 0.2504 - val_loss: 0.3878 - val_mse: 0.2154\n",
            "Epoch 40/200\n",
            "31/31 [==============================] - 0s 11ms/step - loss: 0.4145 - mse: 0.2461 - val_loss: 0.4773 - val_mse: 0.2819\n",
            "Epoch 41/200\n",
            "31/31 [==============================] - 0s 11ms/step - loss: 0.4228 - mse: 0.2410 - val_loss: 0.3734 - val_mse: 0.2000\n",
            "Epoch 42/200\n",
            "31/31 [==============================] - 0s 12ms/step - loss: 0.4192 - mse: 0.2398 - val_loss: 0.4133 - val_mse: 0.2236\n",
            "Epoch 43/200\n",
            "31/31 [==============================] - 0s 11ms/step - loss: 0.4058 - mse: 0.2251 - val_loss: 0.3964 - val_mse: 0.2141\n",
            "Epoch 44/200\n",
            "31/31 [==============================] - 0s 11ms/step - loss: 0.4081 - mse: 0.2274 - val_loss: 0.3798 - val_mse: 0.1968\n",
            "Epoch 45/200\n",
            "31/31 [==============================] - 0s 11ms/step - loss: 0.4128 - mse: 0.2407 - val_loss: 0.3379 - val_mse: 0.1640\n",
            "Epoch 46/200\n",
            "31/31 [==============================] - 0s 12ms/step - loss: 0.4009 - mse: 0.2230 - val_loss: 0.4971 - val_mse: 0.3150\n",
            "Epoch 47/200\n",
            "31/31 [==============================] - 0s 11ms/step - loss: 0.3975 - mse: 0.2159 - val_loss: 0.3626 - val_mse: 0.1875\n",
            "Epoch 48/200\n",
            "31/31 [==============================] - 0s 13ms/step - loss: 0.3908 - mse: 0.2187 - val_loss: 0.4413 - val_mse: 0.2580\n",
            "Epoch 49/200\n",
            "31/31 [==============================] - 0s 12ms/step - loss: 0.4026 - mse: 0.2215 - val_loss: 0.4242 - val_mse: 0.2431\n",
            "Epoch 50/200\n",
            "31/31 [==============================] - 0s 13ms/step - loss: 0.3972 - mse: 0.2183 - val_loss: 0.3771 - val_mse: 0.1953\n",
            "Epoch 51/200\n",
            "31/31 [==============================] - 0s 12ms/step - loss: 0.3806 - mse: 0.2052 - val_loss: 0.4393 - val_mse: 0.2726\n",
            "Epoch 52/200\n",
            "31/31 [==============================] - 0s 11ms/step - loss: 0.3780 - mse: 0.2056 - val_loss: 0.4037 - val_mse: 0.2130\n",
            "Epoch 53/200\n",
            "31/31 [==============================] - 0s 11ms/step - loss: 0.3870 - mse: 0.2066 - val_loss: 0.3811 - val_mse: 0.1990\n",
            "Epoch 54/200\n",
            "31/31 [==============================] - 0s 11ms/step - loss: 0.3756 - mse: 0.1968 - val_loss: 0.3253 - val_mse: 0.1519\n",
            "Epoch 55/200\n",
            "31/31 [==============================] - 0s 10ms/step - loss: 0.3831 - mse: 0.2065 - val_loss: 0.4517 - val_mse: 0.2643\n",
            "Epoch 56/200\n",
            "31/31 [==============================] - 0s 11ms/step - loss: 0.3775 - mse: 0.2027 - val_loss: 0.4060 - val_mse: 0.2193\n",
            "Epoch 57/200\n",
            "31/31 [==============================] - 0s 12ms/step - loss: 0.3838 - mse: 0.2058 - val_loss: 0.3500 - val_mse: 0.1744\n",
            "Epoch 58/200\n",
            "31/31 [==============================] - 0s 12ms/step - loss: 0.3629 - mse: 0.1906 - val_loss: 0.3043 - val_mse: 0.1359\n",
            "Epoch 59/200\n",
            "31/31 [==============================] - 1s 19ms/step - loss: 0.3725 - mse: 0.1955 - val_loss: 0.3741 - val_mse: 0.1950\n",
            "Epoch 60/200\n",
            "31/31 [==============================] - 0s 12ms/step - loss: 0.3798 - mse: 0.1995 - val_loss: 0.3598 - val_mse: 0.1787\n",
            "Epoch 61/200\n",
            "31/31 [==============================] - 0s 12ms/step - loss: 0.3689 - mse: 0.1906 - val_loss: 0.3478 - val_mse: 0.1671\n",
            "Epoch 62/200\n",
            "31/31 [==============================] - 0s 11ms/step - loss: 0.3567 - mse: 0.1830 - val_loss: 0.4213 - val_mse: 0.2359\n",
            "Epoch 63/200\n",
            "31/31 [==============================] - 0s 11ms/step - loss: 0.3593 - mse: 0.1829 - val_loss: 0.5354 - val_mse: 0.3692\n",
            "Epoch 64/200\n",
            "31/31 [==============================] - 0s 10ms/step - loss: 0.3771 - mse: 0.1990 - val_loss: 0.4341 - val_mse: 0.2419\n",
            "Epoch 65/200\n",
            "31/31 [==============================] - 0s 11ms/step - loss: 0.3666 - mse: 0.1910 - val_loss: 0.2603 - val_mse: 0.1003\n",
            "Epoch 66/200\n",
            "31/31 [==============================] - 0s 11ms/step - loss: 0.3611 - mse: 0.1836 - val_loss: 0.2441 - val_mse: 0.0923\n",
            "Epoch 67/200\n",
            "31/31 [==============================] - 0s 11ms/step - loss: 0.3537 - mse: 0.1817 - val_loss: 0.3364 - val_mse: 0.1603\n",
            "Epoch 68/200\n",
            "31/31 [==============================] - 0s 12ms/step - loss: 0.3605 - mse: 0.1846 - val_loss: 0.4388 - val_mse: 0.2527\n",
            "Epoch 69/200\n",
            "31/31 [==============================] - 0s 11ms/step - loss: 0.3537 - mse: 0.1788 - val_loss: 0.4039 - val_mse: 0.2240\n",
            "Epoch 70/200\n",
            "31/31 [==============================] - 0s 10ms/step - loss: 0.3554 - mse: 0.1771 - val_loss: 0.3735 - val_mse: 0.1932\n",
            "Epoch 71/200\n",
            "31/31 [==============================] - 0s 10ms/step - loss: 0.3549 - mse: 0.1823 - val_loss: 0.2896 - val_mse: 0.1203\n",
            "Epoch 72/200\n",
            "31/31 [==============================] - 0s 10ms/step - loss: 0.3416 - mse: 0.1687 - val_loss: 0.2825 - val_mse: 0.1201\n",
            "Epoch 73/200\n",
            "31/31 [==============================] - 0s 11ms/step - loss: 0.3570 - mse: 0.1837 - val_loss: 0.2987 - val_mse: 0.1278\n",
            "Epoch 74/200\n",
            "31/31 [==============================] - 0s 11ms/step - loss: 0.3474 - mse: 0.1735 - val_loss: 0.3702 - val_mse: 0.1855\n",
            "Epoch 75/200\n",
            "31/31 [==============================] - 0s 13ms/step - loss: 0.3490 - mse: 0.1734 - val_loss: 0.4645 - val_mse: 0.2863\n",
            "Epoch 76/200\n",
            "31/31 [==============================] - 0s 12ms/step - loss: 0.3363 - mse: 0.1609 - val_loss: 0.2713 - val_mse: 0.1123\n",
            "Epoch 77/200\n",
            "31/31 [==============================] - 0s 12ms/step - loss: 0.3508 - mse: 0.1752 - val_loss: 0.3381 - val_mse: 0.1639\n",
            "Epoch 78/200\n",
            "31/31 [==============================] - 0s 12ms/step - loss: 0.3313 - mse: 0.1616 - val_loss: 0.3794 - val_mse: 0.1944\n",
            "Epoch 79/200\n",
            "31/31 [==============================] - 0s 11ms/step - loss: 0.3438 - mse: 0.1668 - val_loss: 0.2894 - val_mse: 0.1215\n",
            "Epoch 80/200\n",
            "31/31 [==============================] - 0s 11ms/step - loss: 0.3537 - mse: 0.1759 - val_loss: 0.3674 - val_mse: 0.1826\n",
            "Epoch 81/200\n",
            "31/31 [==============================] - 0s 10ms/step - loss: 0.3355 - mse: 0.1615 - val_loss: 0.3423 - val_mse: 0.1690\n",
            "Epoch 82/200\n",
            "31/31 [==============================] - 0s 10ms/step - loss: 0.3481 - mse: 0.1696 - val_loss: 0.4242 - val_mse: 0.2324\n",
            "Epoch 83/200\n",
            "31/31 [==============================] - 0s 10ms/step - loss: 0.3606 - mse: 0.1851 - val_loss: 0.3664 - val_mse: 0.1876\n",
            "Epoch 84/200\n",
            "31/31 [==============================] - 0s 10ms/step - loss: 0.3380 - mse: 0.1632 - val_loss: 0.3536 - val_mse: 0.1746\n",
            "Epoch 85/200\n",
            "31/31 [==============================] - 0s 12ms/step - loss: 0.3313 - mse: 0.1591 - val_loss: 0.3292 - val_mse: 0.1558\n",
            "Epoch 86/200\n",
            "31/31 [==============================] - 0s 12ms/step - loss: 0.3537 - mse: 0.1729 - val_loss: 0.2875 - val_mse: 0.1200\n",
            "Epoch 87/200\n",
            "31/31 [==============================] - 0s 12ms/step - loss: 0.3387 - mse: 0.1619 - val_loss: 0.3652 - val_mse: 0.1851\n",
            "Epoch 88/200\n",
            "31/31 [==============================] - 0s 12ms/step - loss: 0.3377 - mse: 0.1622 - val_loss: 0.2860 - val_mse: 0.1214\n",
            "Epoch 89/200\n",
            "31/31 [==============================] - 0s 10ms/step - loss: 0.3407 - mse: 0.1650 - val_loss: 0.2843 - val_mse: 0.1244\n",
            "Epoch 90/200\n",
            "31/31 [==============================] - 0s 10ms/step - loss: 0.3278 - mse: 0.1544 - val_loss: 0.3231 - val_mse: 0.1494\n",
            "Epoch 91/200\n",
            "31/31 [==============================] - 0s 10ms/step - loss: 0.3394 - mse: 0.1651 - val_loss: 0.2870 - val_mse: 0.1255\n",
            "Epoch 92/200\n",
            "31/31 [==============================] - 0s 8ms/step - loss: 0.3494 - mse: 0.1718 - val_loss: 0.2518 - val_mse: 0.0932\n",
            "Epoch 93/200\n",
            "31/31 [==============================] - 0s 10ms/step - loss: 0.3343 - mse: 0.1592 - val_loss: 0.2530 - val_mse: 0.0997\n",
            "Epoch 94/200\n",
            "31/31 [==============================] - 0s 12ms/step - loss: 0.3217 - mse: 0.1518 - val_loss: 0.3335 - val_mse: 0.1573\n",
            "Epoch 95/200\n",
            "31/31 [==============================] - 0s 12ms/step - loss: 0.3225 - mse: 0.1519 - val_loss: 0.3024 - val_mse: 0.1347\n",
            "Epoch 96/200\n",
            "31/31 [==============================] - 0s 11ms/step - loss: 0.3260 - mse: 0.1560 - val_loss: 0.2775 - val_mse: 0.1186\n",
            "Epoch 97/200\n",
            "31/31 [==============================] - 0s 12ms/step - loss: 0.3163 - mse: 0.1457 - val_loss: 0.2928 - val_mse: 0.1212\n",
            "Epoch 98/200\n",
            "31/31 [==============================] - 0s 11ms/step - loss: 0.3167 - mse: 0.1478 - val_loss: 0.2373 - val_mse: 0.0897\n",
            "Epoch 99/200\n",
            "31/31 [==============================] - 0s 11ms/step - loss: 0.3407 - mse: 0.1651 - val_loss: 0.3220 - val_mse: 0.1437\n",
            "Epoch 100/200\n",
            "31/31 [==============================] - 0s 10ms/step - loss: 0.3310 - mse: 0.1607 - val_loss: 0.2016 - val_mse: 0.0671\n",
            "Epoch 101/200\n",
            "31/31 [==============================] - 0s 10ms/step - loss: 0.2986 - mse: 0.1306 - val_loss: 0.4898 - val_mse: 0.2988\n",
            "Epoch 102/200\n",
            "31/31 [==============================] - 0s 10ms/step - loss: 0.3345 - mse: 0.1577 - val_loss: 0.3296 - val_mse: 0.1564\n",
            "Epoch 103/200\n",
            "31/31 [==============================] - 0s 10ms/step - loss: 0.3336 - mse: 0.1558 - val_loss: 0.4266 - val_mse: 0.2378\n",
            "Epoch 104/200\n",
            "31/31 [==============================] - 0s 11ms/step - loss: 0.3233 - mse: 0.1560 - val_loss: 0.3183 - val_mse: 0.1436\n",
            "Epoch 105/200\n",
            "31/31 [==============================] - 0s 12ms/step - loss: 0.3252 - mse: 0.1544 - val_loss: 0.2603 - val_mse: 0.1044\n",
            "Epoch 106/200\n",
            "31/31 [==============================] - 0s 12ms/step - loss: 0.3189 - mse: 0.1518 - val_loss: 0.3792 - val_mse: 0.2013\n",
            "Epoch 107/200\n",
            "31/31 [==============================] - 0s 12ms/step - loss: 0.3209 - mse: 0.1538 - val_loss: 0.2716 - val_mse: 0.1074\n",
            "Epoch 108/200\n",
            "31/31 [==============================] - 0s 12ms/step - loss: 0.3151 - mse: 0.1430 - val_loss: 0.3963 - val_mse: 0.2081\n",
            "Epoch 109/200\n",
            "31/31 [==============================] - 0s 12ms/step - loss: 0.3094 - mse: 0.1408 - val_loss: 0.3483 - val_mse: 0.1668\n",
            "Epoch 110/200\n",
            "31/31 [==============================] - 0s 12ms/step - loss: 0.3158 - mse: 0.1440 - val_loss: 0.3509 - val_mse: 0.1730\n",
            "Epoch 111/200\n",
            "31/31 [==============================] - 0s 11ms/step - loss: 0.3107 - mse: 0.1415 - val_loss: 0.3388 - val_mse: 0.1592\n",
            "Epoch 112/200\n",
            "31/31 [==============================] - 0s 11ms/step - loss: 0.3145 - mse: 0.1436 - val_loss: 0.3101 - val_mse: 0.1364\n",
            "Epoch 113/200\n",
            "31/31 [==============================] - 0s 10ms/step - loss: 0.3058 - mse: 0.1375 - val_loss: 0.2904 - val_mse: 0.1225\n",
            "Epoch 114/200\n",
            "31/31 [==============================] - 0s 10ms/step - loss: 0.3185 - mse: 0.1477 - val_loss: 0.3332 - val_mse: 0.1537\n",
            "Epoch 115/200\n",
            "31/31 [==============================] - 0s 10ms/step - loss: 0.3095 - mse: 0.1379 - val_loss: 0.3335 - val_mse: 0.1565\n",
            "Epoch 116/200\n",
            "31/31 [==============================] - 0s 11ms/step - loss: 0.2978 - mse: 0.1317 - val_loss: 0.1956 - val_mse: 0.0599\n",
            "Epoch 117/200\n",
            "31/31 [==============================] - 0s 12ms/step - loss: 0.3081 - mse: 0.1417 - val_loss: 0.3424 - val_mse: 0.1624\n",
            "Epoch 118/200\n",
            "31/31 [==============================] - 0s 12ms/step - loss: 0.2972 - mse: 0.1300 - val_loss: 0.3280 - val_mse: 0.1526\n",
            "Epoch 119/200\n",
            "31/31 [==============================] - 0s 10ms/step - loss: 0.3072 - mse: 0.1382 - val_loss: 0.3316 - val_mse: 0.1544\n",
            "Epoch 120/200\n",
            "31/31 [==============================] - 0s 12ms/step - loss: 0.3087 - mse: 0.1381 - val_loss: 0.3333 - val_mse: 0.1567\n",
            "Epoch 121/200\n",
            "31/31 [==============================] - 0s 12ms/step - loss: 0.3098 - mse: 0.1413 - val_loss: 0.3598 - val_mse: 0.1751\n",
            "Epoch 122/200\n",
            "31/31 [==============================] - 0s 12ms/step - loss: 0.2970 - mse: 0.1291 - val_loss: 0.2885 - val_mse: 0.1248\n",
            "Epoch 123/200\n",
            "31/31 [==============================] - 0s 10ms/step - loss: 0.2887 - mse: 0.1232 - val_loss: 0.3906 - val_mse: 0.2091\n",
            "Epoch 124/200\n",
            "31/31 [==============================] - 0s 11ms/step - loss: 0.2956 - mse: 0.1292 - val_loss: 0.2911 - val_mse: 0.1249\n",
            "Epoch 125/200\n",
            "31/31 [==============================] - 0s 10ms/step - loss: 0.2908 - mse: 0.1278 - val_loss: 0.2536 - val_mse: 0.0961\n",
            "Epoch 126/200\n",
            "31/31 [==============================] - 0s 12ms/step - loss: 0.3087 - mse: 0.1393 - val_loss: 0.2879 - val_mse: 0.1212\n",
            "Epoch 127/200\n",
            "31/31 [==============================] - 0s 12ms/step - loss: 0.2920 - mse: 0.1252 - val_loss: 0.3370 - val_mse: 0.1638\n",
            "Epoch 128/200\n",
            "31/31 [==============================] - 0s 12ms/step - loss: 0.3079 - mse: 0.1400 - val_loss: 0.2474 - val_mse: 0.0963\n",
            "Epoch 129/200\n",
            "31/31 [==============================] - 0s 12ms/step - loss: 0.2827 - mse: 0.1221 - val_loss: 0.2183 - val_mse: 0.0728\n",
            "Epoch 130/200\n",
            "31/31 [==============================] - 0s 10ms/step - loss: 0.2936 - mse: 0.1305 - val_loss: 0.3497 - val_mse: 0.1668\n",
            "Epoch 131/200\n",
            "31/31 [==============================] - 0s 11ms/step - loss: 0.2996 - mse: 0.1291 - val_loss: 0.2043 - val_mse: 0.0639\n",
            "Epoch 132/200\n",
            "31/31 [==============================] - 0s 11ms/step - loss: 0.2888 - mse: 0.1229 - val_loss: 0.1952 - val_mse: 0.0609\n",
            "Epoch 133/200\n",
            "31/31 [==============================] - 0s 11ms/step - loss: 0.2994 - mse: 0.1365 - val_loss: 0.3383 - val_mse: 0.1675\n",
            "Epoch 134/200\n",
            "31/31 [==============================] - 0s 12ms/step - loss: 0.2812 - mse: 0.1183 - val_loss: 0.3278 - val_mse: 0.1515\n",
            "Epoch 135/200\n",
            "31/31 [==============================] - 0s 12ms/step - loss: 0.2937 - mse: 0.1270 - val_loss: 0.2187 - val_mse: 0.0733\n",
            "Epoch 136/200\n",
            "31/31 [==============================] - 0s 11ms/step - loss: 0.3027 - mse: 0.1360 - val_loss: 0.2542 - val_mse: 0.0989\n",
            "Epoch 137/200\n",
            "31/31 [==============================] - 0s 11ms/step - loss: 0.2930 - mse: 0.1297 - val_loss: 0.2854 - val_mse: 0.1173\n",
            "Epoch 138/200\n",
            "31/31 [==============================] - 1s 19ms/step - loss: 0.3007 - mse: 0.1329 - val_loss: 0.1880 - val_mse: 0.0555\n",
            "Epoch 139/200\n",
            "31/31 [==============================] - 0s 10ms/step - loss: 0.2896 - mse: 0.1277 - val_loss: 0.2742 - val_mse: 0.1101\n",
            "Epoch 140/200\n",
            "31/31 [==============================] - 0s 10ms/step - loss: 0.2934 - mse: 0.1256 - val_loss: 0.2118 - val_mse: 0.0714\n",
            "Epoch 141/200\n",
            "31/31 [==============================] - 0s 10ms/step - loss: 0.3028 - mse: 0.1356 - val_loss: 0.2056 - val_mse: 0.0644\n",
            "Epoch 142/200\n",
            "31/31 [==============================] - 0s 12ms/step - loss: 0.2741 - mse: 0.1151 - val_loss: 0.3439 - val_mse: 0.1641\n",
            "Epoch 143/200\n",
            "31/31 [==============================] - 0s 13ms/step - loss: 0.2925 - mse: 0.1286 - val_loss: 0.3786 - val_mse: 0.1876\n",
            "Epoch 144/200\n",
            "31/31 [==============================] - 0s 12ms/step - loss: 0.2962 - mse: 0.1314 - val_loss: 0.3669 - val_mse: 0.1762\n",
            "Epoch 145/200\n",
            "31/31 [==============================] - 0s 11ms/step - loss: 0.2853 - mse: 0.1246 - val_loss: 0.3156 - val_mse: 0.1400\n",
            "Epoch 146/200\n",
            "31/31 [==============================] - 0s 11ms/step - loss: 0.2850 - mse: 0.1216 - val_loss: 0.3060 - val_mse: 0.1331\n",
            "Epoch 147/200\n",
            "31/31 [==============================] - 0s 11ms/step - loss: 0.2734 - mse: 0.1121 - val_loss: 0.1747 - val_mse: 0.0490\n",
            "Epoch 148/200\n",
            "31/31 [==============================] - 0s 10ms/step - loss: 0.2936 - mse: 0.1303 - val_loss: 0.2710 - val_mse: 0.1067\n",
            "Epoch 149/200\n",
            "31/31 [==============================] - 0s 10ms/step - loss: 0.2924 - mse: 0.1294 - val_loss: 0.3010 - val_mse: 0.1276\n",
            "Epoch 150/200\n",
            "31/31 [==============================] - 0s 10ms/step - loss: 0.2794 - mse: 0.1194 - val_loss: 0.2929 - val_mse: 0.1276\n",
            "Epoch 151/200\n",
            "31/31 [==============================] - 0s 10ms/step - loss: 0.2996 - mse: 0.1323 - val_loss: 0.2819 - val_mse: 0.1152\n",
            "Epoch 152/200\n",
            "31/31 [==============================] - 0s 12ms/step - loss: 0.2713 - mse: 0.1112 - val_loss: 0.2405 - val_mse: 0.0854\n",
            "Epoch 153/200\n",
            "31/31 [==============================] - 0s 12ms/step - loss: 0.2870 - mse: 0.1266 - val_loss: 0.3249 - val_mse: 0.1459\n",
            "Epoch 154/200\n",
            "31/31 [==============================] - 0s 12ms/step - loss: 0.2983 - mse: 0.1325 - val_loss: 0.2806 - val_mse: 0.1128\n",
            "Epoch 155/200\n",
            "31/31 [==============================] - 0s 12ms/step - loss: 0.2729 - mse: 0.1129 - val_loss: 0.2377 - val_mse: 0.0893\n",
            "Epoch 156/200\n",
            "31/31 [==============================] - 0s 12ms/step - loss: 0.2736 - mse: 0.1125 - val_loss: 0.4248 - val_mse: 0.2304\n",
            "Epoch 157/200\n",
            "31/31 [==============================] - 0s 10ms/step - loss: 0.2948 - mse: 0.1309 - val_loss: 0.3430 - val_mse: 0.1614\n",
            "Epoch 158/200\n",
            "31/31 [==============================] - 0s 11ms/step - loss: 0.2679 - mse: 0.1068 - val_loss: 0.4159 - val_mse: 0.2290\n",
            "Epoch 159/200\n",
            "31/31 [==============================] - 0s 10ms/step - loss: 0.2822 - mse: 0.1192 - val_loss: 0.2404 - val_mse: 0.0896\n",
            "Epoch 160/200\n",
            "31/31 [==============================] - 0s 9ms/step - loss: 0.2797 - mse: 0.1161 - val_loss: 0.2573 - val_mse: 0.0959\n",
            "Epoch 161/200\n",
            "31/31 [==============================] - 0s 11ms/step - loss: 0.2682 - mse: 0.1100 - val_loss: 0.3807 - val_mse: 0.1952\n",
            "Epoch 162/200\n",
            "31/31 [==============================] - 0s 13ms/step - loss: 0.2757 - mse: 0.1177 - val_loss: 0.2354 - val_mse: 0.0815\n",
            "Epoch 163/200\n",
            "31/31 [==============================] - 0s 12ms/step - loss: 0.2623 - mse: 0.1077 - val_loss: 0.2504 - val_mse: 0.0914\n",
            "Epoch 164/200\n",
            "31/31 [==============================] - 0s 12ms/step - loss: 0.2797 - mse: 0.1157 - val_loss: 0.2723 - val_mse: 0.1113\n",
            "Epoch 165/200\n",
            "31/31 [==============================] - 0s 11ms/step - loss: 0.2760 - mse: 0.1165 - val_loss: 0.2483 - val_mse: 0.0921\n",
            "Epoch 166/200\n",
            "31/31 [==============================] - 0s 12ms/step - loss: 0.2662 - mse: 0.1118 - val_loss: 0.3127 - val_mse: 0.1349\n",
            "Epoch 167/200\n",
            "31/31 [==============================] - 0s 11ms/step - loss: 0.2820 - mse: 0.1204 - val_loss: 0.2348 - val_mse: 0.0859\n",
            "Epoch 168/200\n",
            "31/31 [==============================] - 0s 10ms/step - loss: 0.2635 - mse: 0.1063 - val_loss: 0.1597 - val_mse: 0.0422\n",
            "Epoch 169/200\n",
            "31/31 [==============================] - 0s 11ms/step - loss: 0.2784 - mse: 0.1196 - val_loss: 0.3655 - val_mse: 0.1779\n",
            "Epoch 170/200\n",
            "31/31 [==============================] - 0s 10ms/step - loss: 0.2645 - mse: 0.1059 - val_loss: 0.2707 - val_mse: 0.1095\n",
            "Epoch 171/200\n",
            "31/31 [==============================] - 0s 10ms/step - loss: 0.2742 - mse: 0.1179 - val_loss: 0.2679 - val_mse: 0.1066\n",
            "Epoch 172/200\n",
            "31/31 [==============================] - 0s 10ms/step - loss: 0.2631 - mse: 0.1084 - val_loss: 0.2856 - val_mse: 0.1144\n",
            "Epoch 173/200\n",
            "31/31 [==============================] - 0s 10ms/step - loss: 0.2831 - mse: 0.1191 - val_loss: 0.2008 - val_mse: 0.0615\n",
            "Epoch 174/200\n",
            "31/31 [==============================] - 0s 10ms/step - loss: 0.2569 - mse: 0.1033 - val_loss: 0.2915 - val_mse: 0.1230\n",
            "Epoch 175/200\n",
            "31/31 [==============================] - 0s 10ms/step - loss: 0.2701 - mse: 0.1126 - val_loss: 0.2681 - val_mse: 0.1032\n",
            "Epoch 176/200\n",
            "31/31 [==============================] - 0s 10ms/step - loss: 0.2761 - mse: 0.1154 - val_loss: 0.2507 - val_mse: 0.0977\n",
            "Epoch 177/200\n",
            "31/31 [==============================] - 0s 10ms/step - loss: 0.2522 - mse: 0.1018 - val_loss: 0.2159 - val_mse: 0.0696\n",
            "Epoch 178/200\n",
            "31/31 [==============================] - 0s 10ms/step - loss: 0.2789 - mse: 0.1152 - val_loss: 0.2178 - val_mse: 0.0745\n",
            "Epoch 179/200\n",
            "31/31 [==============================] - 0s 10ms/step - loss: 0.2670 - mse: 0.1099 - val_loss: 0.2367 - val_mse: 0.0848\n",
            "Epoch 180/200\n",
            "31/31 [==============================] - 0s 10ms/step - loss: 0.2639 - mse: 0.1098 - val_loss: 0.2621 - val_mse: 0.1044\n",
            "Epoch 181/200\n",
            "31/31 [==============================] - 0s 10ms/step - loss: 0.2545 - mse: 0.1016 - val_loss: 0.2695 - val_mse: 0.1067\n",
            "Epoch 182/200\n",
            "31/31 [==============================] - 0s 11ms/step - loss: 0.2664 - mse: 0.1086 - val_loss: 0.2283 - val_mse: 0.0811\n",
            "Epoch 183/200\n",
            "31/31 [==============================] - 0s 10ms/step - loss: 0.2592 - mse: 0.1028 - val_loss: 0.1694 - val_mse: 0.0458\n",
            "Epoch 184/200\n",
            "31/31 [==============================] - 0s 11ms/step - loss: 0.2544 - mse: 0.1022 - val_loss: 0.2918 - val_mse: 0.1220\n",
            "Epoch 185/200\n",
            "31/31 [==============================] - 0s 10ms/step - loss: 0.2638 - mse: 0.1078 - val_loss: 0.2302 - val_mse: 0.0830\n",
            "Epoch 186/200\n",
            "31/31 [==============================] - 0s 10ms/step - loss: 0.2646 - mse: 0.1096 - val_loss: 0.3042 - val_mse: 0.1287\n",
            "Epoch 187/200\n",
            "31/31 [==============================] - 0s 11ms/step - loss: 0.2570 - mse: 0.1031 - val_loss: 0.1739 - val_mse: 0.0506\n",
            "Epoch 188/200\n",
            "31/31 [==============================] - 0s 12ms/step - loss: 0.2556 - mse: 0.1045 - val_loss: 0.2365 - val_mse: 0.0871\n",
            "Epoch 189/200\n",
            "31/31 [==============================] - 0s 11ms/step - loss: 0.2753 - mse: 0.1146 - val_loss: 0.2564 - val_mse: 0.0997\n",
            "Epoch 190/200\n",
            "31/31 [==============================] - 0s 10ms/step - loss: 0.2582 - mse: 0.1042 - val_loss: 0.3800 - val_mse: 0.1909\n",
            "Epoch 191/200\n",
            "31/31 [==============================] - 0s 11ms/step - loss: 0.2541 - mse: 0.0989 - val_loss: 0.2815 - val_mse: 0.1120\n",
            "Epoch 192/200\n",
            "31/31 [==============================] - 0s 12ms/step - loss: 0.2521 - mse: 0.1022 - val_loss: 0.1563 - val_mse: 0.0404\n",
            "Epoch 193/200\n",
            "31/31 [==============================] - 0s 10ms/step - loss: 0.2415 - mse: 0.0934 - val_loss: 0.2608 - val_mse: 0.0993\n",
            "Epoch 194/200\n",
            "31/31 [==============================] - 0s 10ms/step - loss: 0.2496 - mse: 0.1000 - val_loss: 0.2845 - val_mse: 0.1175\n",
            "Epoch 195/200\n",
            "31/31 [==============================] - 0s 12ms/step - loss: 0.2647 - mse: 0.1060 - val_loss: 0.2279 - val_mse: 0.0763\n",
            "Epoch 196/200\n",
            "31/31 [==============================] - 0s 11ms/step - loss: 0.2452 - mse: 0.0974 - val_loss: 0.2467 - val_mse: 0.0928\n",
            "Epoch 197/200\n",
            "31/31 [==============================] - 0s 12ms/step - loss: 0.2483 - mse: 0.0973 - val_loss: 0.1782 - val_mse: 0.0498\n",
            "Epoch 198/200\n",
            "31/31 [==============================] - 0s 11ms/step - loss: 0.2558 - mse: 0.1002 - val_loss: 0.2572 - val_mse: 0.1004\n",
            "Epoch 199/200\n",
            "31/31 [==============================] - 0s 11ms/step - loss: 0.2618 - mse: 0.1038 - val_loss: 0.2215 - val_mse: 0.0729\n",
            "Epoch 200/200\n",
            "31/31 [==============================] - 0s 10ms/step - loss: 0.2423 - mse: 0.0894 - val_loss: 0.1930 - val_mse: 0.0606\n"
          ]
        },
        {
          "data": {
            "image/png": "[encoded data removed]",
            "text/plain": [
              "<Figure size 432x288 with 1 Axes>"
            ]
          },
          "metadata": {
            "needs_background": "light"
          },
          "output_type": "display_data"
        }
      ],
      "source": [
        "\n",
        "generator = dt.generators.ContinuousGenerator(\n",
        "    dataset,\n",
        "    batch_size=32,\n",
        "    min_data_size=1000,\n",
        "    max_data_size=1001,\n",
        ")\n",
        "\n",
        "with generator:\n",
        "    h = model.fit(\n",
        "        generator,\n",
        "        validation_data=(\n",
        "            validation_data,\n",
        "            validation_labels\n",
        "        ),\n",
        "        epochs=200\n",
        "    )\n",
        "\n",
        "plt.plot(h.history[\"loss\"], 'g')\n",
        "plt.plot(h.history[\"val_loss\"], 'r')\n",
        "plt.legend([\"Loss\", \"Validation loss\"])\n",
        "plt.yscale(\"log\")\n",
        "plt.show()\n"
      ]
    },
    {
      "cell_type": "code",
      "execution_count": 16,
      "metadata": {
        "colab": {
          "base_uri": "https://localhost:8080/",
          "height": 1000
        },
        "execution": {
          "iopub.execute_input": "2022-04-01T16:23:46.484787Z",
          "iopub.status.busy": "2022-04-01T16:23:46.484287Z",
          "iopub.status.idle": "2022-04-01T16:23:46.497286Z",
          "shell.execute_reply": "2022-04-01T16:23:46.497787Z"
        },
        "id": "rOfnMGUswBxc",
        "outputId": "0b1f485c-9714-498c-fda7-09774cb8ac69"
      },
      "outputs": [
        {
          "name": "stdout",
          "output_type": "stream",
          "text": [
            "8/8 [==============================] - 0s 1ms/step\n"
          ]
        },
        {
          "data": {
            "text/plain": [
              "Text(0, 0.5, 'True scaled radius')"
            ]
          },
          "execution_count": 16,
          "metadata": {},
          "output_type": "execute_result"
        },
        {
          "data": {
            "image/png": "[encoded data removed]",
            "text/plain": [
              "<Figure size 360x360 with 1 Axes>"
            ]
          },
          "metadata": {
            "needs_background": "light"
          },
          "output_type": "display_data"
        }
      ],
      "source": [
        "# Evaluate model\n",
        "predictions = model.predict(np.array(validation_data))\n",
        "\n",
        "plt.figure(figsize=(5, 5))\n",
        "\n",
        "plt.scatter(predictions, np.array(validation_labels))\n",
        "plt.axline((RADIUS_MIN, RADIUS_MIN), (RADIUS_MAX, RADIUS_MAX), color=\"red\")\n",
        "plt.xlabel(\"Predicted scaled radius\")\n",
        "plt.ylabel(\"True scaled radius\")"
      ]
    }
  ],
  "metadata": {
    "colab": {
      "collapsed_sections": [],
      "include_colab_link": true,
      "name": "1-MNIST.ipynb",
      "provenance": [],
      "toc_visible": true
    },
    "kernelspec": {
      "display_name": "Python 3.10.5 64-bit",
      "language": "python",
      "name": "python3"
    },
    "language_info": {
      "codemirror_mode": {
        "name": "ipython",
        "version": 3
      },
      "file_extension": ".py",
      "mimetype": "text/x-python",
      "name": "python",
      "nbconvert_exporter": "python",
      "pygments_lexer": "ipython3",
      "version": "3.10.5"
    },
    "vscode": {
      "interpreter": {
        "hash": "1a9ab44d6eafc34d16b2bdd092109596a46de8e0ae90e714a12fa11c7cb37877"
      }
    }
  },
  "nbformat": 4,
  "nbformat_minor": 0
}
