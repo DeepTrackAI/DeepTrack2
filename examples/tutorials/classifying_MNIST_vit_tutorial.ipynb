{
  "cells": [
    {
      "cell_type": "markdown",
      "metadata": {},
      "source": [
        "<!--<badge>--><a href=\"https://colab.research.google.com/github/softmatterlab/DeepTrack-2.0/blob/master/examples/tutorials/classifying_MNIST_vit_tutorial.ipynb\" target=\"_parent\"><img src=\"https://colab.research.google.com/assets/colab-badge.svg\" alt=\"Open In Colab\"/></a><!--</badge>--> "
      ]
    },
    {
      "cell_type": "code",
      "execution_count": 1,
      "metadata": {},
      "outputs": [
        {
          "name": "stdout",
          "output_type": "stream",
          "text": [
            "Requirement already satisfied: deeptrack in c:\\users\\gu\\deeptrack\\deeptrack-2.0 (1.2.0)\n",
            "Requirement already satisfied: tensorflow in c:\\users\\gu\\appdata\\local\\programs\\python\\python310\\lib\\site-packages (from deeptrack) (2.9.1)\n",
            "Requirement already satisfied: tensorflow-probability in c:\\users\\gu\\appdata\\local\\programs\\python\\python310\\lib\\site-packages (from deeptrack) (0.17.0)\n",
            "Requirement already satisfied: numpy in c:\\users\\gu\\appdata\\local\\programs\\python\\python310\\lib\\site-packages (from deeptrack) (1.23.0)\n",
            "Requirement already satisfied: scipy in c:\\users\\gu\\appdata\\local\\programs\\python\\python310\\lib\\site-packages (from deeptrack) (1.8.1)\n",
            "Requirement already satisfied: pint in c:\\users\\gu\\appdata\\local\\programs\\python\\python310\\lib\\site-packages (from deeptrack) (0.19.2)\n",
            "Requirement already satisfied: scikit-image>=0.18.0 in c:\\users\\gu\\appdata\\local\\programs\\python\\python310\\lib\\site-packages (from deeptrack) (0.19.3)\n",
            "Requirement already satisfied: pydeepimagej in c:\\users\\gu\\appdata\\local\\programs\\python\\python310\\lib\\site-packages (from deeptrack) (1.1.0)\n",
            "Requirement already satisfied: more_itertools in c:\\users\\gu\\appdata\\local\\programs\\python\\python310\\lib\\site-packages (from deeptrack) (8.13.0)\n",
            "Requirement already satisfied: tensorflow_addons in c:\\users\\gu\\appdata\\local\\programs\\python\\python310\\lib\\site-packages (from deeptrack) (0.17.1)\n",
            "Requirement already satisfied: PyWavelets>=1.1.1 in c:\\users\\gu\\appdata\\local\\programs\\python\\python310\\lib\\site-packages (from scikit-image>=0.18.0->deeptrack) (1.3.0)\n",
            "Requirement already satisfied: pillow!=7.1.0,!=7.1.1,!=8.3.0,>=6.1.0 in c:\\users\\gu\\appdata\\local\\programs\\python\\python310\\lib\\site-packages (from scikit-image>=0.18.0->deeptrack) (9.1.1)\n",
            "Requirement already satisfied: networkx>=2.2 in c:\\users\\gu\\appdata\\local\\programs\\python\\python310\\lib\\site-packages (from scikit-image>=0.18.0->deeptrack) (2.8.4)\n",
            "Requirement already satisfied: imageio>=2.4.1 in c:\\users\\gu\\appdata\\local\\programs\\python\\python310\\lib\\site-packages (from scikit-image>=0.18.0->deeptrack) (2.19.3)\n",
            "Requirement already satisfied: packaging>=20.0 in c:\\users\\gu\\appdata\\local\\programs\\python\\python310\\lib\\site-packages (from scikit-image>=0.18.0->deeptrack) (21.3)\n",
            "Requirement already satisfied: tifffile>=2019.7.26 in c:\\users\\gu\\appdata\\local\\programs\\python\\python310\\lib\\site-packages (from scikit-image>=0.18.0->deeptrack) (2022.5.4)\n",
            "Requirement already satisfied: protobuf<3.20,>=3.9.2 in c:\\users\\gu\\appdata\\local\\programs\\python\\python310\\lib\\site-packages (from tensorflow->deeptrack) (3.19.4)\n",
            "Requirement already satisfied: typing-extensions>=3.6.6 in c:\\users\\gu\\appdata\\local\\programs\\python\\python310\\lib\\site-packages (from tensorflow->deeptrack) (4.2.0)\n",
            "Requirement already satisfied: google-pasta>=0.1.1 in c:\\users\\gu\\appdata\\local\\programs\\python\\python310\\lib\\site-packages (from tensorflow->deeptrack) (0.2.0)\n",
            "Requirement already satisfied: tensorboard<2.10,>=2.9 in c:\\users\\gu\\appdata\\local\\programs\\python\\python310\\lib\\site-packages (from tensorflow->deeptrack) (2.9.1)\n",
            "Requirement already satisfied: tensorflow-estimator<2.10.0,>=2.9.0rc0 in c:\\users\\gu\\appdata\\local\\programs\\python\\python310\\lib\\site-packages (from tensorflow->deeptrack) (2.9.0)\n",
            "Requirement already satisfied: tensorflow-io-gcs-filesystem>=0.23.1 in c:\\users\\gu\\appdata\\local\\programs\\python\\python310\\lib\\site-packages (from tensorflow->deeptrack) (0.26.0)\n",
            "Requirement already satisfied: gast<=0.4.0,>=0.2.1 in c:\\users\\gu\\appdata\\local\\programs\\python\\python310\\lib\\site-packages (from tensorflow->deeptrack) (0.4.0)\n",
            "Requirement already satisfied: wrapt>=1.11.0 in c:\\users\\gu\\appdata\\local\\programs\\python\\python310\\lib\\site-packages (from tensorflow->deeptrack) (1.14.1)\n",
            "Requirement already satisfied: opt-einsum>=2.3.2 in c:\\users\\gu\\appdata\\local\\programs\\python\\python310\\lib\\site-packages (from tensorflow->deeptrack) (3.3.0)\n",
            "Requirement already satisfied: keras<2.10.0,>=2.9.0rc0 in c:\\users\\gu\\appdata\\local\\programs\\python\\python310\\lib\\site-packages (from tensorflow->deeptrack) (2.9.0)\n",
            "Requirement already satisfied: libclang>=13.0.0 in c:\\users\\gu\\appdata\\local\\programs\\python\\python310\\lib\\site-packages (from tensorflow->deeptrack) (14.0.1)\n",
            "Requirement already satisfied: absl-py>=1.0.0 in c:\\users\\gu\\appdata\\local\\programs\\python\\python310\\lib\\site-packages (from tensorflow->deeptrack) (1.1.0)\n",
            "Requirement already satisfied: astunparse>=1.6.0 in c:\\users\\gu\\appdata\\local\\programs\\python\\python310\\lib\\site-packages (from tensorflow->deeptrack) (1.6.3)\n",
            "Requirement already satisfied: flatbuffers<2,>=1.12 in c:\\users\\gu\\appdata\\local\\programs\\python\\python310\\lib\\site-packages (from tensorflow->deeptrack) (1.12)\n",
            "Requirement already satisfied: termcolor>=1.1.0 in c:\\users\\gu\\appdata\\local\\programs\\python\\python310\\lib\\site-packages (from tensorflow->deeptrack) (1.1.0)\n",
            "Requirement already satisfied: six>=1.12.0 in c:\\users\\gu\\appdata\\local\\programs\\python\\python310\\lib\\site-packages (from tensorflow->deeptrack) (1.16.0)\n",
            "Requirement already satisfied: h5py>=2.9.0 in c:\\users\\gu\\appdata\\local\\programs\\python\\python310\\lib\\site-packages (from tensorflow->deeptrack) (3.7.0)\n",
            "Requirement already satisfied: setuptools in c:\\users\\gu\\appdata\\local\\programs\\python\\python310\\lib\\site-packages (from tensorflow->deeptrack) (58.1.0)\n",
            "Requirement already satisfied: keras-preprocessing>=1.1.1 in c:\\users\\gu\\appdata\\local\\programs\\python\\python310\\lib\\site-packages (from tensorflow->deeptrack) (1.1.2)\n",
            "Requirement already satisfied: grpcio<2.0,>=1.24.3 in c:\\users\\gu\\appdata\\local\\programs\\python\\python310\\lib\\site-packages (from tensorflow->deeptrack) (1.47.0)\n",
            "Requirement already satisfied: typeguard>=2.7 in c:\\users\\gu\\appdata\\local\\programs\\python\\python310\\lib\\site-packages (from tensorflow_addons->deeptrack) (2.13.3)\n",
            "Requirement already satisfied: dm-tree in c:\\users\\gu\\appdata\\local\\programs\\python\\python310\\lib\\site-packages (from tensorflow-probability->deeptrack) (0.1.7)\n",
            "Requirement already satisfied: cloudpickle>=1.3 in c:\\users\\gu\\appdata\\local\\programs\\python\\python310\\lib\\site-packages (from tensorflow-probability->deeptrack) (2.1.0)\n",
            "Requirement already satisfied: decorator in c:\\users\\gu\\appdata\\local\\programs\\python\\python310\\lib\\site-packages (from tensorflow-probability->deeptrack) (5.1.1)\n",
            "Requirement already satisfied: wheel<1.0,>=0.23.0 in c:\\users\\gu\\appdata\\local\\programs\\python\\python310\\lib\\site-packages (from astunparse>=1.6.0->tensorflow->deeptrack) (0.37.1)\n",
            "Requirement already satisfied: pyparsing!=3.0.5,>=2.0.2 in c:\\users\\gu\\appdata\\local\\programs\\python\\python310\\lib\\site-packages (from packaging>=20.0->scikit-image>=0.18.0->deeptrack) (3.0.9)\n",
            "Requirement already satisfied: google-auth<3,>=1.6.3 in c:\\users\\gu\\appdata\\local\\programs\\python\\python310\\lib\\site-packages (from tensorboard<2.10,>=2.9->tensorflow->deeptrack) (2.9.0)\n",
            "Requirement already satisfied: markdown>=2.6.8 in c:\\users\\gu\\appdata\\local\\programs\\python\\python310\\lib\\site-packages (from tensorboard<2.10,>=2.9->tensorflow->deeptrack) (3.3.7)\n",
            "Requirement already satisfied: google-auth-oauthlib<0.5,>=0.4.1 in c:\\users\\gu\\appdata\\local\\programs\\python\\python310\\lib\\site-packages (from tensorboard<2.10,>=2.9->tensorflow->deeptrack) (0.4.6)\n",
            "Requirement already satisfied: tensorboard-plugin-wit>=1.6.0 in c:\\users\\gu\\appdata\\local\\programs\\python\\python310\\lib\\site-packages (from tensorboard<2.10,>=2.9->tensorflow->deeptrack) (1.8.1)\n",
            "Requirement already satisfied: requests<3,>=2.21.0 in c:\\users\\gu\\appdata\\local\\programs\\python\\python310\\lib\\site-packages (from tensorboard<2.10,>=2.9->tensorflow->deeptrack) (2.28.0)\n",
            "Requirement already satisfied: werkzeug>=1.0.1 in c:\\users\\gu\\appdata\\local\\programs\\python\\python310\\lib\\site-packages (from tensorboard<2.10,>=2.9->tensorflow->deeptrack) (2.1.2)\n",
            "Requirement already satisfied: tensorboard-data-server<0.7.0,>=0.6.0 in c:\\users\\gu\\appdata\\local\\programs\\python\\python310\\lib\\site-packages (from tensorboard<2.10,>=2.9->tensorflow->deeptrack) (0.6.1)\n",
            "Requirement already satisfied: pyasn1-modules>=0.2.1 in c:\\users\\gu\\appdata\\local\\programs\\python\\python310\\lib\\site-packages (from google-auth<3,>=1.6.3->tensorboard<2.10,>=2.9->tensorflow->deeptrack) (0.2.8)\n",
            "Requirement already satisfied: cachetools<6.0,>=2.0.0 in c:\\users\\gu\\appdata\\local\\programs\\python\\python310\\lib\\site-packages (from google-auth<3,>=1.6.3->tensorboard<2.10,>=2.9->tensorflow->deeptrack) (5.2.0)\n",
            "Requirement already satisfied: rsa<5,>=3.1.4 in c:\\users\\gu\\appdata\\local\\programs\\python\\python310\\lib\\site-packages (from google-auth<3,>=1.6.3->tensorboard<2.10,>=2.9->tensorflow->deeptrack) (4.8)\n",
            "Requirement already satisfied: requests-oauthlib>=0.7.0 in c:\\users\\gu\\appdata\\local\\programs\\python\\python310\\lib\\site-packages (from google-auth-oauthlib<0.5,>=0.4.1->tensorboard<2.10,>=2.9->tensorflow->deeptrack) (1.3.1)\n",
            "Requirement already satisfied: idna<4,>=2.5 in c:\\users\\gu\\appdata\\local\\programs\\python\\python310\\lib\\site-packages (from requests<3,>=2.21.0->tensorboard<2.10,>=2.9->tensorflow->deeptrack) (3.3)\n",
            "Requirement already satisfied: charset-normalizer~=2.0.0 in c:\\users\\gu\\appdata\\local\\programs\\python\\python310\\lib\\site-packages (from requests<3,>=2.21.0->tensorboard<2.10,>=2.9->tensorflow->deeptrack) (2.0.12)\n",
            "Requirement already satisfied: urllib3<1.27,>=1.21.1 in c:\\users\\gu\\appdata\\local\\programs\\python\\python310\\lib\\site-packages (from requests<3,>=2.21.0->tensorboard<2.10,>=2.9->tensorflow->deeptrack) (1.26.9)\n",
            "Requirement already satisfied: certifi>=2017.4.17 in c:\\users\\gu\\appdata\\local\\programs\\python\\python310\\lib\\site-packages (from requests<3,>=2.21.0->tensorboard<2.10,>=2.9->tensorflow->deeptrack) (2022.6.15)\n",
            "Requirement already satisfied: pyasn1<0.5.0,>=0.4.6 in c:\\users\\gu\\appdata\\local\\programs\\python\\python310\\lib\\site-packages (from pyasn1-modules>=0.2.1->google-auth<3,>=1.6.3->tensorboard<2.10,>=2.9->tensorflow->deeptrack) (0.4.8)\n",
            "Requirement already satisfied: oauthlib>=3.0.0 in c:\\users\\gu\\appdata\\local\\programs\\python\\python310\\lib\\site-packages (from requests-oauthlib>=0.7.0->google-auth-oauthlib<0.5,>=0.4.1->tensorboard<2.10,>=2.9->tensorflow->deeptrack) (3.2.0)\n"
          ]
        }
      ],
      "source": [
        "%matplotlib inline\n",
        "\n",
        "!pip install deeptrack"
      ]
    },
    {
      "cell_type": "markdown",
      "metadata": {},
      "source": [
        "## Handwritten Digit Classification using Vision Transformers\n",
        "\n",
        "Trains a Vision Transformer (ViT) to identify handwritten digits using MNIST dataset.\n",
        "\n",
        "\n",
        "### 1. Setup\n",
        "Imports and defines the objects needed for this example."
      ]
    },
    {
      "cell_type": "code",
      "execution_count": 2,
      "metadata": {},
      "outputs": [
        {
          "name": "stdout",
          "output_type": "stream",
          "text": [
            "MNIST already downloaded! Use force_overwrite=True to redownload the dataset.\n"
          ]
        }
      ],
      "source": [
        "import os\n",
        "import numpy as np\n",
        "import matplotlib.pyplot as plt\n",
        "import itertools\n",
        "\n",
        "import deeptrack as dt\n",
        "from deeptrack.extras import datasets\n",
        "\n",
        "import tensorflow as tf\n",
        "import tensorflow_addons as tfa\n",
        "\n",
        "import logging\n",
        "logging.disable(logging.WARNING)\n",
        "\n",
        "datasets.load(\"MNIST\")\n",
        "\n",
        "PATH_TO_DATASET = os.path.abspath(\"./datasets/MNIST\")\n",
        "\n",
        "TRAINING_SET_PATH = os.path.join(PATH_TO_DATASET, \"training_set.npy\")\n",
        "TRAINING_LABELS_PATH = os.path.join(PATH_TO_DATASET, \"training_labels.npy\")\n",
        "VALIDATION_SET_PATH = os.path.join(PATH_TO_DATASET, \"validation_set.npy\")\n",
        "VALIDATION_LABELS_PATH = os.path.join(PATH_TO_DATASET, \"validation_labels.npy\")"
      ]
    },
    {
      "cell_type": "markdown",
      "metadata": {},
      "source": [
        "### 2. Defining the dataset\n",
        "\n",
        "#### 2.1 Loading the data\n",
        "\n",
        "The dataset is how we provide the network with training data. For this example we create the dataset by loading it from storage using `LoadImage`. "
      ]
    },
    {
      "cell_type": "code",
      "execution_count": 3,
      "metadata": {},
      "outputs": [],
      "source": [
        "# Load the images from storage\n",
        "get_training_images = dt.LoadImage(path=TRAINING_SET_PATH)\n",
        "get_training_labels = dt.LoadImage(path=TRAINING_LABELS_PATH)\n",
        "\n",
        "get_validation_images = dt.LoadImage(path=VALIDATION_SET_PATH)\n",
        "get_validation_labels = dt.LoadImage(path=VALIDATION_LABELS_PATH)"
      ]
    },
    {
      "cell_type": "markdown",
      "metadata": {},
      "source": [
        "Note that we don't load the images yet, we have just created the objects that will do so. First, we normalize the data."
      ]
    },
    {
      "cell_type": "code",
      "execution_count": 4,
      "metadata": {},
      "outputs": [],
      "source": [
        "normalization = dt.NormalizeMinMax(0, 1)\n",
        "\n",
        "get_training_images >>= normalization\n",
        "get_validation_images >>= normalization"
      ]
    },
    {
      "cell_type": "markdown",
      "metadata": {},
      "source": [
        "Since all training data is contained in a single file, we explicitly load the images"
      ]
    },
    {
      "cell_type": "code",
      "execution_count": 5,
      "metadata": {},
      "outputs": [],
      "source": [
        "training_images = get_training_images.resolve()\n",
        "training_labels = get_training_labels.resolve()\n",
        "\n",
        "validation_images = get_validation_images.resolve()\n",
        "validation_labels = get_validation_labels.resolve()"
      ]
    },
    {
      "cell_type": "markdown",
      "metadata": {},
      "source": [
        "We want to continuously generate new data for the network to train on. For this, we use the `Dataset` feature."
      ]
    },
    {
      "cell_type": "code",
      "execution_count": 6,
      "metadata": {},
      "outputs": [],
      "source": [
        "training_data_iterator = itertools.cycle(training_images)\n",
        "training_label_iterator = itertools.cycle(training_labels)\n",
        "\n",
        "training_dataset = dt.Dataset(\n",
        "    data=training_data_iterator, \n",
        "    label=training_label_iterator\n",
        ")"
      ]
    },
    {
      "cell_type": "markdown",
      "metadata": {},
      "source": [
        "#### 2.3 Defining the target\n",
        "The training iterator resolves images. We can extract the label that we provided to the Dataset feature by just calling `get_property`."
      ]
    },
    {
      "cell_type": "code",
      "execution_count": 7,
      "metadata": {},
      "outputs": [],
      "source": [
        "def get_label(image):\n",
        "    return np.array(image.get_property(\"label\")).squeeze()"
      ]
    },
    {
      "cell_type": "markdown",
      "metadata": {},
      "source": [
        "#### 2.4 Visualizing the dataset\n",
        "To ensure the data and the labels match up we plot 8 images print their correspoding label. To convert the objects we created to an numpy array, we call the method `resolve()`. Since we flattened the images we need to reshape the images again to visualize them."
      ]
    },
    {
      "cell_type": "code",
      "execution_count": 8,
      "metadata": {},
      "outputs": [
        {
          "data": {
            "image/png": "[encoded data removed]",
            "text/plain": [
              "<Figure size 1080x216 with 1 Axes>"
            ]
          },
          "metadata": {
            "needs_background": "light"
          },
          "output_type": "display_data"
        },
        {
          "data": {
            "image/png": "[encoded data removed]",
            "text/plain": [
              "<Figure size 1080x216 with 1 Axes>"
            ]
          },
          "metadata": {
            "needs_background": "light"
          },
          "output_type": "display_data"
        },
        {
          "data": {
            "image/png": "[encoded data removed]",
            "text/plain": [
              "<Figure size 1080x216 with 1 Axes>"
            ]
          },
          "metadata": {
            "needs_background": "light"
          },
          "output_type": "display_data"
        },
        {
          "data": {
            "image/png": "[encoded data removed]",
            "text/plain": [
              "<Figure size 1080x216 with 1 Axes>"
            ]
          },
          "metadata": {
            "needs_background": "light"
          },
          "output_type": "display_data"
        },
        {
          "data": {
            "image/png": "[encoded data removed]",
            "text/plain": [
              "<Figure size 1080x216 with 1 Axes>"
            ]
          },
          "metadata": {
            "needs_background": "light"
          },
          "output_type": "display_data"
        },
        {
          "data": {
            "image/png": "[encoded data removed]",
            "text/plain": [
              "<Figure size 1080x216 with 1 Axes>"
            ]
          },
          "metadata": {
            "needs_background": "light"
          },
          "output_type": "display_data"
        },
        {
          "data": {
            "image/png": "[encoded data removed]",
            "text/plain": [
              "<Figure size 1080x216 with 1 Axes>"
            ]
          },
          "metadata": {
            "needs_background": "light"
          },
          "output_type": "display_data"
        },
        {
          "data": {
            "image/png": "[encoded data removed]",
            "text/plain": [
              "<Figure size 1080x216 with 1 Axes>"
            ]
          },
          "metadata": {
            "needs_background": "light"
          },
          "output_type": "display_data"
        }
      ],
      "source": [
        "NUMBER_OF_IMAGES = 8\n",
        "\n",
        "for image_index in range(NUMBER_OF_IMAGES):\n",
        "    \n",
        "    image = training_dataset.update()()\n",
        "    \n",
        "    \n",
        "    plt.figure(figsize=(15, 3))\n",
        "    plt.subplot(1, 6, 1)\n",
        "    plt.imshow(image)\n",
        "    plt.axis('off')\n",
        "    plt.title(\"Class:\" + str(get_label(image)))\n",
        "    plt.show()"
      ]
    },
    {
      "cell_type": "markdown",
      "metadata": {},
      "source": [
        "### 3. Defining the network\n",
        "\n",
        "The network used is a Vision Transformer. Here we define the network architecture, loss function and the optimizer."
      ]
    },
    {
      "cell_type": "code",
      "execution_count": 9,
      "metadata": {},
      "outputs": [
        {
          "ename": "AttributeError",
          "evalue": "module 'deeptrack.models' has no attribute 'ViT'",
          "output_type": "error",
          "traceback": [
            "\u001b[1;31m---------------------------------------------------------------------------\u001b[0m",
            "\u001b[1;31mAttributeError\u001b[0m                            Traceback (most recent call last)",
            "\u001b[1;32m<ipython-input-9-8235d16c05ec>\u001b[0m in \u001b[0;36m<module>\u001b[1;34m\u001b[0m\n\u001b[1;32m----> 1\u001b[1;33m model = dt.models.ViT(\n\u001b[0m\u001b[0;32m      2\u001b[0m             \u001b[0minput_shape\u001b[0m\u001b[1;33m=\u001b[0m\u001b[1;33m(\u001b[0m\u001b[1;36m28\u001b[0m\u001b[1;33m,\u001b[0m \u001b[1;36m28\u001b[0m\u001b[1;33m,\u001b[0m \u001b[1;36m1\u001b[0m\u001b[1;33m)\u001b[0m\u001b[1;33m,\u001b[0m  \u001b[1;31m# Size of the images to be analyzed\u001b[0m\u001b[1;33m\u001b[0m\u001b[1;33m\u001b[0m\u001b[0m\n\u001b[0;32m      3\u001b[0m             \u001b[0mpatch_shape\u001b[0m\u001b[1;33m=\u001b[0m\u001b[1;36m4\u001b[0m\u001b[1;33m,\u001b[0m \u001b[1;31m# Size of the patches to be extracted from the input images.\u001b[0m\u001b[1;33m\u001b[0m\u001b[1;33m\u001b[0m\u001b[0m\n\u001b[0;32m      4\u001b[0m             \u001b[0mnum_layers\u001b[0m\u001b[1;33m=\u001b[0m\u001b[1;36m4\u001b[0m\u001b[1;33m,\u001b[0m \u001b[1;31m# Number of Transformer layers in the ViT model.\u001b[0m\u001b[1;33m\u001b[0m\u001b[1;33m\u001b[0m\u001b[0m\n\u001b[0;32m      5\u001b[0m             \u001b[0mhidden_size\u001b[0m\u001b[1;33m=\u001b[0m\u001b[1;36m72\u001b[0m\u001b[1;33m,\u001b[0m \u001b[1;31m# Size of the hidden layers in the ViT model\u001b[0m\u001b[1;33m\u001b[0m\u001b[1;33m\u001b[0m\u001b[0m\n",
            "\u001b[1;31mAttributeError\u001b[0m: module 'deeptrack.models' has no attribute 'ViT'"
          ]
        }
      ],
      "source": [
        "model = dt.models.ViT(\n",
        "            input_shape=(28, 28, 1),  # Size of the images to be analyzed\n",
        "            patch_shape=4, # Size of the patches to be extracted from the input images.\n",
        "            num_layers=4, # Number of Transformer layers in the ViT model.\n",
        "            hidden_size=72, # Size of the hidden layers in the ViT model\n",
        "            number_of_heads=12, # Number of attention heads in each Transformer layer\n",
        "            fwd_mlp_dim=256, # Size of the hidden layers in the forward MLP of the Transformer layers.\n",
        "            dropout=0.1, # Dropout rate of the forward MLP in the Transformer layers.\n",
        "            include_top=True, # Whether to include the top layer of the ViT model.\n",
        "            output_size=10, # Size of the output layer of the ViT model (i.e., the number of classes).\n",
        "            output_activation=\"linear\", # The activation function of the output.\n",
        "        )\n",
        "\n",
        "\n",
        "# compile the model\n",
        "model.compile(\n",
        "    loss=tf.keras.losses.SparseCategoricalCrossentropy(from_logits=True),\n",
        "    optimizer=tfa.optimizers.AdamW(learning_rate=1e-4, weight_decay=1e-4),\n",
        "    metrics=[\"accuracy\"],\n",
        ")\n",
        "\n",
        "model.summary() "
      ]
    },
    {
      "cell_type": "markdown",
      "metadata": {},
      "source": [
        "### 4. Training the network\n",
        "The network is trained for 100 epochs using standard Keras syntax."
      ]
    },
    {
      "cell_type": "code",
      "execution_count": null,
      "metadata": {},
      "outputs": [
        {
          "name": "stdout",
          "output_type": "stream",
          "text": [
            "Generating 1001 / 1000 samples before starting training\n",
            "Epoch 1/100\n",
            "7/7 [==============================] - ETA: 0s - loss: 2.5730 - accuracy: 0.0904WARNING:tensorflow:Keras is training/fitting/evaluating on array-like data. Keras may not be optimized for this format, so if your input data format is supported by TensorFlow I/O (https://github.com/tensorflow/io) we recommend using that to load a Dataset instead.\n",
            "7/7 [==============================] - 2s 263ms/step - loss: 2.5730 - accuracy: 0.0904 - val_loss: 2.2582 - val_accuracy: 0.1260\n",
            "Epoch 2/100\n",
            "7/7 [==============================] - 1s 190ms/step - loss: 2.3235 - accuracy: 0.1328 - val_loss: 2.1832 - val_accuracy: 0.2180\n",
            "Epoch 3/100\n",
            "7/7 [==============================] - 2s 332ms/step - loss: 2.2043 - accuracy: 0.1842 - val_loss: 2.0810 - val_accuracy: 0.2520\n",
            "Epoch 4/100\n",
            "7/7 [==============================] - 3s 358ms/step - loss: 2.1722 - accuracy: 0.2221 - val_loss: 1.9673 - val_accuracy: 0.3240\n",
            "Epoch 5/100\n",
            "7/7 [==============================] - 3s 362ms/step - loss: 2.0488 - accuracy: 0.2567 - val_loss: 1.8099 - val_accuracy: 0.3760\n",
            "Epoch 6/100\n",
            "7/7 [==============================] - 1s 102ms/step - loss: 1.9210 - accuracy: 0.3203 - val_loss: 1.6748 - val_accuracy: 0.3960\n",
            "Epoch 7/100\n",
            "7/7 [==============================] - 2s 227ms/step - loss: 1.7685 - accuracy: 0.3616 - val_loss: 1.5208 - val_accuracy: 0.4680\n",
            "Epoch 8/100\n",
            "7/7 [==============================] - 1s 113ms/step - loss: 1.6964 - accuracy: 0.3996 - val_loss: 1.3052 - val_accuracy: 0.5880\n",
            "Epoch 9/100\n",
            "7/7 [==============================] - 1s 103ms/step - loss: 1.4934 - accuracy: 0.5112 - val_loss: 1.1594 - val_accuracy: 0.6040\n",
            "Epoch 10/100\n",
            "7/7 [==============================] - 3s 377ms/step - loss: 1.3223 - accuracy: 0.5480 - val_loss: 1.0097 - val_accuracy: 0.6780\n",
            "Epoch 11/100\n",
            "7/7 [==============================] - 2s 341ms/step - loss: 1.1913 - accuracy: 0.6004 - val_loss: 0.8438 - val_accuracy: 0.7560\n",
            "Epoch 12/100\n",
            "7/7 [==============================] - 2s 322ms/step - loss: 1.0817 - accuracy: 0.6652 - val_loss: 0.8040 - val_accuracy: 0.7340\n",
            "Epoch 13/100\n",
            "7/7 [==============================] - 2s 317ms/step - loss: 0.9844 - accuracy: 0.6953 - val_loss: 0.7588 - val_accuracy: 0.7400\n",
            "Epoch 14/100\n",
            "7/7 [==============================] - 2s 313ms/step - loss: 0.9689 - accuracy: 0.6719 - val_loss: 0.6327 - val_accuracy: 0.7920\n",
            "Epoch 15/100\n",
            "7/7 [==============================] - 2s 314ms/step - loss: 0.8498 - accuracy: 0.7165 - val_loss: 0.5748 - val_accuracy: 0.8120\n",
            "Epoch 16/100\n",
            "7/7 [==============================] - 2s 321ms/step - loss: 0.7865 - accuracy: 0.7623 - val_loss: 0.5465 - val_accuracy: 0.8220\n",
            "Epoch 17/100\n",
            "7/7 [==============================] - 2s 342ms/step - loss: 0.8014 - accuracy: 0.7522 - val_loss: 0.4943 - val_accuracy: 0.8380\n",
            "Epoch 18/100\n",
            "7/7 [==============================] - 2s 307ms/step - loss: 0.6923 - accuracy: 0.7946 - val_loss: 0.4984 - val_accuracy: 0.8300\n",
            "Epoch 19/100\n",
            "7/7 [==============================] - 2s 345ms/step - loss: 0.6485 - accuracy: 0.7824 - val_loss: 0.4565 - val_accuracy: 0.8540\n",
            "Epoch 20/100\n",
            "7/7 [==============================] - 2s 337ms/step - loss: 0.6532 - accuracy: 0.7891 - val_loss: 0.4481 - val_accuracy: 0.8440\n",
            "Epoch 21/100\n",
            "7/7 [==============================] - 2s 281ms/step - loss: 0.6054 - accuracy: 0.8125 - val_loss: 0.4526 - val_accuracy: 0.8560\n",
            "Epoch 22/100\n",
            "7/7 [==============================] - 2s 349ms/step - loss: 0.6091 - accuracy: 0.8136 - val_loss: 0.3973 - val_accuracy: 0.8640\n",
            "Epoch 23/100\n",
            "7/7 [==============================] - 2s 334ms/step - loss: 0.5881 - accuracy: 0.8225 - val_loss: 0.4073 - val_accuracy: 0.8760\n",
            "Epoch 24/100\n",
            "7/7 [==============================] - 2s 353ms/step - loss: 0.6210 - accuracy: 0.7991 - val_loss: 0.3821 - val_accuracy: 0.8660\n",
            "Epoch 25/100\n",
            "7/7 [==============================] - 1s 113ms/step - loss: 0.5261 - accuracy: 0.8337 - val_loss: 0.3702 - val_accuracy: 0.8880\n",
            "Epoch 26/100\n",
            "7/7 [==============================] - 3s 365ms/step - loss: 0.5691 - accuracy: 0.8348 - val_loss: 0.3385 - val_accuracy: 0.8860\n",
            "Epoch 27/100\n",
            "7/7 [==============================] - 2s 315ms/step - loss: 0.5610 - accuracy: 0.8237 - val_loss: 0.3338 - val_accuracy: 0.9040\n",
            "Epoch 28/100\n",
            "7/7 [==============================] - 2s 330ms/step - loss: 0.5142 - accuracy: 0.8382 - val_loss: 0.3127 - val_accuracy: 0.9040\n",
            "Epoch 29/100\n",
            "7/7 [==============================] - 1s 123ms/step - loss: 0.4929 - accuracy: 0.8438 - val_loss: 0.3217 - val_accuracy: 0.8920\n",
            "Epoch 30/100\n",
            "7/7 [==============================] - 2s 320ms/step - loss: 0.4533 - accuracy: 0.8650 - val_loss: 0.3123 - val_accuracy: 0.9000\n",
            "Epoch 31/100\n",
            "7/7 [==============================] - 2s 340ms/step - loss: 0.5377 - accuracy: 0.8214 - val_loss: 0.3173 - val_accuracy: 0.8960\n",
            "Epoch 32/100\n",
            "7/7 [==============================] - 2s 335ms/step - loss: 0.4745 - accuracy: 0.8560 - val_loss: 0.3037 - val_accuracy: 0.9020\n",
            "Epoch 33/100\n",
            "7/7 [==============================] - 2s 347ms/step - loss: 0.4972 - accuracy: 0.8504 - val_loss: 0.2874 - val_accuracy: 0.9080\n",
            "Epoch 34/100\n",
            "7/7 [==============================] - 2s 269ms/step - loss: 0.4895 - accuracy: 0.8426 - val_loss: 0.2953 - val_accuracy: 0.9020\n",
            "Epoch 35/100\n",
            "7/7 [==============================] - 2s 250ms/step - loss: 0.4970 - accuracy: 0.8415 - val_loss: 0.2798 - val_accuracy: 0.9140\n",
            "Epoch 36/100\n",
            "7/7 [==============================] - 1s 102ms/step - loss: 0.4464 - accuracy: 0.8638 - val_loss: 0.2859 - val_accuracy: 0.9180\n",
            "Epoch 37/100\n",
            "7/7 [==============================] - 2s 346ms/step - loss: 0.4419 - accuracy: 0.8583 - val_loss: 0.2638 - val_accuracy: 0.9120\n",
            "Epoch 38/100\n",
            "7/7 [==============================] - 2s 318ms/step - loss: 0.4384 - accuracy: 0.8571 - val_loss: 0.2591 - val_accuracy: 0.9180\n",
            "Epoch 39/100\n",
            "7/7 [==============================] - 2s 302ms/step - loss: 0.4164 - accuracy: 0.8694 - val_loss: 0.2460 - val_accuracy: 0.9240\n",
            "Epoch 40/100\n",
            "7/7 [==============================] - 3s 365ms/step - loss: 0.4030 - accuracy: 0.8605 - val_loss: 0.2485 - val_accuracy: 0.9300\n",
            "Epoch 41/100\n",
            "7/7 [==============================] - 2s 351ms/step - loss: 0.4459 - accuracy: 0.8650 - val_loss: 0.2365 - val_accuracy: 0.9300\n",
            "Epoch 42/100\n",
            "7/7 [==============================] - 2s 306ms/step - loss: 0.3639 - accuracy: 0.8850 - val_loss: 0.2247 - val_accuracy: 0.9360\n",
            "Epoch 43/100\n",
            "7/7 [==============================] - 1s 205ms/step - loss: 0.4574 - accuracy: 0.8594 - val_loss: 0.2164 - val_accuracy: 0.9420\n",
            "Epoch 44/100\n",
            "7/7 [==============================] - 1s 213ms/step - loss: 0.4095 - accuracy: 0.8705 - val_loss: 0.2361 - val_accuracy: 0.9320\n",
            "Epoch 45/100\n",
            "7/7 [==============================] - 2s 330ms/step - loss: 0.3767 - accuracy: 0.8795 - val_loss: 0.2113 - val_accuracy: 0.9360\n",
            "Epoch 46/100\n",
            "7/7 [==============================] - 2s 297ms/step - loss: 0.3968 - accuracy: 0.8739 - val_loss: 0.2135 - val_accuracy: 0.9400\n",
            "Epoch 47/100\n",
            "7/7 [==============================] - 2s 327ms/step - loss: 0.4207 - accuracy: 0.8750 - val_loss: 0.2076 - val_accuracy: 0.9360\n",
            "Epoch 48/100\n",
            "7/7 [==============================] - 1s 198ms/step - loss: 0.4016 - accuracy: 0.8717 - val_loss: 0.2108 - val_accuracy: 0.9420\n",
            "Epoch 49/100\n",
            "7/7 [==============================] - 2s 351ms/step - loss: 0.3604 - accuracy: 0.8839 - val_loss: 0.2106 - val_accuracy: 0.9320\n",
            "Epoch 50/100\n",
            "7/7 [==============================] - 2s 336ms/step - loss: 0.3674 - accuracy: 0.8906 - val_loss: 0.2145 - val_accuracy: 0.9360\n",
            "Epoch 51/100\n",
            "7/7 [==============================] - 1s 122ms/step - loss: 0.3065 - accuracy: 0.9085 - val_loss: 0.2085 - val_accuracy: 0.9380\n",
            "Epoch 52/100\n",
            "7/7 [==============================] - 3s 462ms/step - loss: 0.3546 - accuracy: 0.8929 - val_loss: 0.2083 - val_accuracy: 0.9280\n",
            "Epoch 53/100\n",
            "7/7 [==============================] - 3s 366ms/step - loss: 0.3408 - accuracy: 0.8996 - val_loss: 0.1994 - val_accuracy: 0.9360\n",
            "Epoch 54/100\n",
            "7/7 [==============================] - 1s 171ms/step - loss: 0.3883 - accuracy: 0.8739 - val_loss: 0.2217 - val_accuracy: 0.9280\n",
            "Epoch 55/100\n",
            "7/7 [==============================] - 2s 348ms/step - loss: 0.3340 - accuracy: 0.8962 - val_loss: 0.1774 - val_accuracy: 0.9540\n",
            "Epoch 56/100\n",
            "7/7 [==============================] - 1s 116ms/step - loss: 0.3575 - accuracy: 0.8839 - val_loss: 0.1924 - val_accuracy: 0.9380\n",
            "Epoch 57/100\n",
            "7/7 [==============================] - 2s 318ms/step - loss: 0.3124 - accuracy: 0.9129 - val_loss: 0.1908 - val_accuracy: 0.9440\n",
            "Epoch 58/100\n",
            "7/7 [==============================] - 2s 330ms/step - loss: 0.3426 - accuracy: 0.8940 - val_loss: 0.1801 - val_accuracy: 0.9400\n",
            "Epoch 59/100\n",
            "7/7 [==============================] - 2s 307ms/step - loss: 0.3154 - accuracy: 0.9040 - val_loss: 0.1794 - val_accuracy: 0.9440\n",
            "Epoch 60/100\n",
            "7/7 [==============================] - 1s 149ms/step - loss: 0.2404 - accuracy: 0.9241 - val_loss: 0.1874 - val_accuracy: 0.9420\n",
            "Epoch 61/100\n",
            "7/7 [==============================] - 1s 115ms/step - loss: 0.3479 - accuracy: 0.8962 - val_loss: 0.1877 - val_accuracy: 0.9420\n",
            "Epoch 62/100\n",
            "7/7 [==============================] - 2s 232ms/step - loss: 0.2951 - accuracy: 0.9096 - val_loss: 0.1832 - val_accuracy: 0.9420\n",
            "Epoch 63/100\n",
            "7/7 [==============================] - 3s 361ms/step - loss: 0.3330 - accuracy: 0.8984 - val_loss: 0.1863 - val_accuracy: 0.9420\n",
            "Epoch 64/100\n",
            "7/7 [==============================] - 1s 117ms/step - loss: 0.3131 - accuracy: 0.8996 - val_loss: 0.1904 - val_accuracy: 0.9280\n",
            "Epoch 65/100\n",
            "7/7 [==============================] - 2s 333ms/step - loss: 0.3491 - accuracy: 0.8884 - val_loss: 0.1707 - val_accuracy: 0.9440\n",
            "Epoch 66/100\n",
            "7/7 [==============================] - 2s 278ms/step - loss: 0.3178 - accuracy: 0.8962 - val_loss: 0.1806 - val_accuracy: 0.9380\n",
            "Epoch 67/100\n",
            "7/7 [==============================] - 1s 113ms/step - loss: 0.3161 - accuracy: 0.8951 - val_loss: 0.1743 - val_accuracy: 0.9460\n",
            "Epoch 68/100\n",
            "7/7 [==============================] - 3s 363ms/step - loss: 0.3489 - accuracy: 0.8873 - val_loss: 0.1802 - val_accuracy: 0.9400\n",
            "Epoch 69/100\n",
            "7/7 [==============================] - 2s 335ms/step - loss: 0.3153 - accuracy: 0.9118 - val_loss: 0.1685 - val_accuracy: 0.9500\n",
            "Epoch 70/100\n",
            "7/7 [==============================] - 2s 291ms/step - loss: 0.3049 - accuracy: 0.9062 - val_loss: 0.2140 - val_accuracy: 0.9400\n",
            "Epoch 71/100\n",
            "7/7 [==============================] - 2s 349ms/step - loss: 0.3427 - accuracy: 0.8940 - val_loss: 0.1661 - val_accuracy: 0.9520\n",
            "Epoch 72/100\n",
            "7/7 [==============================] - 1s 195ms/step - loss: 0.2644 - accuracy: 0.9118 - val_loss: 0.1799 - val_accuracy: 0.9480\n",
            "Epoch 73/100\n",
            "7/7 [==============================] - 3s 369ms/step - loss: 0.3261 - accuracy: 0.8984 - val_loss: 0.1631 - val_accuracy: 0.9560\n",
            "Epoch 74/100\n",
            "7/7 [==============================] - 2s 341ms/step - loss: 0.3244 - accuracy: 0.8996 - val_loss: 0.1678 - val_accuracy: 0.9480\n",
            "Epoch 75/100\n",
            "7/7 [==============================] - 3s 418ms/step - loss: 0.3011 - accuracy: 0.9051 - val_loss: 0.1623 - val_accuracy: 0.9500\n",
            "Epoch 76/100\n",
            "7/7 [==============================] - 2s 343ms/step - loss: 0.3024 - accuracy: 0.8973 - val_loss: 0.1765 - val_accuracy: 0.9460\n",
            "Epoch 77/100\n",
            "7/7 [==============================] - 3s 364ms/step - loss: 0.3130 - accuracy: 0.9040 - val_loss: 0.1568 - val_accuracy: 0.9480\n",
            "Epoch 78/100\n",
            "7/7 [==============================] - 2s 345ms/step - loss: 0.3009 - accuracy: 0.8929 - val_loss: 0.1421 - val_accuracy: 0.9640\n",
            "Epoch 79/100\n",
            "7/7 [==============================] - 2s 340ms/step - loss: 0.2807 - accuracy: 0.9096 - val_loss: 0.1441 - val_accuracy: 0.9660\n",
            "Epoch 80/100\n",
            "7/7 [==============================] - 2s 280ms/step - loss: 0.2904 - accuracy: 0.9062 - val_loss: 0.1680 - val_accuracy: 0.9380\n",
            "Epoch 81/100\n",
            "7/7 [==============================] - 2s 340ms/step - loss: 0.2555 - accuracy: 0.9118 - val_loss: 0.1478 - val_accuracy: 0.9540\n",
            "Epoch 82/100\n",
            "7/7 [==============================] - 2s 356ms/step - loss: 0.2826 - accuracy: 0.9230 - val_loss: 0.1502 - val_accuracy: 0.9480\n",
            "Epoch 83/100\n",
            "7/7 [==============================] - 1s 116ms/step - loss: 0.2423 - accuracy: 0.9185 - val_loss: 0.1431 - val_accuracy: 0.9560\n",
            "Epoch 84/100\n",
            "7/7 [==============================] - 2s 319ms/step - loss: 0.3141 - accuracy: 0.9007 - val_loss: 0.1736 - val_accuracy: 0.9460\n",
            "Epoch 85/100\n",
            "7/7 [==============================] - 2s 338ms/step - loss: 0.2619 - accuracy: 0.9096 - val_loss: 0.1221 - val_accuracy: 0.9640\n",
            "Epoch 86/100\n",
            "7/7 [==============================] - 1s 111ms/step - loss: 0.2739 - accuracy: 0.9174 - val_loss: 0.1433 - val_accuracy: 0.9600\n",
            "Epoch 87/100\n",
            "7/7 [==============================] - 2s 281ms/step - loss: 0.2538 - accuracy: 0.9219 - val_loss: 0.1275 - val_accuracy: 0.9700\n",
            "Epoch 88/100\n",
            "7/7 [==============================] - 2s 329ms/step - loss: 0.2464 - accuracy: 0.9252 - val_loss: 0.1363 - val_accuracy: 0.9640\n",
            "Epoch 89/100\n",
            "7/7 [==============================] - 2s 282ms/step - loss: 0.2749 - accuracy: 0.9096 - val_loss: 0.1378 - val_accuracy: 0.9640\n",
            "Epoch 90/100\n",
            "7/7 [==============================] - 2s 343ms/step - loss: 0.2148 - accuracy: 0.9297 - val_loss: 0.1610 - val_accuracy: 0.9460\n",
            "Epoch 91/100\n",
            "7/7 [==============================] - 1s 198ms/step - loss: 0.2855 - accuracy: 0.9096 - val_loss: 0.1317 - val_accuracy: 0.9600\n",
            "Epoch 92/100\n",
            "7/7 [==============================] - 2s 345ms/step - loss: 0.2446 - accuracy: 0.9185 - val_loss: 0.1560 - val_accuracy: 0.9620\n",
            "Epoch 93/100\n",
            "7/7 [==============================] - 2s 345ms/step - loss: 0.2724 - accuracy: 0.9141 - val_loss: 0.1378 - val_accuracy: 0.9520\n",
            "Epoch 94/100\n",
            "7/7 [==============================] - 2s 354ms/step - loss: 0.2793 - accuracy: 0.9141 - val_loss: 0.1453 - val_accuracy: 0.9540\n",
            "Epoch 95/100\n",
            "7/7 [==============================] - 2s 355ms/step - loss: 0.3030 - accuracy: 0.9029 - val_loss: 0.1279 - val_accuracy: 0.9640\n",
            "Epoch 96/100\n",
            "7/7 [==============================] - 2s 326ms/step - loss: 0.2406 - accuracy: 0.9219 - val_loss: 0.1261 - val_accuracy: 0.9680\n",
            "Epoch 97/100\n",
            "7/7 [==============================] - 1s 198ms/step - loss: 0.2535 - accuracy: 0.9129 - val_loss: 0.1377 - val_accuracy: 0.9600\n",
            "Epoch 98/100\n",
            "7/7 [==============================] - 2s 323ms/step - loss: 0.2646 - accuracy: 0.9163 - val_loss: 0.1189 - val_accuracy: 0.9680\n",
            "Epoch 99/100\n",
            "7/7 [==============================] - 1s 167ms/step - loss: 0.2377 - accuracy: 0.9263 - val_loss: 0.1328 - val_accuracy: 0.9560\n",
            "Epoch 100/100\n",
            "7/7 [==============================] - 2s 349ms/step - loss: 0.2340 - accuracy: 0.9330 - val_loss: 0.1487 - val_accuracy: 0.9540\n"
          ]
        },
        {
          "data": {
            "image/png": "[encoded data removed]",
            "text/plain": [
              "<Figure size 432x288 with 1 Axes>"
            ]
          },
          "metadata": {
            "needs_background": "light"
          },
          "output_type": "display_data"
        }
      ],
      "source": [
        "TRAIN_MODEL = True\n",
        "\n",
        "if TRAIN_MODEL:\n",
        "    generator = dt.generators.ContinuousGenerator(\n",
        "        training_dataset & (training_dataset >> get_label),\n",
        "        batch_size=128,\n",
        "        min_data_size=1000,\n",
        "        max_data_size=1001,\n",
        "    )\n",
        "    with generator:\n",
        "        h = model.fit(\n",
        "            generator,\n",
        "            validation_data=(\n",
        "                np.expand_dims(validation_images[:500], -1),\n",
        "                validation_labels[:500].squeeze() \n",
        "            ),\n",
        "            epochs=100\n",
        "        )\n",
        "    \n",
        "    plt.plot(h.history[\"accuracy\"], 'g')\n",
        "    plt.plot(h.history[\"val_accuracy\"], 'r')\n",
        "    plt.legend([\"accuracy\", \"Validation accuracy\"])\n",
        "    plt.yscale(\"log\")\n",
        "    plt.ylabel(\"Accuracy\")\n",
        "    plt.xlabel(\"Epoch\")\n",
        "    plt.show()\n",
        "    "
      ]
    },
    {
      "cell_type": "markdown",
      "metadata": {},
      "source": [
        "### 5. Evaluating the network"
      ]
    },
    {
      "cell_type": "markdown",
      "metadata": {},
      "source": [
        "The attention maps learned by the network are visualized for intepretation."
      ]
    },
    {
      "cell_type": "code",
      "execution_count": null,
      "metadata": {},
      "outputs": [
        {
          "data": {
            "image/png": "[encoded data removed]",
            "text/plain": [
              "<Figure size 432x288 with 1 Axes>"
            ]
          },
          "metadata": {
            "needs_background": "light"
          },
          "output_type": "display_data"
        }
      ],
      "source": [
        "# index of validation image\n",
        "idx = 3000\n",
        "\n",
        "image = validation_images[idx]\n",
        "prediction = np.argmax(\n",
        "    model.predict(\n",
        "        np.expand_dims(image, (0, -1))\n",
        "    )\n",
        ")\n",
        "\n",
        "plt.imshow(image)\n",
        "plt.axis('off')\n",
        "plt.title(\"Class:\" + str(prediction))\n",
        "plt.show()"
      ]
    },
    {
      "cell_type": "markdown",
      "metadata": {},
      "source": [
        "We extract the attention scores from the transformer blocks"
      ]
    },
    {
      "cell_type": "code",
      "execution_count": null,
      "metadata": {},
      "outputs": [],
      "source": [
        "outputs = [\n",
        "        l.output[1]\n",
        "        for l in model.layers\n",
        "        if isinstance(l, dt.models.TransformerEncoder)\n",
        "    ]\n",
        "\n",
        "weights = np.array(\n",
        "        tf.keras.models.Model(inputs=model.inputs, outputs=outputs).predict(\n",
        "            np.expand_dims(image, (0, -1))\n",
        "        )\n",
        "    )\n",
        "\n",
        "# retain the output of the last transformer layer\n",
        "weights = np.squeeze(weights, 1)[-1]"
      ]
    },
    {
      "cell_type": "code",
      "execution_count": null,
      "metadata": {},
      "outputs": [],
      "source": [
        "from skimage.transform import resize\n",
        "\n",
        "# Number of heads\n",
        "num_heads = np.shape(weights)[0]\n",
        "\n",
        "# Extract the global representation of the image\n",
        "attentions = weights[:, 0, 1:].reshape(num_heads, -1)\n",
        "\n",
        "\n",
        "num_of_patches = int(28/4)\n",
        "attentions = attentions.reshape(num_heads, num_of_patches, num_of_patches)\n",
        "\n",
        "maps = []\n",
        "for att in attentions:\n",
        "    att = resize(att, (28, 28), order=1)\n",
        "    maps.append(att)"
      ]
    },
    {
      "cell_type": "markdown",
      "metadata": {},
      "source": [
        "Visualize attention scores at each head"
      ]
    },
    {
      "cell_type": "code",
      "execution_count": null,
      "metadata": {},
      "outputs": [
        {
          "data": {
            "image/png": "[encoded data removed]",
            "text/plain": [
              "<Figure size 1440x1080 with 12 Axes>"
            ]
          },
          "metadata": {
            "needs_background": "light"
          },
          "output_type": "display_data"
        }
      ],
      "source": [
        "fig, ax = plt.subplots(3, 4, figsize=(20, 15))\n",
        "\n",
        "for i in range(12):\n",
        "    ax[i//4, i%4].imshow(image)\n",
        "    ax[i//4, i%4].imshow(maps[i], alpha=0.7, cmap='jet', vmin = 0, vmax = 0.9)\n",
        "    ax[i//4, i%4].axis('off')"
      ]
    }
  ],
  "metadata": {
    "kernelspec": {
      "display_name": "Python 3.8.6 64-bit",
      "language": "python",
      "name": "python3"
    },
    "language_info": {
      "codemirror_mode": {
        "name": "ipython",
        "version": 3
      },
      "file_extension": ".py",
      "mimetype": "text/x-python",
      "name": "python",
      "nbconvert_exporter": "python",
      "pygments_lexer": "ipython3",
      "version": "3.8.6"
    },
    "orig_nbformat": 4,
    "vscode": {
      "interpreter": {
        "hash": "a44da721a5827f98cc9179544fef0a80b8a9b4f8cdc93722922a5386f263ab84"
      }
    }
  },
  "nbformat": 4,
  "nbformat_minor": 2
}