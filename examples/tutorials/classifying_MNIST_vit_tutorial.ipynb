{
  "cells": [
    {
      "cell_type": "markdown",
      "metadata": {},
      "source": [
        "<!--<badge>--><a href=\"https://colab.research.google.com/github/softmatterlab/DeepTrack-2.0/blob/develop/examples/tutorials/classifying_MNIST_vit_tutorial.ipynb\" target=\"_parent\"><img src=\"https://colab.research.google.com/assets/colab-badge.svg\" alt=\"Open In Colab\"/></a><!--</badge>--> "
      ]
    },
    {
      "cell_type": "code",
      "execution_count": 1,
      "metadata": {},
      "outputs": [],
      "source": [
        "%matplotlib inline\n",
        "\n",
        "!pip install deeptrack"
      ]
    },
    {
      "cell_type": "markdown",
      "metadata": {},
      "source": [
        "## Handwritten Digit Classification using Vision Transformers\n",
        "\n",
        "Trains a Vision Transformer (ViT) to identify handwritten digits using MNIST dataset.\n",
        "\n",
        "\n",
        "### 1. Setup\n",
        "Imports and defines the objects needed for this example."
      ]
    },
    {
      "cell_type": "code",
      "execution_count": 2,
      "metadata": {},
      "outputs": [
        {
          "name": "stderr",
          "output_type": "stream",
          "text": [
            "c:\\GU\\DeepTrack-2.0\\deeptrack\\backend\\_config.py:11: UserWarning: cupy not installed. GPU-accelerated simulations will not be possible\n",
            "  warnings.warn(\n",
            "c:\\GU\\DeepTrack-2.0\\deeptrack\\backend\\_config.py:25: UserWarning: cupy not installed, CPU acceleration not enabled\n",
            "  warnings.warn(\"cupy not installed, CPU acceleration not enabled\")\n"
          ]
        },
        {
          "name": "stdout",
          "output_type": "stream",
          "text": [
            "Dataset already downloaded.\n"
          ]
        }
      ],
      "source": [
        "import os\n",
        "import numpy as np\n",
        "import matplotlib.pyplot as plt\n",
        "import itertools\n",
        "\n",
        "import deeptrack as dt\n",
        "from deeptrack.extras import datasets\n",
        "\n",
        "import tensorflow as tf\n",
        "import tensorflow_addons as tfa\n",
        "\n",
        "import logging\n",
        "logging.disable(logging.WARNING)\n",
        "\n",
        "datasets.load(\"MNIST\")\n",
        "\n",
        "PATH_TO_DATASET = os.path.abspath(\"./datasets/MNIST\")\n",
        "\n",
        "TRAINING_SET_PATH = os.path.join(PATH_TO_DATASET, \"training_set.npy\")\n",
        "TRAINING_LABELS_PATH = os.path.join(PATH_TO_DATASET, \"training_labels.npy\")\n",
        "VALIDATION_SET_PATH = os.path.join(PATH_TO_DATASET, \"validation_set.npy\")\n",
        "VALIDATION_LABELS_PATH = os.path.join(PATH_TO_DATASET, \"validation_labels.npy\")"
      ]
    },
    {
      "cell_type": "markdown",
      "metadata": {},
      "source": [
        "### 2. Defining the dataset\n",
        "\n",
        "#### 2.1 Loading the data\n",
        "\n",
        "The dataset is how we provide the network with training data. For this example we create the dataset by loading it from storage using `LoadImage`. "
      ]
    },
    {
      "cell_type": "code",
      "execution_count": 3,
      "metadata": {},
      "outputs": [],
      "source": [
        "# Load the images from storage\n",
        "get_training_images = dt.LoadImage(path=TRAINING_SET_PATH)\n",
        "get_training_labels = dt.LoadImage(path=TRAINING_LABELS_PATH)\n",
        "\n",
        "get_validation_images = dt.LoadImage(path=VALIDATION_SET_PATH)\n",
        "get_validation_labels = dt.LoadImage(path=VALIDATION_LABELS_PATH)"
      ]
    },
    {
      "cell_type": "markdown",
      "metadata": {},
      "source": [
        "Note that we don't load the images yet, we have just created the objects that will do so. First, we normalize the data."
      ]
    },
    {
      "cell_type": "code",
      "execution_count": 4,
      "metadata": {},
      "outputs": [],
      "source": [
        "normalization = dt.NormalizeMinMax(0, 1)\n",
        "\n",
        "get_training_images >>= normalization\n",
        "get_validation_images >>= normalization"
      ]
    },
    {
      "cell_type": "markdown",
      "metadata": {},
      "source": [
        "Since all training data is contained in a single file, we explicitly load the images"
      ]
    },
    {
      "cell_type": "code",
      "execution_count": 5,
      "metadata": {},
      "outputs": [],
      "source": [
        "training_images = get_training_images.resolve()\n",
        "training_labels = get_training_labels.resolve()\n",
        "\n",
        "validation_images = get_validation_images.resolve()\n",
        "validation_labels = get_validation_labels.resolve()"
      ]
    },
    {
      "cell_type": "markdown",
      "metadata": {},
      "source": [
        "We want to continuously generate new data for the network to train on. For this, we use the `Dataset` feature."
      ]
    },
    {
      "cell_type": "code",
      "execution_count": 6,
      "metadata": {},
      "outputs": [],
      "source": [
        "training_data_iterator = itertools.cycle(training_images)\n",
        "training_label_iterator = itertools.cycle(training_labels)\n",
        "\n",
        "training_dataset = dt.Dataset(\n",
        "    data=training_data_iterator, \n",
        "    label=training_label_iterator\n",
        ")"
      ]
    },
    {
      "cell_type": "markdown",
      "metadata": {},
      "source": [
        "#### 2.3 Defining the target\n",
        "The training iterator resolves images. We can extract the label that we provided to the Dataset feature by just calling `get_property`."
      ]
    },
    {
      "cell_type": "code",
      "execution_count": 7,
      "metadata": {},
      "outputs": [],
      "source": [
        "def get_label(image):\n",
        "    return np.array(image.get_property(\"label\")).squeeze()"
      ]
    },
    {
      "cell_type": "markdown",
      "metadata": {},
      "source": [
        "#### 2.4 Visualizing the dataset\n",
        "To ensure the data and the labels match up we plot 8 images print their correspoding label. To convert the objects we created to an numpy array, we call the method `resolve()`. Since we flattened the images we need to reshape the images again to visualize them."
      ]
    },
    {
      "cell_type": "code",
      "execution_count": 8,
      "metadata": {},
      "outputs": [
        {
          "data": {
            "image/png": "[encoded data removed]",
            "text/plain": [
              "<Figure size 1080x216 with 1 Axes>"
            ]
          },
          "metadata": {
            "needs_background": "light"
          },
          "output_type": "display_data"
        },
        {
          "data": {
            "image/png": "[encoded data removed]",
            "text/plain": [
              "<Figure size 1080x216 with 1 Axes>"
            ]
          },
          "metadata": {
            "needs_background": "light"
          },
          "output_type": "display_data"
        },
        {
          "data": {
            "image/png": "[encoded data removed]",
            "text/plain": [
              "<Figure size 1080x216 with 1 Axes>"
            ]
          },
          "metadata": {
            "needs_background": "light"
          },
          "output_type": "display_data"
        },
        {
          "data": {
            "image/png": "[encoded data removed]",
            "text/plain": [
              "<Figure size 1080x216 with 1 Axes>"
            ]
          },
          "metadata": {
            "needs_background": "light"
          },
          "output_type": "display_data"
        },
        {
          "data": {
            "image/png": "[encoded data removed]",
            "text/plain": [
              "<Figure size 1080x216 with 1 Axes>"
            ]
          },
          "metadata": {
            "needs_background": "light"
          },
          "output_type": "display_data"
        },
        {
          "data": {
            "image/png": "[encoded data removed]",
            "text/plain": [
              "<Figure size 1080x216 with 1 Axes>"
            ]
          },
          "metadata": {
            "needs_background": "light"
          },
          "output_type": "display_data"
        },
        {
          "data": {
            "image/png": "[encoded data removed]",
            "text/plain": [
              "<Figure size 1080x216 with 1 Axes>"
            ]
          },
          "metadata": {
            "needs_background": "light"
          },
          "output_type": "display_data"
        },
        {
          "data": {
            "image/png": "[encoded data removed]",
            "text/plain": [
              "<Figure size 1080x216 with 1 Axes>"
            ]
          },
          "metadata": {
            "needs_background": "light"
          },
          "output_type": "display_data"
        }
      ],
      "source": [
        "NUMBER_OF_IMAGES = 8\n",
        "\n",
        "for image_index in range(NUMBER_OF_IMAGES):\n",
        "    \n",
        "    image = training_dataset.update()()\n",
        "    \n",
        "    \n",
        "    plt.figure(figsize=(15, 3))\n",
        "    plt.subplot(1, 6, 1)\n",
        "    plt.imshow(image)\n",
        "    plt.axis('off')\n",
        "    plt.title(\"Class:\" + str(get_label(image)))\n",
        "    plt.show()"
      ]
    },
    {
      "cell_type": "markdown",
      "metadata": {},
      "source": [
        "### 3. Defining the network\n",
        "\n",
        "The network used is a Vision Transformer. Here we define the network architecture, loss function and the optimizer."
      ]
    },
    {
      "cell_type": "code",
      "execution_count": 9,
      "metadata": {},
      "outputs": [
        {
          "name": "stdout",
          "output_type": "stream",
          "text": [
            "Model: \"functional_1\"\n",
            "_________________________________________________________________\n",
            "Layer (type)                 Output Shape              Param #   \n",
            "=================================================================\n",
            "input_1 (InputLayer)         [(None, 28, 28, 1)]       0         \n",
            "_________________________________________________________________\n",
            "embedding (Conv2D)           (None, 7, 7, 72)          1224      \n",
            "_________________________________________________________________\n",
            "reshape (Reshape)            (None, 49, 72)            0         \n",
            "_________________________________________________________________\n",
            "class_token (ClassToken)     (None, 50, 72)            72        \n",
            "_________________________________________________________________\n",
            "Transformer/posembed_input ( (None, 50, 72)            3600      \n",
            "_________________________________________________________________\n",
            "Transformer/encoderblock_0 ( ((None, 50, 72), (None, 1 58216     \n",
            "_________________________________________________________________\n",
            "Transformer/encoderblock_1 ( ((None, 50, 72), (None, 1 58216     \n",
            "_________________________________________________________________\n",
            "Transformer/encoderblock_2 ( ((None, 50, 72), (None, 1 58216     \n",
            "_________________________________________________________________\n",
            "Transformer/encoderblock_3 ( ((None, 50, 72), (None, 1 58216     \n",
            "_________________________________________________________________\n",
            "RetrieveClassToken (Lambda)  (None, 72)                0         \n",
            "_________________________________________________________________\n",
            "layer_1 (Layer)              (None, 72)                0         \n",
            "_________________________________________________________________\n",
            "layer_normalization_8 (Layer (None, 72)                144       \n",
            "_________________________________________________________________\n",
            "cls_prediction (Dense)       (None, 10)                730       \n",
            "=================================================================\n",
            "Total params: 238,634\n",
            "Trainable params: 238,634\n",
            "Non-trainable params: 0\n",
            "_________________________________________________________________\n"
          ]
        }
      ],
      "source": [
        "model = dt.models.ViT(\n",
        "            input_shape=(28, 28, 1),  # Size of the images to be analyzed\n",
        "            patch_shape=4, # Size of the patches to be extracted from the input images.\n",
        "            hidden_size=72, # Size of the hidden layers in the ViT model\n",
        "            number_of_transformer_layers=4, # Number of Transformer layers in the ViT model.\n",
        "            base_fwd_mlp_dimensions=256, # Size of the hidden layers in the forward MLP of the Transformer layers.\n",
        "            number_of_cls_outputs=10, # Size of the output layer of the ViT model (i.e., the number of classes).\n",
        "            cls_output_activation=\"linear\", # The activation function of the output.\n",
        "        )\n",
        "\n",
        "\n",
        "# compile the model\n",
        "model.compile(\n",
        "    loss=tf.keras.losses.SparseCategoricalCrossentropy(from_logits=True),\n",
        "    optimizer=tfa.optimizers.AdamW(learning_rate=1e-4, weight_decay=1e-4),\n",
        "    metrics=[\"accuracy\"],\n",
        ")\n",
        "\n",
        "model.summary() "
      ]
    },
    {
      "cell_type": "markdown",
      "metadata": {},
      "source": [
        "### 4. Training the network\n",
        "The network is trained for 100 epochs using standard Keras syntax."
      ]
    },
    {
      "cell_type": "code",
      "execution_count": 10,
      "metadata": {},
      "outputs": [
        {
          "name": "stdout",
          "output_type": "stream",
          "text": [
            "Generating 1001 / 1000 samples before starting training\n",
            "Epoch 1/100\n",
            "62/62 [==============================] - 7s 121ms/step - loss: 2.4491 - accuracy: 0.1280 - val_loss: 2.1479 - val_accuracy: 0.2240\n",
            "Epoch 2/100\n",
            "62/62 [==============================] - 5s 73ms/step - loss: 2.1951 - accuracy: 0.2026 - val_loss: 1.9656 - val_accuracy: 0.2660\n",
            "Epoch 3/100\n",
            "62/62 [==============================] - 8s 131ms/step - loss: 1.9966 - accuracy: 0.2893 - val_loss: 1.7649 - val_accuracy: 0.3840\n",
            "Epoch 4/100\n",
            "62/62 [==============================] - 7s 112ms/step - loss: 1.8088 - accuracy: 0.3357 - val_loss: 1.4759 - val_accuracy: 0.4820\n",
            "Epoch 5/100\n",
            "62/62 [==============================] - 7s 109ms/step - loss: 1.4302 - accuracy: 0.4940 - val_loss: 1.1877 - val_accuracy: 0.5980\n",
            "Epoch 6/100\n",
            "62/62 [==============================] - 8s 124ms/step - loss: 1.2743 - accuracy: 0.5685 - val_loss: 1.0220 - val_accuracy: 0.6460\n",
            "Epoch 7/100\n",
            "62/62 [==============================] - 6s 98ms/step - loss: 1.0633 - accuracy: 0.6411 - val_loss: 0.8392 - val_accuracy: 0.7180\n",
            "Epoch 8/100\n",
            "62/62 [==============================] - 6s 91ms/step - loss: 1.0047 - accuracy: 0.6875 - val_loss: 0.7549 - val_accuracy: 0.7620\n",
            "Epoch 9/100\n",
            "62/62 [==============================] - 6s 100ms/step - loss: 0.9575 - accuracy: 0.6855 - val_loss: 0.6982 - val_accuracy: 0.7760\n",
            "Epoch 10/100\n",
            "62/62 [==============================] - 6s 102ms/step - loss: 0.7863 - accuracy: 0.7500 - val_loss: 0.6334 - val_accuracy: 0.8080\n",
            "Epoch 11/100\n",
            "62/62 [==============================] - 12s 201ms/step - loss: 0.7864 - accuracy: 0.7440 - val_loss: 0.5998 - val_accuracy: 0.8220\n",
            "Epoch 12/100\n",
            "62/62 [==============================] - 12s 187ms/step - loss: 0.6996 - accuracy: 0.7641 - val_loss: 0.5375 - val_accuracy: 0.8240oss: 0.6741 - accuracy: 0.769 - ETA: 14s -\n",
            "Epoch 13/100\n",
            "62/62 [==============================] - 8s 128ms/step - loss: 0.7516 - accuracy: 0.7631 - val_loss: 0.5180 - val_accuracy: 0.8420\n",
            "Epoch 14/100\n",
            "62/62 [==============================] - 8s 127ms/step - loss: 0.7025 - accuracy: 0.7742 - val_loss: 0.4844 - val_accuracy: 0.8460\n",
            "Epoch 15/100\n",
            "62/62 [==============================] - 3s 53ms/step - loss: 0.6864 - accuracy: 0.7742 - val_loss: 0.4602 - val_accuracy: 0.8460\n",
            "Epoch 16/100\n",
            "62/62 [==============================] - 8s 125ms/step - loss: 0.6703 - accuracy: 0.7863 - val_loss: 0.4637 - val_accuracy: 0.8580\n",
            "Epoch 17/100\n",
            "62/62 [==============================] - 7s 107ms/step - loss: 0.6400 - accuracy: 0.8085 - val_loss: 0.4169 - val_accuracy: 0.8700\n",
            "Epoch 18/100\n",
            "62/62 [==============================] - 7s 118ms/step - loss: 0.6192 - accuracy: 0.8024 - val_loss: 0.3981 - val_accuracy: 0.8720\n",
            "Epoch 19/100\n",
            "62/62 [==============================] - 4s 70ms/step - loss: 0.6040 - accuracy: 0.8286 - val_loss: 0.4123 - val_accuracy: 0.8620\n",
            "Epoch 20/100\n",
            "62/62 [==============================] - 6s 101ms/step - loss: 0.5750 - accuracy: 0.8266 - val_loss: 0.3943 - val_accuracy: 0.8720\n",
            "Epoch 21/100\n",
            "62/62 [==============================] - 8s 124ms/step - loss: 0.5686 - accuracy: 0.8226 - val_loss: 0.3713 - val_accuracy: 0.8920\n",
            "Epoch 22/100\n",
            "62/62 [==============================] - 5s 80ms/step - loss: 0.5640 - accuracy: 0.8266 - val_loss: 0.3896 - val_accuracy: 0.8780\n",
            "Epoch 23/100\n",
            "62/62 [==============================] - 6s 98ms/step - loss: 0.5400 - accuracy: 0.8458 - val_loss: 0.3491 - val_accuracy: 0.8880\n",
            "Epoch 24/100\n",
            "62/62 [==============================] - 6s 94ms/step - loss: 0.5583 - accuracy: 0.8196 - val_loss: 0.3454 - val_accuracy: 0.8880\n",
            "Epoch 25/100\n",
            "62/62 [==============================] - 8s 131ms/step - loss: 0.5245 - accuracy: 0.8337 - val_loss: 0.3444 - val_accuracy: 0.8840\n",
            "Epoch 26/100\n",
            "62/62 [==============================] - 8s 130ms/step - loss: 0.5596 - accuracy: 0.8145 - val_loss: 0.3474 - val_accuracy: 0.8900\n",
            "Epoch 27/100\n",
            "62/62 [==============================] - 4s 66ms/step - loss: 0.5105 - accuracy: 0.8498 - val_loss: 0.3419 - val_accuracy: 0.8940\n",
            "Epoch 28/100\n",
            "62/62 [==============================] - 7s 112ms/step - loss: 0.5175 - accuracy: 0.8427 - val_loss: 0.4005 - val_accuracy: 0.8860\n",
            "Epoch 29/100\n",
            "62/62 [==============================] - 5s 79ms/step - loss: 0.4774 - accuracy: 0.8558 - val_loss: 0.3121 - val_accuracy: 0.9000\n",
            "Epoch 30/100\n",
            "62/62 [==============================] - 6s 95ms/step - loss: 0.4484 - accuracy: 0.8750 - val_loss: 0.3343 - val_accuracy: 0.8960\n",
            "Epoch 31/100\n",
            "62/62 [==============================] - 4s 67ms/step - loss: 0.4951 - accuracy: 0.8579 - val_loss: 0.3289 - val_accuracy: 0.8980\n",
            "Epoch 32/100\n",
            "62/62 [==============================] - 4s 68ms/step - loss: 0.4790 - accuracy: 0.8538 - val_loss: 0.3148 - val_accuracy: 0.9020\n",
            "Epoch 33/100\n",
            "62/62 [==============================] - 5s 86ms/step - loss: 0.4849 - accuracy: 0.8599 - val_loss: 0.3005 - val_accuracy: 0.9120\n",
            "Epoch 34/100\n",
            "62/62 [==============================] - 5s 80ms/step - loss: 0.5203 - accuracy: 0.8569 - val_loss: 0.3196 - val_accuracy: 0.9060\n",
            "Epoch 35/100\n",
            "62/62 [==============================] - 5s 86ms/step - loss: 0.4942 - accuracy: 0.8579 - val_loss: 0.3232 - val_accuracy: 0.9040\n",
            "Epoch 36/100\n",
            "62/62 [==============================] - 7s 109ms/step - loss: 0.4407 - accuracy: 0.8659 - val_loss: 0.3506 - val_accuracy: 0.8920\n",
            "Epoch 37/100\n",
            "62/62 [==============================] - 6s 97ms/step - loss: 0.4730 - accuracy: 0.8569 - val_loss: 0.2918 - val_accuracy: 0.9220\n",
            "Epoch 38/100\n",
            "62/62 [==============================] - 7s 109ms/step - loss: 0.4657 - accuracy: 0.8599 - val_loss: 0.2920 - val_accuracy: 0.9200\n",
            "Epoch 39/100\n",
            "62/62 [==============================] - 6s 100ms/step - loss: 0.4285 - accuracy: 0.8841 - val_loss: 0.3092 - val_accuracy: 0.9120\n",
            "Epoch 40/100\n",
            "62/62 [==============================] - 6s 94ms/step - loss: 0.4307 - accuracy: 0.8639 - val_loss: 0.2952 - val_accuracy: 0.9040\n",
            "Epoch 41/100\n",
            "62/62 [==============================] - 6s 90ms/step - loss: 0.4658 - accuracy: 0.8690 - val_loss: 0.3040 - val_accuracy: 0.9060\n",
            "Epoch 42/100\n",
            "62/62 [==============================] - 8s 124ms/step - loss: 0.4044 - accuracy: 0.8740 - val_loss: 0.2775 - val_accuracy: 0.9220\n",
            "Epoch 43/100\n",
            "62/62 [==============================] - 8s 129ms/step - loss: 0.4619 - accuracy: 0.8629 - val_loss: 0.2840 - val_accuracy: 0.9220\n",
            "Epoch 44/100\n",
            "62/62 [==============================] - 6s 104ms/step - loss: 0.4336 - accuracy: 0.8609 - val_loss: 0.2875 - val_accuracy: 0.9080\n",
            "Epoch 45/100\n",
            "62/62 [==============================] - 8s 130ms/step - loss: 0.4292 - accuracy: 0.8780 - val_loss: 0.2664 - val_accuracy: 0.9300\n",
            "Epoch 46/100\n",
            "62/62 [==============================] - 6s 94ms/step - loss: 0.4476 - accuracy: 0.8710 - val_loss: 0.2563 - val_accuracy: 0.9320\n",
            "Epoch 47/100\n",
            "62/62 [==============================] - 7s 119ms/step - loss: 0.4311 - accuracy: 0.8740 - val_loss: 0.2571 - val_accuracy: 0.9340\n",
            "Epoch 48/100\n",
            "62/62 [==============================] - 4s 71ms/step - loss: 0.4109 - accuracy: 0.8821 - val_loss: 0.2536 - val_accuracy: 0.9320\n",
            "Epoch 49/100\n",
            "62/62 [==============================] - 4s 68ms/step - loss: 0.4050 - accuracy: 0.8851 - val_loss: 0.2613 - val_accuracy: 0.9260\n",
            "Epoch 50/100\n",
            "62/62 [==============================] - 8s 128ms/step - loss: 0.4014 - accuracy: 0.8931 - val_loss: 0.2532 - val_accuracy: 0.9260\n",
            "Epoch 51/100\n",
            "62/62 [==============================] - 6s 94ms/step - loss: 0.4035 - accuracy: 0.8871 - val_loss: 0.2657 - val_accuracy: 0.9380\n",
            "Epoch 52/100\n",
            "62/62 [==============================] - 7s 110ms/step - loss: 0.4089 - accuracy: 0.8760 - val_loss: 0.2451 - val_accuracy: 0.9360\n",
            "Epoch 53/100\n",
            "62/62 [==============================] - 7s 106ms/step - loss: 0.3840 - accuracy: 0.8841 - val_loss: 0.2385 - val_accuracy: 0.9320\n",
            "Epoch 54/100\n",
            "62/62 [==============================] - 6s 102ms/step - loss: 0.4300 - accuracy: 0.8629 - val_loss: 0.2669 - val_accuracy: 0.9320\n",
            "Epoch 55/100\n",
            "62/62 [==============================] - 5s 88ms/step - loss: 0.4017 - accuracy: 0.8800 - val_loss: 0.2454 - val_accuracy: 0.9220\n",
            "Epoch 56/100\n",
            "62/62 [==============================] - 4s 70ms/step - loss: 0.4196 - accuracy: 0.8881 - val_loss: 0.2515 - val_accuracy: 0.9320\n",
            "Epoch 57/100\n",
            "62/62 [==============================] - 5s 79ms/step - loss: 0.3872 - accuracy: 0.8891 - val_loss: 0.2438 - val_accuracy: 0.9280\n",
            "Epoch 58/100\n",
            "62/62 [==============================] - 7s 111ms/step - loss: 0.3934 - accuracy: 0.8962 - val_loss: 0.2611 - val_accuracy: 0.9280\n",
            "Epoch 59/100\n",
            "62/62 [==============================] - 5s 78ms/step - loss: 0.3737 - accuracy: 0.9002 - val_loss: 0.2536 - val_accuracy: 0.9180\n",
            "Epoch 60/100\n",
            "62/62 [==============================] - 6s 104ms/step - loss: 0.3045 - accuracy: 0.9204 - val_loss: 0.2517 - val_accuracy: 0.9340\n",
            "Epoch 61/100\n",
            "62/62 [==============================] - 4s 58ms/step - loss: 0.4279 - accuracy: 0.8760 - val_loss: 0.2456 - val_accuracy: 0.9380\n",
            "Epoch 62/100\n",
            "62/62 [==============================] - 8s 135ms/step - loss: 0.3885 - accuracy: 0.8851 - val_loss: 0.2415 - val_accuracy: 0.9360\n",
            "Epoch 63/100\n",
            "62/62 [==============================] - 8s 128ms/step - loss: 0.3841 - accuracy: 0.8881 - val_loss: 0.2470 - val_accuracy: 0.9240\n",
            "Epoch 64/100\n",
            "62/62 [==============================] - 4s 68ms/step - loss: 0.4375 - accuracy: 0.8740 - val_loss: 0.2444 - val_accuracy: 0.9300\n",
            "Epoch 65/100\n",
            "62/62 [==============================] - 7s 120ms/step - loss: 0.4220 - accuracy: 0.8851 - val_loss: 0.2526 - val_accuracy: 0.9360\n",
            "Epoch 66/100\n",
            "62/62 [==============================] - 7s 120ms/step - loss: 0.3702 - accuracy: 0.8972 - val_loss: 0.2669 - val_accuracy: 0.9340\n",
            "Epoch 67/100\n",
            "62/62 [==============================] - 4s 64ms/step - loss: 0.3951 - accuracy: 0.8861 - val_loss: 0.2362 - val_accuracy: 0.9380\n",
            "Epoch 68/100\n",
            "62/62 [==============================] - 6s 103ms/step - loss: 0.4095 - accuracy: 0.8679 - val_loss: 0.2341 - val_accuracy: 0.9360\n",
            "Epoch 69/100\n",
            "62/62 [==============================] - 5s 81ms/step - loss: 0.3540 - accuracy: 0.9123 - val_loss: 0.2377 - val_accuracy: 0.9360\n",
            "Epoch 70/100\n",
            "62/62 [==============================] - 5s 86ms/step - loss: 0.3616 - accuracy: 0.8901 - val_loss: 0.2388 - val_accuracy: 0.9280\n",
            "Epoch 71/100\n",
            "62/62 [==============================] - 6s 96ms/step - loss: 0.4136 - accuracy: 0.8780 - val_loss: 0.2499 - val_accuracy: 0.9260\n",
            "Epoch 72/100\n",
            "62/62 [==============================] - 5s 86ms/step - loss: 0.3264 - accuracy: 0.9133 - val_loss: 0.2357 - val_accuracy: 0.9440\n",
            "Epoch 73/100\n",
            "62/62 [==============================] - 10s 161ms/step - loss: 0.4090 - accuracy: 0.8790 - val_loss: 0.2394 - val_accuracy: 0.9480 14s -\n",
            "Epoch 74/100\n",
            "62/62 [==============================] - 5s 89ms/step - loss: 0.3669 - accuracy: 0.8972 - val_loss: 0.2278 - val_accuracy: 0.9380\n",
            "Epoch 75/100\n",
            "62/62 [==============================] - 5s 86ms/step - loss: 0.3839 - accuracy: 0.8881 - val_loss: 0.2227 - val_accuracy: 0.9340\n",
            "Epoch 76/100\n",
            "62/62 [==============================] - 2s 39ms/step - loss: 0.3814 - accuracy: 0.8921 - val_loss: 0.2444 - val_accuracy: 0.9420\n",
            "Epoch 77/100\n",
            "62/62 [==============================] - 2s 40ms/step - loss: 0.3788 - accuracy: 0.8952 - val_loss: 0.2387 - val_accuracy: 0.9380\n",
            "Epoch 78/100\n",
            "62/62 [==============================] - 3s 52ms/step - loss: 0.3854 - accuracy: 0.9002 - val_loss: 0.2387 - val_accuracy: 0.9260\n",
            "Epoch 79/100\n",
            "62/62 [==============================] - 3s 52ms/step - loss: 0.3478 - accuracy: 0.9073 - val_loss: 0.2153 - val_accuracy: 0.9380\n",
            "Epoch 80/100\n",
            "62/62 [==============================] - 3s 51ms/step - loss: 0.3367 - accuracy: 0.9204 - val_loss: 0.2239 - val_accuracy: 0.9500\n",
            "Epoch 81/100\n",
            "62/62 [==============================] - 2s 25ms/step - loss: 0.3476 - accuracy: 0.9062 - val_loss: 0.2392 - val_accuracy: 0.9420\n",
            "Epoch 82/100\n",
            "62/62 [==============================] - 4s 57ms/step - loss: 0.3735 - accuracy: 0.8911 - val_loss: 0.2143 - val_accuracy: 0.9440\n",
            "Epoch 83/100\n",
            "62/62 [==============================] - 3s 54ms/step - loss: 0.3382 - accuracy: 0.9153 - val_loss: 0.2285 - val_accuracy: 0.9380\n",
            "Epoch 84/100\n",
            "62/62 [==============================] - 3s 54ms/step - loss: 0.3839 - accuracy: 0.8831 - val_loss: 0.2310 - val_accuracy: 0.9440\n",
            "Epoch 85/100\n",
            "62/62 [==============================] - 3s 54ms/step - loss: 0.3434 - accuracy: 0.9083 - val_loss: 0.2260 - val_accuracy: 0.9420\n",
            "Epoch 86/100\n",
            "62/62 [==============================] - 3s 50ms/step - loss: 0.3844 - accuracy: 0.8901 - val_loss: 0.2459 - val_accuracy: 0.9400\n",
            "Epoch 87/100\n",
            "62/62 [==============================] - 3s 50ms/step - loss: 0.3591 - accuracy: 0.8921 - val_loss: 0.2367 - val_accuracy: 0.9420\n",
            "Epoch 88/100\n",
            "62/62 [==============================] - 3s 53ms/step - loss: 0.3678 - accuracy: 0.9032 - val_loss: 0.2058 - val_accuracy: 0.9500\n",
            "Epoch 89/100\n",
            "62/62 [==============================] - 3s 51ms/step - loss: 0.3405 - accuracy: 0.9062 - val_loss: 0.2144 - val_accuracy: 0.9500\n",
            "Epoch 90/100\n",
            "62/62 [==============================] - 1s 24ms/step - loss: 0.2875 - accuracy: 0.9274 - val_loss: 0.2176 - val_accuracy: 0.9560\n",
            "Epoch 91/100\n",
            "62/62 [==============================] - 3s 51ms/step - loss: 0.3868 - accuracy: 0.8931 - val_loss: 0.2415 - val_accuracy: 0.9360\n",
            "Epoch 92/100\n",
            "62/62 [==============================] - 3s 53ms/step - loss: 0.3472 - accuracy: 0.9062 - val_loss: 0.2194 - val_accuracy: 0.9500\n",
            "Epoch 93/100\n",
            "62/62 [==============================] - 3s 54ms/step - loss: 0.3660 - accuracy: 0.8992 - val_loss: 0.2233 - val_accuracy: 0.9420\n",
            "Epoch 94/100\n",
            "62/62 [==============================] - 3s 53ms/step - loss: 0.3935 - accuracy: 0.8810 - val_loss: 0.2117 - val_accuracy: 0.9480\n",
            "Epoch 95/100\n",
            "62/62 [==============================] - 3s 54ms/step - loss: 0.3734 - accuracy: 0.8992 - val_loss: 0.2250 - val_accuracy: 0.9340\n",
            "Epoch 96/100\n",
            "62/62 [==============================] - 3s 49ms/step - loss: 0.3360 - accuracy: 0.9012 - val_loss: 0.2168 - val_accuracy: 0.9380\n",
            "Epoch 97/100\n",
            "62/62 [==============================] - 3s 52ms/step - loss: 0.3458 - accuracy: 0.9012 - val_loss: 0.2272 - val_accuracy: 0.9460\n",
            "Epoch 98/100\n",
            "62/62 [==============================] - 3s 50ms/step - loss: 0.3667 - accuracy: 0.8871 - val_loss: 0.2176 - val_accuracy: 0.9400\n",
            "Epoch 99/100\n",
            "62/62 [==============================] - 3s 55ms/step - loss: 0.3490 - accuracy: 0.9073 - val_loss: 0.2139 - val_accuracy: 0.9480\n",
            "Epoch 100/100\n",
            "62/62 [==============================] - 3s 49ms/step - loss: 0.3303 - accuracy: 0.9073 - val_loss: 0.2311 - val_accuracy: 0.9260\n"
          ]
        },
        {
          "data": {
            "image/png": "[encoded data removed]",
            "text/plain": [
              "<Figure size 432x288 with 1 Axes>"
            ]
          },
          "metadata": {
            "needs_background": "light"
          },
          "output_type": "display_data"
        }
      ],
      "source": [
        "TRAIN_MODEL = True\n",
        "\n",
        "if TRAIN_MODEL:\n",
        "    generator = dt.generators.ContinuousGenerator(\n",
        "        training_dataset & (training_dataset >> get_label),\n",
        "        batch_size=16,\n",
        "        min_data_size=1000,\n",
        "        max_data_size=1001,\n",
        "    )\n",
        "    with generator:\n",
        "        h = model.fit(\n",
        "            generator,\n",
        "            validation_data=(\n",
        "                np.expand_dims(validation_images[:500], -1),\n",
        "                validation_labels[:500].squeeze() \n",
        "            ),\n",
        "            epochs=100\n",
        "        )\n",
        "    \n",
        "    plt.plot(h.history[\"accuracy\"], 'g')\n",
        "    plt.plot(h.history[\"val_accuracy\"], 'r')\n",
        "    plt.legend([\"accuracy\", \"Validation accuracy\"]) \n",
        "    plt.yscale(\"log\")\n",
        "    plt.ylabel(\"Accuracy\")\n",
        "    plt.xlabel(\"Epoch\")\n",
        "    plt.show()\n",
        "    "
      ]
    },
    {
      "cell_type": "markdown",
      "metadata": {},
      "source": [
        "### 5. Evaluating the network"
      ]
    },
    {
      "cell_type": "markdown",
      "metadata": {},
      "source": [
        "The attention maps learned by the network are visualized for intepretation."
      ]
    },
    {
      "cell_type": "code",
      "execution_count": 78,
      "metadata": {},
      "outputs": [
        {
          "data": {
            "image/png": "[encoded data removed]",
            "text/plain": [
              "<Figure size 432x288 with 1 Axes>"
            ]
          },
          "metadata": {
            "needs_background": "light"
          },
          "output_type": "display_data"
        }
      ],
      "source": [
        "# index of validation image\n",
        "idx = 2000\n",
        "\n",
        "image = validation_images[idx]\n",
        "prediction = np.argmax(\n",
        "    model.predict(\n",
        "        np.expand_dims(image, (0, -1))\n",
        "    )\n",
        ")\n",
        "\n",
        "plt.imshow(image)\n",
        "plt.axis('off')\n",
        "plt.title(\"Class:\" + str(prediction))\n",
        "plt.show()"
      ]
    },
    {
      "cell_type": "markdown",
      "metadata": {},
      "source": [
        "We extract the attention scores from the transformer blocks"
      ]
    },
    {
      "cell_type": "code",
      "execution_count": 79,
      "metadata": {},
      "outputs": [],
      "source": [
        "outputs = [\n",
        "        l.output[1]\n",
        "        for l in model.layers\n",
        "        if isinstance(l, dt.models.TransformerEncoder)\n",
        "    ]\n",
        "\n",
        "weights = np.array(\n",
        "        tf.keras.models.Model(inputs=model.inputs, outputs=outputs).predict(\n",
        "            np.expand_dims(image, (0, -1))\n",
        "        )\n",
        "    )\n",
        "\n",
        "# retain the output of the last transformer layer\n",
        "weights = np.squeeze(weights, 1)[-1]"
      ]
    },
    {
      "cell_type": "code",
      "execution_count": 80,
      "metadata": {},
      "outputs": [],
      "source": [
        "from skimage.transform import resize\n",
        "\n",
        "# Number of heads\n",
        "num_heads = np.shape(weights)[0]\n",
        "\n",
        "# Extract the global representation of the image\n",
        "attentions = weights[:, 0, 1:].reshape(num_heads, -1)\n",
        "\n",
        "\n",
        "num_of_patches = int(28/4)\n",
        "attentions = attentions.reshape(num_heads, num_of_patches, num_of_patches)\n",
        "\n",
        "maps = []\n",
        "for att in attentions:\n",
        "    att = resize(att, (28, 28), order=1)\n",
        "    maps.append(att)"
      ]
    },
    {
      "cell_type": "markdown",
      "metadata": {},
      "source": [
        "Visualize attention scores at each head"
      ]
    },
    {
      "cell_type": "code",
      "execution_count": 81,
      "metadata": {},
      "outputs": [
        {
          "data": {
            "image/png": "[encoded data removed]",
            "text/plain": [
              "<Figure size 1440x1080 with 12 Axes>"
            ]
          },
          "metadata": {
            "needs_background": "light"
          },
          "output_type": "display_data"
        }
      ],
      "source": [
        "fig, ax = plt.subplots(3, 4, figsize=(20, 15))\n",
        "\n",
        "for i in range(12):\n",
        "    ax[i//4, i%4].imshow(image)\n",
        "    ax[i//4, i%4].imshow(maps[i], alpha=0.7, cmap='jet', vmin = 0, vmax = 0.4)\n",
        "    ax[i//4, i%4].axis('off')"
      ]
    }
  ],
  "metadata": {
    "kernelspec": {
      "display_name": "Python 3.8.6 64-bit",
      "language": "python",
      "name": "python3"
    },
    "language_info": {
      "codemirror_mode": {
        "name": "ipython",
        "version": 3
      },
      "file_extension": ".py",
      "mimetype": "text/x-python",
      "name": "python",
      "nbconvert_exporter": "python",
      "pygments_lexer": "ipython3",
      "version": "3.8.6"
    },
    "orig_nbformat": 4,
    "vscode": {
      "interpreter": {
        "hash": "1a7f8d9ad56e90590fcee41b0180e1f5be02ee2520f1975e08f7f16dd529d162"
      }
    }
  },
  "nbformat": 4,
  "nbformat_minor": 2
}
