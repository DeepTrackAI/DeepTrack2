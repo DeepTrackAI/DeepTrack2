{
  "cells": [
    {
      "cell_type": "code",
      "execution_count": 1,
      "metadata": {},
      "outputs": [],
      "source": [
        "%matplotlib inline\n",
        "!pip install deeptrack"
      ]
    },
    {
      "cell_type": "markdown",
      "metadata": {},
      "source": [
        "<!--<badge>--><a href=\"https://colab.research.google.com/github/softmatterlab/DeepTrack-2.0/blob/bm/improve-mie/examples/tutorials/tracking_particle_using_pytorch_tutorial.ipynb\" target=\"_parent\"><img src=\"https://colab.research.google.com/assets/colab-badge.svg\" alt=\"Open In Colab\"/></a><!--</badge>-->"
      ]
    },
    {
      "cell_type": "markdown",
      "metadata": {},
      "source": [
        "# DeepTrack 2.0 - Tracking particle using PyTorch\n",
        "\n",
        "This tutorial demonstrates how to track a point particle with a convolutional neural network defined using pytorch.\n",
        "\n",
        "Specifically, this tutotial explains how to: \n",
        "* Define the procedure to generate training images\n",
        "* Extract information from these images to use as labels for the training\n",
        "* Define and train a neural network model defined using pytorch\n",
        "* Visually evaluate the quality of the neural network output\n",
        "\n",
        "The notebook follows the example of [tracking_particle_cnn_tutorial](tracking_particle_cnn_tutorial.ipynb)."
      ]
    },
    {
      "cell_type": "markdown",
      "metadata": {},
      "source": [
        "## 1. Setup\n",
        "\n",
        "Imports needed for this tutorial."
      ]
    },
    {
      "cell_type": "code",
      "execution_count": 2,
      "metadata": {},
      "outputs": [
        {
          "name": "stdout",
          "output_type": "stream",
          "text": [
            "PyTorch will use cpu for training.\n"
          ]
        }
      ],
      "source": [
        "import deeptrack as dt\n",
        "\n",
        "import numpy as np\n",
        "import matplotlib.pyplot as plt\n",
        "\n",
        "import torch\n",
        "from torch import nn\n",
        "\n",
        "# Grabs the device to use for training\n",
        "device = 'cuda' if torch.cuda.is_available() else 'cpu'\n",
        "\n",
        "print(f\"PyTorch will use {device} for training.\")"
      ]
    },
    {
      "cell_type": "markdown",
      "metadata": {},
      "source": [
        "## 2. Define the particle\n",
        "\n",
        "For this example, we consider a spherical particle. Specifically, scattering of a spherical particle as determined by mie thery. For this, we use `MieSphere` (see also [scatterers_example](../module-examples/scatterers_example.ipynb)), whose properties are controlled by the following parameters:\n",
        "\n",
        "* `refractive_index`: The refractive index of the particle\n",
        "\n",
        "* `radius`: The radius of the marticle\n",
        "\n",
        "* `position`: The position of the point particle\n",
        "\n",
        "* `position_unit`: \"pixel\" or \"meter\""
      ]
    },
    {
      "cell_type": "code",
      "execution_count": 3,
      "metadata": {},
      "outputs": [],
      "source": [
        "mie_particle = dt.MieSphere(                                         \n",
        "    refractive_index=1.58,\n",
        "    radius=0.5e-6,\n",
        "    position=(32, 32),\n",
        "    position_unit=\"pixel\",\n",
        ")"
      ]
    },
    {
      "cell_type": "markdown",
      "metadata": {},
      "source": [
        "## 3. Define the optical system \n",
        "\n",
        "Next, we need to define the properties of the optical system. This is done using an instance of the class `Optics` (see also [optics_example](../module-examples/optics_example.ipynb)), which takes a set of particles (light scatterers) and convolves them with the pupil function (point spread function) of the optical system. In this tutorial, there is only one light scatterer (here, `mie_particle`).\n",
        "\n",
        "The optics is controlled by the following parameters:\n",
        "\n",
        "* `NA`: The numerical aperature\n",
        "\n",
        "* `resolution`: The effective camera pixel size (m)\n",
        "\n",
        "* `magnification`: The magnification of the optical device\n",
        "\n",
        "* `wavelength`: The wavelength of the lightsource (m)\n",
        "\n",
        "* `output_region`: The position of the camera and the number of pixels (x, y, width_x, width_y)\n",
        "\n",
        "* `upscale`: upscales all calculations. Increases accuracy at the cost of speed."
      ]
    },
    {
      "cell_type": "code",
      "execution_count": 4,
      "metadata": {},
      "outputs": [],
      "source": [
        "IMAGE_SIZE = 64\n",
        "\n",
        "brightfield_microscope = dt.Brightfield(\n",
        "    NA=0.9,                \n",
        "    resolution=1e-6,     \n",
        "    magnification=10,\n",
        "    wavelength=680e-9,\n",
        "    output_region=(0, 0, IMAGE_SIZE, IMAGE_SIZE),\n",
        "    padding=(32, 32, 32, 32),\n",
        "    upscale=2\n",
        ")"
      ]
    },
    {
      "cell_type": "markdown",
      "metadata": {},
      "source": [
        "## 4. Create and plot the image\n",
        "\n",
        "To view some object through an optical device, we call the optical device (here, `brightfield_microscope`) with the object we want to image (here, `point_particle`). This creates a new object (here, `imaged_particle`) that can be used to generate the desired image.\n",
        "\n",
        "The image is finally generated by calling `imaged_particle.resolve()`."
      ]
    },
    {
      "cell_type": "code",
      "execution_count": 5,
      "metadata": {},
      "outputs": [
        {
          "data": {
            "image/png": "[encoded data removed]",
            "text/plain": [
              "<Figure size 432x288 with 1 Axes>"
            ]
          },
          "metadata": {
            "needs_background": "light"
          },
          "output_type": "display_data"
        }
      ],
      "source": [
        "imaged_particle = brightfield_microscope(mie_particle)\n",
        "\n",
        "output_image = imaged_particle.update().resolve()\n",
        "\n",
        "plt.imshow(np.squeeze(output_image), cmap='gray')\n",
        "plt.show()"
      ]
    },
    {
      "cell_type": "markdown",
      "metadata": {},
      "source": [
        "## 5. Randomize the particle position\n",
        "\n",
        "We can generate particles with random positions by passing to the keyword argument `position` a lambda function that returns a pair of random numbers representing the particle position. We limit the scope, by asserting that the particle is at least 10 pixels from the edge of the image.\n",
        "\n",
        "We additionally normalize the image to be between 0 and 1. It is very common that normalizing the neural network input improves the results substantially."
      ]
    },
    {
      "cell_type": "code",
      "execution_count": 6,
      "metadata": {},
      "outputs": [
        {
          "data": {
            "text/plain": [
              "<matplotlib.image.AxesImage at 0x2062f8f51f0>"
            ]
          },
          "execution_count": 6,
          "metadata": {},
          "output_type": "execute_result"
        },
        {
          "data": {
            "image/png": "[encoded data removed]",
            "text/plain": [
              "<Figure size 432x288 with 1 Axes>"
            ]
          },
          "metadata": {
            "needs_background": "light"
          },
          "output_type": "display_data"
        }
      ],
      "source": [
        "# Generate particle with random position\n",
        "\n",
        "particle_with_random_position = dt.MieSphere(                                         \n",
        "    refractive_index=1.58,\n",
        "    radius=0.5e-6,\n",
        "    position=lambda: 10 + np.random.rand(2) * (IMAGE_SIZE - 20),\n",
        "    position_unit=\"pixel\"\n",
        ")\n",
        "\n",
        "imaged_particle_with_random_position = brightfield_microscope(particle_with_random_position)\n",
        "\n",
        "# Normalize each image between 0 and 1.\n",
        "normalized_image_of_particle = imaged_particle_with_random_position + dt.NormalizeMinMax(0, 1) \n",
        "\n",
        "output_image = imaged_particle_with_random_position.update().resolve()\n",
        "\n",
        "plt.imshow(np.squeeze(output_image), cmap='gray')"
      ]
    },
    {
      "cell_type": "markdown",
      "metadata": {},
      "source": [
        "The position can then be retrieved from the attribute `.position` of the generated image. `.properties` contains a list of all properties used to create the image.\n",
        "\n",
        "Note that to simulate a particle at a new position, we need to call `.update()`"
      ]
    },
    {
      "cell_type": "code",
      "execution_count": 7,
      "metadata": {},
      "outputs": [
        {
          "data": {
            "image/png": "[encoded data removed]",
            "text/plain": [
              "<Figure size 432x288 with 1 Axes>"
            ]
          },
          "metadata": {
            "needs_background": "light"
          },
          "output_type": "display_data"
        }
      ],
      "source": [
        "# Retrieve particle position\n",
        "\n",
        "def get_position_of_particle(image):\n",
        "    return image.get_property(\"position\")\n",
        "\n",
        "position_of_particle = get_position_of_particle(output_image)\n",
        "\n",
        "plt.imshow(np.squeeze(output_image), cmap='gray')\n",
        "plt.scatter(position_of_particle[1], position_of_particle[0])\n",
        "plt.show()"
      ]
    },
    {
      "cell_type": "markdown",
      "metadata": {},
      "source": [
        "We can define a single pipeline to create both the data and the label. First we define a function `get_scaled_position_of_particle` that retrieves the position of the particle scaled between 0 and 1.\n",
        "Using `>>`, we create a feature `training_labels` that evaluates this value. Finally, we use `&` to define a dataset pipeline that resolves both the image and the label."
      ]
    },
    {
      "cell_type": "code",
      "execution_count": 8,
      "metadata": {},
      "outputs": [],
      "source": [
        "# Function that retireves the position of a particle \n",
        "# and divides it by 64 to get values between 0 and 1\n",
        "def get_scaled_position_of_particle(image):\n",
        "    return image.get_property(\"position\") / IMAGE_SIZE\n",
        "\n",
        "training_labels = imaged_particle_with_random_position >> get_scaled_position_of_particle\n",
        "dataset = imaged_particle_with_random_position & training_labels"
      ]
    },
    {
      "cell_type": "markdown",
      "metadata": {},
      "source": [
        "We evaluate a sample from the dataset"
      ]
    },
    {
      "cell_type": "code",
      "execution_count": 9,
      "metadata": {},
      "outputs": [
        {
          "data": {
            "image/png": "[encoded data removed]",
            "text/plain": [
              "<Figure size 432x288 with 1 Axes>"
            ]
          },
          "metadata": {
            "needs_background": "light"
          },
          "output_type": "display_data"
        }
      ],
      "source": [
        "image_of_particle, (y, x) = dataset()\n",
        "plt.imshow(np.squeeze(image_of_particle), cmap='gray')\n",
        "plt.gca().scatter(x * IMAGE_SIZE, y * IMAGE_SIZE)\n",
        "plt.show()"
      ]
    },
    {
      "cell_type": "markdown",
      "metadata": {},
      "source": [
        "## 6. Define the neural network model\n",
        "\n",
        "For this example, we will define the neural network using PyTorch. The network used is consists of a small convolutional netowrk, followed by a dense top. Please refer to the PyTorch documentation for more information about how to define models in PyTorch."
      ]
    },
    {
      "cell_type": "code",
      "execution_count": 10,
      "metadata": {},
      "outputs": [
        {
          "name": "stdout",
          "output_type": "stream",
          "text": [
            "ConvolutionalNN(\n",
            "  (conv_stack): Sequential(\n",
            "    (0): Conv2d(1, 16, kernel_size=(3, 3), stride=(1, 1))\n",
            "    (1): ReLU()\n",
            "    (2): MaxPool2d(kernel_size=2, stride=2, padding=0, dilation=1, ceil_mode=False)\n",
            "    (3): Conv2d(16, 32, kernel_size=(3, 3), stride=(1, 1))\n",
            "    (4): ReLU()\n",
            "    (5): MaxPool2d(kernel_size=2, stride=2, padding=0, dilation=1, ceil_mode=False)\n",
            "    (6): Conv2d(32, 64, kernel_size=(3, 3), stride=(1, 1))\n",
            "    (7): ReLU()\n",
            "  )\n",
            "  (flatten): Flatten(start_dim=1, end_dim=-1)\n",
            "  (dense_top): Sequential(\n",
            "    (0): Linear(in_features=9216, out_features=32, bias=True)\n",
            "    (1): ReLU()\n",
            "    (2): Linear(in_features=32, out_features=32, bias=True)\n",
            "    (3): ReLU()\n",
            "    (4): Linear(in_features=32, out_features=2, bias=True)\n",
            "  )\n",
            ")\n"
          ]
        }
      ],
      "source": [
        "class ConvolutionalNN(nn.Module):\n",
        "    def __init__(self):\n",
        "        super(ConvolutionalNN, self).__init__()\n",
        "        \n",
        "        self.conv_stack = nn.Sequential(\n",
        "            nn.Conv2d(1, 16, 3),\n",
        "            nn.ReLU(),\n",
        "            nn.MaxPool2d(2),\n",
        "            nn.Conv2d(16, 32, 3),\n",
        "            nn.ReLU(),\n",
        "            nn.MaxPool2d(2),\n",
        "            nn.Conv2d(32, 64, 3),\n",
        "            nn.ReLU()\n",
        "        )\n",
        "\n",
        "        self.flatten = nn.Flatten()\n",
        "\n",
        "        self.dense_top = nn.Sequential(\n",
        "            nn.Linear(9216, 32),\n",
        "            nn.ReLU(),\n",
        "            nn.Linear(32, 32),\n",
        "            nn.ReLU(),\n",
        "            nn.Linear(32, 2),\n",
        "        )\n",
        "\n",
        "    def forward(self, x):\n",
        "        x = self.conv_stack(x)\n",
        "        x = self.flatten(x)\n",
        "        x = self.dense_top(x)\n",
        "        return x\n",
        "\n",
        "model = ConvolutionalNN().to(device)\n",
        "\n",
        "print(model)"
      ]
    },
    {
      "cell_type": "markdown",
      "metadata": {},
      "source": [
        "## 7. Define image generator\n",
        "\n",
        "Generators are objects that feed create data during training. We will be using the `PyTorchContinuousGenerator` in this tutorial. This is a convenience wrapper around `ContinuousGenerator` that prepares the data as PyTorch tensors."
      ]
    },
    {
      "cell_type": "code",
      "execution_count": 11,
      "metadata": {},
      "outputs": [],
      "source": [
        "generator = dt.generators.PyTorchContinuousGenerator(\n",
        "    dataset,\n",
        "    batch_function=lambda data: np.moveaxis(data[0], -1, 0),\n",
        "    label_function=lambda data: data[1],\n",
        "    batch_size=16,\n",
        "    min_data_size=1024,\n",
        "    max_data_size=2048\n",
        ")"
      ]
    },
    {
      "cell_type": "markdown",
      "metadata": {},
      "source": [
        "## 8. Train the model\n",
        "\n",
        "The model is trained by calling the method `.fit()` with the generator we defined in the previous step. Be patient, this might take some time (a few minutes)."
      ]
    },
    {
      "cell_type": "code",
      "execution_count": 12,
      "metadata": {},
      "outputs": [
        {
          "name": "stdout",
          "output_type": "stream",
          "text": [
            "Generating 1035 / 1024 samples before starting training\n",
            "| Epoch 0 =======================\n",
            "|   loss: 0.555094  [    0/ 1024]\r"
          ]
        },
        {
          "name": "stderr",
          "output_type": "stream",
          "text": [
            "C:\\Users\\GU\\AppData\\Local\\Programs\\Python\\Python38\\lib\\site-packages\\torch\\nn\\functional.py:718: UserWarning: Named tensors and all their associated APIs are an experimental feature and subject to change. Please do not use them for anything important until they are released as stable. (Triggered internally at  ..\\c10/core/TensorImpl.h:1156.)\n",
            "  return torch.max_pool2d(input, kernel_size, stride, padding, dilation, ceil_mode)\n"
          ]
        },
        {
          "name": "stdout",
          "output_type": "stream",
          "text": [
            "|   loss: 0.138395  [  960/ 1024]\n",
            "\n",
            "| Epoch 1 =======================\n",
            "|   loss: 0.023492  [ 1120/ 1168]\n",
            "\n",
            "| Epoch 2 =======================\n",
            "|   loss: 0.023871  [ 1280/ 1312]\n",
            "\n",
            "| Epoch 3 =======================\n",
            "|   loss: 0.022008  [ 1440/ 1472]\n",
            "\n",
            "| Epoch 4 =======================\n",
            "|   loss: 0.010889  [ 1600/ 1664]\n",
            "\n",
            "| Epoch 5 =======================\n",
            "|   loss: 0.017045  [ 1760/ 1872]\n",
            "\n",
            "| Epoch 6 =======================\n",
            "|   loss: 0.015056  [ 1920/ 2048]\n",
            "\n",
            "| Epoch 7 =======================\n",
            "|   loss: 0.013691  [ 1920/ 2048]\n",
            "\n",
            "| Epoch 8 =======================\n",
            "|   loss: 0.009502  [ 1920/ 2032]\n",
            "\n",
            "| Epoch 9 =======================\n",
            "|   loss: 0.017954  [ 1920/ 2048]\n",
            "\n",
            "| Epoch 10 =======================\n",
            "|   loss: 0.013880  [ 1920/ 2032]\n",
            "\n",
            "| Epoch 11 =======================\n",
            "|   loss: 0.004581  [ 1920/ 2048]\n",
            "\n",
            "| Epoch 12 =======================\n",
            "|   loss: 0.010719  [ 1920/ 2048]\n",
            "\n",
            "| Epoch 13 =======================\n",
            "|   loss: 0.011193  [ 1920/ 2032]\n",
            "\n",
            "| Epoch 14 =======================\n",
            "|   loss: 0.014942  [ 1920/ 2048]\n",
            "\n",
            "| Epoch 15 =======================\n",
            "|   loss: 0.005260  [ 1920/ 2048]\n",
            "\n",
            "| Epoch 16 =======================\n",
            "|   loss: 0.006328  [ 1920/ 2048]\n",
            "\n",
            "| Epoch 17 =======================\n",
            "|   loss: 0.006800  [ 1920/ 2032]\n",
            "\n",
            "| Epoch 18 =======================\n",
            "|   loss: 0.014936  [ 1920/ 2048]\n",
            "\n",
            "| Epoch 19 =======================\n",
            "|   loss: 0.009991  [ 1920/ 2048]\n",
            "\n"
          ]
        }
      ],
      "source": [
        "def train_loop(dataloader, model, loss_fn, optimizer):\n",
        "    size = len(dataloader) * dataloader.batch_size\n",
        "    for batch, (X, y) in enumerate(dataloader):\n",
        "        pred = model(X)\n",
        "        loss = loss_fn(pred, y)\n",
        "\n",
        "        # Backpropagation\n",
        "        optimizer.zero_grad()\n",
        "        loss.backward()\n",
        "        optimizer.step()\n",
        "\n",
        "        if batch % 10 == 0:\n",
        "            loss, current = loss.item(), batch * len(X)\n",
        "            print(f\"|   loss: {loss:>7f}  [{current:>5d}/{size:>5d}]\", end=\"\\r\")\n",
        "    print(\"\\n\")\n",
        "\n",
        "with generator:\n",
        "    loss_fn = nn.L1Loss()\n",
        "    optimizer = torch.optim.Adam(model.parameters())\n",
        "    for epoch in range(20):\n",
        "        print(f\"| Epoch {epoch} =======================\")\n",
        "        train_loop(generator, model, loss_fn, optimizer)\n",
        "        generator.on_epoch_end()\n",
        "    \n"
      ]
    },
    {
      "cell_type": "markdown",
      "metadata": {},
      "source": [
        "## 9. Visualize the model performance\n",
        "\n",
        "We can now use the trained model to measure the particle position in images previously unseen by the model.\n",
        "\n",
        "For real applications, it should be noted that the performance can be improved significantly by constraining the particle to be close to the center."
      ]
    },
    {
      "cell_type": "code",
      "execution_count": 13,
      "metadata": {},
      "outputs": [
        {
          "data": {
            "image/png": "[encoded data removed]",
            "text/plain": [
              "<Figure size 432x288 with 1 Axes>"
            ]
          },
          "metadata": {
            "needs_background": "light"
          },
          "output_type": "display_data"
        },
        {
          "data": {
            "image/png": "[encoded data removed]",
            "text/plain": [
              "<Figure size 432x288 with 1 Axes>"
            ]
          },
          "metadata": {
            "needs_background": "light"
          },
          "output_type": "display_data"
        },
        {
          "data": {
            "image/png": "[encoded data removed]",
            "text/plain": [
              "<Figure size 432x288 with 1 Axes>"
            ]
          },
          "metadata": {
            "needs_background": "light"
          },
          "output_type": "display_data"
        },
        {
          "data": {
            "image/png": "[encoded data removed]",
            "text/plain": [
              "<Figure size 432x288 with 1 Axes>"
            ]
          },
          "metadata": {
            "needs_background": "light"
          },
          "output_type": "display_data"
        }
      ],
      "source": [
        "# generator[0] extracts one batch of images from the generator\n",
        "images, real_positions = generator[0]\n",
        "measured_positions = model(images).detach().numpy()\n",
        "\n",
        "for i in range(4):\n",
        "    \n",
        "    image = np.squeeze(images[i])\n",
        "    \n",
        "    measured_position_x = measured_positions[i, 1] * IMAGE_SIZE\n",
        "    measured_position_y = measured_positions[i, 0] * IMAGE_SIZE\n",
        "\n",
        "    real_position_x = real_positions[i, 1] * IMAGE_SIZE\n",
        "    real_position_y = real_positions[i, 0] * IMAGE_SIZE\n",
        "\n",
        "    plt.imshow(image, cmap='gray')\n",
        "    plt.scatter(real_position_x, real_position_y, s=140, c='r', marker='x')\n",
        "    plt.scatter(measured_position_x, measured_position_y, s=200, marker='o', facecolor='none', edgecolors='b')\n",
        "    plt.show()"
      ]
    }
  ],
  "metadata": {
    "file_extension": ".py",
    "kernelspec": {
      "display_name": "Python 3.10.5 64-bit",
      "language": "python",
      "name": "python3"
    },
    "language_info": {
      "codemirror_mode": {
        "name": "ipython",
        "version": 3
      },
      "file_extension": ".py",
      "mimetype": "text/x-python",
      "name": "python",
      "nbconvert_exporter": "python",
      "pygments_lexer": "ipython3",
      "version": "3.10.5"
    },
    "mimetype": "text/x-python",
    "name": "python",
    "npconvert_exporter": "python",
    "pygments_lexer": "ipython3",
    "version": 3,
    "vscode": {
      "interpreter": {
        "hash": "1a9ab44d6eafc34d16b2bdd092109596a46de8e0ae90e714a12fa11c7cb37877"
      }
    }
  },
  "nbformat": 4,
  "nbformat_minor": 2
}
