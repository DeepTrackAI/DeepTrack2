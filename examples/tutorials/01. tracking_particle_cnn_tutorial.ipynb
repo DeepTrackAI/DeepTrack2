{
  "cells": [
    {
      "cell_type": "markdown",
      "metadata": {},
      "source": [
        "<!--<badge>--><a href=\"https://colab.research.google.com/github/softmatterlab/DeepTrack-2.0/blob/develop/examples/tutorials/tracking_particle_cnn_tutorial.ipynb\" target=\"_parent\"><img src=\"https://colab.research.google.com/assets/colab-badge.svg\" alt=\"Open In Colab\"/></a><!--</badge>-->"
      ]
    },
    {
      "cell_type": "markdown",
      "metadata": {},
      "source": [
        "# DeepTrack 2.0 - Tracking a point particle with a CNN\n",
        "\n",
        "This tutorial demonstrates how to track a point particle with a convolutional neural network (CNN) using DeepTrack 2.0.\n",
        "\n",
        "Specifically, this tutotial explains how to: \n",
        "* Define the procedure to generate training images\n",
        "* Extract information from these images to use as labels for the training\n",
        "* Define and train a neural network model\n",
        "* Visually evaluate the quality of the neural network output\n",
        "\n",
        "It is recommended to peruse this tutotial after the [deeptrack_introduction_tutorial](deeptrack_introduction_tutorial.ipynb)."
      ]
    },
    {
      "cell_type": "markdown",
      "metadata": {},
      "source": [
        "## 1. Setup\n",
        "\n",
        "Imports needed for this tutorial."
      ]
    },
    {
      "cell_type": "code",
      "execution_count": 1,
      "metadata": {
        "execution": {
          "iopub.execute_input": "2022-04-03T15:19:55.080599Z",
          "iopub.status.busy": "2022-04-03T15:19:55.080599Z",
          "iopub.status.idle": "2022-04-03T15:19:58.955598Z",
          "shell.execute_reply": "2022-04-03T15:19:58.955598Z"
        }
      },
      "outputs": [],
      "source": [
        "import deeptrack as dt\n",
        "\n",
        "import numpy as np\n",
        "import matplotlib.pyplot as plt"
      ]
    },
    {
      "cell_type": "markdown",
      "metadata": {},
      "source": [
        "## 2. Define the particle\n",
        "\n",
        "For this example, we consider a spherical particle. Specifically, scattering of a spherical particle as determined by mie thery. For this, we use `MieSphere` (see also [scatterers_example](../module-examples/scatterers_example.ipynb)), whose properties are controlled by the following parameters:\n",
        "\n",
        "* `refractive_index`: The refractive index of the particle\n",
        "\n",
        "* `radius`: The radius of the marticle\n",
        "\n",
        "* `position`: The position of the point particle\n",
        "\n",
        "* `position_unit`: \"pixel\" or \"meter\""
      ]
    },
    {
      "cell_type": "code",
      "execution_count": 2,
      "metadata": {
        "execution": {
          "iopub.execute_input": "2022-04-03T15:19:58.959099Z",
          "iopub.status.busy": "2022-04-03T15:19:58.958599Z",
          "iopub.status.idle": "2022-04-03T15:19:58.961598Z",
          "shell.execute_reply": "2022-04-03T15:19:58.961099Z"
        }
      },
      "outputs": [],
      "source": [
        "mie_particle = dt.MieSphere(                                         \n",
        "    refractive_index=1.58,\n",
        "    radius=0.5e-6,\n",
        "    position=(32, 32),\n",
        "    position_unit=\"pixel\",\n",
        ")"
      ]
    },
    {
      "cell_type": "markdown",
      "metadata": {},
      "source": [
        "## 3. Define the optical system \n",
        "\n",
        "Next, we need to define the properties of the optical system. This is done using an instance of the class `Optics` (see also [optics_example](../module-examples/optics_example.ipynb)), which takes a set of particles (light scatterers) and convolves them with the pupil function (point spread function) of the optical system. In this tutorial, there is only one light scatterer (here, `mie_particle`).\n",
        "\n",
        "The optics is controlled by the following parameters:\n",
        "\n",
        "* `NA`: The numerical aperature\n",
        "\n",
        "* `resolution`: The effective camera pixel size (m)\n",
        "\n",
        "* `magnification`: The magnification of the optical device\n",
        "\n",
        "* `wavelength`: The wavelength of the lightsource (m)\n",
        "\n",
        "* `output_region`: The position of the camera and the number of pixels (x, y, width_x, width_y)\n",
        "\n",
        "* `upscale`: upscales all calculations. Increases accuracy at the cost of speed."
      ]
    },
    {
      "cell_type": "code",
      "execution_count": 23,
      "metadata": {
        "execution": {
          "iopub.execute_input": "2022-04-03T15:19:58.965098Z",
          "iopub.status.busy": "2022-04-03T15:19:58.964599Z",
          "iopub.status.idle": "2022-04-03T15:19:58.967100Z",
          "shell.execute_reply": "2022-04-03T15:19:58.967600Z"
        }
      },
      "outputs": [],
      "source": [
        "IMAGE_SIZE = 64\n",
        "\n",
        "brightfield_microscope = dt.Brightfield(\n",
        "    NA=0.9,                \n",
        "    resolution=1e-6,     \n",
        "    magnification=10,\n",
        "    wavelength=680e-9,\n",
        "    output_region=(0, 0, IMAGE_SIZE, IMAGE_SIZE),\n",
        "    padding=(32, 32, 32, 32),\n",
        ")"
      ]
    },
    {
      "cell_type": "markdown",
      "metadata": {},
      "source": [
        "## 4. Create and plot the image\n",
        "\n",
        "To view some object through an optical device, we call the optical device (here, `brightfield_microscope`) with the object we want to image (here, `point_particle`). This creates a new object (here, `imaged_particle`) that can be used to generate the desired image.\n",
        "\n",
        "The image is finally generated by calling `imaged_particle.resolve()`."
      ]
    },
    {
      "cell_type": "code",
      "execution_count": 24,
      "metadata": {
        "execution": {
          "iopub.execute_input": "2022-04-03T15:19:58.973099Z",
          "iopub.status.busy": "2022-04-03T15:19:58.972599Z",
          "iopub.status.idle": "2022-04-03T15:20:00.018599Z",
          "shell.execute_reply": "2022-04-03T15:20:00.019098Z"
        }
      },
      "outputs": [
        {
          "data": {
            "image/png": "[encoded data removed]",
            "text/plain": [
              "<Figure size 640x480 with 1 Axes>"
            ]
          },
          "metadata": {},
          "output_type": "display_data"
        }
      ],
      "source": [
        "imaged_particle = brightfield_microscope(mie_particle)\n",
        "\n",
        "output_image = imaged_particle.update().resolve()\n",
        "\n",
        "plt.imshow(np.squeeze(output_image), cmap='gray')\n",
        "plt.show()"
      ]
    },
    {
      "cell_type": "markdown",
      "metadata": {},
      "source": [
        "## 5. Randomize the particle position\n",
        "\n",
        "We can generate particles with random positions by passing to the keyword argument `position` a lambda function that returns a pair of random numbers representing the particle position. We limit the scope, by asserting that the particle is at least 10 pixels from the edge of the image.\n",
        "\n",
        "We additionally normalize the image to be between 0 and 1. It is very common that normalizing the neural network input improves the results substantially."
      ]
    },
    {
      "cell_type": "code",
      "execution_count": 25,
      "metadata": {
        "execution": {
          "iopub.execute_input": "2022-04-03T15:20:00.025599Z",
          "iopub.status.busy": "2022-04-03T15:20:00.025599Z",
          "iopub.status.idle": "2022-04-03T15:20:00.129600Z",
          "shell.execute_reply": "2022-04-03T15:20:00.130099Z"
        }
      },
      "outputs": [
        {
          "data": {
            "text/plain": [
              "<matplotlib.image.AxesImage at 0x2334f0e0df0>"
            ]
          },
          "execution_count": 25,
          "metadata": {},
          "output_type": "execute_result"
        },
        {
          "data": {
            "image/png": "[encoded data removed]",
            "text/plain": [
              "<Figure size 640x480 with 1 Axes>"
            ]
          },
          "metadata": {},
          "output_type": "display_data"
        }
      ],
      "source": [
        "# Generate particle with random position\n",
        "\n",
        "particle_with_random_position = dt.MieSphere(                                         \n",
        "    refractive_index=1.58,\n",
        "    radius=0.5e-6,\n",
        "    position=lambda: 10 + np.random.rand(2) * (IMAGE_SIZE - 20),\n",
        "    position_unit=\"pixel\"\n",
        ")\n",
        "\n",
        "imaged_particle_with_random_position = brightfield_microscope(particle_with_random_position)\n",
        "\n",
        "# Normalize each image between 0 and 1.\n",
        "normalized_image_of_particle = imaged_particle_with_random_position >> dt.NormalizeMinMax(0, 1) \n",
        "\n",
        "output_image = imaged_particle_with_random_position.update().resolve()\n",
        "\n",
        "plt.imshow(np.squeeze(output_image), cmap='gray')"
      ]
    },
    {
      "cell_type": "markdown",
      "metadata": {},
      "source": [
        "The position can then be retrieved from the attribute `.position` of the generated image. `.properties` contains a list of all properties used to create the image.\n",
        "\n",
        "Note that to simulate a particle at a new position, we need to call `.update()`"
      ]
    },
    {
      "cell_type": "code",
      "execution_count": 26,
      "metadata": {
        "execution": {
          "iopub.execute_input": "2022-04-03T15:20:00.143099Z",
          "iopub.status.busy": "2022-04-03T15:20:00.143099Z",
          "iopub.status.idle": "2022-04-03T15:20:00.233100Z",
          "shell.execute_reply": "2022-04-03T15:20:00.233100Z"
        }
      },
      "outputs": [
        {
          "data": {
            "image/png": "[encoded data removed]",
            "text/plain": [
              "<Figure size 640x480 with 1 Axes>"
            ]
          },
          "metadata": {},
          "output_type": "display_data"
        }
      ],
      "source": [
        "\n",
        "\n",
        "position_of_particle = particle_with_random_position.position()\n",
        "\n",
        "plt.imshow(np.squeeze(output_image), cmap='gray')\n",
        "plt.scatter(position_of_particle[1], position_of_particle[0])\n",
        "plt.show()"
      ]
    },
    {
      "cell_type": "markdown",
      "metadata": {},
      "source": [
        "## 6. Define the neural network model\n",
        "\n",
        "We will use a predefined neural network model obtained by calling the function `convolutional` (see also [models_example](../module-examples/models_example.ipynb)). This model is a convolutional neural network with a dense top. It receives as input an image of shape `(64, 64, 1)` and outputs two scalar values corresponing to the x and y position of the particle.\n",
        "\n",
        "The model can be customized using the following arguments\n",
        "\n",
        "* `input_shape`: Size of the images to be analyzed.\n",
        "\n",
        "* `conv_layers_dimensions`: Number of convolutions in each convolutional layer.\n",
        "    \n",
        "* `dense_layers_dimensions`: Number of units in each dense layer.\n",
        "        \n",
        "* `number_of_outputs`: Number of units in the output layer.\n",
        "\n",
        "* `output_activation`: The activation function applied to the output layer.\n",
        "\n",
        "* `loss`: The loss function of the network.\n",
        "\n",
        "* `optimizer`: The the optimizer used for training.\n",
        "\n",
        "* `metrics`: Additional metrics to evaulate during training."
      ]
    },
    {
      "cell_type": "code",
      "execution_count": 27,
      "metadata": {
        "execution": {
          "iopub.execute_input": "2022-04-03T15:20:00.240599Z",
          "iopub.status.busy": "2022-04-03T15:20:00.235599Z",
          "iopub.status.idle": "2022-04-03T15:20:00.322599Z",
          "shell.execute_reply": "2022-04-03T15:20:00.322098Z"
        }
      },
      "outputs": [
        {
          "name": "stdout",
          "output_type": "stream",
          "text": [
            "Model: \"model\"\n",
            "_________________________________________________________________\n",
            " Layer (type)                Output Shape              Param #   \n",
            "=================================================================\n",
            " input_1 (InputLayer)        [(None, 64, 64, 1)]       0         \n",
            "                                                                 \n",
            " conv2d (Conv2D)             (None, 64, 64, 16)        160       \n",
            "                                                                 \n",
            " activation (Activation)     (None, 64, 64, 16)        0         \n",
            "                                                                 \n",
            " max_pooling2d (MaxPooling2D  (None, 32, 32, 16)       0         \n",
            " )                                                               \n",
            "                                                                 \n",
            " conv2d_1 (Conv2D)           (None, 32, 32, 32)        4640      \n",
            "                                                                 \n",
            " activation_1 (Activation)   (None, 32, 32, 32)        0         \n",
            "                                                                 \n",
            " max_pooling2d_1 (MaxPooling  (None, 16, 16, 32)       0         \n",
            " 2D)                                                             \n",
            "                                                                 \n",
            " conv2d_2 (Conv2D)           (None, 16, 16, 64)        18496     \n",
            "                                                                 \n",
            " activation_2 (Activation)   (None, 16, 16, 64)        0         \n",
            "                                                                 \n",
            " max_pooling2d_2 (MaxPooling  (None, 8, 8, 64)         0         \n",
            " 2D)                                                             \n",
            "                                                                 \n",
            " conv2d_3 (Conv2D)           (None, 8, 8, 128)         73856     \n",
            "                                                                 \n",
            " activation_3 (Activation)   (None, 8, 8, 128)         0         \n",
            "                                                                 \n",
            " max_pooling2d_3 (MaxPooling  (None, 4, 4, 128)        0         \n",
            " 2D)                                                             \n",
            "                                                                 \n",
            " flatten_1 (Flatten)         (None, 2048)              0         \n",
            "                                                                 \n",
            " dense (Dense)               (None, 32)                65568     \n",
            "                                                                 \n",
            " activation_4 (Activation)   (None, 32)                0         \n",
            "                                                                 \n",
            " dense_1 (Dense)             (None, 32)                1056      \n",
            "                                                                 \n",
            " activation_5 (Activation)   (None, 32)                0         \n",
            "                                                                 \n",
            " dense_2 (Dense)             (None, 2)                 66        \n",
            "                                                                 \n",
            "=================================================================\n",
            "Total params: 163,842\n",
            "Trainable params: 163,842\n",
            "Non-trainable params: 0\n",
            "_________________________________________________________________\n"
          ]
        }
      ],
      "source": [
        "model = dt.models.convolutional(\n",
        "    input_shape=(64, 64, 1), \n",
        "    number_of_outputs=2\n",
        ")\n",
        "\n",
        "model.summary()"
      ]
    },
    {
      "cell_type": "markdown",
      "metadata": {},
      "source": [
        "## 7. Define image generator\n",
        "\n",
        "Generators are objects that feed models with images and their corresponging labels during training. They are as instances of the class `ContinuousGenerator` (see also [generators_example](../module-examples/generators_example.ipynb)). This method takes the following inputs:\n",
        "* `feature`: A feature (see also [features_example](../module-examples/features_example.ipynb) that resolves images used to train a model (here, `imaged_particle_with_random_position`)\n",
        "* `label_function`: A function that takes an image as input and returns the label for that image (here, `get_position_of_particle`)\n",
        "* `batch_size`: The number of images per batch\n",
        "* `min_data_size` The number of images to create starting training\n",
        "* `max_data_size` The maximum images to hold in memory at one point in time."
      ]
    },
    {
      "cell_type": "code",
      "execution_count": 32,
      "metadata": {
        "execution": {
          "iopub.execute_input": "2022-04-03T15:20:00.325599Z",
          "iopub.status.busy": "2022-04-03T15:20:00.325098Z",
          "iopub.status.idle": "2022-04-03T15:20:00.327098Z",
          "shell.execute_reply": "2022-04-03T15:20:00.327098Z"
        }
      },
      "outputs": [],
      "source": [
        "# Function that retireves the position of a particle \n",
        "# and divides it by 64 to get values between 0 and 1\n",
        "scaled_position_of_particle = particle_with_random_position.position / IMAGE_SIZE\n",
        "\n",
        "image_and_position_pipeline = imaged_particle_with_random_position & scaled_position_of_particle\n",
        "\n",
        "generator = dt.generators.ContinuousGenerator(\n",
        "    image_and_position_pipeline,\n",
        "    batch_size=4,\n",
        "    min_data_size=1024,\n",
        "    max_data_size=2048\n",
        ")\n",
        "\n"
      ]
    },
    {
      "cell_type": "code",
      "execution_count": 34,
      "metadata": {
        "execution": {
          "iopub.execute_input": "2022-04-03T15:20:00.332599Z",
          "iopub.status.busy": "2022-04-03T15:20:00.332099Z",
          "iopub.status.idle": "2022-04-03T15:20:02.905133Z",
          "shell.execute_reply": "2022-04-03T15:20:02.905133Z"
        }
      },
      "outputs": [],
      "source": [
        "validation_size = 256\n",
        "\n",
        "(validation_data,\n",
        " validation_targets) = zip(*[\n",
        "     image_and_position_pipeline.update().resolve() for _ in range(validation_size) \n",
        "])"
      ]
    },
    {
      "cell_type": "markdown",
      "metadata": {},
      "source": [
        "## 8. Train the model\n",
        "\n",
        "The model is trained by calling the method `.fit()` with the generator we defined in the previous step. Be patient, this might take some time (several minutes).\n",
        "\n",
        "If you are training on a CPU, consider reducing the number of epochs to around 50."
      ]
    },
    {
      "cell_type": "code",
      "execution_count": 35,
      "metadata": {
        "execution": {
          "iopub.execute_input": "2022-04-03T15:20:02.919599Z",
          "iopub.status.busy": "2022-04-03T15:20:02.919101Z",
          "iopub.status.idle": "2022-04-03T15:24:24.498598Z",
          "shell.execute_reply": "2022-04-03T15:24:24.498098Z"
        }
      },
      "outputs": [
        {
          "name": "stdout",
          "output_type": "stream",
          "text": [
            "Generating 1054 / 1024 samples before starting training\n",
            "Epoch 1/100\n"
          ]
        },
        {
          "name": "stderr",
          "output_type": "stream",
          "text": [
            "WARNING:tensorflow:AutoGraph could not transform <function Model.make_train_function.<locals>.train_function at 0x00000233759AD2D0> and will run it as-is.\n",
            "Please report this to the TensorFlow team. When filing the bug, set the verbosity to 10 (on Linux, `export AUTOGRAPH_VERBOSITY=10`) and attach the full output.\n",
            "Cause: deeptrack attempted to use a functionality that requires module deeptrack.datasets, but it couldn't be loaded. Please install deeptrack and retry.\n",
            "To silence this warning, decorate the function with @tf.autograph.experimental.do_not_convert\n"
          ]
        },
        {
          "name": "stdout",
          "output_type": "stream",
          "text": [
            "WARNING: AutoGraph could not transform <function Model.make_train_function.<locals>.train_function at 0x00000233759AD2D0> and will run it as-is.\n",
            "Please report this to the TensorFlow team. When filing the bug, set the verbosity to 10 (on Linux, `export AUTOGRAPH_VERBOSITY=10`) and attach the full output.\n",
            "Cause: deeptrack attempted to use a functionality that requires module deeptrack.datasets, but it couldn't be loaded. Please install deeptrack and retry.\n",
            "To silence this warning, decorate the function with @tf.autograph.experimental.do_not_convert\n",
            "250/256 [============================>.] - ETA: 0s - loss: 0.0542"
          ]
        },
        {
          "name": "stderr",
          "output_type": "stream",
          "text": [
            "WARNING:tensorflow:AutoGraph could not transform <function Model.make_test_function.<locals>.test_function at 0x000002385073CE50> and will run it as-is.\n",
            "Cause: Unable to locate the source code of <function Model.make_test_function.<locals>.test_function at 0x000002385073CE50>. Note that functions defined in certain environments, like the interactive Python shell, do not expose their source code. If that is the case, you should define them in a .py source file. If you are certain the code is graph-compatible, wrap the call using @tf.autograph.experimental.do_not_convert. Original error: [WinError 127] Det går inte att hitta den angivna proceduren. Error loading \"c:\\Users\\GU\\AppData\\Local\\Programs\\Python\\Python310\\lib\\site-packages\\torch\\lib\\cudnn_adv_infer64_8.dll\" or one of its dependencies.\n",
            "To silence this warning, decorate the function with @tf.autograph.experimental.do_not_convert\n"
          ]
        },
        {
          "name": "stdout",
          "output_type": "stream",
          "text": [
            "WARNING: AutoGraph could not transform <function Model.make_test_function.<locals>.test_function at 0x000002385073CE50> and will run it as-is.\n",
            "Cause: Unable to locate the source code of <function Model.make_test_function.<locals>.test_function at 0x000002385073CE50>. Note that functions defined in certain environments, like the interactive Python shell, do not expose their source code. If that is the case, you should define them in a .py source file. If you are certain the code is graph-compatible, wrap the call using @tf.autograph.experimental.do_not_convert. Original error: [WinError 127] Det går inte att hitta den angivna proceduren. Error loading \"c:\\Users\\GU\\AppData\\Local\\Programs\\Python\\Python310\\lib\\site-packages\\torch\\lib\\cudnn_adv_infer64_8.dll\" or one of its dependencies.\n",
            "To silence this warning, decorate the function with @tf.autograph.experimental.do_not_convert\n",
            "256/256 [==============================] - 32s 6ms/step - loss: 0.0541 - val_loss: 0.0226\n",
            "Epoch 2/100\n",
            "256/256 [==============================] - 2s 6ms/step - loss: 0.0302 - val_loss: 0.0212\n",
            "Epoch 3/100\n",
            "256/256 [==============================] - 1s 6ms/step - loss: 0.0204 - val_loss: 0.0182\n",
            "Epoch 4/100\n",
            "256/256 [==============================] - 1s 5ms/step - loss: 0.0174 - val_loss: 0.0160\n",
            "Epoch 5/100\n",
            "256/256 [==============================] - 1s 5ms/step - loss: 0.0175 - val_loss: 0.0150\n",
            "Epoch 6/100\n",
            "256/256 [==============================] - 1s 6ms/step - loss: 0.0148 - val_loss: 0.0146\n",
            "Epoch 7/100\n",
            "256/256 [==============================] - 1s 6ms/step - loss: 0.0135 - val_loss: 0.0115\n",
            "Epoch 8/100\n",
            "256/256 [==============================] - 2s 6ms/step - loss: 0.0142 - val_loss: 0.0097\n",
            "Epoch 9/100\n",
            "256/256 [==============================] - 1s 6ms/step - loss: 0.0134 - val_loss: 0.0131\n",
            "Epoch 10/100\n",
            "256/256 [==============================] - 1s 5ms/step - loss: 0.0127 - val_loss: 0.0135\n",
            "Epoch 11/100\n",
            "256/256 [==============================] - 2s 6ms/step - loss: 0.0131 - val_loss: 0.0117\n",
            "Epoch 12/100\n",
            "256/256 [==============================] - 1s 6ms/step - loss: 0.0129 - val_loss: 0.0111\n",
            "Epoch 13/100\n",
            "256/256 [==============================] - 2s 6ms/step - loss: 0.0124 - val_loss: 0.0103\n",
            "Epoch 14/100\n",
            "256/256 [==============================] - 2s 6ms/step - loss: 0.0117 - val_loss: 0.0173\n",
            "Epoch 15/100\n",
            "256/256 [==============================] - 2s 6ms/step - loss: 0.0146 - val_loss: 0.0099\n",
            "Epoch 16/100\n",
            "256/256 [==============================] - 2s 6ms/step - loss: 0.0090 - val_loss: 0.0062\n",
            "Epoch 17/100\n",
            "256/256 [==============================] - 1s 6ms/step - loss: 0.0101 - val_loss: 0.0073\n",
            "Epoch 18/100\n",
            "256/256 [==============================] - 1s 6ms/step - loss: 0.0098 - val_loss: 0.0116\n",
            "Epoch 19/100\n",
            "256/256 [==============================] - 2s 6ms/step - loss: 0.0120 - val_loss: 0.0095\n",
            "Epoch 20/100\n",
            "256/256 [==============================] - 1s 6ms/step - loss: 0.0096 - val_loss: 0.0108\n",
            "Epoch 21/100\n",
            "256/256 [==============================] - 2s 7ms/step - loss: 0.0093 - val_loss: 0.0094\n",
            "Epoch 22/100\n",
            "256/256 [==============================] - 2s 6ms/step - loss: 0.0105 - val_loss: 0.0079\n",
            "Epoch 23/100\n",
            "256/256 [==============================] - 1s 6ms/step - loss: 0.0093 - val_loss: 0.0094\n",
            "Epoch 24/100\n",
            "256/256 [==============================] - 2s 6ms/step - loss: 0.0093 - val_loss: 0.0076\n",
            "Epoch 25/100\n",
            "256/256 [==============================] - 2s 6ms/step - loss: 0.0088 - val_loss: 0.0086\n",
            "Epoch 26/100\n",
            "256/256 [==============================] - 2s 6ms/step - loss: 0.0091 - val_loss: 0.0173\n",
            "Epoch 27/100\n",
            "256/256 [==============================] - 2s 6ms/step - loss: 0.0092 - val_loss: 0.0069\n",
            "Epoch 28/100\n",
            "256/256 [==============================] - 2s 6ms/step - loss: 0.0097 - val_loss: 0.0057\n",
            "Epoch 29/100\n",
            "256/256 [==============================] - 1s 5ms/step - loss: 0.0085 - val_loss: 0.0157\n",
            "Epoch 30/100\n",
            "256/256 [==============================] - 2s 6ms/step - loss: 0.0100 - val_loss: 0.0117\n",
            "Epoch 31/100\n",
            "256/256 [==============================] - 2s 6ms/step - loss: 0.0101 - val_loss: 0.0116\n",
            "Epoch 32/100\n",
            "256/256 [==============================] - 2s 7ms/step - loss: 0.0081 - val_loss: 0.0073\n",
            "Epoch 33/100\n",
            "256/256 [==============================] - 1s 6ms/step - loss: 0.0090 - val_loss: 0.0091\n",
            "Epoch 34/100\n",
            "256/256 [==============================] - 1s 6ms/step - loss: 0.0087 - val_loss: 0.0076\n",
            "Epoch 35/100\n",
            "256/256 [==============================] - 2s 6ms/step - loss: 0.0088 - val_loss: 0.0086\n",
            "Epoch 36/100\n",
            "256/256 [==============================] - 2s 6ms/step - loss: 0.0082 - val_loss: 0.0067\n",
            "Epoch 37/100\n",
            "256/256 [==============================] - 1s 6ms/step - loss: 0.0072 - val_loss: 0.0044\n",
            "Epoch 38/100\n",
            "256/256 [==============================] - 1s 5ms/step - loss: 0.0073 - val_loss: 0.0067\n",
            "Epoch 39/100\n",
            "256/256 [==============================] - 1s 6ms/step - loss: 0.0073 - val_loss: 0.0115\n",
            "Epoch 40/100\n",
            "256/256 [==============================] - 2s 6ms/step - loss: 0.0083 - val_loss: 0.0055\n",
            "Epoch 41/100\n",
            "256/256 [==============================] - 1s 6ms/step - loss: 0.0078 - val_loss: 0.0163\n",
            "Epoch 42/100\n",
            "256/256 [==============================] - 1s 5ms/step - loss: 0.0084 - val_loss: 0.0066\n",
            "Epoch 43/100\n",
            "256/256 [==============================] - 1s 6ms/step - loss: 0.0071 - val_loss: 0.0104\n",
            "Epoch 44/100\n",
            "256/256 [==============================] - 1s 6ms/step - loss: 0.0072 - val_loss: 0.0041\n",
            "Epoch 45/100\n",
            "256/256 [==============================] - 1s 6ms/step - loss: 0.0069 - val_loss: 0.0084\n",
            "Epoch 46/100\n",
            "256/256 [==============================] - 1s 6ms/step - loss: 0.0077 - val_loss: 0.0092\n",
            "Epoch 47/100\n",
            "256/256 [==============================] - 1s 5ms/step - loss: 0.0074 - val_loss: 0.0076\n",
            "Epoch 48/100\n",
            "256/256 [==============================] - 1s 6ms/step - loss: 0.0067 - val_loss: 0.0072\n",
            "Epoch 49/100\n",
            "256/256 [==============================] - 2s 7ms/step - loss: 0.0075 - val_loss: 0.0058\n",
            "Epoch 50/100\n",
            "256/256 [==============================] - 2s 6ms/step - loss: 0.0058 - val_loss: 0.0048\n",
            "Epoch 51/100\n",
            "256/256 [==============================] - 2s 6ms/step - loss: 0.0072 - val_loss: 0.0081\n",
            "Epoch 52/100\n",
            "256/256 [==============================] - 2s 6ms/step - loss: 0.0078 - val_loss: 0.0079\n",
            "Epoch 53/100\n",
            "256/256 [==============================] - 1s 6ms/step - loss: 0.0061 - val_loss: 0.0056\n",
            "Epoch 54/100\n",
            "256/256 [==============================] - 1s 6ms/step - loss: 0.0064 - val_loss: 0.0083\n",
            "Epoch 55/100\n",
            "256/256 [==============================] - 1s 6ms/step - loss: 0.0072 - val_loss: 0.0053\n",
            "Epoch 56/100\n",
            "256/256 [==============================] - 2s 6ms/step - loss: 0.0067 - val_loss: 0.0079\n",
            "Epoch 57/100\n",
            "256/256 [==============================] - 2s 6ms/step - loss: 0.0066 - val_loss: 0.0056\n",
            "Epoch 58/100\n",
            "256/256 [==============================] - 2s 6ms/step - loss: 0.0064 - val_loss: 0.0077\n",
            "Epoch 59/100\n",
            "256/256 [==============================] - 1s 5ms/step - loss: 0.0073 - val_loss: 0.0105\n",
            "Epoch 60/100\n",
            "256/256 [==============================] - 2s 6ms/step - loss: 0.0074 - val_loss: 0.0098\n",
            "Epoch 61/100\n",
            "256/256 [==============================] - 2s 6ms/step - loss: 0.0066 - val_loss: 0.0050\n",
            "Epoch 62/100\n",
            "256/256 [==============================] - 2s 6ms/step - loss: 0.0058 - val_loss: 0.0085\n",
            "Epoch 63/100\n",
            "256/256 [==============================] - 1s 6ms/step - loss: 0.0064 - val_loss: 0.0079\n",
            "Epoch 64/100\n",
            "256/256 [==============================] - 1s 6ms/step - loss: 0.0056 - val_loss: 0.0077\n",
            "Epoch 65/100\n",
            "256/256 [==============================] - 2s 6ms/step - loss: 0.0068 - val_loss: 0.0043\n",
            "Epoch 66/100\n",
            "256/256 [==============================] - 2s 6ms/step - loss: 0.0055 - val_loss: 0.0068\n",
            "Epoch 67/100\n",
            "256/256 [==============================] - 2s 6ms/step - loss: 0.0057 - val_loss: 0.0068\n",
            "Epoch 68/100\n",
            "256/256 [==============================] - 2s 6ms/step - loss: 0.0060 - val_loss: 0.0086\n",
            "Epoch 69/100\n",
            "256/256 [==============================] - 2s 6ms/step - loss: 0.0060 - val_loss: 0.0044\n",
            "Epoch 70/100\n",
            "256/256 [==============================] - 2s 6ms/step - loss: 0.0061 - val_loss: 0.0091\n",
            "Epoch 71/100\n",
            "256/256 [==============================] - 1s 6ms/step - loss: 0.0059 - val_loss: 0.0056\n",
            "Epoch 72/100\n",
            "256/256 [==============================] - 1s 6ms/step - loss: 0.0055 - val_loss: 0.0068\n",
            "Epoch 73/100\n",
            "256/256 [==============================] - 2s 6ms/step - loss: 0.0059 - val_loss: 0.0067\n",
            "Epoch 74/100\n",
            "256/256 [==============================] - 1s 6ms/step - loss: 0.0057 - val_loss: 0.0066\n",
            "Epoch 75/100\n",
            "256/256 [==============================] - 2s 6ms/step - loss: 0.0059 - val_loss: 0.0088\n",
            "Epoch 76/100\n",
            "256/256 [==============================] - 1s 6ms/step - loss: 0.0058 - val_loss: 0.0064\n",
            "Epoch 77/100\n",
            "256/256 [==============================] - 1s 6ms/step - loss: 0.0054 - val_loss: 0.0047\n",
            "Epoch 78/100\n",
            "256/256 [==============================] - 1s 6ms/step - loss: 0.0053 - val_loss: 0.0038\n",
            "Epoch 79/100\n",
            "256/256 [==============================] - 1s 6ms/step - loss: 0.0047 - val_loss: 0.0045\n",
            "Epoch 80/100\n",
            "256/256 [==============================] - 2s 6ms/step - loss: 0.0063 - val_loss: 0.0045\n",
            "Epoch 81/100\n",
            "256/256 [==============================] - 1s 6ms/step - loss: 0.0050 - val_loss: 0.0044\n",
            "Epoch 82/100\n",
            "256/256 [==============================] - 1s 6ms/step - loss: 0.0060 - val_loss: 0.0050\n",
            "Epoch 83/100\n",
            "256/256 [==============================] - 2s 6ms/step - loss: 0.0052 - val_loss: 0.0052\n",
            "Epoch 84/100\n",
            "256/256 [==============================] - 1s 6ms/step - loss: 0.0050 - val_loss: 0.0045\n",
            "Epoch 85/100\n",
            "256/256 [==============================] - 1s 6ms/step - loss: 0.0052 - val_loss: 0.0079\n",
            "Epoch 86/100\n",
            "256/256 [==============================] - 2s 7ms/step - loss: 0.0052 - val_loss: 0.0040\n",
            "Epoch 87/100\n",
            "256/256 [==============================] - 2s 6ms/step - loss: 0.0055 - val_loss: 0.0067\n",
            "Epoch 88/100\n",
            "256/256 [==============================] - 1s 6ms/step - loss: 0.0055 - val_loss: 0.0040\n",
            "Epoch 89/100\n",
            "256/256 [==============================] - 1s 6ms/step - loss: 0.0054 - val_loss: 0.0087\n",
            "Epoch 90/100\n",
            "256/256 [==============================] - 1s 6ms/step - loss: 0.0055 - val_loss: 0.0037\n",
            "Epoch 91/100\n",
            "256/256 [==============================] - 2s 6ms/step - loss: 0.0050 - val_loss: 0.0044\n",
            "Epoch 92/100\n",
            "256/256 [==============================] - 1s 6ms/step - loss: 0.0049 - val_loss: 0.0038\n",
            "Epoch 93/100\n",
            "256/256 [==============================] - 2s 6ms/step - loss: 0.0051 - val_loss: 0.0051\n",
            "Epoch 94/100\n",
            "256/256 [==============================] - 1s 6ms/step - loss: 0.0045 - val_loss: 0.0058\n",
            "Epoch 95/100\n",
            "256/256 [==============================] - 2s 6ms/step - loss: 0.0049 - val_loss: 0.0057\n",
            "Epoch 96/100\n",
            "256/256 [==============================] - 2s 6ms/step - loss: 0.0046 - val_loss: 0.0035\n",
            "Epoch 97/100\n",
            "256/256 [==============================] - 1s 6ms/step - loss: 0.0051 - val_loss: 0.0040\n",
            "Epoch 98/100\n",
            "256/256 [==============================] - 1s 6ms/step - loss: 0.0046 - val_loss: 0.0042\n",
            "Epoch 99/100\n",
            "256/256 [==============================] - 1s 6ms/step - loss: 0.0051 - val_loss: 0.0046\n",
            "Epoch 100/100\n",
            "256/256 [==============================] - 1s 6ms/step - loss: 0.0052 - val_loss: 0.0059\n"
          ]
        }
      ],
      "source": [
        "with generator:\n",
        "    model.fit(\n",
        "        generator,\n",
        "        epochs=100,\n",
        "        validation_data=(np.array(validation_data), np.array(validation_targets))\n",
        "    )"
      ]
    },
    {
      "cell_type": "markdown",
      "metadata": {},
      "source": [
        "## 9. Visualize the model performance\n",
        "\n",
        "We can now use the trained model to measure the particle position in images previously unseen by the model.\n",
        "\n",
        "For real applications, it should be noted that the performance can be improved significantly by constraining the particle to be close to the center."
      ]
    },
    {
      "cell_type": "code",
      "execution_count": 36,
      "metadata": {
        "execution": {
          "iopub.execute_input": "2022-04-03T15:24:24.503098Z",
          "iopub.status.busy": "2022-04-03T15:24:24.502599Z",
          "iopub.status.idle": "2022-04-03T15:24:24.955598Z",
          "shell.execute_reply": "2022-04-03T15:24:24.956098Z"
        }
      },
      "outputs": [
        {
          "name": "stderr",
          "output_type": "stream",
          "text": [
            "WARNING:tensorflow:AutoGraph could not transform <function Model.make_predict_function.<locals>.predict_function at 0x000002387D777BE0> and will run it as-is.\n",
            "Cause: Unable to locate the source code of <function Model.make_predict_function.<locals>.predict_function at 0x000002387D777BE0>. Note that functions defined in certain environments, like the interactive Python shell, do not expose their source code. If that is the case, you should define them in a .py source file. If you are certain the code is graph-compatible, wrap the call using @tf.autograph.experimental.do_not_convert. Original error: [WinError 127] Det går inte att hitta den angivna proceduren. Error loading \"c:\\Users\\GU\\AppData\\Local\\Programs\\Python\\Python310\\lib\\site-packages\\torch\\lib\\cudnn_adv_infer64_8.dll\" or one of its dependencies.\n",
            "To silence this warning, decorate the function with @tf.autograph.experimental.do_not_convert\n"
          ]
        },
        {
          "name": "stdout",
          "output_type": "stream",
          "text": [
            "WARNING: AutoGraph could not transform <function Model.make_predict_function.<locals>.predict_function at 0x000002387D777BE0> and will run it as-is.\n",
            "Cause: Unable to locate the source code of <function Model.make_predict_function.<locals>.predict_function at 0x000002387D777BE0>. Note that functions defined in certain environments, like the interactive Python shell, do not expose their source code. If that is the case, you should define them in a .py source file. If you are certain the code is graph-compatible, wrap the call using @tf.autograph.experimental.do_not_convert. Original error: [WinError 127] Det går inte att hitta den angivna proceduren. Error loading \"c:\\Users\\GU\\AppData\\Local\\Programs\\Python\\Python310\\lib\\site-packages\\torch\\lib\\cudnn_adv_infer64_8.dll\" or one of its dependencies.\n",
            "To silence this warning, decorate the function with @tf.autograph.experimental.do_not_convert\n"
          ]
        },
        {
          "name": "stdout",
          "output_type": "stream",
          "text": [
            "1/1 [==============================] - 0s 122ms/step\n"
          ]
        },
        {
          "data": {
            "image/png": "[encoded data removed]",
            "text/plain": [
              "<Figure size 640x480 with 1 Axes>"
            ]
          },
          "metadata": {},
          "output_type": "display_data"
        },
        {
          "data": {
            "image/png": "[encoded data removed]",
            "text/plain": [
              "<Figure size 640x480 with 1 Axes>"
            ]
          },
          "metadata": {},
          "output_type": "display_data"
        },
        {
          "data": {
            "image/png": "[encoded data removed]",
            "text/plain": [
              "<Figure size 640x480 with 1 Axes>"
            ]
          },
          "metadata": {},
          "output_type": "display_data"
        },
        {
          "data": {
            "image/png": "[encoded data removed]",
            "text/plain": [
              "<Figure size 640x480 with 1 Axes>"
            ]
          },
          "metadata": {},
          "output_type": "display_data"
        }
      ],
      "source": [
        "# generator[0] extracts one batch of images from the generator\n",
        "images, real_positions = generator[0]\n",
        "\n",
        "measured_positions = model.predict(images)\n",
        "\n",
        "for i in range(images.shape[0]):\n",
        "    \n",
        "    image = np.squeeze(images[i])\n",
        "    \n",
        "    measured_position_x = measured_positions[i, 1] * IMAGE_SIZE\n",
        "    measured_position_y = measured_positions[i, 0] * IMAGE_SIZE\n",
        "\n",
        "    real_position_x = real_positions[i, 1] * IMAGE_SIZE\n",
        "    real_position_y = real_positions[i, 0] * IMAGE_SIZE\n",
        "\n",
        "    plt.imshow(image, cmap='gray')\n",
        "    plt.scatter(real_position_x, real_position_y, s=70, c='r', marker='x')\n",
        "    plt.scatter(measured_position_x, measured_position_y, s=100, marker='o', facecolor='none', edgecolors='b')\n",
        "    plt.show()"
      ]
    }
  ],
  "metadata": {
    "file_extension": ".py",
    "kernelspec": {
      "display_name": "Python 3.10.5 64-bit",
      "language": "python",
      "name": "python3"
    },
    "language_info": {
      "codemirror_mode": {
        "name": "ipython",
        "version": 3
      },
      "file_extension": ".py",
      "mimetype": "text/x-python",
      "name": "python",
      "nbconvert_exporter": "python",
      "pygments_lexer": "ipython3",
      "version": "3.10.10"
    },
    "mimetype": "text/x-python",
    "name": "python",
    "npconvert_exporter": "python",
    "pygments_lexer": "ipython3",
    "version": 3,
    "vscode": {
      "interpreter": {
        "hash": "1a9ab44d6eafc34d16b2bdd092109596a46de8e0ae90e714a12fa11c7cb37877"
      }
    }
  },
  "nbformat": 4,
  "nbformat_minor": 2
}
