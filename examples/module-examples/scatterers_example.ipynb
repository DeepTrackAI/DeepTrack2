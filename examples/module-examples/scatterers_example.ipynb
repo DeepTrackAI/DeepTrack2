{
  "cells": [
    {
      "cell_type": "code",
      "execution_count": 1,
      "metadata": {
        "execution": {
          "iopub.execute_input": "2022-04-01T19:35:28.042369Z",
          "iopub.status.busy": "2022-04-01T19:35:28.042369Z",
          "iopub.status.idle": "2022-04-01T19:35:28.296368Z",
          "shell.execute_reply": "2022-04-01T19:35:28.296869Z"
        }
      },
      "outputs": [],
      "source": [
        "%matplotlib inline\n",
        "!pip install deeptrack"
      ]
    },
    {
      "cell_type": "markdown",
      "metadata": {},
      "source": [
        "<!--<badge>--><a href=\"https://colab.research.google.com/github/softmatterlab/DeepTrack-2.0/blob/bm/fix-optics-lambda/examples/module-examples/scatterers_example.ipynb\" target=\"_parent\"><img src=\"https://colab.research.google.com/assets/colab-badge.svg\" alt=\"Open In Colab\"/></a><!--</badge>-->"
      ]
    },
    {
      "cell_type": "markdown",
      "metadata": {},
      "source": [
        "# deeptrack.scatterers\n",
        "\n",
        "This example introduces the module deeptrack.scatterers"
      ]
    },
    {
      "cell_type": "markdown",
      "metadata": {},
      "source": [
        "## What is a scatterer?\n",
        "\n",
        "Scatterers are implementations of the abstract class `Feature` that represent scattering objects (see also [features_example](features_example.ipynb)). When calculating the scattered field, they are discretized into voxels.\n",
        "\n",
        "All physcial properties of scatterers are given in SI units, unless otherwise stated. In particular, the position of a scatterer is measured from the top left corner of the image and can either be given in meters (default) or pixels by setting the property `position_unit` to `\"meter\"` or `\"pixel\"`. The z-position of the particle can either be set as the the third element of the property `position`, or as the property `z`. The calculation of a scatterer is automatically upsampled using the `upsample` property.\n",
        "\n",
        "All scatterers need a reference to the optical system through which they are viewed in order to calculate scale factors. This is achieved by calling an optical device from the `optics` module (see also [optics_example](optics_example.ipynb)) with the scatterer. "
      ]
    },
    {
      "cell_type": "markdown",
      "metadata": {},
      "source": [
        "## 1. Setup \n",
        "\n",
        "We import the required modules and create a optical device `optics` to view scatterers through, in this case a fluorescence microscope implemented by `Fluorescence`."
      ]
    },
    {
      "cell_type": "code",
      "execution_count": 2,
      "metadata": {
        "execution": {
          "iopub.execute_input": "2022-04-01T19:35:28.299869Z",
          "iopub.status.busy": "2022-04-01T19:35:28.299369Z",
          "iopub.status.idle": "2022-04-01T19:35:32.245869Z",
          "shell.execute_reply": "2022-04-01T19:35:32.246369Z"
        }
      },
      "outputs": [],
      "source": [
        "from deeptrack.optics import Fluorescence\n",
        "\n",
        "import numpy as np\n",
        "import matplotlib.pyplot as plt\n",
        "\n",
        "optics = Fluorescence(\n",
        "    NA=0.7,\n",
        "    wavelength=680e-9,\n",
        "    resolution=1e-6,\n",
        "    magnification=10,\n",
        "    output_region=(0, 0, 64, 64)\n",
        ")"
      ]
    },
    {
      "cell_type": "markdown",
      "metadata": {},
      "source": [
        "## 2. PointParticle\n",
        "\n",
        "The feature `PointParticle` resolves an object occupying a single voxel, which corresponds to a point (dipolar) scatterer."
      ]
    },
    {
      "cell_type": "code",
      "execution_count": 3,
      "metadata": {
        "execution": {
          "iopub.execute_input": "2022-04-01T19:35:32.252869Z",
          "iopub.status.busy": "2022-04-01T19:35:32.252369Z",
          "iopub.status.idle": "2022-04-01T19:35:33.079368Z",
          "shell.execute_reply": "2022-04-01T19:35:33.079868Z"
        }
      },
      "outputs": [
        {
          "data": {
            "text/plain": [
              "<AxesSubplot:>"
            ]
          },
          "execution_count": 1,
          "metadata": {},
          "output_type": "execute_result"
        },
        {
          "data": {
            "image/png": "[encoded data removed]",
            "text/plain": [
              "<Figure size 432x288 with 1 Axes>"
            ]
          },
          "metadata": {
            "needs_background": "light"
          },
          "output_type": "display_data"
        }
      ],
      "source": [
        "from deeptrack.scatterers import PointParticle\n",
        "\n",
        "scatterer = PointParticle(\n",
        "    intensity=100,          # Squared magnitude of the field\n",
        "    position_unit=\"pixel\",  # Units of position (default meter)\n",
        "    position=(32, 32),      # Position of the particle \n",
        ")\n",
        "\n",
        "imaged_scatterer = optics(scatterer)\n",
        "\n",
        "imaged_scatterer.plot(cmap=\"gray\")"
      ]
    },
    {
      "cell_type": "markdown",
      "metadata": {},
      "source": [
        "## 3. Ellipse \n",
        "\n",
        "The feature `Ellipse` resolves a 2-dimensional elliptical disk, whose principal axes are in the xy-plane."
      ]
    },
    {
      "cell_type": "code",
      "execution_count": 4,
      "metadata": {
        "execution": {
          "iopub.execute_input": "2022-04-01T19:35:33.084368Z",
          "iopub.status.busy": "2022-04-01T19:35:33.084368Z",
          "iopub.status.idle": "2022-04-01T19:35:33.185368Z",
          "shell.execute_reply": "2022-04-01T19:35:33.185368Z"
        }
      },
      "outputs": [
        {
          "data": {
            "text/plain": [
              "<AxesSubplot:>"
            ]
          },
          "execution_count": 1,
          "metadata": {},
          "output_type": "execute_result"
        },
        {
          "data": {
            "image/png": "[encoded data removed]",
            "text/plain": [
              "<Figure size 432x288 with 1 Axes>"
            ]
          },
          "metadata": {
            "needs_background": "light"
          },
          "output_type": "display_data"
        }
      ],
      "source": [
        "from deeptrack.scatterers import Ellipse\n",
        "\n",
        "scatterer = Ellipse(\n",
        "    intensity=100,          # Squared magnitude of the field\n",
        "    position_unit=\"pixel\",  # Units of position (default meter)\n",
        "    position=(32, 32),      # Position of the particle\n",
        "    radius=(1e-6, 0.5e-6),  # Dimensions of the principal axes of the ellipse\n",
        "    rotation=np.pi / 4,     # Amount the ellipse is rotated by in radians\n",
        "    upsample=4              # Amount the resolution is upsampled for accuracy\n",
        ")\n",
        "\n",
        "imaged_scatterer = optics(scatterer)\n",
        "\n",
        "imaged_scatterer.plot(cmap=\"gray\")"
      ]
    },
    {
      "cell_type": "markdown",
      "metadata": {},
      "source": [
        "## 4. Sphere\n",
        "\n",
        "The feature `Sphere` resolves a 3-dimensional sphere."
      ]
    },
    {
      "cell_type": "code",
      "execution_count": 5,
      "metadata": {
        "execution": {
          "iopub.execute_input": "2022-04-01T19:35:33.190868Z",
          "iopub.status.busy": "2022-04-01T19:35:33.190369Z",
          "iopub.status.idle": "2022-04-01T19:35:33.301369Z",
          "shell.execute_reply": "2022-04-01T19:35:33.300869Z"
        }
      },
      "outputs": [
        {
          "data": {
            "text/plain": [
              "<AxesSubplot:>"
            ]
          },
          "execution_count": 1,
          "metadata": {},
          "output_type": "execute_result"
        },
        {
          "data": {
            "image/png": "[encoded data removed]",
            "text/plain": [
              "<Figure size 432x288 with 1 Axes>"
            ]
          },
          "metadata": {
            "needs_background": "light"
          },
          "output_type": "display_data"
        }
      ],
      "source": [
        "from deeptrack.scatterers import Sphere\n",
        "\n",
        "scatterer = Sphere(\n",
        "    intensity=100,          # Squared magnitude of the field\n",
        "    position_unit=\"pixel\",  # Units of position (default meter)\n",
        "    position=(32, 32),      # Position of the particle\n",
        "    radius=1e-6,            # Radius of the sphere\n",
        "    upsample=4              # Amount the resolution is upsampled for accuracy\n",
        ")\n",
        "\n",
        "imaged_scatterer = optics(scatterer)\n",
        "\n",
        "imaged_scatterer.plot(cmap=\"gray\")"
      ]
    },
    {
      "cell_type": "markdown",
      "metadata": {},
      "source": [
        "## 5. Ellipsoid\n",
        "\n",
        "The feature `Ellipsoid` resolves a 3-dimensional ellipsoid."
      ]
    },
    {
      "cell_type": "code",
      "execution_count": 6,
      "metadata": {
        "execution": {
          "iopub.execute_input": "2022-04-01T19:35:33.306370Z",
          "iopub.status.busy": "2022-04-01T19:35:33.305869Z",
          "iopub.status.idle": "2022-04-01T19:35:33.410369Z",
          "shell.execute_reply": "2022-04-01T19:35:33.410869Z"
        }
      },
      "outputs": [
        {
          "data": {
            "text/plain": [
              "<AxesSubplot:>"
            ]
          },
          "execution_count": 1,
          "metadata": {},
          "output_type": "execute_result"
        },
        {
          "data": {
            "image/png": "[encoded data removed]",
            "text/plain": [
              "<Figure size 432x288 with 1 Axes>"
            ]
          },
          "metadata": {
            "needs_background": "light"
          },
          "output_type": "display_data"
        }
      ],
      "source": [
        "from deeptrack.scatterers import Ellipsoid\n",
        "\n",
        "scatterer = Ellipsoid(\n",
        "    intensity=100,                  # Squared magnitude of the field\n",
        "    position_unit=\"pixel\",          # Units of position (default meter)\n",
        "    position=(32, 32),              # Position of the particle\n",
        "    radius=(1e-6, 0.5e-6, 0.25e-6), # Dimensions of the principal axes of the ellipsoid\n",
        "    rotation=(np.pi/4, 0, 0),       # Amount the ellipsoid is rotated by in radians\n",
        "    upsample=4                      # Amount the resolution is upsampled for accuracy\n",
        ")\n",
        "\n",
        "imaged_scatterer = optics(scatterer)\n",
        "\n",
        "imaged_scatterer.plot(cmap=\"gray\")"
      ]
    }
  ],
  "metadata": {
    "kernelspec": {
      "display_name": "Python 3",
      "language": "python",
      "name": "python3"
    },
    "language_info": {
      "codemirror_mode": {
        "name": "ipython",
        "version": 3
      },
      "file_extension": ".py",
      "mimetype": "text/x-python",
      "name": "python",
      "nbconvert_exporter": "python",
      "pygments_lexer": "ipython3",
      "version": "3.8.6"
    }
  },
  "nbformat": 4,
  "nbformat_minor": 2
}