{
 "cells": [
  {
   "cell_type": "code",
   "execution_count": 1,
   "metadata": {},
   "outputs": [],
   "source": [
    "%matplotlib inline\n",
    "import sys\n",
    "sys.path.append(\"..\") # Adds the module to path"
   ]
  },
  {
   "cell_type": "markdown",
   "metadata": {},
   "source": [
    "{{ badge }}"
   ]
  },
  {
   "cell_type": "markdown",
   "metadata": {},
   "source": [
    "# deeptrack.augmentations\n",
    "\n",
    "This example introduces the module deeptrack.augmentations."
   ]
  },
  {
   "cell_type": "markdown",
   "metadata": {},
   "source": [
    "## 1. What is an augmentation?\n",
    "\n",
    "\n",
    "\n",
    "Augmentations are instances of the abstract class `Feature` and serve to decrease the average simulation time by altering the input image several times before performing additional expensive computation. For example, `FlipDiagonal` is an augmentation that returns both the input image and the transposed image before recomputing the input.\n",
    "\n",
    "All augmentations take a parent feature as their first input, and two keyword arguments, `load_size` and `updates_per_reload`. When an augmentation is initialized, it resolves `load_size` number of images from the parent, and stores them. When an augmentation in updated, it loads one of these images, sampled randomly. When the augmentation has been resolved `updated_per_resolve` number of times, it resolves a new set of images from its parent feature. When the augmentation is resolved, it alters the loaded image using the method `.get()`.  \n",
    "\n",
    "Many augmentations fundamentally change the appearance of images. Augmentations may optionally define a method `update_properties` to ensure that properties are still representative. This function can also optionally be passed as a keyword argument when initializing the augmentation feature."
   ]
  },
  {
   "cell_type": "markdown",
   "metadata": {},
   "source": [
    "## 2. Example of an augmentation\n",
    "\n",
    "Below is the implementation of the feature `FlipLR`. The constructor calls the constructor of `Augmentation` with `load_size=1` and `updates_per_reload=2`. This means it will load one image, apply the transformation twice, then load a new image.\n",
    "\n",
    "`update_properties` inverts the second value of the property `position`."
   ]
  },
  {
   "cell_type": "code",
   "execution_count": 2,
   "metadata": {},
   "outputs": [],
   "source": [
    "import numpy as np\n",
    "import matplotlib.pyplot as plt\n",
    "from deeptrack.augmentations import Augmentation\n",
    "\n",
    "\n",
    "# Implementation of abstract class Augmentation\n",
    "# which mirrors the input left to right\n",
    "\n",
    "class FlipLR(Augmentation):\n",
    "    \"\"\"Flips images left-right.\n",
    "\n",
    "    Updates all properties called \"position\" to flip the second index.\n",
    "\n",
    "    Arguments\n",
    "    ---------\n",
    "    p : float\n",
    "       Probability of flipping the image\n",
    "\n",
    "    Extra arguments\n",
    "    ---------------\n",
    "    augment : bool\n",
    "       Whether to perform the augmentation. Leaving as default is sufficient most of the time.\n",
    "    \"\"\"\n",
    "\n",
    "    def __init__(self, p=0.5, augment=None, **kwargs):\n",
    "        super().__init__(\n",
    "            p=p,\n",
    "            augment=(lambda p: np.random.rand() < p) if augment is None else augment,\n",
    "            **kwargs,\n",
    "        )\n",
    "\n",
    "    def get(self, image, augment, **kwargs):\n",
    "        if augment:\n",
    "            image = np.fliplr(image)\n",
    "        return image\n",
    "\n",
    "    def update_properties(self, image, augment, **kwargs):\n",
    "        if augment:\n",
    "            for prop in image.properties:\n",
    "                if \"position\" in prop:\n",
    "                    position = prop[\"position\"]\n",
    "                    new_position = (\n",
    "                        position[0],\n",
    "                        image.shape[1] - position[1] - 1,\n",
    "                        *position[2:],\n",
    "                    )\n",
    "                    prop[\"position\"] = new_position"
   ]
  },
  {
   "cell_type": "markdown",
   "metadata": {},
   "source": [
    "## 3. Augmentations in use\n",
    "\n",
    "Here we show augmentations in use. We define dummy feature which represent some potentially very slow feature or combination of features."
   ]
  },
  {
   "cell_type": "code",
   "execution_count": 3,
   "metadata": {},
   "outputs": [],
   "source": [
    "from deeptrack.features import Feature \n",
    "\n",
    "class DummyFeature(Feature):\n",
    "    __distributed__ = False\n",
    "    def get(self, image, **kwargs):\n",
    "        print(\"I am a very slow feature...\")\n",
    "        output = np.zeros((2, 2, 1))\n",
    "        output[0, 0] = 1\n",
    "        return output\n",
    "        \n",
    "        \n",
    "slow_feature = DummyFeature()\n",
    "\n",
    "augmented_feature = slow_feature >> FlipLR()"
   ]
  },
  {
   "cell_type": "markdown",
   "metadata": {},
   "source": [
    "Note that despite resolving two images, the method `get` of `DummyFeature` is only called once."
   ]
  },
  {
   "cell_type": "code",
   "execution_count": 4,
   "metadata": {},
   "outputs": [
    {
     "name": "stdout",
     "output_type": "stream",
     "text": [
      "I am a very slow feature...\n",
      "I am a very slow feature...\n"
     ]
    },
    {
     "data": {
      "image/png": "[encoded data removed]",
      "text/plain": [
       "<Figure size 432x288 with 1 Axes>"
      ]
     },
     "metadata": {
      "needs_background": "light"
     },
     "output_type": "display_data"
    },
    {
     "data": {
      "image/png": "[encoded data removed]",
      "text/plain": [
       "<Figure size 432x288 with 1 Axes>"
      ]
     },
     "metadata": {
      "needs_background": "light"
     },
     "output_type": "display_data"
    }
   ],
   "source": [
    "\n",
    "augmented_feature.update()\n",
    "output_1 = augmented_feature.resolve()\n",
    "\n",
    "augmented_feature.update()\n",
    "output_2 = augmented_feature.resolve()\n",
    "\n",
    "plt.imshow(output_1[..., 0])\n",
    "plt.title(\"Feature output\")\n",
    "plt.show()\n",
    "\n",
    "plt.imshow(output_2[..., 0])\n",
    "plt.title(\"Flipped feature output\")\n",
    "plt.show()"
   ]
  },
  {
   "cell_type": "markdown",
   "metadata": {},
   "source": [
    "## 4. Augmenting multiple features equally\n",
    "\n",
    "It is not unusual to want to ensure several images are augmented the same. A common example is when creating an image-label pair using two different features, or the same feature resolved with different arguments. In the this case you can stack the inputs using the `&` operator.\n",
    "\n",
    "Here we show how two identical features are augmented equally."
   ]
  },
  {
   "cell_type": "code",
   "execution_count": 5,
   "metadata": {},
   "outputs": [],
   "source": [
    "slow_feature_1 = DummyFeature()\n",
    "slow_feature_2 = DummyFeature()\n",
    "\n",
    "augmented_features = (slow_feature_1 & slow_feature_2) >> FlipLR()"
   ]
  },
  {
   "cell_type": "code",
   "execution_count": 6,
   "metadata": {},
   "outputs": [
    {
     "name": "stdout",
     "output_type": "stream",
     "text": [
      "I am a very slow feature...\n",
      "I am a very slow feature...\n"
     ]
    },
    {
     "data": {
      "image/png": "[encoded data removed]",
      "text/plain": [
       "<Figure size 432x288 with 2 Axes>"
      ]
     },
     "metadata": {
      "needs_background": "light"
     },
     "output_type": "display_data"
    },
    {
     "name": "stdout",
     "output_type": "stream",
     "text": [
      "I am a very slow feature...\n",
      "I am a very slow feature...\n"
     ]
    },
    {
     "data": {
      "image/png": "[encoded data removed]",
      "text/plain": [
       "<Figure size 432x288 with 2 Axes>"
      ]
     },
     "metadata": {
      "needs_background": "light"
     },
     "output_type": "display_data"
    }
   ],
   "source": [
    "augmented_features.update()\n",
    "output_1 = augmented_features.resolve()\n",
    "\n",
    "\n",
    "\n",
    "plt.subplot(1, 2, 1)\n",
    "plt.imshow(output_1[0][..., 0])\n",
    "plt.title(\"Feature 1 output\")\n",
    "plt.subplot(1, 2, 2)\n",
    "plt.imshow(output_1[1][..., 0])\n",
    "plt.title(\"Feature 2 output\")\n",
    "plt.show()\n",
    "\n",
    "\n",
    "augmented_features.update()\n",
    "output_2 = augmented_features.resolve()\n",
    "\n",
    "plt.subplot(1, 2, 1)\n",
    "plt.imshow(output_2[0][..., 0])\n",
    "plt.title(\"Flipped feature 1 output\")\n",
    "plt.subplot(1, 2, 2)\n",
    "plt.imshow(output_2[1][..., 0])\n",
    "plt.title(\"Flipped feature 2 output\")\n",
    "plt.show()"
   ]
  },
  {
   "cell_type": "code",
   "execution_count": null,
   "metadata": {},
   "outputs": [],
   "source": []
  }
 ],
 "metadata": {
  "kernelspec": {
   "display_name": "Python 3",
   "language": "python",
   "name": "python3"
  },
  "language_info": {
   "codemirror_mode": {
    "name": "ipython",
    "version": 3
   },
   "file_extension": ".py",
   "mimetype": "text/x-python",
   "name": "python",
   "nbconvert_exporter": "python",
   "pygments_lexer": "ipython3",
   "version": "3.8.6"
  }
 },
 "nbformat": 4,
 "nbformat_minor": 2
}
