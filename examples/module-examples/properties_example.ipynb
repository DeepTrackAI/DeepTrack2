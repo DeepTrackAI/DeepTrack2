{
  "cells": [
    {
      "cell_type": "code",
      "execution_count": 14,
      "metadata": {},
      "outputs": [],
      "source": [
        "%matplotlib inline\n",
        "import sys\n",
        "sys.path.insert(0, \"../..\")"
      ]
    },
    {
      "cell_type": "markdown",
      "metadata": {},
      "source": [
        "<!--<badge>--><a href=\"https://colab.research.google.com/github/softmatterlab/DeepTrack-2.0/blob/bm/improve-mie/examples/module-examples/properties_example.ipynb\" target=\"_parent\"><img src=\"https://colab.research.google.com/assets/colab-badge.svg\" alt=\"Open In Colab\"/></a><!--</badge>-->"
      ]
    },
    {
      "cell_type": "markdown",
      "metadata": {},
      "source": [
        "# deeptrack.properties\n",
        "\n",
        "This example introduces the module deeptrack.properties.\n",
        "\n",
        "## What is a property?\n",
        "\n",
        "Each feature (instance of the class `Feature`, see [features_example](features_example.ipynb)) can have several properties (instances of the class `Property`).\n",
        "A propety has a value accessible through the field `current_value`, whose data type is not restricted. \n",
        "This value is updated through a sampling rule (method `.update()`), which is passed to the class constructor on initialization. \n",
        "\n",
        "## What is a sampling rule?\n",
        "\n",
        "The sampling rule determines how the value of a property is updated upon calling `.update()`.\n",
        "A sampling rule is defined when an instance of the class Property is created and can be of any type. \n",
        "When calling `.update()`, the value of the property is updated according to the first of the following that applies:\n",
        "    \n",
        "1.  If the sampling rule has a method `.sample()`, call `.sample()` and return the output.\n",
        "2.  If the sampling rule is a ``dict``, sample each value and combine the result into a new ``dict`` using the original keys. \n",
        "3.  If the sampling rule is a ``list``, sample each element of the list and combine the result into a new ``list``.\n",
        "4.  If the sampling rule is an iterable, return the next value. If the iterable is exhausted, the value of the property is not changed.\n",
        "5.  If the sampling rule is callable, call it and return the result.\n",
        "6.  If none of the above apply, return the sampling rule itself."
      ]
    },
    {
      "cell_type": "code",
      "execution_count": 15,
      "metadata": {},
      "outputs": [],
      "source": [
        "import numpy as np\n",
        "from deeptrack.properties import Property, SequentialProperty, PropertyDict"
      ]
    },
    {
      "cell_type": "markdown",
      "metadata": {},
      "source": [
        "## 1.1 Property with a constant value\n",
        "\n",
        "The simplest example of a property is one that does not change during an update call.\n",
        "This is commonly either a number or a tuple, but can be any data type that will be evaluated by case 6.\n",
        "If you want to have a constant property with a value that would be evaluated by cases 1-5 (e.g., a list or a function), you can  wrap it as the output of a lambda function."
      ]
    },
    {
      "cell_type": "code",
      "execution_count": 17,
      "metadata": {},
      "outputs": [
        {
          "name": "stdout",
          "output_type": "stream",
          "text": [
            "The current value of the property is 1\n",
            "The current value of the property is 1\n"
          ]
        }
      ],
      "source": [
        "# NUMBER\n",
        "\n",
        "P = Property(1)\n",
        "print(\"The current value of the property is\", P())\n",
        "\n",
        "P.update() # Numbers are not changed after an update() call\n",
        "print(\"The current value of the property is\", P())"
      ]
    },
    {
      "cell_type": "code",
      "execution_count": 18,
      "metadata": {},
      "outputs": [
        {
          "name": "stdout",
          "output_type": "stream",
          "text": [
            "The current value of the property is (1, [2, 3], None)\n",
            "The current value of the property is (1, [2, 3], None)\n"
          ]
        }
      ],
      "source": [
        "# TUPLE\n",
        "\n",
        "P = Property((1, [2, 3], None))\n",
        "print(\"The current value of the property is\", P())\n",
        "\n",
        "P.update() # Tuples are not changed after an update() call\n",
        "print(\"The current value of the property is\", P())"
      ]
    },
    {
      "cell_type": "code",
      "execution_count": 19,
      "metadata": {},
      "outputs": [
        {
          "name": "stdout",
          "output_type": "stream",
          "text": [
            "The current value of the property is [<built-in method rand of numpy.random.mtrand.RandomState object at 0x0000022AA23D2740>, 1, {}]\n",
            "The current value of the property is [<built-in method rand of numpy.random.mtrand.RandomState object at 0x0000022AA23D2740>, 1, {}]\n"
          ]
        }
      ],
      "source": [
        "# WRAPPED LIST\n",
        "\n",
        "P = Property(lambda: [np.random.rand, 1, {}])\n",
        "print(\"The current value of the property is\", P())\n",
        "\n",
        "P.update() # Objects wrapped in functions are not changed after an update() call\n",
        "print(\"The current value of the property is\", P())"
      ]
    },
    {
      "cell_type": "markdown",
      "metadata": {},
      "source": [
        "## 1.2 Property with a discrete random value \n",
        "\n",
        "Discrete randomness can be achieved by a function (case 5)."
      ]
    },
    {
      "cell_type": "code",
      "execution_count": 20,
      "metadata": {},
      "outputs": [
        {
          "name": "stdout",
          "output_type": "stream",
          "text": [
            "The current value of the property is 9\n",
            "The current value of the property is 5\n",
            "The current value of the property is 0\n",
            "The current value of the property is 3\n",
            "The current value of the property is 0\n"
          ]
        }
      ],
      "source": [
        "# FUNCTION\n",
        "\n",
        "P = Property(lambda: np.random.randint(0, 10))\n",
        "for _ in range(5): \n",
        "    P.update()\n",
        "    print(\"The current value of the property is\", P())"
      ]
    },
    {
      "cell_type": "code",
      "execution_count": 26,
      "metadata": {},
      "outputs": [
        {
          "name": "stdout",
          "output_type": "stream",
          "text": [
            "The current value of the property is 0\n",
            "The current value of the property is 0\n",
            "The current value of the property is 0\n",
            "The current value of the property is 0\n",
            "The current value of the property is 0\n"
          ]
        }
      ],
      "source": [
        "# BINARY CHOICE\n",
        "\n",
        "P = Property(lambda: 1 if np.random.rand() > 0.75 else 0)\n",
        "for _ in range(5): \n",
        "    P.update()\n",
        "    print(\"The current value of the property is\", P())"
      ]
    },
    {
      "cell_type": "markdown",
      "metadata": {},
      "source": [
        "## 1.3 Property with a continuous random value \n",
        "\n",
        "Continuous randomness is typically achieved by passing a function that returns a coninuous random value. This function should take no input, as noted in case 5. To use a function that needs arguments, wrap it in a function that calls it with the correct arguments."
      ]
    },
    {
      "cell_type": "code",
      "execution_count": 28,
      "metadata": {},
      "outputs": [
        {
          "name": "stdout",
          "output_type": "stream",
          "text": [
            "The current value of the property is 0.5037658050216487\n",
            "The current value of the property is 0.5479732300575825\n",
            "The current value of the property is 0.4763315193624603\n",
            "The current value of the property is 0.22705584756076214\n",
            "The current value of the property is 0.6441702905607429\n"
          ]
        }
      ],
      "source": [
        "# FUNCTION WITH NO INPUT\n",
        "\n",
        "P = Property(np.random.rand)\n",
        "for _ in range(5):\n",
        "    P.update()\n",
        "    print(\"The current value of the property is\", P())"
      ]
    },
    {
      "cell_type": "code",
      "execution_count": 29,
      "metadata": {},
      "outputs": [
        {
          "name": "stdout",
          "output_type": "stream",
          "text": [
            "The current value of the property is -1.8974331729875393\n",
            "The current value of the property is 8.431663783659689\n",
            "The current value of the property is 7.968554968599136\n",
            "The current value of the property is 3.0520276250778795\n",
            "The current value of the property is 3.2728790741261036\n"
          ]
        }
      ],
      "source": [
        "# WRAPPED FUNCTION\n",
        "\n",
        "P = Property(lambda: np.random.normal(1, 5))\n",
        "for _ in range(5):\n",
        "    P.update()\n",
        "    print(\"The current value of the property is\", P())"
      ]
    },
    {
      "cell_type": "markdown",
      "metadata": {},
      "source": [
        "## 1.4 Property with a deterministically changing value\n",
        "\n",
        "Deterministically changing properties can be achieved using either an iterator (case 4) or a function (case 5). For the output of a function to change deterministically between calls, it should reference some variable outside its definition. Once an iterator has been exhausted, it will always return its last value."
      ]
    },
    {
      "cell_type": "code",
      "execution_count": 30,
      "metadata": {},
      "outputs": [
        {
          "name": "stdout",
          "output_type": "stream",
          "text": [
            "The current value of the property is 1\n",
            "The current value of the property is 2\n",
            "The current value of the property is 3\n",
            "The current value of the property is 4\n",
            "The current value of the property is 5\n",
            "The current value of the property is 5\n",
            "The current value of the property is 5\n",
            "The current value of the property is 5\n",
            "The current value of the property is 5\n",
            "The current value of the property is 5\n"
          ]
        }
      ],
      "source": [
        "# ITERATOR\n",
        "\n",
        "P = Property(iter([1, 2, 3, 4, 5]))\n",
        "for _ in range(10):\n",
        "    P.update()\n",
        "    print(\"The current value of the property is\", P())"
      ]
    },
    {
      "cell_type": "code",
      "execution_count": 31,
      "metadata": {},
      "outputs": [
        {
          "name": "stdout",
          "output_type": "stream",
          "text": [
            "The current value of the property is [1, 1, 2]\n",
            "The current value of the property is [1, 1, 2, 3]\n",
            "The current value of the property is [1, 1, 2, 3, 5]\n",
            "The current value of the property is [1, 1, 2, 3, 5, 8]\n",
            "The current value of the property is [1, 1, 2, 3, 5, 8, 13]\n",
            "The current value of the property is [1, 1, 2, 3, 5, 8, 13, 21]\n",
            "The current value of the property is [1, 1, 2, 3, 5, 8, 13, 21, 34]\n",
            "The current value of the property is [1, 1, 2, 3, 5, 8, 13, 21, 34, 55]\n",
            "The current value of the property is [1, 1, 2, 3, 5, 8, 13, 21, 34, 55, 89]\n",
            "The current value of the property is [1, 1, 2, 3, 5, 8, 13, 21, 34, 55, 89, 144]\n"
          ]
        }
      ],
      "source": [
        "# FUNCTION\n",
        "\n",
        "fibbonacci = [1, 1]\n",
        "def fibbonacci_sequence():\n",
        "    fibbonacci.append(fibbonacci[-2] + fibbonacci[-1])\n",
        "    return fibbonacci\n",
        "\n",
        "P = Property(fibbonacci_sequence)\n",
        "for _ in range(10):\n",
        "    P.update()\n",
        "    print(\"The current value of the property is\", P())"
      ]
    },
    {
      "cell_type": "markdown",
      "metadata": {},
      "source": [
        "## 1.5 Property with dependent value\n",
        "\n",
        "The value of a property can be dependent on the value on some other property. It does this by accepting some keyword argument corresponding to the name of the independent property. Instances of `Feature` will handle this automatically."
      ]
    },
    {
      "cell_type": "code",
      "execution_count": 35,
      "metadata": {},
      "outputs": [
        {
          "name": "stdout",
          "output_type": "stream",
          "text": [
            "The current value of the independent property is 0.011554854471887421\n",
            "The current value of the dependent property is 1.0115548544718873 \n",
            "\n",
            "The current value of the independent property is 0.19367374949954808\n",
            "The current value of the dependent property is 1.1936737494995482 \n",
            "\n",
            "The current value of the independent property is 0.9344759767385629\n",
            "The current value of the dependent property is 1.9344759767385629 \n",
            "\n",
            "The current value of the independent property is 0.9089543321605803\n",
            "The current value of the dependent property is 1.9089543321605804 \n",
            "\n",
            "The current value of the independent property is 0.6999097121055312\n",
            "The current value of the dependent property is 1.6999097121055313 \n",
            "\n"
          ]
        }
      ],
      "source": [
        "random_number = Property(lambda: np.random.rand())\n",
        "\n",
        "def get_dependent_number():\n",
        "    return random_number() + 1\n",
        "\n",
        "dependent_number = Property(get_dependent_number)\n",
        "\n",
        "# Link the properties. This is handled automatically by PropertyDict\n",
        "dependent_number.add_dependency(random_number)\n",
        "random_number.add_child(dependent_number)\n",
        "\n",
        "for _ in range(5):\n",
        "    dependent_number.update()\n",
        "    \n",
        "    print(\"The current value of the independent property is\", random_number() )\n",
        "    print(\"The current value of the dependent property is\", dependent_number(), \"\\n\")\n",
        "    \n"
      ]
    },
    {
      "cell_type": "markdown",
      "metadata": {},
      "source": [
        "## 3. What is a PropertyDict?\n",
        "\n",
        "Another class contained in the module deeptrack.properties is `PropertyDict`. This is a dictionary of properties (keys: name of properties; values: properties) complemented by utility methods to manage collections of properties. These include:\n",
        "\n",
        "* `.current_value_dict()`, which creates and returns a dictionary with the current value of all properties in the PropertyDict (keys: name of properties; values: current values of the properties).\n",
        "* `.update()`, which calls the method `.update()` on all properties in the PropertyDict.\n",
        "* `.sample()`, which calls the method `.sample()` on all properties in the PropertyDict, and creates and returns a dictionary from the output (keys: name of properties; values: sample outputs of the properties).\n"
      ]
    },
    {
      "cell_type": "code",
      "execution_count": 42,
      "metadata": {},
      "outputs": [
        {
          "name": "stdout",
          "output_type": "stream",
          "text": [
            "The current values of the properties in property_dict are {'foo': 'foo', 'barorbaz': 'baz', 'foobarorbaz': 'foobaz'}\n",
            "The current values of the properties in property_dict are {'foo': 'foo', 'barorbaz': 'baz', 'foobarorbaz': 'foobaz'}\n",
            "The current values of the properties in property_dict are {'foo': 'foo', 'barorbaz': 'bar', 'foobarorbaz': 'foobar'}\n",
            "The current values of the properties in property_dict are {'foo': 'foo', 'barorbaz': 'bar', 'foobarorbaz': 'foobar'}\n",
            "The current values of the properties in property_dict are {'foo': 'foo', 'barorbaz': 'baz', 'foobarorbaz': 'foobaz'}\n"
          ]
        }
      ],
      "source": [
        "property_dict = PropertyDict(\n",
        "    foo=\"foo\",\n",
        "    barorbaz=lambda:np.random.choice([\"bar\", \"baz\"]),\n",
        "    foobarorbaz=lambda foo, barorbaz: foo + barorbaz\n",
        ")\n",
        "\n",
        "for _ in range(5):\n",
        "    property_dict.update()\n",
        "    print(\"The current values of the properties in property_dict are\", property_dict())"
      ]
    }
  ],
  "metadata": {
    "file_extension": ".py",
    "kernelspec": {
      "display_name": "Python 3",
      "language": "python",
      "name": "python3"
    },
    "language_info": {
      "codemirror_mode": {
        "name": "ipython",
        "version": 3
      },
      "file_extension": ".py",
      "mimetype": "text/x-python",
      "name": "python",
      "nbconvert_exporter": "python",
      "pygments_lexer": "ipython3",
      "version": "3.8.6"
    },
    "mimetype": "text/x-python",
    "name": "python",
    "npconvert_exporter": "python",
    "pygments_lexer": "ipython3",
    "version": 3
  },
  "nbformat": 4,
  "nbformat_minor": 2
}