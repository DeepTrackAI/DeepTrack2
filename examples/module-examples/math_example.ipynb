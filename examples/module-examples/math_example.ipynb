{
  "cells": [
    {
      "cell_type": "code",
      "execution_count": 1,
      "metadata": {
        "execution": {
          "iopub.execute_input": "2022-04-01T19:34:52.758175Z",
          "iopub.status.busy": "2022-04-01T19:34:52.757674Z",
          "iopub.status.idle": "2022-04-01T19:34:52.996673Z",
          "shell.execute_reply": "2022-04-01T19:34:52.996173Z"
        }
      },
      "outputs": [],
      "source": [
        "%matplotlib inline\n",
        "import sys\n",
        "sys.path.insert(0, \"../..\")"
      ]
    },
    {
      "cell_type": "markdown",
      "metadata": {},
      "source": [
        "<!--<badge>--><a href=\"https://colab.research.google.com/github/softmatterlab/DeepTrack-2.0/blob/develop/examples/module-examples/math_example.ipynb\" target=\"_parent\"><img src=\"https://colab.research.google.com/assets/colab-badge.svg\" alt=\"Open In Colab\"/></a><!--</badge>-->"
      ]
    },
    {
      "cell_type": "markdown",
      "metadata": {},
      "source": [
        "# deeptrack.math\n",
        "\n",
        "This example introduces the module deeptrack.math."
      ]
    },
    {
      "cell_type": "markdown",
      "metadata": {},
      "source": [
        "## 1. What is included in math?\n",
        "\n",
        "The module math.py includes features that perform some mathematical operation on the input image. This can be used to normalize images, or merge several features."
      ]
    },
    {
      "cell_type": "markdown",
      "metadata": {},
      "source": [
        "## 2. Setup"
      ]
    },
    {
      "cell_type": "code",
      "execution_count": 2,
      "metadata": {
        "execution": {
          "iopub.execute_input": "2022-04-01T19:34:52.999174Z",
          "iopub.status.busy": "2022-04-01T19:34:52.998675Z",
          "iopub.status.idle": "2022-04-01T19:34:56.941622Z",
          "shell.execute_reply": "2022-04-01T19:34:56.942122Z"
        }
      },
      "outputs": [],
      "source": [
        "import deeptrack.math as math\n",
        "import numpy as np"
      ]
    },
    {
      "cell_type": "markdown",
      "metadata": {},
      "source": [
        "## 3. Clip\n",
        "\n",
        "Clip the input within a minimum and a maximum value."
      ]
    },
    {
      "cell_type": "code",
      "execution_count": 3,
      "metadata": {
        "execution": {
          "iopub.execute_input": "2022-04-01T19:34:56.945623Z",
          "iopub.status.busy": "2022-04-01T19:34:56.945122Z",
          "iopub.status.idle": "2022-04-01T19:34:56.949624Z",
          "shell.execute_reply": "2022-04-01T19:34:56.950122Z"
        }
      },
      "outputs": [
        {
          "name": "stdout",
          "output_type": "stream",
          "text": [
            "[[ 10   4]\n",
            " [  4 -10]]\n",
            "becomes\n",
            "Image(array([[ 5,  4],\n",
            "       [ 4, -5]]))\n"
          ]
        }
      ],
      "source": [
        "input_image = np.array([[10, 4], [4, -10]])\n",
        "\n",
        "feature = math.Clip(min=-5, max=5)\n",
        "\n",
        "print(input_image)\n",
        "print(\"becomes\")\n",
        "print(feature.resolve(input_image))"
      ]
    },
    {
      "cell_type": "markdown",
      "metadata": {},
      "source": [
        "## 4. NormalizeMinMax\n",
        "\n",
        "Transforms the input to be between a minimum and a maximum value using a linear transformation."
      ]
    },
    {
      "cell_type": "code",
      "execution_count": 4,
      "metadata": {
        "execution": {
          "iopub.execute_input": "2022-04-01T19:34:56.953622Z",
          "iopub.status.busy": "2022-04-01T19:34:56.953622Z",
          "iopub.status.idle": "2022-04-01T19:34:56.956122Z",
          "shell.execute_reply": "2022-04-01T19:34:56.956122Z"
        }
      },
      "outputs": [
        {
          "name": "stdout",
          "output_type": "stream",
          "text": [
            "[[ 10   4]\n",
            " [  4 -10]]\n",
            "becomes\n",
            "Image(array([[ 5.,  2.],\n",
            "       [ 2., -5.]]))\n"
          ]
        }
      ],
      "source": [
        "input_image = np.array([[10, 4], [4, -10]])\n",
        "\n",
        "feature = math.NormalizeMinMax(min=-5, max=5)\n",
        "\n",
        "print(input_image)\n",
        "print(\"becomes\")\n",
        "print(feature.resolve(input_image))"
      ]
    },
    {
      "cell_type": "code",
      "execution_count": null,
      "metadata": {},
      "outputs": [],
      "source": []
    }
  ],
  "metadata": {
    "kernelspec": {
      "display_name": "Python 3",
      "language": "python",
      "name": "python3"
    },
    "language_info": {
      "codemirror_mode": {
        "name": "ipython",
        "version": 3
      },
      "file_extension": ".py",
      "mimetype": "text/x-python",
      "name": "python",
      "nbconvert_exporter": "python",
      "pygments_lexer": "ipython3",
      "version": "3.8.6"
    }
  },
  "nbformat": 4,
  "nbformat_minor": 2
}