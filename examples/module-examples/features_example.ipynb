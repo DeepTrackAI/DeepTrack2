{
 "cells": [
  {
   "cell_type": "code",
   "execution_count": 1,
   "metadata": {},
   "outputs": [],
   "source": [
    "%matplotlib inline\n",
    "import sys\n",
    "sys.path.append(\"..\") # Adds the module to path"
   ]
  },
  {
   "cell_type": "markdown",
   "metadata": {},
   "source": [
    "{{ badge }}"
   ]
  },
  {
   "cell_type": "markdown",
   "metadata": {},
   "source": [
    "# deeptrack.features\n",
    "\n",
    "This example introduces the module deeptrack.features."
   ]
  },
  {
   "cell_type": "markdown",
   "metadata": {},
   "source": [
    "## 1. What is a feature?\n",
    "\n",
    "Features are instances of the abstract class `Feature` and are responsible for creating and altering images. For example, a feature might add a particle or add some salt-and-pepper noise to an image.\n",
    "\n",
    "All features operate on lists of images. Most features, such as noise, apply some tranformation to all images in the list. This transformation can be additive, such as adding some Gaussian noise or a background illumination, or non-additive, such as introducing Poisson noise or performing a low-pass filter. This transformation is defined by the method `get(image, **kwargs)`, which all implementations of the class `Feature` need to define.\n",
    "\n",
    "Some features, for example scattterers, instead, append a new image to the list. This behavior is controlled by the class attributes `__distributed__` and `__list_merge_strategy__`:\n",
    "* `__distributed__` controls whether `.get(image, **kwargs)` is called on each element in the list separately (`__distributed__ = True`), or it is called on the list as a whole (`__distributed__ = False`).  \n",
    "* `__list_merge_strategy__` controls how the output of `.get(image, **kwargs)` is merged with the input list. It can be `MERGE_STRATEGY_OVERRIDE` (0, default), where the new list is output without merging with the input, or `MERGE_STRATEGY_APPEND` (1), where the new list is appended to the end of the input list.\n",
    "\n",
    "When a feature is created, keyword arguments can be passed to its constructor. These arguments are stored as properties (as a `PropertyDict`) of the feature (see also [properties_example](properties_example.ipynb)), which determine how the feature is resolved. When a feature is updated using the method `.update()`, all properties are updated by calling their respective methods `.update()`. When a feature is called, the current values of all properties are sent through the method `get(image, **kwargs)` as keyword arguments."
   ]
  },
  {
   "cell_type": "code",
   "execution_count": 2,
   "metadata": {},
   "outputs": [
    {
     "name": "stdout",
     "output_type": "stream",
     "text": [
      "The current value of my_property is 1\n",
      "The current value of my_property is bar\n",
      "The current value of my_property is None\n"
     ]
    }
   ],
   "source": [
    "import numpy as np\n",
    "from deeptrack.features import Feature\n",
    "\n",
    "# Implementation of abstract class Feature \n",
    "# which does not alter the input image \n",
    "# and prints the current value of my_property\n",
    "class Foo(Feature):\n",
    "\n",
    "    # Controls what is passed to the method get(): \n",
    "    # False: everything is passed without modification.\n",
    "    # True: elements along the first axis are passed separately.\n",
    "    __distributed__ = False\n",
    "\n",
    "    def get(self, image, my_property=None, **kwargs):\n",
    "        print(\"The current value of my_property is\", my_property)\n",
    "        return image\n",
    "\n",
    "\n",
    "\n",
    "foo1 = Foo(my_property=1)\n",
    "foo1.update()\n",
    "output_image = foo1()\n",
    "\n",
    "foo2 = Foo(my_property=\"bar\")\n",
    "foo2.update()\n",
    "output_image = foo2()\n",
    "\n",
    "foo3 = Foo()\n",
    "foo3.update()\n",
    "output_image = foo3()"
   ]
  },
  {
   "cell_type": "markdown",
   "metadata": {},
   "source": [
    "Since the values are stored as instances of the class `Property`, we can always replace values with standard structures (e.g., lists or lambda functions) to create more complex behaviors (see also [properties_example](properties_example.ipynb))."
   ]
  },
  {
   "cell_type": "code",
   "execution_count": 3,
   "metadata": {},
   "outputs": [
    {
     "name": "stdout",
     "output_type": "stream",
     "text": [
      "The current value of my_property is -0.3996321766652413\n",
      "The current value of my_property is baz\n"
     ]
    }
   ],
   "source": [
    "foo4 = Foo(my_property=lambda: np.random.rand() - 0.5)\n",
    "foo4.update()\n",
    "output_image = foo4()\n",
    "\n",
    "foo5 = Foo(my_property=lambda: np.random.choice([\"bar\", \"baz\"])) # picks one random element from the list\n",
    "foo5.update()\n",
    "output_image = foo5()"
   ]
  },
  {
   "cell_type": "markdown",
   "metadata": {},
   "source": [
    "## 2. Operations defined on features\n",
    "\n",
    "Features can be combined to create a feature series, which is a series of features that are evaluated sequentially. This is done using the add operator (+), the multiply operator (\\*), and the power operator (\\*\\*)."
   ]
  },
  {
   "cell_type": "markdown",
   "metadata": {},
   "source": [
    "### Chaining features\n",
    "\n",
    "The rshft operator (>>) combines two features such that they are evaluated sequentially. For example, given the features `foo` and `bar`, we can combine them as `foobar = foo >> bar`. When `foobar` resolves an image, it first resolves an image from `foo`, then uses this image as the input to resolve an image from `bar`.\n",
    "\n",
    "This operation returns an instance of the feature `Branch`, which contains the two features."
   ]
  },
  {
   "cell_type": "code",
   "execution_count": 4,
   "metadata": {},
   "outputs": [
    {
     "name": "stdout",
     "output_type": "stream",
     "text": [
      "The current value of my_property is foo\n",
      "The current value of my_property is bar\n"
     ]
    }
   ],
   "source": [
    "foobar = Foo(my_property=\"foo\") >> Foo(my_property=\"bar\")\n",
    "\n",
    "foobar.update()\n",
    "output_image = foobar()"
   ]
  },
  {
   "cell_type": "markdown",
   "metadata": {},
   "source": [
    "### Repeating a feature (^) \n",
    "\n",
    "The xor operator (^) takes a feature `foo` and an integer `i` and creates a feature which will call the feature five times with different sets of properties. For example, `foo^5` will call Foo five times. Since this is done at resolve time, the exponent can be any expression that returns an integer when evaluated.\n",
    "\n",
    "This operation returns an instance of the feature `Repeat`, which contains the original feature and the number of times it should be repeated."
   ]
  },
  {
   "cell_type": "code",
   "execution_count": 5,
   "metadata": {},
   "outputs": [
    {
     "name": "stdout",
     "output_type": "stream",
     "text": [
      "The current value of my_property is bar\n",
      "The current value of my_property is bar\n",
      "The current value of my_property is baz\n",
      "The current value of my_property is bar\n",
      "The current value of my_property is baz\n"
     ]
    }
   ],
   "source": [
    "foo = Foo(my_property=lambda: np.random.choice([\"bar\", \"baz\", \"qux\", \"quux\"])) \n",
    "\n",
    "five_foos = foo^5\n",
    "five_foos.update()\n",
    "output_image = five_foos()"
   ]
  },
  {
   "cell_type": "code",
   "execution_count": 6,
   "metadata": {},
   "outputs": [
    {
     "name": "stdout",
     "output_type": "stream",
     "text": [
      "The current value of my_property is bar\n"
     ]
    }
   ],
   "source": [
    "number_of_foo = lambda: np.random.randint(0, 10)\n",
    "\n",
    "random_foos = foo^number_of_foo\n",
    "random_foos.update()\n",
    "output_image = random_foos() # picks one random exponent from the list"
   ]
  },
  {
   "cell_type": "markdown",
   "metadata": {},
   "source": [
    "## 3. Example - Image with random circles"
   ]
  },
  {
   "cell_type": "markdown",
   "metadata": {},
   "source": [
    "Simple example that generates an image with some random circles."
   ]
  },
  {
   "cell_type": "code",
   "execution_count": 7,
   "metadata": {},
   "outputs": [
    {
     "data": {
      "image/png": "[encoded data removed]",
      "text/plain": [
       "<Figure size 432x288 with 1 Axes>"
      ]
     },
     "metadata": {
      "needs_background": "light"
     },
     "output_type": "display_data"
    }
   ],
   "source": [
    "from matplotlib import pyplot as plt\n",
    "\n",
    "# Implementation of the abstract class Feature that draws a circle on an image.\n",
    "class Circle(Feature):\n",
    "\n",
    "    def get(self, image, position, radius, intensity, **kwargs):\n",
    "        X, Y = np.meshgrid(np.arange(image.shape[0]), np.arange(image.shape[1]))\n",
    "        mask = (X - position[0])**2 + (Y - position[1])**2 < radius**2\n",
    "        image[mask] = intensity\n",
    "        return image\n",
    "\n",
    "circle = Circle(\n",
    "    position=lambda: np.random.rand(2) * 512,\n",
    "    radius=lambda: 20 + np.random.rand() * 20,\n",
    "    intensity=1\n",
    ")\n",
    "\n",
    "input_image = np.zeros((512, 512))\n",
    "circles = circle^10\n",
    "circles.update()\n",
    "output_image = circles.resolve(input_image) \n",
    "\n",
    "from matplotlib import pyplot as plt\n",
    "plt.imshow(output_image, cmap='gray')\n",
    "plt.show()"
   ]
  },
  {
   "cell_type": "markdown",
   "metadata": {},
   "source": [
    "## 4. Example - Image with stacked circles\n",
    "\n",
    "And now a more complex example. In this case, we have a repeated feature that depends on another feature."
   ]
  },
  {
   "cell_type": "code",
   "execution_count": 8,
   "metadata": {},
   "outputs": [
    {
     "data": {
      "image/png": "[encoded data removed]",
      "text/plain": [
       "<Figure size 432x288 with 1 Axes>"
      ]
     },
     "metadata": {
      "needs_background": "light"
     },
     "output_type": "display_data"
    }
   ],
   "source": [
    "circle1 = Circle(\n",
    "    position=lambda: np.random.rand(2) * 512,\n",
    "    radius=lambda: 20 + np.random.rand() * 20,\n",
    "    intensity=1\n",
    ")\n",
    "\n",
    "circle2 = Circle(\n",
    "    position=circle1.position,\n",
    "    radius=circle1.radius * 0.66,\n",
    "    intensity=2\n",
    ")\n",
    "\n",
    "circle3 = Circle(\n",
    "    position=circle1.position,\n",
    "    radius=circle1.radius * 0.33,\n",
    "    intensity=3\n",
    ")\n",
    "\n",
    "stacked_circles = circle1 >> circle2 >> circle3\n",
    "\n",
    "many_stacked_circles = stacked_circles ^ (lambda: np.random.randint(5, 10))\n",
    "        \n",
    "input_image = np.zeros((512, 512))\n",
    "output_image = many_stacked_circles.update()(input_image) \n",
    "\n",
    "plt.imshow(output_image, cmap='gray')\n",
    "plt.show()"
   ]
  }
 ],
 "metadata": {
  "kernelspec": {
   "display_name": "Python 3",
   "language": "python",
   "name": "python3"
  },
  "language_info": {
   "codemirror_mode": {
    "name": "ipython",
    "version": 3
   },
   "file_extension": ".py",
   "mimetype": "text/x-python",
   "name": "python",
   "nbconvert_exporter": "python",
   "pygments_lexer": "ipython3",
   "version": "3.8.6"
  }
 },
 "nbformat": 4,
 "nbformat_minor": 2
}
