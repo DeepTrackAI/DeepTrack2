{
  "cells": [
    {
      "cell_type": "code",
      "execution_count": 1,
      "metadata": {
        "execution": {
          "iopub.execute_input": "2022-06-29T20:32:57.664221Z",
          "iopub.status.busy": "2022-06-29T20:32:57.661221Z",
          "iopub.status.idle": "2022-06-29T20:32:58.904419Z",
          "shell.execute_reply": "2022-06-29T20:32:58.903919Z"
        }
      },
      "outputs": [
        {
          "name": "stdout",
          "output_type": "stream",
          "text": [
            "Requirement already satisfied: deeptrack in c:\\users\\gu\\deeptrack\\deeptrack-2.0 (1.2.0)\n",
            "Requirement already satisfied: tensorflow in c:\\users\\gu\\appdata\\local\\programs\\python\\python310\\lib\\site-packages (from deeptrack) (2.9.1)\n",
            "Requirement already satisfied: tensorflow-probability in c:\\users\\gu\\appdata\\local\\programs\\python\\python310\\lib\\site-packages (from deeptrack) (0.17.0)\n",
            "Requirement already satisfied: numpy in c:\\users\\gu\\appdata\\local\\programs\\python\\python310\\lib\\site-packages (from deeptrack) (1.23.0)\n",
            "Requirement already satisfied: scipy in c:\\users\\gu\\appdata\\local\\programs\\python\\python310\\lib\\site-packages (from deeptrack) (1.8.1)\n",
            "Requirement already satisfied: pint in c:\\users\\gu\\appdata\\local\\programs\\python\\python310\\lib\\site-packages (from deeptrack) (0.19.2)\n",
            "Requirement already satisfied: scikit-image>=0.18.0 in c:\\users\\gu\\appdata\\local\\programs\\python\\python310\\lib\\site-packages (from deeptrack) (0.19.3)\n",
            "Requirement already satisfied: pydeepimagej in c:\\users\\gu\\appdata\\local\\programs\\python\\python310\\lib\\site-packages (from deeptrack) (1.1.0)\n",
            "Requirement already satisfied: more_itertools in c:\\users\\gu\\appdata\\local\\programs\\python\\python310\\lib\\site-packages (from deeptrack) (8.13.0)\n",
            "Requirement already satisfied: tensorflow_addons in c:\\users\\gu\\appdata\\local\\programs\\python\\python310\\lib\\site-packages (from deeptrack) (0.17.1)\n",
            "Requirement already satisfied: PyWavelets>=1.1.1 in c:\\users\\gu\\appdata\\local\\programs\\python\\python310\\lib\\site-packages (from scikit-image>=0.18.0->deeptrack) (1.3.0)\n",
            "Requirement already satisfied: tifffile>=2019.7.26 in c:\\users\\gu\\appdata\\local\\programs\\python\\python310\\lib\\site-packages (from scikit-image>=0.18.0->deeptrack) (2022.5.4)\n",
            "Requirement already satisfied: packaging>=20.0 in c:\\users\\gu\\appdata\\local\\programs\\python\\python310\\lib\\site-packages (from scikit-image>=0.18.0->deeptrack) (21.3)\n",
            "Requirement already satisfied: networkx>=2.2 in c:\\users\\gu\\appdata\\local\\programs\\python\\python310\\lib\\site-packages (from scikit-image>=0.18.0->deeptrack) (2.8.4)\n",
            "Requirement already satisfied: pillow!=7.1.0,!=7.1.1,!=8.3.0,>=6.1.0 in c:\\users\\gu\\appdata\\local\\programs\\python\\python310\\lib\\site-packages (from scikit-image>=0.18.0->deeptrack) (9.1.1)\n",
            "Requirement already satisfied: imageio>=2.4.1 in c:\\users\\gu\\appdata\\local\\programs\\python\\python310\\lib\\site-packages (from scikit-image>=0.18.0->deeptrack) (2.19.3)\n",
            "Requirement already satisfied: keras<2.10.0,>=2.9.0rc0 in c:\\users\\gu\\appdata\\local\\programs\\python\\python310\\lib\\site-packages (from tensorflow->deeptrack) (2.9.0)\n",
            "Requirement already satisfied: google-pasta>=0.1.1 in c:\\users\\gu\\appdata\\local\\programs\\python\\python310\\lib\\site-packages (from tensorflow->deeptrack) (0.2.0)\n",
            "Requirement already satisfied: termcolor>=1.1.0 in c:\\users\\gu\\appdata\\local\\programs\\python\\python310\\lib\\site-packages (from tensorflow->deeptrack) (1.1.0)\n",
            "Requirement already satisfied: keras-preprocessing>=1.1.1 in c:\\users\\gu\\appdata\\local\\programs\\python\\python310\\lib\\site-packages (from tensorflow->deeptrack) (1.1.2)\n",
            "Requirement already satisfied: libclang>=13.0.0 in c:\\users\\gu\\appdata\\local\\programs\\python\\python310\\lib\\site-packages (from tensorflow->deeptrack) (14.0.1)\n",
            "Requirement already satisfied: typing-extensions>=3.6.6 in c:\\users\\gu\\appdata\\local\\programs\\python\\python310\\lib\\site-packages (from tensorflow->deeptrack) (4.2.0)\n",
            "Requirement already satisfied: six>=1.12.0 in c:\\users\\gu\\appdata\\local\\programs\\python\\python310\\lib\\site-packages (from tensorflow->deeptrack) (1.16.0)\n",
            "Requirement already satisfied: flatbuffers<2,>=1.12 in c:\\users\\gu\\appdata\\local\\programs\\python\\python310\\lib\\site-packages (from tensorflow->deeptrack) (1.12)\n",
            "Requirement already satisfied: wrapt>=1.11.0 in c:\\users\\gu\\appdata\\local\\programs\\python\\python310\\lib\\site-packages (from tensorflow->deeptrack) (1.14.1)\n",
            "Requirement already satisfied: tensorflow-io-gcs-filesystem>=0.23.1 in c:\\users\\gu\\appdata\\local\\programs\\python\\python310\\lib\\site-packages (from tensorflow->deeptrack) (0.26.0)\n",
            "Requirement already satisfied: h5py>=2.9.0 in c:\\users\\gu\\appdata\\local\\programs\\python\\python310\\lib\\site-packages (from tensorflow->deeptrack) (3.7.0)\n",
            "Requirement already satisfied: setuptools in c:\\users\\gu\\appdata\\local\\programs\\python\\python310\\lib\\site-packages (from tensorflow->deeptrack) (58.1.0)\n",
            "Requirement already satisfied: absl-py>=1.0.0 in c:\\users\\gu\\appdata\\local\\programs\\python\\python310\\lib\\site-packages (from tensorflow->deeptrack) (1.1.0)\n",
            "Requirement already satisfied: tensorboard<2.10,>=2.9 in c:\\users\\gu\\appdata\\local\\programs\\python\\python310\\lib\\site-packages (from tensorflow->deeptrack) (2.9.1)\n",
            "Requirement already satisfied: tensorflow-estimator<2.10.0,>=2.9.0rc0 in c:\\users\\gu\\appdata\\local\\programs\\python\\python310\\lib\\site-packages (from tensorflow->deeptrack) (2.9.0)\n",
            "Requirement already satisfied: opt-einsum>=2.3.2 in c:\\users\\gu\\appdata\\local\\programs\\python\\python310\\lib\\site-packages (from tensorflow->deeptrack) (3.3.0)\n",
            "Requirement already satisfied: protobuf<3.20,>=3.9.2 in c:\\users\\gu\\appdata\\local\\programs\\python\\python310\\lib\\site-packages (from tensorflow->deeptrack) (3.19.4)\n",
            "Requirement already satisfied: astunparse>=1.6.0 in c:\\users\\gu\\appdata\\local\\programs\\python\\python310\\lib\\site-packages (from tensorflow->deeptrack) (1.6.3)\n",
            "Requirement already satisfied: gast<=0.4.0,>=0.2.1 in c:\\users\\gu\\appdata\\local\\programs\\python\\python310\\lib\\site-packages (from tensorflow->deeptrack) (0.4.0)\n",
            "Requirement already satisfied: grpcio<2.0,>=1.24.3 in c:\\users\\gu\\appdata\\local\\programs\\python\\python310\\lib\\site-packages (from tensorflow->deeptrack) (1.47.0)\n",
            "Requirement already satisfied: typeguard>=2.7 in c:\\users\\gu\\appdata\\local\\programs\\python\\python310\\lib\\site-packages (from tensorflow_addons->deeptrack) (2.13.3)\n",
            "Requirement already satisfied: dm-tree in c:\\users\\gu\\appdata\\local\\programs\\python\\python310\\lib\\site-packages (from tensorflow-probability->deeptrack) (0.1.7)\n",
            "Requirement already satisfied: cloudpickle>=1.3 in c:\\users\\gu\\appdata\\local\\programs\\python\\python310\\lib\\site-packages (from tensorflow-probability->deeptrack) (2.1.0)\n",
            "Requirement already satisfied: decorator in c:\\users\\gu\\appdata\\local\\programs\\python\\python310\\lib\\site-packages (from tensorflow-probability->deeptrack) (5.1.1)\n",
            "Requirement already satisfied: wheel<1.0,>=0.23.0 in c:\\users\\gu\\appdata\\local\\programs\\python\\python310\\lib\\site-packages (from astunparse>=1.6.0->tensorflow->deeptrack) (0.37.1)\n",
            "Requirement already satisfied: pyparsing!=3.0.5,>=2.0.2 in c:\\users\\gu\\appdata\\local\\programs\\python\\python310\\lib\\site-packages (from packaging>=20.0->scikit-image>=0.18.0->deeptrack) (3.0.9)\n",
            "Requirement already satisfied: markdown>=2.6.8 in c:\\users\\gu\\appdata\\local\\programs\\python\\python310\\lib\\site-packages (from tensorboard<2.10,>=2.9->tensorflow->deeptrack) (3.3.7)\n",
            "Requirement already satisfied: requests<3,>=2.21.0 in c:\\users\\gu\\appdata\\local\\programs\\python\\python310\\lib\\site-packages (from tensorboard<2.10,>=2.9->tensorflow->deeptrack) (2.28.0)\n",
            "Requirement already satisfied: tensorboard-plugin-wit>=1.6.0 in c:\\users\\gu\\appdata\\local\\programs\\python\\python310\\lib\\site-packages (from tensorboard<2.10,>=2.9->tensorflow->deeptrack) (1.8.1)\n",
            "Requirement already satisfied: google-auth<3,>=1.6.3 in c:\\users\\gu\\appdata\\local\\programs\\python\\python310\\lib\\site-packages (from tensorboard<2.10,>=2.9->tensorflow->deeptrack) (2.9.0)\n",
            "Requirement already satisfied: tensorboard-data-server<0.7.0,>=0.6.0 in c:\\users\\gu\\appdata\\local\\programs\\python\\python310\\lib\\site-packages (from tensorboard<2.10,>=2.9->tensorflow->deeptrack) (0.6.1)\n",
            "Requirement already satisfied: google-auth-oauthlib<0.5,>=0.4.1 in c:\\users\\gu\\appdata\\local\\programs\\python\\python310\\lib\\site-packages (from tensorboard<2.10,>=2.9->tensorflow->deeptrack) (0.4.6)\n",
            "Requirement already satisfied: werkzeug>=1.0.1 in c:\\users\\gu\\appdata\\local\\programs\\python\\python310\\lib\\site-packages (from tensorboard<2.10,>=2.9->tensorflow->deeptrack) (2.1.2)\n",
            "Requirement already satisfied: cachetools<6.0,>=2.0.0 in c:\\users\\gu\\appdata\\local\\programs\\python\\python310\\lib\\site-packages (from google-auth<3,>=1.6.3->tensorboard<2.10,>=2.9->tensorflow->deeptrack) (5.2.0)\n",
            "Requirement already satisfied: rsa<5,>=3.1.4 in c:\\users\\gu\\appdata\\local\\programs\\python\\python310\\lib\\site-packages (from google-auth<3,>=1.6.3->tensorboard<2.10,>=2.9->tensorflow->deeptrack) (4.8)\n",
            "Requirement already satisfied: pyasn1-modules>=0.2.1 in c:\\users\\gu\\appdata\\local\\programs\\python\\python310\\lib\\site-packages (from google-auth<3,>=1.6.3->tensorboard<2.10,>=2.9->tensorflow->deeptrack) (0.2.8)\n",
            "Requirement already satisfied: requests-oauthlib>=0.7.0 in c:\\users\\gu\\appdata\\local\\programs\\python\\python310\\lib\\site-packages (from google-auth-oauthlib<0.5,>=0.4.1->tensorboard<2.10,>=2.9->tensorflow->deeptrack) (1.3.1)\n",
            "Requirement already satisfied: certifi>=2017.4.17 in c:\\users\\gu\\appdata\\local\\programs\\python\\python310\\lib\\site-packages (from requests<3,>=2.21.0->tensorboard<2.10,>=2.9->tensorflow->deeptrack) (2022.6.15)\n",
            "Requirement already satisfied: urllib3<1.27,>=1.21.1 in c:\\users\\gu\\appdata\\local\\programs\\python\\python310\\lib\\site-packages (from requests<3,>=2.21.0->tensorboard<2.10,>=2.9->tensorflow->deeptrack) (1.26.9)\n",
            "Requirement already satisfied: idna<4,>=2.5 in c:\\users\\gu\\appdata\\local\\programs\\python\\python310\\lib\\site-packages (from requests<3,>=2.21.0->tensorboard<2.10,>=2.9->tensorflow->deeptrack) (3.3)\n",
            "Requirement already satisfied: charset-normalizer~=2.0.0 in c:\\users\\gu\\appdata\\local\\programs\\python\\python310\\lib\\site-packages (from requests<3,>=2.21.0->tensorboard<2.10,>=2.9->tensorflow->deeptrack) (2.0.12)\n",
            "Requirement already satisfied: pyasn1<0.5.0,>=0.4.6 in c:\\users\\gu\\appdata\\local\\programs\\python\\python310\\lib\\site-packages (from pyasn1-modules>=0.2.1->google-auth<3,>=1.6.3->tensorboard<2.10,>=2.9->tensorflow->deeptrack) (0.4.8)\n",
            "Requirement already satisfied: oauthlib>=3.0.0 in c:\\users\\gu\\appdata\\local\\programs\\python\\python310\\lib\\site-packages (from requests-oauthlib>=0.7.0->google-auth-oauthlib<0.5,>=0.4.1->tensorboard<2.10,>=2.9->tensorflow->deeptrack) (3.2.0)\n"
          ]
        }
      ],
      "source": [
        "!pip install deeptrack"
      ]
    },
    {
      "cell_type": "markdown",
      "metadata": {},
      "source": [
        "<!--<badge>--><a href=\"https://colab.research.google.com/github/softmatterlab/DeepTrack-2.0/blob/develop/examples/module-examples/image_example.ipynb\" target=\"_parent\"><img src=\"https://colab.research.google.com/assets/colab-badge.svg\" alt=\"Open In Colab\"/></a><!--</badge>-->"
      ]
    },
    {
      "cell_type": "markdown",
      "metadata": {},
      "source": [
        "# deeptrack.image\n",
        "\n",
        "This example introduces the module deeptrack.image."
      ]
    },
    {
      "cell_type": "markdown",
      "metadata": {},
      "source": [
        "## 1. What is an Image?\n",
        "\n",
        "An `Image` is a container used by a feature to store both the generated image and the properties used to generate it. It is a subclass of numpy `ndarray`, so that any operation that works for `ndarrays` will also work for `Image`. `Image` has also a field `properties`, which contains the information about how the image has been generated (see also [properties_example](properties_example.ipynb)). Specifically, `properties` is a list of dictionaries, where each dictionary holds the current values of the properties of a feature (with the names of the properties as keys). This list is ordered as the features have been resolved.\n",
        "\n",
        "By storing the properties used to resolve the image, information about the image can be accessed without access to the feature series. This allows features to change their behaviour depending on what is already in the image. This also allows to extract numeric information about the image (e.g., to be used in supervised learning). "
      ]
    },
    {
      "cell_type": "code",
      "execution_count": 2,
      "metadata": {
        "execution": {
          "iopub.execute_input": "2022-06-29T20:32:58.907420Z",
          "iopub.status.busy": "2022-06-29T20:32:58.906920Z",
          "iopub.status.idle": "2022-06-29T20:33:02.663169Z",
          "shell.execute_reply": "2022-06-29T20:33:02.662669Z"
        }
      },
      "outputs": [
        {
          "data": {
            "text/plain": [
              "[{'position': array([168.84923801,  53.09129026]), 'name': 'Particle'}]"
            ]
          },
          "execution_count": 1,
          "metadata": {},
          "output_type": "execute_result"
        }
      ],
      "source": [
        "import numpy as np\n",
        "\n",
        "from deeptrack.features import Feature\n",
        "from deeptrack.image import Image\n",
        "\n",
        "class Particle(Feature):\n",
        "    def get(self, image, position=None, **kwargs):\n",
        "        \n",
        "        # Code for simulating a particle not included\n",
        "        \n",
        "        return image\n",
        "    \n",
        "image_shape = (256, 256)\n",
        "    \n",
        "particle = Particle(\n",
        "    position=lambda: np.random.rand(2) * np.array(image_shape)\n",
        ")\n",
        "\n",
        "input_image = Image(np.zeros(image_shape))\n",
        "\n",
        "output_image = particle.resolve(input_image)\n",
        "output_image.properties"
      ]
    },
    {
      "cell_type": "markdown",
      "metadata": {},
      "source": [
        "Beyond the expected properties, `name` and `position`, we also see a property `hash_key`. This is a special property injected by all features and is used to compare dictionaries of properties. This is especially useful when merging properties from different Images, where you don't want to duplicate some property. This can be done using the method `merge_properties_from(other)`"
      ]
    },
    {
      "cell_type": "code",
      "execution_count": 3,
      "metadata": {
        "execution": {
          "iopub.execute_input": "2022-06-29T20:33:02.666169Z",
          "iopub.status.busy": "2022-06-29T20:33:02.665670Z",
          "iopub.status.idle": "2022-06-29T20:33:02.668169Z",
          "shell.execute_reply": "2022-06-29T20:33:02.668169Z"
        }
      },
      "outputs": [
        {
          "data": {
            "text/plain": [
              "[{'position': array([168.84923801,  53.09129026]), 'name': 'Particle'}]"
            ]
          },
          "execution_count": 1,
          "metadata": {},
          "output_type": "execute_result"
        }
      ],
      "source": [
        "second_image = particle.resolve(input_image)\n",
        "\n",
        "output_image.merge_properties_from(second_image)\n",
        "output_image.properties"
      ]
    },
    {
      "cell_type": "markdown",
      "metadata": {},
      "source": [
        "However if we update the feature between merges, the properties are treated as distinct. This is true even if the properties are not randomized."
      ]
    },
    {
      "cell_type": "code",
      "execution_count": 4,
      "metadata": {
        "execution": {
          "iopub.execute_input": "2022-06-29T20:33:02.671669Z",
          "iopub.status.busy": "2022-06-29T20:33:02.671168Z",
          "iopub.status.idle": "2022-06-29T20:33:02.673669Z",
          "shell.execute_reply": "2022-06-29T20:33:02.673669Z"
        }
      },
      "outputs": [
        {
          "data": {
            "text/plain": [
              "[{'position': array([168.84923801,  53.09129026]), 'name': 'Particle'},\n",
              " {'position': array([  4.65292344, 140.98926194]), 'name': 'Particle'}]"
            ]
          },
          "execution_count": 1,
          "metadata": {},
          "output_type": "execute_result"
        }
      ],
      "source": [
        "particle.update()\n",
        "\n",
        "updated_image = particle.resolve(input_image)\n",
        "\n",
        "output_image.merge_properties_from(updated_image)\n",
        "output_image.properties"
      ]
    },
    {
      "cell_type": "markdown",
      "metadata": {},
      "source": [
        "## 2. Extracting the information with get_property\n",
        "\n",
        "To retrieve information from the image, one can iterate through the list and extract the properties needed. The function `.get_property()` is a shorthand for this. It retrieves a property or a list of properties from an image. By default it retrieves a single instance of a property (the first instance that it finds)."
      ]
    },
    {
      "cell_type": "code",
      "execution_count": 5,
      "metadata": {
        "execution": {
          "iopub.execute_input": "2022-06-29T20:33:02.676169Z",
          "iopub.status.busy": "2022-06-29T20:33:02.676169Z",
          "iopub.status.idle": "2022-06-29T20:33:02.678669Z",
          "shell.execute_reply": "2022-06-29T20:33:02.679168Z"
        }
      },
      "outputs": [
        {
          "data": {
            "text/plain": [
              "array([168.84923801,  53.09129026])"
            ]
          },
          "execution_count": 1,
          "metadata": {},
          "output_type": "execute_result"
        }
      ],
      "source": [
        "output_image.get_property(\"position\")"
      ]
    },
    {
      "cell_type": "markdown",
      "metadata": {},
      "source": [
        "To retrieve all instances of a property, set `get_one` to `False`"
      ]
    },
    {
      "cell_type": "code",
      "execution_count": 6,
      "metadata": {
        "execution": {
          "iopub.execute_input": "2022-06-29T20:33:02.681668Z",
          "iopub.status.busy": "2022-06-29T20:33:02.681169Z",
          "iopub.status.idle": "2022-06-29T20:33:02.683669Z",
          "shell.execute_reply": "2022-06-29T20:33:02.683669Z"
        }
      },
      "outputs": [
        {
          "data": {
            "text/plain": [
              "[array([168.84923801,  53.09129026]), array([  4.65292344, 140.98926194])]"
            ]
          },
          "execution_count": 1,
          "metadata": {},
          "output_type": "execute_result"
        }
      ],
      "source": [
        "output_image.get_property(\"position\", get_one=False)"
      ]
    },
    {
      "cell_type": "markdown",
      "metadata": {},
      "source": [
        "Finally, if the property is not found, `default` is returned instead "
      ]
    },
    {
      "cell_type": "code",
      "execution_count": 7,
      "metadata": {
        "execution": {
          "iopub.execute_input": "2022-06-29T20:33:02.686169Z",
          "iopub.status.busy": "2022-06-29T20:33:02.685668Z",
          "iopub.status.idle": "2022-06-29T20:33:02.688669Z",
          "shell.execute_reply": "2022-06-29T20:33:02.688669Z"
        }
      },
      "outputs": [
        {
          "data": {
            "text/plain": [
              "'Not found!'"
            ]
          },
          "execution_count": 1,
          "metadata": {},
          "output_type": "execute_result"
        }
      ],
      "source": [
        "output_image.get_property(\"a_property_that_does_not_exist\", default=\"Not found!\")"
      ]
    },
    {
      "cell_type": "markdown",
      "metadata": {},
      "source": [
        "## 3. Storing metadata about an image not used by the feature\n",
        "\n",
        "Sometimes it's convenient to store some information about a feature beyond what is strictly necessary to generate it. For example, you may want to identify one particle to track, or you might want to store the randomized diffusion constant of a particle used to generate physically-accurate sequences of images. This can be done by passing additional keyword arguments to the constructor of a feature. These will be stored as properties just like any other input to the constructor."
      ]
    },
    {
      "cell_type": "code",
      "execution_count": 8,
      "metadata": {
        "execution": {
          "iopub.execute_input": "2022-06-29T20:33:02.692169Z",
          "iopub.status.busy": "2022-06-29T20:33:02.691669Z",
          "iopub.status.idle": "2022-06-29T20:33:02.697169Z",
          "shell.execute_reply": "2022-06-29T20:33:02.697169Z"
        }
      },
      "outputs": [
        {
          "data": {
            "text/plain": [
              "[False, False, False, False, True]"
            ]
          },
          "execution_count": 1,
          "metadata": {},
          "output_type": "execute_result"
        }
      ],
      "source": [
        "particle_to_track = Particle(\n",
        "    position=lambda: np.random.rand(2) * np.array(image_shape),\n",
        "    track_me=True\n",
        ")\n",
        "\n",
        "particle_not_to_track = Particle(\n",
        "    position=lambda: np.random.rand(2) * np.array(image_shape),\n",
        "    track_me=False\n",
        ")\n",
        "\n",
        "input_image = Image(np.zeros(image_shape))\n",
        "\n",
        "particles = (particle_not_to_track^4) >> particle_to_track\n",
        "\n",
        "output_image = particles.resolve(input_image, metadata='This is some additional data')\n",
        "output_image.get_property(\"track_me\", get_one=False)"
      ]
    },
    {
      "cell_type": "code",
      "execution_count": 9,
      "metadata": {
        "execution": {
          "iopub.execute_input": "2022-06-29T20:33:02.700168Z",
          "iopub.status.busy": "2022-06-29T20:33:02.699669Z",
          "iopub.status.idle": "2022-06-29T20:33:02.703669Z",
          "shell.execute_reply": "2022-06-29T20:33:02.704168Z"
        }
      },
      "outputs": [
        {
          "data": {
            "text/plain": [
              "[1.5869123041979534, 3.5725040600553326, 4.145845402448723]"
            ]
          },
          "execution_count": 1,
          "metadata": {},
          "output_type": "execute_result"
        }
      ],
      "source": [
        "particle = Particle(\n",
        "    position=lambda: np.random.rand(2) * np.array(image_shape),\n",
        "    diffusion=lambda: 1 + np.random.rand() * 4\n",
        ") \n",
        "\n",
        "input_image = Image(np.zeros(image_shape))\n",
        "\n",
        "particles = particle^3\n",
        "\n",
        "particles.update()\n",
        "output_image = particles.resolve(input_image)\n",
        "output_image.get_property(\"diffusion\", get_one=False)"
      ]
    }
  ],
  "metadata": {
    "kernelspec": {
      "display_name": "Python 3",
      "language": "python",
      "name": "python3"
    },
    "language_info": {
      "codemirror_mode": {
        "name": "ipython",
        "version": 3
      },
      "file_extension": ".py",
      "mimetype": "text/x-python",
      "name": "python",
      "nbconvert_exporter": "python",
      "pygments_lexer": "ipython3",
      "version": "3.8.6"
    }
  },
  "nbformat": 4,
  "nbformat_minor": 2
}
