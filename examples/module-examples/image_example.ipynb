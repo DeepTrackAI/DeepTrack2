{
  "cells": [
    {
      "cell_type": "code",
      "execution_count": 1,
      "metadata": {
        "execution": {
          "iopub.execute_input": "2022-04-01T19:34:43.750215Z",
          "iopub.status.busy": "2022-04-01T19:34:43.749715Z",
          "iopub.status.idle": "2022-04-01T19:34:43.756715Z",
          "shell.execute_reply": "2022-04-01T19:34:43.756216Z"
        }
      },
      "outputs": [],
      "source": [
        "!pip install deeptrack"
      ]
    },
    {
      "cell_type": "markdown",
      "metadata": {},
      "source": [
        "<!--<badge>--><a href=\"https://colab.research.google.com/github/softmatterlab/DeepTrack-2.0/blob/bm/fix-optics-lambda/examples/module-examples/image_example.ipynb\" target=\"_parent\"><img src=\"https://colab.research.google.com/assets/colab-badge.svg\" alt=\"Open In Colab\"/></a><!--</badge>-->"
      ]
    },
    {
      "cell_type": "markdown",
      "metadata": {},
      "source": [
        "# deeptrack.image\n",
        "\n",
        "This example introduces the module deeptrack.image."
      ]
    },
    {
      "cell_type": "markdown",
      "metadata": {},
      "source": [
        "## 1. What is an Image?\n",
        "\n",
        "An `Image` is a container used by a feature to store both the generated image and the properties used to generate it. It is a subclass of numpy `ndarray`, so that any operation that works for `ndarrays` will also work for `Image`. `Image` has also a field `properties`, which contains the information about how the image has been generated (see also [properties_example](properties_example.ipynb)). Specifically, `properties` is a list of dictionaries, where each dictionary holds the current values of the properties of a feature (with the names of the properties as keys). This list is ordered as the features have been resolved.\n",
        "\n",
        "By storing the properties used to resolve the image, information about the image can be accessed without access to the feature series. This allows features to change their behaviour depending on what is already in the image. This also allows to extract numeric information about the image (e.g., to be used in supervised learning). "
      ]
    },
    {
      "cell_type": "code",
      "execution_count": 2,
      "metadata": {
        "execution": {
          "iopub.execute_input": "2022-04-01T19:34:43.760215Z",
          "iopub.status.busy": "2022-04-01T19:34:43.759715Z",
          "iopub.status.idle": "2022-04-01T19:34:47.981163Z",
          "shell.execute_reply": "2022-04-01T19:34:47.981664Z"
        }
      },
      "outputs": [
        {
          "data": {
            "text/plain": [
              "[{'position': array([110.61590901, 120.63897493]), 'name': 'Particle'}]"
            ]
          },
          "execution_count": 1,
          "metadata": {},
          "output_type": "execute_result"
        }
      ],
      "source": [
        "import numpy as np\n",
        "\n",
        "from deeptrack.features import Feature\n",
        "from deeptrack.image import Image\n",
        "\n",
        "class Particle(Feature):\n",
        "    def get(self, image, position=None, **kwargs):\n",
        "        \n",
        "        # Code for simulating a particle not included\n",
        "        \n",
        "        return image\n",
        "    \n",
        "image_shape = (256, 256)\n",
        "    \n",
        "particle = Particle(\n",
        "    position=lambda: np.random.rand(2) * np.array(image_shape)\n",
        ")\n",
        "\n",
        "input_image = Image(np.zeros(image_shape))\n",
        "\n",
        "output_image = particle.resolve(input_image)\n",
        "output_image.properties"
      ]
    },
    {
      "cell_type": "markdown",
      "metadata": {},
      "source": [
        "Beyond the expected properties, `name` and `position`, we also see a property `hash_key`. This is a special property injected by all features and is used to compare dictionaries of properties. This is especially useful when merging properties from different Images, where you don't want to duplicate some property. This can be done using the method `merge_properties_from(other)`"
      ]
    },
    {
      "cell_type": "code",
      "execution_count": 3,
      "metadata": {
        "execution": {
          "iopub.execute_input": "2022-04-01T19:34:47.984665Z",
          "iopub.status.busy": "2022-04-01T19:34:47.984163Z",
          "iopub.status.idle": "2022-04-01T19:34:47.987163Z",
          "shell.execute_reply": "2022-04-01T19:34:47.987163Z"
        }
      },
      "outputs": [
        {
          "data": {
            "text/plain": [
              "[{'position': array([110.61590901, 120.63897493]), 'name': 'Particle'}]"
            ]
          },
          "execution_count": 1,
          "metadata": {},
          "output_type": "execute_result"
        }
      ],
      "source": [
        "second_image = particle.resolve(input_image)\n",
        "\n",
        "output_image.merge_properties_from(second_image)\n",
        "output_image.properties"
      ]
    },
    {
      "cell_type": "markdown",
      "metadata": {},
      "source": [
        "However if we update the feature between merges, the properties are treated as distinct. This is true even if the properties are not randomized."
      ]
    },
    {
      "cell_type": "code",
      "execution_count": 4,
      "metadata": {
        "execution": {
          "iopub.execute_input": "2022-04-01T19:34:47.990163Z",
          "iopub.status.busy": "2022-04-01T19:34:47.989663Z",
          "iopub.status.idle": "2022-04-01T19:34:47.993163Z",
          "shell.execute_reply": "2022-04-01T19:34:47.993665Z"
        }
      },
      "outputs": [
        {
          "data": {
            "text/plain": [
              "[{'position': array([110.61590901, 120.63897493]), 'name': 'Particle'},\n",
              " {'position': array([ 80.82049831, 189.47798859]), 'name': 'Particle'}]"
            ]
          },
          "execution_count": 1,
          "metadata": {},
          "output_type": "execute_result"
        }
      ],
      "source": [
        "particle.update()\n",
        "\n",
        "updated_image = particle.resolve(input_image)\n",
        "\n",
        "output_image.merge_properties_from(updated_image)\n",
        "output_image.properties"
      ]
    },
    {
      "cell_type": "markdown",
      "metadata": {},
      "source": [
        "## 2. Extracting the information with get_property\n",
        "\n",
        "To retrieve information from the image, one can iterate through the list and extract the properties needed. The function `.get_property()` is a shorthand for this. It retrieves a property or a list of properties from an image. By default it retrieves a single instance of a property (the first instance that it finds)."
      ]
    },
    {
      "cell_type": "code",
      "execution_count": 5,
      "metadata": {
        "execution": {
          "iopub.execute_input": "2022-04-01T19:34:47.996665Z",
          "iopub.status.busy": "2022-04-01T19:34:47.996165Z",
          "iopub.status.idle": "2022-04-01T19:34:47.999663Z",
          "shell.execute_reply": "2022-04-01T19:34:47.999164Z"
        }
      },
      "outputs": [
        {
          "data": {
            "text/plain": [
              "array([110.61590901, 120.63897493])"
            ]
          },
          "execution_count": 1,
          "metadata": {},
          "output_type": "execute_result"
        }
      ],
      "source": [
        "output_image.get_property(\"position\")"
      ]
    },
    {
      "cell_type": "markdown",
      "metadata": {},
      "source": [
        "To retrieve all instances of a property, set `get_one` to `False`"
      ]
    },
    {
      "cell_type": "code",
      "execution_count": 6,
      "metadata": {
        "execution": {
          "iopub.execute_input": "2022-04-01T19:34:48.002163Z",
          "iopub.status.busy": "2022-04-01T19:34:48.002163Z",
          "iopub.status.idle": "2022-04-01T19:34:48.005164Z",
          "shell.execute_reply": "2022-04-01T19:34:48.005663Z"
        }
      },
      "outputs": [
        {
          "data": {
            "text/plain": [
              "[array([110.61590901, 120.63897493]), array([ 80.82049831, 189.47798859])]"
            ]
          },
          "execution_count": 1,
          "metadata": {},
          "output_type": "execute_result"
        }
      ],
      "source": [
        "output_image.get_property(\"position\", get_one=False)"
      ]
    },
    {
      "cell_type": "markdown",
      "metadata": {},
      "source": [
        "Finally, if the property is not found, `default` is returned instead "
      ]
    },
    {
      "cell_type": "code",
      "execution_count": 7,
      "metadata": {
        "execution": {
          "iopub.execute_input": "2022-04-01T19:34:48.008163Z",
          "iopub.status.busy": "2022-04-01T19:34:48.008163Z",
          "iopub.status.idle": "2022-04-01T19:34:48.011167Z",
          "shell.execute_reply": "2022-04-01T19:34:48.011167Z"
        }
      },
      "outputs": [
        {
          "data": {
            "text/plain": [
              "'Not found!'"
            ]
          },
          "execution_count": 1,
          "metadata": {},
          "output_type": "execute_result"
        }
      ],
      "source": [
        "output_image.get_property(\"a_property_that_does_not_exist\", default=\"Not found!\")"
      ]
    },
    {
      "cell_type": "markdown",
      "metadata": {},
      "source": [
        "## 3. Storing metadata about an image not used by the feature\n",
        "\n",
        "Sometimes it's convenient to store some information about a feature beyond what is strictly necessary to generate it. For example, you may want to identify one particle to track, or you might want to store the randomized diffusion constant of a particle used to generate physically-accurate sequences of images. This can be done by passing additional keyword arguments to the constructor of a feature. These will be stored as properties just like any other input to the constructor."
      ]
    },
    {
      "cell_type": "code",
      "execution_count": 8,
      "metadata": {
        "execution": {
          "iopub.execute_input": "2022-04-01T19:34:48.014666Z",
          "iopub.status.busy": "2022-04-01T19:34:48.014666Z",
          "iopub.status.idle": "2022-04-01T19:34:48.019663Z",
          "shell.execute_reply": "2022-04-01T19:34:48.019663Z"
        }
      },
      "outputs": [
        {
          "data": {
            "text/plain": [
              "[False, False, False, False, True]"
            ]
          },
          "execution_count": 1,
          "metadata": {},
          "output_type": "execute_result"
        }
      ],
      "source": [
        "particle_to_track = Particle(\n",
        "    position=lambda: np.random.rand(2) * np.array(image_shape),\n",
        "    track_me=True\n",
        ")\n",
        "\n",
        "particle_not_to_track = Particle(\n",
        "    position=lambda: np.random.rand(2) * np.array(image_shape),\n",
        "    track_me=False\n",
        ")\n",
        "\n",
        "input_image = Image(np.zeros(image_shape))\n",
        "\n",
        "particles = (particle_not_to_track^4) >> particle_to_track\n",
        "\n",
        "output_image = particles.resolve(input_image, metadata='This is some additional data')\n",
        "output_image.get_property(\"track_me\", get_one=False)"
      ]
    },
    {
      "cell_type": "code",
      "execution_count": 9,
      "metadata": {
        "execution": {
          "iopub.execute_input": "2022-04-01T19:34:48.022663Z",
          "iopub.status.busy": "2022-04-01T19:34:48.022663Z",
          "iopub.status.idle": "2022-04-01T19:34:48.027664Z",
          "shell.execute_reply": "2022-04-01T19:34:48.027664Z"
        }
      },
      "outputs": [
        {
          "data": {
            "text/plain": [
              "[3.1408912064849903, 3.420513090245067, 2.0192970308409595]"
            ]
          },
          "execution_count": 1,
          "metadata": {},
          "output_type": "execute_result"
        }
      ],
      "source": [
        "particle = Particle(\n",
        "    position=lambda: np.random.rand(2) * np.array(image_shape),\n",
        "    diffusion=lambda: 1 + np.random.rand() * 4\n",
        ") \n",
        "\n",
        "input_image = Image(np.zeros(image_shape))\n",
        "\n",
        "particles = particle^3\n",
        "\n",
        "particles.update()\n",
        "output_image = particles.resolve(input_image)\n",
        "output_image.get_property(\"diffusion\", get_one=False)"
      ]
    }
  ],
  "metadata": {
    "kernelspec": {
      "display_name": "Python 3",
      "language": "python",
      "name": "python3"
    },
    "language_info": {
      "codemirror_mode": {
        "name": "ipython",
        "version": 3
      },
      "file_extension": ".py",
      "mimetype": "text/x-python",
      "name": "python",
      "nbconvert_exporter": "python",
      "pygments_lexer": "ipython3",
      "version": "3.8.6"
    }
  },
  "nbformat": 4,
  "nbformat_minor": 2
}