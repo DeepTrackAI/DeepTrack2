{
 "cells": [
  {
   "cell_type": "code",
   "execution_count": null,
   "metadata": {},
   "outputs": [],
   "source": [
    "%matplotlib inline\n",
    "import sys\n",
    "sys.path.append(\"..\") # Adds the module to path"
   ]
  },
  {
   "cell_type": "markdown",
   "metadata": {},
   "source": [
    "# deeptrack.generators\n",
    "\n",
    "This example introduces the module deeptrack.generators"
   ]
  },
  {
   "cell_type": "markdown",
   "metadata": {},
   "source": [
    "# What is a generator\n",
    "\n",
    "Generators are tools for continuously creating new images from a feature series. They are fully Keras compatible, meaning they can serve as the input to a keras model during training. The first argument is the feature to resolve, while the second is a function that extracts labels from an image, given an image as input."
   ]
  },
  {
   "cell_type": "code",
   "execution_count": null,
   "metadata": {},
   "outputs": [],
   "source": [
    "from deeptrack.generators import Generator\n",
    "\n",
    "generator = Generator()"
   ]
  },
  {
   "cell_type": "code",
   "execution_count": null,
   "metadata": {},
   "outputs": [],
   "source": [
    "from deeptrack.optics import Fluorescence\n",
    "from deeptrack.scatterers import PointParticle\n",
    "\n",
    "import numpy as np\n",
    "import matplotlib.pyplot as plt\n",
    "\n",
    "optics = Fluorescence(\n",
    "    NA=0.7,\n",
    "    wavelength=680e-9,\n",
    "    resolution=1e-6,\n",
    "    magnification=10,\n",
    "    output_region=(0, 0, 128, 128)\n",
    ")\n",
    "\n",
    "scatterer = PointParticle(\n",
    "    intensity=100,        \n",
    "    position_unit=\"pixel\",\n",
    "    position=lambda: np.random.rand(2) * 128\n",
    ")\n",
    "\n",
    "\n",
    "imaged_scatterer = optics(scatterer)\n",
    "\n",
    "\n",
    "def get_particle_position(result):\n",
    "    for property in result.properties:\n",
    "        if \"position\" in property:\n",
    "            return property[\"position\"]\n",
    "\n",
    "particle_generator = generator.generate(\n",
    "    imaged_scatterer, \n",
    "    get_particle_position, \n",
    "    #shape=(128, 128), \n",
    "    batch_size=4\n",
    ")\n",
    "\n",
    "\n",
    "# generates next batch\n",
    "particles, positions = next(particle_generator)\n",
    "\n",
    "for particle, position in zip(particles, positions):\n",
    "    plt.imshow(np.squeeze(particle), cmap='gray')\n",
    "    plt.scatter(position[1], position[0], 200, marker='o', facecolors=\"none\", edgecolors=\"r\")\n",
    "    plt.show()"
   ]
  },
  {
   "cell_type": "code",
   "execution_count": null,
   "metadata": {},
   "outputs": [],
   "source": []
  }
 ],
 "metadata": {
  "kernelspec": {
   "display_name": "Python 3",
   "language": "python",
   "name": "python3"
  },
  "language_info": {
   "codemirror_mode": {
    "name": "ipython",
    "version": 3
   },
   "file_extension": ".py",
   "mimetype": "text/x-python",
   "name": "python",
   "nbconvert_exporter": "python",
   "pygments_lexer": "ipython3",
   "version": "3.7.8"
  }
 },
 "nbformat": 4,
 "nbformat_minor": 2
}
