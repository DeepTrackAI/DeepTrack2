{
 "cells": [
  {
   "cell_type": "code",
   "execution_count": 1,
   "id": "ab307783",
   "metadata": {},
   "outputs": [],
   "source": [
    "%matplotlib inline\n",
    "import sys\n",
    "sys.path.insert(0, \"../..\")"
   ]
  },
  {
   "cell_type": "code",
   "execution_count": 2,
   "id": "533f88fb",
   "metadata": {},
   "outputs": [
    {
     "name": "stdout",
     "output_type": "stream",
     "text": [
      "ParticleSizing already downloaded! Use force_overwrite=True to redownload the dataset.\n"
     ]
    }
   ],
   "source": [
    "import random\n",
    "\n",
    "import deeptrack as dt\n",
    "import deeptrack.extras\n",
    "import numpy as np\n",
    "import skimage.color\n",
    "import matplotlib.pyplot as plt\n",
    "import tensorflow as tf\n",
    "import scipy.io\n",
    "\n",
    "deeptrack.extras.datasets.load(\"ParticleSizing\")"
   ]
  },
  {
   "cell_type": "code",
   "execution_count": 3,
   "id": "739e8436",
   "metadata": {},
   "outputs": [],
   "source": [
    "import numpy as np\n",
    "import matplotlib.pyplot as plt\n",
    "\n",
    "crop_size = 32\n",
    "padding = 32\n",
    "wavelength = 633e-9 \n",
    "pixel_size = 114e-9\n",
    "crop_propagation_forward = dt.get_propagation_matrix((crop_size + 2 * padding, ) * 2, 1e-7, pixel_size * 2, wavelength)\n",
    "crop_propagation_backward = dt.get_propagation_matrix((crop_size + 2 * padding, ) * 2, -1e-7, pixel_size * 2, wavelength)\n",
    "\n",
    "experimental_data = np.load('datasets/ParticleSizing/sizing_150nm_227nm_PSL.npy', allow_pickle=True)\n",
    "\n",
    "trace = experimental_data[1]\n",
    "trace[..., 0] += 1\n",
    "import random\n",
    "training_set = dt.Value(lambda: trace[0]) >> dt.AveragePooling((2, 2, 1))\n"
   ]
  },
  {
   "cell_type": "code",
   "execution_count": 4,
   "id": "1bfbfd07",
   "metadata": {},
   "outputs": [],
   "source": [
    "args = dt.Arguments(\n",
    "    translate=lambda: np.random.randn(2) * 1,\n",
    "    rotate=lambda:np.random.uniform(0, np.pi*2),\n",
    "    z=lambda: np.random.randint(-4, 4),\n",
    "    rescale=lambda: 10**np.random.uniform(-1, 0.5)\n",
    ")\n",
    "\n",
    "group = ( \n",
    "     dt.Affine(rotate=args.rotate) \n",
    "    >>dt.Affine(translate=args.translate) \n",
    "    >> dt.Rescale(args.rescale) \n",
    "    >> dt.FourierTransform() \n",
    "    >> dt.FourierTransformTransformation(crop_propagation_forward, crop_propagation_backward, args.z) \n",
    "    >> dt.InverseFourierTransform() \n",
    "    >> dt.Gaussian(sigma=lambda: np.random.rand() * 0.0075)\n",
    ")\n",
    "\n",
    "equivariance = (\n",
    "    dt.models.autotracking.TranslationalEquivariance(args.translate)\n",
    "    >> dt.models.autotracking.Rotational2DEquivariance(args.rotate)\n",
    "    # >> dt.models.autotracking.Equivariance(1, args.z / 10, indexes=2)\n",
    "    >> dt.models.autotracking.Equivariance(1, lambda arg: np.log(arg), arg = args.rescale, indexes=2)\n",
    ")\n",
    "\n",
    "\n"
   ]
  },
  {
   "cell_type": "code",
   "execution_count": 5,
   "id": "5fa4c399",
   "metadata": {},
   "outputs": [
    {
     "data": {
      "text/plain": [
       "<matplotlib.image.AxesImage at 0x23505f7c8e0>"
      ]
     },
     "execution_count": 5,
     "metadata": {},
     "output_type": "execute_result"
    },
    {
     "data": {
      "image/png": "[encoded data removed]",
      "text/plain": [
       "<Figure size 432x288 with 1 Axes>"
      ]
     },
     "metadata": {
      "needs_background": "light"
     },
     "output_type": "display_data"
    }
   ],
   "source": [
    "out = (training_set >> group).update()()\n",
    "plt.imshow(out[..., 1])"
   ]
  },
  {
   "cell_type": "code",
   "execution_count": 6,
   "id": "1bf0c230",
   "metadata": {},
   "outputs": [],
   "source": [
    "generator = dt.models.autotracking.AutoTrackGenerator(\n",
    "    training_set,\n",
    "    3,\n",
    "    (group, equivariance), \n",
    "    batch_size=8, \n",
    "    min_data_size=200, \n",
    "    max_data_size=201\n",
    ")\n",
    "\n"
   ]
  },
  {
   "cell_type": "code",
   "execution_count": 7,
   "id": "53c86817",
   "metadata": {},
   "outputs": [
    {
     "name": "stdout",
     "output_type": "stream",
     "text": [
      "Generating 201 / 200 samples before starting training\n",
      "Epoch 1/50\n",
      "100/100 [==============================] - 4s 9ms/step - total_loss: 1.9904 - consistency_loss: 1.1894\n",
      "Epoch 2/50\n",
      "100/100 [==============================] - 1s 10ms/step - total_loss: 1.6493 - consistency_loss: 0.7674\n",
      "Epoch 3/50\n",
      "100/100 [==============================] - 1s 9ms/step - total_loss: 1.2060 - consistency_loss: 0.2818\n",
      "Epoch 4/50\n",
      "100/100 [==============================] - 1s 9ms/step - total_loss: 1.4232 - consistency_loss: 0.3904\n",
      "Epoch 5/50\n",
      "100/100 [==============================] - 1s 10ms/step - total_loss: 0.7657 - consistency_loss: 0.1110\n",
      "Epoch 6/50\n",
      "100/100 [==============================] - 1s 10ms/step - total_loss: 0.6487 - consistency_loss: 0.0425\n",
      "Epoch 7/50\n",
      "100/100 [==============================] - 1s 11ms/step - total_loss: 0.5912 - consistency_loss: 0.0315\n",
      "Epoch 8/50\n",
      "100/100 [==============================] - 1s 10ms/step - total_loss: 0.5737 - consistency_loss: 0.0178\n",
      "Epoch 9/50\n",
      "100/100 [==============================] - 1s 9ms/step - total_loss: 0.6250 - consistency_loss: 0.0339\n",
      "Epoch 10/50\n",
      "100/100 [==============================] - 1s 10ms/step - total_loss: 0.5676 - consistency_loss: 0.0128\n",
      "Epoch 11/50\n",
      "100/100 [==============================] - 1s 10ms/step - total_loss: 0.5734 - consistency_loss: 0.0091\n",
      "Epoch 12/50\n",
      "100/100 [==============================] - 1s 10ms/step - total_loss: 0.5307 - consistency_loss: 0.0044\n",
      "Epoch 13/50\n",
      "100/100 [==============================] - 1s 10ms/step - total_loss: 0.5561 - consistency_loss: 0.0028\n",
      "Epoch 14/50\n",
      "100/100 [==============================] - 1s 10ms/step - total_loss: 0.5438 - consistency_loss: 0.0042\n",
      "Epoch 15/50\n",
      "100/100 [==============================] - 1s 10ms/step - total_loss: 0.5521 - consistency_loss: 0.0031\n",
      "Epoch 16/50\n",
      "100/100 [==============================] - 1s 10ms/step - total_loss: 0.5398 - consistency_loss: 0.0033\n",
      "Epoch 17/50\n",
      "100/100 [==============================] - 1s 10ms/step - total_loss: 0.5279 - consistency_loss: 0.0025\n",
      "Epoch 18/50\n",
      "100/100 [==============================] - 1s 11ms/step - total_loss: 0.5172 - consistency_loss: 0.0050 1s - total_loss:\n",
      "Epoch 19/50\n",
      "100/100 [==============================] - 1s 10ms/step - total_loss: 1.4564 - consistency_loss: 0.3451\n",
      "Epoch 20/50\n",
      "100/100 [==============================] - 1s 10ms/step - total_loss: 0.9455 - consistency_loss: 0.2062\n",
      "Epoch 21/50\n",
      "100/100 [==============================] - 1s 10ms/step - total_loss: 0.6119 - consistency_loss: 0.0508\n",
      "Epoch 22/50\n",
      "100/100 [==============================] - 1s 11ms/step - total_loss: 0.5534 - consistency_loss: 0.0181\n",
      "Epoch 23/50\n",
      "100/100 [==============================] - 1s 10ms/step - total_loss: 0.5507 - consistency_loss: 0.0145\n",
      "Epoch 24/50\n",
      "100/100 [==============================] - 1s 9ms/step - total_loss: 0.5396 - consistency_loss: 0.0102\n",
      "Epoch 25/50\n",
      "100/100 [==============================] - 1s 10ms/step - total_loss: 0.5049 - consistency_loss: 0.0056\n",
      "Epoch 26/50\n",
      "100/100 [==============================] - 1s 10ms/step - total_loss: 0.5329 - consistency_loss: 0.0047\n",
      "Epoch 27/50\n",
      "100/100 [==============================] - 1s 10ms/step - total_loss: 0.5381 - consistency_loss: 0.0069\n",
      "Epoch 28/50\n",
      "100/100 [==============================] - 1s 11ms/step - total_loss: 0.5326 - consistency_loss: 0.0054 0s - total_loss: 0.5360 - consistency_\n",
      "Epoch 29/50\n",
      "100/100 [==============================] - 1s 10ms/step - total_loss: 0.5376 - consistency_loss: 0.0038\n",
      "Epoch 30/50\n",
      "100/100 [==============================] - 1s 10ms/step - total_loss: 0.5253 - consistency_loss: 0.0029\n",
      "Epoch 31/50\n",
      "100/100 [==============================] - 1s 10ms/step - total_loss: 0.5195 - consistency_loss: 0.0054\n",
      "Epoch 32/50\n",
      "100/100 [==============================] - 1s 10ms/step - total_loss: 0.5069 - consistency_loss: 0.0028\n",
      "Epoch 33/50\n",
      "100/100 [==============================] - 1s 10ms/step - total_loss: 0.5332 - consistency_loss: 0.0038\n",
      "Epoch 34/50\n",
      "100/100 [==============================] - 1s 10ms/step - total_loss: 0.5108 - consistency_loss: 0.0023\n",
      "Epoch 35/50\n",
      "100/100 [==============================] - 1s 10ms/step - total_loss: 0.7626 - consistency_loss: 0.0824\n",
      "Epoch 36/50\n",
      "100/100 [==============================] - 1s 10ms/step - total_loss: 1.3029 - consistency_loss: 0.2575\n",
      "Epoch 37/50\n",
      "100/100 [==============================] - 1s 11ms/step - total_loss: 0.8818 - consistency_loss: 0.1050\n",
      "Epoch 38/50\n",
      "100/100 [==============================] - 1s 10ms/step - total_loss: 0.7494 - consistency_loss: 0.0650\n",
      "Epoch 39/50\n",
      "100/100 [==============================] - 1s 11ms/step - total_loss: 0.7254 - consistency_loss: 0.0329\n",
      "Epoch 40/50\n",
      "100/100 [==============================] - 1s 10ms/step - total_loss: 0.6967 - consistency_loss: 0.0414\n",
      "Epoch 41/50\n",
      "100/100 [==============================] - 1s 10ms/step - total_loss: 0.8058 - consistency_loss: 0.0690\n",
      "Epoch 42/50\n",
      "100/100 [==============================] - 1s 11ms/step - total_loss: 0.6554 - consistency_loss: 0.0167\n",
      "Epoch 43/50\n",
      "100/100 [==============================] - 1s 10ms/step - total_loss: 0.6262 - consistency_loss: 0.0146\n",
      "Epoch 44/50\n",
      "100/100 [==============================] - 1s 9ms/step - total_loss: 0.6096 - consistency_loss: 0.0106\n",
      "Epoch 45/50\n",
      "100/100 [==============================] - 1s 10ms/step - total_loss: 0.5902 - consistency_loss: 0.0089\n",
      "Epoch 46/50\n",
      "100/100 [==============================] - 1s 10ms/step - total_loss: 0.6031 - consistency_loss: 0.0112\n",
      "Epoch 47/50\n",
      "100/100 [==============================] - 1s 10ms/step - total_loss: 0.5776 - consistency_loss: 0.0075\n",
      "Epoch 48/50\n",
      "100/100 [==============================] - 1s 11ms/step - total_loss: 0.5849 - consistency_loss: 0.0070\n",
      "Epoch 49/50\n",
      "100/100 [==============================] - 1s 10ms/step - total_loss: 0.5859 - consistency_loss: 0.0059\n",
      "Epoch 50/50\n",
      "100/100 [==============================] - 1s 11ms/step - total_loss: 0.6167 - consistency_loss: 0.0061\n"
     ]
    }
   ],
   "source": [
    "\n",
    "with generator:\n",
    "    model = dt.models.AutoMultiTracker(input_shape=(None, None, 2), num_outputs=3)\n",
    "    model.compile(loss=\"mae\", optimizer=tf.keras.optimizers.Adam())\n",
    "    model.fit(generator, epochs=50, steps_per_epoch=100)\n"
   ]
  },
  {
   "cell_type": "code",
   "execution_count": 48,
   "id": "bb25a14a",
   "metadata": {},
   "outputs": [],
   "source": [
    "res = []\n",
    "for d in experimental_data:\n",
    "    d = dt.AveragePooling(ksize=(1, 2, 2, 1))(d)._value\n",
    "    \n",
    "    if np.mean(d[..., 0]) < 0.5:\n",
    "        d[..., 0] += 1\n",
    "    preds = model.predict_and_pool(np.array(d))\n",
    "    res.append(preds)"
   ]
  },
  {
   "cell_type": "code",
   "execution_count": 52,
   "id": "c798d764",
   "metadata": {},
   "outputs": [
    {
     "data": {
      "image/png": "[encoded data removed]",
      "text/plain": [
       "<Figure size 432x288 with 1 Axes>"
      ]
     },
     "metadata": {
      "needs_background": "light"
     },
     "output_type": "display_data"
    }
   ],
   "source": [
    "out2 = []\n",
    "for d in res:\n",
    "    out2.append(np.mean(d[:, 2]))\n",
    "out2 = np.exp(out2)\n",
    "out2 = out2 / np.quantile(out2, 0.95)\n",
    "\n",
    "plt.hist(out2, 30)\n",
    "\n",
    "outa = np.zeros((0,))\n",
    "outb = np.zeros((0,))\n",
    "for d, o0 in zip(res, out2):\n",
    "    vals = dt.convolve(d[:, 2], np.ones((15,))/15)[::15]\n",
    "    if 1.3 > o0 > 0.7:\n",
    "        outa = np.concatenate((outa, vals), axis=0)\n",
    "    if o0 < 0.4:\n",
    "        outb = np.concatenate((outb, vals), axis=0)\n",
    "outa = np.exp(outa)\n",
    "outb = np.exp(outb)\n"
   ]
  },
  {
   "cell_type": "code",
   "execution_count": 53,
   "id": "d88c0731",
   "metadata": {},
   "outputs": [],
   "source": [
    "particle_a_ph = 0.228**3 * (1.58 - 1.33)\n",
    "particle_b_ph = 0.150**3 * (1.58 - 1.33) \n",
    "\n",
    "norm_factor = particle_a_ph / np.median(outa)"
   ]
  },
  {
   "cell_type": "code",
   "execution_count": 54,
   "id": "f97641fd",
   "metadata": {},
   "outputs": [
    {
     "data": {
      "text/plain": [
       "(0.0, 60.0)"
      ]
     },
     "execution_count": 54,
     "metadata": {},
     "output_type": "execute_result"
    },
    {
     "data": {
      "image/png": "[encoded data removed]",
      "text/plain": [
       "<Figure size 360x360 with 1 Axes>"
      ]
     },
     "metadata": {
      "needs_background": "light"
     },
     "output_type": "display_data"
    }
   ],
   "source": [
    "import seaborn\n",
    "\n",
    "plt.figure(figsize=(5, 5))\n",
    "plt.hist(outa * norm_factor, 50, range=(0, particle_a_ph * 1.5), color=seaborn.color_palette(\"colorblind\")[3], edgecolor=seaborn.color_palette(\"colorblind\")[3])\n",
    "plt.hist(outb * norm_factor, 50, range=(0, particle_a_ph * 1.5), color=seaborn.color_palette(\"colorblind\")[4], edgecolor=seaborn.color_palette(\"colorblind\")[4])\n",
    "\n",
    "plt.axvline(particle_a_ph, c=\"k\", linestyle=\"--\", linewidth=3)\n",
    "plt.axvline(particle_b_ph, c=\"k\", linestyle=\"--\", linewidth=3)\n",
    "plt.yticks([])\n",
    "plt.ylim([0, 60])\n"
   ]
  },
  {
   "cell_type": "code",
   "execution_count": null,
   "id": "339c32eb",
   "metadata": {},
   "outputs": [],
   "source": []
  }
 ],
 "metadata": {
  "interpreter": {
   "hash": "dee7c62952cd92a9f95e3a9cf2ab80d8434e980a2c662f49192ac9761f392c34"
  },
  "kernelspec": {
   "display_name": "Python 3.8.6 64-bit",
   "name": "python3"
  },
  "language_info": {
   "codemirror_mode": {
    "name": "ipython",
    "version": 3
   },
   "file_extension": ".py",
   "mimetype": "text/x-python",
   "name": "python",
   "nbconvert_exporter": "python",
   "pygments_lexer": "ipython3",
   "version": "3.8.6"
  }
 },
 "nbformat": 4,
 "nbformat_minor": 5
}
