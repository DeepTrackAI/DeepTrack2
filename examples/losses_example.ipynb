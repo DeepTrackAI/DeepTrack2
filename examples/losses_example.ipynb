{
 "cells": [
  {
   "cell_type": "code",
   "execution_count": null,
   "metadata": {},
   "outputs": [],
   "source": [
    "%matplotlib inline\n",
    "import sys\n",
    "sys.path.append(\"..\") # Adds the module to path"
   ]
  },
  {
   "cell_type": "markdown",
   "metadata": {},
   "source": [
    "# deeptrack.losses\n",
    "\n",
    "This example introduces the module deeptrack.losses."
   ]
  },
  {
   "cell_type": "markdown",
   "metadata": {},
   "source": [
    "## 1. What is a loss?\n",
    "\n",
    "Losses are functions that return some representation of the error of the model during training. In DeepTrack 2.0, we extend the set of loss functions provided by Keras with loss functions specifically for image-to-image transformations."
   ]
  },
  {
   "cell_type": "markdown",
   "metadata": {},
   "source": [
    "## 2. Setup\n",
    "\n",
    "We will exemplify the provided loss functions using some mock inputs: a 2x2x1 tensor of ones and a 2x2x1 tensor of zeros."
   ]
  },
  {
   "cell_type": "code",
   "execution_count": null,
   "metadata": {},
   "outputs": [],
   "source": [
    "import deeptrack.losses as losses\n",
    "\n",
    "from tensorflow.keras import backend as K\n",
    "import numpy as np\n",
    "\n",
    "truthly = K.constant(np.ones((2, 2, 1))) \n",
    "falsely = K.constant(np.zeros((2, 2, 1)))\n",
    "\n",
    "def evaluate(loss_function):\n",
    "    print(\"Error with true positive:\", K.eval(loss_function(truthly, truthly)))\n",
    "    print(\"Error with false positive:\", K.eval(loss_function(falsely, truthly)))\n",
    "    print(\"Error with false negative:\", K.eval(loss_function(truthly, falsely)))\n",
    "    print(\"Error with true negative:\", K.eval(loss_function(falsely, falsely)))"
   ]
  },
  {
   "cell_type": "markdown",
   "metadata": {},
   "source": [
    "## 3. flatten()\n",
    "\n",
    "Flatten wraps a loss function, and converts the input to one dimension arrays. This is essential for certain loss functions."
   ]
  },
  {
   "cell_type": "code",
   "execution_count": null,
   "metadata": {},
   "outputs": [],
   "source": [
    "from tensorflow.keras.losses import mse\n",
    "\n",
    "evaluate(mse)"
   ]
  },
  {
   "cell_type": "code",
   "execution_count": null,
   "metadata": {},
   "outputs": [],
   "source": [
    "evaluate(losses.flatten(mse))"
   ]
  },
  {
   "cell_type": "markdown",
   "metadata": {},
   "source": [
    "## 4. sigmoid()\n",
    "\n",
    "Sigmoid applies a sigmoid transformation to the prediction."
   ]
  },
  {
   "cell_type": "code",
   "execution_count": null,
   "metadata": {},
   "outputs": [],
   "source": [
    "evaluate(losses.flatten(losses.sigmoid(mse)))"
   ]
  },
  {
   "cell_type": "markdown",
   "metadata": {},
   "source": [
    "## 5. weighted_crossentropy()\n",
    "\n",
    "Binary crossentropy with weighted classes. Typically for u-net segmentation tasks with uneven classes. Note that false negative is penalized ten times as harsh as false positive."
   ]
  },
  {
   "cell_type": "code",
   "execution_count": null,
   "metadata": {},
   "outputs": [],
   "source": [
    "evaluate(losses.flatten(losses.weighted_crossentropy(weight=(10, 1))))"
   ]
  },
  {
   "cell_type": "markdown",
   "metadata": {},
   "source": [
    "## 6. nd_mean_squared_error\n",
    "\n",
    "Mean square error with flattened inputs."
   ]
  },
  {
   "cell_type": "code",
   "execution_count": null,
   "metadata": {},
   "outputs": [],
   "source": [
    "evaluate(losses.nd_mean_squared_error)"
   ]
  },
  {
   "cell_type": "markdown",
   "metadata": {},
   "source": [
    "## 6. nd_mean_squared_logarithmic_error\n",
    "\n",
    "Mean square log error with flattened inputs."
   ]
  },
  {
   "cell_type": "code",
   "execution_count": null,
   "metadata": {},
   "outputs": [],
   "source": [
    "evaluate(losses.nd_mean_squared_logarithmic_error)"
   ]
  },
  {
   "cell_type": "markdown",
   "metadata": {},
   "source": [
    "## 7. nd_poisson\n",
    "\n",
    "Poisson error with flattened inputs."
   ]
  },
  {
   "cell_type": "code",
   "execution_count": null,
   "metadata": {},
   "outputs": [],
   "source": [
    "evaluate(losses.nd_poisson)"
   ]
  },
  {
   "cell_type": "markdown",
   "metadata": {},
   "source": [
    "## 8. nd_squared_hinge\n",
    "\n",
    "Poisson error with flattened inputs."
   ]
  },
  {
   "cell_type": "code",
   "execution_count": null,
   "metadata": {},
   "outputs": [],
   "source": [
    "evaluate(losses.nd_squared_hinge)"
   ]
  },
  {
   "cell_type": "markdown",
   "metadata": {},
   "source": [
    "## 9. nd_binary_crossentropy\n",
    "\n",
    "Squared hinge error with flattened inputs."
   ]
  },
  {
   "cell_type": "code",
   "execution_count": null,
   "metadata": {},
   "outputs": [],
   "source": [
    "evaluate(losses.nd_binary_crossentropy)"
   ]
  },
  {
   "cell_type": "markdown",
   "metadata": {},
   "source": [
    "## 11. nd_mean_absolute_percentage_error\n",
    "\n",
    "Squared hinge error with flattened inputs."
   ]
  },
  {
   "cell_type": "code",
   "execution_count": null,
   "metadata": {},
   "outputs": [],
   "source": [
    "evaluate(losses.nd_mean_absolute_percentage_error)"
   ]
  },
  {
   "cell_type": "code",
   "execution_count": null,
   "metadata": {},
   "outputs": [],
   "source": []
  }
 ],
 "metadata": {
  "kernelspec": {
   "name": "python386jvsc74a57bd0dee7c62952cd92a9f95e3a9cf2ab80d8434e980a2c662f49192ac9761f392c34",
   "display_name": "Python 3.8.6 64-bit"
  },
  "language_info": {
   "codemirror_mode": {
    "name": "ipython",
    "version": 3
   },
   "file_extension": ".py",
   "mimetype": "text/x-python",
   "name": "python",
   "nbconvert_exporter": "python",
   "pygments_lexer": "ipython3",
   "version": "3.8.6"
  }
 },
 "nbformat": 4,
 "nbformat_minor": 2
}