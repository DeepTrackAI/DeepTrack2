{
 "cells": [
  {
   "cell_type": "code",
   "execution_count": 19,
   "metadata": {},
   "outputs": [],
   "source": [
    "%matplotlib inline\n",
    "import sys\n",
    "sys.path.append(\"..\") # Adds the module to path"
   ]
  },
  {
   "cell_type": "markdown",
   "metadata": {},
   "source": [
    "# deeptrack.properties\n",
    "\n",
    "This example introduces the module deeptrack.properties.\n",
    "\n",
    "## What is a property?\n",
    "\n",
    "Each feature (instance of the class `Feature`, see [features_example](features_example.ipynb)) can have several properties (instances of the class `Property`).\n",
    "A propety has a value accessible through the field `current_value`, whose data type is not restricted. \n",
    "This value is updated through a sampling rule (method `.update()`), which is passed to the class constructor on initialization. \n",
    "\n",
    "## What is a sampling rule?\n",
    "\n",
    "The sampling rule determines how the value of a property is updated upon calling `.update()`.\n",
    "A sampling rule is defined when an instance of the class Property is created and can be of any type. \n",
    "When calling `.update()`, the value of the property is updated according to the first of the following that applies:\n",
    "    \n",
    "1.  If the sampling rule has a method `.sample()`, call `.sample()` and return the output.\n",
    "2.  If the sampling rule is a ``dict``, sample each value and combine the result into a new ``dict`` using the original keys. \n",
    "3.  If the sampling rule is a ``list``, sample each element of the list and combine the result into a new ``list``.\n",
    "4.  If the sampling rule is an iterable, return the next value. If the iterable is exhausted, the value of the property is not changed.\n",
    "5.  If the sampling rule is callable, call it and return the result.\n",
    "6.  If none of the above apply, return the sampling rule itself."
   ]
  },
  {
   "cell_type": "code",
   "execution_count": 20,
   "metadata": {},
   "outputs": [],
   "source": [
    "import numpy as np\n",
    "from deeptrack.properties import Property, SequentialProperty, PropertyDict"
   ]
  },
  {
   "cell_type": "markdown",
   "metadata": {},
   "source": [
    "## 1.1 Property with a constant value\n",
    "\n",
    "The simplest example of a property is one that does not change during an update call.\n",
    "This is commonly either a number or a tuple, but can be any data type that will be evaluated by case 6.\n",
    "If you want to have a constant property with a value that would be evaluated by cases 1-5 (e.g., a list or a function), you can  wrap it as the output of a lambda function."
   ]
  },
  {
   "cell_type": "code",
   "execution_count": 21,
   "metadata": {},
   "outputs": [
    {
     "name": "stdout",
     "output_type": "stream",
     "text": [
      "The current value of the property is 1\n",
      "The current value of the property is 1\n"
     ]
    }
   ],
   "source": [
    "# NUMBER\n",
    "\n",
    "P = Property(1)\n",
    "print(\"The current value of the property is\", P.current_value)\n",
    "\n",
    "P.update() # Numbers are not changed after an update() call\n",
    "print(\"The current value of the property is\", P.current_value)"
   ]
  },
  {
   "cell_type": "code",
   "execution_count": 22,
   "metadata": {},
   "outputs": [
    {
     "name": "stdout",
     "output_type": "stream",
     "text": [
      "The current value of the property is (1, [2, 3], None)\n",
      "The current value of the property is (1, [2, 3], None)\n"
     ]
    }
   ],
   "source": [
    "# TUPLE\n",
    "\n",
    "P = Property((1, [2, 3], None))\n",
    "print(\"The current value of the property is\", P.current_value)\n",
    "\n",
    "P.update() # Tuples are not changed after an update() call\n",
    "print(\"The current value of the property is\", P.current_value)"
   ]
  },
  {
   "cell_type": "code",
   "execution_count": 23,
   "metadata": {},
   "outputs": [
    {
     "name": "stdout",
     "output_type": "stream",
     "text": [
      "The current value of the property is [<built-in method rand of numpy.random.mtrand.RandomState object at 0x0000024DDCC00378>, 1, {}]\n",
      "The current value of the property is [<built-in method rand of numpy.random.mtrand.RandomState object at 0x0000024DDCC00378>, 1, {}]\n"
     ]
    }
   ],
   "source": [
    "# WRAPPED LIST\n",
    "\n",
    "P = Property(lambda: [np.random.rand, 1, {}])\n",
    "print(\"The current value of the property is\", P.current_value)\n",
    "\n",
    "P.update() # Objects wrapped in functions are not changed after an update() call\n",
    "print(\"The current value of the property is\", P.current_value)"
   ]
  },
  {
   "cell_type": "markdown",
   "metadata": {},
   "source": [
    "## 1.2 Property with a discrete random value \n",
    "\n",
    "Discrete randomness can be achieved by a function (case 5)."
   ]
  },
  {
   "cell_type": "code",
   "execution_count": 24,
   "metadata": {},
   "outputs": [
    {
     "name": "stdout",
     "output_type": "stream",
     "text": [
      "The current value of the property is 1\n",
      "The current value of the property is 4\n",
      "The current value of the property is 8\n",
      "The current value of the property is 9\n",
      "The current value of the property is 5\n"
     ]
    }
   ],
   "source": [
    "# FUNCTION\n",
    "\n",
    "P = Property(lambda: np.random.randint(0, 10))\n",
    "for _ in range(5): \n",
    "    P.update()\n",
    "    print(\"The current value of the property is\", P.current_value)"
   ]
  },
  {
   "cell_type": "code",
   "execution_count": 25,
   "metadata": {},
   "outputs": [
    {
     "name": "stdout",
     "output_type": "stream",
     "text": [
      "The current value of the property is 0\n",
      "The current value of the property is 0\n",
      "The current value of the property is 0\n",
      "The current value of the property is 0\n",
      "The current value of the property is 0\n"
     ]
    }
   ],
   "source": [
    "# BINARY CHOICE\n",
    "\n",
    "P = Property(lambda: 1 if np.random.rand() > 0.75 else 0)\n",
    "for _ in range(5): \n",
    "    P.update()\n",
    "    print(\"The current value of the property is\", P.current_value)"
   ]
  },
  {
   "cell_type": "markdown",
   "metadata": {},
   "source": [
    "## 1.3 Property with a continuous random value \n",
    "\n",
    "Continuous randomness is typically achieved by passing a function that returns a coninuous random value. This function should take no input, as noted in case 5. To use a function that needs arguments, wrap it in a function that calls it with the correct arguments."
   ]
  },
  {
   "cell_type": "code",
   "execution_count": 26,
   "metadata": {},
   "outputs": [
    {
     "name": "stdout",
     "output_type": "stream",
     "text": [
      "The current value of the property is 0.7091281896563094\n",
      "The current value of the property is 0.3915972179156568\n",
      "The current value of the property is 0.39638537939593776\n",
      "The current value of the property is 0.05938215863327678\n",
      "The current value of the property is 0.1399123253529757\n"
     ]
    }
   ],
   "source": [
    "# FUNCTION WITH NO INPUT\n",
    "\n",
    "P = Property(np.random.rand)\n",
    "for _ in range(5):\n",
    "    P.update()\n",
    "    print(\"The current value of the property is\", P.current_value)"
   ]
  },
  {
   "cell_type": "code",
   "execution_count": 27,
   "metadata": {},
   "outputs": [
    {
     "name": "stdout",
     "output_type": "stream",
     "text": [
      "The current value of the property is -0.6512569496025855\n",
      "The current value of the property is 4.693888378095286\n",
      "The current value of the property is 1.058907313179013\n",
      "The current value of the property is -0.9157391668664014\n",
      "The current value of the property is 12.098982529780779\n"
     ]
    }
   ],
   "source": [
    "# WRAPPED FUNCTION\n",
    "\n",
    "P = Property(lambda: np.random.normal(1, 5))\n",
    "for _ in range(5):\n",
    "    P.update()\n",
    "    print(\"The current value of the property is\", P.current_value)"
   ]
  },
  {
   "cell_type": "markdown",
   "metadata": {},
   "source": [
    "## 1.4 Property with a deterministically changing value\n",
    "\n",
    "Deterministically changing properties can be achieved using either an iterator (case 4) or a function (case 5). For the output of a function to change deterministically between calls, it should reference some variable outside its definition. Once an iterator has been exhausted, it will always return its last value."
   ]
  },
  {
   "cell_type": "code",
   "execution_count": 28,
   "metadata": {},
   "outputs": [
    {
     "name": "stdout",
     "output_type": "stream",
     "text": [
      "The current value of the property is 1\n",
      "The current value of the property is 2\n",
      "The current value of the property is 3\n",
      "The current value of the property is 4\n",
      "The current value of the property is 5\n",
      "The current value of the property is 5\n",
      "The current value of the property is 5\n",
      "The current value of the property is 5\n",
      "The current value of the property is 5\n",
      "The current value of the property is 5\n"
     ]
    }
   ],
   "source": [
    "# ITERATOR\n",
    "\n",
    "P = Property(iter([1, 2, 3, 4, 5]))\n",
    "for _ in range(10):\n",
    "    P.update()\n",
    "    print(\"The current value of the property is\", P.current_value)"
   ]
  },
  {
   "cell_type": "code",
   "execution_count": 29,
   "metadata": {},
   "outputs": [
    {
     "name": "stdout",
     "output_type": "stream",
     "text": [
      "The current value of the property is [1, 1, 2]\n",
      "The current value of the property is [1, 1, 2, 3]\n",
      "The current value of the property is [1, 1, 2, 3, 5]\n",
      "The current value of the property is [1, 1, 2, 3, 5, 8]\n",
      "The current value of the property is [1, 1, 2, 3, 5, 8, 13]\n",
      "The current value of the property is [1, 1, 2, 3, 5, 8, 13, 21]\n",
      "The current value of the property is [1, 1, 2, 3, 5, 8, 13, 21, 34]\n",
      "The current value of the property is [1, 1, 2, 3, 5, 8, 13, 21, 34, 55]\n",
      "The current value of the property is [1, 1, 2, 3, 5, 8, 13, 21, 34, 55, 89]\n",
      "The current value of the property is [1, 1, 2, 3, 5, 8, 13, 21, 34, 55, 89, 144]\n"
     ]
    }
   ],
   "source": [
    "# FUNCTION\n",
    "\n",
    "fibbonacci = [1, 1]\n",
    "def fibbonacci_sequence():\n",
    "    fibbonacci.append(fibbonacci[-2] + fibbonacci[-1])\n",
    "    return fibbonacci\n",
    "\n",
    "P = Property(fibbonacci_sequence)\n",
    "for _ in range(10):\n",
    "    P.update()\n",
    "    print(\"The current value of the property is\", P.current_value)"
   ]
  },
  {
   "cell_type": "markdown",
   "metadata": {},
   "source": [
    "## 1.5 Property with dependent value\n",
    "\n",
    "The value of a property can be dependent on the value on some other property. It does this by accepting some keyword argument corresponding to the name of the independent property. Instances of `Feature` will handle this automatically."
   ]
  },
  {
   "cell_type": "code",
   "execution_count": 30,
   "metadata": {},
   "outputs": [
    {
     "name": "stdout",
     "output_type": "stream",
     "text": [
      "The current value of the independent property is 0.26126281870933443\n",
      "The current value of the dependent property is 1.2612628187093344 \n",
      "\n",
      "The current value of the independent property is 0.12241346110595253\n",
      "The current value of the dependent property is 1.1224134611059524 \n",
      "\n",
      "The current value of the independent property is 0.9764026503707658\n",
      "The current value of the dependent property is 1.976402650370766 \n",
      "\n",
      "The current value of the independent property is 0.00015339370945599562\n",
      "The current value of the dependent property is 1.000153393709456 \n",
      "\n",
      "The current value of the independent property is 0.17485924331893565\n",
      "The current value of the dependent property is 1.1748592433189358 \n",
      "\n"
     ]
    }
   ],
   "source": [
    "random_number = Property(lambda: np.random.rand())\n",
    "\n",
    "def get_dependent_number(random_number):\n",
    "    return random_number + 1\n",
    "\n",
    "dependent_number = Property(get_dependent_number)\n",
    "\n",
    "for _ in range(5):\n",
    "    dependent_number.update(random_number=random_number)\n",
    "    \n",
    "    dependent_number.has_updated_since_last_resolve = False\n",
    "    random_number.has_updated_since_last_resolve = False\n",
    "    \n",
    "    print(\"The current value of the independent property is\", random_number.current_value)\n",
    "    print(\"The current value of the dependent property is\", dependent_number.current_value, \"\\n\")"
   ]
  },
  {
   "cell_type": "markdown",
   "metadata": {},
   "source": [
    "## 2. What is SequentialProperty?\n",
    "\n",
    "The class `SequentialProperty` extends `Property` to handle cases where a sequence of values are required. This is most commonly used for creating videos, where sequential properties contain the value of some property at each frame. \n",
    "\n",
    "Sequential properties are created and sampled similarly to standard properties. They accept a sampling rule as the first parameter, but also optionally accept an initializer through the keyword argument `initializer`. The initializer is responsible for the first step in each sequence. \n",
    "\n",
    "The sampling rule is sampled once per step in the sequence, and concatenated into a list of values. To facilitate the creation of time dependent properties, sampling rules that are function may additionally accept a few keyword arguments:\n",
    "\n",
    "* `previous_value`: The value of the property at the previous step. Is `None` at the first step.\n",
    "* `previous_values`: The value of the property at all previous steps as a list. Is `[]` at the first step.\n",
    "* `sequence_step`: The step in the sequence being sampled.\n",
    "* `sequence_length`: The length of the sequence."
   ]
  },
  {
   "cell_type": "markdown",
   "metadata": {},
   "source": [
    "## 2.1 SequentialProperty with constant value"
   ]
  },
  {
   "cell_type": "code",
   "execution_count": 31,
   "metadata": {},
   "outputs": [
    {
     "name": "stdout",
     "output_type": "stream",
     "text": [
      "The current value of the sequential property is [1, 1, 1, 1, 1, 1, 1, 1, 1, 1]\n",
      "The current value of the sequential property is [1, 1, 1, 1, 1, 1, 1, 1, 1, 1]\n",
      "The current value of the sequential property is [1, 1, 1, 1, 1, 1, 1, 1, 1, 1]\n",
      "The current value of the sequential property is [1, 1, 1, 1, 1, 1, 1, 1, 1, 1]\n",
      "The current value of the sequential property is [1, 1, 1, 1, 1, 1, 1, 1, 1, 1]\n"
     ]
    }
   ],
   "source": [
    "sequence_length = 10\n",
    "sampling_rule = 1\n",
    "initializer = 0\n",
    "\n",
    "P = SequentialProperty(sampling_rule, initializer=initializer)\n",
    "\n",
    "for _ in range(5):\n",
    "    P.update(sequence_length=sequence_length)\n",
    "    \n",
    "    print(\"The current value of the sequential property is\", P.current_value)"
   ]
  },
  {
   "cell_type": "markdown",
   "metadata": {},
   "source": [
    "## 2.2 SequentialProperty with time-dependent values"
   ]
  },
  {
   "cell_type": "code",
   "execution_count": 32,
   "metadata": {},
   "outputs": [
    {
     "name": "stdout",
     "output_type": "stream",
     "text": [
      "The current value of the sequential property is [0.0, 0.6283185307179586, 1.2566370614359172, 1.8849555921538759, 2.5132741228718345, 3.141592653589793, 3.7699111843077517, 4.39822971502571, 5.026548245743669, 5.654866776461628]\n"
     ]
    }
   ],
   "source": [
    "sequence_length = 10\n",
    "\n",
    "# a function as sampling rule\n",
    "def rotation(sequence_step, sequence_length):\n",
    "    return 2 * np.pi / sequence_length * sequence_step\n",
    "\n",
    "P = SequentialProperty(rotation, initializer=0)\n",
    "\n",
    "P.update(sequence_length=sequence_length)\n",
    "print(\"The current value of the sequential property is\", P.current_value)"
   ]
  },
  {
   "cell_type": "code",
   "execution_count": 33,
   "metadata": {},
   "outputs": [
    {
     "name": "stdout",
     "output_type": "stream",
     "text": [
      "The current value of the sequential property is [1, 2, 1, 0, -1, -2, -1, -2, -3, -2]\n",
      "The current value of the sequential property is [-1, -2, -3, -2, -1, -2, -1, -2, -3, -2]\n",
      "The current value of the sequential property is [1, 0, 1, 0, -1, 0, 1, 0, 1, 0]\n",
      "The current value of the sequential property is [-1, -2, -3, -2, -1, 0, 1, 2, 1, 2]\n",
      "The current value of the sequential property is [1, 0, 1, 2, 1, 2, 3, 4, 5, 4]\n"
     ]
    }
   ],
   "source": [
    "sequence_length = 10\n",
    "\n",
    "# a function as sampling rule\n",
    "def random_walk(previous_value):\n",
    "    return previous_value + (1 if np.random.randint(2) else -1) \n",
    "\n",
    "P = SequentialProperty(random_walk, initializer=0)\n",
    "\n",
    "for _ in range(5):\n",
    "    P.update(sequence_length=sequence_length)\n",
    "    print(\"The current value of the sequential property is\", P.current_value)"
   ]
  },
  {
   "cell_type": "markdown",
   "metadata": {},
   "source": [
    "## 2.3 SequentialProperty dependent on Property"
   ]
  },
  {
   "cell_type": "code",
   "execution_count": 34,
   "metadata": {},
   "outputs": [
    {
     "name": "stdout",
     "output_type": "stream",
     "text": [
      "The current value of the bias property is 0.9181049263894205\n",
      "The current value of the sequential property is [-1, 0, -1, 0, 1, 2, 1, 0, -1, 0] \n",
      "\n",
      "The current value of the bias property is 0.05398862748068112\n",
      "The current value of the sequential property is [1, 0, 1, 0, 1, 0, -1, -2, -1, -2] \n",
      "\n",
      "The current value of the bias property is 0.25119264719083556\n",
      "The current value of the sequential property is [-1, 0, 1, 2, 1, 2, 3, 4, 5, 4] \n",
      "\n",
      "The current value of the bias property is 0.3492396211338358\n",
      "The current value of the sequential property is [-1, -2, -3, -2, -3, -2, -1, 0, 1, 0] \n",
      "\n",
      "The current value of the bias property is 0.23196448654490798\n",
      "The current value of the sequential property is [-1, -2, -3, -2, -1, -2, -1, -2, -3, -4] \n",
      "\n"
     ]
    }
   ],
   "source": [
    "sequence_length = 10\n",
    "\n",
    "random_walk_bias = Property(lambda: np.random.rand())\n",
    "\n",
    "def random_walk(previous_value, random_walk_bias):\n",
    "    return previous_value + (1 if np.random.rand() < random_walk_bias else -1) \n",
    "\n",
    "P = SequentialProperty(random_walk, initializer=0)\n",
    "\n",
    "for _ in range(5):\n",
    "    P.update(sequence_length=sequence_length, \n",
    "             random_walk_bias=random_walk_bias)\n",
    "    \n",
    "    \n",
    "    print(\"The current value of the bias property is\", random_walk_bias.current_value)\n",
    "    print(\"The current value of the sequential property is\", P.current_value, \"\\n\")"
   ]
  },
  {
   "cell_type": "markdown",
   "metadata": {},
   "source": [
    "## 2.4 SequentialProperty dependent on SequentialProperty"
   ]
  },
  {
   "cell_type": "code",
   "execution_count": 35,
   "metadata": {},
   "outputs": [
    {
     "name": "stdout",
     "output_type": "stream",
     "text": [
      "The current value of the step-length property is [2, 0, 1, 0, 0, 3, 2, 0, 0, 1]\n",
      "The current value of the sequential property is [0, 1, 3, 3, 4, 4, 6, 5, 4, 3] \n",
      "\n",
      "The current value of the step-length property is [1, 1, 2, 0, 2, 0, 1, 2, 0, 3]\n",
      "The current value of the sequential property is [1, 2, 5, 6, 5, 4, 1, 0, -1, 2] \n",
      "\n",
      "The current value of the step-length property is [1, 1, 2, 0, 0, 2, 0, 0, 0, 2]\n",
      "The current value of the sequential property is [-2, -2, 1, -1, 0, 2, 3, 5, 4, 2] \n",
      "\n",
      "The current value of the step-length property is [1, 1, 0, 0, 2, 2, 2, 1, 0, 2]\n",
      "The current value of the sequential property is [0, -1, -1, -3, -4, -5, -5, -6, -2, -4] \n",
      "\n",
      "The current value of the step-length property is [1, 0, 0, 0, 2, 0, 2, 0, 2, 0]\n",
      "The current value of the sequential property is [-3, -3, -2, 0, 0, 0, 0, 1, 1, 1] \n",
      "\n"
     ]
    }
   ],
   "source": [
    "sequence_length = 10\n",
    "\n",
    "step_length = SequentialProperty(lambda: np.random.poisson(1))\n",
    "\n",
    "def random_walk(step_length, previous_value=0):\n",
    "    return previous_value + (step_length if np.random.rand() < 0.5 else -step_length) \n",
    "\n",
    "P = SequentialProperty(random_walk)\n",
    "\n",
    "for _ in range(5):\n",
    "    P.update(sequence_length=sequence_length, \n",
    "             step_length=step_length)\n",
    "    \n",
    "    \n",
    "    print(\"The current value of the step-length property is\", step_length.current_value)\n",
    "    print(\"The current value of the sequential property is\", P.current_value, \"\\n\")"
   ]
  },
  {
   "cell_type": "markdown",
   "metadata": {},
   "source": [
    "## 3. What is a PropertyDict?\n",
    "\n",
    "Another class contained in the module deeptrack.properties is `PropertyDict`. This is a dictionary of properties (keys: name of properties; values: properties) complemented by utility methods to manage collections of properties. These include:\n",
    "\n",
    "* `.current_value_dict()`, which creates and returns a dictionary with the current value of all properties in the PropertyDict (keys: name of properties; values: current values of the properties).\n",
    "* `.update()`, which calls the method `.update()` on all properties in the PropertyDict.\n",
    "* `.sample()`, which calls the method `.sample()` on all properties in the PropertyDict, and creates and returns a dictionary from the output (keys: name of properties; values: sample outputs of the properties).\n"
   ]
  },
  {
   "cell_type": "code",
   "execution_count": 36,
   "metadata": {},
   "outputs": [
    {
     "name": "stdout",
     "output_type": "stream",
     "text": [
      "The current values of the properties in property_dict are {'foo': 1, 'bar': 0.24053683462170916}\n",
      "The current values of the properties in property_dict are {'foo': 1, 'bar': 0.03691219274130386}\n",
      "The current values of the properties in property_dict are {'foo': 1, 'bar': 0.8133165120113509}\n",
      "The current values of the properties in property_dict are {'foo': 1, 'bar': 0.07861900028397373}\n",
      "The current values of the properties in property_dict are {'foo': 1, 'bar': 0.4462205656548687}\n"
     ]
    }
   ],
   "source": [
    "property_dict = PropertyDict(\n",
    "    foo=Property(1),\n",
    "    bar=Property(np.random.rand)\n",
    ")\n",
    "\n",
    "for _ in range(5):\n",
    "    property_dict.update()\n",
    "    print(\"The current values of the properties in property_dict are\", property_dict.current_value_dict(is_resolving=True))"
   ]
  },
  {
   "cell_type": "markdown",
   "metadata": {},
   "source": [
    "Note that `current_value_dict()` is called with `is_resolving=True`. This makes the `PropertyDict` automatically set `has_updated_since_last_resolve` to `False` on all properties in the `PropertyDict`.  "
   ]
  }
 ],
 "metadata": {
  "file_extension": ".py",
  "kernelspec": {
   "display_name": "Python 3",
   "language": "python",
   "name": "python3"
  },
  "language_info": {
   "codemirror_mode": {
    "name": "ipython",
    "version": 3
   },
   "file_extension": ".py",
   "mimetype": "text/x-python",
   "name": "python",
   "nbconvert_exporter": "python",
   "pygments_lexer": "ipython3",
   "version": "3.7.8"
  },
  "mimetype": "text/x-python",
  "name": "python",
  "npconvert_exporter": "python",
  "pygments_lexer": "ipython3",
  "version": 3
 },
 "nbformat": 4,
 "nbformat_minor": 2
}
