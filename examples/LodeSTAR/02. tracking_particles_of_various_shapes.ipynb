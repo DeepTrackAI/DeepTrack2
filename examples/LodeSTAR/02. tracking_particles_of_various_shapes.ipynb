{
  "cells": [
    {
      "cell_type": "code",
      "execution_count": 1,
      "id": "everyday-accordance",
      "metadata": {
        "execution": {
          "iopub.execute_input": "2022-04-01T18:49:15.762604Z",
          "iopub.status.busy": "2022-04-01T18:49:15.762105Z",
          "iopub.status.idle": "2022-04-01T18:49:16.016105Z",
          "shell.execute_reply": "2022-04-01T18:49:16.016604Z"
        }
      },
      "outputs": [],
      "source": [
        "%matplotlib inline\n",
        "import sys\n",
        "sys.path.insert(0, \"../..\")"
      ]
    },
    {
      "cell_type": "markdown",
      "id": "dfd5b527",
      "metadata": {},
      "source": [
        "<!--<badge>--><a href=\"https://colab.research.google.com/github/softmatterlab/DeepTrack-2.0/blob/bm/readme/examples/LodeSTAR/02. tracking_particles_of_various_shapes.ipynb\" target=\"_parent\"><img src=\"https://colab.research.google.com/assets/colab-badge.svg\" alt=\"Open In Colab\"/></a><!--</badge>-->"
      ]
    },
    {
      "cell_type": "code",
      "execution_count": 2,
      "id": "magnetic-literacy",
      "metadata": {
        "execution": {
          "iopub.execute_input": "2022-04-01T18:49:16.019604Z",
          "iopub.status.busy": "2022-04-01T18:49:16.019104Z",
          "iopub.status.idle": "2022-04-01T18:49:20.097603Z",
          "shell.execute_reply": "2022-04-01T18:49:20.098104Z"
        }
      },
      "outputs": [],
      "source": [
        "\n",
        "import deeptrack as dt\n",
        "import numpy as np\n",
        "import skimage.color\n",
        "import matplotlib.pyplot as plt"
      ]
    },
    {
      "cell_type": "code",
      "execution_count": 3,
      "id": "electronic-mandate",
      "metadata": {
        "execution": {
          "iopub.execute_input": "2022-04-01T18:49:20.101105Z",
          "iopub.status.busy": "2022-04-01T18:49:20.101105Z",
          "iopub.status.idle": "2022-04-01T18:49:20.102604Z",
          "shell.execute_reply": "2022-04-01T18:49:20.102604Z"
        }
      },
      "outputs": [],
      "source": [
        "available_shapes = {\"point\", \"sphere\", \"annulus\", \"ellipse\", \"moon\"}\n",
        "\n",
        "shape_to_train_on = \"annulus\"\n",
        "shape_to_evaluate_on = \"annulus\"\n",
        "\n",
        "assert shape_to_train_on in available_shapes, f\"{shape_to_train_on} is not a valid shape\"\n",
        "assert shape_to_evaluate_on in available_shapes, f\"{shape_to_train_on} is not a valid shape\""
      ]
    },
    {
      "cell_type": "code",
      "execution_count": 4,
      "id": "a2d5465d",
      "metadata": {
        "execution": {
          "iopub.execute_input": "2022-04-01T18:49:20.107604Z",
          "iopub.status.busy": "2022-04-01T18:49:20.107105Z",
          "iopub.status.idle": "2022-04-01T18:49:20.109604Z",
          "shell.execute_reply": "2022-04-01T18:49:20.110103Z"
        }
      },
      "outputs": [],
      "source": [
        "class Annulus(dt.Ellipse):\n",
        "\n",
        "    __conversion_table__ = dt.ConversionTable(\n",
        "        outer_radius=(dt.units.pixel, dt.units.pixel),\n",
        "        inner_radius=(dt.units.pixel, dt.units.pixel)\n",
        "    )\n",
        "\n",
        "    def get(self, *inp, inner_radius, radius, **kwargs):\n",
        "        \n",
        "        im0 = super().get(*inp, radius=radius, **kwargs)\n",
        "        reduced = dt.Affine(scale=inner_radius / radius, mode=\"constant\")(im0)\n",
        "        return im0 - reduced\n",
        "\n",
        "\n",
        "class CrescentMoon(dt.Ellipse):\n",
        "    __conversion_table__ = dt.ConversionTable(\n",
        "        radius=(dt.units.pixel, dt.units.pixel),\n",
        "        offset=(dt.units.pixel, dt.units.pixel)\n",
        "    )\n",
        "    def get(self, *inp, radius, offset, **kwargs):\n",
        "        ellipse = super().get(*inp, radius=radius, **kwargs)\n",
        "        offset = np.round(offset).astype(np.int)\n",
        "        other = dt.Affine(translate=offset, mode=\"constant\").resolve(ellipse)\n",
        "        ellipse[np.array(other > 0)] = 0\n",
        "\n",
        "        return ellipse\n"
      ]
    },
    {
      "cell_type": "code",
      "execution_count": 5,
      "id": "radical-unemployment",
      "metadata": {
        "execution": {
          "iopub.execute_input": "2022-04-01T18:49:20.113603Z",
          "iopub.status.busy": "2022-04-01T18:49:20.113103Z",
          "iopub.status.idle": "2022-04-01T18:49:20.115604Z",
          "shell.execute_reply": "2022-04-01T18:49:20.115604Z"
        }
      },
      "outputs": [],
      "source": [
        "arguments = dt.Arguments(\n",
        "    particle_shape = shape_to_train_on, \n",
        "    position=lambda: np.random.uniform(27, 37, 2),\n",
        "    snr=lambda: np.random.uniform(2, 20)\n",
        ")\n",
        "optics = dt.Fluorescence(output_region=(0, 0, 64, 64))"
      ]
    },
    {
      "cell_type": "code",
      "execution_count": 6,
      "id": "b3f478c3",
      "metadata": {
        "execution": {
          "iopub.execute_input": "2022-04-01T18:49:20.122105Z",
          "iopub.status.busy": "2022-04-01T18:49:20.121605Z",
          "iopub.status.idle": "2022-04-01T18:49:20.124603Z",
          "shell.execute_reply": "2022-04-01T18:49:20.124603Z"
        }
      },
      "outputs": [],
      "source": [
        "point = dt.PointParticle(position=arguments.position)\n",
        "sphere = dt.Sphere(position=arguments.position, radius=1*dt.units.micrometer)\n",
        "annulus = Annulus(\n",
        "    radius=12 * dt.units.px,\n",
        "    inner_radius= 8 * dt.units.px,\n",
        "    position=arguments.position,\n",
        ")\n",
        "ellipse = dt.Ellipse(\n",
        "    position=arguments.position,\n",
        "    radius=(12, 7, 3) * dt.units.px,\n",
        ")\n",
        "moon = CrescentMoon(\n",
        "    radius=1 * dt.units.micrometer,\n",
        "    offset=(6, 0),\n",
        "    position=arguments.position,\n",
        ")\n",
        "\n",
        "particle = dt.OneOfDict(\n",
        "    dict(\n",
        "        point=point,\n",
        "        sphere=sphere, \n",
        "        annulus=annulus, \n",
        "        ellipse=ellipse, \n",
        "        moon=moon\n",
        "    ),\n",
        "    key=arguments.particle_shape\n",
        ")"
      ]
    },
    {
      "cell_type": "code",
      "execution_count": 7,
      "id": "0306fd7a",
      "metadata": {
        "execution": {
          "iopub.execute_input": "2022-04-01T18:49:20.132103Z",
          "iopub.status.busy": "2022-04-01T18:49:20.132103Z",
          "iopub.status.idle": "2022-04-01T18:49:21.023104Z",
          "shell.execute_reply": "2022-04-01T18:49:21.023605Z"
        }
      },
      "outputs": [
        {
          "data": {
            "text/plain": [
              "<AxesSubplot:>"
            ]
          },
          "execution_count": 1,
          "metadata": {},
          "output_type": "execute_result"
        },
        {
          "data": {
            "image/png": "[encoded data removed]",
            "text/plain": [
              "<Figure size 432x288 with 1 Axes>"
            ]
          },
          "metadata": {
            "needs_background": "light"
          },
          "output_type": "display_data"
        }
      ],
      "source": [
        "data_pipeline = (\n",
        "    optics(particle) \n",
        "    >> dt.NormalizeMinMax()\n",
        "    >> dt.Affine(rotate=lambda: np.random.uniform(0, 2 * np.pi))\n",
        "    >> dt.Add(0.1)\n",
        "    >> dt.Poisson(snr=arguments.snr)\n",
        ").bind_arguments(arguments)\n",
        "\n",
        "data_pipeline.plot()"
      ]
    },
    {
      "cell_type": "code",
      "execution_count": 8,
      "id": "fed997c7",
      "metadata": {
        "execution": {
          "iopub.execute_input": "2022-04-01T18:49:21.034103Z",
          "iopub.status.busy": "2022-04-01T18:49:21.033105Z",
          "iopub.status.idle": "2022-04-01T18:49:21.137132Z",
          "shell.execute_reply": "2022-04-01T18:49:21.136606Z"
        }
      },
      "outputs": [
        {
          "data": {
            "image/png": "[encoded data removed]",
            "text/plain": [
              "<Figure size 432x288 with 1 Axes>"
            ]
          },
          "metadata": {
            "needs_background": "light"
          },
          "output_type": "display_data"
        }
      ],
      "source": [
        "training_sample = data_pipeline.update()(snr=10)\n",
        "plt.imshow(training_sample)\n",
        "plt.show()"
      ]
    },
    {
      "cell_type": "code",
      "execution_count": 9,
      "id": "fancy-gamma",
      "metadata": {
        "execution": {
          "iopub.execute_input": "2022-04-01T18:49:21.148105Z",
          "iopub.status.busy": "2022-04-01T18:49:21.147604Z",
          "iopub.status.idle": "2022-04-01T18:50:21.755105Z",
          "shell.execute_reply": "2022-04-01T18:50:21.754605Z"
        }
      },
      "outputs": [
        {
          "name": "stdout",
          "output_type": "stream",
          "text": [
            "Generating 163 / 160 samples before starting training\n",
            "Epoch 1/30\n",
            "163/163 [==============================] - 5s 11ms/step - total_loss: 1.4233 - consistency_loss: 1.0263\n",
            "Epoch 2/30\n",
            "163/163 [==============================] - 2s 10ms/step - total_loss: 0.8294 - consistency_loss: 0.6882\n",
            "Epoch 3/30\n",
            "163/163 [==============================] - 1s 9ms/step - total_loss: 0.4188 - consistency_loss: 0.3229\n",
            "Epoch 4/30\n",
            "163/163 [==============================] - 2s 10ms/step - total_loss: 0.0508 - consistency_loss: 0.0118\n",
            "Epoch 5/30\n",
            "163/163 [==============================] - 2s 10ms/step - total_loss: 0.0409 - consistency_loss: 0.0091\n",
            "Epoch 6/30\n",
            "163/163 [==============================] - 2s 10ms/step - total_loss: 0.0443 - consistency_loss: 0.0088\n",
            "Epoch 7/30\n",
            "163/163 [==============================] - 2s 10ms/step - total_loss: 0.0399 - consistency_loss: 0.0092\n",
            "Epoch 8/30\n",
            "163/163 [==============================] - 2s 10ms/step - total_loss: 0.0366 - consistency_loss: 0.0071\n",
            "Epoch 9/30\n",
            "163/163 [==============================] - 2s 10ms/step - total_loss: 0.0404 - consistency_loss: 0.0069\n",
            "Epoch 10/30\n",
            "163/163 [==============================] - 2s 10ms/step - total_loss: 0.0356 - consistency_loss: 0.0075\n",
            "Epoch 11/30\n",
            "163/163 [==============================] - 2s 10ms/step - total_loss: 0.0413 - consistency_loss: 0.0070\n",
            "Epoch 12/30\n",
            "163/163 [==============================] - 2s 10ms/step - total_loss: 0.0355 - consistency_loss: 0.0062\n",
            "Epoch 13/30\n",
            "163/163 [==============================] - 2s 10ms/step - total_loss: 0.0375 - consistency_loss: 0.0071\n",
            "Epoch 14/30\n",
            "163/163 [==============================] - 2s 10ms/step - total_loss: 0.0310 - consistency_loss: 0.0056\n",
            "Epoch 15/30\n",
            "163/163 [==============================] - 1s 9ms/step - total_loss: 0.0372 - consistency_loss: 0.0062\n",
            "Epoch 16/30\n",
            "163/163 [==============================] - 2s 10ms/step - total_loss: 0.0430 - consistency_loss: 0.0077\n",
            "Epoch 17/30\n",
            "163/163 [==============================] - 2s 10ms/step - total_loss: 0.0365 - consistency_loss: 0.0057\n",
            "Epoch 18/30\n",
            "163/163 [==============================] - 2s 10ms/step - total_loss: 0.0360 - consistency_loss: 0.0064\n",
            "Epoch 19/30\n",
            "163/163 [==============================] - 2s 10ms/step - total_loss: 0.0267 - consistency_loss: 0.0047\n",
            "Epoch 20/30\n",
            "163/163 [==============================] - 2s 11ms/step - total_loss: 0.0295 - consistency_loss: 0.0054\n",
            "Epoch 21/30\n",
            "163/163 [==============================] - 2s 10ms/step - total_loss: 0.0315 - consistency_loss: 0.0054\n",
            "Epoch 22/30\n",
            "163/163 [==============================] - 2s 10ms/step - total_loss: 0.0309 - consistency_loss: 0.0050\n",
            "Epoch 23/30\n",
            "163/163 [==============================] - 2s 11ms/step - total_loss: 0.0335 - consistency_loss: 0.0049\n",
            "Epoch 24/30\n",
            "163/163 [==============================] - 2s 10ms/step - total_loss: 0.0258 - consistency_loss: 0.0045\n",
            "Epoch 25/30\n",
            "163/163 [==============================] - 2s 10ms/step - total_loss: 0.0336 - consistency_loss: 0.0066\n",
            "Epoch 26/30\n",
            "163/163 [==============================] - 2s 10ms/step - total_loss: 0.0363 - consistency_loss: 0.0070\n",
            "Epoch 27/30\n",
            "163/163 [==============================] - 2s 9ms/step - total_loss: 0.0284 - consistency_loss: 0.0052\n",
            "Epoch 28/30\n",
            "163/163 [==============================] - 2s 11ms/step - total_loss: 0.0262 - consistency_loss: 0.0042\n",
            "Epoch 29/30\n",
            "163/163 [==============================] - 2s 10ms/step - total_loss: 0.0278 - consistency_loss: 0.0049\n",
            "Epoch 30/30\n",
            "163/163 [==============================] - 2s 11ms/step - total_loss: 0.0273 - consistency_loss: 0.0045\n"
          ]
        },
        {
          "data": {
            "text/plain": [
              "<tensorflow.python.keras.callbacks.History at 0x19e96d29ee0>"
            ]
          },
          "execution_count": 1,
          "metadata": {},
          "output_type": "execute_result"
        }
      ],
      "source": [
        "model = dt.models.LodeSTAR(input_shape=(None, None, 1))\n",
        "model.fit(dt.Value(np.array(training_sample)), epochs=30, batch_size=8)"
      ]
    },
    {
      "cell_type": "code",
      "execution_count": 10,
      "id": "mounted-miller",
      "metadata": {
        "execution": {
          "iopub.execute_input": "2022-04-01T18:50:21.772605Z",
          "iopub.status.busy": "2022-04-01T18:50:21.772104Z",
          "iopub.status.idle": "2022-04-01T18:50:22.130605Z",
          "shell.execute_reply": "2022-04-01T18:50:22.130105Z"
        }
      },
      "outputs": [
        {
          "name": "stdout",
          "output_type": "stream",
          "text": [
            "WARNING:tensorflow:Keras is training/fitting/evaluating on array-like data. Keras may not be optimized for this format, so if your input data format is supported by TensorFlow I/O (https://github.com/tensorflow/io) we recommend using that to load a Dataset instead.\n"
          ]
        },
        {
          "data": {
            "image/png": "[encoded data removed]",
            "text/plain": [
              "<Figure size 432x288 with 1 Axes>"
            ]
          },
          "metadata": {
            "needs_background": "light"
          },
          "output_type": "display_data"
        }
      ],
      "source": [
        "validation_data = data_pipeline.update()(particle_shape=shape_to_evaluate_on)\n",
        "ground_truth_position = validation_data.get_property(\"position\") \n",
        "\n",
        "prediction = model.predict_and_pool(validation_data[np.newaxis])\n",
        "\n",
        "plt.imshow(validation_data, cmap=\"gray\")\n",
        "plt.scatter(ground_truth_position[1], ground_truth_position[0], s=1400, linewidths=5, marker=\"o\", facecolors=\"none\", edgecolors=\"g\")\n",
        "plt.scatter(prediction[0, 1], prediction[:, 0], s=1000, linewidths=5, marker=\"x\")\n",
        "plt.axis(\"off\")\n",
        "plt.show()"
      ]
    },
    {
      "cell_type": "code",
      "execution_count": null,
      "id": "20f44a6b",
      "metadata": {},
      "outputs": [],
      "source": []
    }
  ],
  "metadata": {
    "interpreter": {
      "hash": "dee7c62952cd92a9f95e3a9cf2ab80d8434e980a2c662f49192ac9761f392c34"
    },
    "kernelspec": {
      "display_name": "Python 3.8.6 64-bit",
      "name": "python3"
    },
    "language_info": {
      "codemirror_mode": {
        "name": "ipython",
        "version": 3
      },
      "file_extension": ".py",
      "mimetype": "text/x-python",
      "name": "python",
      "nbconvert_exporter": "python",
      "pygments_lexer": "ipython3",
      "version": "3.8.6"
    }
  },
  "nbformat": 4,
  "nbformat_minor": 5
}