{
  "cells": [
    {
      "cell_type": "code",
      "execution_count": 2,
      "id": "ab307783",
      "metadata": {},
      "outputs": [],
      "source": [
        "%matplotlib inline\n",
        "import sys\n",
        "sys.path.insert(0, \"../..\")"
      ]
    },
    {
      "cell_type": "markdown",
      "id": "730650bd",
      "metadata": {},
      "source": [
        "<!--<badge>--><a href=\"https://colab.research.google.com/github/softmatterlab/DeepTrack-2.0/blob/bm/readme/examples/LodeSTAR/09.measure_mass_experimental.ipynb\" target=\"_parent\"><img src=\"https://colab.research.google.com/assets/colab-badge.svg\" alt=\"Open In Colab\"/></a><!--</badge>-->"
      ]
    },
    {
      "cell_type": "code",
      "execution_count": 3,
      "id": "533f88fb",
      "metadata": {},
      "outputs": [
        {
          "name": "stdout",
          "output_type": "stream",
          "text": [
            "ParticleSizing already downloaded! Use force_overwrite=True to redownload the dataset.\n"
          ]
        }
      ],
      "source": [
        "import random\n",
        "\n",
        "import deeptrack as dt\n",
        "import deeptrack.extras\n",
        "import numpy as np\n",
        "import skimage.color\n",
        "import matplotlib.pyplot as plt\n",
        "import tensorflow as tf\n",
        "import scipy.io\n",
        "\n",
        "deeptrack.extras.datasets.load(\"ParticleSizing\")"
      ]
    },
    {
      "cell_type": "code",
      "execution_count": 4,
      "id": "739e8436",
      "metadata": {},
      "outputs": [],
      "source": [
        "import numpy as np\n",
        "import matplotlib.pyplot as plt\n",
        "\n",
        "crop_size = 32\n",
        "padding = 32\n",
        "wavelength = 633e-9 \n",
        "pixel_size = 114e-9\n",
        "crop_propagation_forward = dt.get_propagation_matrix((crop_size + 2 * padding, ) * 2, 1e-7, pixel_size * 2, wavelength)\n",
        "crop_propagation_backward = dt.get_propagation_matrix((crop_size + 2 * padding, ) * 2, -1e-7, pixel_size * 2, wavelength)\n",
        "\n",
        "experimental_data = np.load('datasets/ParticleSizing/sizing_150nm_227nm_PSL.npy', allow_pickle=True)\n",
        "\n",
        "trace = experimental_data[1]\n",
        "trace[..., 0] += 1\n",
        "import random\n",
        "training_set = dt.Value(lambda: trace[0]) >> dt.AveragePooling((2, 2, 1))\n"
      ]
    },
    {
      "cell_type": "code",
      "execution_count": 5,
      "id": "1bfbfd07",
      "metadata": {},
      "outputs": [],
      "source": [
        "args = dt.Arguments(\n",
        "    translate=lambda: np.random.randn(2) * 1,\n",
        "    rotate=lambda:np.random.uniform(0, np.pi*2),\n",
        "    z=lambda: np.random.randint(-4, 4),\n",
        "    rescale=lambda: 10**np.random.uniform(-1, 0.5)\n",
        ")\n",
        "\n",
        "group = ( \n",
        "     dt.Affine(rotate=args.rotate) \n",
        "    >>dt.Affine(translate=args.translate) \n",
        "    >> dt.Rescale(args.rescale) \n",
        "    >> dt.FourierTransform() \n",
        "    >> dt.FourierTransformTransformation(crop_propagation_forward, crop_propagation_backward, args.z) \n",
        "    >> dt.InverseFourierTransform() \n",
        "    >> dt.Gaussian(sigma=lambda: np.random.rand() * 0.0075)\n",
        ")\n",
        "\n",
        "equivariance = (\n",
        "    dt.models.lodestar.Rotational2DEquivariance(args.rotate)\n",
        "    >> dt.models.lodestar.TranslationalEquivariance(args.translate)\n",
        "    \n",
        "    # >> dt.models.lodestar.Equivariance(1, args.z / 10, indexes=2)\n",
        "    >> dt.models.lodestar.Equivariance(1, lambda arg: np.log(arg), arg = args.rescale, indexes=2)\n",
        ")\n",
        "\n",
        "\n"
      ]
    },
    {
      "cell_type": "code",
      "execution_count": 6,
      "id": "5fa4c399",
      "metadata": {},
      "outputs": [
        {
          "data": {
            "text/plain": [
              "<matplotlib.image.AxesImage at 0x1e44755a700>"
            ]
          },
          "execution_count": 6,
          "metadata": {},
          "output_type": "execute_result"
        },
        {
          "data": {
            "image/png": "[encoded data removed]",
            "text/plain": [
              "<Figure size 432x288 with 1 Axes>"
            ]
          },
          "metadata": {
            "needs_background": "light"
          },
          "output_type": "display_data"
        }
      ],
      "source": [
        "out = (training_set >> group).update()()\n",
        "plt.imshow(out[..., 1])"
      ]
    },
    {
      "cell_type": "code",
      "execution_count": 7,
      "id": "1bf0c230",
      "metadata": {},
      "outputs": [],
      "source": [
        "generator = dt.models.lodestar.LodeSTARGenerator(\n",
        "    training_set,\n",
        "    3,\n",
        "    (group, equivariance), \n",
        "    batch_size=8, \n",
        "    min_data_size=200, \n",
        "    max_data_size=201\n",
        ")\n",
        "\n"
      ]
    },
    {
      "cell_type": "code",
      "execution_count": 8,
      "id": "53c86817",
      "metadata": {},
      "outputs": [
        {
          "name": "stdout",
          "output_type": "stream",
          "text": [
            "Generating 201 / 200 samples before starting training\n",
            "Epoch 1/50\n",
            "100/100 [==============================] - 4s 9ms/step - total_loss: 1.9321 - consistency_loss: 1.1356\n",
            "Epoch 2/50\n",
            "100/100 [==============================] - 1s 9ms/step - total_loss: 1.3936 - consistency_loss: 0.5690\n",
            "Epoch 3/50\n",
            "100/100 [==============================] - 1s 10ms/step - total_loss: 0.9025 - consistency_loss: 0.2546\n",
            "Epoch 4/50\n",
            "100/100 [==============================] - 1s 9ms/step - total_loss: 0.9376 - consistency_loss: 0.2395\n",
            "Epoch 5/50\n",
            "100/100 [==============================] - 1s 9ms/step - total_loss: 0.6001 - consistency_loss: 0.1113\n",
            "Epoch 6/50\n",
            "100/100 [==============================] - 1s 9ms/step - total_loss: 0.4200 - consistency_loss: 0.0778\n",
            "Epoch 7/50\n",
            "100/100 [==============================] - 1s 9ms/step - total_loss: 0.1896 - consistency_loss: 0.0449\n",
            "Epoch 8/50\n",
            "100/100 [==============================] - 1s 9ms/step - total_loss: 0.1056 - consistency_loss: 0.0222\n",
            "Epoch 9/50\n",
            "100/100 [==============================] - 1s 10ms/step - total_loss: 0.0910 - consistency_loss: 0.0163\n",
            "Epoch 10/50\n",
            "100/100 [==============================] - 1s 9ms/step - total_loss: 0.0827 - consistency_loss: 0.0152\n",
            "Epoch 11/50\n",
            "100/100 [==============================] - 1s 9ms/step - total_loss: 0.0717 - consistency_loss: 0.0126\n",
            "Epoch 12/50\n",
            "100/100 [==============================] - 1s 9ms/step - total_loss: 0.0617 - consistency_loss: 0.0110\n",
            "Epoch 13/50\n",
            "100/100 [==============================] - 1s 9ms/step - total_loss: 0.0701 - consistency_loss: 0.0111\n",
            "Epoch 14/50\n",
            "100/100 [==============================] - 1s 9ms/step - total_loss: 0.0730 - consistency_loss: 0.0119: 0s - total_loss: 0.0\n",
            "Epoch 15/50\n",
            "100/100 [==============================] - 1s 9ms/step - total_loss: 0.0677 - consistency_loss: 0.0100\n",
            "Epoch 16/50\n",
            "100/100 [==============================] - 1s 9ms/step - total_loss: 0.0575 - consistency_loss: 0.0098\n",
            "Epoch 17/50\n",
            "100/100 [==============================] - 1s 9ms/step - total_loss: 0.0672 - consistency_loss: 0.0098\n",
            "Epoch 18/50\n",
            "100/100 [==============================] - 1s 10ms/step - total_loss: 0.0653 - consistency_loss: 0.0095\n",
            "Epoch 19/50\n",
            "100/100 [==============================] - 1s 10ms/step - total_loss: 0.0493 - consistency_loss: 0.0075\n",
            "Epoch 20/50\n",
            "100/100 [==============================] - 1s 9ms/step - total_loss: 0.0584 - consistency_loss: 0.0071\n",
            "Epoch 21/50\n",
            "100/100 [==============================] - 1s 9ms/step - total_loss: 0.0629 - consistency_loss: 0.0082\n",
            "Epoch 22/50\n",
            "100/100 [==============================] - 1s 9ms/step - total_loss: 0.0601 - consistency_loss: 0.0072\n",
            "Epoch 23/50\n",
            "100/100 [==============================] - 1s 9ms/step - total_loss: 0.0649 - consistency_loss: 0.0106\n",
            "Epoch 24/50\n",
            "100/100 [==============================] - 1s 9ms/step - total_loss: 0.0487 - consistency_loss: 0.0072\n",
            "Epoch 25/50\n",
            "100/100 [==============================] - 1s 10ms/step - total_loss: 0.0542 - consistency_loss: 0.0065\n",
            "Epoch 26/50\n",
            "100/100 [==============================] - 1s 10ms/step - total_loss: 0.0536 - consistency_loss: 0.0064\n",
            "Epoch 27/50\n",
            "100/100 [==============================] - 1s 12ms/step - total_loss: 0.0476 - consistency_loss: 0.0059\n",
            "Epoch 28/50\n",
            "100/100 [==============================] - 1s 10ms/step - total_loss: 0.0482 - consistency_loss: 0.0058\n",
            "Epoch 29/50\n",
            "100/100 [==============================] - 1s 11ms/step - total_loss: 0.0465 - consistency_loss: 0.0050\n",
            "Epoch 30/50\n",
            "100/100 [==============================] - 1s 12ms/step - total_loss: 0.0516 - consistency_loss: 0.0053\n",
            "Epoch 31/50\n",
            "100/100 [==============================] - 1s 11ms/step - total_loss: 0.0573 - consistency_loss: 0.0065\n",
            "Epoch 32/50\n",
            "100/100 [==============================] - 1s 11ms/step - total_loss: 0.0502 - consistency_loss: 0.0059\n",
            "Epoch 33/50\n",
            "100/100 [==============================] - 1s 10ms/step - total_loss: 0.0466 - consistency_loss: 0.0057\n",
            "Epoch 34/50\n",
            "100/100 [==============================] - 1s 10ms/step - total_loss: 0.0436 - consistency_loss: 0.0050\n",
            "Epoch 35/50\n",
            "100/100 [==============================] - 1s 11ms/step - total_loss: 0.0437 - consistency_loss: 0.0053\n",
            "Epoch 36/50\n",
            "100/100 [==============================] - 1s 10ms/step - total_loss: 0.0478 - consistency_loss: 0.0055\n",
            "Epoch 37/50\n",
            "100/100 [==============================] - 1s 10ms/step - total_loss: 0.0419 - consistency_loss: 0.0043\n",
            "Epoch 38/50\n",
            "100/100 [==============================] - 1s 10ms/step - total_loss: 0.0448 - consistency_loss: 0.0049\n",
            "Epoch 39/50\n",
            "100/100 [==============================] - 1s 10ms/step - total_loss: 0.0458 - consistency_loss: 0.0045\n",
            "Epoch 40/50\n",
            "100/100 [==============================] - 1s 10ms/step - total_loss: 0.0402 - consistency_loss: 0.0046\n",
            "Epoch 41/50\n",
            "100/100 [==============================] - 1s 11ms/step - total_loss: 0.0530 - consistency_loss: 0.0054\n",
            "Epoch 42/50\n",
            "100/100 [==============================] - 1s 10ms/step - total_loss: 0.0439 - consistency_loss: 0.0045\n",
            "Epoch 43/50\n",
            "100/100 [==============================] - 1s 10ms/step - total_loss: 0.0409 - consistency_loss: 0.0045\n",
            "Epoch 44/50\n",
            "100/100 [==============================] - 1s 10ms/step - total_loss: 0.0417 - consistency_loss: 0.0046\n",
            "Epoch 45/50\n",
            "100/100 [==============================] - 1s 10ms/step - total_loss: 0.0466 - consistency_loss: 0.0058\n",
            "Epoch 46/50\n",
            "100/100 [==============================] - 1s 9ms/step - total_loss: 0.0400 - consistency_loss: 0.0045\n",
            "Epoch 47/50\n",
            "100/100 [==============================] - 1s 10ms/step - total_loss: 0.0559 - consistency_loss: 0.0044\n",
            "Epoch 48/50\n",
            "100/100 [==============================] - 1s 9ms/step - total_loss: 0.0492 - consistency_loss: 0.0050\n",
            "Epoch 49/50\n",
            "100/100 [==============================] - 1s 9ms/step - total_loss: 0.0442 - consistency_loss: 0.0045\n",
            "Epoch 50/50\n",
            "100/100 [==============================] - 1s 9ms/step - total_loss: 0.0468 - consistency_loss: 0.0046\n"
          ]
        }
      ],
      "source": [
        "\n",
        "with generator:\n",
        "    model = dt.models.LodeSTAR(input_shape=(None, None, 2), num_outputs=3)\n",
        "    model.compile(loss=\"mae\", optimizer=tf.keras.optimizers.Adam())\n",
        "    model.fit(generator, epochs=50, steps_per_epoch=100)\n"
      ]
    },
    {
      "cell_type": "code",
      "execution_count": 9,
      "id": "bb25a14a",
      "metadata": {},
      "outputs": [],
      "source": [
        "res = []\n",
        "for d in experimental_data:\n",
        "    d = dt.AveragePooling(ksize=(1, 2, 2, 1))(d)._value\n",
        "    \n",
        "    if np.mean(d[..., 0]) < 0.5:\n",
        "        d[..., 0] += 1\n",
        "    preds = model.predict_and_pool(np.array(d))\n",
        "    res.append(preds)"
      ]
    },
    {
      "cell_type": "code",
      "execution_count": 10,
      "id": "c798d764",
      "metadata": {},
      "outputs": [
        {
          "data": {
            "image/png": "[encoded data removed]",
            "text/plain": [
              "<Figure size 432x288 with 1 Axes>"
            ]
          },
          "metadata": {
            "needs_background": "light"
          },
          "output_type": "display_data"
        }
      ],
      "source": [
        "out2 = []\n",
        "for d in res:\n",
        "    out2.append(np.mean(d[:, 2]))\n",
        "out2 = np.exp(out2)\n",
        "out2 = out2 / np.quantile(out2, 0.95)\n",
        "\n",
        "plt.hist(out2, 30)\n",
        "\n",
        "outa = np.zeros((0,))\n",
        "outb = np.zeros((0,))\n",
        "for d, o0 in zip(res, out2):\n",
        "    vals = dt.convolve(d[:, 2], np.ones((15,))/15)[::15]\n",
        "    if 1.3 > o0 > 0.7:\n",
        "        outa = np.concatenate((outa, vals), axis=0)\n",
        "    if o0 < 0.4:\n",
        "        outb = np.concatenate((outb, vals), axis=0)\n",
        "outa = np.exp(outa)\n",
        "outb = np.exp(outb)\n"
      ]
    },
    {
      "cell_type": "code",
      "execution_count": 59,
      "id": "e779bb52",
      "metadata": {},
      "outputs": [],
      "source": [
        "particle_a_ph = 0.228**3 * (1.58**2 - 1.33**2) / (1.58**2 + 1.33**2 * 2) * 1000 * 4 * np.pi\n",
        "particle_b_ph = 0.150**3 * (1.58**2 - 1.33**2) / (1.58**2 + 1.33**2 * 2) * 1000 * 4 * np.pi\n",
        "\n",
        "norm_factor = particle_a_ph / np.median(outa)"
      ]
    },
    {
      "cell_type": "code",
      "execution_count": 62,
      "id": "f97641fd",
      "metadata": {},
      "outputs": [
        {
          "data": {
            "image/png": "[encoded data removed]",
            "text/plain": [
              "<Figure size 288x288 with 1 Axes>"
            ]
          },
          "metadata": {
            "needs_background": "light"
          },
          "output_type": "display_data"
        }
      ],
      "source": [
        "import seaborn as sns\n",
        "\n",
        "plt.figure(figsize=(4, 4))\n",
        "sns.histplot(outa * norm_factor, bins=50, binrange=(0, particle_a_ph * 1.5), color=sns.color_palette(\"colorblind\")[3], alpha = .5, stat=\"probability\", element=\"step\", linewidth=2)\n",
        "sns.histplot(outb * norm_factor, bins=50, binrange=(0, particle_a_ph * 1.5), color=sns.color_palette(\"colorblind\")[4], alpha = .5, stat=\"probability\", element=\"step\", linewidth=2)\n",
        "\n",
        "plt.axvline(particle_a_ph, c=\"k\", linestyle=\"--\", linewidth=3)\n",
        "plt.axvline(particle_b_ph, c=\"k\", linestyle=\"--\", linewidth=3)\n",
        "plt.yticks([])\n",
        "# plt.xticks(np.array([0, 2, 4, 6, 8, 10, 12, 14]) * 2)\n",
        "plt.ylabel(\"\")\n",
        "# plt.ylim([0, 60])\n",
        "plt.savefig(\"fig4e.svg\", bbox_inches=\"tight\")\n"
      ]
    },
    {
      "cell_type": "code",
      "execution_count": null,
      "id": "05f4bc7e",
      "metadata": {},
      "outputs": [],
      "source": []
    }
  ],
  "metadata": {
    "interpreter": {
      "hash": "dee7c62952cd92a9f95e3a9cf2ab80d8434e980a2c662f49192ac9761f392c34"
    },
    "kernelspec": {
      "display_name": "Python 3.8.6 64-bit",
      "name": "python3"
    },
    "language_info": {
      "codemirror_mode": {
        "name": "ipython",
        "version": 3
      },
      "file_extension": ".py",
      "mimetype": "text/x-python",
      "name": "python",
      "nbconvert_exporter": "python",
      "pygments_lexer": "ipython3",
      "version": "3.8.6"
    }
  },
  "nbformat": 4,
  "nbformat_minor": 5
}