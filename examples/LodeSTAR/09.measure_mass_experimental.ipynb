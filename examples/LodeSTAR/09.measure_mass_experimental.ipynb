{
  "cells": [
    {
      "cell_type": "code",
      "execution_count": 1,
      "id": "ab307783",
      "metadata": {
        "execution": {
          "iopub.execute_input": "2022-04-01T19:03:42.063735Z",
          "iopub.status.busy": "2022-04-01T19:03:42.063237Z",
          "iopub.status.idle": "2022-04-01T19:03:42.323736Z",
          "shell.execute_reply": "2022-04-01T19:03:42.323736Z"
        }
      },
      "outputs": [],
      "source": [
        "%matplotlib inline\n",
        "import sys\n",
        "sys.path.insert(0, \"../..\")"
      ]
    },
    {
      "cell_type": "markdown",
      "id": "730650bd",
      "metadata": {},
      "source": [
        "<!--<badge>--><a href=\"https://colab.research.google.com/github/softmatterlab/DeepTrack-2.0/blob/develop/examples/LodeSTAR/09.measure_mass_experimental.ipynb\" target=\"_parent\"><img src=\"https://colab.research.google.com/assets/colab-badge.svg\" alt=\"Open In Colab\"/></a><!--</badge>-->"
      ]
    },
    {
      "cell_type": "code",
      "execution_count": 2,
      "id": "533f88fb",
      "metadata": {
        "execution": {
          "iopub.execute_input": "2022-04-01T19:03:42.327234Z",
          "iopub.status.busy": "2022-04-01T19:03:42.326735Z",
          "iopub.status.idle": "2022-04-01T19:05:34.909320Z",
          "shell.execute_reply": "2022-04-01T19:05:34.909320Z"
        }
      },
      "outputs": [
        {
          "name": "stdout",
          "output_type": "stream",
          "text": [
            "Downloading ParticleSizing...\n",
            "Downloading file: 370.0\tMB\r\n",
            "Download Complete!\n",
            "Extracting ParticleSizing...\n"
          ]
        }
      ],
      "source": [
        "import random\n",
        "\n",
        "import deeptrack as dt\n",
        "import deeptrack.extras\n",
        "import numpy as np\n",
        "import skimage.color\n",
        "import matplotlib.pyplot as plt\n",
        "import tensorflow as tf\n",
        "import scipy.io\n",
        "\n",
        "deeptrack.extras.datasets.load(\"ParticleSizing\")"
      ]
    },
    {
      "cell_type": "code",
      "execution_count": 3,
      "id": "739e8436",
      "metadata": {
        "execution": {
          "iopub.execute_input": "2022-04-01T19:05:34.914321Z",
          "iopub.status.busy": "2022-04-01T19:05:34.913820Z",
          "iopub.status.idle": "2022-04-01T19:05:35.094821Z",
          "shell.execute_reply": "2022-04-01T19:05:35.095319Z"
        }
      },
      "outputs": [],
      "source": [
        "import numpy as np\n",
        "import matplotlib.pyplot as plt\n",
        "\n",
        "crop_size = 32\n",
        "padding = 32\n",
        "wavelength = 633e-9 \n",
        "pixel_size = 114e-9\n",
        "crop_propagation_forward = dt.get_propagation_matrix((crop_size + 2 * padding, ) * 2, 1e-7, pixel_size * 2, wavelength)\n",
        "crop_propagation_backward = dt.get_propagation_matrix((crop_size + 2 * padding, ) * 2, -1e-7, pixel_size * 2, wavelength)\n",
        "\n",
        "experimental_data = np.load('datasets/ParticleSizing/sizing_150nm_227nm_PSL.npy', allow_pickle=True)\n",
        "\n",
        "trace = experimental_data[1]\n",
        "trace[..., 0] += 1\n",
        "import random\n",
        "training_set = dt.Value(lambda: trace[0]) >> dt.AveragePooling((2, 2, 1))\n"
      ]
    },
    {
      "cell_type": "code",
      "execution_count": 4,
      "id": "1bfbfd07",
      "metadata": {
        "execution": {
          "iopub.execute_input": "2022-04-01T19:05:35.101819Z",
          "iopub.status.busy": "2022-04-01T19:05:35.097320Z",
          "iopub.status.idle": "2022-04-01T19:05:35.104319Z",
          "shell.execute_reply": "2022-04-01T19:05:35.103818Z"
        }
      },
      "outputs": [],
      "source": [
        "args = dt.Arguments(\n",
        "    translate=lambda: np.random.randn(2) * 1,\n",
        "    rotate=lambda:np.random.uniform(0, np.pi*2),\n",
        "    z=lambda: np.random.randint(-4, 4),\n",
        "    rescale=lambda: 10**np.random.uniform(-1, 0.5)\n",
        ")\n",
        "\n",
        "group = ( \n",
        "     dt.Affine(rotate=args.rotate) \n",
        "    >>dt.Affine(translate=args.translate) \n",
        "    >> dt.Rescale(args.rescale) \n",
        "    >> dt.FourierTransform() \n",
        "    >> dt.FourierTransformTransformation(crop_propagation_forward, crop_propagation_backward, args.z) \n",
        "    >> dt.InverseFourierTransform() \n",
        "    >> dt.Gaussian(sigma=lambda: np.random.rand() * 0.0075)\n",
        ")\n",
        "\n",
        "equivariance = (\n",
        "    dt.models.lodestar.Rotational2DEquivariance(args.rotate)\n",
        "    >> dt.models.lodestar.TranslationalEquivariance(args.translate)\n",
        "    \n",
        "    # >> dt.models.lodestar.Equivariance(1, args.z / 10, indexes=2)\n",
        "    >> dt.models.lodestar.Equivariance(1, lambda arg: np.log(arg), arg = args.rescale, indexes=2)\n",
        ")\n",
        "\n",
        "\n"
      ]
    },
    {
      "cell_type": "code",
      "execution_count": 5,
      "id": "5fa4c399",
      "metadata": {
        "execution": {
          "iopub.execute_input": "2022-04-01T19:05:35.110319Z",
          "iopub.status.busy": "2022-04-01T19:05:35.109819Z",
          "iopub.status.idle": "2022-04-01T19:05:35.224321Z",
          "shell.execute_reply": "2022-04-01T19:05:35.223820Z"
        }
      },
      "outputs": [
        {
          "data": {
            "text/plain": [
              "<matplotlib.image.AxesImage at 0x1af8620c940>"
            ]
          },
          "execution_count": 1,
          "metadata": {},
          "output_type": "execute_result"
        },
        {
          "data": {
            "image/png": "[encoded data removed]",
            "text/plain": [
              "<Figure size 432x288 with 1 Axes>"
            ]
          },
          "metadata": {
            "needs_background": "light"
          },
          "output_type": "display_data"
        }
      ],
      "source": [
        "out = (training_set >> group).update()()\n",
        "plt.imshow(out[..., 1])"
      ]
    },
    {
      "cell_type": "code",
      "execution_count": 6,
      "id": "1bf0c230",
      "metadata": {
        "execution": {
          "iopub.execute_input": "2022-04-01T19:05:35.227321Z",
          "iopub.status.busy": "2022-04-01T19:05:35.226821Z",
          "iopub.status.idle": "2022-04-01T19:05:35.230321Z",
          "shell.execute_reply": "2022-04-01T19:05:35.230321Z"
        }
      },
      "outputs": [],
      "source": [
        "generator = dt.models.lodestar.LodeSTARGenerator(\n",
        "    training_set,\n",
        "    3,\n",
        "    (group, equivariance), \n",
        "    batch_size=8, \n",
        "    min_data_size=200, \n",
        "    max_data_size=201\n",
        ")\n",
        "\n"
      ]
    },
    {
      "cell_type": "code",
      "execution_count": 7,
      "id": "53c86817",
      "metadata": {
        "execution": {
          "iopub.execute_input": "2022-04-01T19:05:35.234321Z",
          "iopub.status.busy": "2022-04-01T19:05:35.233821Z",
          "iopub.status.idle": "2022-04-01T19:06:48.798319Z",
          "shell.execute_reply": "2022-04-01T19:06:48.797819Z"
        }
      },
      "outputs": [
        {
          "name": "stdout",
          "output_type": "stream",
          "text": [
            "Generating 201 / 200 samples before starting training\n",
            "Epoch 1/50\n",
            "100/100 [==============================] - 4s 11ms/step - total_loss: 1.9623 - consistency_loss: 1.1593\n",
            "Epoch 2/50\n",
            "100/100 [==============================] - 1s 11ms/step - total_loss: 1.3150 - consistency_loss: 0.5171\n",
            "Epoch 3/50\n",
            "100/100 [==============================] - 1s 11ms/step - total_loss: 1.2821 - consistency_loss: 0.4214\n",
            "Epoch 4/50\n",
            "100/100 [==============================] - 1s 11ms/step - total_loss: 0.9051 - consistency_loss: 0.2305\n",
            "Epoch 5/50\n",
            "100/100 [==============================] - 1s 11ms/step - total_loss: 0.7573 - consistency_loss: 0.1493\n",
            "Epoch 6/50\n",
            "100/100 [==============================] - 1s 11ms/step - total_loss: 1.8550 - consistency_loss: 0.3127\n",
            "Epoch 7/50\n",
            "100/100 [==============================] - 1s 11ms/step - total_loss: 1.0058 - consistency_loss: 0.2645\n",
            "Epoch 8/50\n",
            "100/100 [==============================] - 1s 11ms/step - total_loss: 0.7999 - consistency_loss: 0.1537\n",
            "Epoch 9/50\n",
            "100/100 [==============================] - 1s 11ms/step - total_loss: 0.7152 - consistency_loss: 0.1035\n",
            "Epoch 10/50\n",
            "100/100 [==============================] - 1s 11ms/step - total_loss: 0.5262 - consistency_loss: 0.0568\n",
            "Epoch 11/50\n",
            "100/100 [==============================] - 1s 11ms/step - total_loss: 0.3884 - consistency_loss: 0.0422\n",
            "Epoch 12/50\n",
            "100/100 [==============================] - 1s 11ms/step - total_loss: 0.3776 - consistency_loss: 0.0447\n",
            "Epoch 13/50\n",
            "100/100 [==============================] - 1s 10ms/step - total_loss: 0.3455 - consistency_loss: 0.0417\n",
            "Epoch 14/50\n",
            "100/100 [==============================] - 1s 10ms/step - total_loss: 0.2481 - consistency_loss: 0.0388\n",
            "Epoch 15/50\n",
            "100/100 [==============================] - 1s 11ms/step - total_loss: 0.2174 - consistency_loss: 0.0316\n",
            "Epoch 16/50\n",
            "100/100 [==============================] - 1s 10ms/step - total_loss: 0.2786 - consistency_loss: 0.0506\n",
            "Epoch 17/50\n",
            "100/100 [==============================] - 1s 10ms/step - total_loss: 0.1814 - consistency_loss: 0.0277\n",
            "Epoch 18/50\n",
            "100/100 [==============================] - 1s 10ms/step - total_loss: 0.1518 - consistency_loss: 0.0214\n",
            "Epoch 19/50\n",
            "100/100 [==============================] - 1s 10ms/step - total_loss: 0.1228 - consistency_loss: 0.0196\n",
            "Epoch 20/50\n",
            "100/100 [==============================] - 1s 11ms/step - total_loss: 0.1345 - consistency_loss: 0.0179\n",
            "Epoch 21/50\n",
            "100/100 [==============================] - 1s 10ms/step - total_loss: 0.1470 - consistency_loss: 0.0199\n",
            "Epoch 22/50\n",
            "100/100 [==============================] - 1s 10ms/step - total_loss: 0.1245 - consistency_loss: 0.0172\n",
            "Epoch 23/50\n",
            "100/100 [==============================] - 1s 10ms/step - total_loss: 0.1148 - consistency_loss: 0.0162\n",
            "Epoch 24/50\n",
            "100/100 [==============================] - 1s 11ms/step - total_loss: 0.1254 - consistency_loss: 0.0157\n",
            "Epoch 25/50\n",
            "100/100 [==============================] - 1s 10ms/step - total_loss: 0.1186 - consistency_loss: 0.0149\n",
            "Epoch 26/50\n",
            "100/100 [==============================] - 1s 10ms/step - total_loss: 0.1136 - consistency_loss: 0.0141\n",
            "Epoch 27/50\n",
            "100/100 [==============================] - 1s 10ms/step - total_loss: 0.1023 - consistency_loss: 0.0130\n",
            "Epoch 28/50\n",
            "100/100 [==============================] - 1s 11ms/step - total_loss: 0.1217 - consistency_loss: 0.0122\n",
            "Epoch 29/50\n",
            "100/100 [==============================] - 1s 11ms/step - total_loss: 0.1398 - consistency_loss: 0.0153\n",
            "Epoch 30/50\n",
            "100/100 [==============================] - 1s 11ms/step - total_loss: 0.0959 - consistency_loss: 0.0120\n",
            "Epoch 31/50\n",
            "100/100 [==============================] - 1s 11ms/step - total_loss: 0.0977 - consistency_loss: 0.0120\n",
            "Epoch 32/50\n",
            "100/100 [==============================] - 1s 11ms/step - total_loss: 0.1163 - consistency_loss: 0.0124\n",
            "Epoch 33/50\n",
            "100/100 [==============================] - 1s 10ms/step - total_loss: 0.1137 - consistency_loss: 0.0112\n",
            "Epoch 34/50\n",
            "100/100 [==============================] - 1s 11ms/step - total_loss: 0.1003 - consistency_loss: 0.0110\n",
            "Epoch 35/50\n",
            "100/100 [==============================] - 1s 10ms/step - total_loss: 0.0929 - consistency_loss: 0.0099\n",
            "Epoch 36/50\n",
            "100/100 [==============================] - 1s 10ms/step - total_loss: 0.0873 - consistency_loss: 0.0105\n",
            "Epoch 37/50\n",
            "100/100 [==============================] - 1s 11ms/step - total_loss: 0.1066 - consistency_loss: 0.0102\n",
            "Epoch 38/50\n",
            "100/100 [==============================] - 1s 11ms/step - total_loss: 0.0965 - consistency_loss: 0.0098\n",
            "Epoch 39/50\n",
            "100/100 [==============================] - 1s 11ms/step - total_loss: 0.0907 - consistency_loss: 0.0090\n",
            "Epoch 40/50\n",
            "100/100 [==============================] - 1s 11ms/step - total_loss: 0.0903 - consistency_loss: 0.0092\n",
            "Epoch 41/50\n",
            "100/100 [==============================] - 1s 10ms/step - total_loss: 0.0892 - consistency_loss: 0.0091\n",
            "Epoch 42/50\n",
            "100/100 [==============================] - 1s 10ms/step - total_loss: 0.1128 - consistency_loss: 0.0080\n",
            "Epoch 43/50\n",
            "100/100 [==============================] - 1s 11ms/step - total_loss: 0.0941 - consistency_loss: 0.0105\n",
            "Epoch 44/50\n",
            "100/100 [==============================] - 1s 11ms/step - total_loss: 0.0834 - consistency_loss: 0.0081\n",
            "Epoch 45/50\n",
            "100/100 [==============================] - 1s 10ms/step - total_loss: 0.0843 - consistency_loss: 0.0078\n",
            "Epoch 46/50\n",
            "100/100 [==============================] - 1s 11ms/step - total_loss: 0.0895 - consistency_loss: 0.0076\n",
            "Epoch 47/50\n",
            "100/100 [==============================] - 1s 10ms/step - total_loss: 0.0983 - consistency_loss: 0.0070\n",
            "Epoch 48/50\n",
            "100/100 [==============================] - 1s 10ms/step - total_loss: 0.0811 - consistency_loss: 0.0069\n",
            "Epoch 49/50\n",
            "100/100 [==============================] - 1s 12ms/step - total_loss: 0.0658 - consistency_loss: 0.0063\n",
            "Epoch 50/50\n",
            "100/100 [==============================] - 1s 10ms/step - total_loss: 0.0898 - consistency_loss: 0.0072\n"
          ]
        }
      ],
      "source": [
        "\n",
        "with generator:\n",
        "    model = dt.models.LodeSTAR(input_shape=(None, None, 2), num_outputs=3)\n",
        "    model.compile(loss=\"mae\", optimizer=tf.keras.optimizers.Adam())\n",
        "    model.fit(generator, epochs=50, steps_per_epoch=100)\n"
      ]
    },
    {
      "cell_type": "code",
      "execution_count": 8,
      "id": "bb25a14a",
      "metadata": {
        "execution": {
          "iopub.execute_input": "2022-04-01T19:06:48.801819Z",
          "iopub.status.busy": "2022-04-01T19:06:48.801319Z",
          "iopub.status.idle": "2022-04-01T19:06:55.312318Z",
          "shell.execute_reply": "2022-04-01T19:06:55.312318Z"
        }
      },
      "outputs": [],
      "source": [
        "res = []\n",
        "for d in experimental_data:\n",
        "    d = dt.AveragePooling(ksize=(1, 2, 2, 1))(d)._value\n",
        "    \n",
        "    if np.mean(d[..., 0]) < 0.5:\n",
        "        d[..., 0] += 1\n",
        "    preds = model.predict_and_pool(np.array(d))\n",
        "    res.append(preds)"
      ]
    },
    {
      "cell_type": "code",
      "execution_count": 9,
      "id": "c798d764",
      "metadata": {
        "execution": {
          "iopub.execute_input": "2022-04-01T19:06:55.329353Z",
          "iopub.status.busy": "2022-04-01T19:06:55.328818Z",
          "iopub.status.idle": "2022-04-01T19:06:55.437819Z",
          "shell.execute_reply": "2022-04-01T19:06:55.438319Z"
        }
      },
      "outputs": [
        {
          "data": {
            "image/png": "[encoded data removed]",
            "text/plain": [
              "<Figure size 432x288 with 1 Axes>"
            ]
          },
          "metadata": {
            "needs_background": "light"
          },
          "output_type": "display_data"
        }
      ],
      "source": [
        "out2 = []\n",
        "for d in res:\n",
        "    out2.append(np.mean(d[:, 2]))\n",
        "out2 = np.exp(out2)\n",
        "out2 = out2 / np.quantile(out2, 0.95)\n",
        "\n",
        "plt.hist(out2, 30)\n",
        "\n",
        "outa = np.zeros((0,))\n",
        "outb = np.zeros((0,))\n",
        "for d, o0 in zip(res, out2):\n",
        "    vals = dt.convolve(d[:, 2], np.ones((15,))/15)[::15]\n",
        "    if 1.3 > o0 > 0.7:\n",
        "        outa = np.concatenate((outa, vals), axis=0)\n",
        "    if o0 < 0.4:\n",
        "        outb = np.concatenate((outb, vals), axis=0)\n",
        "outa = np.exp(outa)\n",
        "outb = np.exp(outb)\n"
      ]
    },
    {
      "cell_type": "code",
      "execution_count": 10,
      "id": "e779bb52",
      "metadata": {
        "execution": {
          "iopub.execute_input": "2022-04-01T19:06:55.441322Z",
          "iopub.status.busy": "2022-04-01T19:06:55.440819Z",
          "iopub.status.idle": "2022-04-01T19:06:55.443319Z",
          "shell.execute_reply": "2022-04-01T19:06:55.443820Z"
        }
      },
      "outputs": [],
      "source": [
        "particle_a_ph = 0.228**3 * (1.58**2 - 1.33**2) / (1.58**2 + 1.33**2 * 2) * 1000 * 4 * np.pi\n",
        "particle_b_ph = 0.150**3 * (1.58**2 - 1.33**2) / (1.58**2 + 1.33**2 * 2) * 1000 * 4 * np.pi\n",
        "\n",
        "norm_factor = particle_a_ph / np.median(outa)"
      ]
    },
    {
      "cell_type": "code",
      "execution_count": 11,
      "id": "f97641fd",
      "metadata": {
        "execution": {
          "iopub.execute_input": "2022-04-01T19:06:55.447332Z",
          "iopub.status.busy": "2022-04-01T19:06:55.446818Z",
          "iopub.status.idle": "2022-04-01T19:06:55.606319Z",
          "shell.execute_reply": "2022-04-01T19:06:55.605819Z"
        }
      },
      "outputs": [
        {
          "data": {
            "image/png": "[encoded data removed]",
            "text/plain": [
              "<Figure size 288x288 with 1 Axes>"
            ]
          },
          "metadata": {
            "needs_background": "light"
          },
          "output_type": "display_data"
        }
      ],
      "source": [
        "import seaborn as sns\n",
        "\n",
        "plt.figure(figsize=(4, 4))\n",
        "sns.histplot(outa * norm_factor, bins=50, binrange=(0, particle_a_ph * 1.5), color=sns.color_palette(\"colorblind\")[3], alpha = .5, stat=\"probability\", element=\"step\", linewidth=2)\n",
        "sns.histplot(outb * norm_factor, bins=50, binrange=(0, particle_a_ph * 1.5), color=sns.color_palette(\"colorblind\")[4], alpha = .5, stat=\"probability\", element=\"step\", linewidth=2)\n",
        "\n",
        "plt.axvline(particle_a_ph, c=\"k\", linestyle=\"--\", linewidth=3)\n",
        "plt.axvline(particle_b_ph, c=\"k\", linestyle=\"--\", linewidth=3)\n",
        "plt.yticks([])\n",
        "# plt.xticks(np.array([0, 2, 4, 6, 8, 10, 12, 14]) * 2)\n",
        "plt.ylabel(\"\")\n",
        "# plt.ylim([0, 60])\n",
        "plt.savefig(\"fig4e.svg\", bbox_inches=\"tight\")\n"
      ]
    },
    {
      "cell_type": "code",
      "execution_count": null,
      "id": "05f4bc7e",
      "metadata": {},
      "outputs": [],
      "source": []
    }
  ],
  "metadata": {
    "interpreter": {
      "hash": "dee7c62952cd92a9f95e3a9cf2ab80d8434e980a2c662f49192ac9761f392c34"
    },
    "kernelspec": {
      "display_name": "Python 3.8.6 64-bit",
      "name": "python3"
    },
    "language_info": {
      "codemirror_mode": {
        "name": "ipython",
        "version": 3
      },
      "file_extension": ".py",
      "mimetype": "text/x-python",
      "name": "python",
      "nbconvert_exporter": "python",
      "pygments_lexer": "ipython3",
      "version": "3.8.6"
    }
  },
  "nbformat": 4,
  "nbformat_minor": 5
}