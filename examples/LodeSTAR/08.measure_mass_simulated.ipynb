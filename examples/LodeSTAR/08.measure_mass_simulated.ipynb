{
 "cells": [
  {
   "cell_type": "code",
   "execution_count": 1,
   "id": "5def3ff6",
   "metadata": {},
   "outputs": [],
   "source": [
    "%matplotlib inline\n",
    "import sys\n",
    "sys.path.insert(0, \"../..\")"
   ]
  },
  {
   "cell_type": "code",
   "execution_count": 2,
   "id": "142e8f7f",
   "metadata": {},
   "outputs": [],
   "source": [
    "import random\n",
    "\n",
    "import deeptrack as dt\n",
    "import deeptrack.extras\n",
    "import numpy as np\n",
    "import skimage.color\n",
    "import matplotlib.pyplot as plt\n",
    "import tensorflow as tf\n",
    "import scipy.io"
   ]
  },
  {
   "cell_type": "code",
   "execution_count": 3,
   "id": "739e8436",
   "metadata": {},
   "outputs": [],
   "source": [
    "import numpy as np\n",
    "import matplotlib.pyplot as plt\n",
    "\n",
    "crop_size = 40\n",
    "padding = 32\n",
    "wavelength = 633e-9 \n",
    "pixel_size = 114e-9\n",
    "crop_propagation_forward = dt.get_propagation_matrix((crop_size + 2 * padding, ) * 2, 1e-7, pixel_size * 2, wavelength)\n",
    "crop_propagation_backward = dt.get_propagation_matrix((crop_size + 2 * padding, ) * 2, -1e-7, pixel_size * 2, wavelength)\n",
    "\n",
    "particle = dt.MieSphere(\n",
    "    radius=lambda: 250e-9,\n",
    "    refractive_index=lambda: 1.58,\n",
    "    z=lambda: 0,\n",
    "    position=(crop_size / 2,) * 2,\n",
    "    L=100,\n",
    ")\n",
    "\n",
    "optics = dt.Brightfield(\n",
    "    NA=1.3,\n",
    "    magnification=1,\n",
    "    wavelength=633e-9,\n",
    "    resolution=2*1.14e-7,\n",
    "    illumination=dt.Gaussian(sigma=0.01) >> dt.Gaussian(sigma=0.01j), \n",
    "    return_field=True, \n",
    "    output_region=(0, 0, 40, 40)\n",
    ")\n",
    "\n",
    "imaged_particle = optics(particle) \n",
    "training_data = (imaged_particle >> dt.Real()) & (imaged_particle >> dt.Imag())\n",
    "training_data = training_data >> dt.Merge(lambda: lambda x: np.concatenate( [np.array(_x) for _x in x], axis=-1 ))"
   ]
  },
  {
   "cell_type": "code",
   "execution_count": 4,
   "id": "1bfbfd07",
   "metadata": {},
   "outputs": [],
   "source": [
    "args = dt.Arguments(\n",
    "    translate=lambda: np.random.randn(2) * 1,\n",
    "    rotate=lambda:np.random.uniform(0, np.pi*2),\n",
    "    z=lambda: np.random.randint(-4, 4),\n",
    "    rescale=lambda: 10**np.random.uniform(-2, 2)\n",
    ")\n",
    "\n",
    "group = ( \n",
    "     dt.Affine(rotate=args.rotate) \n",
    "    >>dt.Affine(translate=args.translate) \n",
    "    >> dt.Rescale(args.rescale) \n",
    "    >> dt.FourierTransform() \n",
    "    >> dt.FourierTransformTransformation(crop_propagation_forward, crop_propagation_backward, args.z) \n",
    "    >> dt.InverseFourierTransform() \n",
    "    >> dt.Gaussian(sigma=lambda: np.random.rand() * 0.01)\n",
    ")\n",
    "\n",
    "equivariance = (\n",
    "    dt.models.autotracking.TranslationalEquivariance(args.translate)\n",
    "    >> dt.models.autotracking.Rotational2DEquivariance(args.rotate)\n",
    "    >> dt.models.autotracking.Equivariance(1, lambda arg: np.log(arg), arg = args.rescale, indexes=2)\n",
    ")\n",
    "\n",
    "\n"
   ]
  },
  {
   "cell_type": "code",
   "execution_count": 5,
   "id": "5fa4c399",
   "metadata": {},
   "outputs": [
    {
     "data": {
      "text/plain": [
       "<AxesSubplot:>"
      ]
     },
     "execution_count": 5,
     "metadata": {},
     "output_type": "execute_result"
    },
    {
     "data": {
      "image/png": "[encoded data removed]",
      "text/plain": [
       "<Figure size 432x288 with 1 Axes>"
      ]
     },
     "metadata": {
      "needs_background": "light"
     },
     "output_type": "display_data"
    }
   ],
   "source": [
    "val = training_data.update()()\n",
    "training_set = dt.Value(lambda: np.array(val)) \n",
    "(training_set >> group).update().plot()"
   ]
  },
  {
   "cell_type": "code",
   "execution_count": 6,
   "id": "1bf0c230",
   "metadata": {},
   "outputs": [],
   "source": [
    "generator = dt.models.autotracking.AutoTrackGenerator(\n",
    "    training_set,\n",
    "    3,\n",
    "    (group, equivariance), \n",
    "    batch_size=8, \n",
    "    min_data_size=200, \n",
    "    max_data_size=201\n",
    ")\n",
    "\n"
   ]
  },
  {
   "cell_type": "code",
   "execution_count": 7,
   "id": "53c86817",
   "metadata": {},
   "outputs": [
    {
     "name": "stdout",
     "output_type": "stream",
     "text": [
      "Generating 201 / 200 samples before starting training\n",
      "Epoch 1/50\n",
      "100/100 [==============================] - 3s 9ms/step - total_loss: 2.6760 - consistency_loss: 1.5544\n",
      "Epoch 2/50\n",
      "100/100 [==============================] - 1s 9ms/step - total_loss: 2.5393 - consistency_loss: 1.4858\n",
      "Epoch 3/50\n",
      "100/100 [==============================] - 1s 9ms/step - total_loss: 2.3829 - consistency_loss: 1.1135\n",
      "Epoch 4/50\n",
      "100/100 [==============================] - 1s 9ms/step - total_loss: 1.7054 - consistency_loss: 0.7187\n",
      "Epoch 5/50\n",
      "100/100 [==============================] - 1s 9ms/step - total_loss: 1.1155 - consistency_loss: 0.3284: 0s - total_loss: 1.081\n",
      "Epoch 6/50\n",
      "100/100 [==============================] - 1s 9ms/step - total_loss: 0.9341 - consistency_loss: 0.1790: 0s - total_loss: 0.986\n",
      "Epoch 7/50\n",
      "100/100 [==============================] - 1s 9ms/step - total_loss: 0.8576 - consistency_loss: 0.1197\n",
      "Epoch 8/50\n",
      "100/100 [==============================] - 1s 9ms/step - total_loss: 0.8320 - consistency_loss: 0.1067\n",
      "Epoch 9/50\n",
      "100/100 [==============================] - 1s 9ms/step - total_loss: 0.8580 - consistency_loss: 0.1224\n",
      "Epoch 10/50\n",
      "100/100 [==============================] - 1s 9ms/step - total_loss: 0.8585 - consistency_loss: 0.0835\n",
      "Epoch 11/50\n",
      "100/100 [==============================] - 1s 9ms/step - total_loss: 0.7930 - consistency_loss: 0.0787: 0s - total_loss: 0.8\n",
      "Epoch 12/50\n",
      "100/100 [==============================] - 1s 9ms/step - total_loss: 0.7610 - consistency_loss: 0.0640\n",
      "Epoch 13/50\n",
      "100/100 [==============================] - 1s 9ms/step - total_loss: 0.7731 - consistency_loss: 0.0608\n",
      "Epoch 14/50\n",
      "100/100 [==============================] - 1s 9ms/step - total_loss: 0.7848 - consistency_loss: 0.0724\n",
      "Epoch 15/50\n",
      "100/100 [==============================] - 1s 9ms/step - total_loss: 0.7794 - consistency_loss: 0.0604\n",
      "Epoch 16/50\n",
      "100/100 [==============================] - 1s 9ms/step - total_loss: 0.7803 - consistency_loss: 0.0586\n",
      "Epoch 17/50\n",
      "100/100 [==============================] - 1s 9ms/step - total_loss: 0.8693 - consistency_loss: 0.1199\n",
      "Epoch 18/50\n",
      "100/100 [==============================] - 1s 9ms/step - total_loss: 0.8068 - consistency_loss: 0.0739\n",
      "Epoch 19/50\n",
      "100/100 [==============================] - 1s 10ms/step - total_loss: 0.7823 - consistency_loss: 0.0674\n",
      "Epoch 20/50\n",
      "100/100 [==============================] - 1s 9ms/step - total_loss: 0.7248 - consistency_loss: 0.0525\n",
      "Epoch 21/50\n",
      "100/100 [==============================] - 1s 9ms/step - total_loss: 0.7776 - consistency_loss: 0.0529\n",
      "Epoch 22/50\n",
      "100/100 [==============================] - 1s 9ms/step - total_loss: 0.7332 - consistency_loss: 0.0608\n",
      "Epoch 23/50\n",
      "100/100 [==============================] - 1s 9ms/step - total_loss: 0.7559 - consistency_loss: 0.0497\n",
      "Epoch 24/50\n",
      "100/100 [==============================] - 1s 9ms/step - total_loss: 0.7465 - consistency_loss: 0.0483\n",
      "Epoch 25/50\n",
      "100/100 [==============================] - 1s 8ms/step - total_loss: 0.7281 - consistency_loss: 0.0419\n",
      "Epoch 26/50\n",
      "100/100 [==============================] - 1s 9ms/step - total_loss: 0.7238 - consistency_loss: 0.0470\n",
      "Epoch 27/50\n",
      "100/100 [==============================] - 1s 9ms/step - total_loss: 0.7507 - consistency_loss: 0.0484: 0s - total_loss: 0.750\n",
      "Epoch 28/50\n",
      "100/100 [==============================] - 1s 9ms/step - total_loss: 0.7288 - consistency_loss: 0.0462\n",
      "Epoch 29/50\n",
      "100/100 [==============================] - 1s 9ms/step - total_loss: 0.7573 - consistency_loss: 0.0467\n",
      "Epoch 30/50\n",
      "100/100 [==============================] - 1s 10ms/step - total_loss: 0.8153 - consistency_loss: 0.0609\n",
      "Epoch 31/50\n",
      "100/100 [==============================] - 1s 9ms/step - total_loss: 0.7491 - consistency_loss: 0.0469\n",
      "Epoch 32/50\n",
      "100/100 [==============================] - 1s 9ms/step - total_loss: 0.7645 - consistency_loss: 0.0406\n",
      "Epoch 33/50\n",
      "100/100 [==============================] - 1s 9ms/step - total_loss: 0.7493 - consistency_loss: 0.0426\n",
      "Epoch 34/50\n",
      "100/100 [==============================] - 1s 9ms/step - total_loss: 0.7464 - consistency_loss: 0.0441\n",
      "Epoch 35/50\n",
      "100/100 [==============================] - 1s 9ms/step - total_loss: 0.7402 - consistency_loss: 0.0477\n",
      "Epoch 36/50\n",
      "100/100 [==============================] - 1s 9ms/step - total_loss: 0.7459 - consistency_loss: 0.0407\n",
      "Epoch 37/50\n",
      "100/100 [==============================] - 1s 9ms/step - total_loss: 0.7012 - consistency_loss: 0.0428\n",
      "Epoch 38/50\n",
      "100/100 [==============================] - 1s 9ms/step - total_loss: 0.7413 - consistency_loss: 0.0515\n",
      "Epoch 39/50\n",
      "100/100 [==============================] - 1s 9ms/step - total_loss: 0.7337 - consistency_loss: 0.0654\n",
      "Epoch 40/50\n",
      "100/100 [==============================] - 1s 8ms/step - total_loss: 0.7526 - consistency_loss: 0.0522\n",
      "Epoch 41/50\n",
      "100/100 [==============================] - 1s 9ms/step - total_loss: 0.7288 - consistency_loss: 0.0476: 0s - total_loss:\n",
      "Epoch 42/50\n",
      "100/100 [==============================] - 1s 9ms/step - total_loss: 0.7938 - consistency_loss: 0.0704\n",
      "Epoch 43/50\n",
      "100/100 [==============================] - 1s 9ms/step - total_loss: 0.7580 - consistency_loss: 0.0595\n",
      "Epoch 44/50\n",
      "100/100 [==============================] - 1s 9ms/step - total_loss: 0.7336 - consistency_loss: 0.0552\n",
      "Epoch 45/50\n",
      "100/100 [==============================] - 1s 9ms/step - total_loss: 0.7475 - consistency_loss: 0.0538\n",
      "Epoch 46/50\n",
      "100/100 [==============================] - 1s 9ms/step - total_loss: 0.7257 - consistency_loss: 0.0495\n",
      "Epoch 47/50\n",
      "100/100 [==============================] - 1s 9ms/step - total_loss: 0.7279 - consistency_loss: 0.0497\n",
      "Epoch 48/50\n",
      "100/100 [==============================] - 1s 9ms/step - total_loss: 0.7238 - consistency_loss: 0.0516\n",
      "Epoch 49/50\n",
      "100/100 [==============================] - 1s 10ms/step - total_loss: 0.6843 - consistency_loss: 0.0404\n",
      "Epoch 50/50\n",
      "100/100 [==============================] - 1s 9ms/step - total_loss: 0.6839 - consistency_loss: 0.0438\n"
     ]
    }
   ],
   "source": [
    "\n",
    "with generator:\n",
    "    model = dt.models.AutoMultiTracker(input_shape=(None, None, 2), num_outputs=3)\n",
    "    model.compile(loss=\"mae\", optimizer=tf.keras.optimizers.Adam())\n",
    "    model.fit(generator, epochs=50, steps_per_epoch=100)\n"
   ]
  },
  {
   "cell_type": "code",
   "execution_count": 8,
   "id": "bb25a14a",
   "metadata": {},
   "outputs": [],
   "source": [
    "import itertools\n",
    "import scipy\n",
    "grid_x = 8\n",
    "radius_range = np.linspace(140e-9, 350e-9, grid_x)\n",
    "refractive_index_range = np.linspace(1.38, 1.6, grid_x)\n",
    "\n",
    "num_samples = 10\n",
    "\n",
    "data_dict = {}\n",
    "\n",
    "for radius, refractive_index in itertools.product(radius_range, refractive_index_range):\n",
    "\n",
    "    for _ in range(num_samples):\n",
    "        image = training_data.update()(radius=radius, refractive_index=refractive_index, z=np.random.uniform(-1, 1))\n",
    "\n",
    "        if (radius, refractive_index) not in data_dict:\n",
    "            data_dict[(radius, refractive_index)] = []\n",
    "\n",
    "        data_dict[(radius, refractive_index)].append(image)  "
   ]
  },
  {
   "cell_type": "code",
   "execution_count": 9,
   "id": "c798d764",
   "metadata": {},
   "outputs": [],
   "source": [
    "error_dict = {}\n",
    "for key, value in data_dict.items():\n",
    "    preds = model.predict_and_pool(np.array(value))\n",
    "    error_dict[key] = np.exp(preds[:, 2])\n",
    "\n",
    "RI, R = np.meshgrid(refractive_index_range, radius_range)\n",
    "\n",
    "GT = R**3 * (RI - 1.33)\n",
    "GT = GT[..., np.newaxis]"
   ]
  },
  {
   "cell_type": "code",
   "execution_count": 10,
   "id": "d88c0731",
   "metadata": {},
   "outputs": [],
   "source": [
    "Z = np.reshape(np.array(list(error_dict.values())), (grid_x, grid_x, -1))\n",
    "\n",
    "norm_f = GT[4, 4] / np.mean(Z[4, 4]) \n",
    "Z = Z * norm_f"
   ]
  },
  {
   "cell_type": "code",
   "execution_count": 11,
   "id": "f97641fd",
   "metadata": {},
   "outputs": [
    {
     "data": {
      "image/png": "[encoded data removed]",
      "text/plain": [
       "<Figure size 432x288 with 1 Axes>"
      ]
     },
     "metadata": {
      "needs_background": "light"
     },
     "output_type": "display_data"
    }
   ],
   "source": [
    "plt.scatter(np.repeat(GT, num_samples, -1).flatten() * 1e20, Z.flatten() * 1e20)\n",
    "plt.axline((0, 0), (1, 1))\n",
    "plt.show()\n"
   ]
  },
  {
   "cell_type": "code",
   "execution_count": null,
   "id": "339c32eb",
   "metadata": {},
   "outputs": [],
   "source": []
  }
 ],
 "metadata": {
  "interpreter": {
   "hash": "dee7c62952cd92a9f95e3a9cf2ab80d8434e980a2c662f49192ac9761f392c34"
  },
  "kernelspec": {
   "display_name": "Python 3.8.6 64-bit",
   "name": "python3"
  },
  "language_info": {
   "codemirror_mode": {
    "name": "ipython",
    "version": 3
   },
   "file_extension": ".py",
   "mimetype": "text/x-python",
   "name": "python",
   "nbconvert_exporter": "python",
   "pygments_lexer": "ipython3",
   "version": "3.8.6"
  }
 },
 "nbformat": 4,
 "nbformat_minor": 5
}
