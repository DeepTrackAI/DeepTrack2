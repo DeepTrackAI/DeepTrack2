{
 "cells": [
  {
   "cell_type": "code",
   "execution_count": 1,
   "id": "5def3ff6",
   "metadata": {},
   "outputs": [],
   "source": [
    "%matplotlib inline\n",
    "import sys\n",
    "sys.path.insert(0, \"../..\")"
   ]
  },
  {
   "cell_type": "code",
   "execution_count": 2,
   "id": "142e8f7f",
   "metadata": {},
   "outputs": [],
   "source": [
    "import random\n",
    "\n",
    "import deeptrack as dt\n",
    "import deeptrack.extras\n",
    "import numpy as np\n",
    "import skimage.color\n",
    "import matplotlib.pyplot as plt\n",
    "import tensorflow as tf\n",
    "import scipy.io"
   ]
  },
  {
   "cell_type": "code",
   "execution_count": 3,
   "id": "739e8436",
   "metadata": {},
   "outputs": [],
   "source": [
    "import numpy as np\n",
    "import matplotlib.pyplot as plt\n",
    "\n",
    "crop_size = 40\n",
    "padding = 32\n",
    "wavelength = 633e-9 \n",
    "pixel_size = 114e-9\n",
    "crop_propagation_forward = dt.get_propagation_matrix((crop_size + 2 * padding, ) * 2, 1e-7, pixel_size * 2, wavelength)\n",
    "crop_propagation_backward = dt.get_propagation_matrix((crop_size + 2 * padding, ) * 2, -1e-7, pixel_size * 2, wavelength)\n",
    "\n",
    "particle = dt.MieSphere(\n",
    "    radius=lambda: 250e-9,\n",
    "    refractive_index=lambda: 1.58,\n",
    "    z=lambda: 0,\n",
    "    position=(crop_size / 2,) * 2,\n",
    "    L=100,\n",
    ")\n",
    "\n",
    "optics = dt.Brightfield(\n",
    "    NA=1.3,\n",
    "    magnification=1,\n",
    "    wavelength=633e-9,\n",
    "    resolution=2*1.14e-7,\n",
    "    illumination=dt.Gaussian(sigma=0.01) >> dt.Gaussian(sigma=0.01j), \n",
    "    return_field=True, \n",
    "    output_region=(0, 0, 40, 40)\n",
    ")\n",
    "\n",
    "imaged_particle = optics(particle) \n",
    "training_data = (imaged_particle >> dt.Real()) & (imaged_particle >> dt.Imag())\n",
    "training_data = training_data >> dt.Merge(lambda: lambda x: np.concatenate( [np.array(_x) for _x in x], axis=-1 ))"
   ]
  },
  {
   "cell_type": "code",
   "execution_count": 4,
   "id": "1bfbfd07",
   "metadata": {},
   "outputs": [],
   "source": [
    "args = dt.Arguments(\n",
    "    translate=lambda: np.random.randn(2) * 1,\n",
    "    rotate=lambda:np.random.uniform(0, np.pi*2),\n",
    "    z=lambda: np.random.randint(-4, 4),\n",
    "    rescale=lambda: 10**np.random.uniform(-2, 2)\n",
    ")\n",
    "\n",
    "group = ( \n",
    "     dt.Affine(rotate=args.rotate) \n",
    "    >>dt.Affine(translate=args.translate) \n",
    "    >> dt.Rescale(args.rescale) \n",
    "    >> dt.FourierTransform() \n",
    "    >> dt.FourierTransformTransformation(crop_propagation_forward, crop_propagation_backward, args.z) \n",
    "    >> dt.InverseFourierTransform() \n",
    "    >> dt.Gaussian(sigma=lambda: np.random.rand() * 0.01)\n",
    ")\n",
    "\n",
    "equivariance = (\n",
    "     dt.models.lodestar.Rotational2DEquivariance(args.rotate)\n",
    "    >>dt.models.lodestar.TranslationalEquivariance(args.translate)\n",
    "    \n",
    "    >> dt.models.lodestar.Equivariance(1, lambda arg: np.log(arg), arg = args.rescale, indexes=2)\n",
    ")\n",
    "\n",
    "\n"
   ]
  },
  {
   "cell_type": "code",
   "execution_count": 5,
   "id": "5fa4c399",
   "metadata": {},
   "outputs": [
    {
     "data": {
      "text/plain": [
       "<AxesSubplot:>"
      ]
     },
     "execution_count": 5,
     "metadata": {},
     "output_type": "execute_result"
    },
    {
     "data": {
      "image/png": "[encoded data removed]",
      "text/plain": [
       "<Figure size 432x288 with 1 Axes>"
      ]
     },
     "metadata": {
      "needs_background": "light"
     },
     "output_type": "display_data"
    }
   ],
   "source": [
    "val = training_data.update()()\n",
    "training_set = dt.Value(lambda: np.array(val)) \n",
    "(training_set >> group).update().plot()"
   ]
  },
  {
   "cell_type": "code",
   "execution_count": 6,
   "id": "1bf0c230",
   "metadata": {},
   "outputs": [],
   "source": [
    "generator = dt.models.lodestar.LodeSTARGenerator(\n",
    "    training_set,\n",
    "    3,\n",
    "    (group, equivariance), \n",
    "    batch_size=8, \n",
    "    min_data_size=200, \n",
    "    max_data_size=201\n",
    ")\n",
    "\n"
   ]
  },
  {
   "cell_type": "code",
   "execution_count": 7,
   "id": "53c86817",
   "metadata": {},
   "outputs": [
    {
     "name": "stdout",
     "output_type": "stream",
     "text": [
      "Generating 201 / 200 samples before starting training\n",
      "Epoch 1/50\n",
      "100/100 [==============================] - 4s 11ms/step - total_loss: 2.7187 - consistency_loss: 1.5295\n",
      "Epoch 2/50\n",
      "100/100 [==============================] - 1s 11ms/step - total_loss: 2.4976 - consistency_loss: 1.4342\n",
      "Epoch 3/50\n",
      "100/100 [==============================] - 1s 10ms/step - total_loss: 2.1371 - consistency_loss: 1.0099\n",
      "Epoch 4/50\n",
      "100/100 [==============================] - 1s 10ms/step - total_loss: 1.3909 - consistency_loss: 0.6825\n",
      "Epoch 5/50\n",
      "100/100 [==============================] - 1s 11ms/step - total_loss: 0.8211 - consistency_loss: 0.3935\n",
      "Epoch 6/50\n",
      "100/100 [==============================] - 1s 11ms/step - total_loss: 0.4793 - consistency_loss: 0.2141\n",
      "Epoch 7/50\n",
      "100/100 [==============================] - 1s 11ms/step - total_loss: 0.4285 - consistency_loss: 0.1553\n",
      "Epoch 8/50\n",
      "100/100 [==============================] - 1s 10ms/step - total_loss: 0.3120 - consistency_loss: 0.0974\n",
      "Epoch 9/50\n",
      "100/100 [==============================] - 1s 10ms/step - total_loss: 0.2738 - consistency_loss: 0.0766\n",
      "Epoch 10/50\n",
      "100/100 [==============================] - 1s 11ms/step - total_loss: 0.2352 - consistency_loss: 0.0597\n",
      "Epoch 11/50\n",
      "100/100 [==============================] - 1s 11ms/step - total_loss: 0.2130 - consistency_loss: 0.0491\n",
      "Epoch 12/50\n",
      "100/100 [==============================] - 1s 11ms/step - total_loss: 0.1909 - consistency_loss: 0.0398\n",
      "Epoch 13/50\n",
      "100/100 [==============================] - 1s 11ms/step - total_loss: 0.1953 - consistency_loss: 0.0400 0s - total_loss: 0.1982 - consistency_loss: 0.\n",
      "Epoch 14/50\n",
      "100/100 [==============================] - 1s 11ms/step - total_loss: 0.1750 - consistency_loss: 0.0359\n",
      "Epoch 15/50\n",
      "100/100 [==============================] - 1s 12ms/step - total_loss: 0.2063 - consistency_loss: 0.0403\n",
      "Epoch 16/50\n",
      "100/100 [==============================] - 1s 11ms/step - total_loss: 0.1874 - consistency_loss: 0.0325\n",
      "Epoch 17/50\n",
      "100/100 [==============================] - 1s 11ms/step - total_loss: 0.1676 - consistency_loss: 0.0283\n",
      "Epoch 18/50\n",
      "100/100 [==============================] - 1s 10ms/step - total_loss: 0.1795 - consistency_loss: 0.0289\n",
      "Epoch 19/50\n",
      "100/100 [==============================] - 1s 11ms/step - total_loss: 0.1494 - consistency_loss: 0.0235\n",
      "Epoch 20/50\n",
      "100/100 [==============================] - 1s 11ms/step - total_loss: 0.1497 - consistency_loss: 0.0215\n",
      "Epoch 21/50\n",
      "100/100 [==============================] - 1s 10ms/step - total_loss: 0.9272 - consistency_loss: 0.4519\n",
      "Epoch 22/50\n",
      "100/100 [==============================] - 1s 12ms/step - total_loss: 1.7520 - consistency_loss: 1.0121\n",
      "Epoch 23/50\n",
      "100/100 [==============================] - 1s 12ms/step - total_loss: 0.4800 - consistency_loss: 0.2041\n",
      "Epoch 24/50\n",
      "100/100 [==============================] - 1s 11ms/step - total_loss: 0.4213 - consistency_loss: 0.1632\n",
      "Epoch 25/50\n",
      "100/100 [==============================] - 1s 11ms/step - total_loss: 0.2102 - consistency_loss: 0.0556\n",
      "Epoch 26/50\n",
      "100/100 [==============================] - 1s 11ms/step - total_loss: 0.1926 - consistency_loss: 0.0430\n",
      "Epoch 27/50\n",
      "100/100 [==============================] - 1s 11ms/step - total_loss: 0.1805 - consistency_loss: 0.0402\n",
      "Epoch 28/50\n",
      "100/100 [==============================] - 1s 11ms/step - total_loss: 0.1702 - consistency_loss: 0.0282\n",
      "Epoch 29/50\n",
      "100/100 [==============================] - 1s 11ms/step - total_loss: 0.1561 - consistency_loss: 0.0263\n",
      "Epoch 30/50\n",
      "100/100 [==============================] - 1s 11ms/step - total_loss: 0.1708 - consistency_loss: 0.0311\n",
      "Epoch 31/50\n",
      "100/100 [==============================] - 1s 11ms/step - total_loss: 0.1766 - consistency_loss: 0.0344\n",
      "Epoch 32/50\n",
      "100/100 [==============================] - 1s 11ms/step - total_loss: 0.1754 - consistency_loss: 0.0368\n",
      "Epoch 33/50\n",
      "100/100 [==============================] - 1s 11ms/step - total_loss: 0.1426 - consistency_loss: 0.0271\n",
      "Epoch 34/50\n",
      "100/100 [==============================] - 1s 10ms/step - total_loss: 0.1529 - consistency_loss: 0.0250\n",
      "Epoch 35/50\n",
      "100/100 [==============================] - 1s 11ms/step - total_loss: 0.1575 - consistency_loss: 0.0242\n",
      "Epoch 36/50\n",
      "100/100 [==============================] - 1s 10ms/step - total_loss: 0.1520 - consistency_loss: 0.0238\n",
      "Epoch 37/50\n",
      "100/100 [==============================] - 1s 11ms/step - total_loss: 0.1373 - consistency_loss: 0.0217\n",
      "Epoch 38/50\n",
      "100/100 [==============================] - 1s 11ms/step - total_loss: 0.1674 - consistency_loss: 0.0236\n",
      "Epoch 39/50\n",
      "100/100 [==============================] - 1s 11ms/step - total_loss: 0.1517 - consistency_loss: 0.0225\n",
      "Epoch 40/50\n",
      "100/100 [==============================] - 1s 11ms/step - total_loss: 0.1511 - consistency_loss: 0.0223\n",
      "Epoch 41/50\n",
      "100/100 [==============================] - 1s 10ms/step - total_loss: 0.1219 - consistency_loss: 0.0170\n",
      "Epoch 42/50\n",
      "100/100 [==============================] - 1s 11ms/step - total_loss: 0.1389 - consistency_loss: 0.0179\n",
      "Epoch 43/50\n",
      "100/100 [==============================] - 1s 11ms/step - total_loss: 0.1472 - consistency_loss: 0.0227\n",
      "Epoch 44/50\n",
      "100/100 [==============================] - 1s 11ms/step - total_loss: 0.1412 - consistency_loss: 0.0170\n",
      "Epoch 45/50\n",
      "100/100 [==============================] - 1s 11ms/step - total_loss: 0.1301 - consistency_loss: 0.0168\n",
      "Epoch 46/50\n",
      "100/100 [==============================] - 1s 11ms/step - total_loss: 0.1395 - consistency_loss: 0.0190\n",
      "Epoch 47/50\n",
      "100/100 [==============================] - 1s 11ms/step - total_loss: 0.1353 - consistency_loss: 0.0185\n",
      "Epoch 48/50\n",
      "100/100 [==============================] - 1s 11ms/step - total_loss: 0.1407 - consistency_loss: 0.0175\n",
      "Epoch 49/50\n",
      "100/100 [==============================] - 1s 11ms/step - total_loss: 0.1260 - consistency_loss: 0.0166\n",
      "Epoch 50/50\n",
      "100/100 [==============================] - 1s 10ms/step - total_loss: 0.1299 - consistency_loss: 0.0159\n"
     ]
    }
   ],
   "source": [
    "\n",
    "with generator:\n",
    "    model = dt.models.LodeSTAR(input_shape=(None, None, 2), num_outputs=3)\n",
    "    model.compile(loss=\"mae\", optimizer=tf.keras.optimizers.Adam())\n",
    "    model.fit(generator, epochs=50, steps_per_epoch=100)\n"
   ]
  },
  {
   "cell_type": "code",
   "execution_count": 8,
   "id": "bb25a14a",
   "metadata": {},
   "outputs": [],
   "source": [
    "import itertools\n",
    "import scipy\n",
    "grid_x = 8\n",
    "radius_range = np.linspace(140e-9, 350e-9, grid_x)\n",
    "refractive_index_range = np.linspace(1.38, 1.6, grid_x)\n",
    "\n",
    "num_samples = 10\n",
    "\n",
    "data_dict = {}\n",
    "\n",
    "for radius, refractive_index in itertools.product(radius_range, refractive_index_range):\n",
    "\n",
    "    for _ in range(num_samples):\n",
    "        image = training_data.update()(radius=radius, refractive_index=refractive_index, z=np.random.uniform(-1, 1))\n",
    "\n",
    "        if (radius, refractive_index) not in data_dict:\n",
    "            data_dict[(radius, refractive_index)] = []\n",
    "\n",
    "        data_dict[(radius, refractive_index)].append(image)  "
   ]
  },
  {
   "cell_type": "code",
   "execution_count": 9,
   "id": "c798d764",
   "metadata": {},
   "outputs": [],
   "source": [
    "error_dict = {}\n",
    "for key, value in data_dict.items():\n",
    "    preds = model.predict_and_pool(np.array(value))\n",
    "    error_dict[key] = np.exp(preds[:, 2])\n",
    "\n",
    "RI, R = np.meshgrid(refractive_index_range, radius_range)\n",
    "\n",
    "GT = R**3 * (RI - 1.33) / (RI + 1.33 * 2)\n",
    "GT = GT[..., np.newaxis]"
   ]
  },
  {
   "cell_type": "code",
   "execution_count": 10,
   "id": "d88c0731",
   "metadata": {},
   "outputs": [],
   "source": [
    "Z = np.reshape(np.array(list(error_dict.values())), (grid_x, grid_x, -1))\n",
    "\n",
    "norm_f = GT[4, 4] / np.mean(Z[4, 4]) \n",
    "Z = Z * norm_f"
   ]
  },
  {
   "cell_type": "code",
   "execution_count": 12,
   "id": "f97641fd",
   "metadata": {},
   "outputs": [
    {
     "data": {
      "image/png": "[encoded data removed]",
      "text/plain": [
       "<Figure size 432x288 with 1 Axes>"
      ]
     },
     "metadata": {
      "needs_background": "light"
     },
     "output_type": "display_data"
    }
   ],
   "source": [
    "plt.scatter(np.repeat(GT, num_samples, -1).flatten() * 1e20, Z.flatten() * 1e20)\n",
    "plt.axline((0, 0), slope=1)\n",
    "plt.show()\n"
   ]
  },
  {
   "cell_type": "code",
   "execution_count": null,
   "id": "339c32eb",
   "metadata": {},
   "outputs": [],
   "source": []
  }
 ],
 "metadata": {
  "interpreter": {
   "hash": "dee7c62952cd92a9f95e3a9cf2ab80d8434e980a2c662f49192ac9761f392c34"
  },
  "kernelspec": {
   "display_name": "Python 3.8.6 64-bit",
   "name": "python3"
  },
  "language_info": {
   "codemirror_mode": {
    "name": "ipython",
    "version": 3
   },
   "file_extension": ".py",
   "mimetype": "text/x-python",
   "name": "python",
   "nbconvert_exporter": "python",
   "pygments_lexer": "ipython3",
   "version": "3.8.6"
  }
 },
 "nbformat": 4,
 "nbformat_minor": 5
}
