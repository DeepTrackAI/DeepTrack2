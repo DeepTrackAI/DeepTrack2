{
  "cells": [
    {
      "cell_type": "code",
      "execution_count": 1,
      "id": "5def3ff6",
      "metadata": {
        "execution": {
          "iopub.execute_input": "2022-06-29T20:22:59.101631Z",
          "iopub.status.busy": "2022-06-29T20:22:59.101131Z",
          "iopub.status.idle": "2022-06-29T20:23:00.548711Z",
          "shell.execute_reply": "2022-06-29T20:23:00.548211Z"
        }
      },
      "outputs": [
        {
          "name": "stdout",
          "output_type": "stream",
          "text": [
            "Requirement already satisfied: deeptrack in c:\\users\\gu\\deeptrack\\deeptrack-2.0 (1.2.0)\n",
            "Requirement already satisfied: tensorflow in c:\\users\\gu\\appdata\\local\\programs\\python\\python310\\lib\\site-packages (from deeptrack) (2.9.1)\n",
            "Requirement already satisfied: tensorflow-probability in c:\\users\\gu\\appdata\\local\\programs\\python\\python310\\lib\\site-packages (from deeptrack) (0.17.0)\n",
            "Requirement already satisfied: numpy in c:\\users\\gu\\appdata\\local\\programs\\python\\python310\\lib\\site-packages (from deeptrack) (1.23.0)\n",
            "Requirement already satisfied: scipy in c:\\users\\gu\\appdata\\local\\programs\\python\\python310\\lib\\site-packages (from deeptrack) (1.8.1)\n",
            "Requirement already satisfied: pint in c:\\users\\gu\\appdata\\local\\programs\\python\\python310\\lib\\site-packages (from deeptrack) (0.19.2)\n",
            "Requirement already satisfied: scikit-image>=0.18.0 in c:\\users\\gu\\appdata\\local\\programs\\python\\python310\\lib\\site-packages (from deeptrack) (0.19.3)\n",
            "Requirement already satisfied: pydeepimagej in c:\\users\\gu\\appdata\\local\\programs\\python\\python310\\lib\\site-packages (from deeptrack) (1.1.0)\n",
            "Requirement already satisfied: more_itertools in c:\\users\\gu\\appdata\\local\\programs\\python\\python310\\lib\\site-packages (from deeptrack) (8.13.0)\n",
            "Requirement already satisfied: tensorflow_addons in c:\\users\\gu\\appdata\\local\\programs\\python\\python310\\lib\\site-packages (from deeptrack) (0.17.1)\n",
            "Requirement already satisfied: PyWavelets>=1.1.1 in c:\\users\\gu\\appdata\\local\\programs\\python\\python310\\lib\\site-packages (from scikit-image>=0.18.0->deeptrack) (1.3.0)\n",
            "Requirement already satisfied: pillow!=7.1.0,!=7.1.1,!=8.3.0,>=6.1.0 in c:\\users\\gu\\appdata\\local\\programs\\python\\python310\\lib\\site-packages (from scikit-image>=0.18.0->deeptrack) (9.1.1)\n",
            "Requirement already satisfied: networkx>=2.2 in c:\\users\\gu\\appdata\\local\\programs\\python\\python310\\lib\\site-packages (from scikit-image>=0.18.0->deeptrack) (2.8.4)\n",
            "Requirement already satisfied: packaging>=20.0 in c:\\users\\gu\\appdata\\local\\programs\\python\\python310\\lib\\site-packages (from scikit-image>=0.18.0->deeptrack) (21.3)\n",
            "Requirement already satisfied: tifffile>=2019.7.26 in c:\\users\\gu\\appdata\\local\\programs\\python\\python310\\lib\\site-packages (from scikit-image>=0.18.0->deeptrack) (2022.5.4)\n",
            "Requirement already satisfied: imageio>=2.4.1 in c:\\users\\gu\\appdata\\local\\programs\\python\\python310\\lib\\site-packages (from scikit-image>=0.18.0->deeptrack) (2.19.3)\n",
            "Requirement already satisfied: opt-einsum>=2.3.2 in c:\\users\\gu\\appdata\\local\\programs\\python\\python310\\lib\\site-packages (from tensorflow->deeptrack) (3.3.0)\n",
            "Requirement already satisfied: h5py>=2.9.0 in c:\\users\\gu\\appdata\\local\\programs\\python\\python310\\lib\\site-packages (from tensorflow->deeptrack) (3.7.0)\n",
            "Requirement already satisfied: keras<2.10.0,>=2.9.0rc0 in c:\\users\\gu\\appdata\\local\\programs\\python\\python310\\lib\\site-packages (from tensorflow->deeptrack) (2.9.0)\n",
            "Requirement already satisfied: termcolor>=1.1.0 in c:\\users\\gu\\appdata\\local\\programs\\python\\python310\\lib\\site-packages (from tensorflow->deeptrack) (1.1.0)\n",
            "Requirement already satisfied: typing-extensions>=3.6.6 in c:\\users\\gu\\appdata\\local\\programs\\python\\python310\\lib\\site-packages (from tensorflow->deeptrack) (4.2.0)\n",
            "Requirement already satisfied: wrapt>=1.11.0 in c:\\users\\gu\\appdata\\local\\programs\\python\\python310\\lib\\site-packages (from tensorflow->deeptrack) (1.14.1)\n",
            "Requirement already satisfied: libclang>=13.0.0 in c:\\users\\gu\\appdata\\local\\programs\\python\\python310\\lib\\site-packages (from tensorflow->deeptrack) (14.0.1)\n",
            "Requirement already satisfied: flatbuffers<2,>=1.12 in c:\\users\\gu\\appdata\\local\\programs\\python\\python310\\lib\\site-packages (from tensorflow->deeptrack) (1.12)\n",
            "Requirement already satisfied: six>=1.12.0 in c:\\users\\gu\\appdata\\local\\programs\\python\\python310\\lib\\site-packages (from tensorflow->deeptrack) (1.16.0)\n",
            "Requirement already satisfied: tensorboard<2.10,>=2.9 in c:\\users\\gu\\appdata\\local\\programs\\python\\python310\\lib\\site-packages (from tensorflow->deeptrack) (2.9.1)\n",
            "Requirement already satisfied: keras-preprocessing>=1.1.1 in c:\\users\\gu\\appdata\\local\\programs\\python\\python310\\lib\\site-packages (from tensorflow->deeptrack) (1.1.2)\n",
            "Requirement already satisfied: google-pasta>=0.1.1 in c:\\users\\gu\\appdata\\local\\programs\\python\\python310\\lib\\site-packages (from tensorflow->deeptrack) (0.2.0)\n",
            "Requirement already satisfied: absl-py>=1.0.0 in c:\\users\\gu\\appdata\\local\\programs\\python\\python310\\lib\\site-packages (from tensorflow->deeptrack) (1.1.0)\n",
            "Requirement already satisfied: gast<=0.4.0,>=0.2.1 in c:\\users\\gu\\appdata\\local\\programs\\python\\python310\\lib\\site-packages (from tensorflow->deeptrack) (0.4.0)\n",
            "Requirement already satisfied: tensorflow-io-gcs-filesystem>=0.23.1 in c:\\users\\gu\\appdata\\local\\programs\\python\\python310\\lib\\site-packages (from tensorflow->deeptrack) (0.26.0)\n",
            "Requirement already satisfied: grpcio<2.0,>=1.24.3 in c:\\users\\gu\\appdata\\local\\programs\\python\\python310\\lib\\site-packages (from tensorflow->deeptrack) (1.47.0)\n",
            "Requirement already satisfied: astunparse>=1.6.0 in c:\\users\\gu\\appdata\\local\\programs\\python\\python310\\lib\\site-packages (from tensorflow->deeptrack) (1.6.3)\n",
            "Requirement already satisfied: protobuf<3.20,>=3.9.2 in c:\\users\\gu\\appdata\\local\\programs\\python\\python310\\lib\\site-packages (from tensorflow->deeptrack) (3.19.4)\n",
            "Requirement already satisfied: setuptools in c:\\users\\gu\\appdata\\local\\programs\\python\\python310\\lib\\site-packages (from tensorflow->deeptrack) (58.1.0)\n",
            "Requirement already satisfied: tensorflow-estimator<2.10.0,>=2.9.0rc0 in c:\\users\\gu\\appdata\\local\\programs\\python\\python310\\lib\\site-packages (from tensorflow->deeptrack) (2.9.0)\n",
            "Requirement already satisfied: typeguard>=2.7 in c:\\users\\gu\\appdata\\local\\programs\\python\\python310\\lib\\site-packages (from tensorflow_addons->deeptrack) (2.13.3)\n",
            "Requirement already satisfied: decorator in c:\\users\\gu\\appdata\\local\\programs\\python\\python310\\lib\\site-packages (from tensorflow-probability->deeptrack) (5.1.1)\n",
            "Requirement already satisfied: dm-tree in c:\\users\\gu\\appdata\\local\\programs\\python\\python310\\lib\\site-packages (from tensorflow-probability->deeptrack) (0.1.7)\n",
            "Requirement already satisfied: cloudpickle>=1.3 in c:\\users\\gu\\appdata\\local\\programs\\python\\python310\\lib\\site-packages (from tensorflow-probability->deeptrack) (2.1.0)\n",
            "Requirement already satisfied: wheel<1.0,>=0.23.0 in c:\\users\\gu\\appdata\\local\\programs\\python\\python310\\lib\\site-packages (from astunparse>=1.6.0->tensorflow->deeptrack) (0.37.1)\n",
            "Requirement already satisfied: pyparsing!=3.0.5,>=2.0.2 in c:\\users\\gu\\appdata\\local\\programs\\python\\python310\\lib\\site-packages (from packaging>=20.0->scikit-image>=0.18.0->deeptrack) (3.0.9)\n",
            "Requirement already satisfied: requests<3,>=2.21.0 in c:\\users\\gu\\appdata\\local\\programs\\python\\python310\\lib\\site-packages (from tensorboard<2.10,>=2.9->tensorflow->deeptrack) (2.28.0)\n",
            "Requirement already satisfied: tensorboard-data-server<0.7.0,>=0.6.0 in c:\\users\\gu\\appdata\\local\\programs\\python\\python310\\lib\\site-packages (from tensorboard<2.10,>=2.9->tensorflow->deeptrack) (0.6.1)\n",
            "Requirement already satisfied: werkzeug>=1.0.1 in c:\\users\\gu\\appdata\\local\\programs\\python\\python310\\lib\\site-packages (from tensorboard<2.10,>=2.9->tensorflow->deeptrack) (2.1.2)\n",
            "Requirement already satisfied: markdown>=2.6.8 in c:\\users\\gu\\appdata\\local\\programs\\python\\python310\\lib\\site-packages (from tensorboard<2.10,>=2.9->tensorflow->deeptrack) (3.3.7)\n",
            "Requirement already satisfied: google-auth<3,>=1.6.3 in c:\\users\\gu\\appdata\\local\\programs\\python\\python310\\lib\\site-packages (from tensorboard<2.10,>=2.9->tensorflow->deeptrack) (2.9.0)\n",
            "Requirement already satisfied: tensorboard-plugin-wit>=1.6.0 in c:\\users\\gu\\appdata\\local\\programs\\python\\python310\\lib\\site-packages (from tensorboard<2.10,>=2.9->tensorflow->deeptrack) (1.8.1)\n",
            "Requirement already satisfied: google-auth-oauthlib<0.5,>=0.4.1 in c:\\users\\gu\\appdata\\local\\programs\\python\\python310\\lib\\site-packages (from tensorboard<2.10,>=2.9->tensorflow->deeptrack) (0.4.6)\n",
            "Requirement already satisfied: cachetools<6.0,>=2.0.0 in c:\\users\\gu\\appdata\\local\\programs\\python\\python310\\lib\\site-packages (from google-auth<3,>=1.6.3->tensorboard<2.10,>=2.9->tensorflow->deeptrack) (5.2.0)\n",
            "Requirement already satisfied: pyasn1-modules>=0.2.1 in c:\\users\\gu\\appdata\\local\\programs\\python\\python310\\lib\\site-packages (from google-auth<3,>=1.6.3->tensorboard<2.10,>=2.9->tensorflow->deeptrack) (0.2.8)\n",
            "Requirement already satisfied: rsa<5,>=3.1.4 in c:\\users\\gu\\appdata\\local\\programs\\python\\python310\\lib\\site-packages (from google-auth<3,>=1.6.3->tensorboard<2.10,>=2.9->tensorflow->deeptrack) (4.8)\n",
            "Requirement already satisfied: requests-oauthlib>=0.7.0 in c:\\users\\gu\\appdata\\local\\programs\\python\\python310\\lib\\site-packages (from google-auth-oauthlib<0.5,>=0.4.1->tensorboard<2.10,>=2.9->tensorflow->deeptrack) (1.3.1)\n",
            "Requirement already satisfied: idna<4,>=2.5 in c:\\users\\gu\\appdata\\local\\programs\\python\\python310\\lib\\site-packages (from requests<3,>=2.21.0->tensorboard<2.10,>=2.9->tensorflow->deeptrack) (3.3)\n",
            "Requirement already satisfied: charset-normalizer~=2.0.0 in c:\\users\\gu\\appdata\\local\\programs\\python\\python310\\lib\\site-packages (from requests<3,>=2.21.0->tensorboard<2.10,>=2.9->tensorflow->deeptrack) (2.0.12)\n",
            "Requirement already satisfied: urllib3<1.27,>=1.21.1 in c:\\users\\gu\\appdata\\local\\programs\\python\\python310\\lib\\site-packages (from requests<3,>=2.21.0->tensorboard<2.10,>=2.9->tensorflow->deeptrack) (1.26.9)\n",
            "Requirement already satisfied: certifi>=2017.4.17 in c:\\users\\gu\\appdata\\local\\programs\\python\\python310\\lib\\site-packages (from requests<3,>=2.21.0->tensorboard<2.10,>=2.9->tensorflow->deeptrack) (2022.6.15)\n",
            "Requirement already satisfied: pyasn1<0.5.0,>=0.4.6 in c:\\users\\gu\\appdata\\local\\programs\\python\\python310\\lib\\site-packages (from pyasn1-modules>=0.2.1->google-auth<3,>=1.6.3->tensorboard<2.10,>=2.9->tensorflow->deeptrack) (0.4.8)\n",
            "Requirement already satisfied: oauthlib>=3.0.0 in c:\\users\\gu\\appdata\\local\\programs\\python\\python310\\lib\\site-packages (from requests-oauthlib>=0.7.0->google-auth-oauthlib<0.5,>=0.4.1->tensorboard<2.10,>=2.9->tensorflow->deeptrack) (3.2.0)\n"
          ]
        }
      ],
      "source": [
        "%matplotlib inline\n",
        "!pip install deeptrack"
      ]
    },
    {
      "cell_type": "markdown",
      "id": "fdb17053",
      "metadata": {},
      "source": [
        "<!--<badge>--><a href=\"https://colab.research.google.com/github/softmatterlab/DeepTrack-2.0/blob/develop/examples/LodeSTAR/08.measure_mass_simulated.ipynb\" target=\"_parent\"><img src=\"https://colab.research.google.com/assets/colab-badge.svg\" alt=\"Open In Colab\"/></a><!--</badge>-->"
      ]
    },
    {
      "cell_type": "code",
      "execution_count": 2,
      "id": "142e8f7f",
      "metadata": {
        "execution": {
          "iopub.execute_input": "2022-06-29T20:23:00.551211Z",
          "iopub.status.busy": "2022-06-29T20:23:00.551211Z",
          "iopub.status.idle": "2022-06-29T20:23:04.182210Z",
          "shell.execute_reply": "2022-06-29T20:23:04.181711Z"
        }
      },
      "outputs": [],
      "source": [
        "import random\n",
        "\n",
        "import deeptrack as dt\n",
        "import deeptrack.extras\n",
        "import numpy as np\n",
        "import skimage.color\n",
        "import matplotlib.pyplot as plt\n",
        "import tensorflow as tf\n",
        "import scipy.io"
      ]
    },
    {
      "cell_type": "code",
      "execution_count": 3,
      "id": "739e8436",
      "metadata": {
        "execution": {
          "iopub.execute_input": "2022-06-29T20:23:04.186211Z",
          "iopub.status.busy": "2022-06-29T20:23:04.186211Z",
          "iopub.status.idle": "2022-06-29T20:23:04.191711Z",
          "shell.execute_reply": "2022-06-29T20:23:04.191211Z"
        }
      },
      "outputs": [],
      "source": [
        "import numpy as np\n",
        "import matplotlib.pyplot as plt\n",
        "\n",
        "crop_size = 40\n",
        "padding = 32\n",
        "wavelength = 633e-9 \n",
        "pixel_size = 114e-9\n",
        "crop_propagation_forward = dt.get_propagation_matrix((crop_size + 2 * padding, ) * 2, 1e-7, pixel_size * 2, wavelength)\n",
        "crop_propagation_backward = dt.get_propagation_matrix((crop_size + 2 * padding, ) * 2, -1e-7, pixel_size * 2, wavelength)\n",
        "\n",
        "particle = dt.MieSphere(\n",
        "    radius=lambda: 228e-9,\n",
        "    refractive_index=lambda: 1.58,\n",
        "    z=lambda: 0,\n",
        "    position=(crop_size / 2,) * 2,\n",
        "    L=100,\n",
        ")\n",
        "\n",
        "optics = dt.Brightfield(\n",
        "    NA=1.3,\n",
        "    magnification=1,\n",
        "    wavelength=633e-9,\n",
        "    resolution=2*1.14e-7,\n",
        "    illumination=dt.Gaussian(sigma=0.005) >> dt.Gaussian(sigma=0.005j), \n",
        "    return_field=True, \n",
        "    output_region=(0, 0, 40, 40)\n",
        ")\n",
        "\n",
        "imaged_particle = optics(particle) \n",
        "training_data = (imaged_particle >> dt.Real()) & (imaged_particle >> dt.Imag())\n",
        "training_data = training_data >> dt.Merge(lambda: lambda x: np.concatenate( [np.array(_x) for _x in x], axis=-1 ))"
      ]
    },
    {
      "cell_type": "code",
      "execution_count": 4,
      "id": "1bfbfd07",
      "metadata": {
        "execution": {
          "iopub.execute_input": "2022-06-29T20:23:04.196712Z",
          "iopub.status.busy": "2022-06-29T20:23:04.196712Z",
          "iopub.status.idle": "2022-06-29T20:23:04.198711Z",
          "shell.execute_reply": "2022-06-29T20:23:04.199211Z"
        }
      },
      "outputs": [],
      "source": [
        "args = dt.Arguments(\n",
        "    translate=lambda: np.random.randn(2) * 1,\n",
        "    rotate=lambda:np.random.uniform(0, np.pi*2),\n",
        "    z=lambda: np.random.randint(-4, 4),\n",
        "    rescale=lambda: 10**np.random.uniform(-2, 2)\n",
        ")\n",
        "\n",
        "group = ( \n",
        "     dt.Affine(rotate=args.rotate) \n",
        "    >>dt.Affine(translate=args.translate) \n",
        "    >> dt.Rescale(args.rescale) \n",
        "    >> dt.FourierTransform() \n",
        "    >> dt.FourierTransformTransformation(crop_propagation_forward, crop_propagation_backward, args.z) \n",
        "    >> dt.InverseFourierTransform() \n",
        "    >> dt.Gaussian(sigma=lambda: np.random.rand() * 0.005)\n",
        ")\n",
        "\n",
        "equivariance = (\n",
        "     dt.models.lodestar.Rotational2DEquivariance(args.rotate)\n",
        "    >>dt.models.lodestar.TranslationalEquivariance(args.translate)\n",
        "    \n",
        "    >> dt.models.lodestar.Equivariance(1, lambda arg: np.log(arg), arg = args.rescale, indexes=2)\n",
        ")\n",
        "\n",
        "\n"
      ]
    },
    {
      "cell_type": "code",
      "execution_count": 5,
      "id": "5fa4c399",
      "metadata": {
        "execution": {
          "iopub.execute_input": "2022-06-29T20:23:04.205711Z",
          "iopub.status.busy": "2022-06-29T20:23:04.205210Z",
          "iopub.status.idle": "2022-06-29T20:23:05.031711Z",
          "shell.execute_reply": "2022-06-29T20:23:05.031711Z"
        }
      },
      "outputs": [
        {
          "data": {
            "text/plain": [
              "<AxesSubplot:>"
            ]
          },
          "execution_count": 1,
          "metadata": {},
          "output_type": "execute_result"
        },
        {
          "data": {
            "image/png": "[encoded data removed]",
            "text/plain": [
              "<Figure size 432x288 with 1 Axes>"
            ]
          },
          "metadata": {
            "needs_background": "light"
          },
          "output_type": "display_data"
        }
      ],
      "source": [
        "val = training_data.update()()\n",
        "training_set = dt.Value(lambda: np.array(val)) \n",
        "(training_set >> group).update().plot()"
      ]
    },
    {
      "cell_type": "code",
      "execution_count": 6,
      "id": "1bf0c230",
      "metadata": {
        "execution": {
          "iopub.execute_input": "2022-06-29T20:23:05.034711Z",
          "iopub.status.busy": "2022-06-29T20:23:05.034212Z",
          "iopub.status.idle": "2022-06-29T20:23:05.036711Z",
          "shell.execute_reply": "2022-06-29T20:23:05.036711Z"
        }
      },
      "outputs": [],
      "source": [
        "generator = dt.models.lodestar.LodeSTARGenerator(\n",
        "    training_set,\n",
        "    3,\n",
        "    (group, equivariance), \n",
        "    batch_size=8, \n",
        "    min_data_size=200, \n",
        "    max_data_size=201\n",
        ")\n",
        "\n"
      ]
    },
    {
      "cell_type": "code",
      "execution_count": 7,
      "id": "53c86817",
      "metadata": {
        "execution": {
          "iopub.execute_input": "2022-06-29T20:23:05.039711Z",
          "iopub.status.busy": "2022-06-29T20:23:05.039211Z",
          "iopub.status.idle": "2022-06-29T20:24:12.408452Z",
          "shell.execute_reply": "2022-06-29T20:24:12.407953Z"
        }
      },
      "outputs": [
        {
          "name": "stdout",
          "output_type": "stream",
          "text": [
            "Generating 200 / 200 samples before starting training\n",
            "Epoch 1/50\n",
            "100/100 [==============================] - 3s 10ms/step - total_loss: 2.6453 - consistency_loss: 1.5589\n",
            "Epoch 2/50\n",
            "100/100 [==============================] - 1s 10ms/step - total_loss: 2.1863 - consistency_loss: 1.1794\n",
            "Epoch 3/50\n",
            "100/100 [==============================] - 1s 10ms/step - total_loss: 1.5664 - consistency_loss: 0.7550\n",
            "Epoch 4/50\n",
            "100/100 [==============================] - 1s 10ms/step - total_loss: 1.5641 - consistency_loss: 0.7315\n",
            "Epoch 5/50\n",
            "100/100 [==============================] - 1s 10ms/step - total_loss: 0.6796 - consistency_loss: 0.3006\n",
            "Epoch 6/50\n",
            "100/100 [==============================] - 1s 10ms/step - total_loss: 0.4060 - consistency_loss: 0.1780\n",
            "Epoch 7/50\n",
            "100/100 [==============================] - 1s 10ms/step - total_loss: 0.3223 - consistency_loss: 0.1189\n",
            "Epoch 8/50\n",
            "100/100 [==============================] - 1s 9ms/step - total_loss: 0.3491 - consistency_loss: 0.1168\n",
            "Epoch 9/50\n",
            "100/100 [==============================] - 1s 9ms/step - total_loss: 0.2731 - consistency_loss: 0.0784\n",
            "Epoch 10/50\n",
            "100/100 [==============================] - 1s 10ms/step - total_loss: 0.2117 - consistency_loss: 0.0500\n",
            "Epoch 11/50\n",
            "100/100 [==============================] - 1s 9ms/step - total_loss: 0.2045 - consistency_loss: 0.0405\n",
            "Epoch 12/50\n",
            "100/100 [==============================] - 1s 9ms/step - total_loss: 0.2041 - consistency_loss: 0.0409\n",
            "Epoch 13/50\n",
            "100/100 [==============================] - 1s 9ms/step - total_loss: 0.2066 - consistency_loss: 0.0553\n",
            "Epoch 14/50\n",
            "100/100 [==============================] - 1s 10ms/step - total_loss: 0.1754 - consistency_loss: 0.0339\n",
            "Epoch 15/50\n",
            "100/100 [==============================] - 1s 10ms/step - total_loss: 0.1777 - consistency_loss: 0.0303\n",
            "Epoch 16/50\n",
            "100/100 [==============================] - 1s 9ms/step - total_loss: 0.1646 - consistency_loss: 0.0287\n",
            "Epoch 17/50\n",
            "100/100 [==============================] - 1s 9ms/step - total_loss: 0.1551 - consistency_loss: 0.0231\n",
            "Epoch 18/50\n",
            "100/100 [==============================] - 1s 9ms/step - total_loss: 0.1491 - consistency_loss: 0.0237\n",
            "Epoch 19/50\n",
            "100/100 [==============================] - 1s 9ms/step - total_loss: 0.1536 - consistency_loss: 0.0224\n",
            "Epoch 20/50\n",
            "100/100 [==============================] - 1s 10ms/step - total_loss: 0.2045 - consistency_loss: 0.0470\n",
            "Epoch 21/50\n",
            "100/100 [==============================] - 1s 9ms/step - total_loss: 0.1993 - consistency_loss: 0.0412\n",
            "Epoch 22/50\n",
            "100/100 [==============================] - 1s 10ms/step - total_loss: 0.1422 - consistency_loss: 0.0215\n",
            "Epoch 23/50\n",
            "100/100 [==============================] - 1s 10ms/step - total_loss: 0.1370 - consistency_loss: 0.0205\n",
            "Epoch 24/50\n",
            "100/100 [==============================] - 1s 10ms/step - total_loss: 0.1382 - consistency_loss: 0.0212\n",
            "Epoch 25/50\n",
            "100/100 [==============================] - 1s 10ms/step - total_loss: 0.1363 - consistency_loss: 0.0203\n",
            "Epoch 26/50\n",
            "100/100 [==============================] - 1s 10ms/step - total_loss: 0.1336 - consistency_loss: 0.0183\n",
            "Epoch 27/50\n",
            "100/100 [==============================] - 1s 9ms/step - total_loss: 0.1347 - consistency_loss: 0.0184\n",
            "Epoch 28/50\n",
            "100/100 [==============================] - 1s 10ms/step - total_loss: 0.1296 - consistency_loss: 0.0180\n",
            "Epoch 29/50\n",
            "100/100 [==============================] - 1s 10ms/step - total_loss: 0.1307 - consistency_loss: 0.0198\n",
            "Epoch 30/50\n",
            "100/100 [==============================] - 1s 9ms/step - total_loss: 0.1444 - consistency_loss: 0.0251\n",
            "Epoch 31/50\n",
            "100/100 [==============================] - 1s 10ms/step - total_loss: 0.1418 - consistency_loss: 0.0215\n",
            "Epoch 32/50\n",
            "100/100 [==============================] - 1s 10ms/step - total_loss: 0.1402 - consistency_loss: 0.0186\n",
            "Epoch 33/50\n",
            "100/100 [==============================] - 1s 10ms/step - total_loss: 0.1407 - consistency_loss: 0.0197\n",
            "Epoch 34/50\n",
            "100/100 [==============================] - 1s 10ms/step - total_loss: 0.1426 - consistency_loss: 0.0177\n",
            "Epoch 35/50\n",
            "100/100 [==============================] - 1s 10ms/step - total_loss: 0.1266 - consistency_loss: 0.0146\n",
            "Epoch 36/50\n",
            "100/100 [==============================] - 1s 10ms/step - total_loss: 0.1261 - consistency_loss: 0.0149\n",
            "Epoch 37/50\n",
            "100/100 [==============================] - 1s 10ms/step - total_loss: 0.1211 - consistency_loss: 0.0155\n",
            "Epoch 38/50\n",
            "100/100 [==============================] - 1s 10ms/step - total_loss: 0.1260 - consistency_loss: 0.0167\n",
            "Epoch 39/50\n",
            "100/100 [==============================] - 1s 9ms/step - total_loss: 0.1272 - consistency_loss: 0.0157\n",
            "Epoch 40/50\n",
            "100/100 [==============================] - 1s 10ms/step - total_loss: 0.1137 - consistency_loss: 0.0163\n",
            "Epoch 41/50\n",
            "100/100 [==============================] - 1s 10ms/step - total_loss: 0.1277 - consistency_loss: 0.0210\n",
            "Epoch 42/50\n",
            "100/100 [==============================] - 1s 9ms/step - total_loss: 0.1149 - consistency_loss: 0.0188\n",
            "Epoch 43/50\n",
            "100/100 [==============================] - 1s 9ms/step - total_loss: 0.1281 - consistency_loss: 0.0159\n",
            "Epoch 44/50\n",
            "100/100 [==============================] - 1s 9ms/step - total_loss: 0.1345 - consistency_loss: 0.0167\n",
            "Epoch 45/50\n",
            "100/100 [==============================] - 1s 10ms/step - total_loss: 0.1150 - consistency_loss: 0.0127\n",
            "Epoch 46/50\n",
            "100/100 [==============================] - 1s 10ms/step - total_loss: 0.1152 - consistency_loss: 0.0130\n",
            "Epoch 47/50\n",
            "100/100 [==============================] - 1s 10ms/step - total_loss: 0.1268 - consistency_loss: 0.0153\n",
            "Epoch 48/50\n",
            "100/100 [==============================] - 1s 9ms/step - total_loss: 0.1109 - consistency_loss: 0.0125\n",
            "Epoch 49/50\n",
            "100/100 [==============================] - 1s 9ms/step - total_loss: 0.1158 - consistency_loss: 0.0116\n",
            "Epoch 50/50\n",
            "100/100 [==============================] - 1s 10ms/step - total_loss: 0.1161 - consistency_loss: 0.0133\n"
          ]
        }
      ],
      "source": [
        "\n",
        "with generator:\n",
        "    model = dt.models.LodeSTAR(input_shape=(None, None, 2), num_outputs=3)\n",
        "    model.compile(loss=\"mae\", optimizer=tf.keras.optimizers.Adam())\n",
        "    model.fit(generator, epochs=50, steps_per_epoch=100)\n"
      ]
    },
    {
      "cell_type": "code",
      "execution_count": 8,
      "id": "bb25a14a",
      "metadata": {
        "execution": {
          "iopub.execute_input": "2022-06-29T20:24:12.415953Z",
          "iopub.status.busy": "2022-06-29T20:24:12.415452Z",
          "iopub.status.idle": "2022-06-29T20:24:52.866953Z",
          "shell.execute_reply": "2022-06-29T20:24:52.866953Z"
        }
      },
      "outputs": [],
      "source": [
        "import itertools\n",
        "import scipy\n",
        "grid_x = 8\n",
        "radius_range = np.linspace(130e-9, 300e-9, grid_x)\n",
        "refractive_index_range = np.linspace(1.4, 1.7, grid_x)\n",
        "\n",
        "num_samples = 10\n",
        "\n",
        "data_dict = {}\n",
        "\n",
        "for radius, refractive_index in itertools.product(radius_range, refractive_index_range):\n",
        "\n",
        "    for _ in range(num_samples):\n",
        "        image = training_data.update()(radius=radius, refractive_index=refractive_index, z=np.random.uniform(-1, 1))\n",
        "\n",
        "        if (radius, refractive_index) not in data_dict:\n",
        "            data_dict[(radius, refractive_index)] = []\n",
        "\n",
        "        data_dict[(radius, refractive_index)].append(image)  "
      ]
    },
    {
      "cell_type": "code",
      "execution_count": 9,
      "id": "c798d764",
      "metadata": {
        "execution": {
          "iopub.execute_input": "2022-06-29T20:24:52.870453Z",
          "iopub.status.busy": "2022-06-29T20:24:52.869952Z",
          "iopub.status.idle": "2022-06-29T20:24:54.978454Z",
          "shell.execute_reply": "2022-06-29T20:24:54.978454Z"
        }
      },
      "outputs": [],
      "source": [
        "error_dict = {}\n",
        "for key, value in data_dict.items():\n",
        "    preds = model.predict_and_pool(np.array(value))\n",
        "    error_dict[key] = np.exp(preds[:, 2])\n",
        "\n",
        "RI, R = np.meshgrid(refractive_index_range, radius_range)\n",
        "\n",
        "GT = R**3 * (RI ** 2 - 1.33 ** 2) / (RI ** 2 + 1.33 ** 2 * 2)\n",
        "GT = GT[..., np.newaxis]"
      ]
    },
    {
      "cell_type": "code",
      "execution_count": 10,
      "id": "d88c0731",
      "metadata": {
        "execution": {
          "iopub.execute_input": "2022-06-29T20:24:54.980952Z",
          "iopub.status.busy": "2022-06-29T20:24:54.980952Z",
          "iopub.status.idle": "2022-06-29T20:24:54.983453Z",
          "shell.execute_reply": "2022-06-29T20:24:54.982953Z"
        }
      },
      "outputs": [],
      "source": [
        "Z = np.reshape(np.array(list(error_dict.values())), (grid_x, grid_x, -1))\n",
        "\n",
        "norm_f = GT[4, 4] / np.mean(Z[4, 4]) \n",
        "Z = Z * norm_f"
      ]
    },
    {
      "cell_type": "code",
      "execution_count": 11,
      "id": "f97641fd",
      "metadata": {
        "execution": {
          "iopub.execute_input": "2022-06-29T20:24:54.994453Z",
          "iopub.status.busy": "2022-06-29T20:24:54.985452Z",
          "iopub.status.idle": "2022-06-29T20:24:55.080452Z",
          "shell.execute_reply": "2022-06-29T20:24:55.079953Z"
        }
      },
      "outputs": [
        {
          "data": {
            "image/png": "[encoded data removed]",
            "text/plain": [
              "<Figure size 432x288 with 1 Axes>"
            ]
          },
          "metadata": {
            "needs_background": "light"
          },
          "output_type": "display_data"
        }
      ],
      "source": [
        "plt.scatter(np.repeat(GT, num_samples, -1).flatten() * 1e20, Z.flatten() * 1e20)\n",
        "plt.axline((0, 0), slope=1)\n",
        "plt.show()\n"
      ]
    },
    {
      "cell_type": "code",
      "execution_count": 12,
      "id": "339c32eb",
      "metadata": {
        "execution": {
          "iopub.execute_input": "2022-06-29T20:24:55.083953Z",
          "iopub.status.busy": "2022-06-29T20:24:55.083953Z",
          "iopub.status.idle": "2022-06-29T20:24:55.204953Z",
          "shell.execute_reply": "2022-06-29T20:24:55.204453Z"
        }
      },
      "outputs": [
        {
          "data": {
            "text/plain": [
              "<matplotlib.colorbar.Colorbar at 0x1f6ec630340>"
            ]
          },
          "execution_count": 1,
          "metadata": {},
          "output_type": "execute_result"
        },
        {
          "data": {
            "image/png": "[encoded data removed]",
            "text/plain": [
              "<Figure size 327.6x280.8 with 2 Axes>"
            ]
          },
          "metadata": {
            "needs_background": "light"
          },
          "output_type": "display_data"
        }
      ],
      "source": [
        "import scipy\n",
        "plt.figure(figsize=(3.5 * 1.3, 3 * 1.3))\n",
        "err = np.abs(Z - GT).mean(-1) / np.abs(GT).mean(-1) * 100\n",
        "err = scipy.ndimage.zoom(err, 3)\n",
        "err = dt.GaussianBlur(2)(err)\n",
        "\n",
        "plt.contourf(\n",
        "    scipy.ndimage.zoom(R, 3) * 1e9,\n",
        "    scipy.ndimage.zoom(RI - 1.33, 3),\n",
        "    err.squeeze(),\n",
        "    cmap=\"Reds\",\n",
        "    levels=np.linspace(0, 25, 11)\n",
        ")\n",
        "plt.colorbar()"
      ]
    }
  ],
  "metadata": {
    "interpreter": {
      "hash": "dee7c62952cd92a9f95e3a9cf2ab80d8434e980a2c662f49192ac9761f392c34"
    },
    "kernelspec": {
      "display_name": "Python 3.8.6 64-bit",
      "name": "python3"
    },
    "language_info": {
      "codemirror_mode": {
        "name": "ipython",
        "version": 3
      },
      "file_extension": ".py",
      "mimetype": "text/x-python",
      "name": "python",
      "nbconvert_exporter": "python",
      "pygments_lexer": "ipython3",
      "version": "3.8.6"
    }
  },
  "nbformat": 4,
  "nbformat_minor": 5
}
