{
 "cells": [
  {
   "cell_type": "code",
   "execution_count": 27,
   "id": "5def3ff6",
   "metadata": {},
   "outputs": [],
   "source": [
    "%matplotlib inline\n",
    "import sys\n",
    "sys.path.insert(0, \"../..\")"
   ]
  },
  {
   "cell_type": "code",
   "execution_count": 28,
   "id": "142e8f7f",
   "metadata": {},
   "outputs": [],
   "source": [
    "import random\n",
    "\n",
    "import deeptrack as dt\n",
    "import deeptrack.extras\n",
    "import numpy as np\n",
    "import skimage.color\n",
    "import matplotlib.pyplot as plt\n",
    "import tensorflow as tf\n",
    "import scipy.io"
   ]
  },
  {
   "cell_type": "code",
   "execution_count": 29,
   "id": "739e8436",
   "metadata": {},
   "outputs": [],
   "source": [
    "import numpy as np\n",
    "import matplotlib.pyplot as plt\n",
    "\n",
    "crop_size = 40\n",
    "padding = 32\n",
    "wavelength = 633e-9 \n",
    "pixel_size = 114e-9\n",
    "crop_propagation_forward = dt.get_propagation_matrix((crop_size + 2 * padding, ) * 2, 1e-7, pixel_size * 2, wavelength)\n",
    "crop_propagation_backward = dt.get_propagation_matrix((crop_size + 2 * padding, ) * 2, -1e-7, pixel_size * 2, wavelength)\n",
    "\n",
    "particle = dt.MieSphere(\n",
    "    radius=lambda: 228e-9,\n",
    "    refractive_index=lambda: 1.58,\n",
    "    z=lambda: 0,\n",
    "    position=(crop_size / 2,) * 2,\n",
    "    L=100,\n",
    ")\n",
    "\n",
    "optics = dt.Brightfield(\n",
    "    NA=1.3,\n",
    "    magnification=1,\n",
    "    wavelength=633e-9,\n",
    "    resolution=2*1.14e-7,\n",
    "    illumination=dt.Gaussian(sigma=0.005) >> dt.Gaussian(sigma=0.005j), \n",
    "    return_field=True, \n",
    "    output_region=(0, 0, 40, 40)\n",
    ")\n",
    "\n",
    "imaged_particle = optics(particle) \n",
    "training_data = (imaged_particle >> dt.Real()) & (imaged_particle >> dt.Imag())\n",
    "training_data = training_data >> dt.Merge(lambda: lambda x: np.concatenate( [np.array(_x) for _x in x], axis=-1 ))"
   ]
  },
  {
   "cell_type": "code",
   "execution_count": 30,
   "id": "1bfbfd07",
   "metadata": {},
   "outputs": [],
   "source": [
    "args = dt.Arguments(\n",
    "    translate=lambda: np.random.randn(2) * 1,\n",
    "    rotate=lambda:np.random.uniform(0, np.pi*2),\n",
    "    z=lambda: np.random.randint(-4, 4),\n",
    "    rescale=lambda: 10**np.random.uniform(-2, 2)\n",
    ")\n",
    "\n",
    "group = ( \n",
    "     dt.Affine(rotate=args.rotate) \n",
    "    >>dt.Affine(translate=args.translate) \n",
    "    >> dt.Rescale(args.rescale) \n",
    "    >> dt.FourierTransform() \n",
    "    >> dt.FourierTransformTransformation(crop_propagation_forward, crop_propagation_backward, args.z) \n",
    "    >> dt.InverseFourierTransform() \n",
    "    >> dt.Gaussian(sigma=lambda: np.random.rand() * 0.005)\n",
    ")\n",
    "\n",
    "equivariance = (\n",
    "     dt.models.lodestar.Rotational2DEquivariance(args.rotate)\n",
    "    >>dt.models.lodestar.TranslationalEquivariance(args.translate)\n",
    "    \n",
    "    >> dt.models.lodestar.Equivariance(1, lambda arg: np.log(arg), arg = args.rescale, indexes=2)\n",
    ")\n",
    "\n",
    "\n"
   ]
  },
  {
   "cell_type": "code",
   "execution_count": 31,
   "id": "5fa4c399",
   "metadata": {},
   "outputs": [
    {
     "data": {
      "text/plain": [
       "<AxesSubplot:>"
      ]
     },
     "execution_count": 31,
     "metadata": {},
     "output_type": "execute_result"
    },
    {
     "data": {
      "image/png": "[encoded data removed]",
      "text/plain": [
       "<Figure size 432x288 with 1 Axes>"
      ]
     },
     "metadata": {
      "needs_background": "light"
     },
     "output_type": "display_data"
    }
   ],
   "source": [
    "val = training_data.update()()\n",
    "training_set = dt.Value(lambda: np.array(val)) \n",
    "(training_set >> group).update().plot()"
   ]
  },
  {
   "cell_type": "code",
   "execution_count": 32,
   "id": "1bf0c230",
   "metadata": {},
   "outputs": [],
   "source": [
    "generator = dt.models.lodestar.LodeSTARGenerator(\n",
    "    training_set,\n",
    "    3,\n",
    "    (group, equivariance), \n",
    "    batch_size=8, \n",
    "    min_data_size=200, \n",
    "    max_data_size=201\n",
    ")\n",
    "\n"
   ]
  },
  {
   "cell_type": "code",
   "execution_count": 33,
   "id": "53c86817",
   "metadata": {},
   "outputs": [
    {
     "name": "stdout",
     "output_type": "stream",
     "text": [
      "Generating 201 / 200 samples before starting training\n",
      "Epoch 1/50\n",
      "100/100 [==============================] - 3s 11ms/step - total_loss: 2.7148 - consistency_loss: 1.5351\n",
      "Epoch 2/50\n",
      "100/100 [==============================] - 1s 9ms/step - total_loss: 2.6751 - consistency_loss: 1.4401\n",
      "Epoch 3/50\n",
      "100/100 [==============================] - 1s 9ms/step - total_loss: 2.4524 - consistency_loss: 1.2219\n",
      "Epoch 4/50\n",
      "100/100 [==============================] - 1s 9ms/step - total_loss: 1.3793 - consistency_loss: 0.6563: 0s - total_loss: 1.843\n",
      "Epoch 5/50\n",
      "100/100 [==============================] - 1s 9ms/step - total_loss: 0.7814 - consistency_loss: 0.3688\n",
      "Epoch 6/50\n",
      "100/100 [==============================] - 1s 9ms/step - total_loss: 0.5045 - consistency_loss: 0.2026\n",
      "Epoch 7/50\n",
      "100/100 [==============================] - 1s 9ms/step - total_loss: 0.3404 - consistency_loss: 0.1149\n",
      "Epoch 8/50\n",
      "100/100 [==============================] - 1s 9ms/step - total_loss: 0.2732 - consistency_loss: 0.0791\n",
      "Epoch 9/50\n",
      "100/100 [==============================] - 1s 10ms/step - total_loss: 0.2234 - consistency_loss: 0.0588\n",
      "Epoch 10/50\n",
      "100/100 [==============================] - 1s 9ms/step - total_loss: 0.2894 - consistency_loss: 0.0873\n",
      "Epoch 11/50\n",
      "100/100 [==============================] - 1s 9ms/step - total_loss: 0.2143 - consistency_loss: 0.0442\n",
      "Epoch 12/50\n",
      "100/100 [==============================] - 1s 9ms/step - total_loss: 0.2036 - consistency_loss: 0.0390\n",
      "Epoch 13/50\n",
      "100/100 [==============================] - 1s 9ms/step - total_loss: 0.2029 - consistency_loss: 0.0436\n",
      "Epoch 14/50\n",
      "100/100 [==============================] - 1s 9ms/step - total_loss: 0.1902 - consistency_loss: 0.0365: 0s - total_loss: 0.250\n",
      "Epoch 15/50\n",
      "100/100 [==============================] - 1s 9ms/step - total_loss: 0.1488 - consistency_loss: 0.0311\n",
      "Epoch 16/50\n",
      "100/100 [==============================] - 1s 9ms/step - total_loss: 0.1512 - consistency_loss: 0.0255: 0s - total_loss: 0.133\n",
      "Epoch 17/50\n",
      "100/100 [==============================] - 1s 9ms/step - total_loss: 0.1473 - consistency_loss: 0.0212: 0s - total_loss: 0.1\n",
      "Epoch 18/50\n",
      "100/100 [==============================] - 1s 9ms/step - total_loss: 0.1588 - consistency_loss: 0.0251\n",
      "Epoch 19/50\n",
      "100/100 [==============================] - 1s 9ms/step - total_loss: 0.1388 - consistency_loss: 0.0225\n",
      "Epoch 20/50\n",
      "100/100 [==============================] - 1s 9ms/step - total_loss: 0.1397 - consistency_loss: 0.0227: 0s - total_loss: 0\n",
      "Epoch 21/50\n",
      "100/100 [==============================] - 1s 9ms/step - total_loss: 0.1387 - consistency_loss: 0.0205\n",
      "Epoch 22/50\n",
      "100/100 [==============================] - 1s 9ms/step - total_loss: 0.1314 - consistency_loss: 0.0196\n",
      "Epoch 23/50\n",
      "100/100 [==============================] - 1s 9ms/step - total_loss: 0.1357 - consistency_loss: 0.0192\n",
      "Epoch 24/50\n",
      "100/100 [==============================] - 1s 9ms/step - total_loss: 0.1130 - consistency_loss: 0.0137\n",
      "Epoch 25/50\n",
      "100/100 [==============================] - 1s 9ms/step - total_loss: 0.1155 - consistency_loss: 0.0167\n",
      "Epoch 26/50\n",
      "100/100 [==============================] - 1s 9ms/step - total_loss: 0.1241 - consistency_loss: 0.0207\n",
      "Epoch 27/50\n",
      "100/100 [==============================] - 1s 9ms/step - total_loss: 0.4877 - consistency_loss: 0.1508\n",
      "Epoch 28/50\n",
      "100/100 [==============================] - 1s 9ms/step - total_loss: 0.4304 - consistency_loss: 0.1501: 0s - total_loss: 0\n",
      "Epoch 29/50\n",
      "100/100 [==============================] - 1s 10ms/step - total_loss: 0.1781 - consistency_loss: 0.0418\n",
      "Epoch 30/50\n",
      "100/100 [==============================] - 1s 9ms/step - total_loss: 0.1476 - consistency_loss: 0.0255\n",
      "Epoch 31/50\n",
      "100/100 [==============================] - 1s 9ms/step - total_loss: 0.1383 - consistency_loss: 0.0232: 0s - total_loss: 0.133\n",
      "Epoch 32/50\n",
      "100/100 [==============================] - 1s 10ms/step - total_loss: 0.1505 - consistency_loss: 0.0239\n",
      "Epoch 33/50\n",
      "100/100 [==============================] - 1s 10ms/step - total_loss: 0.1419 - consistency_loss: 0.0194\n",
      "Epoch 34/50\n",
      "100/100 [==============================] - 1s 10ms/step - total_loss: 0.1221 - consistency_loss: 0.0171\n",
      "Epoch 35/50\n",
      "100/100 [==============================] - 1s 10ms/step - total_loss: 0.1254 - consistency_loss: 0.0189\n",
      "Epoch 36/50\n",
      "100/100 [==============================] - 1s 10ms/step - total_loss: 0.1190 - consistency_loss: 0.0140\n",
      "Epoch 37/50\n",
      "100/100 [==============================] - 1s 10ms/step - total_loss: 0.1244 - consistency_loss: 0.0149\n",
      "Epoch 38/50\n",
      "100/100 [==============================] - 1s 10ms/step - total_loss: 0.1245 - consistency_loss: 0.0162\n",
      "Epoch 39/50\n",
      "100/100 [==============================] - 1s 10ms/step - total_loss: 0.1143 - consistency_loss: 0.0148\n",
      "Epoch 40/50\n",
      "100/100 [==============================] - 1s 10ms/step - total_loss: 0.1206 - consistency_loss: 0.0175 0s - total_loss: 0\n",
      "Epoch 41/50\n",
      "100/100 [==============================] - 1s 10ms/step - total_loss: 0.1327 - consistency_loss: 0.0191\n",
      "Epoch 42/50\n",
      "100/100 [==============================] - 1s 10ms/step - total_loss: 0.1239 - consistency_loss: 0.0172\n",
      "Epoch 43/50\n",
      "100/100 [==============================] - 1s 10ms/step - total_loss: 0.1167 - consistency_loss: 0.0142\n",
      "Epoch 44/50\n",
      "100/100 [==============================] - 1s 10ms/step - total_loss: 0.1224 - consistency_loss: 0.0179\n",
      "Epoch 45/50\n",
      "100/100 [==============================] - 1s 10ms/step - total_loss: 0.1113 - consistency_loss: 0.0149 0s - total_loss: 0.127\n",
      "Epoch 46/50\n",
      "100/100 [==============================] - ETA: 0s - total_loss: 0.1121 - consistency_loss: 0.01 - 1s 10ms/step - total_loss: 0.1115 - consistency_loss: 0.0145\n",
      "Epoch 47/50\n",
      "100/100 [==============================] - 1s 10ms/step - total_loss: 0.1083 - consistency_loss: 0.0138\n",
      "Epoch 48/50\n",
      "100/100 [==============================] - 1s 10ms/step - total_loss: 0.1096 - consistency_loss: 0.0123\n",
      "Epoch 49/50\n",
      "100/100 [==============================] - 1s 10ms/step - total_loss: 0.1014 - consistency_loss: 0.0115\n",
      "Epoch 50/50\n",
      "100/100 [==============================] - 1s 10ms/step - total_loss: 0.1134 - consistency_loss: 0.0125\n"
     ]
    }
   ],
   "source": [
    "\n",
    "with generator:\n",
    "    model = dt.models.LodeSTAR(input_shape=(None, None, 2), num_outputs=3)\n",
    "    model.compile(loss=\"mae\", optimizer=tf.keras.optimizers.Adam())\n",
    "    model.fit(generator, epochs=50, steps_per_epoch=100)\n"
   ]
  },
  {
   "cell_type": "code",
   "execution_count": 53,
   "id": "bb25a14a",
   "metadata": {},
   "outputs": [],
   "source": [
    "import itertools\n",
    "import scipy\n",
    "grid_x = 8\n",
    "radius_range = np.linspace(130e-9, 300e-9, grid_x)\n",
    "refractive_index_range = np.linspace(1.4, 1.7, grid_x)\n",
    "\n",
    "num_samples = 10\n",
    "\n",
    "data_dict = {}\n",
    "\n",
    "for radius, refractive_index in itertools.product(radius_range, refractive_index_range):\n",
    "\n",
    "    for _ in range(num_samples):\n",
    "        image = training_data.update()(radius=radius, refractive_index=refractive_index, z=np.random.uniform(-1, 1))\n",
    "\n",
    "        if (radius, refractive_index) not in data_dict:\n",
    "            data_dict[(radius, refractive_index)] = []\n",
    "\n",
    "        data_dict[(radius, refractive_index)].append(image)  "
   ]
  },
  {
   "cell_type": "code",
   "execution_count": 54,
   "id": "c798d764",
   "metadata": {},
   "outputs": [],
   "source": [
    "error_dict = {}\n",
    "for key, value in data_dict.items():\n",
    "    preds = model.predict_and_pool(np.array(value))\n",
    "    error_dict[key] = np.exp(preds[:, 2])\n",
    "\n",
    "RI, R = np.meshgrid(refractive_index_range, radius_range)\n",
    "\n",
    "GT = R**3 * (RI - 1.33) / (RI + 1.33 * 2)\n",
    "GT = GT[..., np.newaxis]"
   ]
  },
  {
   "cell_type": "code",
   "execution_count": 55,
   "id": "d88c0731",
   "metadata": {},
   "outputs": [],
   "source": [
    "Z = np.reshape(np.array(list(error_dict.values())), (grid_x, grid_x, -1))\n",
    "\n",
    "norm_f = GT[4, 4] / np.mean(Z[4, 4]) \n",
    "Z = Z * norm_f"
   ]
  },
  {
   "cell_type": "code",
   "execution_count": 56,
   "id": "f97641fd",
   "metadata": {},
   "outputs": [
    {
     "data": {
      "image/png": "[encoded data removed]",
      "text/plain": [
       "<Figure size 432x288 with 1 Axes>"
      ]
     },
     "metadata": {
      "needs_background": "light"
     },
     "output_type": "display_data"
    }
   ],
   "source": [
    "plt.scatter(np.repeat(GT, num_samples, -1).flatten() * 1e20, Z.flatten() * 1e20)\n",
    "plt.axline((0, 0), slope=1)\n",
    "plt.show()\n"
   ]
  },
  {
   "cell_type": "code",
   "execution_count": 71,
   "id": "339c32eb",
   "metadata": {},
   "outputs": [
    {
     "data": {
      "image/png": "[encoded data removed]",
      "text/plain": [
       "<Figure size 327.6x280.8 with 2 Axes>"
      ]
     },
     "metadata": {
      "needs_background": "light"
     },
     "output_type": "display_data"
    }
   ],
   "source": [
    "import scipy\n",
    "plt.figure(figsize=(3.5 * 1.3, 3 * 1.3))\n",
    "err = np.abs(Z - GT).mean(-1) / np.abs(GT).mean(-1) * 100\n",
    "err = scipy.ndimage.zoom(err, 3)\n",
    "err = dt.GaussianBlur(2)(err)\n",
    "\n",
    "plt.contourf(\n",
    "    scipy.ndimage.zoom(R, 3) * 1e9,\n",
    "    scipy.ndimage.zoom(RI - 1.33, 3),\n",
    "    err.squeeze(),\n",
    "    cmap=\"Reds\",\n",
    "    levels=np.linspace(0, 25, 11)\n",
    ")\n",
    "plt.colorbar()"
   ]
  }
 ],
 "metadata": {
  "interpreter": {
   "hash": "dee7c62952cd92a9f95e3a9cf2ab80d8434e980a2c662f49192ac9761f392c34"
  },
  "kernelspec": {
   "display_name": "Python 3.8.6 64-bit",
   "name": "python3"
  },
  "language_info": {
   "codemirror_mode": {
    "name": "ipython",
    "version": 3
   },
   "file_extension": ".py",
   "mimetype": "text/x-python",
   "name": "python",
   "nbconvert_exporter": "python",
   "pygments_lexer": "ipython3",
   "version": "3.8.6"
  }
 },
 "nbformat": 4,
 "nbformat_minor": 5
}
