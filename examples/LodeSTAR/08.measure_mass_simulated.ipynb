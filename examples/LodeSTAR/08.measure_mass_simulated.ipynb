{
  "cells": [
    {
      "cell_type": "code",
      "execution_count": 1,
      "id": "5def3ff6",
      "metadata": {
        "execution": {
          "iopub.execute_input": "2022-04-01T19:01:34.201734Z",
          "iopub.status.busy": "2022-04-01T19:01:34.201234Z",
          "iopub.status.idle": "2022-04-01T19:01:34.464735Z",
          "shell.execute_reply": "2022-04-01T19:01:34.465234Z"
        }
      },
      "outputs": [],
      "source": [
        "%matplotlib inline\n",
        "import sys\n",
        "sys.path.insert(0, \"../..\")"
      ]
    },
    {
      "cell_type": "markdown",
      "id": "fdb17053",
      "metadata": {},
      "source": [
        "<!--<badge>--><a href=\"https://colab.research.google.com/github/softmatterlab/DeepTrack-2.0/blob/bm/improve-mie/examples/LodeSTAR/08.measure_mass_simulated.ipynb\" target=\"_parent\"><img src=\"https://colab.research.google.com/assets/colab-badge.svg\" alt=\"Open In Colab\"/></a><!--</badge>-->"
      ]
    },
    {
      "cell_type": "code",
      "execution_count": 2,
      "id": "142e8f7f",
      "metadata": {
        "execution": {
          "iopub.execute_input": "2022-04-01T19:01:34.468236Z",
          "iopub.status.busy": "2022-04-01T19:01:34.467734Z",
          "iopub.status.idle": "2022-04-01T19:01:38.742735Z",
          "shell.execute_reply": "2022-04-01T19:01:38.742735Z"
        }
      },
      "outputs": [],
      "source": [
        "import random\n",
        "\n",
        "import deeptrack as dt\n",
        "import deeptrack.extras\n",
        "import numpy as np\n",
        "import skimage.color\n",
        "import matplotlib.pyplot as plt\n",
        "import tensorflow as tf\n",
        "import scipy.io"
      ]
    },
    {
      "cell_type": "code",
      "execution_count": 3,
      "id": "739e8436",
      "metadata": {
        "execution": {
          "iopub.execute_input": "2022-04-01T19:01:38.748737Z",
          "iopub.status.busy": "2022-04-01T19:01:38.748235Z",
          "iopub.status.idle": "2022-04-01T19:01:38.754236Z",
          "shell.execute_reply": "2022-04-01T19:01:38.753736Z"
        }
      },
      "outputs": [],
      "source": [
        "import numpy as np\n",
        "import matplotlib.pyplot as plt\n",
        "\n",
        "crop_size = 40\n",
        "padding = 32\n",
        "wavelength = 633e-9 \n",
        "pixel_size = 114e-9\n",
        "crop_propagation_forward = dt.get_propagation_matrix((crop_size + 2 * padding, ) * 2, 1e-7, pixel_size * 2, wavelength)\n",
        "crop_propagation_backward = dt.get_propagation_matrix((crop_size + 2 * padding, ) * 2, -1e-7, pixel_size * 2, wavelength)\n",
        "\n",
        "particle = dt.MieSphere(\n",
        "    radius=lambda: 228e-9,\n",
        "    refractive_index=lambda: 1.58,\n",
        "    z=lambda: 0,\n",
        "    position=(crop_size / 2,) * 2,\n",
        "    L=100,\n",
        ")\n",
        "\n",
        "optics = dt.Brightfield(\n",
        "    NA=1.3,\n",
        "    magnification=1,\n",
        "    wavelength=633e-9,\n",
        "    resolution=2*1.14e-7,\n",
        "    illumination=dt.Gaussian(sigma=0.005) >> dt.Gaussian(sigma=0.005j), \n",
        "    return_field=True, \n",
        "    output_region=(0, 0, 40, 40)\n",
        ")\n",
        "\n",
        "imaged_particle = optics(particle) \n",
        "training_data = (imaged_particle >> dt.Real()) & (imaged_particle >> dt.Imag())\n",
        "training_data = training_data >> dt.Merge(lambda: lambda x: np.concatenate( [np.array(_x) for _x in x], axis=-1 ))"
      ]
    },
    {
      "cell_type": "code",
      "execution_count": 4,
      "id": "1bfbfd07",
      "metadata": {
        "execution": {
          "iopub.execute_input": "2022-04-01T19:01:38.759734Z",
          "iopub.status.busy": "2022-04-01T19:01:38.759235Z",
          "iopub.status.idle": "2022-04-01T19:01:38.761236Z",
          "shell.execute_reply": "2022-04-01T19:01:38.761734Z"
        }
      },
      "outputs": [],
      "source": [
        "args = dt.Arguments(\n",
        "    translate=lambda: np.random.randn(2) * 1,\n",
        "    rotate=lambda:np.random.uniform(0, np.pi*2),\n",
        "    z=lambda: np.random.randint(-4, 4),\n",
        "    rescale=lambda: 10**np.random.uniform(-2, 2)\n",
        ")\n",
        "\n",
        "group = ( \n",
        "     dt.Affine(rotate=args.rotate) \n",
        "    >>dt.Affine(translate=args.translate) \n",
        "    >> dt.Rescale(args.rescale) \n",
        "    >> dt.FourierTransform() \n",
        "    >> dt.FourierTransformTransformation(crop_propagation_forward, crop_propagation_backward, args.z) \n",
        "    >> dt.InverseFourierTransform() \n",
        "    >> dt.Gaussian(sigma=lambda: np.random.rand() * 0.005)\n",
        ")\n",
        "\n",
        "equivariance = (\n",
        "     dt.models.lodestar.Rotational2DEquivariance(args.rotate)\n",
        "    >>dt.models.lodestar.TranslationalEquivariance(args.translate)\n",
        "    \n",
        "    >> dt.models.lodestar.Equivariance(1, lambda arg: np.log(arg), arg = args.rescale, indexes=2)\n",
        ")\n",
        "\n",
        "\n"
      ]
    },
    {
      "cell_type": "code",
      "execution_count": 5,
      "id": "5fa4c399",
      "metadata": {
        "execution": {
          "iopub.execute_input": "2022-04-01T19:01:38.768735Z",
          "iopub.status.busy": "2022-04-01T19:01:38.768235Z",
          "iopub.status.idle": "2022-04-01T19:01:39.709734Z",
          "shell.execute_reply": "2022-04-01T19:01:39.709235Z"
        }
      },
      "outputs": [
        {
          "data": {
            "text/plain": [
              "<AxesSubplot:>"
            ]
          },
          "execution_count": 1,
          "metadata": {},
          "output_type": "execute_result"
        },
        {
          "data": {
            "image/png": "[encoded data removed]",
            "text/plain": [
              "<Figure size 432x288 with 1 Axes>"
            ]
          },
          "metadata": {
            "needs_background": "light"
          },
          "output_type": "display_data"
        }
      ],
      "source": [
        "val = training_data.update()()\n",
        "training_set = dt.Value(lambda: np.array(val)) \n",
        "(training_set >> group).update().plot()"
      ]
    },
    {
      "cell_type": "code",
      "execution_count": 6,
      "id": "1bf0c230",
      "metadata": {
        "execution": {
          "iopub.execute_input": "2022-04-01T19:01:39.712734Z",
          "iopub.status.busy": "2022-04-01T19:01:39.712234Z",
          "iopub.status.idle": "2022-04-01T19:01:39.714734Z",
          "shell.execute_reply": "2022-04-01T19:01:39.714734Z"
        }
      },
      "outputs": [],
      "source": [
        "generator = dt.models.lodestar.LodeSTARGenerator(\n",
        "    training_set,\n",
        "    3,\n",
        "    (group, equivariance), \n",
        "    batch_size=8, \n",
        "    min_data_size=200, \n",
        "    max_data_size=201\n",
        ")\n",
        "\n"
      ]
    },
    {
      "cell_type": "code",
      "execution_count": 7,
      "id": "53c86817",
      "metadata": {
        "execution": {
          "iopub.execute_input": "2022-04-01T19:01:39.718235Z",
          "iopub.status.busy": "2022-04-01T19:01:39.718235Z",
          "iopub.status.idle": "2022-04-01T19:02:53.138235Z",
          "shell.execute_reply": "2022-04-01T19:02:53.138235Z"
        }
      },
      "outputs": [
        {
          "name": "stdout",
          "output_type": "stream",
          "text": [
            "Generating 201 / 200 samples before starting training\n",
            "Epoch 1/50\n",
            "100/100 [==============================] - 4s 10ms/step - total_loss: 2.7217 - consistency_loss: 1.5386\n",
            "Epoch 2/50\n",
            "100/100 [==============================] - 1s 10ms/step - total_loss: 2.5458 - consistency_loss: 1.4440\n",
            "Epoch 3/50\n",
            "100/100 [==============================] - 1s 11ms/step - total_loss: 2.2330 - consistency_loss: 1.0155\n",
            "Epoch 4/50\n",
            "100/100 [==============================] - 1s 11ms/step - total_loss: 1.2608 - consistency_loss: 0.5251\n",
            "Epoch 5/50\n",
            "100/100 [==============================] - 1s 11ms/step - total_loss: 0.5736 - consistency_loss: 0.2279\n",
            "Epoch 6/50\n",
            "100/100 [==============================] - 1s 11ms/step - total_loss: 0.4202 - consistency_loss: 0.1464\n",
            "Epoch 7/50\n",
            "100/100 [==============================] - 1s 11ms/step - total_loss: 0.3311 - consistency_loss: 0.0979\n",
            "Epoch 8/50\n",
            "100/100 [==============================] - 1s 11ms/step - total_loss: 0.2817 - consistency_loss: 0.0787\n",
            "Epoch 9/50\n",
            "100/100 [==============================] - 1s 10ms/step - total_loss: 0.2385 - consistency_loss: 0.0633\n",
            "Epoch 10/50\n",
            "100/100 [==============================] - 1s 10ms/step - total_loss: 0.2227 - consistency_loss: 0.0579\n",
            "Epoch 11/50\n",
            "100/100 [==============================] - 1s 10ms/step - total_loss: 0.2100 - consistency_loss: 0.0432\n",
            "Epoch 12/50\n",
            "100/100 [==============================] - 1s 10ms/step - total_loss: 0.1790 - consistency_loss: 0.0343\n",
            "Epoch 13/50\n",
            "100/100 [==============================] - 1s 10ms/step - total_loss: 0.1706 - consistency_loss: 0.0340\n",
            "Epoch 14/50\n",
            "100/100 [==============================] - 1s 10ms/step - total_loss: 0.1710 - consistency_loss: 0.0331\n",
            "Epoch 15/50\n",
            "100/100 [==============================] - 1s 10ms/step - total_loss: 0.1753 - consistency_loss: 0.0318\n",
            "Epoch 16/50\n",
            "100/100 [==============================] - 1s 10ms/step - total_loss: 0.1557 - consistency_loss: 0.0314\n",
            "Epoch 17/50\n",
            "100/100 [==============================] - 1s 11ms/step - total_loss: 0.2197 - consistency_loss: 0.0573\n",
            "Epoch 18/50\n",
            "100/100 [==============================] - 1s 11ms/step - total_loss: 0.1701 - consistency_loss: 0.0306\n",
            "Epoch 19/50\n",
            "100/100 [==============================] - 1s 10ms/step - total_loss: 0.1684 - consistency_loss: 0.0279\n",
            "Epoch 20/50\n",
            "100/100 [==============================] - 1s 11ms/step - total_loss: 0.1547 - consistency_loss: 0.0264\n",
            "Epoch 21/50\n",
            "100/100 [==============================] - 1s 10ms/step - total_loss: 0.1375 - consistency_loss: 0.0236\n",
            "Epoch 22/50\n",
            "100/100 [==============================] - 1s 11ms/step - total_loss: 0.1352 - consistency_loss: 0.0195\n",
            "Epoch 23/50\n",
            "100/100 [==============================] - 1s 10ms/step - total_loss: 0.1373 - consistency_loss: 0.0209\n",
            "Epoch 24/50\n",
            "100/100 [==============================] - 1s 10ms/step - total_loss: 0.1346 - consistency_loss: 0.0191\n",
            "Epoch 25/50\n",
            "100/100 [==============================] - 1s 10ms/step - total_loss: 0.1396 - consistency_loss: 0.0192\n",
            "Epoch 26/50\n",
            "100/100 [==============================] - 1s 11ms/step - total_loss: 0.1269 - consistency_loss: 0.0185\n",
            "Epoch 27/50\n",
            "100/100 [==============================] - 1s 10ms/step - total_loss: 0.1324 - consistency_loss: 0.0199\n",
            "Epoch 28/50\n",
            "100/100 [==============================] - 1s 11ms/step - total_loss: 0.1375 - consistency_loss: 0.0197\n",
            "Epoch 29/50\n",
            "100/100 [==============================] - 1s 10ms/step - total_loss: 0.1237 - consistency_loss: 0.0162\n",
            "Epoch 30/50\n",
            "100/100 [==============================] - 1s 11ms/step - total_loss: 0.1261 - consistency_loss: 0.0192\n",
            "Epoch 31/50\n",
            "100/100 [==============================] - 1s 10ms/step - total_loss: 0.1358 - consistency_loss: 0.0171\n",
            "Epoch 32/50\n",
            "100/100 [==============================] - 1s 11ms/step - total_loss: 0.1189 - consistency_loss: 0.0157\n",
            "Epoch 33/50\n",
            "100/100 [==============================] - 1s 11ms/step - total_loss: 0.1213 - consistency_loss: 0.0154\n",
            "Epoch 34/50\n",
            "100/100 [==============================] - 1s 11ms/step - total_loss: 0.1163 - consistency_loss: 0.0153\n",
            "Epoch 35/50\n",
            "100/100 [==============================] - 1s 11ms/step - total_loss: 0.1068 - consistency_loss: 0.0118\n",
            "Epoch 36/50\n",
            "100/100 [==============================] - 1s 11ms/step - total_loss: 0.1128 - consistency_loss: 0.0144\n",
            "Epoch 37/50\n",
            "100/100 [==============================] - 1s 11ms/step - total_loss: 0.1185 - consistency_loss: 0.0148\n",
            "Epoch 38/50\n",
            "100/100 [==============================] - 1s 10ms/step - total_loss: 0.1756 - consistency_loss: 0.0343\n",
            "Epoch 39/50\n",
            "100/100 [==============================] - 1s 10ms/step - total_loss: 1.1359 - consistency_loss: 0.4082\n",
            "Epoch 40/50\n",
            "100/100 [==============================] - 1s 11ms/step - total_loss: 0.3479 - consistency_loss: 0.1032\n",
            "Epoch 41/50\n",
            "100/100 [==============================] - 1s 11ms/step - total_loss: 0.2111 - consistency_loss: 0.0450\n",
            "Epoch 42/50\n",
            "100/100 [==============================] - 1s 11ms/step - total_loss: 0.1811 - consistency_loss: 0.0335\n",
            "Epoch 43/50\n",
            "100/100 [==============================] - 1s 10ms/step - total_loss: 0.1590 - consistency_loss: 0.0266\n",
            "Epoch 44/50\n",
            "100/100 [==============================] - 1s 10ms/step - total_loss: 0.1396 - consistency_loss: 0.0218\n",
            "Epoch 45/50\n",
            "100/100 [==============================] - 1s 10ms/step - total_loss: 0.1401 - consistency_loss: 0.0189\n",
            "Epoch 46/50\n",
            "100/100 [==============================] - 1s 11ms/step - total_loss: 0.1474 - consistency_loss: 0.0185\n",
            "Epoch 47/50\n",
            "100/100 [==============================] - 1s 13ms/step - total_loss: 0.1340 - consistency_loss: 0.0166\n",
            "Epoch 48/50\n",
            "100/100 [==============================] - 1s 11ms/step - total_loss: 0.1312 - consistency_loss: 0.0144\n",
            "Epoch 49/50\n",
            "100/100 [==============================] - 1s 11ms/step - total_loss: 0.1262 - consistency_loss: 0.0141\n",
            "Epoch 50/50\n",
            "100/100 [==============================] - 1s 11ms/step - total_loss: 0.1239 - consistency_loss: 0.0142\n"
          ]
        }
      ],
      "source": [
        "\n",
        "with generator:\n",
        "    model = dt.models.LodeSTAR(input_shape=(None, None, 2), num_outputs=3)\n",
        "    model.compile(loss=\"mae\", optimizer=tf.keras.optimizers.Adam())\n",
        "    model.fit(generator, epochs=50, steps_per_epoch=100)\n"
      ]
    },
    {
      "cell_type": "code",
      "execution_count": 8,
      "id": "bb25a14a",
      "metadata": {
        "execution": {
          "iopub.execute_input": "2022-04-01T19:02:53.147735Z",
          "iopub.status.busy": "2022-04-01T19:02:53.147235Z",
          "iopub.status.idle": "2022-04-01T19:03:34.507734Z",
          "shell.execute_reply": "2022-04-01T19:03:34.507235Z"
        }
      },
      "outputs": [],
      "source": [
        "import itertools\n",
        "import scipy\n",
        "grid_x = 8\n",
        "radius_range = np.linspace(130e-9, 300e-9, grid_x)\n",
        "refractive_index_range = np.linspace(1.4, 1.7, grid_x)\n",
        "\n",
        "num_samples = 10\n",
        "\n",
        "data_dict = {}\n",
        "\n",
        "for radius, refractive_index in itertools.product(radius_range, refractive_index_range):\n",
        "\n",
        "    for _ in range(num_samples):\n",
        "        image = training_data.update()(radius=radius, refractive_index=refractive_index, z=np.random.uniform(-1, 1))\n",
        "\n",
        "        if (radius, refractive_index) not in data_dict:\n",
        "            data_dict[(radius, refractive_index)] = []\n",
        "\n",
        "        data_dict[(radius, refractive_index)].append(image)  "
      ]
    },
    {
      "cell_type": "code",
      "execution_count": 9,
      "id": "c798d764",
      "metadata": {
        "execution": {
          "iopub.execute_input": "2022-04-01T19:03:34.512235Z",
          "iopub.status.busy": "2022-04-01T19:03:34.511735Z",
          "iopub.status.idle": "2022-04-01T19:03:37.128735Z",
          "shell.execute_reply": "2022-04-01T19:03:37.128735Z"
        }
      },
      "outputs": [],
      "source": [
        "error_dict = {}\n",
        "for key, value in data_dict.items():\n",
        "    preds = model.predict_and_pool(np.array(value))\n",
        "    error_dict[key] = np.exp(preds[:, 2])\n",
        "\n",
        "RI, R = np.meshgrid(refractive_index_range, radius_range)\n",
        "\n",
        "GT = R**3 * (RI ** 2 - 1.33 ** 2) / (RI ** 2 + 1.33 ** 2 * 2)\n",
        "GT = GT[..., np.newaxis]"
      ]
    },
    {
      "cell_type": "code",
      "execution_count": 10,
      "id": "d88c0731",
      "metadata": {
        "execution": {
          "iopub.execute_input": "2022-04-01T19:03:37.132736Z",
          "iopub.status.busy": "2022-04-01T19:03:37.132235Z",
          "iopub.status.idle": "2022-04-01T19:03:37.135734Z",
          "shell.execute_reply": "2022-04-01T19:03:37.136234Z"
        }
      },
      "outputs": [],
      "source": [
        "Z = np.reshape(np.array(list(error_dict.values())), (grid_x, grid_x, -1))\n",
        "\n",
        "norm_f = GT[4, 4] / np.mean(Z[4, 4]) \n",
        "Z = Z * norm_f"
      ]
    },
    {
      "cell_type": "code",
      "execution_count": 11,
      "id": "f97641fd",
      "metadata": {
        "execution": {
          "iopub.execute_input": "2022-04-01T19:03:37.151235Z",
          "iopub.status.busy": "2022-04-01T19:03:37.149234Z",
          "iopub.status.idle": "2022-04-01T19:03:37.245735Z",
          "shell.execute_reply": "2022-04-01T19:03:37.245735Z"
        }
      },
      "outputs": [
        {
          "data": {
            "image/png": "[encoded data removed]",
            "text/plain": [
              "<Figure size 432x288 with 1 Axes>"
            ]
          },
          "metadata": {
            "needs_background": "light"
          },
          "output_type": "display_data"
        }
      ],
      "source": [
        "plt.scatter(np.repeat(GT, num_samples, -1).flatten() * 1e20, Z.flatten() * 1e20)\n",
        "plt.axline((0, 0), slope=1)\n",
        "plt.show()\n"
      ]
    },
    {
      "cell_type": "code",
      "execution_count": 12,
      "id": "339c32eb",
      "metadata": {
        "execution": {
          "iopub.execute_input": "2022-04-01T19:03:37.251235Z",
          "iopub.status.busy": "2022-04-01T19:03:37.250735Z",
          "iopub.status.idle": "2022-04-01T19:03:37.391235Z",
          "shell.execute_reply": "2022-04-01T19:03:37.391735Z"
        }
      },
      "outputs": [
        {
          "data": {
            "text/plain": [
              "<matplotlib.colorbar.Colorbar at 0x24a4426d0a0>"
            ]
          },
          "execution_count": 1,
          "metadata": {},
          "output_type": "execute_result"
        },
        {
          "data": {
            "image/png": "[encoded data removed]",
            "text/plain": [
              "<Figure size 327.6x280.8 with 2 Axes>"
            ]
          },
          "metadata": {
            "needs_background": "light"
          },
          "output_type": "display_data"
        }
      ],
      "source": [
        "import scipy\n",
        "plt.figure(figsize=(3.5 * 1.3, 3 * 1.3))\n",
        "err = np.abs(Z - GT).mean(-1) / np.abs(GT).mean(-1) * 100\n",
        "err = scipy.ndimage.zoom(err, 3)\n",
        "err = dt.GaussianBlur(2)(err)\n",
        "\n",
        "plt.contourf(\n",
        "    scipy.ndimage.zoom(R, 3) * 1e9,\n",
        "    scipy.ndimage.zoom(RI - 1.33, 3),\n",
        "    err.squeeze(),\n",
        "    cmap=\"Reds\",\n",
        "    levels=np.linspace(0, 25, 11)\n",
        ")\n",
        "plt.colorbar()"
      ]
    }
  ],
  "metadata": {
    "interpreter": {
      "hash": "dee7c62952cd92a9f95e3a9cf2ab80d8434e980a2c662f49192ac9761f392c34"
    },
    "kernelspec": {
      "display_name": "Python 3.8.6 64-bit",
      "name": "python3"
    },
    "language_info": {
      "codemirror_mode": {
        "name": "ipython",
        "version": 3
      },
      "file_extension": ".py",
      "mimetype": "text/x-python",
      "name": "python",
      "nbconvert_exporter": "python",
      "pygments_lexer": "ipython3",
      "version": "3.8.6"
    }
  },
  "nbformat": 4,
  "nbformat_minor": 5
}