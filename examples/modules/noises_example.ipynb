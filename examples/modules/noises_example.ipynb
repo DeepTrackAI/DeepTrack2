{
 "cells": [
  {
   "cell_type": "code",
   "execution_count": null,
   "metadata": {},
   "outputs": [],
   "source": [
    "%matplotlib inline\n",
    "import sys\n",
    "sys.path.append(\"..\") # Adds the module to path"
   ]
  },
  {
   "cell_type": "markdown",
   "metadata": {},
   "source": [
    "# deeptrack.noises\n",
    "\n",
    "This example introduces the module deeptrack.noises"
   ]
  },
  {
   "cell_type": "markdown",
   "metadata": {},
   "source": [
    "## What is a noise?\n",
    "\n",
    "Noises are implementations of the abstract class `Feature`. They differ from other features in that they are not guaranteed to be deterministic. That is, resolving the same feature twice may result in different images, even without calling the method `.update()`.\n",
    "\n",
    "Currently the following noises are defined:\n",
    "\n",
    "* Gaussian noise - adds a Gaussian-distributed noise to the image\n",
    "* Offset noise - adds a constant offset to the image.\n",
    "* Poisson noise - introduces a Poisson-distributed noise to the image "
   ]
  },
  {
   "cell_type": "code",
   "execution_count": null,
   "metadata": {},
   "outputs": [],
   "source": [
    "import numpy as np\n",
    "import matplotlib.pyplot as plt"
   ]
  },
  {
   "cell_type": "code",
   "execution_count": null,
   "metadata": {},
   "outputs": [],
   "source": [
    "from deeptrack.noises import Gaussian\n",
    "\n",
    "gaussian_noise = Gaussian(mu=0.1, sigma=0.05)\n",
    "\n",
    "gaussian_noise.plot(input_image=np.zeros((32, 32, 1)))"
   ]
  },
  {
   "cell_type": "code",
   "execution_count": null,
   "metadata": {},
   "outputs": [],
   "source": [
    "from deeptrack.noises import Offset\n",
    "\n",
    "offset = Offset(offset=0.5)\n",
    "\n",
    "offset.plot(input_image=np.zeros((32, 32, 1)))"
   ]
  },
  {
   "cell_type": "code",
   "execution_count": null,
   "metadata": {},
   "outputs": [],
   "source": [
    "from deeptrack.noises import Poisson\n",
    "\n",
    "poisson_noise = offset >> Poisson(snr=20) \n",
    "\n",
    "poisson_noise.plot(input_image=np.zeros((32, 32, 1)))"
   ]
  }
 ],
 "metadata": {
  "kernelspec": {
   "name": "python386jvsc74a57bd0dee7c62952cd92a9f95e3a9cf2ab80d8434e980a2c662f49192ac9761f392c34",
   "display_name": "Python 3.8.6 64-bit"
  },
  "language_info": {
   "codemirror_mode": {
    "name": "ipython",
    "version": 3
   },
   "file_extension": ".py",
   "mimetype": "text/x-python",
   "name": "python",
   "nbconvert_exporter": "python",
   "pygments_lexer": "ipython3",
   "version": "3.8.6"
  }
 },
 "nbformat": 4,
 "nbformat_minor": 2
}