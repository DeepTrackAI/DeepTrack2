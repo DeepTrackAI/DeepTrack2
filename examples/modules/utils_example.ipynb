{
 "cells": [
  {
   "cell_type": "code",
   "execution_count": 1,
   "metadata": {},
   "outputs": [],
   "source": [
    "%matplotlib inline\n",
    "import sys\n",
    "sys.path.append(\"..\") # Adds the module to path"
   ]
  },
  {
   "cell_type": "markdown",
   "metadata": {},
   "source": [
    "# deeptrack.utils\n",
    "\n",
    "This example introduces the module deeptrack.properties.\n",
    "\n",
    "## What is contained in deeptrack.utils?\n",
    "\n",
    "The module deeptrack.utils contains utility functions that improve of the readability of the code and the quality of life of the programmer. "
   ]
  },
  {
   "cell_type": "code",
   "execution_count": 2,
   "metadata": {},
   "outputs": [],
   "source": [
    "import numpy as np\n",
    "import deeptrack.utils as utils"
   ]
  },
  {
   "cell_type": "markdown",
   "metadata": {},
   "source": [
    "## 1. utils.hasmethod()\n",
    "\n",
    "Checks if the input has a callable method named `method_name`."
   ]
  },
  {
   "cell_type": "code",
   "execution_count": 3,
   "metadata": {},
   "outputs": [
    {
     "name": "stdout",
     "output_type": "stream",
     "text": [
      "False\n",
      "False\n",
      "True\n"
     ]
    }
   ],
   "source": [
    "obj = [1] # a list \n",
    "\n",
    "print(utils.hasmethod(obj, \"my_func\")) # my_func is not an attribute of list\n",
    "print(utils.hasmethod(obj, \"__doc__\")) # __doc__ is an attribute but not a function\n",
    "print(utils.hasmethod(obj, \"append\"))  # append is an attribute and a function"
   ]
  },
  {
   "cell_type": "markdown",
   "metadata": {},
   "source": [
    "## 2. utils.isiterable()\n",
    "\n",
    "Checks if the input is iterable. Shorthand for `hasmethod(obj, '__next__')`. Contained in a function in case the definition should be exanded in the future."
   ]
  },
  {
   "cell_type": "code",
   "execution_count": 4,
   "metadata": {},
   "outputs": [
    {
     "name": "stdout",
     "output_type": "stream",
     "text": [
      "False\n",
      "True\n"
     ]
    }
   ],
   "source": [
    "obj = [1]\n",
    "\n",
    "print(utils.isiterable(obj)) # a list is not iterable\n",
    "print(utils.isiterable(iter(obj))) # Calling iter() makes the list iterable"
   ]
  },
  {
   "cell_type": "markdown",
   "metadata": {},
   "source": [
    "## 3. utils.as_list()\n",
    "\n",
    "Converts input to list if possible, otherwise wraps it in a list."
   ]
  },
  {
   "cell_type": "code",
   "execution_count": 5,
   "metadata": {},
   "outputs": [
    {
     "name": "stdout",
     "output_type": "stream",
     "text": [
      "1 returns [1]\n",
      "(1,) returns [1]\n",
      "str returns ['s', 't', 'r']\n"
     ]
    }
   ],
   "source": [
    "print(1, \"returns\", utils.as_list(1))\n",
    "print((1,), \"returns\", utils.as_list((1,)))\n",
    "print(\"str\", \"returns\", utils.as_list(\"str\"))"
   ]
  },
  {
   "cell_type": "markdown",
   "metadata": {},
   "source": [
    "## 4. utils.get_kwarg_names()\n",
    "\n",
    "Returns the names of the keyword arguments that a function accepts."
   ]
  },
  {
   "cell_type": "code",
   "execution_count": 6,
   "metadata": {},
   "outputs": [
    {
     "name": "stdout",
     "output_type": "stream",
     "text": [
      "['arg1', 'arg2', 'kwarg1', 'kwarg2']\n"
     ]
    }
   ],
   "source": [
    "def func1(arg1, arg2, kwarg1=None, kwarg2=1):\n",
    "    pass\n",
    "\n",
    "print(utils.get_kwarg_names(func1))"
   ]
  },
  {
   "cell_type": "code",
   "execution_count": 7,
   "metadata": {},
   "outputs": [
    {
     "name": "stdout",
     "output_type": "stream",
     "text": [
      "['kwarg1', 'kwarg2']\n"
     ]
    }
   ],
   "source": [
    "def func2(arg1, arg2, *args, kwarg1=None, kwarg2=1, **kwargs):\n",
    "    pass\n",
    "\n",
    "print(utils.get_kwarg_names(func2))"
   ]
  }
 ],
 "metadata": {
  "file_extension": ".py",
  "kernelspec": {
   "display_name": "Python 3",
   "language": "python",
   "name": "python3"
  },
  "language_info": {
   "codemirror_mode": {
    "name": "ipython",
    "version": 3
   },
   "file_extension": ".py",
   "mimetype": "text/x-python",
   "name": "python",
   "nbconvert_exporter": "python",
   "pygments_lexer": "ipython3",
   "version": "3.7.8"
  },
  "mimetype": "text/x-python",
  "name": "python",
  "npconvert_exporter": "python",
  "pygments_lexer": "ipython3",
  "version": 3
 },
 "nbformat": 4,
 "nbformat_minor": 2
}
