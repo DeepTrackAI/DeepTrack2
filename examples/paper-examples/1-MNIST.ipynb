{
  "cells": [
    {
      "cell_type": "markdown",
      "metadata": {
        "colab_type": "text",
        "id": "view-in-github"
      },
      "source": [
        "<!--<badge>--><a href=\"https://colab.research.google.com/github/softmatterlab/DeepTrack-2.0/blob/bm/fix-mie/examples/paper-examples/1-MNIST.ipynb\" target=\"_parent\"><img src=\"https://colab.research.google.com/assets/colab-badge.svg\" alt=\"Open In Colab\"/></a><!--</badge>-->"
      ]
    },
    {
      "cell_type": "code",
      "execution_count": 1,
      "metadata": {
        "colab": {
          "base_uri": "https://localhost:8080/",
          "height": 726
        },
        "execution": {
          "iopub.execute_input": "2022-04-01T16:23:15.611783Z",
          "iopub.status.busy": "2022-04-01T16:23:15.611283Z",
          "iopub.status.idle": "2022-04-01T16:23:15.865781Z",
          "shell.execute_reply": "2022-04-01T16:23:15.866282Z"
        },
        "id": "JyKWxC2dwBwx",
        "outputId": "9c1872fe-807a-42ce-e213-2cc4373cc946"
      },
      "outputs": [],
      "source": [
        "%matplotlib inline\n",
        "\n",
        "import sys\n",
        "sys.path.insert(0, \"../..\")"
      ]
    },
    {
      "cell_type": "markdown",
      "metadata": {
        "id": "QAL4blMUwBw0"
      },
      "source": [
        "# Example 1. MNIST\n",
        "\n",
        "Trains a fully connected neural network to identify handwritten digits using MNIST dataset."
      ]
    },
    {
      "cell_type": "markdown",
      "metadata": {
        "id": "X-DQVl_swBw0"
      },
      "source": [
        "## 1. Setup\n",
        "\n",
        "Imports and defines the objects needed for this example."
      ]
    },
    {
      "cell_type": "code",
      "execution_count": 2,
      "metadata": {
        "colab": {
          "base_uri": "https://localhost:8080/"
        },
        "execution": {
          "iopub.execute_input": "2022-04-01T16:23:15.869781Z",
          "iopub.status.busy": "2022-04-01T16:23:15.869282Z",
          "iopub.status.idle": "2022-04-01T16:23:44.747286Z",
          "shell.execute_reply": "2022-04-01T16:23:44.747286Z"
        },
        "id": "PruubFzTwBw1",
        "outputId": "b5d6e3a3-e6e0-4899-b156-8bfcfaceb854"
      },
      "outputs": [
        {
          "name": "stdout",
          "output_type": "stream",
          "text": [
            "Downloading MNIST...\n",
            "Downloading file: 10.0\tMB\r\n",
            "Download Complete!\n",
            "Extracting MNIST...\n"
          ]
        }
      ],
      "source": [
        "import os\n",
        "import numpy as np\n",
        "import matplotlib.pyplot as plt\n",
        "import itertools\n",
        "\n",
        "import deeptrack as dt\n",
        "from deeptrack.extras import datasets\n",
        "#Download dataset from the cloud\n",
        "datasets.load(\"MNIST\")\n",
        "\n",
        "PATH_TO_DATASET = os.path.abspath(\"./datasets/MNIST\")\n",
        "\n",
        "TRAINING_SET_PATH = os.path.join(PATH_TO_DATASET, \"training_set.npy\")\n",
        "TRAINING_LABELS_PATH = os.path.join(PATH_TO_DATASET, \"training_labels.npy\")\n",
        "VALIDATION_SET_PATH = os.path.join(PATH_TO_DATASET, \"validation_set.npy\")\n",
        "VALIDATION_LABELS_PATH = os.path.join(PATH_TO_DATASET, \"validation_labels.npy\")\n"
      ]
    },
    {
      "cell_type": "markdown",
      "metadata": {
        "id": "3eel_k0ewBw4"
      },
      "source": [
        "## 2. Defining the dataset\n",
        "\n",
        "### 2.1 Loading the data\n",
        "\n",
        "The dataset is how we provide the network with training data. For this example we create the dataset by loading it from storage using `LoadImage`."
      ]
    },
    {
      "cell_type": "code",
      "execution_count": 3,
      "metadata": {
        "execution": {
          "iopub.execute_input": "2022-04-01T16:23:44.752317Z",
          "iopub.status.busy": "2022-04-01T16:23:44.751788Z",
          "iopub.status.idle": "2022-04-01T16:23:44.754788Z",
          "shell.execute_reply": "2022-04-01T16:23:44.755288Z"
        },
        "id": "cDhx4-MfwBw5"
      },
      "outputs": [],
      "source": [
        "# Load the images from storage\n",
        "get_training_images = dt.LoadImage(path=TRAINING_SET_PATH)\n",
        "get_training_labels = dt.LoadImage(path=TRAINING_LABELS_PATH)\n",
        "\n",
        "get_validation_images = dt.LoadImage(path=VALIDATION_SET_PATH)\n",
        "get_validation_labels = dt.LoadImage(path=VALIDATION_LABELS_PATH)"
      ]
    },
    {
      "cell_type": "markdown",
      "metadata": {
        "id": "hcKy7v_AwBw9"
      },
      "source": [
        "Note that we don't load the images yet, we have just created the objects that will do so. First we normalize the data."
      ]
    },
    {
      "cell_type": "code",
      "execution_count": 4,
      "metadata": {
        "execution": {
          "iopub.execute_input": "2022-04-01T16:23:44.759788Z",
          "iopub.status.busy": "2022-04-01T16:23:44.759788Z",
          "iopub.status.idle": "2022-04-01T16:23:44.762287Z",
          "shell.execute_reply": "2022-04-01T16:23:44.762287Z"
        },
        "id": "sd9s9UuiwBw9"
      },
      "outputs": [],
      "source": [
        "normalization = dt.NormalizeMinMax(0, 1)\n",
        "\n",
        "get_training_images >>= normalization\n",
        "get_validation_images >>= normalization"
      ]
    },
    {
      "cell_type": "markdown",
      "metadata": {
        "id": "4xBfGCnVwBxA"
      },
      "source": [
        "Since all training data is contained in a single file, we explicitly load the images"
      ]
    },
    {
      "cell_type": "code",
      "execution_count": 5,
      "metadata": {
        "execution": {
          "iopub.execute_input": "2022-04-01T16:23:44.765286Z",
          "iopub.status.busy": "2022-04-01T16:23:44.764787Z",
          "iopub.status.idle": "2022-04-01T16:23:45.747786Z",
          "shell.execute_reply": "2022-04-01T16:23:45.748287Z"
        },
        "id": "RVHrnAIVwBxA"
      },
      "outputs": [
        {
          "ename": "AttributeError",
          "evalue": "'NoneType' object has no attribute 'ndim'",
          "output_type": "error",
          "traceback": [
            "\u001b[1;31m---------------------------------------------------------------------------\u001b[0m",
            "\u001b[1;31mAttributeError\u001b[0m                            Traceback (most recent call last)",
            "\u001b[1;32m<ipython-input-1-b7b9aee6e301>\u001b[0m in \u001b[0;36m<module>\u001b[1;34m\u001b[0m\n\u001b[1;32m----> 1\u001b[1;33m \u001b[0mtraining_images\u001b[0m \u001b[1;33m=\u001b[0m \u001b[0mget_training_images\u001b[0m\u001b[1;33m.\u001b[0m\u001b[0mresolve\u001b[0m\u001b[1;33m(\u001b[0m\u001b[1;33m)\u001b[0m\u001b[1;33m\u001b[0m\u001b[1;33m\u001b[0m\u001b[0m\n\u001b[0m\u001b[0;32m      2\u001b[0m \u001b[0mtraining_labels\u001b[0m \u001b[1;33m=\u001b[0m \u001b[0mget_training_labels\u001b[0m\u001b[1;33m.\u001b[0m\u001b[0mresolve\u001b[0m\u001b[1;33m(\u001b[0m\u001b[1;33m)\u001b[0m\u001b[1;33m\u001b[0m\u001b[1;33m\u001b[0m\u001b[0m\n\u001b[0;32m      3\u001b[0m \u001b[1;33m\u001b[0m\u001b[0m\n\u001b[0;32m      4\u001b[0m \u001b[0mvalidation_images\u001b[0m \u001b[1;33m=\u001b[0m \u001b[0mget_validation_images\u001b[0m\u001b[1;33m.\u001b[0m\u001b[0mresolve\u001b[0m\u001b[1;33m(\u001b[0m\u001b[1;33m)\u001b[0m\u001b[1;33m\u001b[0m\u001b[1;33m\u001b[0m\u001b[0m\n\u001b[0;32m      5\u001b[0m \u001b[0mvalidation_labels\u001b[0m \u001b[1;33m=\u001b[0m \u001b[0mget_validation_labels\u001b[0m\u001b[1;33m.\u001b[0m\u001b[0mresolve\u001b[0m\u001b[1;33m(\u001b[0m\u001b[1;33m)\u001b[0m\u001b[1;33m\u001b[0m\u001b[1;33m\u001b[0m\u001b[0m\n",
            "\u001b[1;32m~\\DeepTrack\\DeepTrack-2.0\\deeptrack\\features.py\u001b[0m in \u001b[0;36m__call__\u001b[1;34m(self, image_list, _ID, **kwargs)\u001b[0m\n\u001b[0;32m    175\u001b[0m \u001b[1;33m\u001b[0m\u001b[0m\n\u001b[0;32m    176\u001b[0m         \u001b[1;31m# This executes the feature. DeepTrackNode will determine if it needs to be recalculated. If it does, it will call the `action` method.\u001b[0m\u001b[1;33m\u001b[0m\u001b[1;33m\u001b[0m\u001b[1;33m\u001b[0m\u001b[0m\n\u001b[1;32m--> 177\u001b[1;33m         \u001b[0moutput\u001b[0m \u001b[1;33m=\u001b[0m \u001b[0msuper\u001b[0m\u001b[1;33m(\u001b[0m\u001b[0mFeature\u001b[0m\u001b[1;33m,\u001b[0m \u001b[0mself\u001b[0m\u001b[1;33m)\u001b[0m\u001b[1;33m.\u001b[0m\u001b[0m__call__\u001b[0m\u001b[1;33m(\u001b[0m\u001b[0m_ID\u001b[0m\u001b[1;33m=\u001b[0m\u001b[0m_ID\u001b[0m\u001b[1;33m)\u001b[0m\u001b[1;33m\u001b[0m\u001b[1;33m\u001b[0m\u001b[0m\n\u001b[0m\u001b[0;32m    178\u001b[0m \u001b[1;33m\u001b[0m\u001b[0m\n\u001b[0;32m    179\u001b[0m         \u001b[1;31m# If we have self.arguments, we reset the values of self.arguments to their original values.\u001b[0m\u001b[1;33m\u001b[0m\u001b[1;33m\u001b[0m\u001b[1;33m\u001b[0m\u001b[0m\n",
            "\u001b[1;32m~\\DeepTrack\\DeepTrack-2.0\\deeptrack\\backend\\core.py\u001b[0m in \u001b[0;36m__call__\u001b[1;34m(self, _ID)\u001b[0m\n\u001b[0;32m    273\u001b[0m                 \u001b[1;32mpass\u001b[0m\u001b[1;33m\u001b[0m\u001b[1;33m\u001b[0m\u001b[0m\n\u001b[0;32m    274\u001b[0m \u001b[1;33m\u001b[0m\u001b[0m\n\u001b[1;32m--> 275\u001b[1;33m         \u001b[0mnew_value\u001b[0m \u001b[1;33m=\u001b[0m \u001b[0mutils\u001b[0m\u001b[1;33m.\u001b[0m\u001b[0msafe_call\u001b[0m\u001b[1;33m(\u001b[0m\u001b[0mself\u001b[0m\u001b[1;33m.\u001b[0m\u001b[0maction\u001b[0m\u001b[1;33m,\u001b[0m \u001b[0m_ID\u001b[0m\u001b[1;33m=\u001b[0m\u001b[0m_ID\u001b[0m\u001b[1;33m)\u001b[0m\u001b[1;33m\u001b[0m\u001b[1;33m\u001b[0m\u001b[0m\n\u001b[0m\u001b[0;32m    276\u001b[0m         \u001b[0mself\u001b[0m\u001b[1;33m.\u001b[0m\u001b[0mstore\u001b[0m\u001b[1;33m(\u001b[0m\u001b[0mnew_value\u001b[0m\u001b[1;33m,\u001b[0m \u001b[0m_ID\u001b[0m\u001b[1;33m=\u001b[0m\u001b[0m_ID\u001b[0m\u001b[1;33m)\u001b[0m\u001b[1;33m\u001b[0m\u001b[1;33m\u001b[0m\u001b[0m\n\u001b[0;32m    277\u001b[0m         \u001b[1;32mreturn\u001b[0m \u001b[0mself\u001b[0m\u001b[1;33m.\u001b[0m\u001b[0mcurrent_value\u001b[0m\u001b[1;33m(\u001b[0m\u001b[0m_ID\u001b[0m\u001b[1;33m)\u001b[0m\u001b[1;33m\u001b[0m\u001b[1;33m\u001b[0m\u001b[0m\n",
            "\u001b[1;32m~\\DeepTrack\\DeepTrack-2.0\\deeptrack\\utils.py\u001b[0m in \u001b[0;36msafe_call\u001b[1;34m(function, positional_args, **kwargs)\u001b[0m\n\u001b[0;32m    160\u001b[0m             \u001b[0minput_arguments\u001b[0m\u001b[1;33m[\u001b[0m\u001b[0mkey\u001b[0m\u001b[1;33m]\u001b[0m \u001b[1;33m=\u001b[0m \u001b[0mkwargs\u001b[0m\u001b[1;33m[\u001b[0m\u001b[0mkey\u001b[0m\u001b[1;33m]\u001b[0m\u001b[1;33m\u001b[0m\u001b[1;33m\u001b[0m\u001b[0m\n\u001b[0;32m    161\u001b[0m \u001b[1;33m\u001b[0m\u001b[0m\n\u001b[1;32m--> 162\u001b[1;33m     \u001b[1;32mreturn\u001b[0m \u001b[0mfunction\u001b[0m\u001b[1;33m(\u001b[0m\u001b[1;33m*\u001b[0m\u001b[0mpositional_args\u001b[0m\u001b[1;33m,\u001b[0m \u001b[1;33m**\u001b[0m\u001b[0minput_arguments\u001b[0m\u001b[1;33m)\u001b[0m\u001b[1;33m\u001b[0m\u001b[1;33m\u001b[0m\u001b[0m\n\u001b[0m",
            "\u001b[1;32m~\\DeepTrack\\DeepTrack-2.0\\deeptrack\\features.py\u001b[0m in \u001b[0;36maction\u001b[1;34m(self, _ID)\u001b[0m\n\u001b[0;32m    222\u001b[0m         \u001b[1;31m# _process_and_get calls the get function correctly according\u001b[0m\u001b[1;33m\u001b[0m\u001b[1;33m\u001b[0m\u001b[1;33m\u001b[0m\u001b[0m\n\u001b[0;32m    223\u001b[0m         \u001b[1;31m# to the __distributed__ attribute\u001b[0m\u001b[1;33m\u001b[0m\u001b[1;33m\u001b[0m\u001b[1;33m\u001b[0m\u001b[0m\n\u001b[1;32m--> 224\u001b[1;33m         \u001b[0mnew_list\u001b[0m \u001b[1;33m=\u001b[0m \u001b[0mself\u001b[0m\u001b[1;33m.\u001b[0m\u001b[0m_process_and_get\u001b[0m\u001b[1;33m(\u001b[0m\u001b[0mimage_list\u001b[0m\u001b[1;33m,\u001b[0m \u001b[1;33m**\u001b[0m\u001b[0mfeature_input\u001b[0m\u001b[1;33m)\u001b[0m\u001b[1;33m\u001b[0m\u001b[1;33m\u001b[0m\u001b[0m\n\u001b[0m\u001b[0;32m    225\u001b[0m \u001b[1;33m\u001b[0m\u001b[0m\n\u001b[0;32m    226\u001b[0m         \u001b[1;32mfor\u001b[0m \u001b[0mindex\u001b[0m\u001b[1;33m,\u001b[0m \u001b[0mimage\u001b[0m \u001b[1;32min\u001b[0m \u001b[0menumerate\u001b[0m\u001b[1;33m(\u001b[0m\u001b[0mnew_list\u001b[0m\u001b[1;33m)\u001b[0m\u001b[1;33m:\u001b[0m\u001b[1;33m\u001b[0m\u001b[1;33m\u001b[0m\u001b[0m\n",
            "\u001b[1;32m~\\DeepTrack\\DeepTrack-2.0\\deeptrack\\features.py\u001b[0m in \u001b[0;36m_process_and_get\u001b[1;34m(self, image_list, **feature_input)\u001b[0m\n\u001b[0;32m    417\u001b[0m         \u001b[1;32melse\u001b[0m\u001b[1;33m:\u001b[0m\u001b[1;33m\u001b[0m\u001b[1;33m\u001b[0m\u001b[0m\n\u001b[0;32m    418\u001b[0m             \u001b[1;31m# Call get on entire list.\u001b[0m\u001b[1;33m\u001b[0m\u001b[1;33m\u001b[0m\u001b[1;33m\u001b[0m\u001b[0m\n\u001b[1;32m--> 419\u001b[1;33m             \u001b[0mnew_list\u001b[0m \u001b[1;33m=\u001b[0m \u001b[0mself\u001b[0m\u001b[1;33m.\u001b[0m\u001b[0mget\u001b[0m\u001b[1;33m(\u001b[0m\u001b[0mimage_list\u001b[0m\u001b[1;33m,\u001b[0m \u001b[1;33m**\u001b[0m\u001b[0mfeature_input\u001b[0m\u001b[1;33m)\u001b[0m\u001b[1;33m\u001b[0m\u001b[1;33m\u001b[0m\u001b[0m\n\u001b[0m\u001b[0;32m    420\u001b[0m \u001b[1;33m\u001b[0m\u001b[0m\n\u001b[0;32m    421\u001b[0m             \u001b[1;32mif\u001b[0m \u001b[1;32mnot\u001b[0m \u001b[0misinstance\u001b[0m\u001b[1;33m(\u001b[0m\u001b[0mnew_list\u001b[0m\u001b[1;33m,\u001b[0m \u001b[0mlist\u001b[0m\u001b[1;33m)\u001b[0m\u001b[1;33m:\u001b[0m\u001b[1;33m\u001b[0m\u001b[1;33m\u001b[0m\u001b[0m\n",
            "\u001b[1;32m~\\DeepTrack\\DeepTrack-2.0\\deeptrack\\features.py\u001b[0m in \u001b[0;36mget\u001b[1;34m(self, image, _ID, **kwargs)\u001b[0m\n\u001b[0;32m    600\u001b[0m     \u001b[1;32mdef\u001b[0m \u001b[0mget\u001b[0m\u001b[1;33m(\u001b[0m\u001b[0mself\u001b[0m\u001b[1;33m,\u001b[0m \u001b[0mimage\u001b[0m\u001b[1;33m,\u001b[0m \u001b[0m_ID\u001b[0m\u001b[1;33m=\u001b[0m\u001b[1;33m(\u001b[0m\u001b[1;33m)\u001b[0m\u001b[1;33m,\u001b[0m \u001b[1;33m**\u001b[0m\u001b[0mkwargs\u001b[0m\u001b[1;33m)\u001b[0m\u001b[1;33m:\u001b[0m\u001b[1;33m\u001b[0m\u001b[1;33m\u001b[0m\u001b[0m\n\u001b[0;32m    601\u001b[0m         \u001b[1;34m\"\"\"Resolves `feature_1` and `feature_2` sequentially\"\"\"\u001b[0m\u001b[1;33m\u001b[0m\u001b[1;33m\u001b[0m\u001b[0m\n\u001b[1;32m--> 602\u001b[1;33m         \u001b[0mimage\u001b[0m \u001b[1;33m=\u001b[0m \u001b[0mself\u001b[0m\u001b[1;33m.\u001b[0m\u001b[0mfeature_1\u001b[0m\u001b[1;33m(\u001b[0m\u001b[0mimage\u001b[0m\u001b[1;33m,\u001b[0m \u001b[0m_ID\u001b[0m\u001b[1;33m=\u001b[0m\u001b[0m_ID\u001b[0m\u001b[1;33m)\u001b[0m\u001b[1;33m\u001b[0m\u001b[1;33m\u001b[0m\u001b[0m\n\u001b[0m\u001b[0;32m    603\u001b[0m         \u001b[0mimage\u001b[0m \u001b[1;33m=\u001b[0m \u001b[0mself\u001b[0m\u001b[1;33m.\u001b[0m\u001b[0mfeature_2\u001b[0m\u001b[1;33m(\u001b[0m\u001b[0mimage\u001b[0m\u001b[1;33m,\u001b[0m \u001b[0m_ID\u001b[0m\u001b[1;33m=\u001b[0m\u001b[0m_ID\u001b[0m\u001b[1;33m)\u001b[0m\u001b[1;33m\u001b[0m\u001b[1;33m\u001b[0m\u001b[0m\n\u001b[0;32m    604\u001b[0m         \u001b[1;32mreturn\u001b[0m \u001b[0mimage\u001b[0m\u001b[1;33m\u001b[0m\u001b[1;33m\u001b[0m\u001b[0m\n",
            "\u001b[1;32m~\\DeepTrack\\DeepTrack-2.0\\deeptrack\\features.py\u001b[0m in \u001b[0;36m__call__\u001b[1;34m(self, image_list, _ID, **kwargs)\u001b[0m\n\u001b[0;32m    175\u001b[0m \u001b[1;33m\u001b[0m\u001b[0m\n\u001b[0;32m    176\u001b[0m         \u001b[1;31m# This executes the feature. DeepTrackNode will determine if it needs to be recalculated. If it does, it will call the `action` method.\u001b[0m\u001b[1;33m\u001b[0m\u001b[1;33m\u001b[0m\u001b[1;33m\u001b[0m\u001b[0m\n\u001b[1;32m--> 177\u001b[1;33m         \u001b[0moutput\u001b[0m \u001b[1;33m=\u001b[0m \u001b[0msuper\u001b[0m\u001b[1;33m(\u001b[0m\u001b[0mFeature\u001b[0m\u001b[1;33m,\u001b[0m \u001b[0mself\u001b[0m\u001b[1;33m)\u001b[0m\u001b[1;33m.\u001b[0m\u001b[0m__call__\u001b[0m\u001b[1;33m(\u001b[0m\u001b[0m_ID\u001b[0m\u001b[1;33m=\u001b[0m\u001b[0m_ID\u001b[0m\u001b[1;33m)\u001b[0m\u001b[1;33m\u001b[0m\u001b[1;33m\u001b[0m\u001b[0m\n\u001b[0m\u001b[0;32m    178\u001b[0m \u001b[1;33m\u001b[0m\u001b[0m\n\u001b[0;32m    179\u001b[0m         \u001b[1;31m# If we have self.arguments, we reset the values of self.arguments to their original values.\u001b[0m\u001b[1;33m\u001b[0m\u001b[1;33m\u001b[0m\u001b[1;33m\u001b[0m\u001b[0m\n",
            "\u001b[1;32m~\\DeepTrack\\DeepTrack-2.0\\deeptrack\\backend\\core.py\u001b[0m in \u001b[0;36m__call__\u001b[1;34m(self, _ID)\u001b[0m\n\u001b[0;32m    273\u001b[0m                 \u001b[1;32mpass\u001b[0m\u001b[1;33m\u001b[0m\u001b[1;33m\u001b[0m\u001b[0m\n\u001b[0;32m    274\u001b[0m \u001b[1;33m\u001b[0m\u001b[0m\n\u001b[1;32m--> 275\u001b[1;33m         \u001b[0mnew_value\u001b[0m \u001b[1;33m=\u001b[0m \u001b[0mutils\u001b[0m\u001b[1;33m.\u001b[0m\u001b[0msafe_call\u001b[0m\u001b[1;33m(\u001b[0m\u001b[0mself\u001b[0m\u001b[1;33m.\u001b[0m\u001b[0maction\u001b[0m\u001b[1;33m,\u001b[0m \u001b[0m_ID\u001b[0m\u001b[1;33m=\u001b[0m\u001b[0m_ID\u001b[0m\u001b[1;33m)\u001b[0m\u001b[1;33m\u001b[0m\u001b[1;33m\u001b[0m\u001b[0m\n\u001b[0m\u001b[0;32m    276\u001b[0m         \u001b[0mself\u001b[0m\u001b[1;33m.\u001b[0m\u001b[0mstore\u001b[0m\u001b[1;33m(\u001b[0m\u001b[0mnew_value\u001b[0m\u001b[1;33m,\u001b[0m \u001b[0m_ID\u001b[0m\u001b[1;33m=\u001b[0m\u001b[0m_ID\u001b[0m\u001b[1;33m)\u001b[0m\u001b[1;33m\u001b[0m\u001b[1;33m\u001b[0m\u001b[0m\n\u001b[0;32m    277\u001b[0m         \u001b[1;32mreturn\u001b[0m \u001b[0mself\u001b[0m\u001b[1;33m.\u001b[0m\u001b[0mcurrent_value\u001b[0m\u001b[1;33m(\u001b[0m\u001b[0m_ID\u001b[0m\u001b[1;33m)\u001b[0m\u001b[1;33m\u001b[0m\u001b[1;33m\u001b[0m\u001b[0m\n",
            "\u001b[1;32m~\\DeepTrack\\DeepTrack-2.0\\deeptrack\\utils.py\u001b[0m in \u001b[0;36msafe_call\u001b[1;34m(function, positional_args, **kwargs)\u001b[0m\n\u001b[0;32m    160\u001b[0m             \u001b[0minput_arguments\u001b[0m\u001b[1;33m[\u001b[0m\u001b[0mkey\u001b[0m\u001b[1;33m]\u001b[0m \u001b[1;33m=\u001b[0m \u001b[0mkwargs\u001b[0m\u001b[1;33m[\u001b[0m\u001b[0mkey\u001b[0m\u001b[1;33m]\u001b[0m\u001b[1;33m\u001b[0m\u001b[1;33m\u001b[0m\u001b[0m\n\u001b[0;32m    161\u001b[0m \u001b[1;33m\u001b[0m\u001b[0m\n\u001b[1;32m--> 162\u001b[1;33m     \u001b[1;32mreturn\u001b[0m \u001b[0mfunction\u001b[0m\u001b[1;33m(\u001b[0m\u001b[1;33m*\u001b[0m\u001b[0mpositional_args\u001b[0m\u001b[1;33m,\u001b[0m \u001b[1;33m**\u001b[0m\u001b[0minput_arguments\u001b[0m\u001b[1;33m)\u001b[0m\u001b[1;33m\u001b[0m\u001b[1;33m\u001b[0m\u001b[0m\n\u001b[0m",
            "\u001b[1;32m~\\DeepTrack\\DeepTrack-2.0\\deeptrack\\features.py\u001b[0m in \u001b[0;36maction\u001b[1;34m(self, _ID)\u001b[0m\n\u001b[0;32m    222\u001b[0m         \u001b[1;31m# _process_and_get calls the get function correctly according\u001b[0m\u001b[1;33m\u001b[0m\u001b[1;33m\u001b[0m\u001b[1;33m\u001b[0m\u001b[0m\n\u001b[0;32m    223\u001b[0m         \u001b[1;31m# to the __distributed__ attribute\u001b[0m\u001b[1;33m\u001b[0m\u001b[1;33m\u001b[0m\u001b[1;33m\u001b[0m\u001b[0m\n\u001b[1;32m--> 224\u001b[1;33m         \u001b[0mnew_list\u001b[0m \u001b[1;33m=\u001b[0m \u001b[0mself\u001b[0m\u001b[1;33m.\u001b[0m\u001b[0m_process_and_get\u001b[0m\u001b[1;33m(\u001b[0m\u001b[0mimage_list\u001b[0m\u001b[1;33m,\u001b[0m \u001b[1;33m**\u001b[0m\u001b[0mfeature_input\u001b[0m\u001b[1;33m)\u001b[0m\u001b[1;33m\u001b[0m\u001b[1;33m\u001b[0m\u001b[0m\n\u001b[0m\u001b[0;32m    225\u001b[0m \u001b[1;33m\u001b[0m\u001b[0m\n\u001b[0;32m    226\u001b[0m         \u001b[1;32mfor\u001b[0m \u001b[0mindex\u001b[0m\u001b[1;33m,\u001b[0m \u001b[0mimage\u001b[0m \u001b[1;32min\u001b[0m \u001b[0menumerate\u001b[0m\u001b[1;33m(\u001b[0m\u001b[0mnew_list\u001b[0m\u001b[1;33m)\u001b[0m\u001b[1;33m:\u001b[0m\u001b[1;33m\u001b[0m\u001b[1;33m\u001b[0m\u001b[0m\n",
            "\u001b[1;32m~\\DeepTrack\\DeepTrack-2.0\\deeptrack\\features.py\u001b[0m in \u001b[0;36m_process_and_get\u001b[1;34m(self, image_list, **feature_input)\u001b[0m\n\u001b[0;32m    417\u001b[0m         \u001b[1;32melse\u001b[0m\u001b[1;33m:\u001b[0m\u001b[1;33m\u001b[0m\u001b[1;33m\u001b[0m\u001b[0m\n\u001b[0;32m    418\u001b[0m             \u001b[1;31m# Call get on entire list.\u001b[0m\u001b[1;33m\u001b[0m\u001b[1;33m\u001b[0m\u001b[1;33m\u001b[0m\u001b[0m\n\u001b[1;32m--> 419\u001b[1;33m             \u001b[0mnew_list\u001b[0m \u001b[1;33m=\u001b[0m \u001b[0mself\u001b[0m\u001b[1;33m.\u001b[0m\u001b[0mget\u001b[0m\u001b[1;33m(\u001b[0m\u001b[0mimage_list\u001b[0m\u001b[1;33m,\u001b[0m \u001b[1;33m**\u001b[0m\u001b[0mfeature_input\u001b[0m\u001b[1;33m)\u001b[0m\u001b[1;33m\u001b[0m\u001b[1;33m\u001b[0m\u001b[0m\n\u001b[0m\u001b[0;32m    420\u001b[0m \u001b[1;33m\u001b[0m\u001b[0m\n\u001b[0;32m    421\u001b[0m             \u001b[1;32mif\u001b[0m \u001b[1;32mnot\u001b[0m \u001b[0misinstance\u001b[0m\u001b[1;33m(\u001b[0m\u001b[0mnew_list\u001b[0m\u001b[1;33m,\u001b[0m \u001b[0mlist\u001b[0m\u001b[1;33m)\u001b[0m\u001b[1;33m:\u001b[0m\u001b[1;33m\u001b[0m\u001b[1;33m\u001b[0m\u001b[0m\n",
            "\u001b[1;32m~\\DeepTrack\\DeepTrack-2.0\\deeptrack\\features.py\u001b[0m in \u001b[0;36mget\u001b[1;34m(self, path, load_options, ndim, to_grayscale, as_list, get_one_random, *ign, **kwargs)\u001b[0m\n\u001b[0;32m   1506\u001b[0m                 \u001b[0mwarnings\u001b[0m\u001b[1;33m.\u001b[0m\u001b[0mwarn\u001b[0m\u001b[1;33m(\u001b[0m\u001b[1;34m\"Non-rgb image, ignoring to_grayscale\"\u001b[0m\u001b[1;33m)\u001b[0m\u001b[1;33m\u001b[0m\u001b[1;33m\u001b[0m\u001b[0m\n\u001b[0;32m   1507\u001b[0m \u001b[1;33m\u001b[0m\u001b[0m\n\u001b[1;32m-> 1508\u001b[1;33m         \u001b[1;32mwhile\u001b[0m \u001b[0mndim\u001b[0m \u001b[1;32mand\u001b[0m \u001b[0mimage\u001b[0m\u001b[1;33m.\u001b[0m\u001b[0mndim\u001b[0m \u001b[1;33m<\u001b[0m \u001b[0mndim\u001b[0m\u001b[1;33m:\u001b[0m\u001b[1;33m\u001b[0m\u001b[1;33m\u001b[0m\u001b[0m\n\u001b[0m\u001b[0;32m   1509\u001b[0m             \u001b[0mimage\u001b[0m \u001b[1;33m=\u001b[0m \u001b[0mnp\u001b[0m\u001b[1;33m.\u001b[0m\u001b[0mexpand_dims\u001b[0m\u001b[1;33m(\u001b[0m\u001b[0mimage\u001b[0m\u001b[1;33m,\u001b[0m \u001b[0maxis\u001b[0m\u001b[1;33m=\u001b[0m\u001b[1;33m-\u001b[0m\u001b[1;36m1\u001b[0m\u001b[1;33m)\u001b[0m\u001b[1;33m\u001b[0m\u001b[1;33m\u001b[0m\u001b[0m\n\u001b[0;32m   1510\u001b[0m \u001b[1;33m\u001b[0m\u001b[0m\n",
            "\u001b[1;31mAttributeError\u001b[0m: 'NoneType' object has no attribute 'ndim'"
          ]
        }
      ],
      "source": [
        "training_images = get_training_images.resolve()\n",
        "training_labels = get_training_labels.resolve()\n",
        "\n",
        "validation_images = get_validation_images.resolve()\n",
        "validation_labels = get_validation_labels.resolve()"
      ]
    },
    {
      "cell_type": "markdown",
      "metadata": {
        "id": "ljJdGQOOwBxC"
      },
      "source": [
        "We want to continuously generate new data for the network to train on. For this, we use the Dataset feature."
      ]
    },
    {
      "cell_type": "code",
      "execution_count": 6,
      "metadata": {
        "execution": {
          "iopub.execute_input": "2022-04-01T16:23:45.751287Z",
          "iopub.status.busy": "2022-04-01T16:23:45.750786Z",
          "iopub.status.idle": "2022-04-01T16:23:45.763787Z",
          "shell.execute_reply": "2022-04-01T16:23:45.764286Z"
        },
        "id": "aUxtY-nlwBxC"
      },
      "outputs": [
        {
          "ename": "NameError",
          "evalue": "name 'training_images' is not defined",
          "output_type": "error",
          "traceback": [
            "\u001b[1;31m---------------------------------------------------------------------------\u001b[0m",
            "\u001b[1;31mNameError\u001b[0m                                 Traceback (most recent call last)",
            "\u001b[1;32m<ipython-input-1-f8248ea88ac1>\u001b[0m in \u001b[0;36m<module>\u001b[1;34m\u001b[0m\n\u001b[1;32m----> 1\u001b[1;33m \u001b[0mtraining_data_iterator\u001b[0m \u001b[1;33m=\u001b[0m \u001b[0mitertools\u001b[0m\u001b[1;33m.\u001b[0m\u001b[0mcycle\u001b[0m\u001b[1;33m(\u001b[0m\u001b[0mtraining_images\u001b[0m\u001b[1;33m)\u001b[0m\u001b[1;33m\u001b[0m\u001b[1;33m\u001b[0m\u001b[0m\n\u001b[0m\u001b[0;32m      2\u001b[0m \u001b[0mtraining_label_iterator\u001b[0m \u001b[1;33m=\u001b[0m \u001b[0mitertools\u001b[0m\u001b[1;33m.\u001b[0m\u001b[0mcycle\u001b[0m\u001b[1;33m(\u001b[0m\u001b[0mtraining_labels\u001b[0m\u001b[1;33m)\u001b[0m\u001b[1;33m\u001b[0m\u001b[1;33m\u001b[0m\u001b[0m\n\u001b[0;32m      3\u001b[0m \u001b[1;33m\u001b[0m\u001b[0m\n\u001b[0;32m      4\u001b[0m training_iterator = dt.Dataset(\n\u001b[0;32m      5\u001b[0m     \u001b[0mdata\u001b[0m\u001b[1;33m=\u001b[0m\u001b[0mtraining_data_iterator\u001b[0m\u001b[1;33m,\u001b[0m\u001b[1;33m\u001b[0m\u001b[1;33m\u001b[0m\u001b[0m\n",
            "\u001b[1;31mNameError\u001b[0m: name 'training_images' is not defined"
          ]
        }
      ],
      "source": [
        "training_data_iterator = itertools.cycle(training_images)\n",
        "training_label_iterator = itertools.cycle(training_labels)\n",
        "\n",
        "training_iterator = dt.Dataset(\n",
        "    data=training_data_iterator, \n",
        "    label=training_label_iterator\n",
        ")"
      ]
    },
    {
      "cell_type": "markdown",
      "metadata": {
        "id": "gI7KGmqZwBxF"
      },
      "source": [
        "### 2.2 Augmenting the training set\n",
        "\n",
        "In order to expand the dataset we augment it. "
      ]
    },
    {
      "cell_type": "markdown",
      "metadata": {
        "id": "ey_phHMrwBxF"
      },
      "source": [
        "Affine augmentations consist of translating, rescaling, rotating and shearing"
      ]
    },
    {
      "cell_type": "code",
      "execution_count": 7,
      "metadata": {
        "execution": {
          "iopub.execute_input": "2022-04-01T16:23:45.768787Z",
          "iopub.status.busy": "2022-04-01T16:23:45.768287Z",
          "iopub.status.idle": "2022-04-01T16:23:45.771287Z",
          "shell.execute_reply": "2022-04-01T16:23:45.770787Z"
        },
        "id": "iXALwwXowBxG",
        "scrolled": true
      },
      "outputs": [],
      "source": [
        "# How much to scale in x and y\n",
        "scale = {\n",
        "    \"x\": lambda: 0.8 + np.random.rand() * 0.4,\n",
        "    \"y\": lambda: 0.8 + np.random.rand() * 0.4\n",
        "}\n",
        "\n",
        "# How much to translate in x and y\n",
        "translate_px = {\n",
        "    \"x\": lambda: int(np.random.randint(-2, 3)),\n",
        "    \"y\": lambda: int(np.random.randint(-2, 3))\n",
        "}\n",
        "\n",
        "# Dummy property: whether to rotate or shear\n",
        "should_rotate= lambda: np.random.randint(2)\n",
        "\n",
        "# If should rotate, how much\n",
        "rotate = lambda should_rotate: (-0.35 + np.random.rand() * 0.7) * should_rotate\n",
        "\n",
        "# If not should rotate, how much shear\n",
        "shear = lambda should_rotate: (-0.35 + np.random.rand() * 0.7) * (1 - should_rotate)\n",
        "\n",
        "affine_transform = dt.Affine(\n",
        "    scale=scale,\n",
        "    translate_px=translate_px,\n",
        "    should_rotate=should_rotate,\n",
        "    # shear=shear,   \n",
        "    order=2,\n",
        "    mode=\"constant\"\n",
        ")"
      ]
    },
    {
      "cell_type": "markdown",
      "metadata": {
        "id": "R9zf8NfJwBxI"
      },
      "source": [
        "We also distort the images elastically."
      ]
    },
    {
      "cell_type": "code",
      "execution_count": 8,
      "metadata": {
        "execution": {
          "iopub.execute_input": "2022-04-01T16:23:45.774288Z",
          "iopub.status.busy": "2022-04-01T16:23:45.773787Z",
          "iopub.status.idle": "2022-04-01T16:23:45.775815Z",
          "shell.execute_reply": "2022-04-01T16:23:45.776287Z"
        },
        "id": "Y2J2--NKwBxI"
      },
      "outputs": [],
      "source": [
        "elastic_transform = dt.ElasticTransformation(\n",
        "    alpha=lambda: np.random.rand() * 60, # Amplitude of distortions\n",
        "    sigma=lambda: 5 + np.random.rand() * 2, # Granularity of distortions\n",
        "    ignore_last_dim=True, # Last dimension is not a channel, so it should be augmented\n",
        "    mode=\"constant\"\n",
        ")"
      ]
    },
    {
      "cell_type": "markdown",
      "metadata": {
        "id": "MbrKT7iGwBxK"
      },
      "source": [
        "Finally, since these distortions may cause pixels to fall outside the range of (0, 1), we clip the values."
      ]
    },
    {
      "cell_type": "code",
      "execution_count": 9,
      "metadata": {
        "execution": {
          "iopub.execute_input": "2022-04-01T16:23:45.779286Z",
          "iopub.status.busy": "2022-04-01T16:23:45.778786Z",
          "iopub.status.idle": "2022-04-01T16:23:45.781787Z",
          "shell.execute_reply": "2022-04-01T16:23:45.781286Z"
        },
        "id": "AKfRmo0PwBxK"
      },
      "outputs": [],
      "source": [
        "clip = dt.Clip(0, 1)"
      ]
    },
    {
      "cell_type": "markdown",
      "metadata": {
        "id": "TzzalIsJwBxN"
      },
      "source": [
        "We add the augmentations to the pipeline"
      ]
    },
    {
      "cell_type": "code",
      "execution_count": 10,
      "metadata": {
        "execution": {
          "iopub.execute_input": "2022-04-01T16:23:45.784788Z",
          "iopub.status.busy": "2022-04-01T16:23:45.784288Z",
          "iopub.status.idle": "2022-04-01T16:23:45.797787Z",
          "shell.execute_reply": "2022-04-01T16:23:45.798286Z"
        },
        "id": "Ckgar4LIwBxN"
      },
      "outputs": [
        {
          "ename": "NameError",
          "evalue": "name 'training_iterator' is not defined",
          "output_type": "error",
          "traceback": [
            "\u001b[1;31m---------------------------------------------------------------------------\u001b[0m",
            "\u001b[1;31mNameError\u001b[0m                                 Traceback (most recent call last)",
            "\u001b[1;32m<ipython-input-1-2d24c9f8b856>\u001b[0m in \u001b[0;36m<module>\u001b[1;34m\u001b[0m\n\u001b[0;32m      1\u001b[0m \u001b[0maugmentation\u001b[0m \u001b[1;33m=\u001b[0m \u001b[0melastic_transform\u001b[0m \u001b[1;33m>>\u001b[0m \u001b[0maffine_transform\u001b[0m \u001b[1;33m>>\u001b[0m \u001b[0mclip\u001b[0m\u001b[1;33m\u001b[0m\u001b[1;33m\u001b[0m\u001b[0m\n\u001b[1;32m----> 2\u001b[1;33m \u001b[0maugmented_training_set\u001b[0m \u001b[1;33m=\u001b[0m \u001b[0mtraining_iterator\u001b[0m \u001b[1;33m>>\u001b[0m \u001b[0maugmentation\u001b[0m\u001b[1;33m\u001b[0m\u001b[1;33m\u001b[0m\u001b[0m\n\u001b[0m",
            "\u001b[1;31mNameError\u001b[0m: name 'training_iterator' is not defined"
          ]
        }
      ],
      "source": [
        "augmentation = elastic_transform >> affine_transform >> clip\n",
        "augmented_training_set = training_iterator >> augmentation"
      ]
    },
    {
      "cell_type": "markdown",
      "metadata": {
        "id": "1mQdVr7twBxP"
      },
      "source": [
        "### 2.3 Defining the target\n",
        "The training iterator resolves images. We can extract the label that we provided to the Dataset feature by just calling `get_property`."
      ]
    },
    {
      "cell_type": "code",
      "execution_count": 11,
      "metadata": {
        "execution": {
          "iopub.execute_input": "2022-04-01T16:23:45.800787Z",
          "iopub.status.busy": "2022-04-01T16:23:45.800287Z",
          "iopub.status.idle": "2022-04-01T16:23:45.802786Z",
          "shell.execute_reply": "2022-04-01T16:23:45.803286Z"
        },
        "id": "rhXEireewBxQ"
      },
      "outputs": [],
      "source": [
        "def get_label(image):\n",
        "    return np.array(image.get_property(\"label\")).squeeze()"
      ]
    },
    {
      "cell_type": "markdown",
      "metadata": {
        "id": "CkOq0oYRwBxS"
      },
      "source": [
        "### 2.3 Visualizing the dataset\n",
        "\n",
        "To ensure the data and the labels match up we plot 8 images print their correspoding label. To convert the objects we created to an numpy array, we call the method `resolve()`. Since we flattened the images we need to reshape the images again to visualize them."
      ]
    },
    {
      "cell_type": "code",
      "execution_count": 12,
      "metadata": {
        "colab": {
          "base_uri": "https://localhost:8080/",
          "height": 1000
        },
        "execution": {
          "iopub.execute_input": "2022-04-01T16:23:45.806787Z",
          "iopub.status.busy": "2022-04-01T16:23:45.806787Z",
          "iopub.status.idle": "2022-04-01T16:23:45.819285Z",
          "shell.execute_reply": "2022-04-01T16:23:45.819786Z"
        },
        "id": "vLg7Vy_6wBxS",
        "outputId": "60af0f7c-6ded-44e9-bd75-1b0f2725555a"
      },
      "outputs": [
        {
          "ename": "NameError",
          "evalue": "name 'augmented_training_set' is not defined",
          "output_type": "error",
          "traceback": [
            "\u001b[1;31m---------------------------------------------------------------------------\u001b[0m",
            "\u001b[1;31mNameError\u001b[0m                                 Traceback (most recent call last)",
            "\u001b[1;32m<ipython-input-1-eb5ebef22493>\u001b[0m in \u001b[0;36m<module>\u001b[1;34m\u001b[0m\n\u001b[0;32m      3\u001b[0m \u001b[1;32mfor\u001b[0m \u001b[0mimage_index\u001b[0m \u001b[1;32min\u001b[0m \u001b[0mrange\u001b[0m\u001b[1;33m(\u001b[0m\u001b[0mNUMBER_OF_IMAGES\u001b[0m\u001b[1;33m)\u001b[0m\u001b[1;33m:\u001b[0m\u001b[1;33m\u001b[0m\u001b[1;33m\u001b[0m\u001b[0m\n\u001b[0;32m      4\u001b[0m \u001b[1;33m\u001b[0m\u001b[0m\n\u001b[1;32m----> 5\u001b[1;33m     \u001b[0maugmented_training_set\u001b[0m\u001b[1;33m.\u001b[0m\u001b[0mupdate\u001b[0m\u001b[1;33m(\u001b[0m\u001b[1;33m)\u001b[0m\u001b[1;33m\u001b[0m\u001b[1;33m\u001b[0m\u001b[0m\n\u001b[0m\u001b[0;32m      6\u001b[0m \u001b[1;33m\u001b[0m\u001b[0m\n\u001b[0;32m      7\u001b[0m     \u001b[0moriginal_image\u001b[0m \u001b[1;33m=\u001b[0m \u001b[0mtraining_iterator\u001b[0m\u001b[1;33m(\u001b[0m\u001b[1;33m)\u001b[0m\u001b[1;33m\u001b[0m\u001b[1;33m\u001b[0m\u001b[0m\n",
            "\u001b[1;31mNameError\u001b[0m: name 'augmented_training_set' is not defined"
          ]
        }
      ],
      "source": [
        "NUMBER_OF_IMAGES = 8\n",
        "\n",
        "for image_index in range(NUMBER_OF_IMAGES):\n",
        "    \n",
        "    augmented_training_set.update()\n",
        "    \n",
        "    original_image = training_iterator()\n",
        "    \n",
        "    \n",
        "    plt.figure(figsize=(15, 3))\n",
        "    plt.subplot(1, 6, 1)\n",
        "    plt.imshow(original_image)\n",
        "    plt.axis('off')\n",
        "    plt.title(\"Original image\")\n",
        "    \n",
        "    for sub_plt in range(3, 7):\n",
        "      # Only update the augmentation\n",
        "      augmentation.update()\n",
        "      augmented_image = augmented_training_set()\n",
        "      plt.subplot(1, 6, sub_plt)\n",
        "      plt.imshow(augmented_image)\n",
        "      plt.axis('off')\n",
        "      plt.title(\"Augmented image\")\n",
        "    \n",
        "    plt.show()"
      ]
    },
    {
      "cell_type": "markdown",
      "metadata": {
        "id": "VZ_HouVVwBxU"
      },
      "source": [
        "## 3. Defining the network\n",
        "\n",
        "The network used is a fully connected neural network. Here we define the network architecture, loss function and the optimizer."
      ]
    },
    {
      "cell_type": "code",
      "execution_count": 13,
      "metadata": {
        "execution": {
          "iopub.execute_input": "2022-04-01T16:23:45.828286Z",
          "iopub.status.busy": "2022-04-01T16:23:45.826787Z",
          "iopub.status.idle": "2022-04-01T16:23:46.449287Z",
          "shell.execute_reply": "2022-04-01T16:23:46.449287Z"
        },
        "id": "gW51WHQWwBxV"
      },
      "outputs": [],
      "source": [
        "model = dt.models.FullyConnected(\n",
        "    input_shape=(28, 28, 1),\n",
        "    dense_layers_dimensions=(500, 500, 500, 500),\n",
        "    number_of_outputs=10,\n",
        "    dropout=(0.25, 0.25),\n",
        "    output_activation=\"softmax\",\n",
        "    loss=\"sparse_categorical_crossentropy\",\n",
        "    metrics=[\"accuracy\"],\n",
        "    optimizer=\"rmsprop\"\n",
        ")"
      ]
    },
    {
      "cell_type": "markdown",
      "metadata": {
        "id": "S8CAMVa9wBxX"
      },
      "source": [
        "## 4. Training the network\n",
        "\n",
        "The network is trained for 100 epochs using standard Keras syntax."
      ]
    },
    {
      "cell_type": "code",
      "execution_count": 14,
      "metadata": {
        "colab": {
          "base_uri": "https://localhost:8080/"
        },
        "execution": {
          "iopub.execute_input": "2022-04-01T16:23:46.453787Z",
          "iopub.status.busy": "2022-04-01T16:23:46.453286Z",
          "iopub.status.idle": "2022-04-01T16:23:46.466786Z",
          "shell.execute_reply": "2022-04-01T16:23:46.466287Z"
        },
        "id": "E6AMOz11wBxX",
        "outputId": "7591bde6-0956-4386-c58c-83bc813c9805",
        "scrolled": true
      },
      "outputs": [
        {
          "ename": "NameError",
          "evalue": "name 'augmented_training_set' is not defined",
          "output_type": "error",
          "traceback": [
            "\u001b[1;31m---------------------------------------------------------------------------\u001b[0m",
            "\u001b[1;31mNameError\u001b[0m                                 Traceback (most recent call last)",
            "\u001b[1;32m<ipython-input-1-923caf15052d>\u001b[0m in \u001b[0;36m<module>\u001b[1;34m\u001b[0m\n\u001b[0;32m      3\u001b[0m \u001b[1;32mif\u001b[0m \u001b[0mTRAIN_MODEL\u001b[0m\u001b[1;33m:\u001b[0m\u001b[1;33m\u001b[0m\u001b[1;33m\u001b[0m\u001b[0m\n\u001b[0;32m      4\u001b[0m     generator = dt.generators.ContinuousGenerator(\n\u001b[1;32m----> 5\u001b[1;33m         \u001b[0maugmented_training_set\u001b[0m \u001b[1;33m&\u001b[0m \u001b[1;33m(\u001b[0m\u001b[0maugmented_training_set\u001b[0m \u001b[1;33m>>\u001b[0m \u001b[0mget_label\u001b[0m\u001b[1;33m)\u001b[0m\u001b[1;33m,\u001b[0m\u001b[1;33m\u001b[0m\u001b[1;33m\u001b[0m\u001b[0m\n\u001b[0m\u001b[0;32m      6\u001b[0m         \u001b[0mbatch_size\u001b[0m\u001b[1;33m=\u001b[0m\u001b[1;36m32\u001b[0m\u001b[1;33m,\u001b[0m\u001b[1;33m\u001b[0m\u001b[1;33m\u001b[0m\u001b[0m\n\u001b[0;32m      7\u001b[0m         \u001b[0mmin_data_size\u001b[0m\u001b[1;33m=\u001b[0m\u001b[1;36m1000\u001b[0m\u001b[1;33m,\u001b[0m\u001b[1;33m\u001b[0m\u001b[1;33m\u001b[0m\u001b[0m\n",
            "\u001b[1;31mNameError\u001b[0m: name 'augmented_training_set' is not defined"
          ]
        }
      ],
      "source": [
        "TRAIN_MODEL = True\n",
        "\n",
        "if TRAIN_MODEL:\n",
        "    generator = dt.generators.ContinuousGenerator(\n",
        "        augmented_training_set & (augmented_training_set >> get_label),\n",
        "        batch_size=32,\n",
        "        min_data_size=1000,\n",
        "        max_data_size=1001,\n",
        "    )\n",
        "    with generator:\n",
        "        h = model.fit(\n",
        "            generator,\n",
        "            validation_data=(np.array(validation_images)[:500],\n",
        "                            np.array(validation_labels)[:500].squeeze() ),\n",
        "            epochs=200\n",
        "        )\n",
        "    \n",
        "    plt.plot(h.history[\"loss\"], 'g')\n",
        "    plt.plot(h.history[\"val_loss\"], 'r')\n",
        "    plt.legend([\"Loss\", \"Validation loss\"])\n",
        "    plt.yscale(\"log\")\n",
        "    plt.show()\n",
        "    \n",
        "else:\n",
        "    model_path = datasets.load_model(\"MNIST\")\n",
        "    model.load_weights(model_path)"
      ]
    },
    {
      "cell_type": "markdown",
      "metadata": {
        "id": "kD1JezplwBxZ"
      },
      "source": [
        "## 5. Evaluating the training\n"
      ]
    },
    {
      "cell_type": "code",
      "execution_count": 15,
      "metadata": {
        "colab": {
          "base_uri": "https://localhost:8080/"
        },
        "execution": {
          "iopub.execute_input": "2022-04-01T16:23:46.469786Z",
          "iopub.status.busy": "2022-04-01T16:23:46.469286Z",
          "iopub.status.idle": "2022-04-01T16:23:46.481787Z",
          "shell.execute_reply": "2022-04-01T16:23:46.481287Z"
        },
        "id": "xGYXnCY0wBxZ",
        "outputId": "1f51849a-8953-4d54-ad41-9bc557fe7bc1"
      },
      "outputs": [
        {
          "ename": "NameError",
          "evalue": "name 'validation_images' is not defined",
          "output_type": "error",
          "traceback": [
            "\u001b[1;31m---------------------------------------------------------------------------\u001b[0m",
            "\u001b[1;31mNameError\u001b[0m                                 Traceback (most recent call last)",
            "\u001b[1;32m<ipython-input-1-327287ce3ebb>\u001b[0m in \u001b[0;36m<module>\u001b[1;34m\u001b[0m\n\u001b[1;32m----> 1\u001b[1;33m \u001b[0marray_of_images\u001b[0m \u001b[1;33m=\u001b[0m \u001b[0mvalidation_images\u001b[0m\u001b[1;33m\u001b[0m\u001b[1;33m\u001b[0m\u001b[0m\n\u001b[0m\u001b[0;32m      2\u001b[0m \u001b[0marray_of_labels\u001b[0m \u001b[1;33m=\u001b[0m \u001b[0mvalidation_labels\u001b[0m\u001b[1;33m\u001b[0m\u001b[1;33m\u001b[0m\u001b[0m\n\u001b[0;32m      3\u001b[0m \u001b[1;33m\u001b[0m\u001b[0m\n\u001b[0;32m      4\u001b[0m \u001b[0mpredicted_digits\u001b[0m \u001b[1;33m=\u001b[0m \u001b[0mnp\u001b[0m\u001b[1;33m.\u001b[0m\u001b[0margmax\u001b[0m\u001b[1;33m(\u001b[0m\u001b[0mmodel\u001b[0m\u001b[1;33m.\u001b[0m\u001b[0mpredict\u001b[0m\u001b[1;33m(\u001b[0m\u001b[0marray_of_images\u001b[0m\u001b[1;33m)\u001b[0m\u001b[1;33m,\u001b[0m \u001b[0maxis\u001b[0m\u001b[1;33m=\u001b[0m\u001b[1;36m1\u001b[0m\u001b[1;33m)\u001b[0m\u001b[1;33m\u001b[0m\u001b[1;33m\u001b[0m\u001b[0m\n\u001b[0;32m      5\u001b[0m \u001b[1;33m\u001b[0m\u001b[0m\n",
            "\u001b[1;31mNameError\u001b[0m: name 'validation_images' is not defined"
          ]
        }
      ],
      "source": [
        "array_of_images = validation_images\n",
        "array_of_labels = validation_labels\n",
        "\n",
        "predicted_digits = np.argmax(model.predict(array_of_images), axis=1)\n",
        "\n",
        "accuracy = np.mean(np.array(array_of_labels) == predicted_digits)\n",
        "print(\"Accuracy:\", accuracy)\n",
        "print(\"Error rate:\", 1 - accuracy)"
      ]
    },
    {
      "cell_type": "markdown",
      "metadata": {
        "id": "fWxhPqa_wBxc"
      },
      "source": [
        "### 5.1 Prediction vs actual\n",
        "\n",
        "We show a few images, the true digit and the predicted digit"
      ]
    },
    {
      "cell_type": "code",
      "execution_count": 16,
      "metadata": {
        "colab": {
          "base_uri": "https://localhost:8080/",
          "height": 1000
        },
        "execution": {
          "iopub.execute_input": "2022-04-01T16:23:46.484787Z",
          "iopub.status.busy": "2022-04-01T16:23:46.484287Z",
          "iopub.status.idle": "2022-04-01T16:23:46.497286Z",
          "shell.execute_reply": "2022-04-01T16:23:46.497787Z"
        },
        "id": "rOfnMGUswBxc",
        "outputId": "0b1f485c-9714-498c-fda7-09774cb8ac69"
      },
      "outputs": [
        {
          "ename": "NameError",
          "evalue": "name 'array_of_images' is not defined",
          "output_type": "error",
          "traceback": [
            "\u001b[1;31m---------------------------------------------------------------------------\u001b[0m",
            "\u001b[1;31mNameError\u001b[0m                                 Traceback (most recent call last)",
            "\u001b[1;32m<ipython-input-1-900b79e00a92>\u001b[0m in \u001b[0;36m<module>\u001b[1;34m\u001b[0m\n\u001b[0;32m      3\u001b[0m \u001b[1;33m\u001b[0m\u001b[0m\n\u001b[0;32m      4\u001b[0m \u001b[1;32mfor\u001b[0m \u001b[0mimage_index\u001b[0m \u001b[1;32min\u001b[0m \u001b[0mrange\u001b[0m\u001b[1;33m(\u001b[0m\u001b[0mNUMBER_OF_IMAGES\u001b[0m\u001b[1;33m)\u001b[0m\u001b[1;33m:\u001b[0m\u001b[1;33m\u001b[0m\u001b[1;33m\u001b[0m\u001b[0m\n\u001b[1;32m----> 5\u001b[1;33m     \u001b[0mimage_to_show\u001b[0m \u001b[1;33m=\u001b[0m \u001b[0mnp\u001b[0m\u001b[1;33m.\u001b[0m\u001b[0mreshape\u001b[0m\u001b[1;33m(\u001b[0m\u001b[0marray_of_images\u001b[0m\u001b[1;33m[\u001b[0m\u001b[0mimage_index\u001b[0m\u001b[1;33m]\u001b[0m\u001b[1;33m,\u001b[0m \u001b[1;33m(\u001b[0m\u001b[1;36m28\u001b[0m\u001b[1;33m,\u001b[0m \u001b[1;36m28\u001b[0m\u001b[1;33m)\u001b[0m\u001b[1;33m)\u001b[0m\u001b[1;33m\u001b[0m\u001b[1;33m\u001b[0m\u001b[0m\n\u001b[0m\u001b[0;32m      6\u001b[0m     \u001b[0mplt\u001b[0m\u001b[1;33m.\u001b[0m\u001b[0mimshow\u001b[0m\u001b[1;33m(\u001b[0m\u001b[0mimage_to_show\u001b[0m\u001b[1;33m)\u001b[0m\u001b[1;33m\u001b[0m\u001b[1;33m\u001b[0m\u001b[0m\n\u001b[0;32m      7\u001b[0m     \u001b[0mplt\u001b[0m\u001b[1;33m.\u001b[0m\u001b[0mtitle\u001b[0m\u001b[1;33m(\u001b[0m\u001b[0mTITLE_STRING\u001b[0m\u001b[1;33m.\u001b[0m\u001b[0mformat\u001b[0m\u001b[1;33m(\u001b[0m\u001b[0marray_of_labels\u001b[0m\u001b[1;33m[\u001b[0m\u001b[0mimage_index\u001b[0m\u001b[1;33m]\u001b[0m\u001b[1;33m.\u001b[0m\u001b[0m_value\u001b[0m\u001b[1;33m,\u001b[0m \u001b[0mpredicted_digits\u001b[0m\u001b[1;33m[\u001b[0m\u001b[0mimage_index\u001b[0m\u001b[1;33m]\u001b[0m\u001b[1;33m)\u001b[0m\u001b[1;33m)\u001b[0m\u001b[1;33m\u001b[0m\u001b[1;33m\u001b[0m\u001b[0m\n",
            "\u001b[1;31mNameError\u001b[0m: name 'array_of_images' is not defined"
          ]
        }
      ],
      "source": [
        "NUMBER_OF_IMAGES = 8 \n",
        "TITLE_STRING = \"The image shows the digit {0} \\n The model predicted the digit {1}\"\n",
        "\n",
        "for image_index in range(NUMBER_OF_IMAGES):\n",
        "    image_to_show = np.reshape(array_of_images[image_index], (28, 28))\n",
        "    plt.imshow(image_to_show)\n",
        "    plt.title(TITLE_STRING.format(array_of_labels[image_index]._value, predicted_digits[image_index]))\n",
        "    plt.show()"
      ]
    },
    {
      "cell_type": "markdown",
      "metadata": {
        "id": "uzLxsvD6wBxe"
      },
      "source": [
        "### 5.2 Visualizing errors\n",
        "\n",
        "We show a few images which the model predicted incorrectly."
      ]
    },
    {
      "cell_type": "code",
      "execution_count": 17,
      "metadata": {
        "colab": {
          "base_uri": "https://localhost:8080/",
          "height": 1000
        },
        "execution": {
          "iopub.execute_input": "2022-04-01T16:23:46.501288Z",
          "iopub.status.busy": "2022-04-01T16:23:46.500788Z",
          "iopub.status.idle": "2022-04-01T16:23:46.515785Z",
          "shell.execute_reply": "2022-04-01T16:23:46.515286Z"
        },
        "id": "kFGzbklCwBxe",
        "outputId": "c0bafc54-d3aa-47b7-9f5d-fd8f826fe9e9"
      },
      "outputs": [
        {
          "ename": "NameError",
          "evalue": "name 'predicted_digits' is not defined",
          "output_type": "error",
          "traceback": [
            "\u001b[1;31m---------------------------------------------------------------------------\u001b[0m",
            "\u001b[1;31mNameError\u001b[0m                                 Traceback (most recent call last)",
            "\u001b[1;32m<ipython-input-1-fa71f236057c>\u001b[0m in \u001b[0;36m<module>\u001b[1;34m\u001b[0m\n\u001b[0;32m      1\u001b[0m \u001b[0mNUMBER_OF_IMAGES\u001b[0m \u001b[1;33m=\u001b[0m \u001b[1;36m16\u001b[0m\u001b[1;33m\u001b[0m\u001b[1;33m\u001b[0m\u001b[0m\n\u001b[0;32m      2\u001b[0m \u001b[1;33m\u001b[0m\u001b[0m\n\u001b[1;32m----> 3\u001b[1;33m \u001b[0mmodel_is_wrong\u001b[0m \u001b[1;33m=\u001b[0m \u001b[0mpredicted_digits\u001b[0m \u001b[1;33m!=\u001b[0m \u001b[0marray_of_labels\u001b[0m\u001b[1;33m.\u001b[0m\u001b[0msqueeze\u001b[0m\u001b[1;33m(\u001b[0m\u001b[1;33m)\u001b[0m\u001b[1;33m\u001b[0m\u001b[1;33m\u001b[0m\u001b[0m\n\u001b[0m\u001b[0;32m      4\u001b[0m \u001b[1;33m\u001b[0m\u001b[0m\n\u001b[0;32m      5\u001b[0m \u001b[0marray_of_hard_images\u001b[0m \u001b[1;33m=\u001b[0m \u001b[0marray_of_images\u001b[0m\u001b[1;33m.\u001b[0m\u001b[0m_value\u001b[0m\u001b[1;33m[\u001b[0m\u001b[0mmodel_is_wrong\u001b[0m\u001b[1;33m]\u001b[0m\u001b[1;33m\u001b[0m\u001b[1;33m\u001b[0m\u001b[0m\n",
            "\u001b[1;31mNameError\u001b[0m: name 'predicted_digits' is not defined"
          ]
        }
      ],
      "source": [
        "NUMBER_OF_IMAGES = 16\n",
        "\n",
        "model_is_wrong = predicted_digits != array_of_labels.squeeze()\n",
        "\n",
        "array_of_hard_images = array_of_images._value[model_is_wrong]\n",
        "array_of_hard_labels = array_of_labels._value[model_is_wrong]\n",
        "inaccurately_predicted_digits = predicted_digits[model_is_wrong]\n",
        "\n",
        "for image_index in range(NUMBER_OF_IMAGES):\n",
        "    image_to_show = np.reshape(array_of_hard_images[image_index], (28, 28))\n",
        "    plt.imshow(image_to_show)\n",
        "    plt.title(TITLE_STRING.format(array_of_hard_labels[image_index], inaccurately_predicted_digits[image_index]))\n",
        "    plt.show()"
      ]
    }
  ],
  "metadata": {
    "colab": {
      "collapsed_sections": [],
      "include_colab_link": true,
      "name": "1-MNIST.ipynb",
      "provenance": [],
      "toc_visible": true
    },
    "kernelspec": {
      "display_name": "Python 3",
      "language": "python",
      "name": "python3"
    },
    "language_info": {
      "codemirror_mode": {
        "name": "ipython",
        "version": 3
      },
      "file_extension": ".py",
      "mimetype": "text/x-python",
      "name": "python",
      "nbconvert_exporter": "python",
      "pygments_lexer": "ipython3",
      "version": "3.8.6"
    }
  },
  "nbformat": 4,
  "nbformat_minor": 0
}