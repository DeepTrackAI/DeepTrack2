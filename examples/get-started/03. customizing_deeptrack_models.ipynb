{
  "cells": [
    {
      "cell_type": "code",
      "execution_count": 1,
      "metadata": {
        "execution": {
          "iopub.execute_input": "2022-06-29T20:13:11.122139Z",
          "iopub.status.busy": "2022-06-29T20:13:11.121640Z",
          "iopub.status.idle": "2022-06-29T20:13:12.533639Z",
          "shell.execute_reply": "2022-06-29T20:13:12.534138Z"
        }
      },
      "outputs": [
        {
          "name": "stdout",
          "output_type": "stream",
          "text": [
            "Requirement already satisfied: deeptrack in c:\\users\\gu\\deeptrack\\deeptrack-2.0 (1.2.0)\n",
            "Requirement already satisfied: tensorflow in c:\\users\\gu\\appdata\\local\\programs\\python\\python310\\lib\\site-packages (from deeptrack) (2.9.1)\n",
            "Requirement already satisfied: tensorflow-probability in c:\\users\\gu\\appdata\\local\\programs\\python\\python310\\lib\\site-packages (from deeptrack) (0.17.0)\n",
            "Requirement already satisfied: numpy in c:\\users\\gu\\appdata\\local\\programs\\python\\python310\\lib\\site-packages (from deeptrack) (1.23.0)\n",
            "Requirement already satisfied: scipy in c:\\users\\gu\\appdata\\local\\programs\\python\\python310\\lib\\site-packages (from deeptrack) (1.8.1)\n",
            "Requirement already satisfied: pint in c:\\users\\gu\\appdata\\local\\programs\\python\\python310\\lib\\site-packages (from deeptrack) (0.19.2)\n",
            "Requirement already satisfied: scikit-image>=0.18.0 in c:\\users\\gu\\appdata\\local\\programs\\python\\python310\\lib\\site-packages (from deeptrack) (0.19.3)\n",
            "Requirement already satisfied: pydeepimagej in c:\\users\\gu\\appdata\\local\\programs\\python\\python310\\lib\\site-packages (from deeptrack) (1.1.0)\n",
            "Requirement already satisfied: more_itertools in c:\\users\\gu\\appdata\\local\\programs\\python\\python310\\lib\\site-packages (from deeptrack) (8.13.0)\n",
            "Requirement already satisfied: tensorflow_addons in c:\\users\\gu\\appdata\\local\\programs\\python\\python310\\lib\\site-packages (from deeptrack) (0.17.1)\n",
            "Requirement already satisfied: tifffile>=2019.7.26 in c:\\users\\gu\\appdata\\local\\programs\\python\\python310\\lib\\site-packages (from scikit-image>=0.18.0->deeptrack) (2022.5.4)\n",
            "Requirement already satisfied: imageio>=2.4.1 in c:\\users\\gu\\appdata\\local\\programs\\python\\python310\\lib\\site-packages (from scikit-image>=0.18.0->deeptrack) (2.19.3)\n",
            "Requirement already satisfied: PyWavelets>=1.1.1 in c:\\users\\gu\\appdata\\local\\programs\\python\\python310\\lib\\site-packages (from scikit-image>=0.18.0->deeptrack) (1.3.0)\n",
            "Requirement already satisfied: pillow!=7.1.0,!=7.1.1,!=8.3.0,>=6.1.0 in c:\\users\\gu\\appdata\\local\\programs\\python\\python310\\lib\\site-packages (from scikit-image>=0.18.0->deeptrack) (9.1.1)\n",
            "Requirement already satisfied: packaging>=20.0 in c:\\users\\gu\\appdata\\local\\programs\\python\\python310\\lib\\site-packages (from scikit-image>=0.18.0->deeptrack) (21.3)\n",
            "Requirement already satisfied: networkx>=2.2 in c:\\users\\gu\\appdata\\local\\programs\\python\\python310\\lib\\site-packages (from scikit-image>=0.18.0->deeptrack) (2.8.4)\n",
            "Requirement already satisfied: protobuf<3.20,>=3.9.2 in c:\\users\\gu\\appdata\\local\\programs\\python\\python310\\lib\\site-packages (from tensorflow->deeptrack) (3.19.4)\n",
            "Requirement already satisfied: keras<2.10.0,>=2.9.0rc0 in c:\\users\\gu\\appdata\\local\\programs\\python\\python310\\lib\\site-packages (from tensorflow->deeptrack) (2.9.0)\n",
            "Requirement already satisfied: h5py>=2.9.0 in c:\\users\\gu\\appdata\\local\\programs\\python\\python310\\lib\\site-packages (from tensorflow->deeptrack) (3.7.0)\n",
            "Requirement already satisfied: typing-extensions>=3.6.6 in c:\\users\\gu\\appdata\\local\\programs\\python\\python310\\lib\\site-packages (from tensorflow->deeptrack) (4.2.0)\n",
            "Requirement already satisfied: flatbuffers<2,>=1.12 in c:\\users\\gu\\appdata\\local\\programs\\python\\python310\\lib\\site-packages (from tensorflow->deeptrack) (1.12)\n",
            "Requirement already satisfied: grpcio<2.0,>=1.24.3 in c:\\users\\gu\\appdata\\local\\programs\\python\\python310\\lib\\site-packages (from tensorflow->deeptrack) (1.47.0)\n",
            "Requirement already satisfied: keras-preprocessing>=1.1.1 in c:\\users\\gu\\appdata\\local\\programs\\python\\python310\\lib\\site-packages (from tensorflow->deeptrack) (1.1.2)\n",
            "Requirement already satisfied: six>=1.12.0 in c:\\users\\gu\\appdata\\local\\programs\\python\\python310\\lib\\site-packages (from tensorflow->deeptrack) (1.16.0)\n",
            "Requirement already satisfied: tensorflow-io-gcs-filesystem>=0.23.1 in c:\\users\\gu\\appdata\\local\\programs\\python\\python310\\lib\\site-packages (from tensorflow->deeptrack) (0.26.0)\n",
            "Requirement already satisfied: gast<=0.4.0,>=0.2.1 in c:\\users\\gu\\appdata\\local\\programs\\python\\python310\\lib\\site-packages (from tensorflow->deeptrack) (0.4.0)\n",
            "Requirement already satisfied: tensorflow-estimator<2.10.0,>=2.9.0rc0 in c:\\users\\gu\\appdata\\local\\programs\\python\\python310\\lib\\site-packages (from tensorflow->deeptrack) (2.9.0)\n",
            "Requirement already satisfied: libclang>=13.0.0 in c:\\users\\gu\\appdata\\local\\programs\\python\\python310\\lib\\site-packages (from tensorflow->deeptrack) (14.0.1)\n",
            "Requirement already satisfied: opt-einsum>=2.3.2 in c:\\users\\gu\\appdata\\local\\programs\\python\\python310\\lib\\site-packages (from tensorflow->deeptrack) (3.3.0)\n",
            "Requirement already satisfied: wrapt>=1.11.0 in c:\\users\\gu\\appdata\\local\\programs\\python\\python310\\lib\\site-packages (from tensorflow->deeptrack) (1.14.1)\n",
            "Requirement already satisfied: tensorboard<2.10,>=2.9 in c:\\users\\gu\\appdata\\local\\programs\\python\\python310\\lib\\site-packages (from tensorflow->deeptrack) (2.9.1)\n",
            "Requirement already satisfied: astunparse>=1.6.0 in c:\\users\\gu\\appdata\\local\\programs\\python\\python310\\lib\\site-packages (from tensorflow->deeptrack) (1.6.3)\n",
            "Requirement already satisfied: absl-py>=1.0.0 in c:\\users\\gu\\appdata\\local\\programs\\python\\python310\\lib\\site-packages (from tensorflow->deeptrack) (1.1.0)\n",
            "Requirement already satisfied: termcolor>=1.1.0 in c:\\users\\gu\\appdata\\local\\programs\\python\\python310\\lib\\site-packages (from tensorflow->deeptrack) (1.1.0)\n",
            "Requirement already satisfied: setuptools in c:\\users\\gu\\appdata\\local\\programs\\python\\python310\\lib\\site-packages (from tensorflow->deeptrack) (58.1.0)\n",
            "Requirement already satisfied: google-pasta>=0.1.1 in c:\\users\\gu\\appdata\\local\\programs\\python\\python310\\lib\\site-packages (from tensorflow->deeptrack) (0.2.0)\n",
            "Requirement already satisfied: typeguard>=2.7 in c:\\users\\gu\\appdata\\local\\programs\\python\\python310\\lib\\site-packages (from tensorflow_addons->deeptrack) (2.13.3)\n",
            "Requirement already satisfied: dm-tree in c:\\users\\gu\\appdata\\local\\programs\\python\\python310\\lib\\site-packages (from tensorflow-probability->deeptrack) (0.1.7)\n",
            "Requirement already satisfied: decorator in c:\\users\\gu\\appdata\\local\\programs\\python\\python310\\lib\\site-packages (from tensorflow-probability->deeptrack) (5.1.1)\n",
            "Requirement already satisfied: cloudpickle>=1.3 in c:\\users\\gu\\appdata\\local\\programs\\python\\python310\\lib\\site-packages (from tensorflow-probability->deeptrack) (2.1.0)\n",
            "Requirement already satisfied: wheel<1.0,>=0.23.0 in c:\\users\\gu\\appdata\\local\\programs\\python\\python310\\lib\\site-packages (from astunparse>=1.6.0->tensorflow->deeptrack) (0.37.1)\n",
            "Requirement already satisfied: pyparsing!=3.0.5,>=2.0.2 in c:\\users\\gu\\appdata\\local\\programs\\python\\python310\\lib\\site-packages (from packaging>=20.0->scikit-image>=0.18.0->deeptrack) (3.0.9)\n",
            "Requirement already satisfied: tensorboard-data-server<0.7.0,>=0.6.0 in c:\\users\\gu\\appdata\\local\\programs\\python\\python310\\lib\\site-packages (from tensorboard<2.10,>=2.9->tensorflow->deeptrack) (0.6.1)\n",
            "Requirement already satisfied: tensorboard-plugin-wit>=1.6.0 in c:\\users\\gu\\appdata\\local\\programs\\python\\python310\\lib\\site-packages (from tensorboard<2.10,>=2.9->tensorflow->deeptrack) (1.8.1)\n",
            "Requirement already satisfied: markdown>=2.6.8 in c:\\users\\gu\\appdata\\local\\programs\\python\\python310\\lib\\site-packages (from tensorboard<2.10,>=2.9->tensorflow->deeptrack) (3.3.7)\n",
            "Requirement already satisfied: google-auth<3,>=1.6.3 in c:\\users\\gu\\appdata\\local\\programs\\python\\python310\\lib\\site-packages (from tensorboard<2.10,>=2.9->tensorflow->deeptrack) (2.9.0)\n",
            "Requirement already satisfied: requests<3,>=2.21.0 in c:\\users\\gu\\appdata\\local\\programs\\python\\python310\\lib\\site-packages (from tensorboard<2.10,>=2.9->tensorflow->deeptrack) (2.28.0)\n",
            "Requirement already satisfied: werkzeug>=1.0.1 in c:\\users\\gu\\appdata\\local\\programs\\python\\python310\\lib\\site-packages (from tensorboard<2.10,>=2.9->tensorflow->deeptrack) (2.1.2)\n",
            "Requirement already satisfied: google-auth-oauthlib<0.5,>=0.4.1 in c:\\users\\gu\\appdata\\local\\programs\\python\\python310\\lib\\site-packages (from tensorboard<2.10,>=2.9->tensorflow->deeptrack) (0.4.6)\n",
            "Requirement already satisfied: rsa<5,>=3.1.4 in c:\\users\\gu\\appdata\\local\\programs\\python\\python310\\lib\\site-packages (from google-auth<3,>=1.6.3->tensorboard<2.10,>=2.9->tensorflow->deeptrack) (4.8)\n",
            "Requirement already satisfied: cachetools<6.0,>=2.0.0 in c:\\users\\gu\\appdata\\local\\programs\\python\\python310\\lib\\site-packages (from google-auth<3,>=1.6.3->tensorboard<2.10,>=2.9->tensorflow->deeptrack) (5.2.0)\n",
            "Requirement already satisfied: pyasn1-modules>=0.2.1 in c:\\users\\gu\\appdata\\local\\programs\\python\\python310\\lib\\site-packages (from google-auth<3,>=1.6.3->tensorboard<2.10,>=2.9->tensorflow->deeptrack) (0.2.8)\n",
            "Requirement already satisfied: requests-oauthlib>=0.7.0 in c:\\users\\gu\\appdata\\local\\programs\\python\\python310\\lib\\site-packages (from google-auth-oauthlib<0.5,>=0.4.1->tensorboard<2.10,>=2.9->tensorflow->deeptrack) (1.3.1)\n",
            "Requirement already satisfied: certifi>=2017.4.17 in c:\\users\\gu\\appdata\\local\\programs\\python\\python310\\lib\\site-packages (from requests<3,>=2.21.0->tensorboard<2.10,>=2.9->tensorflow->deeptrack) (2022.6.15)\n",
            "Requirement already satisfied: idna<4,>=2.5 in c:\\users\\gu\\appdata\\local\\programs\\python\\python310\\lib\\site-packages (from requests<3,>=2.21.0->tensorboard<2.10,>=2.9->tensorflow->deeptrack) (3.3)\n",
            "Requirement already satisfied: urllib3<1.27,>=1.21.1 in c:\\users\\gu\\appdata\\local\\programs\\python\\python310\\lib\\site-packages (from requests<3,>=2.21.0->tensorboard<2.10,>=2.9->tensorflow->deeptrack) (1.26.9)\n",
            "Requirement already satisfied: charset-normalizer~=2.0.0 in c:\\users\\gu\\appdata\\local\\programs\\python\\python310\\lib\\site-packages (from requests<3,>=2.21.0->tensorboard<2.10,>=2.9->tensorflow->deeptrack) (2.0.12)\n",
            "Requirement already satisfied: pyasn1<0.5.0,>=0.4.6 in c:\\users\\gu\\appdata\\local\\programs\\python\\python310\\lib\\site-packages (from pyasn1-modules>=0.2.1->google-auth<3,>=1.6.3->tensorboard<2.10,>=2.9->tensorflow->deeptrack) (0.4.8)\n",
            "Requirement already satisfied: oauthlib>=3.0.0 in c:\\users\\gu\\appdata\\local\\programs\\python\\python310\\lib\\site-packages (from requests-oauthlib>=0.7.0->google-auth-oauthlib<0.5,>=0.4.1->tensorboard<2.10,>=2.9->tensorflow->deeptrack) (3.2.0)\n"
          ]
        }
      ],
      "source": [
        "%matplotlib inline\n",
        "%load_ext autoreload\n",
        "%autoreload 2\n",
        "!pip install deeptrack"
      ]
    },
    {
      "cell_type": "markdown",
      "metadata": {},
      "source": [
        "# DeepTrack 2.1 - Introduction\n",
        "\n",
        "<!--<badge>--><a href=\"https://colab.research.google.com/github/softmatterlab/DeepTrack-2.0/blob/master/examples/get-started/03. customizing_deeptrack_models.ipynb\" target=\"_parent\"><img src=\"https://colab.research.google.com/assets/colab-badge.svg\" alt=\"Open In Colab\"/></a><!--</badge>-->\n",
        "\n",
        "This tutorial gives an overview of how to use DeepTrack 2.1.\n",
        "\n",
        "### What is DeepTrack 2.1?\n",
        "\n",
        "DeepTrack 2.1 is a software that provides a comprehensive framework for digital microscopy enhanced by deep learning. In this tutorial we'll use the example of tracking a single particle to demonstrate how to effecively use deeptrack."
      ]
    },
    {
      "cell_type": "code",
      "execution_count": 2,
      "metadata": {
        "execution": {
          "iopub.execute_input": "2022-06-29T20:13:12.536138Z",
          "iopub.status.busy": "2022-06-29T20:13:12.536138Z",
          "iopub.status.idle": "2022-06-29T20:13:16.473668Z",
          "shell.execute_reply": "2022-06-29T20:13:16.473668Z"
        }
      },
      "outputs": [],
      "source": [
        "import deeptrack as dt\n",
        "import matplotlib.pyplot as plt\n",
        "import numpy as np\n",
        "u = dt.units"
      ]
    },
    {
      "cell_type": "markdown",
      "metadata": {},
      "source": [
        "## 1. Generate images\n",
        "\n",
        "In order to train and validate deep-learning models to be used in digital microcopy, we need to generate synthetic images. For example, these images may be like the output of a digital video micoscopy experiment, where we want to track some particles.\n",
        "\n",
        "In DeepTrack 2.0, any image can be viewed as a series of **features** applied in a sequence. Each feature takes an input image and updates it according to an **update rule**. For example, a feature can add a particle, introduce some noise, or image something through an optical device."
      ]
    },
    {
      "cell_type": "markdown",
      "metadata": {},
      "source": [
        "### Features and properties\n",
        "\n",
        "In DeepTrack 2.0, these features are classes implementing the class `Feature` (see also [features_example](../module-examples/features_example.ipynb)). The way a feature updates an image is determined by the values passed to the class constructor. These inputs are converted to **properties** (see also [properties_example](../module-examples/properties_example.ipynb)). For example, a property could be the position of a particle. \n",
        "\n",
        "For example, the code below creates a feature: a point particle implemented by the class `PointParticle` with properties `position=(0, 0)`, and `intensity=100`. We use `u.pixel` to denote the unit of the property. Most of the time (such as here) this can be omitted."
      ]
    },
    {
      "cell_type": "code",
      "execution_count": 3,
      "metadata": {
        "execution": {
          "iopub.execute_input": "2022-06-29T20:13:16.476637Z",
          "iopub.status.busy": "2022-06-29T20:13:16.476140Z",
          "iopub.status.idle": "2022-06-29T20:13:16.632638Z",
          "shell.execute_reply": "2022-06-29T20:13:16.632638Z"
        }
      },
      "outputs": [],
      "source": [
        "particle = dt.PointParticle(\n",
        "    position=(0, 0) * u.pixel,\n",
        "    intensity=100\n",
        ")"
      ]
    },
    {
      "cell_type": "markdown",
      "metadata": {},
      "source": [
        "The above feature is completely deterministic so that the particle will always be at position (0, 0). For machine learning, it may be more useful to add a particle at a random position. This can be done by passing a lambda function that returns a pair of random numbers to the property `position`."
      ]
    },
    {
      "cell_type": "code",
      "execution_count": 4,
      "metadata": {
        "execution": {
          "iopub.execute_input": "2022-06-29T20:13:16.635638Z",
          "iopub.status.busy": "2022-06-29T20:13:16.635138Z",
          "iopub.status.idle": "2022-06-29T20:13:16.791139Z",
          "shell.execute_reply": "2022-06-29T20:13:16.791638Z"
        }
      },
      "outputs": [],
      "source": [
        "IMAGE_SIZE = 64\n",
        "\n",
        "particle = dt.PointParticle(\n",
        "    position=lambda: np.random.rand(2) * IMAGE_SIZE * u.pixel,\n",
        "    intensity=100\n",
        ")"
      ]
    },
    {
      "cell_type": "markdown",
      "metadata": {},
      "source": [
        "A point particle on its own does not make much sense when thinking of actual experiments. In order retrieve an image, we need to define also the optical device through which it is viewed. In DeepTrack 2.1, optical devices are features that convolve the input image with a pupil function. Here, we will use a fluorescence microscope `fluorescence_microscope`, which is implemented by the feature `Fluorescence` (see also [optics_example](../module-examples/optics_example.ipynb)). \n",
        "\n",
        "By calling the fluorescence microscope `fluorescence_microscope` with the point particle `particle`, we create a new feature which resolves the image of the particle as seen through the fluorescence microscope."
      ]
    },
    {
      "cell_type": "code",
      "execution_count": 5,
      "metadata": {
        "execution": {
          "iopub.execute_input": "2022-06-29T20:13:16.794639Z",
          "iopub.status.busy": "2022-06-29T20:13:16.794639Z",
          "iopub.status.idle": "2022-06-29T20:13:16.954639Z",
          "shell.execute_reply": "2022-06-29T20:13:16.955138Z"
        }
      },
      "outputs": [],
      "source": [
        "fluorescence_microscope = dt.Fluorescence(\n",
        "    NA=0.8,\n",
        "    wavelength=680 * u.nm,\n",
        "    magnification=10,\n",
        "    resolution=1 * u.micrometer,\n",
        "    output_region=(0, 0, IMAGE_SIZE, IMAGE_SIZE)\n",
        ")\n",
        "\n",
        "imaged_particle = fluorescence_microscope(particle)"
      ]
    },
    {
      "cell_type": "markdown",
      "metadata": {},
      "source": [
        "We can finally create the image of the particle by calling the feature `imaged_particle()` and plot it."
      ]
    },
    {
      "cell_type": "code",
      "execution_count": 6,
      "metadata": {
        "execution": {
          "iopub.execute_input": "2022-06-29T20:13:16.957638Z",
          "iopub.status.busy": "2022-06-29T20:13:16.957638Z",
          "iopub.status.idle": "2022-06-29T20:13:17.869638Z",
          "shell.execute_reply": "2022-06-29T20:13:17.870139Z"
        }
      },
      "outputs": [
        {
          "data": {
            "image/png": "[encoded data removed]",
            "text/plain": [
              "<Figure size 432x288 with 1 Axes>"
            ]
          },
          "metadata": {
            "needs_background": "light"
          },
          "output_type": "display_data"
        }
      ],
      "source": [
        "output_image = imaged_particle()\n",
        "\n",
        "plt.imshow(np.squeeze(output_image), cmap='gray')\n",
        "plt.show()"
      ]
    },
    {
      "cell_type": "markdown",
      "metadata": {},
      "source": [
        "As a shorthand for this, you can also call plot on the feature directly."
      ]
    },
    {
      "cell_type": "code",
      "execution_count": 7,
      "metadata": {
        "execution": {
          "iopub.execute_input": "2022-06-29T20:13:17.872637Z",
          "iopub.status.busy": "2022-06-29T20:13:17.872138Z",
          "iopub.status.idle": "2022-06-29T20:13:18.112139Z",
          "shell.execute_reply": "2022-06-29T20:13:18.111639Z"
        }
      },
      "outputs": [
        {
          "data": {
            "text/plain": [
              "<AxesSubplot:>"
            ]
          },
          "execution_count": 1,
          "metadata": {},
          "output_type": "execute_result"
        },
        {
          "data": {
            "image/png": "[encoded data removed]",
            "text/plain": [
              "<Figure size 432x288 with 1 Axes>"
            ]
          },
          "metadata": {
            "needs_background": "light"
          },
          "output_type": "display_data"
        }
      ],
      "source": [
        "imaged_particle.plot(cmap=\"gray\")"
      ]
    },
    {
      "cell_type": "markdown",
      "metadata": {},
      "source": [
        "You might have noticed that, even though the position of the particle is random, it doesn't change if you refresh the cell. This is because the value of the particle position is stored as a property of the particle, useful for example to know the ground truth value of the particle position to train a deep-learning model.\n",
        "\n",
        "If you want the particle position to change each time you refresh the cell, you need to call the method `imaged_particle.update()` before resolving the image."
      ]
    },
    {
      "cell_type": "code",
      "execution_count": 8,
      "metadata": {
        "execution": {
          "iopub.execute_input": "2022-06-29T20:13:18.114639Z",
          "iopub.status.busy": "2022-06-29T20:13:18.114639Z",
          "iopub.status.idle": "2022-06-29T20:13:18.361639Z",
          "shell.execute_reply": "2022-06-29T20:13:18.361639Z"
        }
      },
      "outputs": [
        {
          "data": {
            "image/png": "[encoded data removed]",
            "text/plain": [
              "<Figure size 432x288 with 1 Axes>"
            ]
          },
          "metadata": {
            "needs_background": "light"
          },
          "output_type": "display_data"
        }
      ],
      "source": [
        "imaged_particle.update().plot(cmap='gray')\n",
        "plt.show()"
      ]
    },
    {
      "cell_type": "markdown",
      "metadata": {},
      "source": [
        "### Creating a pipeline\n",
        "\n",
        "The power of feature is the ability to chain them! The most common way to chain features is through the pipe operator (`>>`). This will take the output of the feature on the left and pass it as input to the feature on the right! For example, here's how to add noise to the image!"
      ]
    },
    {
      "cell_type": "code",
      "execution_count": 9,
      "metadata": {
        "execution": {
          "iopub.execute_input": "2022-06-29T20:13:18.364139Z",
          "iopub.status.busy": "2022-06-29T20:13:18.364139Z",
          "iopub.status.idle": "2022-06-29T20:13:18.608138Z",
          "shell.execute_reply": "2022-06-29T20:13:18.608638Z"
        }
      },
      "outputs": [
        {
          "data": {
            "text/plain": [
              "<AxesSubplot:>"
            ]
          },
          "execution_count": 1,
          "metadata": {},
          "output_type": "execute_result"
        },
        {
          "data": {
            "image/png": "[encoded data removed]",
            "text/plain": [
              "<Figure size 432x288 with 1 Axes>"
            ]
          },
          "metadata": {
            "needs_background": "light"
          },
          "output_type": "display_data"
        }
      ],
      "source": [
        "# The & operator\n",
        "\n",
        "noisy_image = imaged_particle >> dt.Gaussian(sigma=0.01)\n",
        "noisy_image.update().plot(cmap=\"gray\")"
      ]
    },
    {
      "cell_type": "markdown",
      "metadata": {},
      "source": [
        "Features can also cleanly interact with things that are not features! For example, arithmatic operators or functions!"
      ]
    },
    {
      "cell_type": "code",
      "execution_count": 10,
      "metadata": {
        "execution": {
          "iopub.execute_input": "2022-06-29T20:13:18.611138Z",
          "iopub.status.busy": "2022-06-29T20:13:18.611138Z",
          "iopub.status.idle": "2022-06-29T20:13:18.884139Z",
          "shell.execute_reply": "2022-06-29T20:13:18.884638Z"
        }
      },
      "outputs": [
        {
          "data": {
            "text/plain": [
              "<AxesSubplot:>"
            ]
          },
          "execution_count": 1,
          "metadata": {},
          "output_type": "execute_result"
        },
        {
          "data": {
            "image/png": "[encoded data removed]",
            "text/plain": [
              "<Figure size 432x288 with 1 Axes>"
            ]
          },
          "metadata": {
            "needs_background": "light"
          },
          "output_type": "display_data"
        }
      ],
      "source": [
        "# Arithmatic\n",
        "inverted_particle = 1 - imaged_particle \n",
        "inverted_particle.update().plot(cmap=\"gray\")\n",
        "\n",
        "# Function\n",
        "sqrt_of_particle = imaged_particle >> np.sqrt\n",
        "sqrt_of_particle.update().plot(cmap=\"gray\")\n",
        "\n",
        "# Indexing\n",
        "downsampled_particle = imaged_particle[::2, ::2]\n",
        "downsampled_particle.update().plot(cmap=\"gray\")"
      ]
    },
    {
      "cell_type": "markdown",
      "metadata": {},
      "source": []
    },
    {
      "cell_type": "markdown",
      "metadata": {},
      "source": [
        "There are also a few special operators, noteably the `^` operator and the `&` operator. The `^` operator is a handly tool for evaluating a feature multiple times. Note that each time it is evaluated, it will use a new set of properties. As such, it is a very convenient way to resolve multiple particles!"
      ]
    },
    {
      "cell_type": "code",
      "execution_count": 11,
      "metadata": {
        "execution": {
          "iopub.execute_input": "2022-06-29T20:13:18.887637Z",
          "iopub.status.busy": "2022-06-29T20:13:18.887139Z",
          "iopub.status.idle": "2022-06-29T20:13:19.137139Z",
          "shell.execute_reply": "2022-06-29T20:13:19.137638Z"
        }
      },
      "outputs": [
        {
          "data": {
            "image/png": "[encoded data removed]",
            "text/plain": [
              "<Figure size 432x288 with 1 Axes>"
            ]
          },
          "metadata": {
            "needs_background": "light"
          },
          "output_type": "display_data"
        }
      ],
      "source": [
        "# # The ^ operator\n",
        "\n",
        "particle = dt.PointParticle(\n",
        "    position=lambda: (np.random.rand(2) * IMAGE_SIZE),\n",
        "    intensity=1\n",
        ")\n",
        "\n",
        "five_particles = particle^5\n",
        "\n",
        "# five_particles is a feature that resolves five instances of particle, then images it\n",
        "imaged_five_particles = fluorescence_microscope(five_particles)\n",
        "\n",
        "\n",
        "output_image = imaged_five_particles.update().plot(cmap=\"gray\")\n"
      ]
    },
    {
      "cell_type": "markdown",
      "metadata": {},
      "source": [
        "Bringing it all together, we can create a nice experimental image of multiple particles!"
      ]
    },
    {
      "cell_type": "code",
      "execution_count": 12,
      "metadata": {
        "execution": {
          "iopub.execute_input": "2022-06-29T20:13:19.140138Z",
          "iopub.status.busy": "2022-06-29T20:13:19.139639Z",
          "iopub.status.idle": "2022-06-29T20:13:19.390138Z",
          "shell.execute_reply": "2022-06-29T20:13:19.389638Z"
        }
      },
      "outputs": [
        {
          "data": {
            "image/png": "[encoded data removed]",
            "text/plain": [
              "<Figure size 432x288 with 1 Axes>"
            ]
          },
          "metadata": {
            "needs_background": "light"
          },
          "output_type": "display_data"
        }
      ],
      "source": [
        "experimental_image = fluorescence_microscope(particle^5) + 0.1 >> dt.Poisson(snr=7, background=0.1)\n",
        "output_image = experimental_image.update().plot(cmap=\"gray\")"
      ]
    },
    {
      "cell_type": "markdown",
      "metadata": {},
      "source": [
        "The `&` will be demonstrated in detail later in this example. But know for now that is a way to stack the outputs of multiple features."
      ]
    },
    {
      "cell_type": "markdown",
      "metadata": {},
      "source": [
        "## 2. Retrieve information about the image\n",
        "\n",
        "To train a supervised machine-learning model, labelled images are needed. When a feature is resolved, it automatically stores the properties of all features used to create the image. This allows us to extract information about the image, for example, in order to use them to train machine-learning models. We show two ways of getting a list of positions of all particles in the image.\n",
        "\n",
        "Here, we extract the position of all the particles and plot them as red crosses on the generated image."
      ]
    },
    {
      "cell_type": "code",
      "execution_count": 13,
      "metadata": {
        "execution": {
          "iopub.execute_input": "2022-06-29T20:13:19.393139Z",
          "iopub.status.busy": "2022-06-29T20:13:19.391639Z",
          "iopub.status.idle": "2022-06-29T20:13:19.651638Z",
          "shell.execute_reply": "2022-06-29T20:13:19.651139Z"
        }
      },
      "outputs": [
        {
          "data": {
            "image/png": "[encoded data removed]",
            "text/plain": [
              "<Figure size 432x288 with 1 Axes>"
            ]
          },
          "metadata": {
            "needs_background": "light"
          },
          "output_type": "display_data"
        }
      ],
      "source": [
        "def get_positions(image):\n",
        "    # All properties are stored in the `properties` field of the output.\n",
        "    positions = [property_dict[\"position\"] for property_dict in image.properties if \"position\" in property_dict]\n",
        "    # Alternatively\n",
        "    positions = image.get_property(\"position\", get_one=False)\n",
        "    return np.array(positions)\n",
        "\n",
        "output_image = experimental_image.update()()\n",
        "\n",
        "positions = get_positions(output_image)\n",
        "\n",
        "plt.imshow(np.squeeze(output_image), cmap='gray')\n",
        "plt.scatter(positions[:, 1], positions[:, 0], c=\"r\", s=100, linewidths=4, marker=\"x\")\n",
        "plt.show()"
      ]
    },
    {
      "cell_type": "markdown",
      "metadata": {},
      "source": [
        "Now, we want a pipeline that returns both the image and the positions of the particles. For this we can use the `&` operator."
      ]
    },
    {
      "cell_type": "code",
      "execution_count": 14,
      "metadata": {
        "execution": {
          "iopub.execute_input": "2022-06-29T20:13:19.654138Z",
          "iopub.status.busy": "2022-06-29T20:13:19.654138Z",
          "iopub.status.idle": "2022-06-29T20:13:19.900638Z",
          "shell.execute_reply": "2022-06-29T20:13:19.900139Z"
        }
      },
      "outputs": [
        {
          "data": {
            "image/png": "[encoded data removed]",
            "text/plain": [
              "<Figure size 432x288 with 1 Axes>"
            ]
          },
          "metadata": {
            "needs_background": "light"
          },
          "output_type": "display_data"
        }
      ],
      "source": [
        "position_feature = experimental_image >> get_positions\n",
        "image_and_position = experimental_image & position_feature\n",
        "\n",
        "output_image, positions = image_and_position.update()()\n",
        "\n",
        "plt.imshow(np.squeeze(output_image), cmap='gray')\n",
        "plt.scatter(positions[:, 1], positions[:, 0], c=\"r\", s=100, linewidths=4, marker=\"x\")\n",
        "plt.show()"
      ]
    },
    {
      "cell_type": "markdown",
      "metadata": {},
      "source": [
        "Here, we first create a feature that extracts the positions in the image, and then we \"stack\" them using the `&` operator. The result is a feature that first calls `experimental_image()` and then `get_positions(experimental_image())`, and returns both results. Don't worry, DeepTrack 2.1 makes sure that `experimental_image` will not be executed twice unless absolutely needed!"
      ]
    },
    {
      "cell_type": "markdown",
      "metadata": {},
      "source": [
        "## 3. Training the model"
      ]
    },
    {
      "cell_type": "markdown",
      "metadata": {},
      "source": [
        "We are finally ready to create a deep-learning model to track the particles.\n",
        "We will use a convolutional neural network implemented by the function `convolutional` (see also [models_example](../module-examples/models_example.ipynb)) to track point particles (`particle`) imaged through a fluorescence microscope (`fluorescence_microscope`) with some noise (`offset` and `poisson_noise`). We will furthermore use the feature `NormalizeMinMax` to normalize the dynamic range of the images btween 0 and 1.\n",
        "\n",
        "This model is designed to track a single particle with a high accuracy. It is not well suited for the task of multi-particle tracking."
      ]
    },
    {
      "cell_type": "code",
      "execution_count": 15,
      "metadata": {
        "execution": {
          "iopub.execute_input": "2022-06-29T20:13:19.904138Z",
          "iopub.status.busy": "2022-06-29T20:13:19.903639Z",
          "iopub.status.idle": "2022-06-29T20:13:20.126638Z",
          "shell.execute_reply": "2022-06-29T20:13:20.126139Z"
        }
      },
      "outputs": [],
      "source": [
        "# DEFINE LABEL FUNCTION\n",
        "def get_position(image):\n",
        "    return image.get_property(\"position\") - IMAGE_SIZE / 2\n",
        "        \n",
        "# DEFINE MODEL\n",
        "model = dt.models.Convolutional(input_shape=(IMAGE_SIZE, IMAGE_SIZE, 1), number_of_outputs=2, loss=\"mae\")\n",
        "\n",
        "# DEFINE TRAINING SET\n",
        "particle = dt.PointParticle(position=lambda: IMAGE_SIZE / 2 + np.random.randn(2) * 2)\n",
        "training_data = fluorescence_microscope(particle) >> dt.NormalizeMinMax()\n",
        "training_set = training_data & (training_data >> get_position)"
      ]
    },
    {
      "cell_type": "markdown",
      "metadata": {},
      "source": [
        "Since we've defined the `training_set` as a feature that returns the data and the label simultaneously, we can train the model by passing it the feature directly! For more control on exactly how the model is trained, please see the next guide on how to use `generators`."
      ]
    },
    {
      "cell_type": "code",
      "execution_count": 16,
      "metadata": {
        "execution": {
          "iopub.execute_input": "2022-06-29T20:13:20.129138Z",
          "iopub.status.busy": "2022-06-29T20:13:20.128639Z",
          "iopub.status.idle": "2022-06-29T20:13:41.428639Z",
          "shell.execute_reply": "2022-06-29T20:13:41.429138Z"
        }
      },
      "outputs": [
        {
          "name": "stdout",
          "output_type": "stream",
          "text": [
            "Generating 334 / 320 samples before starting training\n",
            "Epoch 1/100\n",
            "20/20 [==============================] - 3s 5ms/step - loss: 1.5093\n",
            "Epoch 2/100\n",
            "20/20 [==============================] - 0s 5ms/step - loss: 0.6360\n",
            "Epoch 3/100\n",
            "20/20 [==============================] - 0s 6ms/step - loss: 0.3514\n",
            "Epoch 4/100\n",
            "20/20 [==============================] - 0s 7ms/step - loss: 0.2483\n",
            "Epoch 5/100\n",
            "20/20 [==============================] - 0s 6ms/step - loss: 0.1509\n",
            "Epoch 6/100\n",
            "20/20 [==============================] - 0s 7ms/step - loss: 0.1361\n",
            "Epoch 7/100\n",
            "20/20 [==============================] - 0s 6ms/step - loss: 0.1472\n",
            "Epoch 8/100\n",
            "20/20 [==============================] - 0s 5ms/step - loss: 0.1015\n",
            "Epoch 9/100\n",
            "20/20 [==============================] - 0s 5ms/step - loss: 0.1396\n",
            "Epoch 10/100\n",
            "20/20 [==============================] - 0s 6ms/step - loss: 0.1154\n",
            "Epoch 11/100\n",
            "20/20 [==============================] - 0s 6ms/step - loss: 0.1340\n",
            "Epoch 12/100\n",
            "20/20 [==============================] - 0s 6ms/step - loss: 0.1401\n",
            "Epoch 13/100\n",
            "20/20 [==============================] - 0s 5ms/step - loss: 0.1221\n",
            "Epoch 14/100\n",
            "20/20 [==============================] - 0s 6ms/step - loss: 0.1137\n",
            "Epoch 15/100\n",
            "20/20 [==============================] - 0s 6ms/step - loss: 0.0894\n",
            "Epoch 16/100\n",
            "20/20 [==============================] - 0s 7ms/step - loss: 0.1117\n",
            "Epoch 17/100\n",
            "20/20 [==============================] - 0s 6ms/step - loss: 0.0779\n",
            "Epoch 18/100\n",
            "20/20 [==============================] - 0s 6ms/step - loss: 0.0846\n",
            "Epoch 19/100\n",
            "20/20 [==============================] - 0s 6ms/step - loss: 0.0989\n",
            "Epoch 20/100\n",
            "20/20 [==============================] - 0s 6ms/step - loss: 0.0836\n",
            "Epoch 21/100\n",
            "20/20 [==============================] - 0s 6ms/step - loss: 0.0675\n",
            "Epoch 22/100\n",
            "20/20 [==============================] - 0s 6ms/step - loss: 0.0573\n",
            "Epoch 23/100\n",
            "20/20 [==============================] - 0s 6ms/step - loss: 0.0912\n",
            "Epoch 24/100\n",
            "20/20 [==============================] - 0s 4ms/step - loss: 0.0811\n",
            "Epoch 25/100\n",
            "20/20 [==============================] - 0s 4ms/step - loss: 0.0690\n",
            "Epoch 26/100\n",
            "20/20 [==============================] - 0s 6ms/step - loss: 0.1375\n",
            "Epoch 27/100\n",
            "20/20 [==============================] - 0s 6ms/step - loss: 0.1061\n",
            "Epoch 28/100\n",
            "20/20 [==============================] - 0s 7ms/step - loss: 0.1043\n",
            "Epoch 29/100\n",
            "20/20 [==============================] - 0s 8ms/step - loss: 0.0707\n",
            "Epoch 30/100\n",
            "20/20 [==============================] - 0s 6ms/step - loss: 0.0788\n",
            "Epoch 31/100\n",
            "20/20 [==============================] - 0s 6ms/step - loss: 0.0802\n",
            "Epoch 32/100\n",
            "20/20 [==============================] - 0s 7ms/step - loss: 0.1417\n",
            "Epoch 33/100\n",
            "20/20 [==============================] - 0s 7ms/step - loss: 0.1133\n",
            "Epoch 34/100\n",
            "20/20 [==============================] - 0s 8ms/step - loss: 0.0884\n",
            "Epoch 35/100\n",
            "20/20 [==============================] - 0s 7ms/step - loss: 0.0705\n",
            "Epoch 36/100\n",
            "20/20 [==============================] - 0s 7ms/step - loss: 0.0940\n",
            "Epoch 37/100\n",
            "20/20 [==============================] - 0s 7ms/step - loss: 0.0673\n",
            "Epoch 38/100\n",
            "20/20 [==============================] - 0s 7ms/step - loss: 0.0719\n",
            "Epoch 39/100\n",
            "20/20 [==============================] - 0s 7ms/step - loss: 0.0679\n",
            "Epoch 40/100\n",
            "20/20 [==============================] - 0s 7ms/step - loss: 0.0765\n",
            "Epoch 41/100\n",
            "20/20 [==============================] - 0s 6ms/step - loss: 0.0974\n",
            "Epoch 42/100\n",
            "20/20 [==============================] - 0s 7ms/step - loss: 0.0808\n",
            "Epoch 43/100\n",
            "20/20 [==============================] - 0s 7ms/step - loss: 0.0748\n",
            "Epoch 44/100\n",
            "20/20 [==============================] - 0s 6ms/step - loss: 0.0565\n",
            "Epoch 45/100\n",
            "20/20 [==============================] - 0s 8ms/step - loss: 0.0572\n",
            "Epoch 46/100\n",
            "20/20 [==============================] - 0s 7ms/step - loss: 0.1052\n",
            "Epoch 47/100\n",
            "20/20 [==============================] - 0s 6ms/step - loss: 0.0693\n",
            "Epoch 48/100\n",
            "20/20 [==============================] - 0s 6ms/step - loss: 0.0559\n",
            "Epoch 49/100\n",
            "20/20 [==============================] - 0s 6ms/step - loss: 0.1041\n",
            "Epoch 50/100\n",
            "20/20 [==============================] - 0s 6ms/step - loss: 0.0611\n",
            "Epoch 51/100\n",
            "20/20 [==============================] - 0s 6ms/step - loss: 0.0480\n",
            "Epoch 52/100\n",
            "20/20 [==============================] - 0s 7ms/step - loss: 0.0542\n",
            "Epoch 53/100\n",
            "20/20 [==============================] - 0s 7ms/step - loss: 0.0547\n",
            "Epoch 54/100\n",
            "20/20 [==============================] - 0s 7ms/step - loss: 0.0626\n",
            "Epoch 55/100\n",
            "20/20 [==============================] - 0s 7ms/step - loss: 0.0542\n",
            "Epoch 56/100\n",
            "20/20 [==============================] - 0s 7ms/step - loss: 0.0862\n",
            "Epoch 57/100\n",
            "20/20 [==============================] - 0s 7ms/step - loss: 0.0688\n",
            "Epoch 58/100\n",
            "20/20 [==============================] - 0s 6ms/step - loss: 0.0733\n",
            "Epoch 59/100\n",
            "20/20 [==============================] - 0s 7ms/step - loss: 0.0573\n",
            "Epoch 60/100\n",
            "20/20 [==============================] - 0s 6ms/step - loss: 0.0585\n",
            "Epoch 61/100\n",
            "20/20 [==============================] - 0s 7ms/step - loss: 0.0636\n",
            "Epoch 62/100\n",
            "20/20 [==============================] - 0s 7ms/step - loss: 0.0653\n",
            "Epoch 63/100\n",
            "20/20 [==============================] - 0s 8ms/step - loss: 0.0672\n",
            "Epoch 64/100\n",
            "20/20 [==============================] - 0s 7ms/step - loss: 0.0959\n",
            "Epoch 65/100\n",
            "20/20 [==============================] - 0s 8ms/step - loss: 0.0624\n",
            "Epoch 66/100\n",
            "20/20 [==============================] - 0s 7ms/step - loss: 0.0882\n",
            "Epoch 67/100\n",
            "20/20 [==============================] - 0s 7ms/step - loss: 0.0786\n",
            "Epoch 68/100\n",
            "20/20 [==============================] - 0s 7ms/step - loss: 0.0890\n",
            "Epoch 69/100\n",
            "20/20 [==============================] - 0s 7ms/step - loss: 0.0677\n",
            "Epoch 70/100\n",
            "20/20 [==============================] - 0s 7ms/step - loss: 0.0788\n",
            "Epoch 71/100\n",
            "20/20 [==============================] - 0s 7ms/step - loss: 0.0629\n",
            "Epoch 72/100\n",
            "20/20 [==============================] - 0s 7ms/step - loss: 0.0475\n",
            "Epoch 73/100\n",
            "20/20 [==============================] - 0s 8ms/step - loss: 0.0606\n",
            "Epoch 74/100\n",
            "20/20 [==============================] - 0s 4ms/step - loss: 0.0651\n",
            "Epoch 75/100\n",
            "20/20 [==============================] - 0s 6ms/step - loss: 0.0568\n",
            "Epoch 76/100\n",
            "20/20 [==============================] - 0s 6ms/step - loss: 0.0537\n",
            "Epoch 77/100\n",
            "20/20 [==============================] - 0s 7ms/step - loss: 0.0514\n",
            "Epoch 78/100\n",
            "20/20 [==============================] - 0s 7ms/step - loss: 0.0654\n",
            "Epoch 79/100\n",
            "20/20 [==============================] - 0s 7ms/step - loss: 0.0787\n",
            "Epoch 80/100\n",
            "20/20 [==============================] - 0s 6ms/step - loss: 0.0754\n",
            "Epoch 81/100\n",
            "20/20 [==============================] - 0s 7ms/step - loss: 0.0741\n",
            "Epoch 82/100\n",
            "20/20 [==============================] - 0s 7ms/step - loss: 0.0533\n",
            "Epoch 83/100\n",
            "20/20 [==============================] - 0s 7ms/step - loss: 0.0493\n",
            "Epoch 84/100\n",
            "20/20 [==============================] - 0s 8ms/step - loss: 0.0559\n",
            "Epoch 85/100\n",
            "20/20 [==============================] - 0s 7ms/step - loss: 0.0796\n",
            "Epoch 86/100\n",
            "20/20 [==============================] - 0s 6ms/step - loss: 0.0829\n",
            "Epoch 87/100\n",
            "20/20 [==============================] - 0s 6ms/step - loss: 0.0597\n",
            "Epoch 88/100\n",
            "20/20 [==============================] - 0s 7ms/step - loss: 0.0797\n",
            "Epoch 89/100\n",
            "20/20 [==============================] - 0s 7ms/step - loss: 0.0972\n",
            "Epoch 90/100\n",
            "20/20 [==============================] - 0s 7ms/step - loss: 0.0761\n",
            "Epoch 91/100\n",
            "20/20 [==============================] - 0s 6ms/step - loss: 0.0756\n",
            "Epoch 92/100\n",
            "20/20 [==============================] - 0s 7ms/step - loss: 0.0672\n",
            "Epoch 93/100\n",
            "20/20 [==============================] - 0s 7ms/step - loss: 0.0596\n",
            "Epoch 94/100\n",
            "20/20 [==============================] - 0s 7ms/step - loss: 0.0491\n",
            "Epoch 95/100\n",
            "20/20 [==============================] - 0s 7ms/step - loss: 0.0571\n",
            "Epoch 96/100\n",
            "20/20 [==============================] - 0s 6ms/step - loss: 0.0727\n",
            "Epoch 97/100\n",
            "20/20 [==============================] - 0s 7ms/step - loss: 0.0698\n",
            "Epoch 98/100\n",
            "20/20 [==============================] - 0s 7ms/step - loss: 0.0561\n",
            "Epoch 99/100\n",
            "20/20 [==============================] - 0s 7ms/step - loss: 0.0674\n",
            "Epoch 100/100\n",
            "20/20 [==============================] - 0s 6ms/step - loss: 0.0715\n"
          ]
        },
        {
          "data": {
            "text/plain": [
              "<tensorflow.python.keras.callbacks.History at 0x1bb98eb4f70>"
            ]
          },
          "execution_count": 1,
          "metadata": {},
          "output_type": "execute_result"
        }
      ],
      "source": [
        "model.fit(training_set, batch_size=16, epochs=100)"
      ]
    },
    {
      "cell_type": "markdown",
      "metadata": {},
      "source": [
        "Finally, we test the trained model on some newly generated images. We can extract a batch from the generator directly"
      ]
    },
    {
      "cell_type": "code",
      "execution_count": 17,
      "metadata": {
        "execution": {
          "iopub.execute_input": "2022-06-29T20:13:41.431638Z",
          "iopub.status.busy": "2022-06-29T20:13:41.431638Z",
          "iopub.status.idle": "2022-06-29T20:13:41.883138Z",
          "shell.execute_reply": "2022-06-29T20:13:41.882639Z"
        }
      },
      "outputs": [
        {
          "name": "stdout",
          "output_type": "stream",
          "text": [
            "WARNING:tensorflow:Keras is training/fitting/evaluating on array-like data. Keras may not be optimized for this format, so if your input data format is supported by TensorFlow I/O (https://github.com/tensorflow/io) we recommend using that to load a Dataset instead.\n"
          ]
        },
        {
          "data": {
            "image/png": "[encoded data removed]",
            "text/plain": [
              "<Figure size 432x288 with 1 Axes>"
            ]
          },
          "metadata": {
            "needs_background": "light"
          },
          "output_type": "display_data"
        }
      ],
      "source": [
        "\n",
        "image, true_position = training_set.update()()\n",
        "measured_positions = model.predict(image[np.newaxis])[0] + IMAGE_SIZE / 2\n",
        "\n",
        "plt.imshow(image, cmap='gray')\n",
        "plt.scatter(true_position[1] + IMAGE_SIZE / 2, true_position[0] + IMAGE_SIZE / 2, s=70, c='r', marker='x')\n",
        "plt.scatter(measured_positions[1], measured_positions[0], s=100, marker='o', facecolor='none', edgecolors='b')\n",
        "plt.show()"
      ]
    }
  ],
  "metadata": {
    "kernelspec": {
      "display_name": "Python 3",
      "language": "python",
      "name": "python3"
    },
    "language_info": {
      "codemirror_mode": {
        "name": "ipython",
        "version": 3
      },
      "file_extension": ".py",
      "mimetype": "text/x-python",
      "name": "python",
      "nbconvert_exporter": "python",
      "pygments_lexer": "ipython3",
      "version": "3.8.6"
    }
  },
  "nbformat": 4,
  "nbformat_minor": 2
}