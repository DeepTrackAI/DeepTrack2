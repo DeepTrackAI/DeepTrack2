{
 "cells": [
  {
   "cell_type": "code",
   "execution_count": 1,
   "metadata": {
    "execution": {
     "iopub.execute_input": "2022-04-01T18:46:39.287817Z",
     "iopub.status.busy": "2022-04-01T18:46:39.287317Z",
     "iopub.status.idle": "2022-04-01T18:46:39.572817Z",
     "shell.execute_reply": "2022-04-01T18:46:39.572817Z"
    }
   },
   "outputs": [],
   "source": [
    "%matplotlib inline\n",
    "%load_ext autoreload\n",
    "%autoreload 2\n",
    "import sys\n",
    "sys.path.insert(0, \"../..\")"
   ]
  },
  {
   "cell_type": "markdown",
   "metadata": {},
   "source": [
    "# DeepTrack 2.1 - Generators\n",
    "\n",
    "<!--<badge>--><a href=\"https://colab.research.google.com/github/softmatterlab/DeepTrack-2.0/blob/bm/readme/examples/get-started/02. using_deeptrack_generators.ipynb\" target=\"_parent\"><img src=\"https://colab.research.google.com/assets/colab-badge.svg\" alt=\"Open In Colab\"/></a><!--</badge>-->\n",
    "\n",
    "This tutorial introduces and explains generators.\n",
    "\n",
    "### What are generators?\n",
    "\n",
    "Generators are objects designed to help DeepTrack interface with other packages that want to retrieve the data. They achieve this by automatically executing your features and return data in a standardized format, such as in batches."
   ]
  },
  {
   "cell_type": "code",
   "execution_count": 2,
   "metadata": {
    "execution": {
     "iopub.execute_input": "2022-04-01T18:46:39.576317Z",
     "iopub.status.busy": "2022-04-01T18:46:39.575816Z",
     "iopub.status.idle": "2022-04-01T18:46:43.843816Z",
     "shell.execute_reply": "2022-04-01T18:46:43.843816Z"
    }
   },
   "outputs": [],
   "source": [
    "import deeptrack as dt\n",
    "import matplotlib.pyplot as plt\n",
    "import numpy as np\n",
    "u = dt.units"
   ]
  },
  {
   "cell_type": "markdown",
   "metadata": {},
   "source": [
    "## 1. Create a data pipeline\n",
    "\n",
    "For demonstration purposes, we'll define a simple data pipeline."
   ]
  },
  {
   "cell_type": "code",
   "execution_count": 3,
   "metadata": {
    "execution": {
     "iopub.execute_input": "2022-04-01T18:46:43.847315Z",
     "iopub.status.busy": "2022-04-01T18:46:43.846816Z",
     "iopub.status.idle": "2022-04-01T18:46:44.892317Z",
     "shell.execute_reply": "2022-04-01T18:46:44.892317Z"
    }
   },
   "outputs": [
    {
     "data": {
      "text/plain": [
       "<AxesSubplot:>"
      ]
     },
     "execution_count": 1,
     "metadata": {},
     "output_type": "execute_result"
    },
    {
     "data": {
      "image/png": "[encoded data removed]",
      "text/plain": [
       "<Figure size 432x288 with 1 Axes>"
      ]
     },
     "metadata": {
      "needs_background": "light"
     },
     "output_type": "display_data"
    }
   ],
   "source": [
    "IMAGE_SIZE = 64\n",
    "particle = dt.MieSphere(position=lambda: np.random.uniform(IMAGE_SIZE / 2 - 4, IMAGE_SIZE / 2 + 4, 2))\n",
    "optics = dt.Brightfield(output_region=(0, 0, IMAGE_SIZE, IMAGE_SIZE))\n",
    "image_pipeline = optics(particle)\n",
    "image_pipeline.plot(cmap=\"gray\")"
   ]
  },
  {
   "cell_type": "code",
   "execution_count": 4,
   "metadata": {
    "execution": {
     "iopub.execute_input": "2022-04-01T18:46:44.895316Z",
     "iopub.status.busy": "2022-04-01T18:46:44.894816Z",
     "iopub.status.idle": "2022-04-01T18:46:45.051316Z",
     "shell.execute_reply": "2022-04-01T18:46:45.051816Z"
    }
   },
   "outputs": [],
   "source": [
    "label = image_pipeline >> (lambda image: image.get_property(\"position\") - IMAGE_SIZE / 2)\n",
    "data_pipeline = image_pipeline & label "
   ]
  },
  {
   "cell_type": "markdown",
   "metadata": {},
   "source": [
    "## 1. The ContinuousGenerator\n",
    "\n",
    "The main generator used is the `ContinuousGenerator`. This will spin up a new thread in the background to continuously create more data asynchronously. This is very useful when training on the gpu, because it maximizes the utilization of both the gpu and the cpu! You create a generator like so:"
   ]
  },
  {
   "cell_type": "code",
   "execution_count": 5,
   "metadata": {
    "execution": {
     "iopub.execute_input": "2022-04-01T18:46:45.054316Z",
     "iopub.status.busy": "2022-04-01T18:46:45.053818Z",
     "iopub.status.idle": "2022-04-01T18:46:45.204348Z",
     "shell.execute_reply": "2022-04-01T18:46:45.203818Z"
    }
   },
   "outputs": [],
   "source": [
    "generator = dt.generators.ContinuousGenerator(data_pipeline)"
   ]
  },
  {
   "cell_type": "markdown",
   "metadata": {},
   "source": [
    "This will create images in batches for you asunchronously until it is filled up. Then it waits for a signal to replace that data with new data! Of course, you'll want to specify these parameters when creating the generator."
   ]
  },
  {
   "cell_type": "code",
   "execution_count": 6,
   "metadata": {
    "execution": {
     "iopub.execute_input": "2022-04-01T18:46:45.206816Z",
     "iopub.status.busy": "2022-04-01T18:46:45.206315Z",
     "iopub.status.idle": "2022-04-01T18:46:45.359815Z",
     "shell.execute_reply": "2022-04-01T18:46:45.359815Z"
    }
   },
   "outputs": [],
   "source": [
    "# A generator that will fill up with 128 samples, and output them in batches of 8.\n",
    "generator = dt.generators.ContinuousGenerator(data_pipeline, batch_size=8, max_data_size=512)"
   ]
  },
  {
   "cell_type": "markdown",
   "metadata": {},
   "source": [
    "In order to tell the generator to start creating data, we use the with statement:"
   ]
  },
  {
   "cell_type": "code",
   "execution_count": 7,
   "metadata": {
    "execution": {
     "iopub.execute_input": "2022-04-01T18:46:45.363816Z",
     "iopub.status.busy": "2022-04-01T18:46:45.363317Z",
     "iopub.status.idle": "2022-04-01T18:46:46.537818Z",
     "shell.execute_reply": "2022-04-01T18:46:46.538316Z"
    }
   },
   "outputs": [
    {
     "name": "stdout",
     "output_type": "stream",
     "text": [
      "Generating 90 / 80 samples before starting training\n",
      "Data is being created!\n"
     ]
    }
   ],
   "source": [
    "with generator:\n",
    "    print(\"Data is being created!\")"
   ]
  },
  {
   "cell_type": "markdown",
   "metadata": {},
   "source": [
    "However, as soon as you exit the `with` statement, you'll stop generating data. You can start it again by entering a new `with`-statement"
   ]
  },
  {
   "cell_type": "code",
   "execution_count": 8,
   "metadata": {
    "execution": {
     "iopub.execute_input": "2022-04-01T18:46:46.540816Z",
     "iopub.status.busy": "2022-04-01T18:46:46.540315Z",
     "iopub.status.idle": "2022-04-01T18:46:48.210217Z",
     "shell.execute_reply": "2022-04-01T18:46:48.210217Z"
    }
   },
   "outputs": [
    {
     "name": "stdout",
     "output_type": "stream",
     "text": [
      "I have 11 batches ready for you!\n",
      "I still have 11 batches ready for you!\n",
      "Generating 92 / 80 samples before starting training\n",
      "Working....\n",
      "I have 11 batches ready for you!\n"
     ]
    }
   ],
   "source": [
    "import time\n",
    "print(f\"I have {len(generator)} batches ready for you!\")\n",
    "time.sleep(0.5)\n",
    "print(f\"I still have {len(generator)} batches ready for you!\")\n",
    "with generator:\n",
    "    print(f\"Working....\")\n",
    "    time.sleep(1)\n",
    "\n",
    "print(f\"I have {len(generator)} batches ready for you!\")\n"
   ]
  },
  {
   "cell_type": "markdown",
   "metadata": {},
   "source": [
    "### 2.1 min_data_size\n",
    "\n",
    "`min_data_size` describes how many samples the generator needs to create before it can be used. This is very useful for training, because you might not want to start your training untill you have enough data ready to not overfit."
   ]
  },
  {
   "cell_type": "code",
   "execution_count": 9,
   "metadata": {
    "execution": {
     "iopub.execute_input": "2022-04-01T18:46:48.213717Z",
     "iopub.status.busy": "2022-04-01T18:46:48.213218Z",
     "iopub.status.idle": "2022-04-01T18:46:48.379220Z",
     "shell.execute_reply": "2022-04-01T18:46:48.378718Z"
    }
   },
   "outputs": [],
   "source": [
    "# I'll create 10 samples before entering the with-statement\n",
    "generator = dt.generators.ContinuousGenerator(data_pipeline, batch_size=8, min_data_size=10)"
   ]
  },
  {
   "cell_type": "markdown",
   "metadata": {},
   "source": [
    "### 2.2 max_epochs_per_sample\n",
    "\n",
    "Per default, during training, the generator will kepp using the same data until it has been replaced. If the pipeline is fast, this is not a problem. The model will likely see new data frequently. However, if the pipeline is slow, it's possible that each sample does not have time to be replaced fully between epochs. If a model is trained too many epochs on the same data, it may overfit. To mitigate this, we can use the `max_epochs_per_sample` option! This will flag how many times a data-point can be used before it has to be replaced!"
   ]
  },
  {
   "cell_type": "code",
   "execution_count": 10,
   "metadata": {
    "execution": {
     "iopub.execute_input": "2022-04-01T18:46:48.382217Z",
     "iopub.status.busy": "2022-04-01T18:46:48.381717Z",
     "iopub.status.idle": "2022-04-01T18:46:48.533716Z",
     "shell.execute_reply": "2022-04-01T18:46:48.533217Z"
    }
   },
   "outputs": [],
   "source": [
    "# Data here is guaranteed to be fully replaced every two epochs of training\n",
    "generator = dt.generators.ContinuousGenerator(data_pipeline, batch_size=8, max_epochs_per_sample=2)"
   ]
  },
  {
   "cell_type": "markdown",
   "metadata": {},
   "source": [
    "### 2.2 label_function and batch_function\n",
    "\n",
    "The continuous generator assumes you pipeline works as `data, label = pipeline.update()()`. Sometime this is inconvenient. In these cases you can define two functions that converts the output of the pipeline to the desired format."
   ]
  },
  {
   "cell_type": "code",
   "execution_count": 11,
   "metadata": {
    "execution": {
     "iopub.execute_input": "2022-04-01T18:46:48.536217Z",
     "iopub.status.busy": "2022-04-01T18:46:48.536217Z",
     "iopub.status.idle": "2022-04-01T18:46:48.688717Z",
     "shell.execute_reply": "2022-04-01T18:46:48.688717Z"
    }
   },
   "outputs": [],
   "source": [
    "generator = dt.generators.ContinuousGenerator(image_pipeline, label_function=lambda x: x.get_property(\"position\"))"
   ]
  },
  {
   "cell_type": "markdown",
   "metadata": {},
   "source": [
    "## 3. Training a model using a generator!"
   ]
  },
  {
   "cell_type": "code",
   "execution_count": 12,
   "metadata": {
    "execution": {
     "iopub.execute_input": "2022-04-01T18:46:48.691717Z",
     "iopub.status.busy": "2022-04-01T18:46:48.691717Z",
     "iopub.status.idle": "2022-04-01T18:46:55.033716Z",
     "shell.execute_reply": "2022-04-01T18:46:55.034217Z"
    }
   },
   "outputs": [
    {
     "name": "stdout",
     "output_type": "stream",
     "text": [
      "Generating 138 / 128 samples before starting training\n",
      "Epoch 1/100\n",
      "17/17 [==============================] - 3s 6ms/step - loss: 1.9816\n",
      "Epoch 2/100\n",
      "17/17 [==============================] - 0s 7ms/step - loss: 1.8964\n",
      "Epoch 3/100\n",
      "17/17 [==============================] - 0s 7ms/step - loss: 1.9478\n",
      "Epoch 4/100\n",
      "10/17 [================>.............] - ETA: 0s - loss: 1.8065WARNING:tensorflow:Your input ran out of data; interrupting training. Make sure that your dataset or generator can generate at least `steps_per_epoch * epochs` batches (in this case, 1700 batches). You may need to use the repeat() function when building your dataset.\n",
      "17/17 [==============================] - 0s 12ms/step - loss: 1.8316\n",
      "Waiting for dataset to reach minimum size: 124 / 128\r"
     ]
    }
   ],
   "source": [
    "generator = dt.generators.ContinuousGenerator(\n",
    "    data_pipeline, \n",
    "    batch_size=8, \n",
    "    min_data_size=128, \n",
    "    max_data_size=256,\n",
    "    max_epochs_per_sample=2\n",
    ")\n",
    "\n",
    "model = dt.models.Convolutional(input_shape=(IMAGE_SIZE, IMAGE_SIZE, 1), number_of_outputs=2)\n",
    "\n",
    "with generator:\n",
    "    model.fit(generator, epochs=100)"
   ]
  },
  {
   "cell_type": "code",
   "execution_count": null,
   "metadata": {},
   "outputs": [],
   "source": []
  }
 ],
 "metadata": {
  "kernelspec": {
   "display_name": "Python 3",
   "language": "python",
   "name": "python3"
  },
  "language_info": {
   "codemirror_mode": {
    "name": "ipython",
    "version": 3
   },
   "file_extension": ".py",
   "mimetype": "text/x-python",
   "name": "python",
   "nbconvert_exporter": "python",
   "pygments_lexer": "ipython3",
   "version": "3.8.6"
  }
 },
 "nbformat": 4,
 "nbformat_minor": 2
}
