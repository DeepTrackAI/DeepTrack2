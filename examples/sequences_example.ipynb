{
 "cells": [
  {
   "cell_type": "code",
   "execution_count": null,
   "metadata": {},
   "outputs": [],
   "source": [
    "%matplotlib inline\n",
    "import sys\n",
    "sys.path.append(\"..\") # Adds the module to path"
   ]
  },
  {
   "cell_type": "markdown",
   "metadata": {},
   "source": [
    "# deeptrack.sequences\n",
    "\n",
    "This example introduces the module deeptrack.sequences."
   ]
  },
  {
   "cell_type": "markdown",
   "metadata": {},
   "source": [
    "## 1. What is a sequence?\n",
    "\n",
    "Sequences are lists of images, where any image in the series may depend on previous images. They can be used to create videos. They can also be used to resolve the same feature-set several times, changing only a subset of the properties of the features; an example would be imaging a sample at several focal planes.\n",
    "\n",
    "To resolve a sequence, you create an instance of the feature `Sequence`, with the feature you want to resolve as the first input, and `sequence_length` as a second input. \n",
    "\n",
    "By default, properties remain constant in a series. This means that each step in the sequence is by default the same.\n",
    "\n",
    "To make the properties change, you should call the function `Sequential` with the feature you want to change during the sequence as the first input, and a set of functions as keyword arguments. These functions will be converted to instances of `SequentialProperty`, which behave similarly to regular properties. For more information about how sequential properties work, see [properties_example.ipynb](properties_example.ipynb)."
   ]
  },
  {
   "cell_type": "markdown",
   "metadata": {},
   "source": [
    "## 2. Setup"
   ]
  },
  {
   "cell_type": "code",
   "execution_count": null,
   "metadata": {},
   "outputs": [],
   "source": [
    "import numpy as np\n",
    "\n",
    "from deeptrack.optics import Fluorescence\n",
    "from deeptrack.scatterers import Ellipse\n",
    "from deeptrack.sequences import Sequential, Sequence\n"
   ]
  },
  {
   "cell_type": "markdown",
   "metadata": {},
   "source": [
    "## 3. Example - A rotating ellipse"
   ]
  },
  {
   "cell_type": "code",
   "execution_count": null,
   "metadata": {},
   "outputs": [],
   "source": [
    "optics = Fluorescence(\n",
    "    NA=0.6,\n",
    "    magnification=10,\n",
    "    resolution=1e-6,\n",
    "    wavelength=633e-9,\n",
    "    output_region=(0, 0, 32, 32),\n",
    ")\n",
    "\n",
    "ellipse = Ellipse(\n",
    "    position_unit=\"pixel\",\n",
    "    position=(16, 16),\n",
    "    intensity=1,\n",
    "    radius=(1.5e-6, 1e-6),\n",
    "    rotation=0, # This will be the value at time 0.\n",
    "    upsample=2\n",
    ")\n",
    "\n",
    "def get_rotation(sequence_length, previous_value):\n",
    "    return previous_value + 2*np.pi / sequence_length\n",
    "\n",
    "\n",
    "rotating_ellipse = Sequential(ellipse, rotation=get_rotation)    \n",
    "\n",
    "imaged_rotating_ellipse = optics(rotating_ellipse)\n",
    "\n",
    "imaged_rotating_ellipse_sequence = Sequence(imaged_rotating_ellipse, sequence_length=50)\n",
    "\n",
    "imaged_rotating_ellipse_sequence.update().plot()"
   ]
  },
  {
   "cell_type": "code",
   "execution_count": null,
   "metadata": {},
   "outputs": [],
   "source": []
  }
 ],
 "metadata": {
  "kernelspec": {
   "name": "python386jvsc74a57bd0dee7c62952cd92a9f95e3a9cf2ab80d8434e980a2c662f49192ac9761f392c34",
   "display_name": "Python 3.8.6 64-bit"
  },
  "language_info": {
   "codemirror_mode": {
    "name": "ipython",
    "version": 3
   },
   "file_extension": ".py",
   "mimetype": "text/x-python",
   "name": "python",
   "nbconvert_exporter": "python",
   "pygments_lexer": "ipython3",
   "version": "3.8.6"
  }
 },
 "nbformat": 4,
 "nbformat_minor": 2
}