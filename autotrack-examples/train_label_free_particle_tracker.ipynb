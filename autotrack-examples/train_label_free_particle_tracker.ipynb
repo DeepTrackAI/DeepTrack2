{
 "cells": [
  {
   "cell_type": "code",
   "execution_count": 1,
   "source": [
    "%matplotlib inline\r\n",
    "import sys\r\n",
    "sys.path.append(\"..\")"
   ],
   "outputs": [],
   "metadata": {}
  },
  {
   "cell_type": "code",
   "execution_count": 2,
   "source": [
    "import random\r\n",
    "\r\n",
    "import deeptrack as dt\r\n",
    "\r\n",
    "import numpy as np\r\n",
    "import skimage.color\r\n",
    "import matplotlib.pyplot as plt\r\n",
    "import tensorflow as tf\r\n",
    "\r\n",
    "tracker_input_size = 64\r\n"
   ],
   "outputs": [],
   "metadata": {}
  },
  {
   "cell_type": "code",
   "execution_count": 3,
   "source": [
    "class CrescentMoon(dt.Ellipse):\r\n",
    "    def get(self, *inp, radius, offset, **kwargs):\r\n",
    "        ellipse = super().get(*inp, radius=radius, **kwargs)\r\n",
    "        offset = np.round(offset).astype(np.int)\r\n",
    "        other = dt.Affine(translate=offset, mode=\"constant\").resolve(ellipse)\r\n",
    "        ellipse[np.array(other > 0)] = 0\r\n",
    "        \r\n",
    "        return ellipse\r\n",
    "        \r\n",
    "class Rectangle(dt.Scatterer):\r\n",
    "    def get(self, *inp, width, height, **kwargs):\r\n",
    "        return np.ones((round(width), round(height), 1))\r\n",
    "        "
   ],
   "outputs": [],
   "metadata": {}
  },
  {
   "cell_type": "code",
   "execution_count": 4,
   "source": [
    "\r\n",
    "commons = dt.DummyFeature(\r\n",
    "    image_size=tracker_input_size,\r\n",
    "    position=lambda image_size: image_size / 2 + np.random.randn(2) * 2\r\n",
    ")\r\n",
    "\r\n",
    "arguments = dt.Arguments(\r\n",
    "    noise_level=lambda: 2 + np.random.rand() * 18,\r\n",
    "    key=lambda: np.random.choice([\"moon\", \"rect\", \"ellipse\"]),\r\n",
    ")\r\n",
    "\r\n",
    "fluorescence_microscope = dt.Fluorescence(\r\n",
    "    NA=0.8,                \r\n",
    "    resolution=1e-6,     \r\n",
    "    magnification=10,\r\n",
    "    wavelength=680e-9,\r\n",
    "    output_region=(0, 0, tracker_input_size, tracker_input_size)\r\n",
    ")\r\n",
    "\r\n",
    "noise = dt.Poisson(snr=arguments.noise_level, background=0.2)\r\n",
    "\r\n",
    "u = dt.units\r\n",
    "moon_particle = CrescentMoon(radius=1e-6, offset=(6, 0), position=commons.position)\r\n",
    "rectangle_particle = Rectangle(height=18, width=12, position=commons.position)\r\n",
    "ellipse_particle = dt.Ellipse(radius=np.array((1, 1)) * u.um, position=commons.position)\r\n",
    "\r\n",
    "particles = {\r\n",
    "    \"moon\": moon_particle,\r\n",
    "    \"rect\": rectangle_particle,\r\n",
    "    \"ellipse\": ellipse_particle\r\n",
    "}\r\n",
    "\r\n",
    "particle = dt.OneOfDict(particles, key=arguments.key)"
   ],
   "outputs": [],
   "metadata": {}
  },
  {
   "cell_type": "code",
   "execution_count": 5,
   "source": [
    "\r\n",
    "\r\n",
    "pipeline = (\r\n",
    "    fluorescence_microscope(particle)\r\n",
    "    >> dt.Affine(rotate=lambda:np.random.rand() * 2 * np.pi)\r\n",
    "    >> dt.NormalizeMinMax() \r\n",
    "    + 0.2\r\n",
    ") >> noise >> dt.NormalizeMinMax()\r\n",
    "\r\n",
    "pipeline.bind_arguments(arguments)\r\n",
    "pipeline.update().plot()"
   ],
   "outputs": [
    {
     "output_type": "display_data",
     "data": {
      "text/plain": [
       "<Figure size 432x288 with 1 Axes>"
      ],
      "image/png": "[encoded data removed]"
     },
     "metadata": {
      "needs_background": "light"
     }
    }
   ],
   "metadata": {}
  },
  {
   "cell_type": "code",
   "execution_count": 6,
   "source": [
    "dataset = [pipeline.update().resolve() for _ in range(1000)]\r\n",
    "dataset_labels = [np.mean(d.get_property(\"position\", get_one=False), axis=0) for d in dataset]"
   ],
   "outputs": [],
   "metadata": {}
  },
  {
   "cell_type": "code",
   "execution_count": null,
   "source": [
    "def plot(xraw, diff, **kwargs):\r\n",
    "\r\n",
    "    vmin = np.min(xraw)\r\n",
    "    vmax = np.max(xraw)\r\n",
    "    npoints = 10\r\n",
    "    x = np.linspace(vmin, vmax, npoints)\r\n",
    "\r\n",
    "    _x = xraw\r\n",
    "    _y = np.abs(diff - np.mean(diff, axis=0))\r\n",
    "    \r\n",
    "    \r\n",
    "\r\n",
    "    y = np.array([np.mean( _y[(_x >= x[i]) & (_x < x[i+1]) ], axis=0) for i in range(npoints-1)])\r\n",
    "\r\n",
    "    plt.subplot(1, 3, 2)\r\n",
    "    plt.plot(x[:npoints-1], y[:npoints-1, 0], **kwargs)\r\n",
    "    plt.yscale(\"log\")\r\n",
    "\r\n",
    "    plt.title(\"Tracking error x\")\r\n",
    "    plt.ylabel(f\"Absolute prediction error\")\r\n",
    "    plt.xlabel(f\"Signal to noise\")\r\n",
    "\r\n",
    "\r\n",
    "    plt.subplot(1, 3, 3)\r\n",
    "    plt.plot(x[:npoints-1], y[:npoints-1, 1], **kwargs)\r\n",
    "    plt.yscale(\"log\")\r\n",
    "\r\n",
    "    plt.title(\"Tracking error y\")\r\n",
    "    plt.ylabel(f\"Absolute prediction error\")\r\n",
    "    plt.xlabel(f\"Signal to noise\")\r\n"
   ],
   "outputs": [],
   "metadata": {}
  },
  {
   "cell_type": "code",
   "execution_count": null,
   "source": [
    "from deeptrack.extras.radialcenter import radialcenter\r\n",
    "\r\n",
    "symmetries = 1\r\n",
    "key = \"ellipse\"\r\n",
    "noise_level = 5\r\n",
    "\r\n",
    "model = dt.models.AutoTracker(\r\n",
    "    input_shape=(tracker_input_size, tracker_input_size, 1)\r\n",
    ")\r\n",
    "\r\n",
    "\r\n",
    "model_data = dt.Value(pipeline.update().resolve(key=key, noise_level=noise_level))\r\n",
    "model.fit(model_data, epochs=20, batch_size=8)\r\n",
    "\r\n",
    "classification = [d.get_property(\"key\") for d in dataset]\r\n",
    "classes = set(classification)\r\n",
    "\r\n",
    "plt.figure(figsize=(15, 5))\r\n",
    "\r\n",
    "plt.subplot(1, 3, 1)\r\n",
    "plt.imshow(model_data())\r\n",
    "plt.axis(\"off\")\r\n",
    "plt.title(\"Model training sample\")\r\n",
    "\r\n",
    "\r\n",
    "colors = [\"r\", \"b\", \"g\"]\r\n",
    "for idx, cl in enumerate(classes):\r\n",
    "\r\n",
    "    indexes = np.array(classification) == cl\r\n",
    "\r\n",
    "    dat = np.array(dataset)[indexes]\r\n",
    "\r\n",
    "    predicted_position = model.predict(dat)\r\n",
    "    radial_pos = np.array([radialcenter(d) for d in dat])[:, ::-1]\r\n",
    "\r\n",
    "\r\n",
    "\r\n",
    "    actual_position = np.array(dataset_labels)[indexes]\r\n",
    "\r\n",
    "    diff = (predicted_position - actual_position)\r\n",
    "    diffr = (radial_pos - actual_position)\r\n",
    "\r\n",
    "    xraw = np.array([d.get_property(\"snr\") for d in dataset])[indexes]\r\n",
    "\r\n",
    "    plot(xraw, diff, c=colors[idx])\r\n",
    "    plot(xraw, diffr, c=colors[idx], linestyle=\"--\")\r\n",
    "\r\n",
    "legend = []\r\n",
    "for x in classes:\r\n",
    "    legend.append(f\"{x} DeepTrack\")\r\n",
    "    legend.append(f\"{x} Radial Center\")\r\n",
    "\r\n",
    "plt.subplot(1, 3, 2)\r\n",
    "plt.legend(legend)\r\n",
    "\r\n",
    "plt.subplot(1, 3, 3)\r\n",
    "plt.legend(legend)\r\n",
    "\r\n",
    "\r\n",
    "plt.show()\r\n",
    "\r\n"
   ],
   "outputs": [],
   "metadata": {}
  },
  {
   "cell_type": "code",
   "execution_count": null,
   "source": [],
   "outputs": [],
   "metadata": {}
  }
 ],
 "metadata": {
  "kernelspec": {
   "name": "python3",
   "display_name": "Python 3.8.6 64-bit"
  },
  "language_info": {
   "codemirror_mode": {
    "name": "ipython",
    "version": 3
   },
   "file_extension": ".py",
   "mimetype": "text/x-python",
   "name": "python",
   "nbconvert_exporter": "python",
   "pygments_lexer": "ipython3",
   "version": "3.8.6"
  },
  "interpreter": {
   "hash": "dee7c62952cd92a9f95e3a9cf2ab80d8434e980a2c662f49192ac9761f392c34"
  }
 },
 "nbformat": 4,
 "nbformat_minor": 5
}