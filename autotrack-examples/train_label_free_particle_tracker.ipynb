{
 "cells": [
  {
   "cell_type": "code",
   "execution_count": 1,
   "id": "modular-swiss",
   "metadata": {},
   "outputs": [],
   "source": [
    "%matplotlib inline\n",
    "import sys\n",
    "sys.path.append(\"..\")"
   ]
  },
  {
   "cell_type": "code",
   "execution_count": 2,
   "id": "liable-flush",
   "metadata": {},
   "outputs": [],
   "source": [
    "import random\n",
    "\n",
    "import deeptrack as dt\n",
    "\n",
    "import numpy as np\n",
    "import skimage.color\n",
    "import matplotlib.pyplot as plt\n",
    "import tensorflow as tf\n",
    "\n",
    "tracker_input_size = 64\n"
   ]
  },
  {
   "cell_type": "code",
   "execution_count": null,
   "id": "protective-soviet",
   "metadata": {},
   "outputs": [],
   "source": []
  },
  {
   "cell_type": "code",
   "execution_count": 3,
   "id": "improved-pitch",
   "metadata": {},
   "outputs": [],
   "source": [
    "class CrescentMoon(dt.Ellipse):\n",
    "    def get(self, *inp, radius, offset, **kwargs):\n",
    "        ellipse = super().get(*inp, radius=radius, **kwargs)\n",
    "        offset = np.round(offset).astype(np.int)\n",
    "        other = dt.Affine(translate=offset, mode=\"constant\").resolve(ellipse)\n",
    "        ellipse[np.array(other > 0)] = 0\n",
    "        \n",
    "        return ellipse\n",
    "        \n",
    "class Rectangle(dt.Scatterer):\n",
    "    def get(self, *inp, width, height, **kwargs):\n",
    "        return np.ones((round(width), round(height), 1))\n",
    "        "
   ]
  },
  {
   "cell_type": "code",
   "execution_count": 4,
   "id": "phantom-spice",
   "metadata": {},
   "outputs": [],
   "source": [
    "\n",
    "commons = dt.DummyFeature(\n",
    "    image_size=tracker_input_size,\n",
    "    position=lambda image_size: image_size / 2 + np.random.randn(2) * 2\n",
    ")\n",
    "\n",
    "arguments = dt.Arguments(\n",
    "    noise_level=lambda: 2 + np.random.rand() * 18,\n",
    "    key=lambda: np.random.choice([\"moon\", \"rect\", \"ellipse\"]),\n",
    ")\n",
    "\n",
    "fluorescence_microscope = dt.Fluorescence(\n",
    "    NA=0.8,                \n",
    "    resolution=1e-6,     \n",
    "    magnification=10,\n",
    "    wavelength=680e-9,\n",
    "    output_region=(0, 0, tracker_input_size, tracker_input_size)\n",
    ")\n",
    "\n",
    "noise = dt.Poisson(snr=arguments.noise_level, background=0.2)\n",
    "\n",
    "u = dt.units\n",
    "moon_particle = CrescentMoon(radius=1e-6, offset=(6, 0), position=commons.position)\n",
    "rectangle_particle = Rectangle(height=18, width=12, position=commons.position)\n",
    "ellipse_particle = dt.Ellipse(radius=np.array((1, 1)) * u.um, position=commons.position)\n",
    "\n",
    "particles = {\n",
    "    \"moon\": moon_particle,\n",
    "    \"rect\": rectangle_particle,\n",
    "    \"ellipse\": ellipse_particle\n",
    "}\n",
    "\n",
    "particle = dt.OneOfDict(particles, key=arguments.key)"
   ]
  },
  {
   "cell_type": "code",
   "execution_count": 22,
   "id": "missing-wrist",
   "metadata": {},
   "outputs": [
    {
     "data": {
      "image/png": "[encoded data removed]",
      "text/plain": [
       "<Figure size 432x288 with 1 Axes>"
      ]
     },
     "metadata": {
      "needs_background": "light"
     },
     "output_type": "display_data"
    }
   ],
   "source": [
    "\n",
    "\n",
    "pipeline = (\n",
    "    fluorescence_microscope(particle)\n",
    "    >> dt.Affine(rotate=lambda:np.random.rand() * 2 * np.pi)\n",
    "    >> dt.NormalizeMinMax() \n",
    "    + 0.2\n",
    ") >> noise >> dt.NormalizeMinMax()\n",
    "\n",
    "pipeline.bind_arguments(arguments)\n",
    "pipeline.update().plot()"
   ]
  },
  {
   "cell_type": "code",
   "execution_count": 6,
   "id": "seven-exception",
   "metadata": {},
   "outputs": [],
   "source": [
    "dataset = [pipeline.update().resolve() for _ in range(1000)]\n",
    "dataset_labels = [np.mean(d.get_property(\"position\", get_one=False), axis=0) for d in dataset]"
   ]
  },
  {
   "cell_type": "code",
   "execution_count": null,
   "id": "arctic-nickname",
   "metadata": {},
   "outputs": [],
   "source": [
    "def plot(xraw, diff, **kwargs):\n",
    "\n",
    "    vmin = np.min(xraw)\n",
    "    vmax = np.max(xraw)\n",
    "    npoints = 10\n",
    "    x = np.linspace(vmin, vmax, npoints)\n",
    "\n",
    "    _x = xraw\n",
    "    _y = np.abs(diff - np.mean(diff, axis=0))\n",
    "    \n",
    "    \n",
    "\n",
    "    y = np.array([np.mean( _y[(_x >= x[i]) & (_x < x[i+1]) ], axis=0) for i in range(npoints-1)])\n",
    "\n",
    "    plt.subplot(1, 3, 2)\n",
    "    plt.plot(x[:npoints-1], y[:npoints-1, 0], **kwargs)\n",
    "    plt.yscale(\"log\")\n",
    "\n",
    "    plt.title(\"Tracking error x\")\n",
    "    plt.ylabel(f\"Absolute prediction error\")\n",
    "    plt.xlabel(f\"Signal to noise\")\n",
    "\n",
    "\n",
    "    plt.subplot(1, 3, 3)\n",
    "    plt.plot(x[:npoints-1], y[:npoints-1, 1], **kwargs)\n",
    "    plt.yscale(\"log\")\n",
    "\n",
    "    plt.title(\"Tracking error y\")\n",
    "    plt.ylabel(f\"Absolute prediction error\")\n",
    "    plt.xlabel(f\"Signal to noise\")\n"
   ]
  },
  {
   "cell_type": "code",
   "execution_count": null,
   "id": "endless-fiction",
   "metadata": {},
   "outputs": [],
   "source": [
    "from deeptrack.extras.radialcenter import radialcenter\n",
    "\n",
    "symmetries = 1\n",
    "key = \"ellipse\"\n",
    "noise_level = 5\n",
    "\n",
    "model = dt.models.AutoTracker(\n",
    "    input_shape=(tracker_input_size, tracker_input_size, 1)\n",
    ")\n",
    "\n",
    "\n",
    "model_data = dt.Value(pipeline.update().resolve(key=key, noise_level=noise_level))\n",
    "model.fit(model_data, epochs=20, batch_size=8)\n",
    "\n",
    "classification = [d.get_property(\"key\") for d in dataset]\n",
    "classes = set(classification)\n",
    "\n",
    "plt.figure(figsize=(15, 5))\n",
    "\n",
    "plt.subplot(1, 3, 1)\n",
    "plt.imshow(model_data())\n",
    "plt.axis(\"off\")\n",
    "plt.title(\"Model training sample\")\n",
    "\n",
    "\n",
    "colors = [\"r\", \"b\", \"g\"]\n",
    "for idx, cl in enumerate(classes):\n",
    "\n",
    "    indexes = np.array(classification) == cl\n",
    "\n",
    "    dat = np.array(dataset)[indexes]\n",
    "\n",
    "    predicted_position = model.predict(dat)\n",
    "    radial_pos = np.array([radialcenter(d) for d in dat])[:, ::-1]\n",
    "\n",
    "\n",
    "\n",
    "    actual_position = np.array(dataset_labels)[indexes]\n",
    "\n",
    "    diff = (predicted_position - actual_position)\n",
    "    diffr = (radial_pos - actual_position)\n",
    "\n",
    "    xraw = np.array([d.get_property(\"snr\") for d in dataset])[indexes]\n",
    "\n",
    "    plot(xraw, diff, c=colors[idx])\n",
    "    plot(xraw, diffr, c=colors[idx], linestyle=\"--\")\n",
    "\n",
    "legend = []\n",
    "for x in classes:\n",
    "    legend.append(f\"{x} DeepTrack\")\n",
    "    legend.append(f\"{x} Radial Center\")\n",
    "\n",
    "plt.subplot(1, 3, 2)\n",
    "plt.legend(legend)\n",
    "\n",
    "plt.subplot(1, 3, 3)\n",
    "plt.legend(legend)\n",
    "\n",
    "\n",
    "plt.show()\n",
    "\n"
   ]
  },
  {
   "cell_type": "code",
   "execution_count": null,
   "id": "level-crisis",
   "metadata": {},
   "outputs": [],
   "source": []
  }
 ],
 "metadata": {
  "interpreter": {
   "hash": "dee7c62952cd92a9f95e3a9cf2ab80d8434e980a2c662f49192ac9761f392c34"
  },
  "kernelspec": {
   "display_name": "Python 3",
   "language": "python",
   "name": "python3"
  },
  "language_info": {
   "codemirror_mode": {
    "name": "ipython",
    "version": 3
   },
   "file_extension": ".py",
   "mimetype": "text/x-python",
   "name": "python",
   "nbconvert_exporter": "python",
   "pygments_lexer": "ipython3",
   "version": "3.8.6"
  }
 },
 "nbformat": 4,
 "nbformat_minor": 5
}
