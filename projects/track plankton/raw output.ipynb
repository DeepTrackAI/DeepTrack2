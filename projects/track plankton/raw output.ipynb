{
 "cells": [
  {
   "cell_type": "markdown",
   "metadata": {},
   "source": [
    "SADFasf asf asfasf as ASf a"
   ]
  },
  {
   "cell_type": "code",
   "execution_count": null,
   "metadata": {},
   "outputs": [],
   "source": [
    "%load_ext autoreload\n",
    "%autoreload 2\n",
    "\n",
    "from loader import *\n",
    "from models import *\n",
    "from utils import *\n",
    "from plotting import *\n",
    "\n",
    "im_size_width, im_size_height, radius = 640, 512, 0.3e-6\n",
    "moving_predator = stationary_spherical_plankton(im_size_height, im_size_width, radius, label=0)\n",
    "\n",
    "gradient_amp = 0.5\n",
    "microscope = plankton_brightfield(im_size_height, im_size_width, gradient_amp)\n",
    "\n",
    "no_of_planktons = 50\n",
    "sample = create_sample(plankton, no_of_planktons)\n",
    "\n",
    "noise_amp = 2\n",
    "norm_min, norm_max= -0.2, 1.2\n",
    "image = create_image(noise_amp, sample, microscope, norm_min, norm_max)\n",
    "\n",
    "plot_image(image)"
   ]
  },
  {
   "cell_type": "code",
   "execution_count": null,
   "metadata": {},
   "outputs": [],
   "source": [
    "image.resolve().properties[4]"
   ]
  },
  {
   "cell_type": "code",
   "execution_count": null,
   "metadata": {},
   "outputs": [],
   "source": [
    "label = get_target_image(image.resolve())\n",
    "label_function = get_target_image\n",
    "plot_label(label_function, image)"
   ]
  },
  {
   "cell_type": "code",
   "execution_count": null,
   "metadata": {},
   "outputs": [],
   "source": [
    "batch_function = create_custom_batch_function(image, \n",
    "                                              outputs=[0], \n",
    "                                              function_img=[Normalize_image],\n",
    "                                              function_diff=[Normalize_image])"
   ]
  },
  {
   "cell_type": "code",
   "execution_count": null,
   "metadata": {},
   "outputs": [],
   "source": [
    "from deeptrack.generators import ContinuousGenerator\n",
    "generator = ContinuousGenerator(\n",
    "    image,\n",
    "    get_target_image,\n",
    "    batch_function,\n",
    "    batch_size=2,\n",
    "    min_data_size=4,\n",
    "    max_data_size=512\n",
    "    )"
   ]
  },
  {
   "cell_type": "code",
   "execution_count": null,
   "metadata": {
    "scrolled": true
   },
   "outputs": [],
   "source": [
    "no_of_inputs, number_of_outputs = 1, 2\n",
    "model = generate_unet(im_size_height, im_size_width, no_of_inputs, number_of_outputs)\n",
    "model = train_model_early_stopping(model, generator, patience=20, epochs=20, steps_per_epoch=2)"
   ]
  },
  {
   "cell_type": "code",
   "execution_count": null,
   "metadata": {
    "scrolled": true
   },
   "outputs": [],
   "source": [
    "# outputs = [\"img\", \"img\", \"img\", \"diff\", \"diff\"]\n",
    "# output_numbers = [0, 1, 2, [0,1], [1,2]]\n",
    "folder_path = 'E:\\\\Documents\\\\Anaconda\\\\Jupyterkod\\\\Exjobb\\\\Egen kod\\\\Exjobb\\\\Test simulations\\\\raw_output\\\\raw_output_images'\n",
    "calculated_mean_image = get_mean_image(folder_path, im_size_width, im_size_height)\n",
    "im_stack = get_image_stack(\n",
    "    outputs=[[0,1], [1,2]], \n",
    "    folder_path=folder_path, \n",
    "    frame_im0=16, \n",
    "    im_size_width=640, \n",
    "    im_size_height=512,\n",
    "    im_resize_width=640, \n",
    "    im_resize_height=512,\n",
    "    function_img=[Normalize_image],\n",
    "    function_diff=[Normalize_image])\n",
    "\n",
    "plot_image_stack(im_stack)\n",
    "plot_prediction(model=model, im_stack=im_stack)"
   ]
  },
  {
   "cell_type": "code",
   "execution_count": null,
   "metadata": {},
   "outputs": [],
   "source": [
    "positions = extract_positions(\n",
    "    no_of_frames=10, \n",
    "    outputs=[[0,1], [1,2]], \n",
    "    folder_path=folder_path, \n",
    "    frame_im0=17, \n",
    "    im_size_width=640, \n",
    "    im_size_height=512,\n",
    "    im_resize_width=640, \n",
    "    im_resize_height=512,\n",
    "    model=model, \n",
    "    layer=1, \n",
    "    value_threshold=0.3,\n",
    "    function_img=[Normalize_image],\n",
    "    function_diff=[Normalize_image])\n"
   ]
  },
  {
   "cell_type": "code",
   "execution_count": null,
   "metadata": {
    "scrolled": true
   },
   "outputs": [],
   "source": [
    "list_of_plankton = assign_positions_to_planktons(positions, max_dist=10, threshold=11, extrapolate=True)\n",
    "# list_of_plankton = Interpolate_gaps_in_plankton_positions(list_of_plankton=list_of_plankton)\n",
    "# list_of_plankton = Trim_list_from_stationary_planktons(list_of_plankton=list_of_plankton, min_distance=0)\n",
    "\n",
    "# plankton_track, plankton_dont_track = split_plankton(list_of_plankton=list_of_plankton, percentage_threshold=0)"
   ]
  },
  {
   "cell_type": "code",
   "execution_count": null,
   "metadata": {
    "scrolled": false
   },
   "outputs": [],
   "source": [
    "plot_and_save_track(no_of_frames=len(list_of_plankton[list(list_of_plankton.keys())[0]].positions),\n",
    "                    plankton_track=list_of_plankton,\n",
    "                    plankton_dont_track=plankton_dont_track,\n",
    "                    folder_path=folder_path,\n",
    "                    frame_im0=18,\n",
    "                    save_images=False,\n",
    "                    show_plankton_track=True,\n",
    "                    show_plankton_dont_track=0,\n",
    "                    show_numbers_track=0,\n",
    "                    show_numbers_dont_track=0,\n",
    "                    show_numbers_specific_plankton=False,\n",
    "                    show_specific_plankton=False,\n",
    "                    specific_plankton=None,\n",
    "                    color_plankton_track='b',\n",
    "                    color_plankton_dont_track='r',\n",
    "                    color_specific_plankton='w',\n",
    "                    x_axis_label='microns',\n",
    "                    y_axis_label='microns',\n",
    "                    pixel_length_ratio=3,\n",
    "                    save_path='E:\\\\Documents\\\\Anaconda\\\\Jupyterkod\\\\Exjobb\\\\Egen kod\\\\Exjobb\\\\New imulations\\\\Raw_output',\n",
    "                    frame_name='track',\n",
    "                    file_type='.jpg')\n"
   ]
  },
  {
   "cell_type": "code",
   "execution_count": null,
   "metadata": {},
   "outputs": [],
   "source": [
    "mean_net_distance, mean_gross_distances = get_mean_net_and_gross_distance(list_of_plankton, use_3D_dist=False)\n"
   ]
  },
  {
   "cell_type": "code",
   "execution_count": null,
   "metadata": {
    "scrolled": false
   },
   "outputs": [],
   "source": [
    "plot_net_vs_gross_distance(list_of_plankton=plankton_track)"
   ]
  },
  {
   "cell_type": "code",
   "execution_count": null,
   "metadata": {},
   "outputs": [],
   "source": [
    "# Make_video(frame_im0=20,\n",
    "#            folder_path='E:\\\\Documents\\\\Anaconda\\\\Jupyterkod\\\\Exjobb\\\\Egen kod\\\\Exjobb\\\\New imulations\\\\Raw_output', \n",
    "#            save_path='E:\\\\Documents\\\\Anaconda\\\\Jupyterkod\\\\Exjobb\\\\Egen kod\\\\Exjobb\\\\New imulations\\\\Test_video.avi', \n",
    "#            fps=7, \n",
    "#            no_of_frames=40)"
   ]
  },
  {
   "cell_type": "code",
   "execution_count": null,
   "metadata": {},
   "outputs": [],
   "source": [
    "# save_positions(list_of_plankton, \n",
    "#                save_path='E:\\\\Documents\\\\Anaconda\\\\Jupyterkod\\\\Exjobb\\\\Egen kod\\\\DeepTrack-2.0\\\\projects\\\\track plankton', \n",
    "#                file_format='.csv', \n",
    "#                pixel_length_ratio=1)"
   ]
  },
  {
   "cell_type": "code",
   "execution_count": null,
   "metadata": {},
   "outputs": [],
   "source": [
    "save_path_model = 'E:\\\\Documents\\\\Anaconda\\\\Jupyterkod\\\\Exjobb\\\\Egen kod\\\\DeepTrack-2.0\\\\projects\\\\track plankton\\\\test_save.keras'\n",
    "model.save(save_path_model)"
   ]
  },
  {
   "cell_type": "code",
   "execution_count": null,
   "metadata": {},
   "outputs": [],
   "source": [
    "load_path_model = 'E:\\\\Documents\\\\Anaconda\\\\Jupyterkod\\\\Exjobb\\\\Egen kod\\\\Exjobb\\\\Test simulations\\\\raw_output\\\\results\\\\jupyter_ver9copy\\\\models\\\\seq_len3_b1norm_noclip_3out_16-32-64-128.keras'\n",
    "\n",
    "model = keras.models.load_model(load_path_model, custom_objects={'softmax_categorical':softmax_categorical})"
   ]
  }
 ],
 "metadata": {
  "kernelspec": {
   "display_name": "Python 3",
   "language": "python",
   "name": "python3"
  },
  "language_info": {
   "codemirror_mode": {
    "name": "ipython",
    "version": 3
   },
   "file_extension": ".py",
   "mimetype": "text/x-python",
   "name": "python",
   "nbconvert_exporter": "python",
   "pygments_lexer": "ipython3",
   "version": "3.7.9"
  }
 },
 "nbformat": 4,
 "nbformat_minor": 4
}
