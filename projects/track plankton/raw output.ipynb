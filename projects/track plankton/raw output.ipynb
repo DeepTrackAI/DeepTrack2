{
 "cells": [
  {
   "cell_type": "markdown",
   "metadata": {},
   "source": [
    "SADFasf asf asfasf as ASf a"
   ]
  },
  {
   "cell_type": "code",
   "execution_count": null,
   "metadata": {},
   "outputs": [],
   "source": [
    "%load_ext autoreload\n",
    "%autoreload 2\n",
    "\n",
    "from loader import *\n",
    "from models import *\n",
    "from utils import *\n",
    "from plotting import *\n",
    "\n",
    "im_size_width, im_size_height, radius = 640, 512, 0.3e-6\n",
    "plankton = stationary_spherical_plankton(im_size_height, im_size_width, radius, label=1)\n",
    "\n",
    "gradient_amp = 0.5\n",
    "microscope = plankton_brightfield(im_size_height, im_size_width, gradient_amp)\n",
    "\n",
    "no_of_planktons = 50\n",
    "sample = create_sample(plankton, no_of_planktons)\n",
    "\n",
    "noise_amp = 2\n",
    "norm_min, norm_max= -0.2, 1.2\n",
    "image = create_image(noise_amp, sample, microscope, norm_min, norm_max)\n",
    "\n",
    "plot_image(image)"
   ]
  },
  {
   "cell_type": "code",
   "execution_count": null,
   "metadata": {},
   "outputs": [],
   "source": [
    "label = get_target_image(image.resolve())\n",
    "label_function = get_target_image\n",
    "plot_label(label_function, image)"
   ]
  },
  {
   "cell_type": "code",
   "execution_count": null,
   "metadata": {},
   "outputs": [],
   "source": [
    "from deeptrack.generators import ContinuousGenerator\n",
    "generator = ContinuousGenerator(\n",
    "    image,\n",
    "    get_target_image,\n",
    "    batch_function0,\n",
    "    batch_size=2,\n",
    "    min_data_size=4,\n",
    "    max_data_size=512\n",
    "    )"
   ]
  },
  {
   "cell_type": "code",
   "execution_count": null,
   "metadata": {
    "scrolled": true
   },
   "outputs": [],
   "source": [
    "no_of_inputs, number_of_outputs = 1, 2\n",
    "model = generate_unet(im_size_height, im_size_width, no_of_inputs, number_of_outputs)\n",
    "model = train_model(model, generator, patience=20, epochs=40, steps_per_epoch=2)"
   ]
  },
  {
   "cell_type": "code",
   "execution_count": null,
   "metadata": {},
   "outputs": [],
   "source": [
    "def get_image_stack(*args, outputs = None, folder_path=None, \n",
    "                    frame_im0=None, im_size_width=None, im_size_height=None, \n",
    "                    function_img=[lambda img: 1*img], function_diff=[lambda img: 1*img], \n",
    "                    **kwargs):\n",
    "    list_paths = os.listdir(folder_path)\n",
    "    im_stack = np.zeros((1, im_size_height, im_size_width, len(outputs)))\n",
    "    for count, num in enumerate(outputs):\n",
    "        if type(num) == int:\n",
    "            img = cv2.imread(folder_path +'\\\\' + list_paths[frame_im0 + num], 0)\n",
    "            img = cv2.resize(img, dsize=(im_size_width, im_size_height), interpolation=cv2.INTER_AREA)\n",
    "            \n",
    "            for i in range(len(function_img)):\n",
    "                    img = function_img[i](img)\n",
    "                \n",
    "            im_stack[0, :, :, count] = img\n",
    "            \n",
    "        if type(num) == list:\n",
    "            img0 = Normalize_image(cv2.imread(folder_path +'\\\\' + list_paths[frame_im0 + num[0]], 0))\n",
    "            img1 = Normalize_image(cv2.imread(folder_path +'\\\\' + list_paths[frame_im0 + num[1]], 0))\n",
    "            diff = img1-img0\n",
    "            \n",
    "            diff = cv2.resize(diff, dsize=(im_size_width, im_size_height), interpolation=cv2.INTER_AREA)\n",
    "            \n",
    "            for i in range(len(function_diff)):\n",
    "                    diff = function_diff[i](diff)\n",
    "            \n",
    "            im_stack[0, :, :, count] = diff\n",
    "\n",
    "    return im_stack"
   ]
  },
  {
   "cell_type": "code",
   "execution_count": null,
   "metadata": {
    "scrolled": true
   },
   "outputs": [],
   "source": [
    "# outputs = [\"img\", \"img\", \"img\", \"diff\", \"diff\"]\n",
    "# output_numbers = [0, 1, 2, [0,1], [1,2]]\n",
    "folder_path = 'E:\\Documents\\Anaconda\\Jupyterkod\\Exjobb\\Egen kod\\Exjobb\\From erik\\\\alexandrium2'\n",
    "calculated_mean_image = get_mean_image(folder_path, im_size_width, im_size_height)\n",
    "im_stack = get_image_stack(\n",
    "    outputs=[0], \n",
    "    folder_path = 'E:\\Documents\\Anaconda\\Jupyterkod\\Exjobb\\Egen kod\\Exjobb\\From erik\\\\alexandrium2', \n",
    "    frame_im0 = 25, \n",
    "    im_size_width = 640, \n",
    "    im_size_height = 512)\n",
    "\n",
    "plot_im_stack(im_stack)\n",
    "plot_prediction(model=model, im_stack=im_stack)"
   ]
  },
  {
   "cell_type": "code",
   "execution_count": 1,
   "metadata": {},
   "outputs": [
    {
     "ename": "NameError",
     "evalue": "name 'extract_positions' is not defined",
     "output_type": "error",
     "traceback": [
      "\u001b[1;31m---------------------------------------------------------------------------\u001b[0m",
      "\u001b[1;31mNameError\u001b[0m                                 Traceback (most recent call last)",
      "\u001b[1;32m<ipython-input-1-537a93097a83>\u001b[0m in \u001b[0;36m<module>\u001b[1;34m\u001b[0m\n\u001b[1;32m----> 1\u001b[1;33m positions = extract_positions(\n\u001b[0m\u001b[0;32m      2\u001b[0m     \u001b[0mno_of_frames\u001b[0m \u001b[1;33m=\u001b[0m \u001b[1;36m10\u001b[0m\u001b[1;33m,\u001b[0m\u001b[1;33m\u001b[0m\u001b[1;33m\u001b[0m\u001b[0m\n\u001b[0;32m      3\u001b[0m     \u001b[0moutputs\u001b[0m\u001b[1;33m=\u001b[0m\u001b[1;33m[\u001b[0m\u001b[1;36m0\u001b[0m\u001b[1;33m,\u001b[0m\u001b[1;36m1\u001b[0m\u001b[1;33m,\u001b[0m\u001b[1;36m2\u001b[0m\u001b[1;33m]\u001b[0m\u001b[1;33m,\u001b[0m\u001b[1;33m\u001b[0m\u001b[1;33m\u001b[0m\u001b[0m\n\u001b[0;32m      4\u001b[0m     \u001b[0moutput_numbers\u001b[0m \u001b[1;33m=\u001b[0m \u001b[1;33m[\u001b[0m\u001b[1;36m0\u001b[0m\u001b[1;33m]\u001b[0m\u001b[1;33m,\u001b[0m\u001b[1;33m\u001b[0m\u001b[1;33m\u001b[0m\u001b[0m\n\u001b[0;32m      5\u001b[0m     \u001b[0mfolder_path\u001b[0m \u001b[1;33m=\u001b[0m \u001b[1;34m'E:\\Documents\\Anaconda\\Jupyterkod\\Exjobb\\Egen kod\\Exjobb\\From erik\\\\alexandrium2'\u001b[0m\u001b[1;33m,\u001b[0m\u001b[1;33m\u001b[0m\u001b[1;33m\u001b[0m\u001b[0m\n",
      "\u001b[1;31mNameError\u001b[0m: name 'extract_positions' is not defined"
     ]
    }
   ],
   "source": [
    "positions = extract_positions(\n",
    "    no_of_frames = 10, \n",
    "    outputs=[0,1,2], \n",
    "    folder_path = 'E:\\Documents\\Anaconda\\Jupyterkod\\Exjobb\\Egen kod\\Exjobb\\From erik\\\\alexandrium2', \n",
    "    frame_im0 = 20, \n",
    "    im_size_width = 640, \n",
    "    im_size_height = 512,\n",
    "    model = model, \n",
    "    layer = 1, \n",
    "    value_threshold=0.6)\n"
   ]
  },
  {
   "cell_type": "code",
   "execution_count": null,
   "metadata": {},
   "outputs": [],
   "source": [
    "positions"
   ]
  },
  {
   "cell_type": "code",
   "execution_count": null,
   "metadata": {
    "scrolled": true
   },
   "outputs": [],
   "source": [
    "list_of_plankton = assign_positions_to_planktons(positions, max_dist=25, threshold = 11, extrapolate=True)\n",
    "list_of_plankton = Interpolate_gaps_in_plankton_positions(list_of_plankton=list_of_plankton)\n",
    "list_of_plankton = Trim_list_from_stationary_planktons(list_of_plankton=list_of_plankton, min_distance=25)\n",
    "\n",
    "plankton_track, plankton_dont_track = split_plankton(percentage_threshold=0, list_of_plankton=list_of_plankton)"
   ]
  },
  {
   "cell_type": "code",
   "execution_count": null,
   "metadata": {
    "scrolled": true
   },
   "outputs": [],
   "source": [
    "plot_and_save_track(no_of_frames = len(list_of_plankton[list(list_of_plankton.keys())[0]].positions),\n",
    "                    plankton_track = plankton_track,\n",
    "                    plankton_dont_track = plankton_dont_track,\n",
    "                    folder_path = 'E:\\Documents\\Anaconda\\Jupyterkod\\Exjobb\\Egen kod\\Exjobb\\From erik\\\\alexandrium2',\n",
    "                    frame_im0 = 20,\n",
    "                    save_images=False,\n",
    "                    show_plankton_track = True,\n",
    "                    show_plankton_dont_track = True,\n",
    "                    show_numbers_track = True,\n",
    "                    show_numbers_dont_track = True,\n",
    "                    show_numbers_specific_plankton = False,\n",
    "                    show_specific_plankton = False,\n",
    "                    specific_plankton = None,\n",
    "                    color_plankton_track = 'b',\n",
    "                    color_plankton_dont_track = 'r',\n",
    "                    color_specific_plankton = 'w',\n",
    "                    save_path = 'E:\\\\Documents\\\\Anaconda\\\\Jupyterkod\\\\Exjobb\\\\Egen kod\\\\Exjobb\\\\New imulations\\\\Raw_output',\n",
    "                    frame_name = 'track',\n",
    "                    file_type = '.jpg')\n"
   ]
  },
  {
   "cell_type": "code",
   "execution_count": null,
   "metadata": {},
   "outputs": [],
   "source": []
  }
 ],
 "metadata": {
  "kernelspec": {
   "display_name": "Python 3",
   "language": "python",
   "name": "python3"
  },
  "language_info": {
   "codemirror_mode": {
    "name": "ipython",
    "version": 3
   },
   "file_extension": ".py",
   "mimetype": "text/x-python",
   "name": "python",
   "nbconvert_exporter": "python",
   "pygments_lexer": "ipython3",
   "version": "3.7.9"
  }
 },
 "nbformat": 4,
 "nbformat_minor": 4
}
