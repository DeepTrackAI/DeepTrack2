{
 "cells": [
  {
   "cell_type": "code",
   "execution_count": null,
   "metadata": {},
   "outputs": [],
   "source": [
    "%load_ext autoreload\n",
    "%autoreload 2"
   ]
  },
  {
   "cell_type": "code",
   "execution_count": null,
   "metadata": {},
   "outputs": [],
   "source": [
    "from loader import *\n",
    "from models import *\n",
    "from utils import *\n",
    "from plotting import *"
   ]
  },
  {
   "cell_type": "code",
   "execution_count": null,
   "metadata": {},
   "outputs": [],
   "source": [
    "load_path_model = 'E:\\\\Documents\\\\Anaconda\\\\Jupyterkod\\\\Exjobb\\\\Egen kod\\\\Exjobb\\\\Test simulations\\\\raw_output\\\\results\\\\jupyter_ver9copy\\\\models\\\\seq_len3_b1norm_noclip_3out_16-32-64-128.keras'\n",
    "model = keras.models.load_model(load_path_model, custom_objects={'softmax_categorical':softmax_categorical})"
   ]
  },
  {
   "cell_type": "code",
   "execution_count": null,
   "metadata": {},
   "outputs": [],
   "source": [
    "folder_path = 'E:\\\\Documents\\\\Anaconda\\\\Jupyterkod\\\\Exjobb\\\\Egen kod\\\\Exjobb\\\\From erik\\\\alexandrium'\n",
    "im_stack = get_image_stack(\n",
    "    outputs=[[1,0], [2,1]], \n",
    "    folder_path=folder_path, \n",
    "    frame_im0=20, \n",
    "    im_size_width=640, \n",
    "    im_size_height=512,\n",
    "    im_resize_width=640, \n",
    "    im_resize_height=512,\n",
    "    function_img=[Normalize_image],\n",
    "    function_diff=[Normalize_image])\n",
    "\n",
    "# plot_image_stack(im_stack)\n",
    "# plot_prediction(model=model, im_stack=im_stack)\n",
    "plt.imshow(model.predict(im_stack)[0,:,:,2]>0.6, cmap='gray')"
   ]
  },
  {
   "cell_type": "code",
   "execution_count": null,
   "metadata": {},
   "outputs": [],
   "source": [
    "positions = extract_positions(\n",
    "    no_of_frames=100, \n",
    "    outputs=[[1,0], [2,1]], \n",
    "    folder_path=folder_path, \n",
    "    frame_im0=0, \n",
    "    im_size_width=640, \n",
    "    im_size_height=512,\n",
    "    im_resize_width=640, \n",
    "    im_resize_height=512,\n",
    "    model=model, \n",
    "    layer=2, \n",
    "    value_threshold=0.6,\n",
    "    function_img=[Normalize_image],\n",
    "    function_diff=[Normalize_image])\n"
   ]
  },
  {
   "cell_type": "code",
   "execution_count": null,
   "metadata": {},
   "outputs": [],
   "source": [
    "list_of_plankton = assign_positions_to_planktons(positions, max_dist=15, threshold = 5, extrapolate=True)\n",
    "list_of_plankton = Interpolate_gaps_in_plankton_positions(list_of_plankton=list_of_plankton)\n",
    "list_of_plankton = Trim_list_from_stationary_planktons(list_of_plankton=list_of_plankton, min_distance=20)\n",
    "\n",
    "plankton_track, plankton_dont_track = split_plankton(percentage_threshold=0, list_of_plankton=list_of_plankton)"
   ]
  },
  {
   "cell_type": "code",
   "execution_count": null,
   "metadata": {
    "scrolled": false
   },
   "outputs": [],
   "source": [
    "plot_and_save_track(no_of_frames=100,\n",
    "                    plankton_track=plankton_track,\n",
    "                    plankton_dont_track=plankton_dont_track,\n",
    "                    folder_path=folder_path,\n",
    "                    frame_im0=1,\n",
    "                    save_images=True,\n",
    "                    show_plankton_track = True,\n",
    "                    show_plankton_dont_track = 0,\n",
    "                    show_numbers_track = 0,\n",
    "                    show_numbers_dont_track = 0,\n",
    "                    show_numbers_specific_plankton = False,\n",
    "                    show_specific_plankton = False,\n",
    "                    specific_plankton = None,\n",
    "                    color_plankton_track = 'b',\n",
    "                    color_plankton_dont_track = 'r',\n",
    "                    color_specific_plankton = 'w',\n",
    "                    save_path = 'E:\\\\Documents\\\\Anaconda\\\\Jupyterkod\\\\Exjobb\\\\Egen kod\\\\Exjobb\\\\New imulations\\\\Alexandrium\\\\track',\n",
    "                    frame_name = 'track',\n",
    "                    file_type = '.jpg')"
   ]
  },
  {
   "cell_type": "code",
   "execution_count": null,
   "metadata": {},
   "outputs": [],
   "source": [
    "Make_video(frame_im0=0,\n",
    "           folder_path='E:\\\\Documents\\\\Anaconda\\\\Jupyterkod\\\\Exjobb\\\\Egen kod\\\\Exjobb\\\\New imulations\\\\Alexandrium\\\\track', \n",
    "           save_path='E:\\\\Documents\\\\Anaconda\\\\Jupyterkod\\\\Exjobb\\\\Egen kod\\\\Exjobb\\\\New imulations\\\\Alexandrium\\\\Test_video.avi', \n",
    "           fps=7, \n",
    "           no_of_frames=100)"
   ]
  }
 ],
 "metadata": {
  "kernelspec": {
   "display_name": "Python 3",
   "language": "python",
   "name": "python3"
  },
  "language_info": {
   "codemirror_mode": {
    "name": "ipython",
    "version": 3
   },
   "file_extension": ".py",
   "mimetype": "text/x-python",
   "name": "python",
   "nbconvert_exporter": "python",
   "pygments_lexer": "ipython3",
   "version": "3.7.9"
  }
 },
 "nbformat": 4,
 "nbformat_minor": 4
}
