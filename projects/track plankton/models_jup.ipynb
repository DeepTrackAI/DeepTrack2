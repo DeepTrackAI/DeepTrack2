{
 "cells": [
  {
   "cell_type": "code",
   "execution_count": null,
   "metadata": {},
   "outputs": [],
   "source": [
    "# This file contains the different neural networks that proved succesful during testing stages of tracking plankton\n",
    "\n",
    "\n",
    "eps = 1e-6\n",
    "\n",
    "def softmax_categorical(T, P):\n",
    "    classwise_weight = K.mean(1 - T, axis=(1, 2), keepdims=True)\n",
    "    true_error = K.mean(T * K.log(P + eps) * classwise_weight, axis=-1)\n",
    "    return -K.mean(true_error)\n",
    "\n",
    "def generate_unet(image_sizerow, image_sizecol, no_of_inputs):\n",
    "#     image_size\n",
    "    model = unet(\n",
    "        (image_sizerow, image_sizecol, no_of_inputs), \n",
    "        conv_layers_dimensions=[16, 32, 64, 128],\n",
    "        base_conv_layers_dimensions=[32, 32],\n",
    "        number_of_outputs=4,\n",
    "        output_activation=\"softmax\",\n",
    "        loss=softmax_categorical\n",
    "    )"
   ]
  },
  {
   "cell_type": "code",
   "execution_count": null,
   "metadata": {},
   "outputs": [],
   "source": []
  }
 ],
 "metadata": {
  "kernelspec": {
   "display_name": "Python 3",
   "language": "python",
   "name": "python3"
  },
  "language_info": {
   "codemirror_mode": {
    "name": "ipython",
    "version": 3
   },
   "file_extension": ".py",
   "mimetype": "text/x-python",
   "name": "python",
   "nbconvert_exporter": "python",
   "pygments_lexer": "ipython3",
   "version": "3.7.9"
  }
 },
 "nbformat": 4,
 "nbformat_minor": 4
}
