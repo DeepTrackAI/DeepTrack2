{
 "cells": [
  {
   "cell_type": "code",
   "execution_count": null,
   "metadata": {},
   "outputs": [],
   "source": [
    "%load_ext autoreload\n",
    "%autoreload 2"
   ]
  },
  {
   "cell_type": "code",
   "execution_count": null,
   "metadata": {},
   "outputs": [],
   "source": [
    "from loader import *\n",
    "from models import *\n",
    "from utils import *\n",
    "from plotting import *"
   ]
  },
  {
   "cell_type": "code",
   "execution_count": null,
   "metadata": {},
   "outputs": [],
   "source": [
    "im_size_width, im_size_height = 640, 512\n",
    "\n",
    "plankton_small = stationary_ellipsoid_plankton(im_size_height, im_size_width, radius=(1.5e-7, 9e-7, 1.5e-7), label=0)\n",
    "\n",
    "plankton_big = stationary_ellipsoid_plankton(im_size_height, im_size_width, radius=(2e-7, 18e-7, 2e-7), label=0)\n",
    "\n",
    "gradient_amp = 0.5\n",
    "microscope = plankton_brightfield(im_size_height, im_size_width, gradient_amp)\n",
    "\n",
    "# no_of_planktons = 50\n",
    "# sample = create_sample(plankton, no_of_planktons)\n",
    "\n",
    "no_of_small = lambda: np.random.randint(25, 50)\n",
    "no_of_big = lambda: np.random.randint(25, 50)\n",
    "\n",
    "sample = plankton_small**no_of_small + plankton_big**no_of_big\n",
    "\n",
    "\n",
    "noise_amp = 4\n",
    "norm_min, norm_max= -0.2, 1.2\n",
    "image = create_image(noise_amp, sample, microscope, norm_min, norm_max)\n",
    "\n",
    "plot_image(image)"
   ]
  },
  {
   "cell_type": "code",
   "execution_count": null,
   "metadata": {},
   "outputs": [],
   "source": [
    "label = get_target_image(image.resolve())\n",
    "label_function = get_target_image\n",
    "plot_label(label_function, image)"
   ]
  },
  {
   "cell_type": "code",
   "execution_count": null,
   "metadata": {},
   "outputs": [],
   "source": [
    "batch_function = create_custom_batch_function(image, \n",
    "                                              outputs=[0], \n",
    "                                              function_img=[Normalize_image])"
   ]
  },
  {
   "cell_type": "code",
   "execution_count": null,
   "metadata": {},
   "outputs": [],
   "source": [
    "from deeptrack.generators import ContinuousGenerator\n",
    "generator = ContinuousGenerator(\n",
    "    image,\n",
    "    get_target_image,\n",
    "    batch_function,\n",
    "    batch_size=8,\n",
    "    min_data_size=128,\n",
    "    max_data_size=512\n",
    "    )"
   ]
  },
  {
   "cell_type": "code",
   "execution_count": null,
   "metadata": {},
   "outputs": [],
   "source": [
    "no_of_inputs, number_of_outputs = 1, 2\n",
    "model = generate_unet(im_size_height, im_size_width, no_of_inputs, number_of_outputs)\n",
    "model = train_model_early_stopping(model, generator, patience=10, epochs=200, steps_per_epoch=10)"
   ]
  },
  {
   "cell_type": "code",
   "execution_count": null,
   "metadata": {},
   "outputs": [],
   "source": [
    "# save_path_model = 'E:\\\\Documents\\\\Anaconda\\\\Jupyterkod\\\\Exjobb\\\\Egen kod\\\\Exjobb\\\\New imulations\\\\Copepods\\\\models\\\\one_frame.keras'\n",
    "# model.save(save_path_model)"
   ]
  },
  {
   "cell_type": "code",
   "execution_count": null,
   "metadata": {},
   "outputs": [],
   "source": [
    "load_path_model = 'E:\\\\Documents\\\\Anaconda\\\\Jupyterkod\\\\Exjobb\\\\Egen kod\\\\Exjobb\\\\New imulations\\\\Copepods\\\\models\\\\one_frame.keras'\n",
    "model = keras.models.load_model(load_path_model, custom_objects={'softmax_categorical':softmax_categorical})"
   ]
  },
  {
   "cell_type": "code",
   "execution_count": null,
   "metadata": {
    "scrolled": false
   },
   "outputs": [],
   "source": [
    "folder_path = 'E:\\\\Documents\\\\Anaconda\\\\Jupyterkod\\\\Exjobb\\\\Egen kod\\\\Exjobb\\\\From erik\\\\copepods'\n",
    "im_stack = get_image_stack(\n",
    "    outputs=[0], \n",
    "    folder_path=folder_path, \n",
    "    frame_im0=30, \n",
    "    im_size_width=640, \n",
    "    im_size_height=512,\n",
    "    im_resize_width=640, \n",
    "    im_resize_height=512,\n",
    "    function_img=[Normalize_image, RemoveRunningMean, Normalize_image],\n",
    "    function_diff=[Normalize_image],\n",
    "    path_folder=folder_path,\n",
    "    tot_no_of_frames=50, \n",
    "    im_height=512,\n",
    "    im_width=640)\n",
    "\n",
    "\n",
    "plot_image_stack(im_stack)\n",
    "# plot_prediction(model=model, im_stack=im_stack)\n",
    "plt.figure(figsize=(10,10))\n",
    "plt.imshow(model.predict(im_stack)[0,:,:,1]>0.7, cmap='gray')"
   ]
  },
  {
   "cell_type": "code",
   "execution_count": null,
   "metadata": {},
   "outputs": [],
   "source": [
    "positions = extract_positions(\n",
    "    no_of_frames=100, \n",
    "    outputs=[0], \n",
    "    folder_path=folder_path, \n",
    "    frame_im0=0, \n",
    "    im_size_width=640, \n",
    "    im_size_height=512,\n",
    "    im_resize_width=640, \n",
    "    im_resize_height=512,\n",
    "    model=model, \n",
    "    layer=1, \n",
    "    value_threshold=0.7,\n",
    "    function_img=[Normalize_image, RemoveRunningMean, Normalize_image],\n",
    "    function_diff=[Normalize_image],\n",
    "    path_folder=folder_path,\n",
    "    tot_no_of_frames=50, \n",
    "    im_height=512,\n",
    "    im_width=640\n",
    ")\n"
   ]
  },
  {
   "cell_type": "code",
   "execution_count": null,
   "metadata": {},
   "outputs": [],
   "source": [
    "list_of_plankton = assign_positions_to_planktons(positions, max_dist=30, threshold = 5, extrapolate=True)\n",
    "list_of_plankton = Interpolate_gaps_in_plankton_positions(list_of_plankton=list_of_plankton)\n",
    "list_of_plankton = Trim_list_from_stationary_planktons(list_of_plankton=list_of_plankton, min_distance=5)\n",
    "\n",
    "plankton_track, plankton_dont_track = split_plankton(percentage_threshold=0, list_of_plankton=list_of_plankton)"
   ]
  },
  {
   "cell_type": "code",
   "execution_count": null,
   "metadata": {
    "scrolled": true
   },
   "outputs": [],
   "source": [
    "plot_and_save_track(no_of_frames=100,\n",
    "                    plankton_track=plankton_track,\n",
    "                    plankton_dont_track=plankton_dont_track,\n",
    "                    folder_path=folder_path,\n",
    "                    frame_im0=0,\n",
    "                    save_images=1,\n",
    "                    show_plankton_track = True,\n",
    "                    show_plankton_dont_track = 0,\n",
    "                    show_numbers_track = 0,\n",
    "                    show_numbers_dont_track = 0,\n",
    "                    show_numbers_specific_plankton = False,\n",
    "                    show_specific_plankton = False,\n",
    "                    specific_plankton = None,\n",
    "                    color_plankton_track = 'b',\n",
    "                    color_plankton_dont_track = 'r',\n",
    "                    color_specific_plankton = 'w',\n",
    "                    save_path = 'E:\\\\Documents\\\\Anaconda\\\\Jupyterkod\\\\Exjobb\\\\Egen kod\\\\Exjobb\\\\New imulations\\\\Copepods\\\\track',\n",
    "                    frame_name = 'track',\n",
    "                    file_type = '.jpg')"
   ]
  },
  {
   "cell_type": "code",
   "execution_count": null,
   "metadata": {},
   "outputs": [],
   "source": [
    "Make_video(frame_im0=0,\n",
    "           folder_path='E:\\\\Documents\\\\Anaconda\\\\Jupyterkod\\\\Exjobb\\\\Egen kod\\\\Exjobb\\\\New imulations\\\\Copepods\\\\track', \n",
    "           save_path='E:\\\\Documents\\\\Anaconda\\\\Jupyterkod\\\\Exjobb\\\\Egen kod\\\\Exjobb\\\\New imulations\\\\Copepods\\\\Test_video.avi', \n",
    "           fps=7, \n",
    "           no_of_frames=100)"
   ]
  },
  {
   "cell_type": "code",
   "execution_count": null,
   "metadata": {},
   "outputs": [],
   "source": []
  }
 ],
 "metadata": {
  "kernelspec": {
   "display_name": "Python 3",
   "language": "python",
   "name": "python3"
  },
  "language_info": {
   "codemirror_mode": {
    "name": "ipython",
    "version": 3
   },
   "file_extension": ".py",
   "mimetype": "text/x-python",
   "name": "python",
   "nbconvert_exporter": "python",
   "pygments_lexer": "ipython3",
   "version": "3.7.9"
  }
 },
 "nbformat": 4,
 "nbformat_minor": 4
}
