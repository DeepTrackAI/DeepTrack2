{
 "cells": [
  {
   "cell_type": "code",
   "execution_count": null,
   "metadata": {},
   "outputs": [],
   "source": [
    "%load_ext autoreload\n",
    "%autoreload 2"
   ]
  },
  {
   "cell_type": "code",
   "execution_count": null,
   "metadata": {},
   "outputs": [],
   "source": [
    "from loader import *\n",
    "from models import *\n",
    "from utils import *\n",
    "from plotting import *"
   ]
  },
  {
   "cell_type": "code",
   "execution_count": null,
   "metadata": {
    "scrolled": false
   },
   "outputs": [],
   "source": [
    "moving_prey = moving_spherical_plankton(im_size_height=512, \n",
    "                                            im_size_width=640, \n",
    "                                            radius=0.2e-6, \n",
    "                                            label=0, \n",
    "                                            diffusion_constant_coeff=1.3)\n",
    "\n",
    "stationary_prey = stationary_spherical_plankton(im_size_height=512, \n",
    "                                                    im_size_width=640, \n",
    "                                                    radius=0.2e-6, \n",
    "                                                    label=-1)\n",
    "\n",
    "moving_predator = moving_spherical_plankton(im_size_height=512, \n",
    "                                            im_size_width=640, \n",
    "                                            radius=0.3e-6, \n",
    "                                            label=1, \n",
    "                                            diffusion_constant_coeff=8)\n",
    "\n",
    "stationary_predator = stationary_spherical_plankton(im_size_height=512, \n",
    "                                                    im_size_width=640, \n",
    "                                                    radius=0.3e-6, \n",
    "                                                    label=-1)\n",
    "\n",
    "\n",
    "sequential_moving_prey = Sequential(moving_prey, position=get_position_moving_plankton)\n",
    "sequential_stationary_prey = Sequential(stationary_prey, position=get_position_stationary_plankton)\n",
    "sequential_moving_predator = Sequential(moving_predator, position=get_position_moving_plankton)\n",
    "sequential_stationary_predator = Sequential(stationary_predator, position=get_position_stationary_plankton)\n",
    "\n",
    "microscope = plankton_brightfield(im_size_height=512, \n",
    "                                  im_size_width=640, \n",
    "                                  gradient_amp=0.1)\n",
    "\n",
    "no_of_moving_prey, no_of_stationary_prey, no_of_moving_predators, no_of_stationary_predators = 10, 10, 10, 10\n",
    "\n",
    "# sample = create_sample(sequential_moving_predator, no_of_moving_predators,\n",
    "#                        sequential_moving_prey, no_of_moving_prey, \n",
    "#                        sequential_stationary_prey, no_of_stationary_prey, \n",
    "#                        sequential_stationary_predator, no_of_stationary_predators) \n",
    "\n",
    "\n",
    "sample = sequential_moving_prey**no_of_moving_prey + sequential_stationary_prey**no_of_stationary_prey + sequential_moving_predator**no_of_moving_predators + sequential_stationary_predator**no_of_stationary_predators\n",
    "\n",
    "noise_amp = 0.1\n",
    "norm_min, norm_max= 0, 1\n",
    "sequence = create_sequence(noise_amp, sample, microscope, norm_min, norm_max)\n",
    "\n",
    "sequence_length = 2\n",
    "imaged_particle_sequence = Sequence(sequence, sequence_length=sequence_length)\n",
    "\n",
    "imaged_particle_sequence.plot(cmap='gray')"
   ]
  },
  {
   "cell_type": "code",
   "execution_count": null,
   "metadata": {},
   "outputs": [],
   "source": [
    "arg=[sequential_moving_predator, no_of_moving_predators,\n",
    "     sequential_moving_prey, no_of_moving_prey, \n",
    "     sequential_stationary_prey, no_of_stationary_prey, \n",
    "     sequential_stationary_predator, no_of_stationary_predators]\n",
    "\n",
    "\n",
    "no_of_plankton = lambda: np.random.randint(int(arg[1]*0.66), int(arg[1]*1.33))\n",
    "sample = arg[0]**no_of_plankton\n",
    "for i in range(2, len(arg), 2):\n",
    "    no_of_plankton = lambda: np.random.randint(int(arg[i+1]*0.66), int(arg[i+1]*1.33))\n",
    "    sample = Branch(sample, arg[i]**no_of_plankton)"
   ]
  },
  {
   "cell_type": "code",
   "execution_count": null,
   "metadata": {},
   "outputs": [],
   "source": [
    "sample = sequential_moving_prey**no_of_moving_prey \n",
    "sample +=  sequential_stationary_prey**no_of_stationary_prey\n",
    "sample += sequential_moving_predator**no_of_moving_predators \n",
    "sample += sequential_stationary_predator**no_of_stationary_predators"
   ]
  },
  {
   "cell_type": "code",
   "execution_count": null,
   "metadata": {},
   "outputs": [],
   "source": [
    "sample = Branch(sequential_moving_prey**no_of_moving_prey, sequential_stationary_prey**no_of_stationary_prey)\n",
    "sample = Branch(sample, sequential_moving_predator**no_of_moving_predators)\n",
    "sample = Branch(sample, sequential_stationary_predator**no_of_stationary_predators)"
   ]
  },
  {
   "cell_type": "code",
   "execution_count": null,
   "metadata": {},
   "outputs": [],
   "source": [
    "noise_amp = 0.1\n",
    "norm_min, norm_max= 0, 1\n",
    "sequence = create_sequence(noise_amp, sample, microscope, norm_min, norm_max)\n",
    "\n",
    "sequence_length = 2\n",
    "imaged_particle_sequence = Sequence(sequence, sequence_length=sequence_length)\n",
    "\n",
    "imaged_particle_sequence.plot(cmap='gray')"
   ]
  },
  {
   "cell_type": "code",
   "execution_count": null,
   "metadata": {
    "scrolled": false
   },
   "outputs": [],
   "source": [
    "label = get_target_sequence(im_seq)\n",
    "label_function = get_target_sequence\n",
    "plot_label(label_function, imaged_particle_sequence)"
   ]
  },
  {
   "cell_type": "code",
   "execution_count": null,
   "metadata": {},
   "outputs": [],
   "source": [
    "batch_function = create_custom_batch_function(imaged_particle_sequence, \n",
    "                                              outputs=[[0,1], 0, 1], \n",
    "                                              function_img=[Normalize_image],\n",
    "                                              function_diff=[Normalize_image])\n",
    "\n",
    "\n",
    "train_images = batch_function(imaged_particle_sequence.resolve())\n",
    "\n",
    "plot_batch(train_images)"
   ]
  },
  {
   "cell_type": "code",
   "execution_count": null,
   "metadata": {},
   "outputs": [],
   "source": [
    "from deeptrack.generators import ContinuousGenerator\n",
    "generator = ContinuousGenerator(\n",
    "    imaged_particle_sequence,\n",
    "    get_target_sequence,\n",
    "    batch_function,\n",
    "    batch_size=8,\n",
    "    min_data_size=80,\n",
    "    max_data_size=512\n",
    "    )"
   ]
  },
  {
   "cell_type": "code",
   "execution_count": null,
   "metadata": {},
   "outputs": [],
   "source": [
    "model = generate_unet(im_size_height=512, \n",
    "                      im_size_width=640, \n",
    "                      no_of_inputs=3, \n",
    "                      no_of_outputs=3)"
   ]
  },
  {
   "cell_type": "code",
   "execution_count": null,
   "metadata": {
    "scrolled": true
   },
   "outputs": [],
   "source": [
    "model = train_model_early_stopping(model, \n",
    "                                   generator, \n",
    "                                   patience=10, \n",
    "                                   epochs=100, \n",
    "                                   steps_per_epoch=10)"
   ]
  },
  {
   "cell_type": "code",
   "execution_count": null,
   "metadata": {
    "scrolled": false
   },
   "outputs": [],
   "source": [
    "# change outputs\n",
    "folder_path = 'E:\\\\Documents\\\\Anaconda\\\\Jupyterkod\\\\Exjobb\\\\Egen kod\\\\Exjobb\\\\Test simulations\\\\raw_output\\\\raw_output_images'\n",
    "im_stack = get_image_stack(\n",
    "    outputs=[[0,1], [1,2]], \n",
    "    folder_path=folder_path, \n",
    "    frame_im0=0, \n",
    "    im_size_width=640, \n",
    "    im_size_height=512,\n",
    "    im_resize_width=640, \n",
    "    im_resize_height=512,\n",
    "    function_img=[Normalize_image],\n",
    "    function_diff=[Normalize_image])\n",
    "\n",
    "# plot_im_stack(im_stack)\n",
    "# plot_prediction(model=model, im_stack=im_stack)\n",
    "plt.imshow(model.predict(im_stack)[0,:,:,2], cmap='gray')"
   ]
  },
  {
   "cell_type": "code",
   "execution_count": null,
   "metadata": {},
   "outputs": [],
   "source": [
    "positions = extract_positions(\n",
    "    no_of_frames=5, \n",
    "    outputs=[[0,1], [1,2]], \n",
    "    folder_path=folder_path, \n",
    "    frame_im0=0, \n",
    "    im_size_width=640, \n",
    "    im_size_height=512,\n",
    "    im_resize_width=640, \n",
    "    im_resize_height=512,\n",
    "    model=model, \n",
    "    layer=2, \n",
    "    value_threshold=0.3,\n",
    "    function_img=[Normalize_image],\n",
    "    function_diff=[Normalize_image])\n"
   ]
  },
  {
   "cell_type": "code",
   "execution_count": null,
   "metadata": {},
   "outputs": [],
   "source": [
    "list_of_plankton = assign_positions_to_planktons(positions, max_dist=10, threshold = 5, extrapolate=True)\n",
    "list_of_plankton = Interpolate_gaps_in_plankton_positions(list_of_plankton=list_of_plankton)\n",
    "list_of_plankton = Trim_list_from_stationary_planktons(list_of_plankton=list_of_plankton, min_distance=5)\n",
    "\n",
    "plankton_track, plankton_dont_track = split_plankton(percentage_threshold=0.8, list_of_plankton=list_of_plankton)"
   ]
  },
  {
   "cell_type": "code",
   "execution_count": null,
   "metadata": {
    "scrolled": true
   },
   "outputs": [],
   "source": [
    "plot_and_save_track(no_of_frames=5,\n",
    "                    plankton_track=plankton_track,\n",
    "                    plankton_dont_track=plankton_dont_track,\n",
    "                    folder_path=folder_path,\n",
    "                    frame_im0=1,\n",
    "                    save_images=0,\n",
    "                    show_plankton_track = True,\n",
    "                    show_plankton_dont_track = True,\n",
    "                    show_numbers_track = 0,\n",
    "                    show_numbers_dont_track = 0,\n",
    "                    show_numbers_specific_plankton = False,\n",
    "                    show_specific_plankton = False,\n",
    "                    specific_plankton = None,\n",
    "                    color_plankton_track = 'b',\n",
    "                    color_plankton_dont_track = 'r',\n",
    "                    color_specific_plankton = 'w',\n",
    "                    save_path = 'E:\\\\Documents\\\\Anaconda\\\\Jupyterkod\\\\Exjobb\\\\Egen kod\\\\Exjobb\\\\New imulations\\\\Raw_output',\n",
    "                    frame_name = 'track',\n",
    "                    file_type = '.jpg')"
   ]
  },
  {
   "cell_type": "code",
   "execution_count": null,
   "metadata": {},
   "outputs": [],
   "source": [
    "Make_video(frame_im0=0,\n",
    "           folder_path='E:\\\\Documents\\\\Anaconda\\\\Jupyterkod\\\\Exjobb\\\\Egen kod\\\\Exjobb\\\\New imulations\\\\Raw_output', \n",
    "           save_path='E:\\\\Documents\\\\Anaconda\\\\Jupyterkod\\\\Exjobb\\\\Egen kod\\\\Exjobb\\\\New imulations\\\\Test_video.avi', \n",
    "           fps=7, \n",
    "           no_of_frames=49)"
   ]
  },
  {
   "cell_type": "code",
   "execution_count": null,
   "metadata": {},
   "outputs": [],
   "source": [
    "save_path_model = 'E:\\\\Documents\\\\Anaconda\\\\Jupyterkod\\\\Exjobb\\\\Egen kod\\\\Exjobb\\\\New imulations\\\\Raw_output\\\\models\\\\diff01.keras'\n",
    "model.save(save_path_model)"
   ]
  },
  {
   "cell_type": "code",
   "execution_count": null,
   "metadata": {},
   "outputs": [],
   "source": [
    "load_path_model = 'E:\\\\Documents\\\\Anaconda\\\\Jupyterkod\\\\Exjobb\\\\Egen kod\\\\Exjobb\\\\Test simulations\\\\raw_output\\\\results\\\\jupyter_ver9copy\\\\models\\\\seq_len3_b1norm_noclip_3out_16-32-64-128.keras'\n",
    "model = keras.models.load_model(load_path_model, custom_objects={'softmax_categorical':softmax_categorical})"
   ]
  }
 ],
 "metadata": {
  "kernelspec": {
   "display_name": "Python 3",
   "language": "python",
   "name": "python3"
  },
  "language_info": {
   "codemirror_mode": {
    "name": "ipython",
    "version": 3
   },
   "file_extension": ".py",
   "mimetype": "text/x-python",
   "name": "python",
   "nbconvert_exporter": "python",
   "pygments_lexer": "ipython3",
   "version": "3.7.9"
  }
 },
 "nbformat": 4,
 "nbformat_minor": 4
}
