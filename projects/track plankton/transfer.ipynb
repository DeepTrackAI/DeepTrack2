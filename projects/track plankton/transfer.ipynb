{
 "cells": [
  {
   "cell_type": "code",
   "execution_count": null,
   "metadata": {},
   "outputs": [],
   "source": [
    "%load_ext autoreload\n",
    "%autoreload 2\n",
    "\n",
    "from loader import *\n",
    "from models import *\n",
    "from utils import *\n",
    "from plotting import *\n",
    "\n",
    "folder_path = 'E:\\Documents\\Anaconda\\Jupyterkod\\Exjobb\\Egen kod\\Exjobb\\From erik\\Transfer'\n",
    "list_paths = os.listdir(folder_path)   \n",
    "image = cv2.imread(folder_path +'\\\\' + list_paths[20], 0)\n",
    "plt.figure(figsize=(20,20))\n",
    "\n",
    "plt.imshow(image, cmap='gray')"
   ]
  },
  {
   "cell_type": "code",
   "execution_count": null,
   "metadata": {},
   "outputs": [],
   "source": [
    "col_delete_list=[0, 140, 1150, 1280]\n",
    "row_delete_list=[0, 200, 350, 720, 880, 1024]\n",
    "plt.figure(figsize=(20,20))\n",
    "\n",
    "img = crop_and_append_image(image=image, col_delete_list=col_delete_list, row_delete_list=row_delete_list, print_shape=True)\n",
    "plt.imshow(img, cmap='gray')"
   ]
  },
  {
   "cell_type": "code",
   "execution_count": null,
   "metadata": {},
   "outputs": [],
   "source": [
    "im_size_width, im_size_height, radius = 1008, 304, (1.5e-7, 9e-7, 1.5e-7)\n",
    "plankton = stationary_ellipsoid_plankton(im_size_height, im_size_width, radius, label=0)\n",
    "\n",
    "gradient_amp = 0.5\n",
    "microscope = plankton_brightfield(im_size_height, im_size_width, gradient_amp)\n",
    "\n",
    "no_of_planktons = 50\n",
    "sample = create_sample(plankton, no_of_planktons)\n",
    "\n",
    "noise_amp = 2\n",
    "norm_min, norm_max= -0.2, 1.2\n",
    "image = create_image(noise_amp, sample, microscope, norm_min, norm_max)\n",
    "\n",
    "plot_image(image)"
   ]
  },
  {
   "cell_type": "code",
   "execution_count": null,
   "metadata": {},
   "outputs": [],
   "source": [
    "label = get_target_image(image.resolve())\n",
    "label_function = get_target_image\n",
    "plot_label(label_function, image)"
   ]
  },
  {
   "cell_type": "code",
   "execution_count": null,
   "metadata": {},
   "outputs": [],
   "source": [
    "batch_function = create_custom_batch_function(image, \n",
    "                                              outputs=[0], \n",
    "                                              function_img=[Normalize_image],\n",
    "                                              function_diff=[Normalize_image])"
   ]
  },
  {
   "cell_type": "code",
   "execution_count": null,
   "metadata": {},
   "outputs": [],
   "source": [
    "from deeptrack.generators import ContinuousGenerator\n",
    "generator = ContinuousGenerator(\n",
    "    image,\n",
    "    get_target_image,\n",
    "    batch_function,\n",
    "    batch_size=8,\n",
    "    min_data_size=128,\n",
    "    max_data_size=512\n",
    "    )"
   ]
  },
  {
   "cell_type": "code",
   "execution_count": null,
   "metadata": {},
   "outputs": [],
   "source": [
    "no_of_inputs, number_of_outputs = 1, 2\n",
    "model = generate_unet(im_size_height, im_size_width, no_of_inputs, number_of_outputs)\n",
    "model = train_model(model, generator, patience=10, epochs=200, steps_per_epoch=10)"
   ]
  },
  {
   "cell_type": "code",
   "execution_count": null,
   "metadata": {},
   "outputs": [],
   "source": [
    "load_path_model = 'E:\\\\Documents\\\\Anaconda\\\\Jupyterkod\\\\Exjobb\\\\Egen kod\\\\Exjobb\\\\Test simulations\\\\Transfer rep 5 and 6\\\\results\\\\ver1\\\\models\\\\seq_len1_b7.keras'\n",
    "model = keras.models.load_model(load_path_model, custom_objects={'softmax_categorical':softmax_categorical})"
   ]
  },
  {
   "cell_type": "code",
   "execution_count": null,
   "metadata": {},
   "outputs": [],
   "source": [
    "# outputs = [\"img\", \"img\", \"img\", \"diff\", \"diff\"]\n",
    "# output_numbers = [0, 1, 2, [0,1], [1,2]]\n",
    "folder_path = 'E:\\\\Documents\\\\Anaconda\\\\Jupyterkod\\\\Exjobb\\\\Egen kod\\\\Exjobb\\\\From erik\\\\Transfer'\n",
    "# calculated_mean_image = get_mean_image(folder_path, im_size_width=1280, im_size_height=1024)\n",
    "# remove_mean_func = lambda img, **kwargs: img - calculated_mean_image\n",
    "\n",
    "im_stack = get_image_stack(\n",
    "    outputs=[0], \n",
    "    folder_path=folder_path, \n",
    "    frame_im0=20, \n",
    "    im_size_width=1008, \n",
    "    im_size_height=304,\n",
    "    im_resize_width=1280, \n",
    "    im_resize_height=1024,\n",
    "    function_img=[Normalize_image, RemoveRunningMean, crop_and_append_image, lambda x: np.exp(x), Normalize_image],\n",
    "    row_delete_list=row_delete_list, \n",
    "    col_delete_list=col_delete_list,\n",
    "    path_folder=folder_path,\n",
    "    tot_no_of_frames=40, \n",
    "    im_height=1024,\n",
    "    im_width=1280\n",
    ")\n",
    "plt.figure(figsize=(20,20))\n",
    "plot_image_stack(im_stack)\n",
    "# plot_prediction(model=model, im_stack=im_stack)\n",
    "# 0.01, 0.1, 0.3, 0.5, 0.7, 0.9\n",
    "plt.figure(figsize=(20,20))\n",
    "plt.imshow(model.predict(im_stack)[0,:,:,1]>0.5, cmap='gray')"
   ]
  },
  {
   "cell_type": "code",
   "execution_count": null,
   "metadata": {},
   "outputs": [],
   "source": [
    "positions = extract_positions(\n",
    "    no_of_frames=10, \n",
    "    outputs=[0], \n",
    "    folder_path=folder_path, \n",
    "    frame_im0=0, \n",
    "    im_size_width=1008, \n",
    "    im_size_height=304,\n",
    "    im_resize_width=1280, \n",
    "    im_resize_height=1024,\n",
    "    model=model, \n",
    "    layer=1, \n",
    "    value_threshold=0.9,\n",
    "    prediction_size=0,\n",
    "    function_img=[Normalize_image, RemoveRunningMean, crop_and_append_image, lambda x: np.exp(x), Normalize_image],\n",
    "    row_delete_list=row_delete_list, \n",
    "    col_delete_list=col_delete_list,\n",
    "    path_folder=folder_path,\n",
    "    tot_no_of_frames=20,\n",
    "    im_height=1024,\n",
    "    im_width=1280)\n"
   ]
  },
  {
   "cell_type": "code",
   "execution_count": null,
   "metadata": {
    "scrolled": true
   },
   "outputs": [],
   "source": [
    "new_positions = fix_positions_from_cropping(positions, col_delete_list=col_delete_list, row_delete_list=row_delete_list)"
   ]
  },
  {
   "cell_type": "code",
   "execution_count": null,
   "metadata": {},
   "outputs": [],
   "source": [
    "list_of_plankton = assign_positions_to_planktons(new_positions, max_dist=60, threshold = 10, extrapolate=True)\n",
    "list_of_plankton = Interpolate_gaps_in_plankton_positions(list_of_plankton=list_of_plankton)\n",
    "list_of_plankton = Trim_list_from_stationary_planktons(list_of_plankton=list_of_plankton, min_distance=5)\n",
    "\n",
    "plankton_track, plankton_dont_track = split_plankton(percentage_threshold=0.0, list_of_plankton=list_of_plankton)"
   ]
  },
  {
   "cell_type": "code",
   "execution_count": null,
   "metadata": {
    "scrolled": false
   },
   "outputs": [],
   "source": [
    "plot_and_save_track(no_of_frames=10,\n",
    "                    plankton_track=plankton_track,\n",
    "                    plankton_dont_track=plankton_dont_track,\n",
    "                    folder_path=folder_path,\n",
    "                    frame_im0=0,\n",
    "                    save_images=False,\n",
    "                    show_plankton_track = True,\n",
    "                    show_plankton_dont_track = 0,\n",
    "                    show_numbers_track = 0,\n",
    "                    show_numbers_dont_track = 0,\n",
    "                    show_numbers_specific_plankton = False,\n",
    "                    show_specific_plankton = False,\n",
    "                    specific_plankton = None,\n",
    "                    color_plankton_track = 'b',\n",
    "                    color_plankton_dont_track = 'r',\n",
    "                    color_specific_plankton = 'w',\n",
    "                    im_size_width=1280, \n",
    "                    im_size_height=1024,\n",
    "                    save_path = 'E:\\\\Documents\\\\Anaconda\\\\Jupyterkod\\\\Exjobb\\\\Egen kod\\\\Exjobb\\\\New imulations\\\\transfer\\\\track',\n",
    "                    frame_name = 'track',\n",
    "                    file_type = '.jpg')"
   ]
  },
  {
   "cell_type": "code",
   "execution_count": null,
   "metadata": {},
   "outputs": [],
   "source": [
    "# Make_video(frame_im0=0,\n",
    "#            folder_path='E:\\\\Documents\\\\Anaconda\\\\Jupyterkod\\\\Exjobb\\\\Egen kod\\\\Exjobb\\\\New imulations\\\\transfer\\\\track', \n",
    "#            save_path='E:\\\\Documents\\\\Anaconda\\\\Jupyterkod\\\\Exjobb\\\\Egen kod\\\\Exjobb\\\\New imulations\\\\transfer\\\\Test_video.avi', \n",
    "#            fps=7, \n",
    "#            no_of_frames=100)"
   ]
  }
 ],
 "metadata": {
  "kernelspec": {
   "display_name": "Python 3",
   "language": "python",
   "name": "python3"
  },
  "language_info": {
   "codemirror_mode": {
    "name": "ipython",
    "version": 3
   },
   "file_extension": ".py",
   "mimetype": "text/x-python",
   "name": "python",
   "nbconvert_exporter": "python",
   "pygments_lexer": "ipython3",
   "version": "3.7.9"
  }
 },
 "nbformat": 4,
 "nbformat_minor": 4
}
