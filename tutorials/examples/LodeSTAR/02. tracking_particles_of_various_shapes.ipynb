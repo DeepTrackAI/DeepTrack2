{
  "cells": [
    {
      "cell_type": "code",
      "execution_count": 1,
      "id": "everyday-accordance",
      "metadata": {
        "execution": {
          "iopub.execute_input": "2022-06-29T20:15:00.379947Z",
          "iopub.status.busy": "2022-06-29T20:15:00.379947Z",
          "iopub.status.idle": "2022-06-29T20:15:01.821447Z",
          "shell.execute_reply": "2022-06-29T20:15:01.822946Z"
        }
      },
      "outputs": [
        {
          "name": "stdout",
          "output_type": "stream",
          "text": [
            "Requirement already satisfied: deeptrack in c:\\users\\gu\\deeptrack\\deeptrack-2.0 (1.2.0)\n",
            "Requirement already satisfied: tensorflow in c:\\users\\gu\\appdata\\local\\programs\\python\\python310\\lib\\site-packages (from deeptrack) (2.9.1)\n",
            "Requirement already satisfied: tensorflow-probability in c:\\users\\gu\\appdata\\local\\programs\\python\\python310\\lib\\site-packages (from deeptrack) (0.17.0)\n",
            "Requirement already satisfied: numpy in c:\\users\\gu\\appdata\\local\\programs\\python\\python310\\lib\\site-packages (from deeptrack) (1.23.0)\n",
            "Requirement already satisfied: scipy in c:\\users\\gu\\appdata\\local\\programs\\python\\python310\\lib\\site-packages (from deeptrack) (1.8.1)\n",
            "Requirement already satisfied: pint in c:\\users\\gu\\appdata\\local\\programs\\python\\python310\\lib\\site-packages (from deeptrack) (0.19.2)\n",
            "Requirement already satisfied: scikit-image>=0.18.0 in c:\\users\\gu\\appdata\\local\\programs\\python\\python310\\lib\\site-packages (from deeptrack) (0.19.3)\n",
            "Requirement already satisfied: pydeepimagej in c:\\users\\gu\\appdata\\local\\programs\\python\\python310\\lib\\site-packages (from deeptrack) (1.1.0)\n",
            "Requirement already satisfied: more_itertools in c:\\users\\gu\\appdata\\local\\programs\\python\\python310\\lib\\site-packages (from deeptrack) (8.13.0)\n",
            "Requirement already satisfied: tensorflow_addons in c:\\users\\gu\\appdata\\local\\programs\\python\\python310\\lib\\site-packages (from deeptrack) (0.17.1)\n",
            "Requirement already satisfied: tifffile>=2019.7.26 in c:\\users\\gu\\appdata\\local\\programs\\python\\python310\\lib\\site-packages (from scikit-image>=0.18.0->deeptrack) (2022.5.4)\n",
            "Requirement already satisfied: pillow!=7.1.0,!=7.1.1,!=8.3.0,>=6.1.0 in c:\\users\\gu\\appdata\\local\\programs\\python\\python310\\lib\\site-packages (from scikit-image>=0.18.0->deeptrack) (9.1.1)\n",
            "Requirement already satisfied: PyWavelets>=1.1.1 in c:\\users\\gu\\appdata\\local\\programs\\python\\python310\\lib\\site-packages (from scikit-image>=0.18.0->deeptrack) (1.3.0)\n",
            "Requirement already satisfied: imageio>=2.4.1 in c:\\users\\gu\\appdata\\local\\programs\\python\\python310\\lib\\site-packages (from scikit-image>=0.18.0->deeptrack) (2.19.3)\n",
            "Requirement already satisfied: packaging>=20.0 in c:\\users\\gu\\appdata\\local\\programs\\python\\python310\\lib\\site-packages (from scikit-image>=0.18.0->deeptrack) (21.3)\n",
            "Requirement already satisfied: networkx>=2.2 in c:\\users\\gu\\appdata\\local\\programs\\python\\python310\\lib\\site-packages (from scikit-image>=0.18.0->deeptrack) (2.8.4)\n",
            "Requirement already satisfied: tensorboard<2.10,>=2.9 in c:\\users\\gu\\appdata\\local\\programs\\python\\python310\\lib\\site-packages (from tensorflow->deeptrack) (2.9.1)\n",
            "Requirement already satisfied: setuptools in c:\\users\\gu\\appdata\\local\\programs\\python\\python310\\lib\\site-packages (from tensorflow->deeptrack) (58.1.0)\n",
            "Requirement already satisfied: opt-einsum>=2.3.2 in c:\\users\\gu\\appdata\\local\\programs\\python\\python310\\lib\\site-packages (from tensorflow->deeptrack) (3.3.0)\n",
            "Requirement already satisfied: tensorflow-estimator<2.10.0,>=2.9.0rc0 in c:\\users\\gu\\appdata\\local\\programs\\python\\python310\\lib\\site-packages (from tensorflow->deeptrack) (2.9.0)\n",
            "Requirement already satisfied: protobuf<3.20,>=3.9.2 in c:\\users\\gu\\appdata\\local\\programs\\python\\python310\\lib\\site-packages (from tensorflow->deeptrack) (3.19.4)\n",
            "Requirement already satisfied: gast<=0.4.0,>=0.2.1 in c:\\users\\gu\\appdata\\local\\programs\\python\\python310\\lib\\site-packages (from tensorflow->deeptrack) (0.4.0)\n",
            "Requirement already satisfied: flatbuffers<2,>=1.12 in c:\\users\\gu\\appdata\\local\\programs\\python\\python310\\lib\\site-packages (from tensorflow->deeptrack) (1.12)\n",
            "Requirement already satisfied: h5py>=2.9.0 in c:\\users\\gu\\appdata\\local\\programs\\python\\python310\\lib\\site-packages (from tensorflow->deeptrack) (3.7.0)\n",
            "Requirement already satisfied: typing-extensions>=3.6.6 in c:\\users\\gu\\appdata\\local\\programs\\python\\python310\\lib\\site-packages (from tensorflow->deeptrack) (4.2.0)\n",
            "Requirement already satisfied: libclang>=13.0.0 in c:\\users\\gu\\appdata\\local\\programs\\python\\python310\\lib\\site-packages (from tensorflow->deeptrack) (14.0.1)\n",
            "Requirement already satisfied: tensorflow-io-gcs-filesystem>=0.23.1 in c:\\users\\gu\\appdata\\local\\programs\\python\\python310\\lib\\site-packages (from tensorflow->deeptrack) (0.26.0)\n",
            "Requirement already satisfied: grpcio<2.0,>=1.24.3 in c:\\users\\gu\\appdata\\local\\programs\\python\\python310\\lib\\site-packages (from tensorflow->deeptrack) (1.47.0)\n",
            "Requirement already satisfied: absl-py>=1.0.0 in c:\\users\\gu\\appdata\\local\\programs\\python\\python310\\lib\\site-packages (from tensorflow->deeptrack) (1.1.0)\n",
            "Requirement already satisfied: keras<2.10.0,>=2.9.0rc0 in c:\\users\\gu\\appdata\\local\\programs\\python\\python310\\lib\\site-packages (from tensorflow->deeptrack) (2.9.0)\n",
            "Requirement already satisfied: astunparse>=1.6.0 in c:\\users\\gu\\appdata\\local\\programs\\python\\python310\\lib\\site-packages (from tensorflow->deeptrack) (1.6.3)\n",
            "Requirement already satisfied: six>=1.12.0 in c:\\users\\gu\\appdata\\local\\programs\\python\\python310\\lib\\site-packages (from tensorflow->deeptrack) (1.16.0)\n",
            "Requirement already satisfied: wrapt>=1.11.0 in c:\\users\\gu\\appdata\\local\\programs\\python\\python310\\lib\\site-packages (from tensorflow->deeptrack) (1.14.1)\n",
            "Requirement already satisfied: google-pasta>=0.1.1 in c:\\users\\gu\\appdata\\local\\programs\\python\\python310\\lib\\site-packages (from tensorflow->deeptrack) (0.2.0)\n",
            "Requirement already satisfied: termcolor>=1.1.0 in c:\\users\\gu\\appdata\\local\\programs\\python\\python310\\lib\\site-packages (from tensorflow->deeptrack) (1.1.0)\n",
            "Requirement already satisfied: keras-preprocessing>=1.1.1 in c:\\users\\gu\\appdata\\local\\programs\\python\\python310\\lib\\site-packages (from tensorflow->deeptrack) (1.1.2)\n",
            "Requirement already satisfied: typeguard>=2.7 in c:\\users\\gu\\appdata\\local\\programs\\python\\python310\\lib\\site-packages (from tensorflow_addons->deeptrack) (2.13.3)\n",
            "Requirement already satisfied: dm-tree in c:\\users\\gu\\appdata\\local\\programs\\python\\python310\\lib\\site-packages (from tensorflow-probability->deeptrack) (0.1.7)\n",
            "Requirement already satisfied: decorator in c:\\users\\gu\\appdata\\local\\programs\\python\\python310\\lib\\site-packages (from tensorflow-probability->deeptrack) (5.1.1)\n",
            "Requirement already satisfied: cloudpickle>=1.3 in c:\\users\\gu\\appdata\\local\\programs\\python\\python310\\lib\\site-packages (from tensorflow-probability->deeptrack) (2.1.0)\n",
            "Requirement already satisfied: wheel<1.0,>=0.23.0 in c:\\users\\gu\\appdata\\local\\programs\\python\\python310\\lib\\site-packages (from astunparse>=1.6.0->tensorflow->deeptrack) (0.37.1)\n",
            "Requirement already satisfied: pyparsing!=3.0.5,>=2.0.2 in c:\\users\\gu\\appdata\\local\\programs\\python\\python310\\lib\\site-packages (from packaging>=20.0->scikit-image>=0.18.0->deeptrack) (3.0.9)\n",
            "Requirement already satisfied: werkzeug>=1.0.1 in c:\\users\\gu\\appdata\\local\\programs\\python\\python310\\lib\\site-packages (from tensorboard<2.10,>=2.9->tensorflow->deeptrack) (2.1.2)\n",
            "Requirement already satisfied: tensorboard-plugin-wit>=1.6.0 in c:\\users\\gu\\appdata\\local\\programs\\python\\python310\\lib\\site-packages (from tensorboard<2.10,>=2.9->tensorflow->deeptrack) (1.8.1)\n",
            "Requirement already satisfied: google-auth<3,>=1.6.3 in c:\\users\\gu\\appdata\\local\\programs\\python\\python310\\lib\\site-packages (from tensorboard<2.10,>=2.9->tensorflow->deeptrack) (2.9.0)\n",
            "Requirement already satisfied: google-auth-oauthlib<0.5,>=0.4.1 in c:\\users\\gu\\appdata\\local\\programs\\python\\python310\\lib\\site-packages (from tensorboard<2.10,>=2.9->tensorflow->deeptrack) (0.4.6)\n",
            "Requirement already satisfied: markdown>=2.6.8 in c:\\users\\gu\\appdata\\local\\programs\\python\\python310\\lib\\site-packages (from tensorboard<2.10,>=2.9->tensorflow->deeptrack) (3.3.7)\n",
            "Requirement already satisfied: tensorboard-data-server<0.7.0,>=0.6.0 in c:\\users\\gu\\appdata\\local\\programs\\python\\python310\\lib\\site-packages (from tensorboard<2.10,>=2.9->tensorflow->deeptrack) (0.6.1)\n",
            "Requirement already satisfied: requests<3,>=2.21.0 in c:\\users\\gu\\appdata\\local\\programs\\python\\python310\\lib\\site-packages (from tensorboard<2.10,>=2.9->tensorflow->deeptrack) (2.28.0)\n",
            "Requirement already satisfied: rsa<5,>=3.1.4 in c:\\users\\gu\\appdata\\local\\programs\\python\\python310\\lib\\site-packages (from google-auth<3,>=1.6.3->tensorboard<2.10,>=2.9->tensorflow->deeptrack) (4.8)\n",
            "Requirement already satisfied: pyasn1-modules>=0.2.1 in c:\\users\\gu\\appdata\\local\\programs\\python\\python310\\lib\\site-packages (from google-auth<3,>=1.6.3->tensorboard<2.10,>=2.9->tensorflow->deeptrack) (0.2.8)\n",
            "Requirement already satisfied: cachetools<6.0,>=2.0.0 in c:\\users\\gu\\appdata\\local\\programs\\python\\python310\\lib\\site-packages (from google-auth<3,>=1.6.3->tensorboard<2.10,>=2.9->tensorflow->deeptrack) (5.2.0)\n",
            "Requirement already satisfied: requests-oauthlib>=0.7.0 in c:\\users\\gu\\appdata\\local\\programs\\python\\python310\\lib\\site-packages (from google-auth-oauthlib<0.5,>=0.4.1->tensorboard<2.10,>=2.9->tensorflow->deeptrack) (1.3.1)\n",
            "Requirement already satisfied: certifi>=2017.4.17 in c:\\users\\gu\\appdata\\local\\programs\\python\\python310\\lib\\site-packages (from requests<3,>=2.21.0->tensorboard<2.10,>=2.9->tensorflow->deeptrack) (2022.6.15)\n",
            "Requirement already satisfied: urllib3<1.27,>=1.21.1 in c:\\users\\gu\\appdata\\local\\programs\\python\\python310\\lib\\site-packages (from requests<3,>=2.21.0->tensorboard<2.10,>=2.9->tensorflow->deeptrack) (1.26.9)\n",
            "Requirement already satisfied: charset-normalizer~=2.0.0 in c:\\users\\gu\\appdata\\local\\programs\\python\\python310\\lib\\site-packages (from requests<3,>=2.21.0->tensorboard<2.10,>=2.9->tensorflow->deeptrack) (2.0.12)\n",
            "Requirement already satisfied: idna<4,>=2.5 in c:\\users\\gu\\appdata\\local\\programs\\python\\python310\\lib\\site-packages (from requests<3,>=2.21.0->tensorboard<2.10,>=2.9->tensorflow->deeptrack) (3.3)\n",
            "Requirement already satisfied: pyasn1<0.5.0,>=0.4.6 in c:\\users\\gu\\appdata\\local\\programs\\python\\python310\\lib\\site-packages (from pyasn1-modules>=0.2.1->google-auth<3,>=1.6.3->tensorboard<2.10,>=2.9->tensorflow->deeptrack) (0.4.8)\n",
            "Requirement already satisfied: oauthlib>=3.0.0 in c:\\users\\gu\\appdata\\local\\programs\\python\\python310\\lib\\site-packages (from requests-oauthlib>=0.7.0->google-auth-oauthlib<0.5,>=0.4.1->tensorboard<2.10,>=2.9->tensorflow->deeptrack) (3.2.0)\n"
          ]
        }
      ],
      "source": [
        "%matplotlib inline\n",
        "!pip install deeptrack"
      ]
    },
    {
      "cell_type": "markdown",
      "id": "dfd5b527",
      "metadata": {},
      "source": [
        "<!--<badge>--><a href=\"https://colab.research.google.com/github/softmatterlab/DeepTrack-2.0/blob/develop/examples/LodeSTAR/02. tracking_particles_of_various_shapes.ipynb\" target=\"_parent\"><img src=\"https://colab.research.google.com/assets/colab-badge.svg\" alt=\"Open In Colab\"/></a><!--</badge>-->"
      ]
    },
    {
      "cell_type": "code",
      "execution_count": 2,
      "id": "magnetic-literacy",
      "metadata": {
        "execution": {
          "iopub.execute_input": "2022-06-29T20:15:01.825447Z",
          "iopub.status.busy": "2022-06-29T20:15:01.824947Z",
          "iopub.status.idle": "2022-06-29T20:15:05.366454Z",
          "shell.execute_reply": "2022-06-29T20:15:05.366454Z"
        }
      },
      "outputs": [],
      "source": [
        "\n",
        "import deeptrack as dt\n",
        "import numpy as np\n",
        "import skimage.color\n",
        "import matplotlib.pyplot as plt"
      ]
    },
    {
      "cell_type": "code",
      "execution_count": 3,
      "id": "electronic-mandate",
      "metadata": {
        "execution": {
          "iopub.execute_input": "2022-06-29T20:15:05.369453Z",
          "iopub.status.busy": "2022-06-29T20:15:05.368953Z",
          "iopub.status.idle": "2022-06-29T20:15:05.370953Z",
          "shell.execute_reply": "2022-06-29T20:15:05.371453Z"
        }
      },
      "outputs": [],
      "source": [
        "available_shapes = {\"point\", \"sphere\", \"annulus\", \"ellipse\", \"moon\"}\n",
        "\n",
        "shape_to_train_on = \"annulus\"\n",
        "shape_to_evaluate_on = \"annulus\"\n",
        "\n",
        "assert shape_to_train_on in available_shapes, f\"{shape_to_train_on} is not a valid shape\"\n",
        "assert shape_to_evaluate_on in available_shapes, f\"{shape_to_train_on} is not a valid shape\""
      ]
    },
    {
      "cell_type": "code",
      "execution_count": 4,
      "id": "a2d5465d",
      "metadata": {
        "execution": {
          "iopub.execute_input": "2022-06-29T20:15:05.375453Z",
          "iopub.status.busy": "2022-06-29T20:15:05.374953Z",
          "iopub.status.idle": "2022-06-29T20:15:05.377453Z",
          "shell.execute_reply": "2022-06-29T20:15:05.377954Z"
        }
      },
      "outputs": [],
      "source": [
        "class Annulus(dt.Ellipse):\n",
        "\n",
        "    __conversion_table__ = dt.ConversionTable(\n",
        "        outer_radius=(dt.units.pixel, dt.units.pixel),\n",
        "        inner_radius=(dt.units.pixel, dt.units.pixel)\n",
        "    )\n",
        "\n",
        "    def get(self, *inp, inner_radius, radius, **kwargs):\n",
        "        \n",
        "        im0 = super().get(*inp, radius=radius, **kwargs)\n",
        "        reduced = dt.Affine(scale=inner_radius / radius, mode=\"constant\")(im0)\n",
        "        return im0 - reduced\n",
        "\n",
        "\n",
        "class CrescentMoon(dt.Ellipse):\n",
        "    __conversion_table__ = dt.ConversionTable(\n",
        "        radius=(dt.units.pixel, dt.units.pixel),\n",
        "        offset=(dt.units.pixel, dt.units.pixel)\n",
        "    )\n",
        "    def get(self, *inp, radius, offset, **kwargs):\n",
        "        ellipse = super().get(*inp, radius=radius, **kwargs)\n",
        "        offset = np.round(offset).astype(np.int)\n",
        "        other = dt.Affine(translate=offset, mode=\"constant\").resolve(ellipse)\n",
        "        ellipse[np.array(other > 0)] = 0\n",
        "\n",
        "        return ellipse\n"
      ]
    },
    {
      "cell_type": "code",
      "execution_count": 5,
      "id": "radical-unemployment",
      "metadata": {
        "execution": {
          "iopub.execute_input": "2022-06-29T20:15:05.380454Z",
          "iopub.status.busy": "2022-06-29T20:15:05.380454Z",
          "iopub.status.idle": "2022-06-29T20:15:05.382453Z",
          "shell.execute_reply": "2022-06-29T20:15:05.382453Z"
        }
      },
      "outputs": [],
      "source": [
        "arguments = dt.Arguments(\n",
        "    particle_shape = shape_to_train_on, \n",
        "    position=lambda: np.random.uniform(27, 37, 2),\n",
        "    snr=lambda: np.random.uniform(2, 20)\n",
        ")\n",
        "optics = dt.Fluorescence(output_region=(0, 0, 64, 64))"
      ]
    },
    {
      "cell_type": "code",
      "execution_count": 6,
      "id": "b3f478c3",
      "metadata": {
        "execution": {
          "iopub.execute_input": "2022-06-29T20:15:05.386953Z",
          "iopub.status.busy": "2022-06-29T20:15:05.386953Z",
          "iopub.status.idle": "2022-06-29T20:15:05.388954Z",
          "shell.execute_reply": "2022-06-29T20:15:05.388954Z"
        }
      },
      "outputs": [],
      "source": [
        "point = dt.PointParticle(position=arguments.position)\n",
        "sphere = dt.Sphere(position=arguments.position, radius=1*dt.units.micrometer)\n",
        "annulus = Annulus(\n",
        "    radius=12 * dt.units.px,\n",
        "    inner_radius= 8 * dt.units.px,\n",
        "    position=arguments.position,\n",
        ")\n",
        "ellipse = dt.Ellipse(\n",
        "    position=arguments.position,\n",
        "    radius=(12, 7, 3) * dt.units.px,\n",
        ")\n",
        "moon = CrescentMoon(\n",
        "    radius=1 * dt.units.micrometer,\n",
        "    offset=(6, 0),\n",
        "    position=arguments.position,\n",
        ")\n",
        "\n",
        "particle = dt.OneOfDict(\n",
        "    dict(\n",
        "        point=point,\n",
        "        sphere=sphere, \n",
        "        annulus=annulus, \n",
        "        ellipse=ellipse, \n",
        "        moon=moon\n",
        "    ),\n",
        "    key=arguments.particle_shape\n",
        ")"
      ]
    },
    {
      "cell_type": "code",
      "execution_count": 7,
      "id": "0306fd7a",
      "metadata": {
        "execution": {
          "iopub.execute_input": "2022-06-29T20:15:05.395954Z",
          "iopub.status.busy": "2022-06-29T20:15:05.395454Z",
          "iopub.status.idle": "2022-06-29T20:15:06.115954Z",
          "shell.execute_reply": "2022-06-29T20:15:06.116455Z"
        }
      },
      "outputs": [
        {
          "data": {
            "text/plain": [
              "<AxesSubplot:>"
            ]
          },
          "execution_count": 1,
          "metadata": {},
          "output_type": "execute_result"
        },
        {
          "data": {
            "image/png": "[encoded data removed]",
            "text/plain": [
              "<Figure size 432x288 with 1 Axes>"
            ]
          },
          "metadata": {
            "needs_background": "light"
          },
          "output_type": "display_data"
        }
      ],
      "source": [
        "data_pipeline = (\n",
        "    optics(particle) \n",
        "    >> dt.NormalizeMinMax()\n",
        "    >> dt.Affine(rotate=lambda: np.random.uniform(0, 2 * np.pi))\n",
        "    >> dt.Add(0.1)\n",
        "    >> dt.Poisson(snr=arguments.snr)\n",
        ").bind_arguments(arguments)\n",
        "\n",
        "data_pipeline.plot()"
      ]
    },
    {
      "cell_type": "code",
      "execution_count": 8,
      "id": "fed997c7",
      "metadata": {
        "execution": {
          "iopub.execute_input": "2022-06-29T20:15:06.124954Z",
          "iopub.status.busy": "2022-06-29T20:15:06.124454Z",
          "iopub.status.idle": "2022-06-29T20:15:06.221453Z",
          "shell.execute_reply": "2022-06-29T20:15:06.221954Z"
        }
      },
      "outputs": [
        {
          "data": {
            "image/png": "[encoded data removed]",
            "text/plain": [
              "<Figure size 432x288 with 1 Axes>"
            ]
          },
          "metadata": {
            "needs_background": "light"
          },
          "output_type": "display_data"
        }
      ],
      "source": [
        "training_sample = data_pipeline.update()(snr=10)\n",
        "plt.imshow(training_sample)\n",
        "plt.show()"
      ]
    },
    {
      "cell_type": "code",
      "execution_count": 9,
      "id": "fancy-gamma",
      "metadata": {
        "execution": {
          "iopub.execute_input": "2022-06-29T20:15:06.232454Z",
          "iopub.status.busy": "2022-06-29T20:15:06.231954Z",
          "iopub.status.idle": "2022-06-29T20:15:57.511245Z",
          "shell.execute_reply": "2022-06-29T20:15:57.511743Z"
        }
      },
      "outputs": [
        {
          "name": "stdout",
          "output_type": "stream",
          "text": [
            "Generating 166 / 160 samples before starting training\n",
            "Epoch 1/30\n",
            "166/166 [==============================] - 5s 8ms/step - total_loss: 1.1863 - consistency_loss: 0.7993\n",
            "Epoch 2/30\n",
            "166/166 [==============================] - 1s 8ms/step - total_loss: 0.0673 - consistency_loss: 0.0138\n",
            "Epoch 3/30\n",
            "166/166 [==============================] - 1s 8ms/step - total_loss: 0.0529 - consistency_loss: 0.0074\n",
            "Epoch 4/30\n",
            "166/166 [==============================] - 1s 8ms/step - total_loss: 0.0520 - consistency_loss: 0.0072\n",
            "Epoch 5/30\n",
            "166/166 [==============================] - 1s 8ms/step - total_loss: 0.0446 - consistency_loss: 0.0070\n",
            "Epoch 6/30\n",
            "166/166 [==============================] - 1s 8ms/step - total_loss: 0.0480 - consistency_loss: 0.0062\n",
            "Epoch 7/30\n",
            "166/166 [==============================] - 1s 8ms/step - total_loss: 0.0439 - consistency_loss: 0.0059\n",
            "Epoch 8/30\n",
            "166/166 [==============================] - 1s 8ms/step - total_loss: 0.0389 - consistency_loss: 0.0058\n",
            "Epoch 9/30\n",
            "166/166 [==============================] - 1s 8ms/step - total_loss: 0.0524 - consistency_loss: 0.0062\n",
            "Epoch 10/30\n",
            "166/166 [==============================] - 1s 8ms/step - total_loss: 0.0402 - consistency_loss: 0.0053\n",
            "Epoch 11/30\n",
            "166/166 [==============================] - 1s 8ms/step - total_loss: 0.0415 - consistency_loss: 0.0055\n",
            "Epoch 12/30\n",
            "166/166 [==============================] - 1s 9ms/step - total_loss: 0.0414 - consistency_loss: 0.0052\n",
            "Epoch 13/30\n",
            "166/166 [==============================] - 1s 8ms/step - total_loss: 0.0486 - consistency_loss: 0.0059\n",
            "Epoch 14/30\n",
            "166/166 [==============================] - 1s 8ms/step - total_loss: 0.0326 - consistency_loss: 0.0042\n",
            "Epoch 15/30\n",
            "166/166 [==============================] - 1s 8ms/step - total_loss: 0.0430 - consistency_loss: 0.0049\n",
            "Epoch 16/30\n",
            "166/166 [==============================] - 1s 8ms/step - total_loss: 0.0306 - consistency_loss: 0.0042\n",
            "Epoch 17/30\n",
            "166/166 [==============================] - 1s 8ms/step - total_loss: 0.0312 - consistency_loss: 0.0038\n",
            "Epoch 18/30\n",
            "166/166 [==============================] - 1s 9ms/step - total_loss: 0.2855 - consistency_loss: 0.0671\n",
            "Epoch 19/30\n",
            "166/166 [==============================] - 1s 7ms/step - total_loss: 0.0483 - consistency_loss: 0.0077\n",
            "Epoch 20/30\n",
            "166/166 [==============================] - 2s 9ms/step - total_loss: 0.0330 - consistency_loss: 0.0056\n",
            "Epoch 21/30\n",
            "166/166 [==============================] - 1s 8ms/step - total_loss: 0.0325 - consistency_loss: 0.0054\n",
            "Epoch 22/30\n",
            "166/166 [==============================] - 1s 8ms/step - total_loss: 0.0341 - consistency_loss: 0.0046\n",
            "Epoch 23/30\n",
            "166/166 [==============================] - 1s 8ms/step - total_loss: 0.0261 - consistency_loss: 0.0040\n",
            "Epoch 24/30\n",
            "166/166 [==============================] - 1s 8ms/step - total_loss: 0.0238 - consistency_loss: 0.0036\n",
            "Epoch 25/30\n",
            "166/166 [==============================] - 1s 9ms/step - total_loss: 0.7049 - consistency_loss: 0.4456\n",
            "Epoch 26/30\n",
            "166/166 [==============================] - 1s 8ms/step - total_loss: 0.0913 - consistency_loss: 0.0200\n",
            "Epoch 27/30\n",
            "166/166 [==============================] - 1s 8ms/step - total_loss: 0.0538 - consistency_loss: 0.0089\n",
            "Epoch 28/30\n",
            "166/166 [==============================] - 1s 9ms/step - total_loss: 0.0414 - consistency_loss: 0.0075\n",
            "Epoch 29/30\n",
            "166/166 [==============================] - 1s 9ms/step - total_loss: 0.0379 - consistency_loss: 0.0060\n",
            "Epoch 30/30\n",
            "166/166 [==============================] - 1s 8ms/step - total_loss: 0.0316 - consistency_loss: 0.0056\n"
          ]
        },
        {
          "data": {
            "text/plain": [
              "<tensorflow.python.keras.callbacks.History at 0x1dba5ae48e0>"
            ]
          },
          "execution_count": 1,
          "metadata": {},
          "output_type": "execute_result"
        }
      ],
      "source": [
        "model = dt.models.LodeSTAR(input_shape=(None, None, 1))\n",
        "model.fit(dt.Value(np.array(training_sample)), epochs=30, batch_size=8)"
      ]
    },
    {
      "cell_type": "code",
      "execution_count": 10,
      "id": "mounted-miller",
      "metadata": {
        "execution": {
          "iopub.execute_input": "2022-06-29T20:15:57.523244Z",
          "iopub.status.busy": "2022-06-29T20:15:57.522760Z",
          "iopub.status.idle": "2022-06-29T20:15:57.774743Z",
          "shell.execute_reply": "2022-06-29T20:15:57.774244Z"
        }
      },
      "outputs": [
        {
          "name": "stdout",
          "output_type": "stream",
          "text": [
            "WARNING:tensorflow:Keras is training/fitting/evaluating on array-like data. Keras may not be optimized for this format, so if your input data format is supported by TensorFlow I/O (https://github.com/tensorflow/io) we recommend using that to load a Dataset instead.\n"
          ]
        },
        {
          "data": {
            "image/png": "[encoded data removed]",
            "text/plain": [
              "<Figure size 432x288 with 1 Axes>"
            ]
          },
          "metadata": {
            "needs_background": "light"
          },
          "output_type": "display_data"
        }
      ],
      "source": [
        "validation_data = data_pipeline.update()(particle_shape=shape_to_evaluate_on)\n",
        "ground_truth_position = validation_data.get_property(\"position\") \n",
        "\n",
        "prediction = model.predict_and_pool(validation_data[np.newaxis])\n",
        "\n",
        "plt.imshow(validation_data, cmap=\"gray\")\n",
        "plt.scatter(ground_truth_position[1], ground_truth_position[0], s=1400, linewidths=5, marker=\"o\", facecolors=\"none\", edgecolors=\"g\")\n",
        "plt.scatter(prediction[0, 1], prediction[:, 0], s=1000, linewidths=5, marker=\"x\")\n",
        "plt.axis(\"off\")\n",
        "plt.show()"
      ]
    },
    {
      "cell_type": "code",
      "execution_count": null,
      "id": "20f44a6b",
      "metadata": {},
      "outputs": [],
      "source": []
    }
  ],
  "metadata": {
    "interpreter": {
      "hash": "dee7c62952cd92a9f95e3a9cf2ab80d8434e980a2c662f49192ac9761f392c34"
    },
    "kernelspec": {
      "display_name": "Python 3.8.6 64-bit",
      "name": "python3"
    },
    "language_info": {
      "codemirror_mode": {
        "name": "ipython",
        "version": 3
      },
      "file_extension": ".py",
      "mimetype": "text/x-python",
      "name": "python",
      "nbconvert_exporter": "python",
      "pygments_lexer": "ipython3",
      "version": "3.8.6"
    }
  },
  "nbformat": 4,
  "nbformat_minor": 5
}
