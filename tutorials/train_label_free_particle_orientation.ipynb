{
 "cells": [
  {
   "cell_type": "code",
   "execution_count": 1,
   "source": [
    "%matplotlib inline\n",
    "import sys\n",
    "sys.path.append(\"..\")"
   ],
   "outputs": [],
   "metadata": {}
  },
  {
   "cell_type": "code",
   "execution_count": 2,
   "source": [
    "import random\r\n",
    "\r\n",
    "import deeptrack as dt\r\n",
    "\r\n",
    "import numpy as np\r\n",
    "import skimage.color\r\n",
    "import matplotlib.pyplot as plt\r\n",
    "import tensorflow as tf\r\n",
    "\r\n",
    "tracker_input_size = 64\r\n"
   ],
   "outputs": [],
   "metadata": {}
  },
  {
   "cell_type": "code",
   "execution_count": 3,
   "source": [
    "class CrescentMoon(dt.Ellipse):\r\n",
    "    def get(self, *inp, radius, offset, **kwargs):\r\n",
    "        ellipse = super().get(*inp, radius=radius, **kwargs)\r\n",
    "        offset = np.round(offset).astype(np.int)\r\n",
    "        other = dt.Affine(translate=offset, mode=\"constant\").resolve(ellipse)\r\n",
    "        ellipse[np.array(other > 0)] = 0\r\n",
    "        \r\n",
    "        return ellipse\r\n",
    "        \r\n",
    "class Rectangle(dt.Scatterer):\r\n",
    "    def get(self, *inp, width, height, **kwargs):\r\n",
    "        return np.ones((round(width), round(height), 1))\r\n",
    "        "
   ],
   "outputs": [],
   "metadata": {}
  },
  {
   "cell_type": "code",
   "execution_count": 4,
   "source": [
    "\n",
    "commons = dt.DummyFeature(\n",
    "    image_size=tracker_input_size,\n",
    "    position=lambda image_size: image_size / 2 + np.random.randn(2) * 2\n",
    ")\n",
    "\n",
    "arguments = dt.Arguments(\n",
    "    noise_level=10,\n",
    "    particle_type=\"moon\"\n",
    ")\n",
    "\n",
    "fluorescence_microscope = dt.Fluorescence(\n",
    "    NA=0.8,                \n",
    "    resolution=1e-6,     \n",
    "    magnification=10,\n",
    "    wavelength=680e-9,\n",
    "    output_region=(0, 0, tracker_input_size, tracker_input_size)\n",
    ")\n",
    "\n",
    "poisson_noise = dt.Poisson(\n",
    "    snr=lambda: np.random.rand()*7 + 20,\n",
    "    background=0.1\n",
    ")\n",
    "\n",
    "\n",
    "moon_particle = CrescentMoon(radius=1e-6, offset=(5, 0), position=commons.position)\n",
    "rectangle_particle = Rectangle(height=18, width=12, position=commons.position)\n",
    "\n",
    "particle = dt.ConditionalSetFeature(\n",
    "    on_false=rectangle_particle,\n",
    "    on_true=moon_particle,\n",
    "    condition=lambda particle_type: particle_type == \"moon\",\n",
    "    particle_type=arguments.particle_type\n",
    ")"
   ],
   "outputs": [],
   "metadata": {}
  },
  {
   "cell_type": "code",
   "execution_count": 5,
   "source": [
    "\r\n",
    "\r\n",
    "pipeline = (\r\n",
    "    fluorescence_microscope(particle)\r\n",
    "    >> dt.Affine(rotate=lambda:np.random.rand() * 2 * np.pi)\r\n",
    "    >> dt.NormalizeMinMax() \r\n",
    "    + 0.2\r\n",
    ") >> noise >> dt.NormalizeMinMax()\r\n",
    "\r\n",
    "pipeline.bind_arguments(arguments)\r\n",
    "pipeline.update().plot()"
   ],
   "outputs": [],
   "metadata": {}
  },
  {
   "cell_type": "code",
   "execution_count": null,
   "source": [
    "dataset = [pipeline.update().resolve() for _ in range(1000)]\r\n",
    "dataset_labels = [np.mean(d.get_property(\"rotate\", get_one=False), axis=0) for d in dataset]"
   ],
   "outputs": [],
   "metadata": {}
  },
  {
   "cell_type": "code",
   "execution_count": null,
   "source": [
    "symmetries = 2\r\n",
    "key = \"rect\"\r\n",
    "noise_level = 10\r\n",
    "\r\n",
    "model = dt.models.AutoTracker(\r\n",
    "    input_shape=(tracker_input_size, tracker_input_size, 1),\r\n",
    "    mode=\"orientation\",\r\n",
    "    symmetries=symmetries,\r\n",
    ")\r\n",
    "\r\n",
    "\r\n",
    "model_data = dt.Value(pipeline.update().resolve(key=key, noise_level=noise_level))\r\n",
    "model.fit(model_data, epochs=30, batch_size=8)\r\n",
    "\r\n",
    "classification = [d.get_property(\"key\") for d in dataset]\r\n",
    "classes = set(classification)\r\n",
    "\r\n",
    "plt.figure(figsize=(10, 5))\r\n",
    "\r\n",
    "plt.subplot(1, 2, 1)\r\n",
    "plt.imshow(model_data())\r\n",
    "plt.axis(\"off\")\r\n",
    "plt.title(\"Model training sample\")\r\n",
    "\r\n",
    "plt.subplot(1, 2, 2)\r\n",
    "\r\n",
    "for cl in classes:\r\n",
    "\r\n",
    "    indexes = np.array(classification) == cl\r\n",
    "\r\n",
    "    predicted_angle = model.predict(np.array(dataset))[indexes]\r\n",
    "    predicted_angle_2 = model.predict(np.array(dataset)[:, ::-1])[indexes]\r\n",
    "\r\n",
    "    angle = np.arctan2(predicted_angle[:, 1], predicted_angle[:, 0]) / symmetries\r\n",
    "    angle_2 = np.arctan2(predicted_angle_2[:, 1], predicted_angle_2[:, 0]) / symmetries\r\n",
    "\r\n",
    "\r\n",
    "    _dataset_labels = np.array(dataset_labels)[indexes] % ( 2 * np.pi / symmetries ) \r\n",
    "\r\n",
    "    diff = (angle - _dataset_labels)\r\n",
    "\r\n",
    "    diff = (diff - np.mean(diff) + np.pi / symmetries) % (np.pi)\r\n",
    "    diff = diff - np.mean(diff)\r\n",
    "\r\n",
    "    xraw = np.array([d.get_property(\"snr\") for d in dataset])[indexes]\r\n",
    "\r\n",
    "\r\n",
    "    vmin = np.min(xraw)\r\n",
    "    vmax = np.max(xraw)\r\n",
    "    x = np.linspace(vmin, vmax, 10)\r\n",
    "\r\n",
    "    _x = xraw\r\n",
    "    _y = np.abs(diff)\r\n",
    "\r\n",
    "    y = [np.mean( _y[(_x >= x[i]) & (_x < x[i+1]) ]) for i in range(9)]\r\n",
    "    plt.plot(x[1:9], y[1:9])\r\n",
    "plt.title(\"Orientation error\")\r\n",
    "plt.ylabel(f\"Absolute prediction error\")\r\n",
    "plt.xlabel(f\"Signal to noise\")\r\n",
    "\r\n",
    "plt.legend([x for x in classes])\r\n",
    "plt.show()\r\n",
    "\r\n"
   ],
   "outputs": [
    {
     "output_type": "error",
     "ename": "NameError",
     "evalue": "name 'dt' is not defined",
     "traceback": [
      "\u001b[1;31m---------------------------------------------------------------------------\u001b[0m",
      "\u001b[1;31mNameError\u001b[0m                                 Traceback (most recent call last)",
      "\u001b[1;32m<ipython-input-1-1806aff72b2b>\u001b[0m in \u001b[0;36m<module>\u001b[1;34m\u001b[0m\n\u001b[0;32m      3\u001b[0m \u001b[0mnoise_level\u001b[0m \u001b[1;33m=\u001b[0m \u001b[1;36m10\u001b[0m\u001b[1;33m\u001b[0m\u001b[1;33m\u001b[0m\u001b[0m\n\u001b[0;32m      4\u001b[0m \u001b[1;33m\u001b[0m\u001b[0m\n\u001b[1;32m----> 5\u001b[1;33m model = dt.models.AutoTracker(\n\u001b[0m\u001b[0;32m      6\u001b[0m     \u001b[0minput_shape\u001b[0m\u001b[1;33m=\u001b[0m\u001b[1;33m(\u001b[0m\u001b[0mtracker_input_size\u001b[0m\u001b[1;33m,\u001b[0m \u001b[0mtracker_input_size\u001b[0m\u001b[1;33m,\u001b[0m \u001b[1;36m1\u001b[0m\u001b[1;33m)\u001b[0m\u001b[1;33m,\u001b[0m\u001b[1;33m\u001b[0m\u001b[1;33m\u001b[0m\u001b[0m\n\u001b[0;32m      7\u001b[0m     \u001b[0mmode\u001b[0m\u001b[1;33m=\u001b[0m\u001b[1;34m\"orientation\"\u001b[0m\u001b[1;33m,\u001b[0m\u001b[1;33m\u001b[0m\u001b[1;33m\u001b[0m\u001b[0m\n",
      "\u001b[1;31mNameError\u001b[0m: name 'dt' is not defined"
     ]
    }
   ],
   "metadata": {}
  }
 ],
 "metadata": {
  "kernelspec": {
   "name": "python3",
   "display_name": "Python 3.8.6 64-bit"
  },
  "language_info": {
   "codemirror_mode": {
    "name": "ipython",
    "version": 3
   },
   "file_extension": ".py",
   "mimetype": "text/x-python",
   "name": "python",
   "nbconvert_exporter": "python",
   "pygments_lexer": "ipython3",
   "version": "3.8.6"
  },
  "interpreter": {
   "hash": "dee7c62952cd92a9f95e3a9cf2ab80d8434e980a2c662f49192ac9761f392c34"
  }
 },
 "nbformat": 4,
 "nbformat_minor": 5
}