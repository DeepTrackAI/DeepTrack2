{
  "cells": [
    {
      "cell_type": "markdown",
      "metadata": {},
      "source": [
        "# deeptrack.math\n",
        "\n",
        "<a href=\"https://colab.research.google.com/github/DeepTrackAI/DeepTrack2/blob/develop/tutorials/3-advanced-topics/DTAT381_math.ipynb\" target=\"_parent\"><img src=\"https://colab.research.google.com/assets/colab-badge.svg\" alt=\"Open In Colab\"/></a>"
      ]
    },
    {
      "cell_type": "code",
      "execution_count": 1,
      "metadata": {},
      "outputs": [],
      "source": [
        "# !pip install deeptrack  # Uncomment if running on Colab/Kaggle."
      ]
    },
    {
      "cell_type": "markdown",
      "metadata": {},
      "source": [
        "This advanced tutorial introduces the module deeptrack.math."
      ]
    },
    {
      "cell_type": "code",
      "execution_count": 2,
      "metadata": {},
      "outputs": [],
      "source": [
        "import numpy as np"
      ]
    },
    {
      "cell_type": "markdown",
      "metadata": {},
      "source": [
        "## 1. What is included in math?\n",
        "\n",
        "The module math.py includes features that perform some mathematical operation on the input image. This can be used to normalize images, or merge several features."
      ]
    },
    {
      "cell_type": "markdown",
      "metadata": {},
      "source": [
        "## 2. Clip\n",
        "\n",
        "Clips the input within a minimum and a maximum value."
      ]
    },
    {
      "cell_type": "code",
      "execution_count": 3,
      "metadata": {
        "execution": {
          "iopub.execute_input": "2022-06-29T20:33:12.489396Z",
          "iopub.status.busy": "2022-06-29T20:33:12.489396Z",
          "iopub.status.idle": "2022-06-29T20:33:12.492396Z",
          "shell.execute_reply": "2022-06-29T20:33:12.492396Z"
        }
      },
      "outputs": [
        {
          "name": "stdout",
          "output_type": "stream",
          "text": [
            "[[ 10   4]\n",
            " [  4 -10]]\n",
            "becomes\n",
            "[[ 5  4]\n",
            " [ 4 -5]]\n"
          ]
        }
      ],
      "source": [
        "import deeptrack.math as math\n",
        "\n",
        "input_image = np.array(\n",
        "    [\n",
        "        [10, 4],\n",
        "        [4, -10],\n",
        "    ]\n",
        ")\n",
        "\n",
        "clip = math.Clip(min=-5, max=5)\n",
        "\n",
        "print(input_image)\n",
        "print(\"becomes\")\n",
        "print(clip.resolve(input_image))"
      ]
    },
    {
      "cell_type": "markdown",
      "metadata": {},
      "source": [
        "## 3. NormalizeMinMax\n",
        "\n",
        "Transforms the input to be between a minimum and a maximum value using a linear transformation."
      ]
    },
    {
      "cell_type": "code",
      "execution_count": 4,
      "metadata": {
        "execution": {
          "iopub.execute_input": "2022-06-29T20:33:12.495896Z",
          "iopub.status.busy": "2022-06-29T20:33:12.495397Z",
          "iopub.status.idle": "2022-06-29T20:33:12.497897Z",
          "shell.execute_reply": "2022-06-29T20:33:12.497897Z"
        }
      },
      "outputs": [
        {
          "name": "stdout",
          "output_type": "stream",
          "text": [
            "[[ 10   4]\n",
            " [  4 -10]]\n",
            "becomes\n",
            "[[ 5.  2.]\n",
            " [ 2. -5.]]\n"
          ]
        }
      ],
      "source": [
        "input_image = np.array(\n",
        "    [\n",
        "        [10, 4],\n",
        "        [4, -10],\n",
        "    ]\n",
        ")\n",
        "\n",
        "feature = math.NormalizeMinMax(min=-5, max=5)\n",
        "\n",
        "print(input_image)\n",
        "print(\"becomes\")\n",
        "print(feature.resolve(input_image))"
      ]
    }
  ],
  "metadata": {
    "kernelspec": {
      "display_name": "py_env_book",
      "language": "python",
      "name": "python3"
    },
    "language_info": {
      "codemirror_mode": {
        "name": "ipython",
        "version": 3
      },
      "file_extension": ".py",
      "mimetype": "text/x-python",
      "name": "python",
      "nbconvert_exporter": "python",
      "pygments_lexer": "ipython3",
      "version": "3.10.15"
    }
  },
  "nbformat": 4,
  "nbformat_minor": 2
}
