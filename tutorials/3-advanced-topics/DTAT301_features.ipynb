{
  "cells": [
    {
      "cell_type": "markdown",
      "metadata": {},
      "source": [
        "# deeptrack.features\n",
        "\n",
        "<a href=\"https://colab.research.google.com/github/DeepTrackAI/DeepTrack2/blob/develop/tutorials/3-advanced-topics/DTAT301_features.ipynb\" target=\"_parent\"><img src=\"https://colab.research.google.com/assets/colab-badge.svg\" alt=\"Open In Colab\"/></a>"
      ]
    },
    {
      "cell_type": "code",
      "execution_count": 1,
      "metadata": {},
      "outputs": [],
      "source": [
        "# !pip install deeptrack  # Uncomment if running on Colab/Kaggle."
      ]
    },
    {
      "cell_type": "markdown",
      "metadata": {},
      "source": [
        "This advanced tutorial introduces the module deeptrack.features."
      ]
    },
    {
      "cell_type": "code",
      "execution_count": 2,
      "metadata": {},
      "outputs": [],
      "source": [
        "from matplotlib import pyplot as plt\n",
        "import numpy as np"
      ]
    },
    {
      "cell_type": "markdown",
      "metadata": {},
      "source": [
        "## 1. What is a feature?\n",
        "\n",
        "Features are instances of the abstract class `Feature` and are responsible for creating and altering images. For example, a feature might add a particle or add some salt-and-pepper noise to an image.\n",
        "\n",
        "All features operate on lists of images (which can be either `Image` objects or numerical arrays). Most features, such as noise, apply some tranformation to all images in the list. This transformation can be additive, such as adding some Gaussian noise or a background illumination, or non-additive, such as introducing Poisson noise or performing a low-pass filter. This transformation is defined by the method `get(image, **kwargs)`, which all implementations of the class `Feature` need to define.\n",
        "\n",
        "Some features, for example scatterers, instead, append a new image to the list. This behavior is controlled by the class attributes `__distributed__` and `__list_merge_strategy__`:\n",
        "\n",
        "- `__distributed__` controls whether `.get(image, **kwargs)` is called on each element in the list separately (`__distributed__ = True`), or it is called on the list as a whole (`__distributed__ = False`).  \n",
        "\n",
        "- `__list_merge_strategy__` controls how the output of `.get(image, **kwargs)` is merged with the input list. It can be `MERGE_STRATEGY_OVERRIDE` (`0`, default), where the new list is output without merging with the input, or `MERGE_STRATEGY_APPEND` (`1`), where the new list is appended to the end of the input list.\n",
        "\n",
        "When a feature is created, keyword arguments can be passed to its constructor. These arguments are stored as properties (as a `PropertyDict`) of the feature (see also [properties_example](properties_example.ipynb)), which determine how the feature is resolved. When a feature is updated using the method `.update()`, all properties are updated by calling their respective methods `.update()`. When a feature is called, the current values of all properties are sent through the method `get(image, **kwargs)` as keyword arguments."
      ]
    },
    {
      "cell_type": "code",
      "execution_count": 3,
      "metadata": {
        "execution": {
          "iopub.execute_input": "2022-06-29T20:32:41.429206Z",
          "iopub.status.busy": "2022-06-29T20:32:41.429206Z",
          "iopub.status.idle": "2022-06-29T20:32:44.938650Z",
          "shell.execute_reply": "2022-06-29T20:32:44.938150Z"
        }
      },
      "outputs": [],
      "source": [
        "from deeptrack.features import Feature\n",
        "\n",
        "class Foo(Feature):\n",
        "    \"\"\"Simple feature.\n",
        "    \n",
        "    Implementation of abstract class Feature which does not alter the input\n",
        "    image and prints the current value of my_property.\n",
        "\n",
        "    \"\"\"\n",
        "\n",
        "    # Controls what is passed to the method get(): \n",
        "    # False: everything is passed without modification.\n",
        "    # True: elements along the first axis are passed separately to the images.\n",
        "    __distributed__ = False\n",
        "\n",
        "    def get(self, image, my_property=None, **kwargs):\n",
        "        print(f\"The current value of my_property is {my_property}\")\n",
        "        return image"
      ]
    },
    {
      "cell_type": "code",
      "execution_count": 4,
      "metadata": {},
      "outputs": [
        {
          "name": "stdout",
          "output_type": "stream",
          "text": [
            "The current value of my_property is 1\n",
            "[]\n"
          ]
        }
      ],
      "source": [
        "foo1 = Foo(my_property=1)\n",
        "foo1.update()\n",
        "output_image = foo1()\n",
        "print(output_image)"
      ]
    },
    {
      "cell_type": "code",
      "execution_count": 5,
      "metadata": {},
      "outputs": [
        {
          "name": "stdout",
          "output_type": "stream",
          "text": [
            "The current value of my_property is bar\n",
            "[]\n"
          ]
        }
      ],
      "source": [
        "foo2 = Foo(my_property=\"bar\")\n",
        "foo2.update()\n",
        "output_image = foo2()\n",
        "print(output_image)"
      ]
    },
    {
      "cell_type": "code",
      "execution_count": 6,
      "metadata": {},
      "outputs": [
        {
          "name": "stdout",
          "output_type": "stream",
          "text": [
            "The current value of my_property is None\n",
            "[]\n"
          ]
        }
      ],
      "source": [
        "foo3 = Foo()\n",
        "foo3.update()\n",
        "output_image = foo3()\n",
        "print(output_image)"
      ]
    },
    {
      "cell_type": "markdown",
      "metadata": {},
      "source": [
        "Since the values are stored as instances of the class `Property`, you can always replace values with standard structures (e.g., lists or lambda functions) to create more complex behaviors (see also [properties_example](properties_example.ipynb))."
      ]
    },
    {
      "cell_type": "code",
      "execution_count": 7,
      "metadata": {
        "execution": {
          "iopub.execute_input": "2022-06-29T20:32:44.941652Z",
          "iopub.status.busy": "2022-06-29T20:32:44.941151Z",
          "iopub.status.idle": "2022-06-29T20:32:44.943651Z",
          "shell.execute_reply": "2022-06-29T20:32:44.943651Z"
        }
      },
      "outputs": [
        {
          "name": "stdout",
          "output_type": "stream",
          "text": [
            "The current value of my_property is 0.1209843758525152\n",
            "[]\n"
          ]
        }
      ],
      "source": [
        "foo4 = Foo(my_property=lambda: np.random.rand() - 0.5)\n",
        "foo4.update()\n",
        "output_image = foo4()\n",
        "print(output_image)"
      ]
    },
    {
      "cell_type": "code",
      "execution_count": 8,
      "metadata": {},
      "outputs": [
        {
          "name": "stdout",
          "output_type": "stream",
          "text": [
            "The current value of my_property is bar\n",
            "[]\n"
          ]
        }
      ],
      "source": [
        "# Pick one random element from the list.\n",
        "foo5 = Foo(my_property=lambda: np.random.choice([\"bar\", \"baz\"]))\n",
        "foo5.update()\n",
        "output_image = foo5()\n",
        "print(output_image)"
      ]
    },
    {
      "cell_type": "markdown",
      "metadata": {},
      "source": [
        "## 2. Operations Defined on Features\n",
        "\n",
        "Features can be combined to create a feature series, which is a series of features that are evaluated sequentially."
      ]
    },
    {
      "cell_type": "markdown",
      "metadata": {},
      "source": [
        "### Chaining features (>>)\n",
        "\n",
        "The rshft operator (>>) combines two features such that they are evaluated sequentially. For example, given the features `foo` and `bar`, you can combine them as `foobar = foo >> bar`. When `foobar` resolves an image, it first resolves an image from `foo`, then uses this image as the input to resolve an image from `bar`.\n",
        "\n",
        "This operation returns an instance of the feature `Branch`, which contains the two features."
      ]
    },
    {
      "cell_type": "code",
      "execution_count": 9,
      "metadata": {
        "execution": {
          "iopub.execute_input": "2022-06-29T20:32:44.946650Z",
          "iopub.status.busy": "2022-06-29T20:32:44.946151Z",
          "iopub.status.idle": "2022-06-29T20:32:44.948650Z",
          "shell.execute_reply": "2022-06-29T20:32:44.948650Z"
        }
      },
      "outputs": [
        {
          "name": "stdout",
          "output_type": "stream",
          "text": [
            "The current value of my_property is foo\n",
            "The current value of my_property is bar\n",
            "[]\n"
          ]
        }
      ],
      "source": [
        "foobar = Foo(my_property=\"foo\") >> Foo(my_property=\"bar\")\n",
        "\n",
        "foobar.update()\n",
        "output_image = foobar()\n",
        "print(output_image)"
      ]
    },
    {
      "cell_type": "markdown",
      "metadata": {},
      "source": [
        "### Repeating a feature (^) \n",
        "\n",
        "The xor operator (^) takes a feature `foo` and an integer `i` and creates a feature which will call the feature `i` times with different sets of properties. For example, `foo ^ 5` will call Foo five times. Since this is done at resolve time, the exponent can be any expression that returns an integer when evaluated.\n",
        "\n",
        "This operation returns an instance of the feature `Repeat`, which contains the original feature and the number of times it should be repeated."
      ]
    },
    {
      "cell_type": "code",
      "execution_count": 10,
      "metadata": {
        "execution": {
          "iopub.execute_input": "2022-06-29T20:32:44.952150Z",
          "iopub.status.busy": "2022-06-29T20:32:44.952150Z",
          "iopub.status.idle": "2022-06-29T20:32:44.954151Z",
          "shell.execute_reply": "2022-06-29T20:32:44.954151Z"
        }
      },
      "outputs": [
        {
          "name": "stdout",
          "output_type": "stream",
          "text": [
            "The current value of my_property is bar\n",
            "The current value of my_property is bar\n",
            "The current value of my_property is quux\n",
            "The current value of my_property is quux\n",
            "The current value of my_property is bar\n",
            "[]\n"
          ]
        }
      ],
      "source": [
        "foo = Foo(my_property=lambda: np.random.choice([\"bar\", \"baz\", \"qux\", \"quux\"])) \n",
        "\n",
        "five_foos = foo ^ 5\n",
        "five_foos.update()\n",
        "output_image = five_foos()\n",
        "print(output_image)"
      ]
    },
    {
      "cell_type": "code",
      "execution_count": 11,
      "metadata": {
        "execution": {
          "iopub.execute_input": "2022-06-29T20:32:44.957150Z",
          "iopub.status.busy": "2022-06-29T20:32:44.956652Z",
          "iopub.status.idle": "2022-06-29T20:32:44.959150Z",
          "shell.execute_reply": "2022-06-29T20:32:44.959150Z"
        }
      },
      "outputs": [
        {
          "name": "stdout",
          "output_type": "stream",
          "text": [
            "[]\n"
          ]
        }
      ],
      "source": [
        "number_of_foo = lambda: np.random.randint(0, 10)\n",
        "random_foos = foo ^ number_of_foo  # Pick one random exponent from the list.\n",
        "\n",
        "random_foos.update()\n",
        "output_image = random_foos()\n",
        "print(output_image)"
      ]
    },
    {
      "cell_type": "markdown",
      "metadata": {},
      "source": [
        "## 3. Example - Image with Random Circles"
      ]
    },
    {
      "cell_type": "markdown",
      "metadata": {},
      "source": [
        "Simple example that generates an image with some random circles."
      ]
    },
    {
      "cell_type": "code",
      "execution_count": 12,
      "metadata": {
        "execution": {
          "iopub.execute_input": "2022-06-29T20:32:44.963649Z",
          "iopub.status.busy": "2022-06-29T20:32:44.963151Z",
          "iopub.status.idle": "2022-06-29T20:32:45.102680Z",
          "shell.execute_reply": "2022-06-29T20:32:45.102152Z"
        }
      },
      "outputs": [],
      "source": [
        "class Circle(Feature):\n",
        "    \"\"\"Feature that adds a circle to the image.\"\"\"\n",
        "\n",
        "    def get(self, image, position, radius, intensity, **kwargs):\n",
        "        X, Y = np.meshgrid(np.arange(image.shape[0]),\n",
        "                           np.arange(image.shape[1]))\n",
        "        mask = (X - position[0]) ** 2 + (Y - position[1]) ** 2 < radius ** 2\n",
        "        image[mask] = intensity\n",
        "        return image"
      ]
    },
    {
      "cell_type": "code",
      "execution_count": 13,
      "metadata": {},
      "outputs": [],
      "source": [
        "circle = Circle(\n",
        "    position=lambda: np.random.rand(2) * 512,\n",
        "    radius=lambda: 20 + np.random.rand() * 20,\n",
        "    intensity=1,\n",
        ")"
      ]
    },
    {
      "cell_type": "code",
      "execution_count": 14,
      "metadata": {},
      "outputs": [],
      "source": [
        "circles = circle ^ 10  # Add 10 circles."
      ]
    },
    {
      "cell_type": "code",
      "execution_count": 15,
      "metadata": {},
      "outputs": [],
      "source": [
        "circles.update()\n",
        "\n",
        "input_image = np.zeros((512, 512))\n",
        "\n",
        "output_image = circles.resolve(input_image)"
      ]
    },
    {
      "cell_type": "code",
      "execution_count": 16,
      "metadata": {},
      "outputs": [
        {
          "data": {
            "image/png": "[encoded data removed]",
            "text/plain": [
              "<Figure size 640x480 with 1 Axes>"
            ]
          },
          "metadata": {},
          "output_type": "display_data"
        }
      ],
      "source": [
        "plt.imshow(output_image, cmap=\"gray\")\n",
        "plt.show()"
      ]
    },
    {
      "cell_type": "markdown",
      "metadata": {},
      "source": [
        "## 4. Example - Image with Stacked Circles\n",
        "\n",
        "And now a more complex example. In this case, we have a repeated feature that depends on another feature."
      ]
    },
    {
      "cell_type": "code",
      "execution_count": 17,
      "metadata": {
        "execution": {
          "iopub.execute_input": "2022-06-29T20:32:45.107150Z",
          "iopub.status.busy": "2022-06-29T20:32:45.107150Z",
          "iopub.status.idle": "2022-06-29T20:32:45.286150Z",
          "shell.execute_reply": "2022-06-29T20:32:45.285650Z"
        }
      },
      "outputs": [],
      "source": [
        "circle1 = Circle(\n",
        "    position=lambda: np.random.rand(2) * 512,\n",
        "    radius=lambda: 20 + np.random.rand() * 20,\n",
        "    intensity=1,\n",
        ")"
      ]
    },
    {
      "cell_type": "code",
      "execution_count": 18,
      "metadata": {},
      "outputs": [],
      "source": [
        "# Add a circle with 2/3 the radius and 2 times the intensity of circle1.\n",
        "circle2 = Circle(\n",
        "    position=circle1.position,\n",
        "    radius=circle1.radius * 0.66,\n",
        "    intensity=circle1.intensity * 2,\n",
        ")"
      ]
    },
    {
      "cell_type": "code",
      "execution_count": 19,
      "metadata": {},
      "outputs": [],
      "source": [
        "# Add a circle with 1/3 the radius and 3 times the intensity of circle1.\n",
        "circle3 = Circle(\n",
        "    position=circle1.position,\n",
        "    radius=circle1.radius * 0.33,\n",
        "    intensity=circle1.intensity * 3,\n",
        ")"
      ]
    },
    {
      "cell_type": "code",
      "execution_count": 20,
      "metadata": {},
      "outputs": [],
      "source": [
        "stacked_circles = circle1 >> circle2 >> circle3"
      ]
    },
    {
      "cell_type": "code",
      "execution_count": 21,
      "metadata": {},
      "outputs": [],
      "source": [
        "many_stacked_circles = stacked_circles ^ (lambda: np.random.randint(5, 10))\n",
        "    "
      ]
    },
    {
      "cell_type": "code",
      "execution_count": 22,
      "metadata": {},
      "outputs": [],
      "source": [
        "input_image = np.zeros((512, 512))\n",
        "\n",
        "output_image = many_stacked_circles.update()(input_image) "
      ]
    },
    {
      "cell_type": "code",
      "execution_count": 23,
      "metadata": {},
      "outputs": [
        {
          "data": {
            "image/png": "[encoded data removed]",
            "text/plain": [
              "<Figure size 640x480 with 1 Axes>"
            ]
          },
          "metadata": {},
          "output_type": "display_data"
        }
      ],
      "source": [
        "plt.imshow(output_image, cmap=\"gray\")\n",
        "plt.show()"
      ]
    }
  ],
  "metadata": {
    "kernelspec": {
      "display_name": "py_env_book",
      "language": "python",
      "name": "python3"
    },
    "language_info": {
      "codemirror_mode": {
        "name": "ipython",
        "version": 3
      },
      "file_extension": ".py",
      "mimetype": "text/x-python",
      "name": "python",
      "nbconvert_exporter": "python",
      "pygments_lexer": "ipython3",
      "version": "3.10.15"
    }
  },
  "nbformat": 4,
  "nbformat_minor": 2
}
