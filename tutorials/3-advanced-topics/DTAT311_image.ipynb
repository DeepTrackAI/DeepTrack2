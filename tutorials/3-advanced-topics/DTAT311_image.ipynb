{
  "cells": [
    {
      "cell_type": "code",
      "execution_count": 1,
      "metadata": {
        "execution": {
          "iopub.execute_input": "2022-06-29T20:32:57.664221Z",
          "iopub.status.busy": "2022-06-29T20:32:57.661221Z",
          "iopub.status.idle": "2022-06-29T20:32:58.904419Z",
          "shell.execute_reply": "2022-06-29T20:32:58.903919Z"
        }
      },
      "outputs": [
        {
          "name": "stdout",
          "output_type": "stream",
          "text": [
            "Requirement already satisfied: deeptrack in /Users/giovannivolpe/Documents/GitHub/DeepLearningCrashCourse/py_env_book/lib/python3.10/site-packages (2.0.0)\n",
            "Requirement already satisfied: numpy in /Users/giovannivolpe/Documents/GitHub/DeepLearningCrashCourse/py_env_book/lib/python3.10/site-packages (from deeptrack) (1.26.4)\n",
            "Requirement already satisfied: matplotlib in /Users/giovannivolpe/Documents/GitHub/DeepLearningCrashCourse/py_env_book/lib/python3.10/site-packages (from deeptrack) (3.9.2)\n",
            "Requirement already satisfied: scipy in /Users/giovannivolpe/Documents/GitHub/DeepLearningCrashCourse/py_env_book/lib/python3.10/site-packages (from deeptrack) (1.14.1)\n",
            "Requirement already satisfied: scikit-image in /Users/giovannivolpe/Documents/GitHub/DeepLearningCrashCourse/py_env_book/lib/python3.10/site-packages (from deeptrack) (0.24.0)\n",
            "Requirement already satisfied: more_itertools in /Users/giovannivolpe/Documents/GitHub/DeepLearningCrashCourse/py_env_book/lib/python3.10/site-packages (from deeptrack) (10.5.0)\n",
            "Requirement already satisfied: pint in /Users/giovannivolpe/Documents/GitHub/DeepLearningCrashCourse/py_env_book/lib/python3.10/site-packages (from deeptrack) (0.19.2)\n",
            "Requirement already satisfied: pandas in /Users/giovannivolpe/Documents/GitHub/DeepLearningCrashCourse/py_env_book/lib/python3.10/site-packages (from deeptrack) (2.2.3)\n",
            "Requirement already satisfied: tqdm in /Users/giovannivolpe/Documents/GitHub/DeepLearningCrashCourse/py_env_book/lib/python3.10/site-packages (from deeptrack) (4.66.5)\n",
            "Requirement already satisfied: lazy_import in /Users/giovannivolpe/Documents/GitHub/DeepLearningCrashCourse/py_env_book/lib/python3.10/site-packages (from deeptrack) (0.2.2)\n",
            "Requirement already satisfied: rich in /Users/giovannivolpe/Documents/GitHub/DeepLearningCrashCourse/py_env_book/lib/python3.10/site-packages (from deeptrack) (13.9.1)\n",
            "Requirement already satisfied: gdown in /Users/giovannivolpe/Documents/GitHub/DeepLearningCrashCourse/py_env_book/lib/python3.10/site-packages (from deeptrack) (5.2.0)\n",
            "Requirement already satisfied: beautifulsoup4 in /Users/giovannivolpe/Documents/GitHub/DeepLearningCrashCourse/py_env_book/lib/python3.10/site-packages (from gdown->deeptrack) (4.12.3)\n",
            "Requirement already satisfied: filelock in /Users/giovannivolpe/Documents/GitHub/DeepLearningCrashCourse/py_env_book/lib/python3.10/site-packages (from gdown->deeptrack) (3.16.1)\n",
            "Requirement already satisfied: requests[socks] in /Users/giovannivolpe/Documents/GitHub/DeepLearningCrashCourse/py_env_book/lib/python3.10/site-packages (from gdown->deeptrack) (2.32.3)\n",
            "Requirement already satisfied: six in /Users/giovannivolpe/Documents/GitHub/DeepLearningCrashCourse/py_env_book/lib/python3.10/site-packages (from lazy_import->deeptrack) (1.16.0)\n",
            "Requirement already satisfied: contourpy>=1.0.1 in /Users/giovannivolpe/Documents/GitHub/DeepLearningCrashCourse/py_env_book/lib/python3.10/site-packages (from matplotlib->deeptrack) (1.3.0)\n",
            "Requirement already satisfied: cycler>=0.10 in /Users/giovannivolpe/Documents/GitHub/DeepLearningCrashCourse/py_env_book/lib/python3.10/site-packages (from matplotlib->deeptrack) (0.12.1)\n",
            "Requirement already satisfied: fonttools>=4.22.0 in /Users/giovannivolpe/Documents/GitHub/DeepLearningCrashCourse/py_env_book/lib/python3.10/site-packages (from matplotlib->deeptrack) (4.54.1)\n",
            "Requirement already satisfied: kiwisolver>=1.3.1 in /Users/giovannivolpe/Documents/GitHub/DeepLearningCrashCourse/py_env_book/lib/python3.10/site-packages (from matplotlib->deeptrack) (1.4.7)\n",
            "Requirement already satisfied: packaging>=20.0 in /Users/giovannivolpe/Documents/GitHub/DeepLearningCrashCourse/py_env_book/lib/python3.10/site-packages (from matplotlib->deeptrack) (24.1)\n",
            "Requirement already satisfied: pillow>=8 in /Users/giovannivolpe/Documents/GitHub/DeepLearningCrashCourse/py_env_book/lib/python3.10/site-packages (from matplotlib->deeptrack) (10.4.0)\n",
            "Requirement already satisfied: pyparsing>=2.3.1 in /Users/giovannivolpe/Documents/GitHub/DeepLearningCrashCourse/py_env_book/lib/python3.10/site-packages (from matplotlib->deeptrack) (3.1.4)\n",
            "Requirement already satisfied: python-dateutil>=2.7 in /Users/giovannivolpe/Documents/GitHub/DeepLearningCrashCourse/py_env_book/lib/python3.10/site-packages (from matplotlib->deeptrack) (2.9.0.post0)\n",
            "Requirement already satisfied: pytz>=2020.1 in /Users/giovannivolpe/Documents/GitHub/DeepLearningCrashCourse/py_env_book/lib/python3.10/site-packages (from pandas->deeptrack) (2024.2)\n",
            "Requirement already satisfied: tzdata>=2022.7 in /Users/giovannivolpe/Documents/GitHub/DeepLearningCrashCourse/py_env_book/lib/python3.10/site-packages (from pandas->deeptrack) (2024.2)\n",
            "Requirement already satisfied: markdown-it-py>=2.2.0 in /Users/giovannivolpe/Documents/GitHub/DeepLearningCrashCourse/py_env_book/lib/python3.10/site-packages (from rich->deeptrack) (3.0.0)\n",
            "Requirement already satisfied: pygments<3.0.0,>=2.13.0 in /Users/giovannivolpe/Documents/GitHub/DeepLearningCrashCourse/py_env_book/lib/python3.10/site-packages (from rich->deeptrack) (2.18.0)\n",
            "Requirement already satisfied: typing-extensions<5.0,>=4.0.0 in /Users/giovannivolpe/Documents/GitHub/DeepLearningCrashCourse/py_env_book/lib/python3.10/site-packages (from rich->deeptrack) (4.12.2)\n",
            "Requirement already satisfied: networkx>=2.8 in /Users/giovannivolpe/Documents/GitHub/DeepLearningCrashCourse/py_env_book/lib/python3.10/site-packages (from scikit-image->deeptrack) (3.3)\n",
            "Requirement already satisfied: imageio>=2.33 in /Users/giovannivolpe/Documents/GitHub/DeepLearningCrashCourse/py_env_book/lib/python3.10/site-packages (from scikit-image->deeptrack) (2.35.1)\n",
            "Requirement already satisfied: tifffile>=2022.8.12 in /Users/giovannivolpe/Documents/GitHub/DeepLearningCrashCourse/py_env_book/lib/python3.10/site-packages (from scikit-image->deeptrack) (2024.9.20)\n",
            "Requirement already satisfied: lazy-loader>=0.4 in /Users/giovannivolpe/Documents/GitHub/DeepLearningCrashCourse/py_env_book/lib/python3.10/site-packages (from scikit-image->deeptrack) (0.4)\n",
            "Requirement already satisfied: mdurl~=0.1 in /Users/giovannivolpe/Documents/GitHub/DeepLearningCrashCourse/py_env_book/lib/python3.10/site-packages (from markdown-it-py>=2.2.0->rich->deeptrack) (0.1.2)\n",
            "Requirement already satisfied: soupsieve>1.2 in /Users/giovannivolpe/Documents/GitHub/DeepLearningCrashCourse/py_env_book/lib/python3.10/site-packages (from beautifulsoup4->gdown->deeptrack) (2.6)\n",
            "Requirement already satisfied: charset-normalizer<4,>=2 in /Users/giovannivolpe/Documents/GitHub/DeepLearningCrashCourse/py_env_book/lib/python3.10/site-packages (from requests[socks]->gdown->deeptrack) (3.3.2)\n",
            "Requirement already satisfied: idna<4,>=2.5 in /Users/giovannivolpe/Documents/GitHub/DeepLearningCrashCourse/py_env_book/lib/python3.10/site-packages (from requests[socks]->gdown->deeptrack) (3.10)\n",
            "Requirement already satisfied: urllib3<3,>=1.21.1 in /Users/giovannivolpe/Documents/GitHub/DeepLearningCrashCourse/py_env_book/lib/python3.10/site-packages (from requests[socks]->gdown->deeptrack) (2.2.3)\n",
            "Requirement already satisfied: certifi>=2017.4.17 in /Users/giovannivolpe/Documents/GitHub/DeepLearningCrashCourse/py_env_book/lib/python3.10/site-packages (from requests[socks]->gdown->deeptrack) (2024.8.30)\n",
            "Requirement already satisfied: PySocks!=1.5.7,>=1.5.6 in /Users/giovannivolpe/Documents/GitHub/DeepLearningCrashCourse/py_env_book/lib/python3.10/site-packages (from requests[socks]->gdown->deeptrack) (1.7.1)\n",
            "\n",
            "\u001b[1m[\u001b[0m\u001b[34;49mnotice\u001b[0m\u001b[1;39;49m]\u001b[0m\u001b[39;49m A new release of pip is available: \u001b[0m\u001b[31;49m24.2\u001b[0m\u001b[39;49m -> \u001b[0m\u001b[32;49m24.3.1\u001b[0m\n",
            "\u001b[1m[\u001b[0m\u001b[34;49mnotice\u001b[0m\u001b[1;39;49m]\u001b[0m\u001b[39;49m To update, run: \u001b[0m\u001b[32;49mpip install --upgrade pip\u001b[0m\n"
          ]
        }
      ],
      "source": [
        "!pip install deeptrack"
      ]
    },
    {
      "cell_type": "markdown",
      "metadata": {},
      "source": [
        "<!--<badge>--><a href=\"https://colab.research.google.com/github/softmatterlab/DeepTrack-2.0/blob/develop/examples/module-examples/image_example.ipynb\" target=\"_parent\"><img src=\"https://colab.research.google.com/assets/colab-badge.svg\" alt=\"Open In Colab\"/></a><!--</badge>-->"
      ]
    },
    {
      "cell_type": "markdown",
      "metadata": {},
      "source": [
        "# deeptrack.image\n",
        "\n",
        "This example introduces the module deeptrack.image."
      ]
    },
    {
      "cell_type": "markdown",
      "metadata": {},
      "source": [
        "## 1. What is an Image?\n",
        "\n",
        "An `Image` is a container used by a feature to store both the generated image and the properties used to generate it. It is a subclass of numpy `ndarray`, so that any operation that works for `ndarrays` will also work for `Image`. `Image` has also a field `properties`, which contains the information about how the image has been generated (see also [properties_example](properties_example.ipynb)). Specifically, `properties` is a list of dictionaries, where each dictionary holds the current values of the properties of a feature (with the names of the properties as keys). This list is ordered as the features have been resolved.\n",
        "\n",
        "By storing the properties used to resolve the image, information about the image can be accessed without access to the feature series. This allows features to change their behaviour depending on what is already in the image. This also allows to extract numeric information about the image (e.g., to be used in supervised learning). "
      ]
    },
    {
      "cell_type": "code",
      "execution_count": 3,
      "metadata": {
        "execution": {
          "iopub.execute_input": "2022-06-29T20:32:58.907420Z",
          "iopub.status.busy": "2022-06-29T20:32:58.906920Z",
          "iopub.status.idle": "2022-06-29T20:33:02.663169Z",
          "shell.execute_reply": "2022-06-29T20:33:02.662669Z"
        }
      },
      "outputs": [
        {
          "data": {
            "text/plain": [
              "[{'position': array([251.23816746, 249.88613443]), 'name': 'Particle'}]"
            ]
          },
          "execution_count": 3,
          "metadata": {},
          "output_type": "execute_result"
        }
      ],
      "source": [
        "import numpy as np\n",
        "\n",
        "from deeptrack.features import Feature\n",
        "from deeptrack.image import Image\n",
        "\n",
        "class Particle(Feature):\n",
        "    def get(self, image, position=None, **kwargs):\n",
        "        \n",
        "        # Code for simulating a particle not included\n",
        "        \n",
        "        return image\n",
        "    \n",
        "image_shape = (256, 256)\n",
        "    \n",
        "particle = Particle(\n",
        "    position=lambda: np.random.rand(2) * np.array(image_shape)\n",
        ")\n",
        "particle.store_properties()  # Return Image instead of NumPy array.\n",
        "\n",
        "input_image = Image(np.zeros(image_shape))\n",
        "\n",
        "output_image = particle.resolve(input_image)\n",
        "output_image.properties"
      ]
    },
    {
      "cell_type": "markdown",
      "metadata": {},
      "source": [
        "Beyond the expected properties, `name` and `position`, we also see a property `hash_key`. This is a special property injected by all features and is used to compare dictionaries of properties. This is especially useful when merging properties from different Images, where you don't want to duplicate some property. This can be done using the method `merge_properties_from(other)`"
      ]
    },
    {
      "cell_type": "code",
      "execution_count": 4,
      "metadata": {
        "execution": {
          "iopub.execute_input": "2022-06-29T20:33:02.666169Z",
          "iopub.status.busy": "2022-06-29T20:33:02.665670Z",
          "iopub.status.idle": "2022-06-29T20:33:02.668169Z",
          "shell.execute_reply": "2022-06-29T20:33:02.668169Z"
        }
      },
      "outputs": [
        {
          "data": {
            "text/plain": [
              "[{'position': array([251.23816746, 249.88613443]), 'name': 'Particle'}]"
            ]
          },
          "execution_count": 4,
          "metadata": {},
          "output_type": "execute_result"
        }
      ],
      "source": [
        "second_image = particle.resolve(input_image)\n",
        "\n",
        "output_image.merge_properties_from(second_image)\n",
        "output_image.properties"
      ]
    },
    {
      "cell_type": "markdown",
      "metadata": {},
      "source": [
        "However if we update the feature between merges, the properties are treated as distinct. This is true even if the properties are not randomized."
      ]
    },
    {
      "cell_type": "code",
      "execution_count": 5,
      "metadata": {
        "execution": {
          "iopub.execute_input": "2022-06-29T20:33:02.671669Z",
          "iopub.status.busy": "2022-06-29T20:33:02.671168Z",
          "iopub.status.idle": "2022-06-29T20:33:02.673669Z",
          "shell.execute_reply": "2022-06-29T20:33:02.673669Z"
        }
      },
      "outputs": [
        {
          "data": {
            "text/plain": [
              "[{'position': array([251.23816746, 249.88613443]), 'name': 'Particle'},\n",
              " {'position': array([ 97.02494974, 225.57225412]), 'name': 'Particle'}]"
            ]
          },
          "execution_count": 5,
          "metadata": {},
          "output_type": "execute_result"
        }
      ],
      "source": [
        "particle.update()\n",
        "\n",
        "updated_image = particle.resolve(input_image)\n",
        "\n",
        "output_image.merge_properties_from(updated_image)\n",
        "output_image.properties"
      ]
    },
    {
      "cell_type": "markdown",
      "metadata": {},
      "source": [
        "## 2. Extracting the information with get_property\n",
        "\n",
        "To retrieve information from the image, one can iterate through the list and extract the properties needed. The function `.get_property()` is a shorthand for this. It retrieves a property or a list of properties from an image. By default it retrieves a single instance of a property (the first instance that it finds)."
      ]
    },
    {
      "cell_type": "code",
      "execution_count": 7,
      "metadata": {
        "execution": {
          "iopub.execute_input": "2022-06-29T20:33:02.676169Z",
          "iopub.status.busy": "2022-06-29T20:33:02.676169Z",
          "iopub.status.idle": "2022-06-29T20:33:02.678669Z",
          "shell.execute_reply": "2022-06-29T20:33:02.679168Z"
        }
      },
      "outputs": [
        {
          "data": {
            "text/plain": [
              "array([251.23816746, 249.88613443])"
            ]
          },
          "execution_count": 7,
          "metadata": {},
          "output_type": "execute_result"
        }
      ],
      "source": [
        "output_image.get_property(\"position\")"
      ]
    },
    {
      "cell_type": "markdown",
      "metadata": {},
      "source": [
        "To retrieve all instances of a property, set `get_one` to `False`"
      ]
    },
    {
      "cell_type": "code",
      "execution_count": 8,
      "metadata": {
        "execution": {
          "iopub.execute_input": "2022-06-29T20:33:02.681668Z",
          "iopub.status.busy": "2022-06-29T20:33:02.681169Z",
          "iopub.status.idle": "2022-06-29T20:33:02.683669Z",
          "shell.execute_reply": "2022-06-29T20:33:02.683669Z"
        }
      },
      "outputs": [
        {
          "data": {
            "text/plain": [
              "[array([251.23816746, 249.88613443]), array([ 97.02494974, 225.57225412])]"
            ]
          },
          "execution_count": 8,
          "metadata": {},
          "output_type": "execute_result"
        }
      ],
      "source": [
        "output_image.get_property(\"position\", get_one=False)"
      ]
    },
    {
      "cell_type": "markdown",
      "metadata": {},
      "source": [
        "Finally, if the property is not found, `default` is returned instead "
      ]
    },
    {
      "cell_type": "code",
      "execution_count": 9,
      "metadata": {
        "execution": {
          "iopub.execute_input": "2022-06-29T20:33:02.686169Z",
          "iopub.status.busy": "2022-06-29T20:33:02.685668Z",
          "iopub.status.idle": "2022-06-29T20:33:02.688669Z",
          "shell.execute_reply": "2022-06-29T20:33:02.688669Z"
        }
      },
      "outputs": [
        {
          "data": {
            "text/plain": [
              "'Not found!'"
            ]
          },
          "execution_count": 9,
          "metadata": {},
          "output_type": "execute_result"
        }
      ],
      "source": [
        "output_image.get_property(\"a_property_that_does_not_exist\", default=\"Not found!\")"
      ]
    },
    {
      "cell_type": "markdown",
      "metadata": {},
      "source": [
        "## 3. Storing metadata about an image not used by the feature\n",
        "\n",
        "Sometimes it's convenient to store some information about a feature beyond what is strictly necessary to generate it. For example, you may want to identify one particle to track, or you might want to store the randomized diffusion constant of a particle used to generate physically-accurate sequences of images. This can be done by passing additional keyword arguments to the constructor of a feature. These will be stored as properties just like any other input to the constructor."
      ]
    },
    {
      "cell_type": "code",
      "execution_count": 13,
      "metadata": {
        "execution": {
          "iopub.execute_input": "2022-06-29T20:33:02.692169Z",
          "iopub.status.busy": "2022-06-29T20:33:02.691669Z",
          "iopub.status.idle": "2022-06-29T20:33:02.697169Z",
          "shell.execute_reply": "2022-06-29T20:33:02.697169Z"
        }
      },
      "outputs": [
        {
          "data": {
            "text/plain": [
              "[False, False, False, False, True]"
            ]
          },
          "execution_count": 13,
          "metadata": {},
          "output_type": "execute_result"
        }
      ],
      "source": [
        "particle_to_track = Particle(\n",
        "    position=lambda: np.random.rand(2) * np.array(image_shape),\n",
        "    track_me=True\n",
        ")\n",
        "particle_to_track.store_properties()  # Return Image instead of NumPy array.\n",
        "\n",
        "particle_not_to_track = Particle(\n",
        "    position=lambda: np.random.rand(2) * np.array(image_shape),\n",
        "    track_me=False\n",
        ")\n",
        "particle_not_to_track.store_properties()  # Return Image instead of NumPy array.\n",
        "\n",
        "input_image = Image(np.zeros(image_shape))\n",
        "\n",
        "particles = (particle_not_to_track^4) >> particle_to_track\n",
        "particles.store_properties()  # Return Image instead of NumPy array.\n",
        "\n",
        "output_image = particles.resolve(input_image, metadata='This is some additional data')\n",
        "output_image.get_property(\"track_me\", get_one=False)"
      ]
    },
    {
      "cell_type": "code",
      "execution_count": 16,
      "metadata": {
        "execution": {
          "iopub.execute_input": "2022-06-29T20:33:02.700168Z",
          "iopub.status.busy": "2022-06-29T20:33:02.699669Z",
          "iopub.status.idle": "2022-06-29T20:33:02.703669Z",
          "shell.execute_reply": "2022-06-29T20:33:02.704168Z"
        }
      },
      "outputs": [
        {
          "data": {
            "text/plain": [
              "[4.577766727633151, 1.533502076532392, 1.175947114586534]"
            ]
          },
          "execution_count": 16,
          "metadata": {},
          "output_type": "execute_result"
        }
      ],
      "source": [
        "particle = Particle(\n",
        "    position=lambda: np.random.rand(2) * np.array(image_shape),\n",
        "    diffusion=lambda: 1 + np.random.rand() * 4\n",
        ") \n",
        "particle.store_properties()  # Return Image instead of NumPy array.\n",
        "\n",
        "input_image = Image(np.zeros(image_shape))\n",
        "\n",
        "particles = particle^3\n",
        "particles.store_properties()  # Return Image instead of NumPy array.\n",
        "\n",
        "particles.update()\n",
        "output_image = particles.resolve(input_image)\n",
        "output_image.get_property(\"diffusion\", get_one=False)"
      ]
    }
  ],
  "metadata": {
    "kernelspec": {
      "display_name": "py_env_book",
      "language": "python",
      "name": "python3"
    },
    "language_info": {
      "codemirror_mode": {
        "name": "ipython",
        "version": 3
      },
      "file_extension": ".py",
      "mimetype": "text/x-python",
      "name": "python",
      "nbconvert_exporter": "python",
      "pygments_lexer": "ipython3",
      "version": "3.10.15"
    }
  },
  "nbformat": 4,
  "nbformat_minor": 2
}
