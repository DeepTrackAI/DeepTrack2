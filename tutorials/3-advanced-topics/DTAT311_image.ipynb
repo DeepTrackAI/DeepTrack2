{
  "cells": [
    {
      "cell_type": "markdown",
      "metadata": {},
      "source": [
        "# deeptrack.image\n",
        "\n",
        "<a href=\"https://colab.research.google.com/github/DeepTrackAI/DeepTrack2/blob/develop/tutorials/3-advanced-topics/DTAT311_image.ipynb\" target=\"_parent\"><img src=\"https://colab.research.google.com/assets/colab-badge.svg\" alt=\"Open In Colab\"/></a>"
      ]
    },
    {
      "cell_type": "code",
      "execution_count": 1,
      "metadata": {},
      "outputs": [],
      "source": [
        "# !pip install deeptrack  # Uncomment if running on Colab/Kaggle."
      ]
    },
    {
      "cell_type": "markdown",
      "metadata": {},
      "source": [
        "This advanced tutorial introduces the module deeptrack.image."
      ]
    },
    {
      "cell_type": "code",
      "execution_count": 2,
      "metadata": {},
      "outputs": [],
      "source": [
        "import numpy as np"
      ]
    },
    {
      "cell_type": "markdown",
      "metadata": {},
      "source": [
        "## 1. What is an Image?\n",
        "\n",
        "An `Image` is a container used by a feature to store both the generated image and the properties used to generate it. It is a subclass of numpy `ndarray`, so that any operation that works for `ndarrays` will also work for `Image`. `Image` has also a field `properties`, which contains the information about how the image has been generated (see also [properties_example](properties_example.ipynb)). Specifically, `properties` is a list of dictionaries, where each dictionary holds the current values of the properties of a feature (with the names of the properties as keys). This list is ordered as the features have been resolved.\n",
        "\n",
        "By storing the properties used to resolve the image, information about the image can be accessed without access to the feature series. This allows features to change their behaviour depending on what is already in the image. This also allows to extract numeric information about the image (e.g., to be used in supervised learning).\n",
        "\n",
        "**NOTE:** By default, feartures return numerical arrays. To return objects of the `Image` class, you need to call the `.store_properties()` method on the individual feature."
      ]
    },
    {
      "cell_type": "code",
      "execution_count": 3,
      "metadata": {
        "execution": {
          "iopub.execute_input": "2022-06-29T20:32:58.907420Z",
          "iopub.status.busy": "2022-06-29T20:32:58.906920Z",
          "iopub.status.idle": "2022-06-29T20:33:02.663169Z",
          "shell.execute_reply": "2022-06-29T20:33:02.662669Z"
        }
      },
      "outputs": [
        {
          "name": "stdout",
          "output_type": "stream",
          "text": [
            "Image(array([[0., 0., 0., ..., 0., 0., 0.],\n",
            "       [0., 0., 0., ..., 0., 0., 0.],\n",
            "       [0., 0., 0., ..., 0., 0., 0.],\n",
            "       ...,\n",
            "       [0., 0., 0., ..., 0., 0., 0.],\n",
            "       [0., 0., 0., ..., 0., 0., 0.],\n",
            "       [0., 0., 0., ..., 0., 0., 0.]]))\n",
            "[{'position': array([29.1770169, 61.4817317]), 'name': 'Particle'}]\n"
          ]
        }
      ],
      "source": [
        "from deeptrack.features import Feature\n",
        "from deeptrack.image import Image\n",
        "\n",
        "class Particle(Feature):\n",
        "    def get(self, image, position=None, **kwargs):\n",
        "        # Code for simulating a particle not included\n",
        "        return image\n",
        "    \n",
        "image_shape = (256, 256)\n",
        "    \n",
        "particle = Particle(\n",
        "    position=lambda: np.random.rand(2) * np.array(image_shape),\n",
        ")\n",
        "particle.store_properties()  # Return Image instead of NumPy array.\n",
        "\n",
        "input_image = Image(np.zeros(image_shape))\n",
        "# input_image = np.zeros(image_shape)  # The input image can be a NumPy array.\n",
        "\n",
        "output_image = particle.resolve(input_image)\n",
        "\n",
        "print(output_image)\n",
        "print(output_image.properties)"
      ]
    },
    {
      "cell_type": "markdown",
      "metadata": {},
      "source": [
        "You can use the method `.merge_properties_from()` to merge the properties of two images.\n",
        "If the two images are intetical (they are resolved from the same feature without an update), only one set of properties is kept."
      ]
    },
    {
      "cell_type": "code",
      "execution_count": 4,
      "metadata": {
        "execution": {
          "iopub.execute_input": "2022-06-29T20:33:02.666169Z",
          "iopub.status.busy": "2022-06-29T20:33:02.665670Z",
          "iopub.status.idle": "2022-06-29T20:33:02.668169Z",
          "shell.execute_reply": "2022-06-29T20:33:02.668169Z"
        }
      },
      "outputs": [
        {
          "name": "stdout",
          "output_type": "stream",
          "text": [
            "[{'position': array([29.1770169, 61.4817317]), 'name': 'Particle'}]\n"
          ]
        }
      ],
      "source": [
        "# The same particle is resolved again.\n",
        "second_identical_image = particle.resolve(input_image)\n",
        "\n",
        "output_image.merge_properties_from(second_identical_image)\n",
        "\n",
        "print(output_image.properties)"
      ]
    },
    {
      "cell_type": "markdown",
      "metadata": {},
      "source": [
        "However, if you update the feature between merges, the properties are treated as distinct. This is true even if the properties are not randomized."
      ]
    },
    {
      "cell_type": "code",
      "execution_count": 5,
      "metadata": {
        "execution": {
          "iopub.execute_input": "2022-06-29T20:33:02.671669Z",
          "iopub.status.busy": "2022-06-29T20:33:02.671168Z",
          "iopub.status.idle": "2022-06-29T20:33:02.673669Z",
          "shell.execute_reply": "2022-06-29T20:33:02.673669Z"
        }
      },
      "outputs": [
        {
          "name": "stdout",
          "output_type": "stream",
          "text": [
            "[{'position': array([29.1770169, 61.4817317]), 'name': 'Particle'}, {'position': array([ 52.69698425, 147.84653731]), 'name': 'Particle'}]\n"
          ]
        }
      ],
      "source": [
        "particle.update()\n",
        "updated_image = particle.resolve(input_image)\n",
        "\n",
        "output_image.merge_properties_from(updated_image)\n",
        "\n",
        "print(output_image.properties)"
      ]
    },
    {
      "cell_type": "markdown",
      "metadata": {},
      "source": [
        "## 2. Extracting the Property Values\n",
        "\n",
        "To retrieve information from the image, you can iterate through the list and extract the needed properties. The function `.get_property()` is a shorthand for this. It retrieves a property or a list of properties from an image. By default it retrieves a single instance of a property (the first instance that it finds)."
      ]
    },
    {
      "cell_type": "code",
      "execution_count": 6,
      "metadata": {},
      "outputs": [
        {
          "data": {
            "text/plain": [
              "'Particle'"
            ]
          },
          "execution_count": 6,
          "metadata": {},
          "output_type": "execute_result"
        }
      ],
      "source": [
        "output_image.get_property(\"name\")"
      ]
    },
    {
      "cell_type": "code",
      "execution_count": 7,
      "metadata": {
        "execution": {
          "iopub.execute_input": "2022-06-29T20:33:02.676169Z",
          "iopub.status.busy": "2022-06-29T20:33:02.676169Z",
          "iopub.status.idle": "2022-06-29T20:33:02.678669Z",
          "shell.execute_reply": "2022-06-29T20:33:02.679168Z"
        }
      },
      "outputs": [
        {
          "data": {
            "text/plain": [
              "array([29.1770169, 61.4817317])"
            ]
          },
          "execution_count": 7,
          "metadata": {},
          "output_type": "execute_result"
        }
      ],
      "source": [
        "output_image.get_property(\"position\")"
      ]
    },
    {
      "cell_type": "markdown",
      "metadata": {},
      "source": [
        "To retrieve all instances of a property, set `get_one=False`."
      ]
    },
    {
      "cell_type": "code",
      "execution_count": 8,
      "metadata": {},
      "outputs": [
        {
          "data": {
            "text/plain": [
              "['Particle', 'Particle']"
            ]
          },
          "execution_count": 8,
          "metadata": {},
          "output_type": "execute_result"
        }
      ],
      "source": [
        "output_image.get_property(\"name\", get_one=False)"
      ]
    },
    {
      "cell_type": "code",
      "execution_count": 9,
      "metadata": {
        "execution": {
          "iopub.execute_input": "2022-06-29T20:33:02.681668Z",
          "iopub.status.busy": "2022-06-29T20:33:02.681169Z",
          "iopub.status.idle": "2022-06-29T20:33:02.683669Z",
          "shell.execute_reply": "2022-06-29T20:33:02.683669Z"
        }
      },
      "outputs": [
        {
          "data": {
            "text/plain": [
              "[array([29.1770169, 61.4817317]), array([ 52.69698425, 147.84653731])]"
            ]
          },
          "execution_count": 9,
          "metadata": {},
          "output_type": "execute_result"
        }
      ],
      "source": [
        "output_image.get_property(\"position\", get_one=False)"
      ]
    },
    {
      "cell_type": "markdown",
      "metadata": {},
      "source": [
        "Finally, if the property is not found, `default` is returned instead (by default `default=None`). "
      ]
    },
    {
      "cell_type": "code",
      "execution_count": 10,
      "metadata": {
        "execution": {
          "iopub.execute_input": "2022-06-29T20:33:02.686169Z",
          "iopub.status.busy": "2022-06-29T20:33:02.685668Z",
          "iopub.status.idle": "2022-06-29T20:33:02.688669Z",
          "shell.execute_reply": "2022-06-29T20:33:02.688669Z"
        }
      },
      "outputs": [
        {
          "data": {
            "text/plain": [
              "'Not found!'"
            ]
          },
          "execution_count": 10,
          "metadata": {},
          "output_type": "execute_result"
        }
      ],
      "source": [
        "output_image.get_property(\"a_property_that_does_not_exist\",\n",
        "                          default=\"Not found!\")"
      ]
    },
    {
      "cell_type": "markdown",
      "metadata": {},
      "source": [
        "## 3. Storing Metadata about an Image Not Used by the Feature\n",
        "\n",
        "Sometimes it is convenient to store some information about a feature beyond what is strictly necessary to generate it. This can be done by passing additional keyword arguments to the constructor of a feature. These will be stored as properties just like any other input to the constructor."
      ]
    },
    {
      "cell_type": "markdown",
      "metadata": {},
      "source": [
        "For example, you may want to identify one particle to track."
      ]
    },
    {
      "cell_type": "code",
      "execution_count": 11,
      "metadata": {
        "execution": {
          "iopub.execute_input": "2022-06-29T20:33:02.692169Z",
          "iopub.status.busy": "2022-06-29T20:33:02.691669Z",
          "iopub.status.idle": "2022-06-29T20:33:02.697169Z",
          "shell.execute_reply": "2022-06-29T20:33:02.697169Z"
        }
      },
      "outputs": [
        {
          "name": "stdout",
          "output_type": "stream",
          "text": [
            "[False, False, False, False, True]\n"
          ]
        }
      ],
      "source": [
        "particle_to_track = Particle(\n",
        "    position=lambda: np.random.rand(2) * np.array(image_shape),\n",
        "    track_me=True,\n",
        ")\n",
        "particle_to_track.store_properties()  # Return Image.\n",
        "\n",
        "particle_not_to_track = Particle(\n",
        "    position=lambda: np.random.rand(2) * np.array(image_shape),\n",
        "    track_me=False,\n",
        ")\n",
        "particle_not_to_track.store_properties()  # Return Image.\n",
        "\n",
        "input_image = Image(np.zeros(image_shape))\n",
        "\n",
        "# 5 particles are resolved, 4 of which are not tracked.\n",
        "particles = (particle_not_to_track ^ 4) >> particle_to_track\n",
        "particles.store_properties()  # Return Image.\n",
        "\n",
        "output_image = particles.resolve(input_image)\n",
        "\n",
        "print(output_image.get_property(\"track_me\", get_one=False))"
      ]
    },
    {
      "cell_type": "markdown",
      "metadata": {},
      "source": [
        "Or you might want to store the randomized diffusion constant of a particle used to generate physically-accurate sequences of images."
      ]
    },
    {
      "cell_type": "code",
      "execution_count": 12,
      "metadata": {
        "execution": {
          "iopub.execute_input": "2022-06-29T20:33:02.700168Z",
          "iopub.status.busy": "2022-06-29T20:33:02.699669Z",
          "iopub.status.idle": "2022-06-29T20:33:02.703669Z",
          "shell.execute_reply": "2022-06-29T20:33:02.704168Z"
        }
      },
      "outputs": [
        {
          "name": "stdout",
          "output_type": "stream",
          "text": [
            "[3.011554224581562, 1.3630043223595303, 4.588298571181895]\n"
          ]
        }
      ],
      "source": [
        "particle = Particle(\n",
        "    position=lambda: np.random.rand(2) * np.array(image_shape),\n",
        "    diffusion=lambda: 1 + np.random.rand() * 4,\n",
        ") \n",
        "particle.store_properties()  # Return Image.\n",
        "\n",
        "input_image = Image(np.zeros(image_shape))\n",
        "\n",
        "# 3 particles are resolved, and their diffusion is stored.\n",
        "particles = particle ^ 3\n",
        "particles.store_properties()  # Return Image.\n",
        "\n",
        "output_image = particles.resolve(input_image)\n",
        "\n",
        "print(output_image.get_property(\"diffusion\", get_one=False))"
      ]
    }
  ],
  "metadata": {
    "kernelspec": {
      "display_name": "py_env_book",
      "language": "python",
      "name": "python3"
    },
    "language_info": {
      "codemirror_mode": {
        "name": "ipython",
        "version": 3
      },
      "file_extension": ".py",
      "mimetype": "text/x-python",
      "name": "python",
      "nbconvert_exporter": "python",
      "pygments_lexer": "ipython3",
      "version": "3.10.15"
    }
  },
  "nbformat": 4,
  "nbformat_minor": 2
}
