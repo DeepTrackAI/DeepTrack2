{
  "cells": [
    {
      "cell_type": "code",
      "execution_count": 1,
      "id": "ab307783",
      "metadata": {
        "execution": {
          "iopub.execute_input": "2022-06-30T10:04:58.093477Z",
          "iopub.status.busy": "2022-06-30T10:04:58.092978Z",
          "iopub.status.idle": "2022-06-30T10:05:00.231478Z",
          "shell.execute_reply": "2022-06-30T10:05:00.231478Z"
        }
      },
      "outputs": [
        {
          "name": "stdout",
          "output_type": "stream",
          "text": [
            "Requirement already satisfied: deeptrack in c:\\users\\gu\\deeptrack\\deeptrack-2.0 (1.2.0)\n",
            "Requirement already satisfied: tensorflow in c:\\users\\gu\\appdata\\local\\programs\\python\\python310\\lib\\site-packages (from deeptrack) (2.9.1)\n",
            "Requirement already satisfied: tensorflow-probability in c:\\users\\gu\\appdata\\local\\programs\\python\\python310\\lib\\site-packages (from deeptrack) (0.17.0)\n",
            "Requirement already satisfied: numpy in c:\\users\\gu\\appdata\\local\\programs\\python\\python310\\lib\\site-packages (from deeptrack) (1.23.0)\n",
            "Requirement already satisfied: scipy in c:\\users\\gu\\appdata\\local\\programs\\python\\python310\\lib\\site-packages (from deeptrack) (1.8.1)\n",
            "Requirement already satisfied: pint in c:\\users\\gu\\appdata\\local\\programs\\python\\python310\\lib\\site-packages (from deeptrack) (0.19.2)\n",
            "Requirement already satisfied: scikit-image>=0.18.0 in c:\\users\\gu\\appdata\\local\\programs\\python\\python310\\lib\\site-packages (from deeptrack) (0.19.3)\n",
            "Requirement already satisfied: pydeepimagej in c:\\users\\gu\\appdata\\local\\programs\\python\\python310\\lib\\site-packages (from deeptrack) (1.1.0)\n",
            "Requirement already satisfied: more_itertools in c:\\users\\gu\\appdata\\local\\programs\\python\\python310\\lib\\site-packages (from deeptrack) (8.13.0)\n",
            "Requirement already satisfied: tensorflow_addons in c:\\users\\gu\\appdata\\local\\programs\\python\\python310\\lib\\site-packages (from deeptrack) (0.17.1)\n",
            "Requirement already satisfied: networkx>=2.2 in c:\\users\\gu\\appdata\\local\\programs\\python\\python310\\lib\\site-packages (from scikit-image>=0.18.0->deeptrack) (2.8.4)\n",
            "Requirement already satisfied: imageio>=2.4.1 in c:\\users\\gu\\appdata\\local\\programs\\python\\python310\\lib\\site-packages (from scikit-image>=0.18.0->deeptrack) (2.19.3)\n",
            "Requirement already satisfied: tifffile>=2019.7.26 in c:\\users\\gu\\appdata\\local\\programs\\python\\python310\\lib\\site-packages (from scikit-image>=0.18.0->deeptrack) (2022.5.4)\n",
            "Requirement already satisfied: PyWavelets>=1.1.1 in c:\\users\\gu\\appdata\\local\\programs\\python\\python310\\lib\\site-packages (from scikit-image>=0.18.0->deeptrack) (1.3.0)\n",
            "Requirement already satisfied: packaging>=20.0 in c:\\users\\gu\\appdata\\local\\programs\\python\\python310\\lib\\site-packages (from scikit-image>=0.18.0->deeptrack) (21.3)\n",
            "Requirement already satisfied: pillow!=7.1.0,!=7.1.1,!=8.3.0,>=6.1.0 in c:\\users\\gu\\appdata\\local\\programs\\python\\python310\\lib\\site-packages (from scikit-image>=0.18.0->deeptrack) (9.1.1)\n",
            "Requirement already satisfied: setuptools in c:\\users\\gu\\appdata\\local\\programs\\python\\python310\\lib\\site-packages (from tensorflow->deeptrack) (58.1.0)\n",
            "Requirement already satisfied: grpcio<2.0,>=1.24.3 in c:\\users\\gu\\appdata\\local\\programs\\python\\python310\\lib\\site-packages (from tensorflow->deeptrack) (1.47.0)\n",
            "Requirement already satisfied: absl-py>=1.0.0 in c:\\users\\gu\\appdata\\local\\programs\\python\\python310\\lib\\site-packages (from tensorflow->deeptrack) (1.1.0)\n",
            "Requirement already satisfied: protobuf<3.20,>=3.9.2 in c:\\users\\gu\\appdata\\local\\programs\\python\\python310\\lib\\site-packages (from tensorflow->deeptrack) (3.19.4)\n",
            "Requirement already satisfied: libclang>=13.0.0 in c:\\users\\gu\\appdata\\local\\programs\\python\\python310\\lib\\site-packages (from tensorflow->deeptrack) (14.0.1)\n",
            "Requirement already satisfied: flatbuffers<2,>=1.12 in c:\\users\\gu\\appdata\\local\\programs\\python\\python310\\lib\\site-packages (from tensorflow->deeptrack) (1.12)\n",
            "Requirement already satisfied: six>=1.12.0 in c:\\users\\gu\\appdata\\local\\programs\\python\\python310\\lib\\site-packages (from tensorflow->deeptrack) (1.16.0)\n",
            "Requirement already satisfied: google-pasta>=0.1.1 in c:\\users\\gu\\appdata\\local\\programs\\python\\python310\\lib\\site-packages (from tensorflow->deeptrack) (0.2.0)\n",
            "Requirement already satisfied: termcolor>=1.1.0 in c:\\users\\gu\\appdata\\local\\programs\\python\\python310\\lib\\site-packages (from tensorflow->deeptrack) (1.1.0)\n",
            "Requirement already satisfied: tensorflow-estimator<2.10.0,>=2.9.0rc0 in c:\\users\\gu\\appdata\\local\\programs\\python\\python310\\lib\\site-packages (from tensorflow->deeptrack) (2.9.0)\n",
            "Requirement already satisfied: keras<2.10.0,>=2.9.0rc0 in c:\\users\\gu\\appdata\\local\\programs\\python\\python310\\lib\\site-packages (from tensorflow->deeptrack) (2.9.0)\n",
            "Requirement already satisfied: astunparse>=1.6.0 in c:\\users\\gu\\appdata\\local\\programs\\python\\python310\\lib\\site-packages (from tensorflow->deeptrack) (1.6.3)\n",
            "Requirement already satisfied: keras-preprocessing>=1.1.1 in c:\\users\\gu\\appdata\\local\\programs\\python\\python310\\lib\\site-packages (from tensorflow->deeptrack) (1.1.2)\n",
            "Requirement already satisfied: opt-einsum>=2.3.2 in c:\\users\\gu\\appdata\\local\\programs\\python\\python310\\lib\\site-packages (from tensorflow->deeptrack) (3.3.0)\n",
            "Requirement already satisfied: wrapt>=1.11.0 in c:\\users\\gu\\appdata\\local\\programs\\python\\python310\\lib\\site-packages (from tensorflow->deeptrack) (1.14.1)\n",
            "Requirement already satisfied: h5py>=2.9.0 in c:\\users\\gu\\appdata\\local\\programs\\python\\python310\\lib\\site-packages (from tensorflow->deeptrack) (3.7.0)\n",
            "Requirement already satisfied: gast<=0.4.0,>=0.2.1 in c:\\users\\gu\\appdata\\local\\programs\\python\\python310\\lib\\site-packages (from tensorflow->deeptrack) (0.4.0)\n",
            "Requirement already satisfied: tensorboard<2.10,>=2.9 in c:\\users\\gu\\appdata\\local\\programs\\python\\python310\\lib\\site-packages (from tensorflow->deeptrack) (2.9.1)\n",
            "Requirement already satisfied: typing-extensions>=3.6.6 in c:\\users\\gu\\appdata\\local\\programs\\python\\python310\\lib\\site-packages (from tensorflow->deeptrack) (4.2.0)\n",
            "Requirement already satisfied: tensorflow-io-gcs-filesystem>=0.23.1 in c:\\users\\gu\\appdata\\local\\programs\\python\\python310\\lib\\site-packages (from tensorflow->deeptrack) (0.26.0)\n",
            "Requirement already satisfied: typeguard>=2.7 in c:\\users\\gu\\appdata\\local\\programs\\python\\python310\\lib\\site-packages (from tensorflow_addons->deeptrack) (2.13.3)\n",
            "Requirement already satisfied: decorator in c:\\users\\gu\\appdata\\local\\programs\\python\\python310\\lib\\site-packages (from tensorflow-probability->deeptrack) (5.1.1)\n",
            "Requirement already satisfied: dm-tree in c:\\users\\gu\\appdata\\local\\programs\\python\\python310\\lib\\site-packages (from tensorflow-probability->deeptrack) (0.1.7)\n",
            "Requirement already satisfied: cloudpickle>=1.3 in c:\\users\\gu\\appdata\\local\\programs\\python\\python310\\lib\\site-packages (from tensorflow-probability->deeptrack) (2.1.0)\n",
            "Requirement already satisfied: wheel<1.0,>=0.23.0 in c:\\users\\gu\\appdata\\local\\programs\\python\\python310\\lib\\site-packages (from astunparse>=1.6.0->tensorflow->deeptrack) (0.37.1)\n",
            "Requirement already satisfied: pyparsing!=3.0.5,>=2.0.2 in c:\\users\\gu\\appdata\\local\\programs\\python\\python310\\lib\\site-packages (from packaging>=20.0->scikit-image>=0.18.0->deeptrack) (3.0.9)\n",
            "Requirement already satisfied: markdown>=2.6.8 in c:\\users\\gu\\appdata\\local\\programs\\python\\python310\\lib\\site-packages (from tensorboard<2.10,>=2.9->tensorflow->deeptrack) (3.3.7)\n",
            "Requirement already satisfied: requests<3,>=2.21.0 in c:\\users\\gu\\appdata\\local\\programs\\python\\python310\\lib\\site-packages (from tensorboard<2.10,>=2.9->tensorflow->deeptrack) (2.28.0)\n",
            "Requirement already satisfied: tensorboard-data-server<0.7.0,>=0.6.0 in c:\\users\\gu\\appdata\\local\\programs\\python\\python310\\lib\\site-packages (from tensorboard<2.10,>=2.9->tensorflow->deeptrack) (0.6.1)\n",
            "Requirement already satisfied: werkzeug>=1.0.1 in c:\\users\\gu\\appdata\\local\\programs\\python\\python310\\lib\\site-packages (from tensorboard<2.10,>=2.9->tensorflow->deeptrack) (2.1.2)\n",
            "Requirement already satisfied: tensorboard-plugin-wit>=1.6.0 in c:\\users\\gu\\appdata\\local\\programs\\python\\python310\\lib\\site-packages (from tensorboard<2.10,>=2.9->tensorflow->deeptrack) (1.8.1)\n",
            "Requirement already satisfied: google-auth-oauthlib<0.5,>=0.4.1 in c:\\users\\gu\\appdata\\local\\programs\\python\\python310\\lib\\site-packages (from tensorboard<2.10,>=2.9->tensorflow->deeptrack) (0.4.6)\n",
            "Requirement already satisfied: google-auth<3,>=1.6.3 in c:\\users\\gu\\appdata\\local\\programs\\python\\python310\\lib\\site-packages (from tensorboard<2.10,>=2.9->tensorflow->deeptrack) (2.9.0)\n",
            "Requirement already satisfied: pyasn1-modules>=0.2.1 in c:\\users\\gu\\appdata\\local\\programs\\python\\python310\\lib\\site-packages (from google-auth<3,>=1.6.3->tensorboard<2.10,>=2.9->tensorflow->deeptrack) (0.2.8)\n",
            "Requirement already satisfied: rsa<5,>=3.1.4 in c:\\users\\gu\\appdata\\local\\programs\\python\\python310\\lib\\site-packages (from google-auth<3,>=1.6.3->tensorboard<2.10,>=2.9->tensorflow->deeptrack) (4.8)\n",
            "Requirement already satisfied: cachetools<6.0,>=2.0.0 in c:\\users\\gu\\appdata\\local\\programs\\python\\python310\\lib\\site-packages (from google-auth<3,>=1.6.3->tensorboard<2.10,>=2.9->tensorflow->deeptrack) (5.2.0)\n",
            "Requirement already satisfied: requests-oauthlib>=0.7.0 in c:\\users\\gu\\appdata\\local\\programs\\python\\python310\\lib\\site-packages (from google-auth-oauthlib<0.5,>=0.4.1->tensorboard<2.10,>=2.9->tensorflow->deeptrack) (1.3.1)\n",
            "Requirement already satisfied: certifi>=2017.4.17 in c:\\users\\gu\\appdata\\local\\programs\\python\\python310\\lib\\site-packages (from requests<3,>=2.21.0->tensorboard<2.10,>=2.9->tensorflow->deeptrack) (2022.6.15)\n",
            "Requirement already satisfied: urllib3<1.27,>=1.21.1 in c:\\users\\gu\\appdata\\local\\programs\\python\\python310\\lib\\site-packages (from requests<3,>=2.21.0->tensorboard<2.10,>=2.9->tensorflow->deeptrack) (1.26.9)\n",
            "Requirement already satisfied: idna<4,>=2.5 in c:\\users\\gu\\appdata\\local\\programs\\python\\python310\\lib\\site-packages (from requests<3,>=2.21.0->tensorboard<2.10,>=2.9->tensorflow->deeptrack) (3.3)\n",
            "Requirement already satisfied: charset-normalizer~=2.0.0 in c:\\users\\gu\\appdata\\local\\programs\\python\\python310\\lib\\site-packages (from requests<3,>=2.21.0->tensorboard<2.10,>=2.9->tensorflow->deeptrack) (2.0.12)\n",
            "Requirement already satisfied: pyasn1<0.5.0,>=0.4.6 in c:\\users\\gu\\appdata\\local\\programs\\python\\python310\\lib\\site-packages (from pyasn1-modules>=0.2.1->google-auth<3,>=1.6.3->tensorboard<2.10,>=2.9->tensorflow->deeptrack) (0.4.8)\n",
            "Requirement already satisfied: oauthlib>=3.0.0 in c:\\users\\gu\\appdata\\local\\programs\\python\\python310\\lib\\site-packages (from requests-oauthlib>=0.7.0->google-auth-oauthlib<0.5,>=0.4.1->tensorboard<2.10,>=2.9->tensorflow->deeptrack) (3.2.0)\n"
          ]
        }
      ],
      "source": [
        "%matplotlib inline\n",
        "!pip install deeptrack"
      ]
    },
    {
      "cell_type": "markdown",
      "id": "730650bd",
      "metadata": {},
      "source": [
        "<!--<badge>--><a href=\"https://colab.research.google.com/github/softmatterlab/DeepTrack-2.0/blob/develop/examples/LodeSTAR/09.measure_mass_experimental.ipynb\" target=\"_parent\"><img src=\"https://colab.research.google.com/assets/colab-badge.svg\" alt=\"Open In Colab\"/></a><!--</badge>-->"
      ]
    },
    {
      "cell_type": "code",
      "execution_count": 2,
      "id": "533f88fb",
      "metadata": {
        "execution": {
          "iopub.execute_input": "2022-06-30T10:05:00.234478Z",
          "iopub.status.busy": "2022-06-30T10:05:00.234478Z",
          "iopub.status.idle": "2022-06-30T10:05:03.617123Z",
          "shell.execute_reply": "2022-06-30T10:05:03.616630Z"
        }
      },
      "outputs": [
        {
          "name": "stderr",
          "output_type": "stream",
          "text": [
            "c:\\users\\gu\\deeptrack\\deeptrack-2.0\\deeptrack\\backend\\_config.py:11: UserWarning: cupy not installed. GPU-accelerated simulations will not be possible\n",
            "  warnings.warn(\n",
            "c:\\users\\gu\\deeptrack\\deeptrack-2.0\\deeptrack\\backend\\_config.py:25: UserWarning: cupy not installed, CPU acceleration not enabled\n",
            "  warnings.warn(\"cupy not installed, CPU acceleration not enabled\")\n"
          ]
        },
        {
          "name": "stdout",
          "output_type": "stream",
          "text": [
            "Dataset already downloaded.\n"
          ]
        }
      ],
      "source": [
        "import random\n",
        "\n",
        "import deeptrack as dt\n",
        "import deeptrack.extras\n",
        "import numpy as np\n",
        "import skimage.color\n",
        "import matplotlib.pyplot as plt\n",
        "import tensorflow as tf\n",
        "import scipy.io\n",
        "\n",
        "deeptrack.extras.datasets.load(\"ParticleSizing\")"
      ]
    },
    {
      "cell_type": "code",
      "execution_count": 3,
      "id": "739e8436",
      "metadata": {
        "execution": {
          "iopub.execute_input": "2022-06-30T10:05:03.620123Z",
          "iopub.status.busy": "2022-06-30T10:05:03.619624Z",
          "iopub.status.idle": "2022-06-30T10:05:03.762624Z",
          "shell.execute_reply": "2022-06-30T10:05:03.762123Z"
        }
      },
      "outputs": [],
      "source": [
        "import numpy as np\n",
        "import matplotlib.pyplot as plt\n",
        "\n",
        "crop_size = 32\n",
        "padding = 32\n",
        "wavelength = 633e-9 \n",
        "pixel_size = 114e-9\n",
        "crop_propagation_forward = dt.get_propagation_matrix((crop_size + 2 * padding, ) * 2, 1e-7, pixel_size * 2, wavelength)\n",
        "crop_propagation_backward = dt.get_propagation_matrix((crop_size + 2 * padding, ) * 2, -1e-7, pixel_size * 2, wavelength)\n",
        "\n",
        "experimental_data = np.load('datasets/ParticleSizing/sizing_150nm_227nm_PSL.npy', allow_pickle=True)\n",
        "\n",
        "trace = experimental_data[1]\n",
        "trace[..., 0] += 1\n",
        "import random\n",
        "training_set = dt.Value(lambda: trace[0]) >> dt.AveragePooling((2, 2, 1))\n"
      ]
    },
    {
      "cell_type": "code",
      "execution_count": 4,
      "id": "1bfbfd07",
      "metadata": {
        "execution": {
          "iopub.execute_input": "2022-06-30T10:05:03.765623Z",
          "iopub.status.busy": "2022-06-30T10:05:03.765123Z",
          "iopub.status.idle": "2022-06-30T10:05:03.772123Z",
          "shell.execute_reply": "2022-06-30T10:05:03.771624Z"
        }
      },
      "outputs": [],
      "source": [
        "args = dt.Arguments(\n",
        "    translate=lambda: np.random.randn(2) * 1,\n",
        "    rotate=lambda:np.random.uniform(0, np.pi*2),\n",
        "    z=lambda: np.random.randint(-4, 4),\n",
        "    rescale=lambda: 10**np.random.uniform(-1, 0.5)\n",
        ")\n",
        "\n",
        "group = ( \n",
        "     dt.Affine(rotate=args.rotate) \n",
        "    >>dt.Affine(translate=args.translate) \n",
        "    >> dt.Rescale(args.rescale) \n",
        "    >> dt.FourierTransform() \n",
        "    >> dt.FourierTransformTransformation(crop_propagation_forward, crop_propagation_backward, args.z) \n",
        "    >> dt.InverseFourierTransform() \n",
        "    >> dt.Gaussian(sigma=lambda: np.random.rand() * 0.0075)\n",
        ")\n",
        "\n",
        "equivariance = (\n",
        "    dt.models.lodestar.Rotational2DEquivariance(args.rotate)\n",
        "    >> dt.models.lodestar.TranslationalEquivariance(args.translate)\n",
        "    \n",
        "    # >> dt.models.lodestar.Equivariance(1, args.z / 10, indexes=2)\n",
        "    >> dt.models.lodestar.Equivariance(1, lambda arg: np.log(arg), arg = args.rescale, indexes=2)\n",
        ")\n",
        "\n",
        "\n"
      ]
    },
    {
      "cell_type": "code",
      "execution_count": 5,
      "id": "5fa4c399",
      "metadata": {
        "execution": {
          "iopub.execute_input": "2022-06-30T10:05:03.774623Z",
          "iopub.status.busy": "2022-06-30T10:05:03.774123Z",
          "iopub.status.idle": "2022-06-30T10:05:03.867623Z",
          "shell.execute_reply": "2022-06-30T10:05:03.867123Z"
        }
      },
      "outputs": [
        {
          "data": {
            "text/plain": [
              "<matplotlib.image.AxesImage at 0x13553da8460>"
            ]
          },
          "execution_count": 5,
          "metadata": {},
          "output_type": "execute_result"
        },
        {
          "data": {
            "image/png": "[encoded data removed]",
            "text/plain": [
              "<Figure size 432x288 with 1 Axes>"
            ]
          },
          "metadata": {
            "needs_background": "light"
          },
          "output_type": "display_data"
        }
      ],
      "source": [
        "out = (training_set >> group).update()()\n",
        "plt.imshow(out[..., 1])"
      ]
    },
    {
      "cell_type": "code",
      "execution_count": 6,
      "id": "1bf0c230",
      "metadata": {
        "execution": {
          "iopub.execute_input": "2022-06-30T10:05:03.870125Z",
          "iopub.status.busy": "2022-06-30T10:05:03.869625Z",
          "iopub.status.idle": "2022-06-30T10:05:03.872631Z",
          "shell.execute_reply": "2022-06-30T10:05:03.872631Z"
        }
      },
      "outputs": [],
      "source": [
        "generator = dt.models.lodestar.LodeSTARGenerator(\n",
        "    training_set,\n",
        "    3,\n",
        "    (group, equivariance), \n",
        "    batch_size=8, \n",
        "    min_data_size=200, \n",
        "    max_data_size=201\n",
        ")\n",
        "\n"
      ]
    },
    {
      "cell_type": "code",
      "execution_count": 7,
      "id": "53c86817",
      "metadata": {
        "execution": {
          "iopub.execute_input": "2022-06-30T10:05:03.875123Z",
          "iopub.status.busy": "2022-06-30T10:05:03.875123Z",
          "iopub.status.idle": "2022-06-30T10:06:17.187215Z",
          "shell.execute_reply": "2022-06-30T10:06:17.186728Z"
        }
      },
      "outputs": [
        {
          "name": "stdout",
          "output_type": "stream",
          "text": [
            "Generating 201 / 200 samples before starting training\n",
            "Epoch 1/50\n",
            "100/100 [==============================] - 4s 11ms/step - total_loss: 2.0121 - consistency_loss: 1.2124\n",
            "Epoch 2/50\n",
            "100/100 [==============================] - 1s 11ms/step - total_loss: 1.8571 - consistency_loss: 1.0343\n",
            "Epoch 3/50\n",
            "100/100 [==============================] - 1s 11ms/step - total_loss: 1.4229 - consistency_loss: 0.6418\n",
            "Epoch 4/50\n",
            "100/100 [==============================] - 1s 10ms/step - total_loss: 0.9230 - consistency_loss: 0.2543\n",
            "Epoch 5/50\n",
            "100/100 [==============================] - 1s 11ms/step - total_loss: 1.1679 - consistency_loss: 0.3230\n",
            "Epoch 6/50\n",
            "100/100 [==============================] - 1s 10ms/step - total_loss: 0.7866 - consistency_loss: 0.1966\n",
            "Epoch 7/50\n",
            "100/100 [==============================] - 1s 11ms/step - total_loss: 0.3677 - consistency_loss: 0.0974\n",
            "Epoch 8/50\n",
            "100/100 [==============================] - 1s 11ms/step - total_loss: 0.1706 - consistency_loss: 0.0387\n",
            "Epoch 9/50\n",
            "100/100 [==============================] - 1s 10ms/step - total_loss: 0.0914 - consistency_loss: 0.0172\n",
            "Epoch 10/50\n",
            "100/100 [==============================] - 1s 11ms/step - total_loss: 0.0796 - consistency_loss: 0.0144\n",
            "Epoch 11/50\n",
            "100/100 [==============================] - 1s 11ms/step - total_loss: 0.0829 - consistency_loss: 0.0122\n",
            "Epoch 12/50\n",
            "100/100 [==============================] - 1s 11ms/step - total_loss: 0.0710 - consistency_loss: 0.0110\n",
            "Epoch 13/50\n",
            "100/100 [==============================] - 1s 10ms/step - total_loss: 0.0591 - consistency_loss: 0.0094\n",
            "Epoch 14/50\n",
            "100/100 [==============================] - 1s 10ms/step - total_loss: 0.0611 - consistency_loss: 0.0086\n",
            "Epoch 15/50\n",
            "100/100 [==============================] - 1s 10ms/step - total_loss: 0.0620 - consistency_loss: 0.0081\n",
            "Epoch 16/50\n",
            "100/100 [==============================] - 1s 10ms/step - total_loss: 0.0635 - consistency_loss: 0.0097\n",
            "Epoch 17/50\n",
            "100/100 [==============================] - 1s 10ms/step - total_loss: 0.0532 - consistency_loss: 0.0077\n",
            "Epoch 18/50\n",
            "100/100 [==============================] - 1s 10ms/step - total_loss: 0.0571 - consistency_loss: 0.0073\n",
            "Epoch 19/50\n",
            "100/100 [==============================] - 1s 10ms/step - total_loss: 0.0539 - consistency_loss: 0.0075\n",
            "Epoch 20/50\n",
            "100/100 [==============================] - 1s 11ms/step - total_loss: 0.0494 - consistency_loss: 0.0071\n",
            "Epoch 21/50\n",
            "100/100 [==============================] - 1s 11ms/step - total_loss: 0.0545 - consistency_loss: 0.0068\n",
            "Epoch 22/50\n",
            "100/100 [==============================] - 1s 11ms/step - total_loss: 0.0462 - consistency_loss: 0.0060\n",
            "Epoch 23/50\n",
            "100/100 [==============================] - 1s 11ms/step - total_loss: 0.0460 - consistency_loss: 0.0060\n",
            "Epoch 24/50\n",
            "100/100 [==============================] - 1s 11ms/step - total_loss: 0.0514 - consistency_loss: 0.0064\n",
            "Epoch 25/50\n",
            "100/100 [==============================] - 1s 11ms/step - total_loss: 0.0462 - consistency_loss: 0.0060\n",
            "Epoch 26/50\n",
            "100/100 [==============================] - 1s 11ms/step - total_loss: 0.0467 - consistency_loss: 0.0056\n",
            "Epoch 27/50\n",
            "100/100 [==============================] - 1s 10ms/step - total_loss: 0.0478 - consistency_loss: 0.0059\n",
            "Epoch 28/50\n",
            "100/100 [==============================] - 1s 10ms/step - total_loss: 0.0412 - consistency_loss: 0.0057\n",
            "Epoch 29/50\n",
            "100/100 [==============================] - 1s 11ms/step - total_loss: 0.0499 - consistency_loss: 0.0068\n",
            "Epoch 30/50\n",
            "100/100 [==============================] - 1s 11ms/step - total_loss: 0.0456 - consistency_loss: 0.0057\n",
            "Epoch 31/50\n",
            "100/100 [==============================] - 1s 11ms/step - total_loss: 0.0481 - consistency_loss: 0.0064\n",
            "Epoch 32/50\n",
            "100/100 [==============================] - 1s 11ms/step - total_loss: 0.0432 - consistency_loss: 0.0054\n",
            "Epoch 33/50\n",
            "100/100 [==============================] - 1s 11ms/step - total_loss: 0.0516 - consistency_loss: 0.0057\n",
            "Epoch 34/50\n",
            "100/100 [==============================] - 1s 11ms/step - total_loss: 0.0451 - consistency_loss: 0.0048\n",
            "Epoch 35/50\n",
            "100/100 [==============================] - 1s 11ms/step - total_loss: 0.0418 - consistency_loss: 0.0048\n",
            "Epoch 36/50\n",
            "100/100 [==============================] - 1s 11ms/step - total_loss: 0.0456 - consistency_loss: 0.0051\n",
            "Epoch 37/50\n",
            "100/100 [==============================] - 1s 10ms/step - total_loss: 0.0453 - consistency_loss: 0.0048\n",
            "Epoch 38/50\n",
            "100/100 [==============================] - 1s 11ms/step - total_loss: 0.0436 - consistency_loss: 0.0048\n",
            "Epoch 39/50\n",
            "100/100 [==============================] - 1s 11ms/step - total_loss: 0.0450 - consistency_loss: 0.0055\n",
            "Epoch 40/50\n",
            "100/100 [==============================] - 1s 11ms/step - total_loss: 0.0387 - consistency_loss: 0.0044\n",
            "Epoch 41/50\n",
            "100/100 [==============================] - 1s 11ms/step - total_loss: 0.0361 - consistency_loss: 0.0040\n",
            "Epoch 42/50\n",
            "100/100 [==============================] - 1s 11ms/step - total_loss: 0.0440 - consistency_loss: 0.0047\n",
            "Epoch 43/50\n",
            "100/100 [==============================] - 1s 11ms/step - total_loss: 0.0406 - consistency_loss: 0.0043\n",
            "Epoch 44/50\n",
            "100/100 [==============================] - 1s 10ms/step - total_loss: 0.0398 - consistency_loss: 0.0040\n",
            "Epoch 45/50\n",
            "100/100 [==============================] - 1s 11ms/step - total_loss: 0.0415 - consistency_loss: 0.0042\n",
            "Epoch 46/50\n",
            "100/100 [==============================] - 1s 12ms/step - total_loss: 0.0391 - consistency_loss: 0.0043\n",
            "Epoch 47/50\n",
            "100/100 [==============================] - 1s 10ms/step - total_loss: 0.0403 - consistency_loss: 0.0039\n",
            "Epoch 48/50\n",
            "100/100 [==============================] - 1s 10ms/step - total_loss: 0.0386 - consistency_loss: 0.0041\n",
            "Epoch 49/50\n",
            "100/100 [==============================] - 1s 11ms/step - total_loss: 0.0369 - consistency_loss: 0.0039\n",
            "Epoch 50/50\n",
            "100/100 [==============================] - 1s 11ms/step - total_loss: 0.0441 - consistency_loss: 0.0061\n"
          ]
        }
      ],
      "source": [
        "\n",
        "with generator:\n",
        "    model = dt.models.LodeSTAR(input_shape=(None, None, 2), num_outputs=3)\n",
        "    model.compile(loss=\"mae\", optimizer=tf.keras.optimizers.Adam())\n",
        "    model.fit(generator, epochs=50, steps_per_epoch=100)\n"
      ]
    },
    {
      "cell_type": "code",
      "execution_count": 8,
      "id": "bb25a14a",
      "metadata": {
        "execution": {
          "iopub.execute_input": "2022-06-30T10:06:17.189715Z",
          "iopub.status.busy": "2022-06-30T10:06:17.189715Z",
          "iopub.status.idle": "2022-06-30T10:06:23.630685Z",
          "shell.execute_reply": "2022-06-30T10:06:23.630685Z"
        }
      },
      "outputs": [
        {
          "name": "stdout",
          "output_type": "stream",
          "text": [
            "1/1 [==============================] - 0s 286ms/step\n",
            "1/1 [==============================] - 0s 51ms/step\n",
            "1/1 [==============================] - 0s 50ms/step\n",
            "1/1 [==============================] - 0s 51ms/step\n",
            "1/1 [==============================] - 0s 52ms/step\n",
            "1/1 [==============================] - 0s 49ms/step\n",
            "1/1 [==============================] - 0s 15ms/step\n",
            "1/1 [==============================] - 0s 50ms/step\n",
            "1/1 [==============================] - 0s 13ms/step\n",
            "1/1 [==============================] - 0s 51ms/step\n",
            "2/2 [==============================] - 0s 41ms/step\n",
            "2/2 [==============================] - 0s 3ms/step\n",
            "1/1 [==============================] - 0s 50ms/step\n",
            "1/1 [==============================] - 0s 49ms/step\n",
            "2/2 [==============================] - 0s 45ms/step\n",
            "1/1 [==============================] - 0s 14ms/step\n",
            "1/1 [==============================] - 0s 51ms/step\n",
            "3/3 [==============================] - 0s 3ms/step\n",
            "2/2 [==============================] - 0s 41ms/step\n",
            "3/3 [==============================] - 0s 22ms/step\n",
            "1/1 [==============================] - 0s 16ms/step\n",
            "1/1 [==============================] - 0s 49ms/step\n",
            "1/1 [==============================] - 0s 51ms/step\n",
            "2/2 [==============================] - 0s 38ms/step\n",
            "1/1 [==============================] - 0s 50ms/step\n",
            "3/3 [==============================] - 0s 3ms/step\n",
            "3/3 [==============================] - 0s 2ms/step\n",
            "3/3 [==============================] - 0s 3ms/step\n",
            "1/1 [==============================] - 0s 52ms/step\n",
            "2/2 [==============================] - 0s 3ms/step\n",
            "1/1 [==============================] - 0s 57ms/step\n",
            "2/2 [==============================] - 0s 4ms/step\n",
            "4/4 [==============================] - 0s 2ms/step\n",
            "1/1 [==============================] - 0s 58ms/step\n",
            "1/1 [==============================] - 0s 13ms/step\n",
            "5/5 [==============================] - 0s 14ms/step\n",
            "2/2 [==============================] - 0s 3ms/step\n",
            "5/5 [==============================] - 0s 13ms/step\n",
            "1/1 [==============================] - 0s 15ms/step\n",
            "1/1 [==============================] - 0s 14ms/step\n",
            "1/1 [==============================] - 0s 14ms/step\n",
            "2/2 [==============================] - 0s 52ms/step\n",
            "2/2 [==============================] - 0s 3ms/step\n",
            "2/2 [==============================] - 0s 47ms/step\n",
            "2/2 [==============================] - 0s 47ms/step\n",
            "2/2 [==============================] - 0s 3ms/step\n",
            "2/2 [==============================] - 0s 3ms/step\n",
            "3/3 [==============================] - 0s 3ms/step\n",
            "3/3 [==============================] - 0s 3ms/step\n",
            "3/3 [==============================] - 0s 3ms/step\n",
            "3/3 [==============================] - 0s 3ms/step\n",
            "3/3 [==============================] - 0s 3ms/step\n",
            "4/4 [==============================] - 0s 19ms/step\n",
            "5/5 [==============================] - 0s 4ms/step\n",
            "1/1 [==============================] - 0s 13ms/step\n",
            "1/1 [==============================] - 0s 13ms/step\n",
            "1/1 [==============================] - 0s 13ms/step\n",
            "1/1 [==============================] - 0s 14ms/step\n",
            "1/1 [==============================] - 0s 14ms/step\n",
            "1/1 [==============================] - 0s 13ms/step\n",
            "2/2 [==============================] - 0s 3ms/step\n",
            "1/1 [==============================] - 0s 14ms/step\n",
            "2/2 [==============================] - 0s 3ms/step\n",
            "3/3 [==============================] - 0s 3ms/step\n",
            "1/1 [==============================] - 0s 14ms/step\n",
            "1/1 [==============================] - 0s 13ms/step\n",
            "1/1 [==============================] - 0s 13ms/step\n",
            "2/2 [==============================] - 0s 3ms/step\n",
            "1/1 [==============================] - 0s 13ms/step\n",
            "2/2 [==============================] - 0s 55ms/step\n",
            "2/2 [==============================] - 0s 3ms/step\n",
            "2/2 [==============================] - 0s 3ms/step\n",
            "2/2 [==============================] - 0s 3ms/step\n",
            "2/2 [==============================] - 0s 3ms/step\n",
            "1/1 [==============================] - 0s 13ms/step\n",
            "1/1 [==============================] - 0s 14ms/step\n",
            "3/3 [==============================] - 0s 3ms/step\n",
            "1/1 [==============================] - 0s 15ms/step\n",
            "7/7 [==============================] - 0s 2ms/step\n",
            "3/3 [==============================] - 0s 3ms/step\n",
            "1/1 [==============================] - 0s 14ms/step\n",
            "3/3 [==============================] - 0s 3ms/step\n",
            "3/3 [==============================] - 0s 3ms/step\n",
            "1/1 [==============================] - 0s 14ms/step\n",
            "1/1 [==============================] - 0s 13ms/step\n",
            "2/2 [==============================] - 0s 3ms/step\n",
            "2/2 [==============================] - 0s 3ms/step\n",
            "2/2 [==============================] - 0s 3ms/step\n",
            "2/2 [==============================] - 0s 4ms/step\n",
            "1/1 [==============================] - 0s 13ms/step\n",
            "7/7 [==============================] - 0s 3ms/step\n",
            "1/1 [==============================] - 0s 14ms/step\n",
            "9/9 [==============================] - 0s 3ms/step\n",
            "1/1 [==============================] - 0s 14ms/step\n",
            "1/1 [==============================] - 0s 13ms/step\n",
            "9/9 [==============================] - 0s 10ms/step\n",
            "1/1 [==============================] - 0s 14ms/step\n",
            "4/4 [==============================] - 0s 3ms/step\n",
            "2/2 [==============================] - 0s 4ms/step\n",
            "1/1 [==============================] - 0s 14ms/step\n",
            "1/1 [==============================] - 0s 14ms/step\n",
            "5/5 [==============================] - 0s 3ms/step\n",
            "3/3 [==============================] - 0s 3ms/step\n",
            "5/5 [==============================] - 0s 3ms/step\n",
            "1/1 [==============================] - 0s 13ms/step\n",
            "1/1 [==============================] - 0s 13ms/step\n",
            "9/9 [==============================] - 0s 3ms/step\n",
            "1/1 [==============================] - 0s 15ms/step\n",
            "1/1 [==============================] - 0s 14ms/step\n",
            "4/4 [==============================] - 0s 4ms/step\n",
            "2/2 [==============================] - 0s 3ms/step\n",
            "1/1 [==============================] - 0s 13ms/step\n",
            "1/1 [==============================] - 0s 14ms/step\n",
            "6/6 [==============================] - 0s 4ms/step\n"
          ]
        }
      ],
      "source": [
        "res = []\n",
        "for d in experimental_data:\n",
        "    d = dt.AveragePooling(ksize=(1, 2, 2, 1))(d)._value\n",
        "    \n",
        "    if np.mean(d[..., 0]) < 0.5:\n",
        "        d[..., 0] += 1\n",
        "    preds = model.predict_and_pool(np.array(d))\n",
        "    res.append(preds)"
      ]
    },
    {
      "cell_type": "code",
      "execution_count": 9,
      "id": "c798d764",
      "metadata": {
        "execution": {
          "iopub.execute_input": "2022-06-30T10:06:23.633686Z",
          "iopub.status.busy": "2022-06-30T10:06:23.633686Z",
          "iopub.status.idle": "2022-06-30T10:06:23.745187Z",
          "shell.execute_reply": "2022-06-30T10:06:23.744685Z"
        }
      },
      "outputs": [
        {
          "data": {
            "image/png": "[encoded data removed]",
            "text/plain": [
              "<Figure size 432x288 with 1 Axes>"
            ]
          },
          "metadata": {
            "needs_background": "light"
          },
          "output_type": "display_data"
        }
      ],
      "source": [
        "out2 = []\n",
        "for d in res:\n",
        "    out2.append(np.mean(d[:, 2]))\n",
        "out2 = np.exp(out2)\n",
        "out2 = out2 / np.quantile(out2, 0.95)\n",
        "\n",
        "plt.hist(out2, 30)\n",
        "\n",
        "outa = np.zeros((0,))\n",
        "outb = np.zeros((0,))\n",
        "for d, o0 in zip(res, out2):\n",
        "    vals = dt.convolve(d[:, 2], np.ones((15,))/15)[::15]\n",
        "    if 1.3 > o0 > 0.7:\n",
        "        outa = np.concatenate((outa, vals), axis=0)\n",
        "    if o0 < 0.4:\n",
        "        outb = np.concatenate((outb, vals), axis=0)\n",
        "outa = np.exp(outa)\n",
        "outb = np.exp(outb)\n"
      ]
    },
    {
      "cell_type": "code",
      "execution_count": 10,
      "id": "e779bb52",
      "metadata": {
        "execution": {
          "iopub.execute_input": "2022-06-30T10:06:23.747685Z",
          "iopub.status.busy": "2022-06-30T10:06:23.747186Z",
          "iopub.status.idle": "2022-06-30T10:06:23.751186Z",
          "shell.execute_reply": "2022-06-30T10:06:23.751186Z"
        }
      },
      "outputs": [],
      "source": [
        "particle_a_ph = 0.228**3 * (1.58**2 - 1.33**2) / (1.58**2 + 1.33**2 * 2) * 1000 * 4 * np.pi\n",
        "particle_b_ph = 0.150**3 * (1.58**2 - 1.33**2) / (1.58**2 + 1.33**2 * 2) * 1000 * 4 * np.pi\n",
        "\n",
        "norm_factor = particle_a_ph / np.median(outa)"
      ]
    },
    {
      "cell_type": "code",
      "execution_count": 11,
      "id": "f97641fd",
      "metadata": {
        "execution": {
          "iopub.execute_input": "2022-06-30T10:06:23.753687Z",
          "iopub.status.busy": "2022-06-30T10:06:23.753687Z",
          "iopub.status.idle": "2022-06-30T10:06:23.974143Z",
          "shell.execute_reply": "2022-06-30T10:06:23.973642Z"
        }
      },
      "outputs": [
        {
          "data": {
            "image/png": "[encoded data removed]",
            "text/plain": [
              "<Figure size 288x288 with 1 Axes>"
            ]
          },
          "metadata": {
            "needs_background": "light"
          },
          "output_type": "display_data"
        }
      ],
      "source": [
        "import seaborn as sns\n",
        "\n",
        "plt.figure(figsize=(4, 4))\n",
        "sns.histplot(outa * norm_factor, bins=50, binrange=(0, particle_a_ph * 1.5), color=sns.color_palette(\"colorblind\")[3], alpha = .5, stat=\"probability\", element=\"step\", linewidth=2)\n",
        "sns.histplot(outb * norm_factor, bins=50, binrange=(0, particle_a_ph * 1.5), color=sns.color_palette(\"colorblind\")[4], alpha = .5, stat=\"probability\", element=\"step\", linewidth=2)\n",
        "\n",
        "plt.axvline(particle_a_ph, c=\"k\", linestyle=\"--\", linewidth=3)\n",
        "plt.axvline(particle_b_ph, c=\"k\", linestyle=\"--\", linewidth=3)\n",
        "plt.yticks([])\n",
        "# plt.xticks(np.array([0, 2, 4, 6, 8, 10, 12, 14]) * 2)\n",
        "plt.ylabel(\"\")\n",
        "# plt.ylim([0, 60])\n",
        "plt.savefig(\"fig4e.svg\", bbox_inches=\"tight\")\n"
      ]
    },
    {
      "cell_type": "code",
      "execution_count": null,
      "id": "05f4bc7e",
      "metadata": {},
      "outputs": [],
      "source": []
    }
  ],
  "metadata": {
    "interpreter": {
      "hash": "dee7c62952cd92a9f95e3a9cf2ab80d8434e980a2c662f49192ac9761f392c34"
    },
    "kernelspec": {
      "display_name": "Python 3.8.6 64-bit",
      "name": "python3"
    },
    "language_info": {
      "codemirror_mode": {
        "name": "ipython",
        "version": 3
      },
      "file_extension": ".py",
      "mimetype": "text/x-python",
      "name": "python",
      "nbconvert_exporter": "python",
      "pygments_lexer": "ipython3",
      "version": "3.10.5"
    }
  },
  "nbformat": 4,
  "nbformat_minor": 5
}
