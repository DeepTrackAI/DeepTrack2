{
 "cells": [
  {
   "cell_type": "code",
   "execution_count": 16,
   "metadata": {},
   "outputs": [
    {
     "data": {
      "text/plain": [
       "False"
      ]
     },
     "execution_count": 16,
     "metadata": {},
     "output_type": "execute_result"
    }
   ],
   "source": [
    "from deeptrack.backend import core\n",
    "\n",
    "\n",
    "dataset = core.DeepTrackDataDict()\n",
    "\n",
    "dataset.create_index((0,))\n",
    "dataset[(0,)].store({\"image\": [1, 2, 3], \"label\": 0})\n",
    "\n",
    "dataset.create_index((1,))\n",
    "dataset[(1,)].store({\"image\": [4, 5, 6], \"label\": 1})\n",
    "\n",
    "dataset[(0,)].invalidate()\n",
    "\n",
    "dataset[(1,)].validate()\n",
    "\n",
    "dataset[(0,)].is_valid()"
   ]
  },
  {
   "cell_type": "code",
   "execution_count": 22,
   "metadata": {},
   "outputs": [
    {
     "data": {
      "text/plain": [
       "dict_values([<deeptrack.backend.core.DeepTrackDataObject object at 0x29d1fd0d0>, <deeptrack.backend.core.DeepTrackDataObject object at 0x29d1fe540>])"
      ]
     },
     "execution_count": 22,
     "metadata": {},
     "output_type": "execute_result"
    }
   ],
   "source": [
    "dataset.dict.values()"
   ]
  },
  {
   "cell_type": "code",
   "execution_count": null,
   "metadata": {},
   "outputs": [],
   "source": []
  }
 ],
 "metadata": {
  "kernelspec": {
   "display_name": "py_env_dlcc",
   "language": "python",
   "name": "python3"
  },
  "language_info": {
   "codemirror_mode": {
    "name": "ipython",
    "version": 3
   },
   "file_extension": ".py",
   "mimetype": "text/x-python",
   "name": "python",
   "nbconvert_exporter": "python",
   "pygments_lexer": "ipython3",
   "version": "3.12.2"
  }
 },
 "nbformat": 4,
 "nbformat_minor": 2
}
